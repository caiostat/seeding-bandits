{
 "cells": [
  {
   "cell_type": "code",
   "execution_count": 1,
   "id": "fac2ab46",
   "metadata": {},
   "outputs": [],
   "source": [
    "import sys  \n",
    "sys.path.insert(0, '/Users/caiorego/Desktop/BDS/RA/Seeding-Bandits/')\n",
    "import numpy as np"
   ]
  },
  {
   "cell_type": "code",
   "execution_count": 2,
   "id": "4fa09494",
   "metadata": {},
   "outputs": [],
   "source": [
    "music_before = 30\n",
    "low_success = 0.25\n",
    "high_success = 0.75"
   ]
  },
  {
   "cell_type": "code",
   "execution_count": 3,
   "id": "4610eadd",
   "metadata": {},
   "outputs": [],
   "source": [
    "import src.utils\n",
    "from src.utils import import_dta, import_tracks_dta, successful_creators_followers,\\\n",
    "gen_active_relations, get_fan_interactions_per_week, calculate_avg_monthly_valence,\\\n",
    "gen_active_relations_prob, get_fan_interactions_per_week_prob, stripplot_prob,\\\n",
    "reaction_probability, follower_list, filter_quantile, sample_creators_music,\\\n",
    "gen_outbound_creators\n",
    "import datetime\n",
    "import pandas as pd\n",
    "import numpy as np\n",
    "import seaborn as sns\n",
    "import matplotlib.pyplot as plt\n",
    "from scipy.stats import mstats\n",
    "pd.plotting.register_matplotlib_converters()\n",
    "\n",
    "import src.probability_utils\n",
    "from src.probability_utils import volume_analysis, valence_analysis\n",
    "import math\n",
    "import matplotlib.ticker as plticker\n",
    "from scipy.interpolate import make_interp_spline, BSpline\n",
    "import seaborn as sns\n",
    "from datetime import datetime"
   ]
  },
  {
   "cell_type": "code",
   "execution_count": 4,
   "id": "af16a954",
   "metadata": {},
   "outputs": [],
   "source": [
    "path_dir = r\"/Users/../Volumes/Raw/\""
   ]
  },
  {
   "cell_type": "code",
   "execution_count": 5,
   "id": "04385e82",
   "metadata": {},
   "outputs": [
    {
     "name": "stdout",
     "output_type": "stream",
     "text": [
      "%%%%%%%%%% 12sample_tracks.dta %%%%%%%%%%\n",
      "(56262, 7)\n",
      "%%%%%%%%%% 12sample_affiliations_sent.dta %%%%%%%%%%\n",
      "(800913, 3)\n",
      "%%%%%%%%%% 12sample_comments_made.dta %%%%%%%%%%\n",
      "(29258, 4)\n",
      "%%%%%%%%%% 12sample_reposts_made.dta %%%%%%%%%%\n",
      "(179329, 4)\n",
      "%%%%%%%%%% 12sample_favoritings_made.dta %%%%%%%%%%\n",
      "(527701, 4)\n",
      "%%%%%%%%%% 12sample_messages_sent.dta %%%%%%%%%%\n",
      "(11091, 3)\n",
      "%%%%%%%%%% 12sample_user_infos.dta %%%%%%%%%%\n",
      "(35000, 3)\n",
      "%%%%%%%%%% 12sample_1st_deg_user_infos.dta %%%%%%%%%%\n",
      "(670746, 3)\n",
      "%%%%%%%%%% 12sample_affiliations_received.dta %%%%%%%%%%\n",
      "(432503, 3)\n",
      "%%%%%%%%%% 12sample_comments_received.dta %%%%%%%%%%\n",
      "(21386, 4)\n",
      "%%%%%%%%%% 12sample_reposts_received.dta %%%%%%%%%%\n",
      "(83013, 4)\n",
      "%%%%%%%%%% 12sample_favoritings_received.dta %%%%%%%%%%\n",
      "(286903, 4)\n",
      "%%%%%%%%%% 12sample_messages_received.dta %%%%%%%%%%\n",
      "(17364, 3)\n",
      "%%%%%%%%%% 12sample_affiliations.dta %%%%%%%%%%\n",
      "(1233416, 3)\n",
      "%%%%%%%%%% 12sample_comments.dta %%%%%%%%%%\n",
      "(50644, 4)\n",
      "%%%%%%%%%% 12sample_reposts.dta %%%%%%%%%%\n",
      "(262342, 4)\n",
      "%%%%%%%%%% 12sample_favoritings.dta %%%%%%%%%%\n",
      "(814604, 4)\n",
      "%%%%%%%%%% 12sample_messages.dta %%%%%%%%%%\n",
      "(28455, 3)\n",
      "2018-02-03 00:00:00\n",
      "2018-02-03 00:00:00\n",
      "High influencer boundary: 31.0\n",
      "Low influencer boundary: 4.0\n"
     ]
    }
   ],
   "source": [
    "#we will skip comments for now\n",
    "\n",
    "#affiliations :follows\n",
    "#favoritings :likes\n",
    "\n",
    "tracks = import_tracks_dta(path_dir, \"12sample_tracks.dta\");\n",
    "follows_sent = import_dta(path_dir, \"12sample_affiliations_sent.dta\");\n",
    "comments_sent = import_dta(path_dir, \"12sample_comments_made.dta\");\n",
    "shares_sent = import_dta(path_dir, \"12sample_reposts_made.dta\");\n",
    "likes_sent = import_dta(path_dir, \"12sample_favoritings_made.dta\");\n",
    "messages_sent = import_dta(path_dir, \"12sample_messages_sent.dta\");\n",
    "\n",
    "user_info = import_dta(path_dir, \"12sample_user_infos.dta\");\n",
    "user_info_2 = import_dta(path_dir, \"12sample_1st_deg_user_infos.dta\");\n",
    "user_info = pd.concat([user_info, user_info_2]);\n",
    "user_info.drop_duplicates(subset='user_id', keep='first', inplace=False, ignore_index=False);\n",
    "\n",
    "\n",
    "########\n",
    "follows_received = import_dta(path_dir, \"12sample_affiliations_received.dta\");\n",
    "comments_received = import_dta(path_dir, \"12sample_comments_received.dta\");\n",
    "shares_received = import_dta(path_dir, \"12sample_reposts_received.dta\");\n",
    "likes_received = import_dta(path_dir, \"12sample_favoritings_received.dta\");\n",
    "messages_received = import_dta(path_dir, \"12sample_messages_received.dta\");\n",
    "\n",
    "########\n",
    "follows = import_dta(path_dir, \"12sample_affiliations.dta\");\n",
    "comments = import_dta(path_dir, \"12sample_comments.dta\");\n",
    "shares = import_dta(path_dir, \"12sample_reposts.dta\");\n",
    "likes = import_dta(path_dir, \"12sample_favoritings.dta\");\n",
    "messages = import_dta(path_dir, \"12sample_messages.dta\");\n",
    "\n",
    "tracks_first_month = sample_creators_music(tracks, music_before)\n",
    "\n",
    "mask = follows_received.contact_id.isin(tracks_first_month.user_id)\n",
    "follows_received_30 = follows_received[mask]\n",
    "followers_per_creator_60 = successful_creators_followers(follows_received_30, 60)\n",
    "followers_per_creator_60_static = successful_creators_followers(follows_received_30, 60, always_same_batches = True, \n",
    "                                                        perc1 = low_success, perc2 = high_success)"
   ]
  },
  {
   "cell_type": "code",
   "execution_count": 6,
   "id": "98af0f0c",
   "metadata": {},
   "outputs": [],
   "source": [
    "actions_sent = gen_outbound_creators(follows_sent, shares_sent, likes_sent, comments_sent, tracks,\n",
    "                                     messages_sent = messages_sent, filter_creators = False)"
   ]
  },
  {
   "cell_type": "code",
   "execution_count": 7,
   "id": "9cad0566",
   "metadata": {},
   "outputs": [
    {
     "data": {
      "text/plain": [
       "(1540549, 7)"
      ]
     },
     "execution_count": 7,
     "metadata": {},
     "output_type": "execute_result"
    }
   ],
   "source": [
    "actions_sent.shape"
   ]
  },
  {
   "cell_type": "code",
   "execution_count": 8,
   "id": "599d00cb",
   "metadata": {},
   "outputs": [],
   "source": [
    "actions_sent = actions_sent.merge(followers_per_creator_60_static, left_on = 'user_id', right_on = 'user_id', how = \"inner\")"
   ]
  },
  {
   "cell_type": "code",
   "execution_count": 9,
   "id": "fa756495",
   "metadata": {},
   "outputs": [],
   "source": [
    "actions_sent = actions_sent.merge(user_info, left_on = 'user_id', right_on = 'user_id')\n",
    "actions_sent = actions_sent.merge(user_info[['user_id', 'type']], left_on = 'fan_id', right_on = 'user_id', suffixes = [\"\", \"_fan\"], how = 'left')\n",
    "mask = actions_sent.type == 'creator'\n",
    "actions_sent =  actions_sent[mask]"
   ]
  },
  {
   "cell_type": "code",
   "execution_count": 10,
   "id": "f8604c2a",
   "metadata": {},
   "outputs": [
    {
     "data": {
      "text/plain": [
       "creator    232753\n",
       "Name: type, dtype: int64"
      ]
     },
     "execution_count": 10,
     "metadata": {},
     "output_type": "execute_result"
    }
   ],
   "source": [
    "actions_sent.type.value_counts()"
   ]
  },
  {
   "cell_type": "code",
   "execution_count": 11,
   "id": "dfc4dae4",
   "metadata": {},
   "outputs": [
    {
     "data": {
      "text/html": [
       "<div>\n",
       "<style scoped>\n",
       "    .dataframe tbody tr th:only-of-type {\n",
       "        vertical-align: middle;\n",
       "    }\n",
       "\n",
       "    .dataframe tbody tr th {\n",
       "        vertical-align: top;\n",
       "    }\n",
       "\n",
       "    .dataframe thead th {\n",
       "        text-align: right;\n",
       "    }\n",
       "</style>\n",
       "<table border=\"1\" class=\"dataframe\">\n",
       "  <thead>\n",
       "    <tr style=\"text-align: right;\">\n",
       "      <th></th>\n",
       "      <th>avg_followers</th>\n",
       "    </tr>\n",
       "    <tr>\n",
       "      <th>high_low</th>\n",
       "      <th></th>\n",
       "    </tr>\n",
       "  </thead>\n",
       "  <tbody>\n",
       "    <tr>\n",
       "      <th>high</th>\n",
       "      <td>153.869263</td>\n",
       "    </tr>\n",
       "    <tr>\n",
       "      <th>low</th>\n",
       "      <td>2.070111</td>\n",
       "    </tr>\n",
       "  </tbody>\n",
       "</table>\n",
       "</div>"
      ],
      "text/plain": [
       "          avg_followers\n",
       "high_low               \n",
       "high         153.869263\n",
       "low            2.070111"
      ]
     },
     "execution_count": 11,
     "metadata": {},
     "output_type": "execute_result"
    }
   ],
   "source": [
    "followers_per_creator_60_static.groupby(\"high_low\").agg(avg_followers = ('followers', 'mean'))"
   ]
  },
  {
   "cell_type": "code",
   "execution_count": 12,
   "id": "95cafdbf",
   "metadata": {},
   "outputs": [
    {
     "data": {
      "text/html": [
       "<div>\n",
       "<style scoped>\n",
       "    .dataframe tbody tr th:only-of-type {\n",
       "        vertical-align: middle;\n",
       "    }\n",
       "\n",
       "    .dataframe tbody tr th {\n",
       "        vertical-align: top;\n",
       "    }\n",
       "\n",
       "    .dataframe thead th {\n",
       "        text-align: right;\n",
       "    }\n",
       "</style>\n",
       "<table border=\"1\" class=\"dataframe\">\n",
       "  <thead>\n",
       "    <tr style=\"text-align: right;\">\n",
       "      <th></th>\n",
       "      <th>avg_followers</th>\n",
       "    </tr>\n",
       "    <tr>\n",
       "      <th>high_low</th>\n",
       "      <th></th>\n",
       "    </tr>\n",
       "  </thead>\n",
       "  <tbody>\n",
       "    <tr>\n",
       "      <th>high</th>\n",
       "      <td>110632</td>\n",
       "    </tr>\n",
       "    <tr>\n",
       "      <th>low</th>\n",
       "      <td>1683</td>\n",
       "    </tr>\n",
       "  </tbody>\n",
       "</table>\n",
       "</div>"
      ],
      "text/plain": [
       "          avg_followers\n",
       "high_low               \n",
       "high             110632\n",
       "low                1683"
      ]
     },
     "execution_count": 12,
     "metadata": {},
     "output_type": "execute_result"
    }
   ],
   "source": [
    "followers_per_creator_60_static.groupby(\"high_low\").agg(avg_followers = ('followers', 'sum'))"
   ]
  },
  {
   "cell_type": "code",
   "execution_count": 13,
   "id": "e8e450b7",
   "metadata": {},
   "outputs": [
    {
     "data": {
      "text/html": [
       "<div>\n",
       "<style scoped>\n",
       "    .dataframe tbody tr th:only-of-type {\n",
       "        vertical-align: middle;\n",
       "    }\n",
       "\n",
       "    .dataframe tbody tr th {\n",
       "        vertical-align: top;\n",
       "    }\n",
       "\n",
       "    .dataframe thead th {\n",
       "        text-align: right;\n",
       "    }\n",
       "</style>\n",
       "<table border=\"1\" class=\"dataframe\">\n",
       "  <thead>\n",
       "    <tr style=\"text-align: right;\">\n",
       "      <th></th>\n",
       "      <th>followers</th>\n",
       "    </tr>\n",
       "  </thead>\n",
       "  <tbody>\n",
       "    <tr>\n",
       "      <th>avg_followers</th>\n",
       "      <td>73.312663</td>\n",
       "    </tr>\n",
       "  </tbody>\n",
       "</table>\n",
       "</div>"
      ],
      "text/plain": [
       "               followers\n",
       "avg_followers  73.312663"
      ]
     },
     "execution_count": 13,
     "metadata": {},
     "output_type": "execute_result"
    }
   ],
   "source": [
    "followers_per_creator_60_static.agg(avg_followers = ('followers', 'mean'))"
   ]
  },
  {
   "cell_type": "code",
   "execution_count": 14,
   "id": "63fa62a7",
   "metadata": {},
   "outputs": [
    {
     "data": {
      "text/html": [
       "<div>\n",
       "<style scoped>\n",
       "    .dataframe tbody tr th:only-of-type {\n",
       "        vertical-align: middle;\n",
       "    }\n",
       "\n",
       "    .dataframe tbody tr th {\n",
       "        vertical-align: top;\n",
       "    }\n",
       "\n",
       "    .dataframe thead th {\n",
       "        text-align: right;\n",
       "    }\n",
       "</style>\n",
       "<table border=\"1\" class=\"dataframe\">\n",
       "  <thead>\n",
       "    <tr style=\"text-align: right;\">\n",
       "      <th></th>\n",
       "      <th>followers</th>\n",
       "    </tr>\n",
       "  </thead>\n",
       "  <tbody>\n",
       "    <tr>\n",
       "      <th>avg_followers</th>\n",
       "      <td>112315</td>\n",
       "    </tr>\n",
       "  </tbody>\n",
       "</table>\n",
       "</div>"
      ],
      "text/plain": [
       "               followers\n",
       "avg_followers     112315"
      ]
     },
     "execution_count": 14,
     "metadata": {},
     "output_type": "execute_result"
    }
   ],
   "source": [
    "followers_per_creator_60_static.agg(avg_followers = ('followers', 'sum'))"
   ]
  },
  {
   "cell_type": "code",
   "execution_count": 15,
   "id": "430e0d7c",
   "metadata": {},
   "outputs": [],
   "source": [
    "actions_sent[\"type\"] = actions_sent.type.apply(lambda x: \"user\" if x != \"creator\" else x)"
   ]
  },
  {
   "cell_type": "code",
   "execution_count": 16,
   "id": "6ce69aa8",
   "metadata": {},
   "outputs": [
    {
     "data": {
      "text/plain": [
       "high_low\n",
       "high    719\n",
       "low     813\n",
       "Name: user_id, dtype: int64"
      ]
     },
     "execution_count": 16,
     "metadata": {},
     "output_type": "execute_result"
    }
   ],
   "source": [
    "followers_per_creator_60_static.groupby(\"high_low\").user_id.nunique()"
   ]
  },
  {
   "cell_type": "code",
   "execution_count": 17,
   "id": "26e3a6c8",
   "metadata": {},
   "outputs": [
    {
     "data": {
      "text/plain": [
       "1532"
      ]
     },
     "execution_count": 17,
     "metadata": {},
     "output_type": "execute_result"
    }
   ],
   "source": [
    "followers_per_creator_60_static.user_id.nunique()"
   ]
  },
  {
   "cell_type": "markdown",
   "id": "fc71b9dc",
   "metadata": {},
   "source": [
    "# All"
   ]
  },
  {
   "cell_type": "code",
   "execution_count": 18,
   "id": "7ddf62dc",
   "metadata": {},
   "outputs": [],
   "source": [
    "table_all = actions_sent.\\\n",
    "groupby([\"high_low\",\"outbound_activity\"], as_index = False).agg(interactions = ('user_id','count'))\n",
    "\n",
    "tab = actions_sent.groupby('high_low', as_index = False).nunique()\n",
    "\n",
    "tab.loc[tab.type == 'user', 'user_id']\n",
    "\n",
    "table_all.loc[table_all.high_low == 'high','unique_users'] = 719#tab.loc[tab.high_low == 'high', 'user_id'][0]\n",
    "table_all.loc[table_all.high_low == 'low','unique_users'] = 813#tab.loc[tab.high_low == 'low', 'user_id'][1]\n",
    "\n",
    "\n",
    "table_all['avg_reaction'] = round(table_all.interactions/table_all.unique_users,2)"
   ]
  },
  {
   "cell_type": "code",
   "execution_count": 19,
   "id": "9649ff0d",
   "metadata": {},
   "outputs": [
    {
     "data": {
      "text/html": [
       "<div>\n",
       "<style scoped>\n",
       "    .dataframe tbody tr th:only-of-type {\n",
       "        vertical-align: middle;\n",
       "    }\n",
       "\n",
       "    .dataframe tbody tr th {\n",
       "        vertical-align: top;\n",
       "    }\n",
       "\n",
       "    .dataframe thead th {\n",
       "        text-align: right;\n",
       "    }\n",
       "</style>\n",
       "<table border=\"1\" class=\"dataframe\">\n",
       "  <thead>\n",
       "    <tr style=\"text-align: right;\">\n",
       "      <th></th>\n",
       "      <th>high_low</th>\n",
       "      <th>outbound_activity</th>\n",
       "      <th>interactions</th>\n",
       "      <th>unique_users</th>\n",
       "      <th>avg_reaction</th>\n",
       "    </tr>\n",
       "  </thead>\n",
       "  <tbody>\n",
       "    <tr>\n",
       "      <th>0</th>\n",
       "      <td>high</td>\n",
       "      <td>comment</td>\n",
       "      <td>7027</td>\n",
       "      <td>719.0</td>\n",
       "      <td>9.77</td>\n",
       "    </tr>\n",
       "    <tr>\n",
       "      <th>1</th>\n",
       "      <td>high</td>\n",
       "      <td>follow</td>\n",
       "      <td>135357</td>\n",
       "      <td>719.0</td>\n",
       "      <td>188.26</td>\n",
       "    </tr>\n",
       "    <tr>\n",
       "      <th>2</th>\n",
       "      <td>high</td>\n",
       "      <td>like</td>\n",
       "      <td>49981</td>\n",
       "      <td>719.0</td>\n",
       "      <td>69.51</td>\n",
       "    </tr>\n",
       "    <tr>\n",
       "      <th>3</th>\n",
       "      <td>high</td>\n",
       "      <td>message</td>\n",
       "      <td>9658</td>\n",
       "      <td>719.0</td>\n",
       "      <td>13.43</td>\n",
       "    </tr>\n",
       "    <tr>\n",
       "      <th>4</th>\n",
       "      <td>high</td>\n",
       "      <td>share</td>\n",
       "      <td>19202</td>\n",
       "      <td>719.0</td>\n",
       "      <td>26.71</td>\n",
       "    </tr>\n",
       "    <tr>\n",
       "      <th>5</th>\n",
       "      <td>low</td>\n",
       "      <td>comment</td>\n",
       "      <td>221</td>\n",
       "      <td>813.0</td>\n",
       "      <td>0.27</td>\n",
       "    </tr>\n",
       "    <tr>\n",
       "      <th>6</th>\n",
       "      <td>low</td>\n",
       "      <td>follow</td>\n",
       "      <td>9047</td>\n",
       "      <td>813.0</td>\n",
       "      <td>11.13</td>\n",
       "    </tr>\n",
       "    <tr>\n",
       "      <th>7</th>\n",
       "      <td>low</td>\n",
       "      <td>like</td>\n",
       "      <td>1566</td>\n",
       "      <td>813.0</td>\n",
       "      <td>1.93</td>\n",
       "    </tr>\n",
       "    <tr>\n",
       "      <th>8</th>\n",
       "      <td>low</td>\n",
       "      <td>message</td>\n",
       "      <td>49</td>\n",
       "      <td>813.0</td>\n",
       "      <td>0.06</td>\n",
       "    </tr>\n",
       "    <tr>\n",
       "      <th>9</th>\n",
       "      <td>low</td>\n",
       "      <td>share</td>\n",
       "      <td>645</td>\n",
       "      <td>813.0</td>\n",
       "      <td>0.79</td>\n",
       "    </tr>\n",
       "  </tbody>\n",
       "</table>\n",
       "</div>"
      ],
      "text/plain": [
       "  high_low outbound_activity  interactions  unique_users  avg_reaction\n",
       "0     high           comment          7027         719.0          9.77\n",
       "1     high            follow        135357         719.0        188.26\n",
       "2     high              like         49981         719.0         69.51\n",
       "3     high           message          9658         719.0         13.43\n",
       "4     high             share         19202         719.0         26.71\n",
       "5      low           comment           221         813.0          0.27\n",
       "6      low            follow          9047         813.0         11.13\n",
       "7      low              like          1566         813.0          1.93\n",
       "8      low           message            49         813.0          0.06\n",
       "9      low             share           645         813.0          0.79"
      ]
     },
     "execution_count": 19,
     "metadata": {},
     "output_type": "execute_result"
    }
   ],
   "source": [
    "table_all"
   ]
  },
  {
   "cell_type": "code",
   "execution_count": 20,
   "id": "d3552a6f",
   "metadata": {},
   "outputs": [],
   "source": [
    "table_all = actions_sent.\\\n",
    "groupby([\"outbound_activity\"], as_index = False).agg(interactions = ('user_id','count'))\n",
    "\n",
    "\n",
    "table_all[\"unique_users\"] = 1532#actions_sent.user_id.nunique()\n",
    "\n",
    "table_all['avg_reaction'] = round(table_all.interactions/table_all.unique_users,2)"
   ]
  },
  {
   "cell_type": "code",
   "execution_count": 21,
   "id": "1ffa68bc",
   "metadata": {},
   "outputs": [
    {
     "data": {
      "text/html": [
       "<div>\n",
       "<style scoped>\n",
       "    .dataframe tbody tr th:only-of-type {\n",
       "        vertical-align: middle;\n",
       "    }\n",
       "\n",
       "    .dataframe tbody tr th {\n",
       "        vertical-align: top;\n",
       "    }\n",
       "\n",
       "    .dataframe thead th {\n",
       "        text-align: right;\n",
       "    }\n",
       "</style>\n",
       "<table border=\"1\" class=\"dataframe\">\n",
       "  <thead>\n",
       "    <tr style=\"text-align: right;\">\n",
       "      <th></th>\n",
       "      <th>outbound_activity</th>\n",
       "      <th>interactions</th>\n",
       "      <th>unique_users</th>\n",
       "      <th>avg_reaction</th>\n",
       "    </tr>\n",
       "  </thead>\n",
       "  <tbody>\n",
       "    <tr>\n",
       "      <th>0</th>\n",
       "      <td>comment</td>\n",
       "      <td>7248</td>\n",
       "      <td>1532</td>\n",
       "      <td>4.73</td>\n",
       "    </tr>\n",
       "    <tr>\n",
       "      <th>1</th>\n",
       "      <td>follow</td>\n",
       "      <td>144404</td>\n",
       "      <td>1532</td>\n",
       "      <td>94.26</td>\n",
       "    </tr>\n",
       "    <tr>\n",
       "      <th>2</th>\n",
       "      <td>like</td>\n",
       "      <td>51547</td>\n",
       "      <td>1532</td>\n",
       "      <td>33.65</td>\n",
       "    </tr>\n",
       "    <tr>\n",
       "      <th>3</th>\n",
       "      <td>message</td>\n",
       "      <td>9707</td>\n",
       "      <td>1532</td>\n",
       "      <td>6.34</td>\n",
       "    </tr>\n",
       "    <tr>\n",
       "      <th>4</th>\n",
       "      <td>share</td>\n",
       "      <td>19847</td>\n",
       "      <td>1532</td>\n",
       "      <td>12.95</td>\n",
       "    </tr>\n",
       "  </tbody>\n",
       "</table>\n",
       "</div>"
      ],
      "text/plain": [
       "  outbound_activity  interactions  unique_users  avg_reaction\n",
       "0           comment          7248          1532          4.73\n",
       "1            follow        144404          1532         94.26\n",
       "2              like         51547          1532         33.65\n",
       "3           message          9707          1532          6.34\n",
       "4             share         19847          1532         12.95"
      ]
     },
     "execution_count": 21,
     "metadata": {},
     "output_type": "execute_result"
    }
   ],
   "source": [
    "table_all"
   ]
  },
  {
   "cell_type": "markdown",
   "id": "4214d964",
   "metadata": {},
   "source": [
    "## Creator x Creator"
   ]
  },
  {
   "cell_type": "code",
   "execution_count": 22,
   "id": "931ccec6",
   "metadata": {},
   "outputs": [],
   "source": [
    "mask = actions_sent.type_fan != 'creator'\n",
    "actions_sent_filt = actions_sent[mask]\n",
    "table_all = actions_sent_filt.\\\n",
    "groupby([\"high_low\",\"outbound_activity\"], as_index = False).agg(interactions = ('user_id','count'))\n",
    "\n",
    "tab = actions_sent_filt.groupby('high_low', as_index = False).nunique()\n",
    "\n",
    "tab.loc[tab.type == 'user', 'user_id']\n",
    "\n",
    "table_all.loc[table_all.high_low == 'high','unique_users'] = 719#tab.loc[tab.high_low == 'high', 'user_id'][0]\n",
    "table_all.loc[table_all.high_low == 'low','unique_users'] = 813#tab.loc[tab.high_low == 'low', 'user_id'][1]\n",
    "\n",
    "\n",
    "table_all['avg_reaction'] = round(table_all.interactions/table_all.unique_users,2)"
   ]
  },
  {
   "cell_type": "code",
   "execution_count": 23,
   "id": "fe4a514c",
   "metadata": {},
   "outputs": [
    {
     "data": {
      "text/html": [
       "<div>\n",
       "<style scoped>\n",
       "    .dataframe tbody tr th:only-of-type {\n",
       "        vertical-align: middle;\n",
       "    }\n",
       "\n",
       "    .dataframe tbody tr th {\n",
       "        vertical-align: top;\n",
       "    }\n",
       "\n",
       "    .dataframe thead th {\n",
       "        text-align: right;\n",
       "    }\n",
       "</style>\n",
       "<table border=\"1\" class=\"dataframe\">\n",
       "  <thead>\n",
       "    <tr style=\"text-align: right;\">\n",
       "      <th></th>\n",
       "      <th>high_low</th>\n",
       "      <th>outbound_activity</th>\n",
       "      <th>interactions</th>\n",
       "      <th>unique_users</th>\n",
       "      <th>avg_reaction</th>\n",
       "    </tr>\n",
       "  </thead>\n",
       "  <tbody>\n",
       "    <tr>\n",
       "      <th>0</th>\n",
       "      <td>high</td>\n",
       "      <td>comment</td>\n",
       "      <td>669</td>\n",
       "      <td>719.0</td>\n",
       "      <td>0.93</td>\n",
       "    </tr>\n",
       "    <tr>\n",
       "      <th>1</th>\n",
       "      <td>high</td>\n",
       "      <td>follow</td>\n",
       "      <td>32919</td>\n",
       "      <td>719.0</td>\n",
       "      <td>45.78</td>\n",
       "    </tr>\n",
       "    <tr>\n",
       "      <th>2</th>\n",
       "      <td>high</td>\n",
       "      <td>like</td>\n",
       "      <td>7449</td>\n",
       "      <td>719.0</td>\n",
       "      <td>10.36</td>\n",
       "    </tr>\n",
       "    <tr>\n",
       "      <th>3</th>\n",
       "      <td>high</td>\n",
       "      <td>message</td>\n",
       "      <td>1797</td>\n",
       "      <td>719.0</td>\n",
       "      <td>2.50</td>\n",
       "    </tr>\n",
       "    <tr>\n",
       "      <th>4</th>\n",
       "      <td>high</td>\n",
       "      <td>share</td>\n",
       "      <td>2835</td>\n",
       "      <td>719.0</td>\n",
       "      <td>3.94</td>\n",
       "    </tr>\n",
       "    <tr>\n",
       "      <th>5</th>\n",
       "      <td>low</td>\n",
       "      <td>comment</td>\n",
       "      <td>75</td>\n",
       "      <td>813.0</td>\n",
       "      <td>0.09</td>\n",
       "    </tr>\n",
       "    <tr>\n",
       "      <th>6</th>\n",
       "      <td>low</td>\n",
       "      <td>follow</td>\n",
       "      <td>797</td>\n",
       "      <td>813.0</td>\n",
       "      <td>0.98</td>\n",
       "    </tr>\n",
       "    <tr>\n",
       "      <th>7</th>\n",
       "      <td>low</td>\n",
       "      <td>like</td>\n",
       "      <td>540</td>\n",
       "      <td>813.0</td>\n",
       "      <td>0.66</td>\n",
       "    </tr>\n",
       "    <tr>\n",
       "      <th>8</th>\n",
       "      <td>low</td>\n",
       "      <td>message</td>\n",
       "      <td>32</td>\n",
       "      <td>813.0</td>\n",
       "      <td>0.04</td>\n",
       "    </tr>\n",
       "    <tr>\n",
       "      <th>9</th>\n",
       "      <td>low</td>\n",
       "      <td>share</td>\n",
       "      <td>271</td>\n",
       "      <td>813.0</td>\n",
       "      <td>0.33</td>\n",
       "    </tr>\n",
       "  </tbody>\n",
       "</table>\n",
       "</div>"
      ],
      "text/plain": [
       "  high_low outbound_activity  interactions  unique_users  avg_reaction\n",
       "0     high           comment           669         719.0          0.93\n",
       "1     high            follow         32919         719.0         45.78\n",
       "2     high              like          7449         719.0         10.36\n",
       "3     high           message          1797         719.0          2.50\n",
       "4     high             share          2835         719.0          3.94\n",
       "5      low           comment            75         813.0          0.09\n",
       "6      low            follow           797         813.0          0.98\n",
       "7      low              like           540         813.0          0.66\n",
       "8      low           message            32         813.0          0.04\n",
       "9      low             share           271         813.0          0.33"
      ]
     },
     "execution_count": 23,
     "metadata": {},
     "output_type": "execute_result"
    }
   ],
   "source": [
    "table_all"
   ]
  },
  {
   "cell_type": "code",
   "execution_count": 24,
   "id": "320933c3",
   "metadata": {},
   "outputs": [
    {
     "data": {
      "text/html": [
       "<div>\n",
       "<style scoped>\n",
       "    .dataframe tbody tr th:only-of-type {\n",
       "        vertical-align: middle;\n",
       "    }\n",
       "\n",
       "    .dataframe tbody tr th {\n",
       "        vertical-align: top;\n",
       "    }\n",
       "\n",
       "    .dataframe thead th {\n",
       "        text-align: right;\n",
       "    }\n",
       "</style>\n",
       "<table border=\"1\" class=\"dataframe\">\n",
       "  <thead>\n",
       "    <tr style=\"text-align: right;\">\n",
       "      <th></th>\n",
       "      <th>outbound_activity</th>\n",
       "      <th>interactions</th>\n",
       "      <th>unique_users</th>\n",
       "      <th>avg_reaction</th>\n",
       "    </tr>\n",
       "  </thead>\n",
       "  <tbody>\n",
       "    <tr>\n",
       "      <th>0</th>\n",
       "      <td>comment</td>\n",
       "      <td>744</td>\n",
       "      <td>1532</td>\n",
       "      <td>0.49</td>\n",
       "    </tr>\n",
       "    <tr>\n",
       "      <th>1</th>\n",
       "      <td>follow</td>\n",
       "      <td>33716</td>\n",
       "      <td>1532</td>\n",
       "      <td>22.01</td>\n",
       "    </tr>\n",
       "    <tr>\n",
       "      <th>2</th>\n",
       "      <td>like</td>\n",
       "      <td>7989</td>\n",
       "      <td>1532</td>\n",
       "      <td>5.21</td>\n",
       "    </tr>\n",
       "    <tr>\n",
       "      <th>3</th>\n",
       "      <td>message</td>\n",
       "      <td>1829</td>\n",
       "      <td>1532</td>\n",
       "      <td>1.19</td>\n",
       "    </tr>\n",
       "    <tr>\n",
       "      <th>4</th>\n",
       "      <td>share</td>\n",
       "      <td>3106</td>\n",
       "      <td>1532</td>\n",
       "      <td>2.03</td>\n",
       "    </tr>\n",
       "  </tbody>\n",
       "</table>\n",
       "</div>"
      ],
      "text/plain": [
       "  outbound_activity  interactions  unique_users  avg_reaction\n",
       "0           comment           744          1532          0.49\n",
       "1            follow         33716          1532         22.01\n",
       "2              like          7989          1532          5.21\n",
       "3           message          1829          1532          1.19\n",
       "4             share          3106          1532          2.03"
      ]
     },
     "execution_count": 24,
     "metadata": {},
     "output_type": "execute_result"
    }
   ],
   "source": [
    "mask = actions_sent.type_fan != 'creator'\n",
    "actions_sent_filt = actions_sent[mask]\n",
    "\n",
    "table_all = actions_sent_filt.\\\n",
    "groupby([\"outbound_activity\"], as_index = False).agg(interactions = ('user_id','count'))\n",
    "\n",
    "\n",
    "table_all[\"unique_users\"] = 1532#actions_sent.user_id.nunique()\n",
    "\n",
    "table_all['avg_reaction'] = round(table_all.interactions/table_all.unique_users,2)\n",
    "table_all"
   ]
  },
  {
   "cell_type": "code",
   "execution_count": 25,
   "id": "6502e4f4",
   "metadata": {},
   "outputs": [
    {
     "data": {
      "text/html": [
       "<div>\n",
       "<style scoped>\n",
       "    .dataframe tbody tr th:only-of-type {\n",
       "        vertical-align: middle;\n",
       "    }\n",
       "\n",
       "    .dataframe tbody tr th {\n",
       "        vertical-align: top;\n",
       "    }\n",
       "\n",
       "    .dataframe thead th {\n",
       "        text-align: right;\n",
       "    }\n",
       "</style>\n",
       "<table border=\"1\" class=\"dataframe\">\n",
       "  <thead>\n",
       "    <tr style=\"text-align: right;\">\n",
       "      <th></th>\n",
       "      <th>user_id</th>\n",
       "      <th>type</th>\n",
       "      <th>created_at</th>\n",
       "    </tr>\n",
       "  </thead>\n",
       "  <tbody>\n",
       "    <tr>\n",
       "      <th>119</th>\n",
       "      <td>37981334</td>\n",
       "      <td></td>\n",
       "      <td>2013-03-02 14:43:16</td>\n",
       "    </tr>\n",
       "    <tr>\n",
       "      <th>191</th>\n",
       "      <td>38107144</td>\n",
       "      <td></td>\n",
       "      <td>2013-03-03 16:45:47</td>\n",
       "    </tr>\n",
       "    <tr>\n",
       "      <th>192</th>\n",
       "      <td>38108983</td>\n",
       "      <td></td>\n",
       "      <td>2013-03-03 17:13:16</td>\n",
       "    </tr>\n",
       "    <tr>\n",
       "      <th>310</th>\n",
       "      <td>38234913</td>\n",
       "      <td>creator</td>\n",
       "      <td>2013-03-05 01:21:57</td>\n",
       "    </tr>\n",
       "    <tr>\n",
       "      <th>325</th>\n",
       "      <td>38247599</td>\n",
       "      <td></td>\n",
       "      <td>2013-03-05 04:45:40</td>\n",
       "    </tr>\n",
       "    <tr>\n",
       "      <th>...</th>\n",
       "      <td>...</td>\n",
       "      <td>...</td>\n",
       "      <td>...</td>\n",
       "    </tr>\n",
       "    <tr>\n",
       "      <th>670741</th>\n",
       "      <td>160366917</td>\n",
       "      <td></td>\n",
       "      <td>2015-06-29 03:51:08</td>\n",
       "    </tr>\n",
       "    <tr>\n",
       "      <th>670742</th>\n",
       "      <td>160556475</td>\n",
       "      <td></td>\n",
       "      <td>2015-06-30 10:02:16</td>\n",
       "    </tr>\n",
       "    <tr>\n",
       "      <th>670743</th>\n",
       "      <td>160592014</td>\n",
       "      <td></td>\n",
       "      <td>2015-06-30 15:48:27</td>\n",
       "    </tr>\n",
       "    <tr>\n",
       "      <th>670744</th>\n",
       "      <td>160615335</td>\n",
       "      <td></td>\n",
       "      <td>2015-06-30 18:37:51</td>\n",
       "    </tr>\n",
       "    <tr>\n",
       "      <th>670745</th>\n",
       "      <td>160636803</td>\n",
       "      <td></td>\n",
       "      <td>2015-06-30 21:05:39</td>\n",
       "    </tr>\n",
       "  </tbody>\n",
       "</table>\n",
       "<p>671192 rows × 3 columns</p>\n",
       "</div>"
      ],
      "text/plain": [
       "          user_id     type          created_at\n",
       "119      37981334          2013-03-02 14:43:16\n",
       "191      38107144          2013-03-03 16:45:47\n",
       "192      38108983          2013-03-03 17:13:16\n",
       "310      38234913  creator 2013-03-05 01:21:57\n",
       "325      38247599          2013-03-05 04:45:40\n",
       "...           ...      ...                 ...\n",
       "670741  160366917          2015-06-29 03:51:08\n",
       "670742  160556475          2015-06-30 10:02:16\n",
       "670743  160592014          2015-06-30 15:48:27\n",
       "670744  160615335          2015-06-30 18:37:51\n",
       "670745  160636803          2015-06-30 21:05:39\n",
       "\n",
       "[671192 rows x 3 columns]"
      ]
     },
     "execution_count": 25,
     "metadata": {},
     "output_type": "execute_result"
    }
   ],
   "source": [
    "mask = user_info.user_id.isin(user_info_2.user_id)\n",
    "user_info[mask]"
   ]
  },
  {
   "cell_type": "code",
   "execution_count": 26,
   "id": "288a161f",
   "metadata": {},
   "outputs": [],
   "source": [
    "#only 446 user_ids in common"
   ]
  },
  {
   "cell_type": "code",
   "execution_count": 27,
   "id": "06bc89e7",
   "metadata": {},
   "outputs": [],
   "source": [
    "actions_sent = actions_sent.merge(user_info[['user_id', 'type']], left_on = 'fan_id', right_on = 'user_id', suffixes = [\"\", \"_fan\"], how = 'left')\n"
   ]
  },
  {
   "cell_type": "code",
   "execution_count": null,
   "id": "3d74665c",
   "metadata": {},
   "outputs": [],
   "source": []
  }
 ],
 "metadata": {
  "kernelspec": {
   "display_name": "Python 3 (ipykernel)",
   "language": "python",
   "name": "python3"
  },
  "language_info": {
   "codemirror_mode": {
    "name": "ipython",
    "version": 3
   },
   "file_extension": ".py",
   "mimetype": "text/x-python",
   "name": "python",
   "nbconvert_exporter": "python",
   "pygments_lexer": "ipython3",
   "version": "3.8.2"
  }
 },
 "nbformat": 4,
 "nbformat_minor": 5
}
