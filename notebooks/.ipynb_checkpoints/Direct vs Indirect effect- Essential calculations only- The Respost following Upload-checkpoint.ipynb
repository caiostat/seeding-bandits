{
 "cells": [
  {
   "cell_type": "markdown",
   "id": "7de64a06",
   "metadata": {},
   "source": [
    "**This notebook is the executable version of lab note 3.\n",
    "It answers the following questions:**\n",
    "\n",
    "Finally, we answer 4 items:\n",
    "\n",
    "    1. Are successful creators more connected to high-outdegree users than do unsuccessful creators?\n",
    "    2. Are mavens more connected to successful creators than to unsuccessful creators?\n",
    "    3. Do successful creators send more non-follow actions towards mavens than to zombies?\n",
    "    4. Do successful creators send more non-follow actions towards mavens than to stars?\n",
    "\n",
    "    "
   ]
  },
  {
   "cell_type": "code",
   "execution_count": 1,
   "id": "8f459c63",
   "metadata": {},
   "outputs": [],
   "source": [
    "#Run parameters\n",
    "#used to control every run. Can be user to perfom sensitivity checks\n",
    "path_dir = r\"/Users/../Volumes/Raw/\"\n",
    "\n",
    "low_success = 0.5 #below the median: unsuccessful\n",
    "high_success = 0.9 #top 10% creators with more followers are deemed successful\n",
    "\n",
    "low_user_outdegree = 0.25 \n",
    "high_user_outdegree = 0.75\n",
    "low_user_activity = 0.25 \n",
    "high_user_activity = 0.75 \n",
    "\n",
    "activity_filter = 0\n",
    "days_delta = 7"
   ]
  },
  {
   "cell_type": "code",
   "execution_count": 2,
   "id": "37a758ab",
   "metadata": {},
   "outputs": [],
   "source": [
    "import sys  \n",
    "import pickle\n",
    "sys.path.insert(0, '/Users/caiorego/Desktop/BDS/RA/Seeding-Bandits/')\n",
    "import numpy as np\n",
    "import src.utils\n",
    "from collections import Counter\n",
    "from src.utils import import_dta, import_tracks_dta,\\\n",
    "gen_active_relations, get_fan_interactions_per_week, calculate_avg_monthly_valence,\\\n",
    "gen_active_relations_prob, get_fan_interactions_per_week_prob, stripplot_prob,\\\n",
    "reaction_probability, follower_list, filter_quantile, sample_creators_music,\\\n",
    "gen_outbound_creators\n",
    "import numpy as np\n",
    "import datetime\n",
    "import pandas as pd\n",
    "from tqdm import tqdm\n",
    "import dask.dataframe as dd\n",
    "import matplotlib.pyplot as plt\n",
    "import seaborn as sns\n",
    "import numpy\n",
    "import os\n",
    "from statsmodels.stats.proportion import proportions_ztest"
   ]
  },
  {
   "cell_type": "code",
   "execution_count": 3,
   "id": "b2d1bd2b",
   "metadata": {},
   "outputs": [],
   "source": [
    "def process_date(date):\n",
    "    '''convert date format like '2013-w09' to '2013-03-04', i.e. the first day of that week'''\n",
    "    year = date[0:4]\n",
    "    week = date[6:]\n",
    "    day = \"1\"\n",
    "    date = \"{}-{}-1\".format(year, week)\n",
    "    dt = datetime.datetime.strptime(date, \"%Y-%W-%w\")\n",
    "    return dt"
   ]
  },
  {
   "cell_type": "markdown",
   "id": "d69f8fad",
   "metadata": {},
   "source": [
    "# Data Imports"
   ]
  },
  {
   "cell_type": "markdown",
   "id": "2605f798",
   "metadata": {},
   "source": [
    "We start by importing the raw data.  `follows_sent`, `comments_sent`, `shares_sent`, `likes_sent` and `messages_sent` contains data pn the promotional activities that the 35k users tracked in the dataset directed to other users. It includes the `user_id`, the `fan_id` and the `date_sent` which identifies the date when the prom. activity was sent. `users_info_1st` shows the type of user (creator or non-creator, which is identified by a blank) and the date the user entered the platform, for every user that sent or received prom. activities from any of the 35k users tracked in this dataset, while `users_info` contains the same information, but pertaining to the 35k users themselves.\n",
    "\n",
    "`follows_received` contains information on the follows received by the 35k users and will be used to generate the successful/unsuccessful groups of content creators."
   ]
  },
  {
   "cell_type": "code",
   "execution_count": 4,
   "id": "03f61585",
   "metadata": {},
   "outputs": [
    {
     "name": "stdout",
     "output_type": "stream",
     "text": [
      "%%%%%%%%%% 12sample_tracks.dta %%%%%%%%%%\n",
      "(56262, 7)\n",
      "%%%%%%%%%% 12sample_affiliations_sent.dta %%%%%%%%%%\n",
      "(800913, 3)\n",
      "%%%%%%%%%% 12sample_comments_made.dta %%%%%%%%%%\n",
      "(29258, 4)\n",
      "%%%%%%%%%% 12sample_reposts_made.dta %%%%%%%%%%\n",
      "(179329, 4)\n",
      "%%%%%%%%%% 12sample_favoritings_made.dta %%%%%%%%%%\n",
      "(527701, 4)\n",
      "%%%%%%%%%% 12sample_messages_sent.dta %%%%%%%%%%\n",
      "(11091, 3)\n",
      "%%%%%%%%%% 12sample_1st_deg_user_infos.dta %%%%%%%%%%\n",
      "(670746, 3)\n",
      "%%%%%%%%%% 12sample_user_infos.dta %%%%%%%%%%\n",
      "(35000, 3)\n",
      "%%%%%%%%%% 12sample_affiliations_received.dta %%%%%%%%%%\n",
      "(432503, 3)\n"
     ]
    }
   ],
   "source": [
    "#affiliations :follows\n",
    "#favoritings :likes\n",
    "\n",
    "#used in filtering:\n",
    "path_dir = r\"/Users/../Volumes/Raw/\"\n",
    "tracks = import_tracks_dta(path_dir, \"12sample_tracks.dta\");\n",
    "\n",
    "#these are the actions sent to \n",
    "follows_sent = import_dta(path_dir, \"12sample_affiliations_sent.dta\");\n",
    "comments_sent = import_dta(path_dir, \"12sample_comments_made.dta\");\n",
    "shares_sent = import_dta(path_dir, \"12sample_reposts_made.dta\");\n",
    "likes_sent = import_dta(path_dir, \"12sample_favoritings_made.dta\");\n",
    "messages_sent = import_dta(path_dir, \"12sample_messages_sent.dta\");\n",
    "\n",
    "#Used to track information on the 1st degree connections\n",
    "user_info_1st = import_dta(path_dir, \"12sample_1st_deg_user_infos.dta\");\n",
    "user_info_1st.columns = ['user_id', 'type', 'entered_platform'];\n",
    "user_info = import_dta(path_dir, \"12sample_user_infos.dta\");\n",
    "\n",
    "#Used to compute creator's success measure\n",
    "follows_received = import_dta(path_dir, \"12sample_affiliations_received.dta\");"
   ]
  },
  {
   "cell_type": "markdown",
   "id": "35300c65",
   "metadata": {},
   "source": [
    "Indegree and outdegree information.\n",
    "\n",
    "The function below import the outdegree dataset. Because the raw version of those dataset are too large to be processed in memory, we preprocessed them in a separate script."
   ]
  },
  {
   "cell_type": "markdown",
   "id": "eabb3d51",
   "metadata": {},
   "source": [
    "# Preprocessing"
   ]
  },
  {
   "cell_type": "markdown",
   "id": "a358956e",
   "metadata": {},
   "source": [
    "## Creator ids, successful and unsucessful creators"
   ]
  },
  {
   "cell_type": "markdown",
   "id": "fcb7bc74",
   "metadata": {},
   "source": [
    "Next, we define three lists of ids: one with the ids from the content creators, according to the `users_info` table, one with the ids of successful creators and the last one with the ids of the unsuccessful ones."
   ]
  },
  {
   "cell_type": "markdown",
   "id": "77715356",
   "metadata": {},
   "source": [
    "Let's start with a list of the id of creators. We also create a dataset with containing information on creators only."
   ]
  },
  {
   "cell_type": "code",
   "execution_count": 5,
   "id": "dd634fc1",
   "metadata": {},
   "outputs": [],
   "source": [
    "mask = (tracks.track_available == 1) & (tracks.public == 't')\n",
    "creator_ids = tracks[mask].user_id.unique()\n",
    "\n",
    "creators = tracks[(tracks.track_available == 1) & (tracks.public == 't')]"
   ]
  },
  {
   "cell_type": "markdown",
   "id": "2b06476a",
   "metadata": {},
   "source": [
    "## Putting together a dataset with the promotional activities made by content creators."
   ]
  },
  {
   "cell_type": "markdown",
   "id": "9c9b8a09",
   "metadata": {},
   "source": [
    "The function `gen_actions_sent_df` creates a dataframe with all the promotional activities that content creators sent to users."
   ]
  },
  {
   "cell_type": "code",
   "execution_count": 6,
   "id": "8fff0077",
   "metadata": {},
   "outputs": [],
   "source": [
    "def gen_actions_sent_df(follows_sent, shares_sent, likes_sent, comments_sent, messages_sent, creator_ids = creator_ids):\n",
    "    '''\n",
    "    Creates dataframe containing the actions that content creators send to users.\n",
    "        Attributes:\n",
    "                    follows_sent:  dataframe with the follows sent by the 35k users.\n",
    "                    shares_sent:   dataframe with the shares sent by the 35k users.\n",
    "                    likes_sent:    dataframe with the likes sent by the 35k users.\n",
    "                    comments_sent: dataframe with the comments sent by the 35k users.\n",
    "                    messages_sent: dataframe with the messages sent by the 35k users.\n",
    "                    creator_ids:   list with content creator ids. If not none, is used to\n",
    "                                   filter out activities from non creators.\n",
    "    '''\n",
    "    \n",
    "    follows_sent['outbound_activity'] = 'follow'\n",
    "    follows_sent.columns = ['user_id', 'fan_id', 'date_sent', 'outbound_activity']\n",
    "\n",
    "    if 'song_id' in shares_sent.columns:\n",
    "        shares_sent.drop(columns=[\"song_id\"])\n",
    "    shares_sent = shares_sent[['reposter_id', \"owner_id\", 'created_at']]\n",
    "    shares_sent['outbound_activity'] = 'share'\n",
    "    shares_sent.columns = ['user_id', 'fan_id', 'date_sent', 'outbound_activity']\n",
    "\n",
    "    if 'track_id' in likes_sent.columns:\n",
    "        likes_sent.drop(columns=[\"track_id\"], inplace=True)\n",
    "    likes_sent['outbound_activity'] = 'like'\n",
    "    likes_sent.columns = ['user_id', 'fan_id', 'date_sent', 'outbound_activity']\n",
    "\n",
    "    if 'track_id' in comments_sent.columns:\n",
    "        comments_sent.drop(columns=[\"track_id\"], inplace=True)\n",
    "    comments_sent['outbound_activity'] = 'comment'\n",
    "    comments_sent.columns = ['user_id', 'fan_id', 'date_sent', 'outbound_activity']\n",
    "\n",
    "    messages_sent[\"outbound_activity\"] = 'message'\n",
    "    messages_sent.columns = ['user_id', 'fan_id', 'date_sent', 'outbound_activity']\n",
    "    df = pd.concat([follows_sent, shares_sent, likes_sent, comments_sent, messages_sent])\n",
    "\n",
    "\n",
    "    if type(creator_ids) == numpy.ndarray:\n",
    "        df = df[df['user_id'].isin(creator_ids)]\n",
    "        \n",
    "    df['week_yr'] = df.date_sent.dt.strftime('%Y-w%U')\n",
    "    df = df.loc[df['user_id'] != df['fan_id'],:]\n",
    "\n",
    "    return df"
   ]
  },
  {
   "cell_type": "code",
   "execution_count": 7,
   "id": "6c6b8f49",
   "metadata": {},
   "outputs": [],
   "source": [
    "actions_sent = gen_actions_sent_df(follows_sent, shares_sent, likes_sent, comments_sent,\n",
    "                                     messages_sent, creator_ids = None)\n",
    "actions_sent = actions_sent.loc[actions_sent.user_id.isin(creators.user_id.unique())]"
   ]
  },
  {
   "cell_type": "code",
   "execution_count": 8,
   "id": "6462039a",
   "metadata": {},
   "outputs": [],
   "source": [
    "active_users_ids = actions_sent.groupby('user_id', as_index = False).size()\n",
    "mask = active_users_ids['size']>= activity_filter\n",
    "active_users_ids = active_users_ids[mask].user_id.unique()"
   ]
  },
  {
   "cell_type": "code",
   "execution_count": 9,
   "id": "d58e13c0",
   "metadata": {},
   "outputs": [],
   "source": [
    "def successful_creators_followers(follows_received, base_date = datetime.datetime(2016, 5, 30, 0, 0), perc1 = None, perc2 = None, subset_creators = None):\n",
    "    '''Classifies content creators in successful or unsuccessfull\n",
    "        Arguments:\n",
    "                    follows_received: dataframe containing the follows received by content creators\n",
    "                    base date:        date, in datetime.datetime(YYYY, M, DD, H, M) format, in which the number \n",
    "                                      of followers per creator is calculated.\n",
    "                    perc1:            the threshold used to classify unsuccessful content creators. Creator having \n",
    "                                      total followers below the number dictated by this threshold, at the base date,\n",
    "                                      are classified as unsuccessful \n",
    "                    perc2:            the threshold used to classify successful content creators. Creator having \n",
    "                                      total followers above the number dictated by this threshold, at the base date,\n",
    "                                      are classified as successful\n",
    "                    subset_creators:  a pd.DataFrame containing the creators. If is it available, it will be used to \n",
    "                                      filter out non creators and to make sure creators with 0 followers are part of\n",
    "                                      the resulting dataset.\n",
    "        \n",
    "    '''\n",
    "    print(base_date)\n",
    "\n",
    "    if 'inbound_activity' not in follows_received.columns:\n",
    "        follows_received.columns = ['fan_id', 'user_id', 'date_sent']\n",
    "\n",
    "    mask = (follows_received['date_sent'] < base_date)\n",
    "\n",
    "    df = follows_received[mask].groupby('user_id', as_index=False).agg({'fan_id': pd.Series.nunique})\n",
    "    df.columns = ['user_id', 'followers']\n",
    "\n",
    "    \n",
    "    if type(subset_creators) == pd.DataFrame:\n",
    "        print('subsetting...')\n",
    "        df.set_index('user_id', inplace = True)\n",
    "        df = df.reindex(subset_creators.user_id.unique())\n",
    "        df.fillna(0, inplace = True)\n",
    "        df.reset_index(inplace = True)\n",
    "        df.columns = ['user_id', 'followers']\n",
    "        \n",
    "    mask = df.user_id.isin(active_users_ids)\n",
    "    df = df[mask]\n",
    "\n",
    "    low = np.quantile(df.followers, perc1)\n",
    "    high = np.quantile(df.followers, perc2)\n",
    "\n",
    "    print(\"High influencer boundary: {}\".format(high))\n",
    "    print(\"Low influencer boundary: {}\".format(low))\n",
    "\n",
    "    mask = (df[\"followers\"] <= low) | (df[\"followers\"] >= high)\n",
    "    \n",
    "    unsuccessful_creator_ids = df.loc[df[\"followers\"] <= low].user_id.unique()\n",
    "    successful_creator_ids = df.loc[df[\"followers\"] >= high].user_id.unique()\n",
    "\n",
    "    return unsuccessful_creator_ids, successful_creator_ids\n"
   ]
  },
  {
   "cell_type": "code",
   "execution_count": 10,
   "id": "5ee655c2",
   "metadata": {},
   "outputs": [
    {
     "name": "stdout",
     "output_type": "stream",
     "text": [
      "2016-05-30 00:00:00\n",
      "subsetting...\n",
      "High influencer boundary: 81.0\n",
      "Low influencer boundary: 13.0\n"
     ]
    }
   ],
   "source": [
    "unsuccessful_ids, successful_ids = successful_creators_followers(follows_received, \n",
    "                                                        perc1 = low_success, perc2 = high_success, subset_creators = creators)\n"
   ]
  },
  {
   "cell_type": "markdown",
   "id": "0fe6f8c4",
   "metadata": {},
   "source": [
    "## Filter only actions that were sent to non-fans"
   ]
  },
  {
   "cell_type": "code",
   "execution_count": 11,
   "id": "acb2222e",
   "metadata": {},
   "outputs": [],
   "source": [
    "table_data = pd.read_csv('user_types_ids.csv', index_col = 0)\n",
    "\n",
    "hermit_ids = table_data.loc[table_data.Type =='Hermit'].user_id.unique()\n",
    "w_a_ids = table_data.loc[table_data.Type =='w_a'].user_id.unique()\n",
    "f_a_ids = table_data.loc[table_data.Type =='f_a'].user_id.unique()\n",
    "observer_ids = table_data.loc[table_data.Type =='Observer'].user_id.unique()"
   ]
  },
  {
   "cell_type": "markdown",
   "id": "7a67b459",
   "metadata": {},
   "source": [
    "We merge the `actions_sent` dataset with a table containing the date each fan started following the creator."
   ]
  },
  {
   "cell_type": "code",
   "execution_count": 12,
   "id": "b904f4bf",
   "metadata": {},
   "outputs": [],
   "source": [
    "follows_received.columns = ['fan_id', 'user_id', 'date_sent']\n",
    "followers = follows_received[[\"fan_id\", \"user_id\", \"date_sent\"]]\n",
    "followers.columns = [\"fan_id\", \"user_id\", \"follower_since\"]\n",
    "\n",
    "actions_sent = actions_sent.merge(followers, right_on = ['user_id', 'fan_id'],\n",
    "                                      left_on = ['user_id', 'fan_id'], how = 'left')\n",
    "\n",
    "actions_sent['user_type'] = actions_sent.fan_id.apply(lambda x: 'f_a' if x in f_a_ids else \n",
    "                          ('Hermit' if x in hermit_ids else\n",
    "                          ('Observer' if x in observer_ids else\n",
    "                          ('w_a' if x in w_a_ids else 'other'))))\n",
    "\n",
    "## classify content creators\n",
    "actions_sent['creator_type'] = actions_sent.user_id.apply(\n",
    "                               lambda x: 'successful' if x in successful_ids else \n",
    "                               ('unsuccessful' if x in unsuccessful_ids else 'other'))"
   ]
  },
  {
   "cell_type": "markdown",
   "id": "973ebc19",
   "metadata": {},
   "source": [
    "Since we are interested in acquisition campaings, we need to produce a dataset that exclude actions targetting fans.\n",
    "We do that using filters based on the date of the action and the date that the user became a fan of the content creator. The resulting dataframe is named `actions_sent_non_fans`."
   ]
  },
  {
   "cell_type": "markdown",
   "id": "a0dbf162",
   "metadata": {},
   "source": [
    "We then filter only actions that happened before the user follows the content creator."
   ]
  },
  {
   "cell_type": "code",
   "execution_count": 13,
   "id": "c957f00e",
   "metadata": {},
   "outputs": [
    {
     "name": "stderr",
     "output_type": "stream",
     "text": [
      "/var/folders/f2/cgjzt69n5hlgmtsm36p1pztw0000gn/T/ipykernel_69686/3855957735.py:3: SettingWithCopyWarning: \n",
      "A value is trying to be set on a copy of a slice from a DataFrame.\n",
      "Try using .loc[row_indexer,col_indexer] = value instead\n",
      "\n",
      "See the caveats in the documentation: https://pandas.pydata.org/pandas-docs/stable/user_guide/indexing.html#returning-a-view-versus-a-copy\n",
      "  actions_sent_non_fans['week_yr_date'] = actions_sent_non_fans.week_yr.apply(lambda x: process_date(x))\n"
     ]
    }
   ],
   "source": [
    "mask = (actions_sent.date_sent < actions_sent.follower_since) | (actions_sent.follower_since.isnull())\n",
    "actions_sent_non_fans =  actions_sent[mask]\n",
    "actions_sent_non_fans['week_yr_date'] = actions_sent_non_fans.week_yr.apply(lambda x: process_date(x))"
   ]
  },
  {
   "cell_type": "markdown",
   "id": "b2e1faaf",
   "metadata": {},
   "source": [
    "## Non-follow Actions level"
   ]
  },
  {
   "cell_type": "markdown",
   "id": "d4db5e11",
   "metadata": {},
   "source": [
    "The activity level is defined as the number of actions performed by users. It is important to notice that we only observe actions targeting the 35k users that joined in march 2012. We consider this measure a proxy for the real activity level.\n",
    "\n",
    "Let's begin by creating a dataset with all action received by those 35k users."
   ]
  },
  {
   "cell_type": "code",
   "execution_count": 70,
   "id": "82504b60",
   "metadata": {},
   "outputs": [
    {
     "name": "stdout",
     "output_type": "stream",
     "text": [
      "%%%%%%%%%% 12sample_comments_received.dta %%%%%%%%%%\n",
      "(21386, 4)\n",
      "%%%%%%%%%% 12sample_reposts_received.dta %%%%%%%%%%\n",
      "(83013, 4)\n",
      "%%%%%%%%%% 12sample_favoritings_received.dta %%%%%%%%%%\n",
      "(286903, 4)\n",
      "%%%%%%%%%% 12sample_messages_received.dta %%%%%%%%%%\n",
      "(17364, 3)\n"
     ]
    }
   ],
   "source": [
    "comments_received_35k = import_dta(path_dir, \"12sample_comments_received.dta\");\n",
    "shares_received_35k = import_dta(path_dir, \"12sample_reposts_received.dta\");\n",
    "likes_received_35k = import_dta(path_dir, \"12sample_favoritings_received.dta\");\n",
    "messages_received_35k = import_dta(path_dir, \"12sample_messages_received.dta\");\n",
    "\n",
    "if 'song_id' in shares_received_35k:\n",
    "        shares_received_35k.drop(columns=[\"song_id\"])\n",
    "shares_received_35k = shares_received_35k[['reposter_id', \"owner_id\", 'created_at']]\n",
    "shares_received_35k['outbound_activity'] = 'share'\n",
    "shares_received_35k.columns = ['fan_id', 'user_id', 'date_sent', 'outbound_activity']\n",
    "\n",
    "if 'track_id' in likes_received_35k:\n",
    "        likes_received_35k = likes_received_35k.drop(columns=[\"track_id\"])\n",
    "likes_received_35k['outbound_activity'] = 'like'\n",
    "likes_received_35k.columns = ['fan_id', 'user_id', 'date_sent', 'outbound_activity']\n",
    "\n",
    "if 'track_id' in comments_received_35k:\n",
    "        comments_received_35k = comments_received_35k.drop(columns=[\"track_id\"])\n",
    "comments_received_35k['outbound_activity'] = 'comment'\n",
    "comments_received_35k.columns = ['fan_id', 'user_id', 'date_sent', 'outbound_activity']\n",
    "\n",
    "messages_received_35k[\"outbound_activity\"] = 'message'\n",
    "messages_received_35k.columns = ['user_id', 'fan_id', 'date_sent', 'outbound_activity']\n",
    "\n",
    "user_activity_data_35k = pd.concat([shares_received_35k, likes_received_35k, comments_received_35k, messages_received_35k])\n",
    "\n",
    "user_activity_data_35k['day_yr_date'] = user_activity_data_35k.date_sent.dt.normalize()\n",
    "\n",
    "reposts_df = user_activity_data_35k.loc[user_activity_data_35k.outbound_activity == 'share']"
   ]
  },
  {
   "cell_type": "code",
   "execution_count": null,
   "id": "bec0ad24",
   "metadata": {},
   "outputs": [],
   "source": [
    "path_dir_2 = r'/Users/../Volumes/Alter_outbound_activities/'\n",
    "\n",
    "comments_received_c = import_dta(path_dir_2, \"12sample_1st_deg_comments_made.dta\");\n",
    "shares_received_c = import_dta(path_dir_2, \"12sample_1st_deg_reposts_made.dta\");\n",
    "likes_received_c = import_dta(path_dir_2, \"12sample_1st_deg_favoritings_made.dta\");\n",
    "messages_received_c = import_dta(path_dir_2, \"12sample_1st_deg_messages_sent.dta\");"
   ]
  },
  {
   "cell_type": "code",
   "execution_count": null,
   "id": "1ec99f6a",
   "metadata": {},
   "outputs": [],
   "source": [
    "if 'song_id' in shares_received_c:\n",
    "        shares_received_c.drop(columns=[\"song_id\"])\n",
    "shares_received_c = shares_received_c[['reposter_id', \"owner_id\", 'created_at']]\n",
    "shares_received_c['inbound_activity'] = 'share'\n",
    "shares_received_c.columns = ['fan_id', 'user_id', 'date_sent', 'inbound_activity']\n",
    "\n",
    "if 'track_id' in likes_received_c:\n",
    "        likes_received_c = likes_received_c.drop(columns=[\"track_id\"])\n",
    "likes_received_c['inbound_activity'] = 'like'\n",
    "likes_received_c.columns = ['fan_id', 'user_id', 'date_sent', 'inbound_activity']\n",
    "\n",
    "if 'track_id' in comments_received_c:\n",
    "        comments_received_c = comments_received_c.drop(columns=[\"track_id\"])\n",
    "comments_received_c['inbound_activity'] = 'comment'\n",
    "comments_received_c.columns_c = ['fan_id', 'user_id', 'date_sent', 'inbound_activity']\n",
    "\n",
    "messages_received_c[\"outbound_activity\"] = 'message'\n",
    "messages_received_c.columns = ['user_id', 'fan_id', 'date_sent', 'inbound_activity']"
   ]
  },
  {
   "cell_type": "code",
   "execution_count": null,
   "id": "c28ce54c",
   "metadata": {},
   "outputs": [],
   "source": [
    "user_activity_data_c = pd.concat([shares_received_c, likes_received_c, comments_received_c, messages_received_c])"
   ]
  },
  {
   "cell_type": "markdown",
   "id": "3a392a41",
   "metadata": {},
   "source": [
    "Once more we create an object containing the unique ids of users in the resulting dataset. This will be used in a flow-chart, as explained."
   ]
  },
  {
   "cell_type": "markdown",
   "id": "cf24ca28",
   "metadata": {},
   "source": [
    "# Priori response probabilities"
   ]
  },
  {
   "cell_type": "code",
   "execution_count": null,
   "id": "4ba561a1",
   "metadata": {},
   "outputs": [],
   "source": [
    "import datetime\n",
    "# Target Creation\n",
    "delta = datetime.timedelta(days = days_delta)\n",
    "mask = (actions_sent_non_fans['follower_since'] <= (actions_sent_non_fans['date_sent'] + delta))"
   ]
  },
  {
   "cell_type": "code",
   "execution_count": null,
   "id": "b51ac7a1",
   "metadata": {},
   "outputs": [],
   "source": [
    "def calcs():\n",
    "    delta = datetime.timedelta(days = days_delta)\n",
    "    mask = (actions_sent_non_fans['follower_since'] <= (actions_sent_non_fans['date_sent'] + delta))\n",
    "\n",
    "    response_df = actions_sent_non_fans.copy()\n",
    "    response_df.loc[mask, 'reward'] = 1\n",
    "    mask = response_df['reward'].isnull()\n",
    "    response_df.loc[mask, 'reward'] = 0\n",
    "\n",
    "    mask = (actions_sent.date_sent >= actions_sent.follower_since)\n",
    "    actions_sent_to_fans = actions_sent[mask]\n",
    "    actions_sent_to_fans['week_yr_date'] = actions_sent_to_fans.week_yr.apply(lambda x: process_date(x))\n",
    "\n",
    "    repost_prob_df = actions_sent_to_fans # filter for follower only\n",
    "    repost_prob_df.sort_values(['user_id', 'fan_id'], inplace = True)\n",
    "    repost_prob_df['reward_repost'] = np.nan\n",
    "    for user_id in tqdm(repost_prob_df.user_id.unique()):\n",
    "        for fan_id in repost_prob_df.loc[repost_prob_df.user_id == user_id].fan_id.unique():\n",
    "            repost_prob_df.loc[(repost_prob_df.user_id == user_id)&\n",
    "                                  (repost_prob_df.fan_id == fan_id),'reward_repost'] =\\\n",
    "            repost_prob_df.loc[(repost_prob_df.user_id == user_id)&\n",
    "                                  (repost_prob_df.fan_id == fan_id)].date_sent.apply(\n",
    "            lambda x : 1 if \n",
    "        (reposts_df.loc[\n",
    "        (reposts_df.user_id == user_id)&\n",
    "        (reposts_df.fan_id == fan_id)&\n",
    "        (reposts_df.day_yr_date > x)&   \n",
    "        (reposts_df.day_yr_date <= x + datetime.timedelta(days=days_delta))]).shape[0]>0 else 0)\n",
    "\n",
    "    repost_prob_df.sort_values(by='date_sent', inplace = True)\n",
    "\n",
    "    return response_df, repost_prob_df"
   ]
  },
  {
   "cell_type": "code",
   "execution_count": null,
   "id": "9aef8158",
   "metadata": {},
   "outputs": [],
   "source": [
    "response_df, repost_prob_df = calcs()"
   ]
  },
  {
   "cell_type": "code",
   "execution_count": null,
   "id": "852214dd",
   "metadata": {},
   "outputs": [],
   "source": [
    "analysis_data = pd.read_csv('indegree_level.csv', index_col = 0)\n",
    "analysis_data.columns = ['fan_id', 'followers', 'outdegree_level', 'activities_performed',\n",
    "       'activity_level', 'Type', 'contact_id', 'indegree', 'indegree_level']\n",
    "response_df = response_df.merge(analysis_data, left_on = 'fan_id', right_on = 'fan_id', how = 'left')\n",
    "repost_prob_df = repost_prob_df.merge(analysis_data, left_on = 'fan_id', right_on = 'fan_id', how = 'left')"
   ]
  },
  {
   "cell_type": "code",
   "execution_count": null,
   "id": "9fba4035",
   "metadata": {},
   "outputs": [],
   "source": [
    "#add indegree level\n",
    "\n",
    "attempts = response_df.groupby(['creator_type', 'user_type', 'indegree_level'\n",
    "                               ], as_index = False).size()\n",
    "rewards = response_df.groupby(['creator_type', 'user_type' , 'indegree_level'\n",
    "                              ], as_index = False).agg({'reward' : 'sum'})\n",
    "\n",
    "priori_prob_df = rewards.merge(attempts)\n",
    "priori_prob_df['P_resp_prob'] = priori_prob_df['reward']/priori_prob_df['size']\n",
    "priori_prob_df "
   ]
  },
  {
   "cell_type": "code",
   "execution_count": null,
   "id": "9c8055ad",
   "metadata": {},
   "outputs": [],
   "source": [
    "df = priori_prob_df \n",
    "\n",
    "pivoted_df = round(df.pivot(index='creator_type', columns=['user_type', 'indegree_level'], values=['P_resp_prob']),3)\n",
    "\n",
    "# Display the pivoted DataFrame\n",
    "pivoted_df"
   ]
  },
  {
   "cell_type": "code",
   "execution_count": null,
   "id": "b8fdc8dc",
   "metadata": {},
   "outputs": [],
   "source": [
    "#add indegree level\n",
    "\n",
    "attempts = f.groupby(['creator_type', 'user_type','indegree_level'\n",
    "                                  ], as_index = False).size()\n",
    "rewards = repost_prob_df.groupby(['creator_type', 'user_type', 'indegree_level'\n",
    "                                 ], as_index = False).agg({'reward_repost' : 'sum'})\n",
    "\n",
    "priori_rep_df = rewards.merge(attempts)\n",
    "priori_rep_df['P_rep_prob'] = priori_rep_df['reward_repost']/priori_rep_df['size'] "
   ]
  },
  {
   "cell_type": "code",
   "execution_count": null,
   "id": "899a4fe3",
   "metadata": {},
   "outputs": [],
   "source": [
    "df = priori_rep_df \n",
    "\n",
    "pivoted_df = round(df.pivot(index='creator_type', columns=['user_type', 'indegree_level'], values=['P_rep_prob']),3)\n",
    "\n",
    "# Display the pivoted DataFrame\n",
    "pivoted_df"
   ]
  },
  {
   "cell_type": "code",
   "execution_count": null,
   "id": "4ef3169c",
   "metadata": {},
   "outputs": [],
   "source": [
    "repost_prob_df.to_csv(\"../dir_indir_effects_tables/indir_effect_repost_granular.csv\")\n",
    "response_df.to_csv(\"../dir_indir_effects_tables/dir_effect_granular.csv\")"
   ]
  },
  {
   "cell_type": "markdown",
   "id": "250cde3a",
   "metadata": {},
   "source": [
    "### Redo calculations from MKTSC"
   ]
  },
  {
   "cell_type": "code",
   "execution_count": null,
   "id": "229fe718",
   "metadata": {},
   "outputs": [],
   "source": [
    "#Indirect Returns\n",
    "#P(focal follower making a repost) \n",
    "\n",
    "attempts = repost_prob_df.groupby(['user_type'\n",
    "                                   , 'indegree_level'\n",
    "                                  ], as_index = False).size()\n",
    "rewards = repost_prob_df.groupby(['user_type'\n",
    "                                  , 'indegree_level'\n",
    "                                 ], as_index = False).agg({'reward_repost' : 'sum'})\n",
    "\n",
    "priori_rep_df = rewards.merge(attempts)\n",
    "priori_rep_df['P_rep_prob'] = priori_rep_df['reward_repost']/priori_rep_df['size'] "
   ]
  },
  {
   "cell_type": "code",
   "execution_count": null,
   "id": "12fb55cd",
   "metadata": {},
   "outputs": [],
   "source": [
    "df = priori_rep_df \n",
    "\n",
    "pivoted_df = round(df.pivot(index='user_type', columns=['indegree_level'], values=['P_rep_prob']),4)\n",
    "\n",
    "# Display the pivoted DataFrame\n",
    "pivoted_df.T"
   ]
  },
  {
   "cell_type": "code",
   "execution_count": null,
   "id": "962ff270",
   "metadata": {},
   "outputs": [],
   "source": [
    "#Direct Returns\n",
    "#P(follower of focal following creator l)\n",
    "\n",
    "attempts = response_df.groupby(['user_type', 'indegree_level'], as_index = False).size()\n",
    "rewards = response_df.groupby(['user_type', 'indegree_level'], as_index = False).agg({'reward' : 'sum'})\n",
    "\n",
    "priori_prob_df = rewards.merge(attempts)\n",
    "priori_prob_df['P_resp_prob'] = priori_prob_df['reward']/priori_prob_df['size']"
   ]
  },
  {
   "cell_type": "code",
   "execution_count": null,
   "id": "2a0986c0",
   "metadata": {},
   "outputs": [],
   "source": [
    "df = priori_prob_df[priori_prob_df.user_type!='other']\n",
    "\n",
    "pivoted_df = round(df.pivot(index='user_type', columns=['indegree_level'], values=['P_resp_prob']),3)\n",
    "# Display the pivoted DataFrame\n",
    "pivoted_df.T"
   ]
  },
  {
   "cell_type": "markdown",
   "id": "f727ffb4",
   "metadata": {},
   "source": [
    "think about the shares unprovoked:\n",
    "    share given action is 0 for low, but spontaneous shares might be a thing, we need to quantify them:\n",
    "    shares per following per user type and indegree level"
   ]
  },
  {
   "cell_type": "code",
   "execution_count": null,
   "id": "6b3d6e03",
   "metadata": {},
   "outputs": [],
   "source": [
    "priori_rep_df"
   ]
  },
  {
   "cell_type": "code",
   "execution_count": null,
   "id": "82320f65",
   "metadata": {},
   "outputs": [],
   "source": [
    "repost_prob_df.groupby(['user_type','indegree_level']).size()"
   ]
  },
  {
   "cell_type": "code",
   "execution_count": null,
   "id": "0e1baa30",
   "metadata": {},
   "outputs": [],
   "source": [
    "80/(80+83+127)"
   ]
  },
  {
   "cell_type": "code",
   "execution_count": null,
   "id": "79cdf3c6",
   "metadata": {},
   "outputs": [],
   "source": [
    "127/(80+83+127)"
   ]
  },
  {
   "cell_type": "code",
   "execution_count": null,
   "id": "baa091a0",
   "metadata": {},
   "outputs": [],
   "source": [
    "#Indirect Returns\n",
    "#P(focal follower making a repost) \n",
    "\n",
    "attempts = repost_prob_df.groupby(['user_type'\n",
    "                                   #, 'indegree_level'\n",
    "                                  ], as_index = False).size()\n",
    "rewards = repost_prob_df.groupby(['user_type'\n",
    "                                  #, 'indegree_level'\n",
    "                                 ], as_index = False).agg({'reward_repost' : 'sum'})\n",
    "\n",
    "priori_rep_df = rewards.merge(attempts)\n",
    "priori_rep_df['P_rep_prob'] = priori_rep_df['reward_repost']/priori_rep_df['size'] \n",
    "\n",
    "priori_rep_df "
   ]
  },
  {
   "cell_type": "code",
   "execution_count": null,
   "id": "0c9e96b0",
   "metadata": {},
   "outputs": [],
   "source": [
    "#Indirect Returns\n",
    "#P(focal follower making a repost) \n",
    "\n",
    "attempts = repost_prob_df.groupby(['user_type'\n",
    "                                   , 'indegree_level'\n",
    "                                  ], as_index = False).size()\n",
    "rewards = repost_prob_df.groupby(['user_type'\n",
    "                                  , 'indegree_level'\n",
    "                                 ], as_index = False).agg({'reward_repost' : 'sum'})\n",
    "\n",
    "priori_rep_df = rewards.merge(attempts)\n",
    "priori_rep_df['P_rep_prob'] = priori_rep_df['reward_repost']/priori_rep_df['size'] \n",
    "\n",
    "priori_rep_df "
   ]
  },
  {
   "cell_type": "code",
   "execution_count": null,
   "id": "ab489177",
   "metadata": {},
   "outputs": [],
   "source": [
    "(80*.125+0*83+0.0236*127)/(80+83+127)"
   ]
  },
  {
   "cell_type": "markdown",
   "id": "d84278ef",
   "metadata": {},
   "source": [
    "# Reposts following upload"
   ]
  },
  {
   "cell_type": "markdown",
   "id": "642a04a0",
   "metadata": {},
   "source": [
    "# Uploads by successful creators"
   ]
  },
  {
   "cell_type": "code",
   "execution_count": 129,
   "id": "2846c035",
   "metadata": {},
   "outputs": [],
   "source": [
    "mask = ((tracks.user_id.isin(successful_ids)) & (tracks.track_available == 1))\n",
    "success_creators_uploads = tracks.loc[mask]"
   ]
  },
  {
   "cell_type": "code",
   "execution_count": null,
   "id": "355a3340",
   "metadata": {},
   "outputs": [],
   "source": [
    "For upload in df:\n",
    "    gen creator followers at that date per user type\n",
    "    gen reposts by followers at that week per user type\n",
    "    return the average repost per follower per user type"
   ]
  },
  {
   "cell_type": "code",
   "execution_count": null,
   "id": "920563ff",
   "metadata": {},
   "outputs": [],
   "source": [
    "table_data.columns"
   ]
  },
  {
   "cell_type": "code",
   "execution_count": 16,
   "id": "d4a08816",
   "metadata": {},
   "outputs": [],
   "source": [
    "table_data_ren = table_data\n",
    "table_data_ren.columns = ['fan_id', 'followers', 'outdegree_level', 'activities_performed','activity_level', 'Type']\n",
    " \n",
    "follows_received_type = follows_received.merge(table_data.loc[:,['fan_id','Type']], left_on = 'fan_id', right_on = 'fan_id', how = 'left')\n",
    "follows_received_type['date_sent'] = follows_received_type.date_sent.dt.normalize()"
   ]
  },
  {
   "cell_type": "code",
   "execution_count": 152,
   "id": "53c65ab1",
   "metadata": {},
   "outputs": [
    {
     "data": {
      "text/plain": [
       "Type\n",
       "Observer    1.0\n",
       "other       6.0\n",
       "w_a         3.0\n",
       "f_a         NaN\n",
       "Hermit      NaN\n",
       "Name: fan_id, dtype: float64"
      ]
     },
     "execution_count": 152,
     "metadata": {},
     "output_type": "execute_result"
    }
   ],
   "source": [
    "def followers_at_date(df, user_id, date):\n",
    "    '''Shows an array with the followers of creator C at Date'''\n",
    "    data = df.loc[(df.user_id == user_id)&(df.date_sent <= date)]\\\n",
    "    .groupby(['Type'])['fan_id'].size()\n",
    "    \n",
    "    for name in ['f_a','w_a','Hermit','Observer','other']:\n",
    "        if name not in data.index:\n",
    "            data.loc[name] = np.nan\n",
    "    \n",
    "    return data\n",
    "\n",
    "#unit test\n",
    "followers_at_date(follows_received_type, 38347478, datetime.datetime(2016, 5, 30, 0, 0))"
   ]
  },
  {
   "cell_type": "code",
   "execution_count": 154,
   "id": "23879ab2",
   "metadata": {},
   "outputs": [
    {
     "data": {
      "text/plain": [
       "Type\n",
       "other       10\n",
       "w_a         71\n",
       "f_a          0\n",
       "Hermit       0\n",
       "Observer     0\n",
       "Name: fan_id, dtype: int64"
      ]
     },
     "execution_count": 154,
     "metadata": {},
     "output_type": "execute_result"
    }
   ],
   "source": [
    "def reposts_at_date(df, user_id, date):\n",
    "    \n",
    "    data = df.loc[(df.user_id == user_id)&\n",
    "                  (df.date_sent >= date)&\n",
    "                  (df.date_sent <= date + datetime.timedelta(days=days_delta))]\\\n",
    "    .groupby(['Type'])['fan_id'].size()\n",
    "    \n",
    "    for name in ['f_a','w_a','Hermit','Observer','other']:\n",
    "        if name not in data.index:\n",
    "            data.loc[name] = 0 \n",
    "    return data\n",
    "\n",
    "# unit test\n",
    "\n",
    "date = datetime.datetime(2015, 6, 25, 0, 0)\n",
    "user_id = 38393304\n",
    "df = reposts_df\n",
    "reposts_at_date(df, user_id, date)"
   ]
  },
  {
   "cell_type": "code",
   "execution_count": 213,
   "id": "5669e3d8",
   "metadata": {},
   "outputs": [],
   "source": [
    "df = success_creators_uploads.copy()\n",
    "df.loc[:,'p_repost_w_a']      = np.nan\n",
    "df.loc[:,'p_repost_f_a']      = np.nan\n",
    "df.loc[:,'p_repost_Observer'] = np.nan\n",
    "df.loc[:,'p_repost_Hermit']   = np.nan\n",
    "df.loc[:,'p_repost_other']    = np.nan\n",
    "\n",
    "df_followers = follows_received_type\n",
    "df_reposts   = reposts_df\n",
    "\n",
    "for upload in range(df.shape[0]):\n",
    "    df_temp = df.iloc[upload]\n",
    "    user_id = df_temp.loc['user_id']\n",
    "    date    = df_temp.loc['created_date']\n",
    "    ratio   = reposts_at_date(df_reposts, user_id, date)/followers_at_date(df_followers, user_id, date)\n",
    "    print\n",
    "    \n",
    "    df.iloc[upload,-5]      = ratio.loc['w_a']\n",
    "    df.iloc[upload,-4]      = ratio.loc['f_a']\n",
    "    df.iloc[upload,-3]      = ratio.loc['Observer']\n",
    "    df.iloc[upload,-2]      = ratio.loc['Hermit']\n",
    "    df.iloc[upload,-1]      = ratio.loc['other']"
   ]
  },
  {
   "cell_type": "code",
   "execution_count": 228,
   "id": "6486ab54",
   "metadata": {},
   "outputs": [
    {
     "data": {
      "text/plain": [
       "p_repost_w_a         0.114272\n",
       "p_repost_f_a         0.127120\n",
       "p_repost_Observer    0.000510\n",
       "p_repost_Hermit      0.002392\n",
       "p_repost_other       0.117939\n",
       "dtype: float64"
      ]
     },
     "execution_count": 228,
     "metadata": {},
     "output_type": "execute_result"
    }
   ],
   "source": [
    "df[['p_repost_w_a','p_repost_f_a','p_repost_Observer','p_repost_Hermit','p_repost_other']].mean()"
   ]
  },
  {
   "cell_type": "code",
   "execution_count": null,
   "id": "79dc0397",
   "metadata": {},
   "outputs": [],
   "source": []
  }
 ],
 "metadata": {
  "kernelspec": {
   "display_name": "Python 3 (ipykernel)",
   "language": "python",
   "name": "python3"
  },
  "language_info": {
   "codemirror_mode": {
    "name": "ipython",
    "version": 3
   },
   "file_extension": ".py",
   "mimetype": "text/x-python",
   "name": "python",
   "nbconvert_exporter": "python",
   "pygments_lexer": "ipython3",
   "version": "3.8.2"
  }
 },
 "nbformat": 4,
 "nbformat_minor": 5
}
