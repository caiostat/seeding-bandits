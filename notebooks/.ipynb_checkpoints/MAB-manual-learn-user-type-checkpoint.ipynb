{
 "cells": [
  {
   "cell_type": "code",
   "execution_count": 1,
   "id": "0997b69c",
   "metadata": {},
   "outputs": [],
   "source": [
    "import sys  \n",
    "sys.path.insert(0, '/Users/caiorego/Desktop/BDS/RA/Seeding-Bandits/')\n",
    "import numpy as np\n",
    "path_dir = r\"/Users/../Volumes/Affiliations/\""
   ]
  },
  {
   "cell_type": "code",
   "execution_count": 2,
   "id": "5e203d8d",
   "metadata": {},
   "outputs": [],
   "source": [
    "import sys  \n",
    "import pickle\n",
    "sys.path.insert(0, '/Users/caiorego/Desktop/BDS/RA/Seeding-Bandits/')\n",
    "import numpy as np\n",
    "import src.utils\n",
    "from src.utils import import_dta, import_tracks_dta, successful_creators_followers,\\\n",
    "gen_active_relations, get_fan_interactions_per_week, calculate_avg_monthly_valence,\\\n",
    "gen_active_relations_prob, get_fan_interactions_per_week_prob, stripplot_prob,\\\n",
    "reaction_probability, follower_list, filter_quantile, sample_creators_music,\\\n",
    "gen_outbound_creators\n",
    "import datetime\n",
    "from datetime import datetime\n",
    "import pandas as pd\n",
    "import seaborn as sns\n",
    "import matplotlib.pyplot as plt\n",
    "from scipy.stats import mstats\n",
    "pd.plotting.register_matplotlib_converters()\n",
    "import os\n",
    "\n",
    "import src.probability_utils\n",
    "from src.probability_utils import volume_analysis, valence_analysis\n",
    "import math\n",
    "import matplotlib.ticker as plticker\n",
    "from scipy.interpolate import make_interp_spline, BSpline\n",
    "import seaborn as sns\n",
    "from numpy import random\n",
    "from tabulate import tabulate\n",
    "from IPython.display import display\n",
    "from tqdm import tqdm"
   ]
  },
  {
   "cell_type": "code",
   "execution_count": 3,
   "id": "18290cf0",
   "metadata": {},
   "outputs": [],
   "source": [
    "def process_date(date):\n",
    "    year = date[0:4]\n",
    "    week = date[6:]\n",
    "    day = \"1\"\n",
    "    date = \"{}-{}-1\".format(year, week)\n",
    "    dt = datetime.strptime(date, \"%Y-%W-%w\")\n",
    "    return dt"
   ]
  },
  {
   "cell_type": "code",
   "execution_count": 4,
   "id": "650f3724",
   "metadata": {},
   "outputs": [],
   "source": [
    "path_dir = r\"/Users/../Volumes/Raw/\"\n",
    "music_before = 30\n",
    "low_success = 0.25\n",
    "high_success = 0.75"
   ]
  },
  {
   "cell_type": "code",
   "execution_count": 5,
   "id": "85bb4272",
   "metadata": {},
   "outputs": [
    {
     "name": "stdout",
     "output_type": "stream",
     "text": [
      "%%%%%%%%%% 12sample_tracks.dta %%%%%%%%%%\n",
      "(56262, 7)\n",
      "%%%%%%%%%% 12sample_affiliations_sent.dta %%%%%%%%%%\n",
      "(800913, 3)\n",
      "%%%%%%%%%% 12sample_comments_made.dta %%%%%%%%%%\n",
      "(29258, 4)\n",
      "%%%%%%%%%% 12sample_reposts_made.dta %%%%%%%%%%\n",
      "(179329, 4)\n",
      "%%%%%%%%%% 12sample_favoritings_made.dta %%%%%%%%%%\n",
      "(527701, 4)\n",
      "%%%%%%%%%% 12sample_messages_sent.dta %%%%%%%%%%\n",
      "(11091, 3)\n",
      "%%%%%%%%%% 12sample_user_infos.dta %%%%%%%%%%\n",
      "(35000, 3)\n",
      "%%%%%%%%%% 12sample_1st_deg_user_infos.dta %%%%%%%%%%\n",
      "(670746, 3)\n",
      "%%%%%%%%%% 12sample_affiliations_received.dta %%%%%%%%%%\n",
      "(432503, 3)\n",
      "%%%%%%%%%% 12sample_comments_received.dta %%%%%%%%%%\n",
      "(21386, 4)\n",
      "%%%%%%%%%% 12sample_reposts_received.dta %%%%%%%%%%\n",
      "(83013, 4)\n",
      "%%%%%%%%%% 12sample_favoritings_received.dta %%%%%%%%%%\n",
      "(286903, 4)\n",
      "%%%%%%%%%% 12sample_messages_received.dta %%%%%%%%%%\n",
      "(17364, 3)\n",
      "%%%%%%%%%% 12sample_affiliations.dta %%%%%%%%%%\n",
      "(1233416, 3)\n",
      "%%%%%%%%%% 12sample_comments.dta %%%%%%%%%%\n",
      "(50644, 4)\n",
      "%%%%%%%%%% 12sample_reposts.dta %%%%%%%%%%\n",
      "(262342, 4)\n",
      "%%%%%%%%%% 12sample_favoritings.dta %%%%%%%%%%\n",
      "(814604, 4)\n",
      "%%%%%%%%%% 12sample_messages.dta %%%%%%%%%%\n",
      "(28455, 3)\n",
      "2018-02-03 00:00:00\n",
      "2018-02-03 00:00:00\n",
      "High influencer boundary: 21.0\n",
      "Low influencer boundary: 1.0\n"
     ]
    }
   ],
   "source": [
    "#we will skip comments for now\n",
    "\n",
    "#affiliations :follows\n",
    "#favoritings :likes\n",
    "\n",
    "tracks = import_tracks_dta(path_dir, \"12sample_tracks.dta\");\n",
    "follows_sent = import_dta(path_dir, \"12sample_affiliations_sent.dta\");\n",
    "comments_sent = import_dta(path_dir, \"12sample_comments_made.dta\");\n",
    "shares_sent = import_dta(path_dir, \"12sample_reposts_made.dta\");\n",
    "likes_sent = import_dta(path_dir, \"12sample_favoritings_made.dta\");\n",
    "messages_sent = import_dta(path_dir, \"12sample_messages_sent.dta\");\n",
    "\n",
    "user_info = import_dta(path_dir, \"12sample_user_infos.dta\");\n",
    "user_info_2 = import_dta(path_dir, \"12sample_1st_deg_user_infos.dta\");\n",
    "user_info = pd.concat([user_info, user_info_2]);\n",
    "user_info.drop_duplicates(subset='user_id', keep='first', inplace=True, ignore_index=False);\n",
    "\n",
    "\n",
    "########\n",
    "follows_received = import_dta(path_dir, \"12sample_affiliations_received.dta\");\n",
    "comments_received = import_dta(path_dir, \"12sample_comments_received.dta\");\n",
    "shares_received = import_dta(path_dir, \"12sample_reposts_received.dta\");\n",
    "likes_received = import_dta(path_dir, \"12sample_favoritings_received.dta\");\n",
    "messages_received = import_dta(path_dir, \"12sample_messages_received.dta\");\n",
    "\n",
    "########\n",
    "follows = import_dta(path_dir, \"12sample_affiliations.dta\");\n",
    "comments = import_dta(path_dir, \"12sample_comments.dta\");\n",
    "shares = import_dta(path_dir, \"12sample_reposts.dta\");\n",
    "likes = import_dta(path_dir, \"12sample_favoritings.dta\");\n",
    "messages = import_dta(path_dir, \"12sample_messages.dta\");\n",
    "\n",
    "tracks_first_month = sample_creators_music(tracks, music_before)\n",
    "mask = tracks_first_month.track_available == 1\n",
    "tracks_first_month = tracks_first_month[mask]\n",
    "\n",
    "mask = follows_received.contact_id.isin(tracks_first_month.user_id)\n",
    "follows_received_30 = follows_received[mask]\n",
    "followers_per_creator_60 = successful_creators_followers(follows_received_30, 60, tracks_first_month)\n",
    "followers_per_creator_60_static = successful_creators_followers(follows_received_30, 60, tracks_first_month, always_same_batches = True, \n",
    "                                                        perc1 = low_success, perc2 = high_success)"
   ]
  },
  {
   "cell_type": "code",
   "execution_count": 6,
   "id": "e01c04b2",
   "metadata": {},
   "outputs": [],
   "source": [
    "d = {}\n",
    "for i in range(6):\n",
    "   d[str(i)] = pd.read_pickle('/Users/caiorego/Desktop/BDS/RA/Seeding-Bandits/{}.pkl'.format(i)) \n",
    "   d[str(i)]['created_at'] =  pd.to_datetime(d[str(i)]['created_at'])#.apply(lambda x: datetime.strptime(x, \"%Y-%m-%d %H:%M:%S\"))"
   ]
  },
  {
   "cell_type": "code",
   "execution_count": 7,
   "id": "bd862057",
   "metadata": {},
   "outputs": [],
   "source": [
    "data = pd.concat([d['0'], d['1'], d['2'], d['3'], d['4'], d['5']])"
   ]
  },
  {
   "cell_type": "code",
   "execution_count": 8,
   "id": "01e86493",
   "metadata": {},
   "outputs": [],
   "source": [
    "#data['created_at'] = pd.to_datetime(data['created_at'])"
   ]
  },
  {
   "cell_type": "code",
   "execution_count": 9,
   "id": "c73c7f9d",
   "metadata": {},
   "outputs": [],
   "source": [
    "data.set_index('created_at', inplace = True)"
   ]
  },
  {
   "cell_type": "code",
   "execution_count": 10,
   "id": "8e275676",
   "metadata": {},
   "outputs": [],
   "source": [
    "#outdegree = data.groupby('sender_id').agg(following=('contact_id', pd.Series.nunique))\n",
    "#outdegree_info = user_info_2.merge(outdegree, left_on = 'user_id', right_on = 'sender_id', how= 'left')\n",
    "#outdegree_info.loc[outdegree_info.following.isnull(), 'following'] = 0 "
   ]
  },
  {
   "cell_type": "code",
   "execution_count": 11,
   "id": "e9785e4a",
   "metadata": {},
   "outputs": [],
   "source": [
    "#outdegree_info['decile'] = pd.qcut(outdegree_info['following'], 10, labels=False)"
   ]
  },
  {
   "cell_type": "code",
   "execution_count": 12,
   "id": "b79d37ba",
   "metadata": {},
   "outputs": [],
   "source": [
    "#outdegree_info.head(10)"
   ]
  },
  {
   "cell_type": "code",
   "execution_count": 13,
   "id": "078276ca",
   "metadata": {},
   "outputs": [],
   "source": [
    "#outdegree_info['decile'].value_counts()"
   ]
  },
  {
   "cell_type": "code",
   "execution_count": 14,
   "id": "21a7b046",
   "metadata": {},
   "outputs": [],
   "source": [
    "actions_sent = gen_outbound_creators(follows_sent, shares_sent, likes_sent, comments_sent, tracks,\n",
    "                                     messages_sent = messages_sent, filter_creators = True)\n",
    "mask = actions_sent.user_id.isin(tracks_first_month.user_id.unique())\n",
    "actions_sent = actions_sent[mask]"
   ]
  },
  {
   "cell_type": "code",
   "execution_count": 15,
   "id": "d76dffaf",
   "metadata": {},
   "outputs": [
    {
     "name": "stdout",
     "output_type": "stream",
     "text": [
      "Obtaining fanbase...\n"
     ]
    }
   ],
   "source": [
    "#filter only outbound activities before the follow is received\n",
    "print('Obtaining fanbase...')\n",
    "follows_received.columns = ['fan_id', 'user_id', 'date_sent']\n",
    "followers = follower_list(follows_received)\n",
    "actions_sent = actions_sent.merge(followers, right_on = ['user_id', 'fan_id'],\n",
    "                                      left_on = ['user_id', 'fan_id'], how = 'left')"
   ]
  },
  {
   "cell_type": "code",
   "execution_count": 16,
   "id": "c23680b3",
   "metadata": {},
   "outputs": [
    {
     "name": "stderr",
     "output_type": "stream",
     "text": [
      "/var/folders/f2/cgjzt69n5hlgmtsm36p1pztw0000gn/T/ipykernel_82341/3898105865.py:3: SettingWithCopyWarning: \n",
      "A value is trying to be set on a copy of a slice from a DataFrame.\n",
      "Try using .loc[row_indexer,col_indexer] = value instead\n",
      "\n",
      "See the caveats in the documentation: https://pandas.pydata.org/pandas-docs/stable/user_guide/indexing.html#returning-a-view-versus-a-copy\n",
      "  actions_sent_non_followers['week_yr_date'] = actions_sent_non_followers.week_yr.apply(lambda x: process_date(x))\n"
     ]
    }
   ],
   "source": [
    "mask = (actions_sent.date_sent < actions_sent.follower_since) | (actions_sent.follower_since.isnull())\n",
    "actions_sent_non_followers =  actions_sent[mask]\n",
    "actions_sent_non_followers['week_yr_date'] = actions_sent_non_followers.week_yr.apply(lambda x: process_date(x))"
   ]
  },
  {
   "cell_type": "markdown",
   "id": "286344f6",
   "metadata": {},
   "source": [
    "# MAB"
   ]
  },
  {
   "cell_type": "code",
   "execution_count": 17,
   "id": "6c3da8f0",
   "metadata": {},
   "outputs": [],
   "source": [
    "def create_trials_rewards(df):\n",
    "    '''\n",
    "    Creates reward counts, trial counts and keys to be used in the thompson sampling function\n",
    "    '''\n",
    "    Sent = df.groupby('outbound_activity', as_index = True).size().to_frame(name='sent')\\\n",
    "    .reset_index()\n",
    "    Reward = df.groupby('outbound_activity', as_index = True)\\\n",
    "    .agg(b_Reward = ('reward', 'sum')).reset_index()\n",
    "\n",
    "\n",
    "    keys  = Sent.outbound_activity\n",
    "\n",
    "    return np.array(Sent.sent), np.array(Reward.b_Reward), keys"
   ]
  },
  {
   "cell_type": "code",
   "execution_count": 18,
   "id": "b2a79908",
   "metadata": {},
   "outputs": [],
   "source": [
    "def update_1_step(Sent, Reward):\n",
    "    \n",
    "    alpha = Reward + 1 \n",
    "    beta = (Sent-Reward)+1\n",
    "\n",
    "    mean = alpha/(alpha+beta)\n",
    "    variance = (alpha*beta)/((alpha+beta+1)*((alpha+beta)**2))\n",
    "\n",
    "    return np.around(mean,3), np.around(np.sqrt(variance),3)"
   ]
  },
  {
   "cell_type": "code",
   "execution_count": 19,
   "id": "c22e6bca",
   "metadata": {},
   "outputs": [],
   "source": [
    "def real_time(df, outdegree_df, interval):\n",
    "    \n",
    "    d = {}\n",
    "    \n",
    "    for user_id in df.user_id.unique():\n",
    "        \n",
    "        experiment = {'1':{'Sent':0,'Reward':0}, \n",
    "             '2':{'Sent':0,'Reward':0},\n",
    "             '3':{'Sent':0,'Reward':0},\n",
    "             '4':{'Sent':0,'Reward':0},\n",
    "             '5':{'Sent':0,'Reward':0}, \n",
    "             '6':{'Sent':0,'Reward':0},\n",
    "             '7':{'Sent':0,'Reward':0},\n",
    "             '8':{'Sent':0,'Reward':0},\n",
    "             '9':{'Sent':0,'Reward':0},\n",
    "             '10':{'Sent':0,'Reward':0}}\n",
    "        \n",
    "        dataset_mean = pd.DataFrame({'trials':range(1,df.loc[df['user_id'] == user_id,:].shape[0]+1), \n",
    "              '1': 0,\n",
    "              '2': 0,\n",
    "              '3': 0,\n",
    "              '4': 0,\n",
    "              '5': 0,\n",
    "              '6': 0,\n",
    "              '7': 0,\n",
    "              '8': 0,\n",
    "              '9': 0,\n",
    "              '10': 0})\n",
    "    \n",
    "        dataset_std = pd.DataFrame({'trials':range(1,df.loc[df['user_id'] == user_id,:].shape[0]+1),  \n",
    "              '1': 0,\n",
    "              '2': 0,\n",
    "              '3': 0,\n",
    "              '4': 0,\n",
    "              '5': 0,\n",
    "              '6': 0,\n",
    "              '7': 0,\n",
    "              '8': 0,\n",
    "              '9': 0,\n",
    "              '10': 0}) \n",
    "    \n",
    "        d[user_id] = {'experiment': experiment,'dataset_std': dataset_std, 'dataset_mean': dataset_mean, 'j' : 0}\n",
    "\n",
    "    date_l = min(df.date_sent)\n",
    "    old_outdegree = outdegree_df.iloc[:\n",
    "                  outdegree_df.index.values.searchsorted(np.datetime64(date_l))].groupby('sender_id', as_index = False).size()\n",
    "    old_outdegree = user_info_2.merge(old_outdegree, left_on = 'user_id', right_on = 'sender_id', how= 'left')\n",
    "    old_outdegree.loc[old_outdegree['size'].isnull(), 'size'] = 0 \n",
    "    old_outdegree = old_outdegree[['user_id', 'size']].set_index('user_id')\n",
    "    old_outdegree['decile'] = pd.qcut(old_outdegree['size'], 10, labels=False, duplicates='drop') + 1\n",
    "    old_outdegree['decile'] = old_outdegree[['decile']]  \n",
    "    \n",
    "    for i in tqdm(range(df.shape[0])):\n",
    "        \n",
    "        user_id = df.iloc[i].user_id\n",
    "        fan_id = df.iloc[i].fan_id\n",
    "        j = d[user_id]['j']\n",
    "        d[user_id]['j'] = j + 1\n",
    "        \n",
    "        if i%interval == 0:\n",
    "            date_h = df.iloc[i,:]['date_sent']\n",
    "            new_outdegree = outdegree_df.iloc[outdegree_df.index.values.searchsorted(np.datetime64(date_l)):\n",
    "                  outdegree_df.index.values.searchsorted(np.datetime64(date_h))].groupby('sender_id', as_index = False).size()\n",
    "        \n",
    "            old_outdegree = old_outdegree.add(new_outdegree.set_index('sender_id'), fill_value=0)\n",
    "            old_outdegree['decile'] = pd.qcut(old_outdegree['size'], 10, labels=False, duplicates='drop') + 1\n",
    "            old_outdegree['decile'] = old_outdegree[['decile']]  \n",
    "            date_l = date_h\n",
    "        \n",
    "        try:\n",
    "            d[user_id]['experiment'][str(int(old_outdegree.loc[fan_id]['decile']))]['Sent'] += 1\n",
    "            d[user_id]['experiment'][str(int(old_outdegree.loc[fan_id]['decile']))]['Reward'] += df.iloc[i, -1]\n",
    "            Sent = np.array([a[1]['Sent'] for a in d[user_id]['experiment'].items()])\n",
    "            Reward = np.array([a[1]['Reward'] for a in d[user_id]['experiment'].items()])\n",
    "        \n",
    "            mean, std = update_1_step(Sent, Reward)\n",
    "        \n",
    "            d[user_id]['dataset_mean'].loc[j, ['1', '2', '3', '4', '5', '6', '7', '8', '9', '10']] = np.transpose(mean)\n",
    "            d[user_id]['dataset_std'].loc[j, ['1', '2', '3', '4', '5', '6', '7', '8', '9', '10']] = np.transpose(std)\n",
    "        \n",
    "            print('.', end='')\n",
    "        \n",
    "        except:\n",
    "            print('x', end ='')\n",
    "        \n",
    "    for user_id in df.user_id.unique(): \n",
    "        d[user_id]['dataset_mean'] = pd.concat([d[user_id]['dataset_mean'], df.loc[df['user_id'] == user_id].reset_index()['date_sent']], axis = 1)\n",
    "        \n",
    "        \n",
    "    return d"
   ]
  },
  {
   "cell_type": "markdown",
   "id": "6847f9e4",
   "metadata": {},
   "source": [
    "# Real time updating"
   ]
  },
  {
   "cell_type": "code",
   "execution_count": 20,
   "id": "c3542be0",
   "metadata": {},
   "outputs": [],
   "source": [
    "actions_sent = gen_outbound_creators(follows_sent, shares_sent, likes_sent, comments_sent, tracks,\n",
    "                                     messages_sent = messages_sent, filter_creators = False)"
   ]
  },
  {
   "cell_type": "code",
   "execution_count": 21,
   "id": "733ff52f",
   "metadata": {},
   "outputs": [],
   "source": [
    "mask = actions_sent.user_id.isin(tracks_first_month.user_id) \n",
    "actions_sent = actions_sent[mask]\n",
    "actions_sent_filtered = actions_sent.merge(followers_per_creator_60_static, left_on = 'user_id', right_on = 'user_id', how = \"inner\")"
   ]
  },
  {
   "cell_type": "code",
   "execution_count": 22,
   "id": "d9b1a096",
   "metadata": {},
   "outputs": [
    {
     "name": "stdout",
     "output_type": "stream",
     "text": [
      "Obtaining fanbase...\n"
     ]
    },
    {
     "name": "stderr",
     "output_type": "stream",
     "text": [
      "/var/folders/f2/cgjzt69n5hlgmtsm36p1pztw0000gn/T/ipykernel_82341/1142436393.py:10: SettingWithCopyWarning: \n",
      "A value is trying to be set on a copy of a slice from a DataFrame.\n",
      "Try using .loc[row_indexer,col_indexer] = value instead\n",
      "\n",
      "See the caveats in the documentation: https://pandas.pydata.org/pandas-docs/stable/user_guide/indexing.html#returning-a-view-versus-a-copy\n",
      "  actions_sent_filtered_non_followers['week_yr_date'] = actions_sent_filtered_non_followers.week_yr.apply(lambda x: process_date(x))\n"
     ]
    }
   ],
   "source": [
    "#filter only outbound activities before the follow is received\n",
    "print('Obtaining fanbase...')\n",
    "follows_received.columns = ['fan_id', 'user_id', 'date_sent']\n",
    "followers = follower_list(follows_received)\n",
    "actions_sent_filtered = actions_sent_filtered.merge(followers, right_on = ['user_id', 'fan_id'],\n",
    "                                      left_on = ['user_id', 'fan_id'], how = 'left')\n",
    "\n",
    "mask = (actions_sent_filtered.date_sent < actions_sent_filtered.follower_since) | (actions_sent_filtered.follower_since.isnull())\n",
    "actions_sent_filtered_non_followers =  actions_sent_filtered[mask]\n",
    "actions_sent_filtered_non_followers['week_yr_date'] = actions_sent_filtered_non_followers.week_yr.apply(lambda x: process_date(x))"
   ]
  },
  {
   "cell_type": "code",
   "execution_count": 23,
   "id": "38e9b6aa",
   "metadata": {},
   "outputs": [],
   "source": [
    "mask = actions_sent_filtered_non_followers['fan_id'].isin(data.contact_id.unique())\n",
    "actions_sent_filtered_non_followers = actions_sent_filtered_non_followers.loc[mask]"
   ]
  },
  {
   "cell_type": "code",
   "execution_count": 24,
   "id": "7b318f70",
   "metadata": {},
   "outputs": [
    {
     "name": "stderr",
     "output_type": "stream",
     "text": [
      "/var/folders/f2/cgjzt69n5hlgmtsm36p1pztw0000gn/T/ipykernel_82341/2954351983.py:6: SettingWithCopyWarning: \n",
      "A value is trying to be set on a copy of a slice from a DataFrame.\n",
      "Try using .loc[row_indexer,col_indexer] = value instead\n",
      "\n",
      "See the caveats in the documentation: https://pandas.pydata.org/pandas-docs/stable/user_guide/indexing.html#returning-a-view-versus-a-copy\n",
      "  actions_sent_filtered_non_followers.loc[mask, 'reward'] = 1\n"
     ]
    }
   ],
   "source": [
    "import datetime\n",
    "# Target Creation\n",
    "delta = datetime.timedelta(days = 7)\n",
    "mask = (actions_sent_filtered_non_followers['follower_since'] <= (actions_sent_filtered_non_followers['date_sent'] + delta))\n",
    "\n",
    "actions_sent_filtered_non_followers.loc[mask, 'reward'] = 1\n",
    "mask = actions_sent_filtered_non_followers['reward'].isnull()\n",
    "actions_sent_filtered_non_followers.loc[mask, 'reward'] = 0"
   ]
  },
  {
   "cell_type": "code",
   "execution_count": 25,
   "id": "865df07b",
   "metadata": {},
   "outputs": [
    {
     "name": "stderr",
     "output_type": "stream",
     "text": [
      "/var/folders/f2/cgjzt69n5hlgmtsm36p1pztw0000gn/T/ipykernel_82341/3523808898.py:1: SettingWithCopyWarning: \n",
      "A value is trying to be set on a copy of a slice from a DataFrame\n",
      "\n",
      "See the caveats in the documentation: https://pandas.pydata.org/pandas-docs/stable/user_guide/indexing.html#returning-a-view-versus-a-copy\n",
      "  actions_sent_filtered_non_followers.sort_values(by = 'date_sent', inplace = True)\n"
     ]
    }
   ],
   "source": [
    "actions_sent_filtered_non_followers.sort_values(by = 'date_sent', inplace = True)\n",
    "                                                \n",
    "mask = actions_sent_filtered_non_followers.high_low == 'high'\n",
    "successful_df = actions_sent_filtered_non_followers[mask]\n",
    "\n",
    "mask = actions_sent_filtered_non_followers.high_low == 'low'\n",
    "unsuccessful_df = actions_sent_filtered_non_followers[mask]"
   ]
  },
  {
   "cell_type": "code",
   "execution_count": 26,
   "id": "f849a0e7",
   "metadata": {},
   "outputs": [
    {
     "name": "stderr",
     "output_type": "stream",
     "text": [
      "  0%|                                                                                                                                   | 2/98342 [00:00<1:23:14, 19.69it/s]"
     ]
    },
    {
     "name": "stdout",
     "output_type": "stream",
     "text": [
      ".............................."
     ]
    },
    {
     "name": "stderr",
     "output_type": "stream",
     "text": [
      "  0%|                                                                                                                                   | 61/98342 [00:00<09:34, 170.98it/s]"
     ]
    },
    {
     "name": "stdout",
     "output_type": "stream",
     "text": [
      "............................................................"
     ]
    },
    {
     "name": "stderr",
     "output_type": "stream",
     "text": [
      "  0%|▏                                                                                                                                 | 121/98342 [00:00<07:43, 211.95it/s]"
     ]
    },
    {
     "name": "stdout",
     "output_type": "stream",
     "text": [
      "............................................................"
     ]
    },
    {
     "name": "stderr",
     "output_type": "stream",
     "text": [
      "  0%|▎                                                                                                                                 | 194/98342 [00:00<05:43, 285.35it/s]"
     ]
    },
    {
     "name": "stdout",
     "output_type": "stream",
     "text": [
      ".......................................................................x........."
     ]
    },
    {
     "name": "stderr",
     "output_type": "stream",
     "text": [
      "  0%|▍                                                                                                                                 | 296/98342 [00:01<05:18, 307.65it/s]"
     ]
    },
    {
     "name": "stdout",
     "output_type": "stream",
     "text": [
      ".....................x..........................................."
     ]
    },
    {
     "name": "stderr",
     "output_type": "stream",
     "text": [
      "\r",
      "  0%|▍                                                                                                                                 | 328/98342 [00:01<05:30, 296.23it/s]"
     ]
    },
    {
     "name": "stdout",
     "output_type": "stream",
     "text": [
      ".........x.........x............................................"
     ]
    },
    {
     "name": "stderr",
     "output_type": "stream",
     "text": [
      "  0%|▌                                                                                                                                 | 391/98342 [00:01<06:00, 272.05it/s]"
     ]
    },
    {
     "name": "stdout",
     "output_type": "stream",
     "text": [
      "................x..........................................."
     ]
    },
    {
     "name": "stderr",
     "output_type": "stream",
     "text": [
      "  0%|▌                                                                                                                                 | 461/98342 [00:01<05:16, 308.98it/s]"
     ]
    },
    {
     "name": "stdout",
     "output_type": "stream",
     "text": [
      "......................................................................"
     ]
    },
    {
     "name": "stderr",
     "output_type": "stream",
     "text": [
      "  1%|▋                                                                                                                                 | 523/98342 [00:01<05:40, 286.87it/s]"
     ]
    },
    {
     "name": "stdout",
     "output_type": "stream",
     "text": [
      ".............................x..........x....................."
     ]
    },
    {
     "name": "stderr",
     "output_type": "stream",
     "text": [
      "  1%|▊                                                                                                                                 | 619/98342 [00:02<05:20, 304.87it/s]"
     ]
    },
    {
     "name": "stdout",
     "output_type": "stream",
     "text": [
      "............x.x...................................................."
     ]
    },
    {
     "name": "stderr",
     "output_type": "stream",
     "text": [
      "\r",
      "  1%|▊                                                                                                                                 | 650/98342 [00:02<05:48, 280.04it/s]"
     ]
    },
    {
     "name": "stdout",
     "output_type": "stream",
     "text": [
      "........................................."
     ]
    },
    {
     "name": "stderr",
     "output_type": "stream",
     "text": [
      "  1%|▉                                                                                                                                 | 706/98342 [00:02<06:40, 243.93it/s]"
     ]
    },
    {
     "name": "stdout",
     "output_type": "stream",
     "text": [
      "............................................................"
     ]
    },
    {
     "name": "stderr",
     "output_type": "stream",
     "text": [
      "  1%|▉                                                                                                                                 | 754/98342 [00:02<08:05, 200.83it/s]"
     ]
    },
    {
     "name": "stdout",
     "output_type": "stream",
     "text": [
      "....................x.....x.........xx......................"
     ]
    },
    {
     "name": "stderr",
     "output_type": "stream",
     "text": [
      "  1%|█                                                                                                                                 | 811/98342 [00:03<08:34, 189.45it/s]"
     ]
    },
    {
     "name": "stdout",
     "output_type": "stream",
     "text": [
      "...................................................x........"
     ]
    },
    {
     "name": "stderr",
     "output_type": "stream",
     "text": [
      "  1%|█▏                                                                                                                                | 871/98342 [00:03<07:45, 209.18it/s]"
     ]
    },
    {
     "name": "stdout",
     "output_type": "stream",
     "text": [
      "............................................................"
     ]
    },
    {
     "name": "stderr",
     "output_type": "stream",
     "text": [
      "  1%|█▏                                                                                                                                | 931/98342 [00:03<06:36, 245.90it/s]"
     ]
    },
    {
     "name": "stdout",
     "output_type": "stream",
     "text": [
      ".....................................................x......"
     ]
    },
    {
     "name": "stderr",
     "output_type": "stream",
     "text": [
      "  1%|█▎                                                                                                                                | 991/98342 [00:03<06:19, 256.24it/s]"
     ]
    },
    {
     "name": "stdout",
     "output_type": "stream",
     "text": [
      ".......x...................................................."
     ]
    },
    {
     "name": "stderr",
     "output_type": "stream",
     "text": [
      "  1%|█▍                                                                                                                               | 1065/98342 [00:04<05:14, 309.53it/s]"
     ]
    },
    {
     "name": "stdout",
     "output_type": "stream",
     "text": [
      "............................................................................."
     ]
    },
    {
     "name": "stderr",
     "output_type": "stream",
     "text": [
      "  1%|█▌                                                                                                                               | 1158/98342 [00:04<05:45, 280.98it/s]"
     ]
    },
    {
     "name": "stdout",
     "output_type": "stream",
     "text": [
      "............x.....x.........................................."
     ]
    },
    {
     "name": "stderr",
     "output_type": "stream",
     "text": [
      "  1%|█▌                                                                                                                               | 1230/98342 [00:04<05:07, 315.78it/s]"
     ]
    },
    {
     "name": "stdout",
     "output_type": "stream",
     "text": [
      ".......................x................................................"
     ]
    },
    {
     "name": "stderr",
     "output_type": "stream",
     "text": [
      "\r",
      "  1%|█▋                                                                                                                               | 1262/98342 [00:04<06:17, 257.00it/s]"
     ]
    },
    {
     "name": "stdout",
     "output_type": "stream",
     "text": [
      ".................................x.........................."
     ]
    },
    {
     "name": "stderr",
     "output_type": "stream",
     "text": [
      "  1%|█▋                                                                                                                               | 1321/98342 [00:05<06:16, 257.66it/s]"
     ]
    },
    {
     "name": "stdout",
     "output_type": "stream",
     "text": [
      "............................................................"
     ]
    },
    {
     "name": "stderr",
     "output_type": "stream",
     "text": [
      "  1%|█▊                                                                                                                               | 1381/98342 [00:05<06:15, 257.90it/s]"
     ]
    },
    {
     "name": "stdout",
     "output_type": "stream",
     "text": [
      "............................................................"
     ]
    },
    {
     "name": "stderr",
     "output_type": "stream",
     "text": [
      "  1%|█▉                                                                                                                               | 1441/98342 [00:05<06:29, 248.83it/s]"
     ]
    },
    {
     "name": "stdout",
     "output_type": "stream",
     "text": [
      ".......x..................................x................."
     ]
    },
    {
     "name": "stderr",
     "output_type": "stream",
     "text": [
      "  2%|██                                                                                                                               | 1535/98342 [00:05<05:36, 287.49it/s]"
     ]
    },
    {
     "name": "stdout",
     "output_type": "stream",
     "text": [
      "............................................x...................."
     ]
    },
    {
     "name": "stderr",
     "output_type": "stream",
     "text": [
      "  2%|██                                                                                                                               | 1598/98342 [00:06<05:23, 298.84it/s]"
     ]
    },
    {
     "name": "stdout",
     "output_type": "stream",
     "text": [
      ".................................................x...x..x............................"
     ]
    },
    {
     "name": "stderr",
     "output_type": "stream",
     "text": [
      "  2%|██▏                                                                                                                              | 1664/98342 [00:06<05:09, 312.44it/s]"
     ]
    },
    {
     "name": "stdout",
     "output_type": "stream",
     "text": [
      "..........................................x....x............................"
     ]
    },
    {
     "name": "stderr",
     "output_type": "stream",
     "text": [
      "  2%|██▎                                                                                                                              | 1727/98342 [00:06<05:30, 292.38it/s]"
     ]
    },
    {
     "name": "stdout",
     "output_type": "stream",
     "text": [
      ".......................x...................."
     ]
    },
    {
     "name": "stderr",
     "output_type": "stream",
     "text": [
      "  2%|██▎                                                                                                                              | 1793/98342 [00:06<05:58, 269.45it/s]"
     ]
    },
    {
     "name": "stdout",
     "output_type": "stream",
     "text": [
      "........................................................................................"
     ]
    },
    {
     "name": "stderr",
     "output_type": "stream",
     "text": [
      "  2%|██▍                                                                                                                              | 1889/98342 [00:07<05:57, 269.49it/s]"
     ]
    },
    {
     "name": "stdout",
     "output_type": "stream",
     "text": [
      "............................................................."
     ]
    },
    {
     "name": "stderr",
     "output_type": "stream",
     "text": [
      "\r",
      "  2%|██▌                                                                                                                              | 1917/98342 [00:07<06:18, 254.61it/s]"
     ]
    },
    {
     "name": "stdout",
     "output_type": "stream",
     "text": [
      "............x........................................"
     ]
    },
    {
     "name": "stderr",
     "output_type": "stream",
     "text": [
      "\r",
      "  2%|██▌                                                                                                                              | 1944/98342 [00:07<07:01, 228.79it/s]"
     ]
    },
    {
     "name": "stdout",
     "output_type": "stream",
     "text": [
      "...x......................"
     ]
    },
    {
     "name": "stderr",
     "output_type": "stream",
     "text": [
      "  2%|██▌                                                                                                                              | 1988/98342 [00:07<10:03, 159.69it/s]"
     ]
    },
    {
     "name": "stdout",
     "output_type": "stream",
     "text": [
      "........x................................."
     ]
    },
    {
     "name": "stderr",
     "output_type": "stream",
     "text": [
      "  2%|██▋                                                                                                                              | 2041/98342 [00:08<08:02, 199.78it/s]"
     ]
    },
    {
     "name": "stdout",
     "output_type": "stream",
     "text": [
      "............................................................"
     ]
    },
    {
     "name": "stderr",
     "output_type": "stream",
     "text": [
      "  2%|██▊                                                                                                                              | 2101/98342 [00:08<06:42, 239.09it/s]"
     ]
    },
    {
     "name": "stdout",
     "output_type": "stream",
     "text": [
      "............................................................"
     ]
    },
    {
     "name": "stderr",
     "output_type": "stream",
     "text": [
      "  2%|██▊                                                                                                                              | 2161/98342 [00:08<06:05, 262.86it/s]"
     ]
    },
    {
     "name": "stdout",
     "output_type": "stream",
     "text": [
      "........................................x..................."
     ]
    },
    {
     "name": "stderr",
     "output_type": "stream",
     "text": [
      "  2%|██▉                                                                                                                              | 2221/98342 [00:08<06:16, 255.36it/s]"
     ]
    },
    {
     "name": "stdout",
     "output_type": "stream",
     "text": [
      "............................................................"
     ]
    },
    {
     "name": "stderr",
     "output_type": "stream",
     "text": [
      "  2%|██▉                                                                                                                              | 2281/98342 [00:08<06:33, 244.01it/s]"
     ]
    },
    {
     "name": "stdout",
     "output_type": "stream",
     "text": [
      ".............................................................."
     ]
    },
    {
     "name": "stderr",
     "output_type": "stream",
     "text": [
      "  2%|███                                                                                                                              | 2373/98342 [00:09<05:45, 278.14it/s]"
     ]
    },
    {
     "name": "stdout",
     "output_type": "stream",
     "text": [
      "..............................x..............x.........................................."
     ]
    },
    {
     "name": "stderr",
     "output_type": "stream",
     "text": [
      "  3%|███▏                                                                                                                             | 2475/98342 [00:09<04:59, 319.95it/s]"
     ]
    },
    {
     "name": "stdout",
     "output_type": "stream",
     "text": [
      "..x........................................................................"
     ]
    },
    {
     "name": "stderr",
     "output_type": "stream",
     "text": [
      "  3%|███▎                                                                                                                             | 2542/98342 [00:09<04:57, 322.40it/s]"
     ]
    },
    {
     "name": "stdout",
     "output_type": "stream",
     "text": [
      "....................................................................x......"
     ]
    },
    {
     "name": "stderr",
     "output_type": "stream",
     "text": [
      "  3%|███▍                                                                                                                             | 2608/98342 [00:10<04:57, 321.50it/s]"
     ]
    },
    {
     "name": "stdout",
     "output_type": "stream",
     "text": [
      ".........................................................................................."
     ]
    },
    {
     "name": "stderr",
     "output_type": "stream",
     "text": [
      "  3%|███▌                                                                                                                             | 2708/98342 [00:10<05:14, 304.53it/s]"
     ]
    },
    {
     "name": "stdout",
     "output_type": "stream",
     "text": [
      ".......x..............................xx............................"
     ]
    },
    {
     "name": "stderr",
     "output_type": "stream",
     "text": [
      "  3%|███▋                                                                                                                             | 2775/98342 [00:10<05:00, 317.56it/s]"
     ]
    },
    {
     "name": "stdout",
     "output_type": "stream",
     "text": [
      ".................................................................................."
     ]
    },
    {
     "name": "stderr",
     "output_type": "stream",
     "text": [
      "  3%|███▊                                                                                                                             | 2879/98342 [00:10<04:44, 335.14it/s]"
     ]
    },
    {
     "name": "stdout",
     "output_type": "stream",
     "text": [
      "............................................x.....................................x......"
     ]
    },
    {
     "name": "stderr",
     "output_type": "stream",
     "text": [
      "\r",
      "  3%|███▊                                                                                                                             | 2913/98342 [00:11<05:20, 297.62it/s]"
     ]
    },
    {
     "name": "stdout",
     "output_type": "stream",
     "text": [
      "............................................................."
     ]
    },
    {
     "name": "stderr",
     "output_type": "stream",
     "text": [
      "  3%|███▉                                                                                                                             | 3015/98342 [00:11<04:58, 319.39it/s]"
     ]
    },
    {
     "name": "stdout",
     "output_type": "stream",
     "text": [
      "..........................................................................."
     ]
    },
    {
     "name": "stderr",
     "output_type": "stream",
     "text": [
      "  3%|████                                                                                                                             | 3081/98342 [00:11<04:56, 321.65it/s]"
     ]
    },
    {
     "name": "stdout",
     "output_type": "stream",
     "text": [
      "..........................................................................."
     ]
    },
    {
     "name": "stderr",
     "output_type": "stream",
     "text": [
      "  3%|████▏                                                                                                                            | 3150/98342 [00:11<04:46, 332.63it/s]"
     ]
    },
    {
     "name": "stdout",
     "output_type": "stream",
     "text": [
      "......x.......................................................................x........."
     ]
    },
    {
     "name": "stderr",
     "output_type": "stream",
     "text": [
      "  3%|████▏                                                                                                                            | 3216/98342 [00:11<05:19, 297.60it/s]"
     ]
    },
    {
     "name": "stdout",
     "output_type": "stream",
     "text": [
      "........x......................x.........x..x..........x......"
     ]
    },
    {
     "name": "stderr",
     "output_type": "stream",
     "text": [
      "  3%|████▎                                                                                                                            | 3319/98342 [00:12<04:51, 325.48it/s]"
     ]
    },
    {
     "name": "stdout",
     "output_type": "stream",
     "text": [
      "..............................................................................."
     ]
    },
    {
     "name": "stderr",
     "output_type": "stream",
     "text": [
      "  3%|████▍                                                                                                                            | 3385/98342 [00:12<04:56, 320.71it/s]"
     ]
    },
    {
     "name": "stdout",
     "output_type": "stream",
     "text": [
      "....................................x..................x..............."
     ]
    },
    {
     "name": "stderr",
     "output_type": "stream",
     "text": [
      "  4%|████▌                                                                                                                            | 3452/98342 [00:12<05:23, 293.39it/s]"
     ]
    },
    {
     "name": "stdout",
     "output_type": "stream",
     "text": [
      ".........................................................................................."
     ]
    },
    {
     "name": "stderr",
     "output_type": "stream",
     "text": [
      "  4%|████▋                                                                                                                            | 3554/98342 [00:13<05:01, 314.77it/s]"
     ]
    },
    {
     "name": "stdout",
     "output_type": "stream",
     "text": [
      "....................x...........x........................................."
     ]
    },
    {
     "name": "stderr",
     "output_type": "stream",
     "text": [
      "  4%|████▋                                                                                                                            | 3621/98342 [00:13<04:52, 324.09it/s]"
     ]
    },
    {
     "name": "stdout",
     "output_type": "stream",
     "text": [
      ".............................................................x.............."
     ]
    },
    {
     "name": "stderr",
     "output_type": "stream",
     "text": [
      "  4%|████▊                                                                                                                            | 3687/98342 [00:13<04:57, 318.06it/s]"
     ]
    },
    {
     "name": "stdout",
     "output_type": "stream",
     "text": [
      ".............................................................................."
     ]
    },
    {
     "name": "stderr",
     "output_type": "stream",
     "text": [
      "  4%|████▉                                                                                                                            | 3752/98342 [00:13<05:23, 292.48it/s]"
     ]
    },
    {
     "name": "stdout",
     "output_type": "stream",
     "text": [
      "........................................x..............................."
     ]
    },
    {
     "name": "stderr",
     "output_type": "stream",
     "text": [
      "  4%|█████                                                                                                                            | 3812/98342 [00:13<05:45, 273.43it/s]"
     ]
    },
    {
     "name": "stdout",
     "output_type": "stream",
     "text": [
      "............................................................"
     ]
    },
    {
     "name": "stderr",
     "output_type": "stream",
     "text": [
      "  4%|█████                                                                                                                            | 3873/98342 [00:14<05:47, 272.12it/s]"
     ]
    },
    {
     "name": "stdout",
     "output_type": "stream",
     "text": [
      "............................................................"
     ]
    },
    {
     "name": "stderr",
     "output_type": "stream",
     "text": [
      "  4%|█████▏                                                                                                                           | 3931/98342 [00:14<06:27, 243.78it/s]"
     ]
    },
    {
     "name": "stdout",
     "output_type": "stream",
     "text": [
      "............................................................"
     ]
    },
    {
     "name": "stderr",
     "output_type": "stream",
     "text": [
      "  4%|█████▏                                                                                                                           | 3995/98342 [00:14<05:38, 278.76it/s]"
     ]
    },
    {
     "name": "stdout",
     "output_type": "stream",
     "text": [
      "...................................................................."
     ]
    },
    {
     "name": "stderr",
     "output_type": "stream",
     "text": [
      "  4%|█████▎                                                                                                                           | 4096/98342 [00:14<04:59, 314.39it/s]"
     ]
    },
    {
     "name": "stdout",
     "output_type": "stream",
     "text": [
      ".................................................................................."
     ]
    },
    {
     "name": "stderr",
     "output_type": "stream",
     "text": [
      "  4%|█████▍                                                                                                                           | 4159/98342 [00:15<05:35, 280.63it/s]"
     ]
    },
    {
     "name": "stdout",
     "output_type": "stream",
     "text": [
      "............................................................"
     ]
    },
    {
     "name": "stderr",
     "output_type": "stream",
     "text": [
      "  4%|█████▌                                                                                                                           | 4256/98342 [00:15<05:12, 301.01it/s]"
     ]
    },
    {
     "name": "stdout",
     "output_type": "stream",
     "text": [
      "......................................................................................"
     ]
    },
    {
     "name": "stderr",
     "output_type": "stream",
     "text": [
      "\r",
      "  4%|█████▋                                                                                                                           | 4289/98342 [00:15<05:04, 308.50it/s]"
     ]
    },
    {
     "name": "stdout",
     "output_type": "stream",
     "text": [
      "................................................................"
     ]
    },
    {
     "name": "stderr",
     "output_type": "stream",
     "text": [
      "  4%|█████▋                                                                                                                           | 4356/98342 [00:15<05:27, 287.04it/s]"
     ]
    },
    {
     "name": "stdout",
     "output_type": "stream",
     "text": [
      "............................................................"
     ]
    },
    {
     "name": "stderr",
     "output_type": "stream",
     "text": [
      "  4%|█████▊                                                                                                                           | 4414/98342 [00:16<06:08, 255.19it/s]"
     ]
    },
    {
     "name": "stdout",
     "output_type": "stream",
     "text": [
      "....................................................xx...x.."
     ]
    },
    {
     "name": "stderr",
     "output_type": "stream",
     "text": [
      "  5%|█████▊                                                                                                                           | 4471/98342 [00:16<06:04, 257.55it/s]"
     ]
    },
    {
     "name": "stdout",
     "output_type": "stream",
     "text": [
      "...xx......................................................."
     ]
    },
    {
     "name": "stderr",
     "output_type": "stream",
     "text": [
      "  5%|█████▉                                                                                                                           | 4563/98342 [00:16<05:34, 280.48it/s]"
     ]
    },
    {
     "name": "stdout",
     "output_type": "stream",
     "text": [
      "..............................................................."
     ]
    },
    {
     "name": "stderr",
     "output_type": "stream",
     "text": [
      "  5%|██████                                                                                                                           | 4621/98342 [00:16<05:44, 271.82it/s]"
     ]
    },
    {
     "name": "stdout",
     "output_type": "stream",
     "text": [
      "...............................................................x.........x.x........x.."
     ]
    },
    {
     "name": "stderr",
     "output_type": "stream",
     "text": [
      "  5%|██████▏                                                                                                                          | 4681/98342 [00:17<06:00, 260.04it/s]"
     ]
    },
    {
     "name": "stdout",
     "output_type": "stream",
     "text": [
      "..................................................x.....x..."
     ]
    },
    {
     "name": "stderr",
     "output_type": "stream",
     "text": [
      "  5%|██████▎                                                                                                                          | 4780/98342 [00:17<05:12, 299.64it/s]"
     ]
    },
    {
     "name": "stdout",
     "output_type": "stream",
     "text": [
      "......................................................................"
     ]
    },
    {
     "name": "stderr",
     "output_type": "stream",
     "text": [
      "  5%|██████▎                                                                                                                          | 4843/98342 [00:17<05:17, 294.66it/s]"
     ]
    },
    {
     "name": "stdout",
     "output_type": "stream",
     "text": [
      "................................................................................"
     ]
    },
    {
     "name": "stderr",
     "output_type": "stream",
     "text": [
      "  5%|██████▍                                                                                                                          | 4902/98342 [00:17<05:47, 268.90it/s]"
     ]
    },
    {
     "name": "stdout",
     "output_type": "stream",
     "text": [
      "...............................x..............................x.x................."
     ]
    },
    {
     "name": "stderr",
     "output_type": "stream",
     "text": [
      "  5%|██████▌                                                                                                                          | 5010/98342 [00:18<05:38, 275.41it/s]\n"
     ]
    },
    {
     "name": "stdout",
     "output_type": "stream",
     "text": [
      "...................................................................."
     ]
    },
    {
     "ename": "KeyboardInterrupt",
     "evalue": "",
     "output_type": "error",
     "traceback": [
      "\u001b[0;31m---------------------------------------------------------------------------\u001b[0m",
      "\u001b[0;31mKeyboardInterrupt\u001b[0m                         Traceback (most recent call last)",
      "Input \u001b[0;32mIn [26]\u001b[0m, in \u001b[0;36m<cell line: 1>\u001b[0;34m()\u001b[0m\n\u001b[0;32m----> 1\u001b[0m dict_successful_df \u001b[38;5;241m=\u001b[39m  \u001b[43mreal_time\u001b[49m\u001b[43m(\u001b[49m\u001b[43msuccessful_df\u001b[49m\u001b[43m,\u001b[49m\u001b[43m \u001b[49m\u001b[43mdata\u001b[49m\u001b[43m,\u001b[49m\u001b[43m \u001b[49m\u001b[38;5;241;43m30\u001b[39;49m\u001b[43m)\u001b[49m\n\u001b[1;32m      2\u001b[0m \u001b[38;5;28;01mwith\u001b[39;00m \u001b[38;5;28mopen\u001b[39m(\u001b[38;5;124m'\u001b[39m\u001b[38;5;124m/Users/caiorego/Desktop/BDS/RA/Seeding-Bandits/dict_sucessful_df.pkl\u001b[39m\u001b[38;5;124m'\u001b[39m, \u001b[38;5;124m'\u001b[39m\u001b[38;5;124mwb\u001b[39m\u001b[38;5;124m'\u001b[39m) \u001b[38;5;28;01mas\u001b[39;00m handle:\n\u001b[1;32m      3\u001b[0m     pickle\u001b[38;5;241m.\u001b[39mdump(dict_successful_df, handle, protocol\u001b[38;5;241m=\u001b[39mpickle\u001b[38;5;241m.\u001b[39mHIGHEST_PROTOCOL)\n",
      "Input \u001b[0;32mIn [19]\u001b[0m, in \u001b[0;36mreal_time\u001b[0;34m(df, outdegree_df, interval)\u001b[0m\n\u001b[1;32m     61\u001b[0m date_h \u001b[38;5;241m=\u001b[39m df\u001b[38;5;241m.\u001b[39miloc[i,:][\u001b[38;5;124m'\u001b[39m\u001b[38;5;124mdate_sent\u001b[39m\u001b[38;5;124m'\u001b[39m]\n\u001b[1;32m     62\u001b[0m new_outdegree \u001b[38;5;241m=\u001b[39m outdegree_df\u001b[38;5;241m.\u001b[39miloc[outdegree_df\u001b[38;5;241m.\u001b[39mindex\u001b[38;5;241m.\u001b[39mvalues\u001b[38;5;241m.\u001b[39msearchsorted(np\u001b[38;5;241m.\u001b[39mdatetime64(date_l)):\n\u001b[1;32m     63\u001b[0m       outdegree_df\u001b[38;5;241m.\u001b[39mindex\u001b[38;5;241m.\u001b[39mvalues\u001b[38;5;241m.\u001b[39msearchsorted(np\u001b[38;5;241m.\u001b[39mdatetime64(date_h))]\u001b[38;5;241m.\u001b[39mgroupby(\u001b[38;5;124m'\u001b[39m\u001b[38;5;124msender_id\u001b[39m\u001b[38;5;124m'\u001b[39m, as_index \u001b[38;5;241m=\u001b[39m \u001b[38;5;28;01mFalse\u001b[39;00m)\u001b[38;5;241m.\u001b[39msize()\n\u001b[0;32m---> 65\u001b[0m old_outdegree \u001b[38;5;241m=\u001b[39m \u001b[43mold_outdegree\u001b[49m\u001b[38;5;241;43m.\u001b[39;49m\u001b[43madd\u001b[49m\u001b[43m(\u001b[49m\u001b[43mnew_outdegree\u001b[49m\u001b[38;5;241;43m.\u001b[39;49m\u001b[43mset_index\u001b[49m\u001b[43m(\u001b[49m\u001b[38;5;124;43m'\u001b[39;49m\u001b[38;5;124;43msender_id\u001b[39;49m\u001b[38;5;124;43m'\u001b[39;49m\u001b[43m)\u001b[49m\u001b[43m,\u001b[49m\u001b[43m \u001b[49m\u001b[43mfill_value\u001b[49m\u001b[38;5;241;43m=\u001b[39;49m\u001b[38;5;241;43m0\u001b[39;49m\u001b[43m)\u001b[49m\n\u001b[1;32m     66\u001b[0m old_outdegree[\u001b[38;5;124m'\u001b[39m\u001b[38;5;124mdecile\u001b[39m\u001b[38;5;124m'\u001b[39m] \u001b[38;5;241m=\u001b[39m pd\u001b[38;5;241m.\u001b[39mqcut(old_outdegree[\u001b[38;5;124m'\u001b[39m\u001b[38;5;124msize\u001b[39m\u001b[38;5;124m'\u001b[39m], \u001b[38;5;241m10\u001b[39m, labels\u001b[38;5;241m=\u001b[39m\u001b[38;5;28;01mFalse\u001b[39;00m, duplicates\u001b[38;5;241m=\u001b[39m\u001b[38;5;124m'\u001b[39m\u001b[38;5;124mdrop\u001b[39m\u001b[38;5;124m'\u001b[39m) \u001b[38;5;241m+\u001b[39m \u001b[38;5;241m1\u001b[39m\n\u001b[1;32m     67\u001b[0m old_outdegree[\u001b[38;5;124m'\u001b[39m\u001b[38;5;124mdecile\u001b[39m\u001b[38;5;124m'\u001b[39m] \u001b[38;5;241m=\u001b[39m old_outdegree[[\u001b[38;5;124m'\u001b[39m\u001b[38;5;124mdecile\u001b[39m\u001b[38;5;124m'\u001b[39m]]  \n",
      "File \u001b[0;32m~/Desktop/BDS/RA/Seeding-Bandits/venv/lib/python3.8/site-packages/pandas/core/ops/__init__.py:434\u001b[0m, in \u001b[0;36mflex_arith_method_FRAME.<locals>.f\u001b[0;34m(self, other, axis, level, fill_value)\u001b[0m\n\u001b[1;32m    431\u001b[0m axis \u001b[38;5;241m=\u001b[39m \u001b[38;5;28mself\u001b[39m\u001b[38;5;241m.\u001b[39m_get_axis_number(axis) \u001b[38;5;28;01mif\u001b[39;00m axis \u001b[38;5;129;01mis\u001b[39;00m \u001b[38;5;129;01mnot\u001b[39;00m \u001b[38;5;28;01mNone\u001b[39;00m \u001b[38;5;28;01melse\u001b[39;00m \u001b[38;5;241m1\u001b[39m\n\u001b[1;32m    433\u001b[0m other \u001b[38;5;241m=\u001b[39m maybe_prepare_scalar_for_op(other, \u001b[38;5;28mself\u001b[39m\u001b[38;5;241m.\u001b[39mshape)\n\u001b[0;32m--> 434\u001b[0m \u001b[38;5;28mself\u001b[39m, other \u001b[38;5;241m=\u001b[39m \u001b[43malign_method_FRAME\u001b[49m\u001b[43m(\u001b[49m\u001b[38;5;28;43mself\u001b[39;49m\u001b[43m,\u001b[49m\u001b[43m \u001b[49m\u001b[43mother\u001b[49m\u001b[43m,\u001b[49m\u001b[43m \u001b[49m\u001b[43maxis\u001b[49m\u001b[43m,\u001b[49m\u001b[43m \u001b[49m\u001b[43mflex\u001b[49m\u001b[38;5;241;43m=\u001b[39;49m\u001b[38;5;28;43;01mTrue\u001b[39;49;00m\u001b[43m,\u001b[49m\u001b[43m \u001b[49m\u001b[43mlevel\u001b[49m\u001b[38;5;241;43m=\u001b[39;49m\u001b[43mlevel\u001b[49m\u001b[43m)\u001b[49m\n\u001b[1;32m    436\u001b[0m \u001b[38;5;28;01mif\u001b[39;00m \u001b[38;5;28misinstance\u001b[39m(other, ABCDataFrame):\n\u001b[1;32m    437\u001b[0m     \u001b[38;5;66;03m# Another DataFrame\u001b[39;00m\n\u001b[1;32m    438\u001b[0m     new_data \u001b[38;5;241m=\u001b[39m \u001b[38;5;28mself\u001b[39m\u001b[38;5;241m.\u001b[39m_combine_frame(other, na_op, fill_value)\n",
      "File \u001b[0;32m~/Desktop/BDS/RA/Seeding-Bandits/venv/lib/python3.8/site-packages/pandas/core/ops/__init__.py:287\u001b[0m, in \u001b[0;36malign_method_FRAME\u001b[0;34m(left, right, axis, flex, level)\u001b[0m\n\u001b[1;32m    285\u001b[0m \u001b[38;5;28;01mif\u001b[39;00m \u001b[38;5;129;01mnot\u001b[39;00m left\u001b[38;5;241m.\u001b[39m_indexed_same(right):\n\u001b[1;32m    286\u001b[0m     \u001b[38;5;28;01mif\u001b[39;00m flex:\n\u001b[0;32m--> 287\u001b[0m         left, right \u001b[38;5;241m=\u001b[39m \u001b[43mleft\u001b[49m\u001b[38;5;241;43m.\u001b[39;49m\u001b[43malign\u001b[49m\u001b[43m(\u001b[49m\u001b[43mright\u001b[49m\u001b[43m,\u001b[49m\u001b[43m \u001b[49m\u001b[43mjoin\u001b[49m\u001b[38;5;241;43m=\u001b[39;49m\u001b[38;5;124;43m\"\u001b[39;49m\u001b[38;5;124;43mouter\u001b[39;49m\u001b[38;5;124;43m\"\u001b[39;49m\u001b[43m,\u001b[49m\u001b[43m \u001b[49m\u001b[43mlevel\u001b[49m\u001b[38;5;241;43m=\u001b[39;49m\u001b[43mlevel\u001b[49m\u001b[43m,\u001b[49m\u001b[43m \u001b[49m\u001b[43mcopy\u001b[49m\u001b[38;5;241;43m=\u001b[39;49m\u001b[38;5;28;43;01mFalse\u001b[39;49;00m\u001b[43m)\u001b[49m\n\u001b[1;32m    288\u001b[0m     \u001b[38;5;28;01melse\u001b[39;00m:\n\u001b[1;32m    289\u001b[0m         \u001b[38;5;28;01mraise\u001b[39;00m \u001b[38;5;167;01mValueError\u001b[39;00m(\n\u001b[1;32m    290\u001b[0m             \u001b[38;5;124m\"\u001b[39m\u001b[38;5;124mCan only compare identically-labeled DataFrame objects\u001b[39m\u001b[38;5;124m\"\u001b[39m\n\u001b[1;32m    291\u001b[0m         )\n",
      "File \u001b[0;32m~/Desktop/BDS/RA/Seeding-Bandits/venv/lib/python3.8/site-packages/pandas/core/frame.py:4709\u001b[0m, in \u001b[0;36mDataFrame.align\u001b[0;34m(self, other, join, axis, level, copy, fill_value, method, limit, fill_axis, broadcast_axis)\u001b[0m\n\u001b[1;32m   4695\u001b[0m \u001b[38;5;129m@doc\u001b[39m(NDFrame\u001b[38;5;241m.\u001b[39malign, \u001b[38;5;241m*\u001b[39m\u001b[38;5;241m*\u001b[39m_shared_doc_kwargs)\n\u001b[1;32m   4696\u001b[0m \u001b[38;5;28;01mdef\u001b[39;00m \u001b[38;5;21malign\u001b[39m(\n\u001b[1;32m   4697\u001b[0m     \u001b[38;5;28mself\u001b[39m,\n\u001b[0;32m   (...)\u001b[0m\n\u001b[1;32m   4707\u001b[0m     broadcast_axis: Axis \u001b[38;5;241m|\u001b[39m \u001b[38;5;28;01mNone\u001b[39;00m \u001b[38;5;241m=\u001b[39m \u001b[38;5;28;01mNone\u001b[39;00m,\n\u001b[1;32m   4708\u001b[0m ) \u001b[38;5;241m-\u001b[39m\u001b[38;5;241m>\u001b[39m DataFrame:\n\u001b[0;32m-> 4709\u001b[0m     \u001b[38;5;28;01mreturn\u001b[39;00m \u001b[38;5;28;43msuper\u001b[39;49m\u001b[43m(\u001b[49m\u001b[43m)\u001b[49m\u001b[38;5;241;43m.\u001b[39;49m\u001b[43malign\u001b[49m\u001b[43m(\u001b[49m\n\u001b[1;32m   4710\u001b[0m \u001b[43m        \u001b[49m\u001b[43mother\u001b[49m\u001b[43m,\u001b[49m\n\u001b[1;32m   4711\u001b[0m \u001b[43m        \u001b[49m\u001b[43mjoin\u001b[49m\u001b[38;5;241;43m=\u001b[39;49m\u001b[43mjoin\u001b[49m\u001b[43m,\u001b[49m\n\u001b[1;32m   4712\u001b[0m \u001b[43m        \u001b[49m\u001b[43maxis\u001b[49m\u001b[38;5;241;43m=\u001b[39;49m\u001b[43maxis\u001b[49m\u001b[43m,\u001b[49m\n\u001b[1;32m   4713\u001b[0m \u001b[43m        \u001b[49m\u001b[43mlevel\u001b[49m\u001b[38;5;241;43m=\u001b[39;49m\u001b[43mlevel\u001b[49m\u001b[43m,\u001b[49m\n\u001b[1;32m   4714\u001b[0m \u001b[43m        \u001b[49m\u001b[43mcopy\u001b[49m\u001b[38;5;241;43m=\u001b[39;49m\u001b[43mcopy\u001b[49m\u001b[43m,\u001b[49m\n\u001b[1;32m   4715\u001b[0m \u001b[43m        \u001b[49m\u001b[43mfill_value\u001b[49m\u001b[38;5;241;43m=\u001b[39;49m\u001b[43mfill_value\u001b[49m\u001b[43m,\u001b[49m\n\u001b[1;32m   4716\u001b[0m \u001b[43m        \u001b[49m\u001b[43mmethod\u001b[49m\u001b[38;5;241;43m=\u001b[39;49m\u001b[43mmethod\u001b[49m\u001b[43m,\u001b[49m\n\u001b[1;32m   4717\u001b[0m \u001b[43m        \u001b[49m\u001b[43mlimit\u001b[49m\u001b[38;5;241;43m=\u001b[39;49m\u001b[43mlimit\u001b[49m\u001b[43m,\u001b[49m\n\u001b[1;32m   4718\u001b[0m \u001b[43m        \u001b[49m\u001b[43mfill_axis\u001b[49m\u001b[38;5;241;43m=\u001b[39;49m\u001b[43mfill_axis\u001b[49m\u001b[43m,\u001b[49m\n\u001b[1;32m   4719\u001b[0m \u001b[43m        \u001b[49m\u001b[43mbroadcast_axis\u001b[49m\u001b[38;5;241;43m=\u001b[39;49m\u001b[43mbroadcast_axis\u001b[49m\u001b[43m,\u001b[49m\n\u001b[1;32m   4720\u001b[0m \u001b[43m    \u001b[49m\u001b[43m)\u001b[49m\n",
      "File \u001b[0;32m~/Desktop/BDS/RA/Seeding-Bandits/venv/lib/python3.8/site-packages/pandas/core/generic.py:8860\u001b[0m, in \u001b[0;36mNDFrame.align\u001b[0;34m(self, other, join, axis, level, copy, fill_value, method, limit, fill_axis, broadcast_axis)\u001b[0m\n\u001b[1;32m   8858\u001b[0m     axis \u001b[38;5;241m=\u001b[39m \u001b[38;5;28mself\u001b[39m\u001b[38;5;241m.\u001b[39m_get_axis_number(axis)\n\u001b[1;32m   8859\u001b[0m \u001b[38;5;28;01mif\u001b[39;00m \u001b[38;5;28misinstance\u001b[39m(other, ABCDataFrame):\n\u001b[0;32m-> 8860\u001b[0m     \u001b[38;5;28;01mreturn\u001b[39;00m \u001b[38;5;28;43mself\u001b[39;49m\u001b[38;5;241;43m.\u001b[39;49m\u001b[43m_align_frame\u001b[49m\u001b[43m(\u001b[49m\n\u001b[1;32m   8861\u001b[0m \u001b[43m        \u001b[49m\u001b[43mother\u001b[49m\u001b[43m,\u001b[49m\n\u001b[1;32m   8862\u001b[0m \u001b[43m        \u001b[49m\u001b[43mjoin\u001b[49m\u001b[38;5;241;43m=\u001b[39;49m\u001b[43mjoin\u001b[49m\u001b[43m,\u001b[49m\n\u001b[1;32m   8863\u001b[0m \u001b[43m        \u001b[49m\u001b[43maxis\u001b[49m\u001b[38;5;241;43m=\u001b[39;49m\u001b[43maxis\u001b[49m\u001b[43m,\u001b[49m\n\u001b[1;32m   8864\u001b[0m \u001b[43m        \u001b[49m\u001b[43mlevel\u001b[49m\u001b[38;5;241;43m=\u001b[39;49m\u001b[43mlevel\u001b[49m\u001b[43m,\u001b[49m\n\u001b[1;32m   8865\u001b[0m \u001b[43m        \u001b[49m\u001b[43mcopy\u001b[49m\u001b[38;5;241;43m=\u001b[39;49m\u001b[43mcopy\u001b[49m\u001b[43m,\u001b[49m\n\u001b[1;32m   8866\u001b[0m \u001b[43m        \u001b[49m\u001b[43mfill_value\u001b[49m\u001b[38;5;241;43m=\u001b[39;49m\u001b[43mfill_value\u001b[49m\u001b[43m,\u001b[49m\n\u001b[1;32m   8867\u001b[0m \u001b[43m        \u001b[49m\u001b[43mmethod\u001b[49m\u001b[38;5;241;43m=\u001b[39;49m\u001b[43mmethod\u001b[49m\u001b[43m,\u001b[49m\n\u001b[1;32m   8868\u001b[0m \u001b[43m        \u001b[49m\u001b[43mlimit\u001b[49m\u001b[38;5;241;43m=\u001b[39;49m\u001b[43mlimit\u001b[49m\u001b[43m,\u001b[49m\n\u001b[1;32m   8869\u001b[0m \u001b[43m        \u001b[49m\u001b[43mfill_axis\u001b[49m\u001b[38;5;241;43m=\u001b[39;49m\u001b[43mfill_axis\u001b[49m\u001b[43m,\u001b[49m\n\u001b[1;32m   8870\u001b[0m \u001b[43m    \u001b[49m\u001b[43m)\u001b[49m\n\u001b[1;32m   8871\u001b[0m \u001b[38;5;28;01melif\u001b[39;00m \u001b[38;5;28misinstance\u001b[39m(other, ABCSeries):\n\u001b[1;32m   8872\u001b[0m     \u001b[38;5;28;01mreturn\u001b[39;00m \u001b[38;5;28mself\u001b[39m\u001b[38;5;241m.\u001b[39m_align_series(\n\u001b[1;32m   8873\u001b[0m         other,\n\u001b[1;32m   8874\u001b[0m         join\u001b[38;5;241m=\u001b[39mjoin,\n\u001b[0;32m   (...)\u001b[0m\n\u001b[1;32m   8881\u001b[0m         fill_axis\u001b[38;5;241m=\u001b[39mfill_axis,\n\u001b[1;32m   8882\u001b[0m     )\n",
      "File \u001b[0;32m~/Desktop/BDS/RA/Seeding-Bandits/venv/lib/python3.8/site-packages/pandas/core/generic.py:8916\u001b[0m, in \u001b[0;36mNDFrame._align_frame\u001b[0;34m(self, other, join, axis, level, copy, fill_value, method, limit, fill_axis)\u001b[0m\n\u001b[1;32m   8907\u001b[0m     join_index, ilidx, iridx \u001b[38;5;241m=\u001b[39m \u001b[38;5;28mself\u001b[39m\u001b[38;5;241m.\u001b[39mindex\u001b[38;5;241m.\u001b[39mjoin(\n\u001b[1;32m   8908\u001b[0m         other\u001b[38;5;241m.\u001b[39mindex, how\u001b[38;5;241m=\u001b[39mjoin, level\u001b[38;5;241m=\u001b[39mlevel, return_indexers\u001b[38;5;241m=\u001b[39m\u001b[38;5;28;01mTrue\u001b[39;00m\n\u001b[1;32m   8909\u001b[0m     )\n\u001b[1;32m   8911\u001b[0m \u001b[38;5;28;01mif\u001b[39;00m (\n\u001b[1;32m   8912\u001b[0m     (axis \u001b[38;5;129;01mis\u001b[39;00m \u001b[38;5;28;01mNone\u001b[39;00m \u001b[38;5;129;01mor\u001b[39;00m axis \u001b[38;5;241m==\u001b[39m \u001b[38;5;241m1\u001b[39m)\n\u001b[1;32m   8913\u001b[0m     \u001b[38;5;129;01mand\u001b[39;00m \u001b[38;5;129;01mnot\u001b[39;00m is_series\n\u001b[1;32m   8914\u001b[0m     \u001b[38;5;129;01mand\u001b[39;00m \u001b[38;5;129;01mnot\u001b[39;00m \u001b[38;5;28mself\u001b[39m\u001b[38;5;241m.\u001b[39mcolumns\u001b[38;5;241m.\u001b[39mequals(other\u001b[38;5;241m.\u001b[39mcolumns)\n\u001b[1;32m   8915\u001b[0m ):\n\u001b[0;32m-> 8916\u001b[0m     join_columns, clidx, cridx \u001b[38;5;241m=\u001b[39m \u001b[38;5;28;43mself\u001b[39;49m\u001b[38;5;241;43m.\u001b[39;49m\u001b[43mcolumns\u001b[49m\u001b[38;5;241;43m.\u001b[39;49m\u001b[43mjoin\u001b[49m\u001b[43m(\u001b[49m\n\u001b[1;32m   8917\u001b[0m \u001b[43m        \u001b[49m\u001b[43mother\u001b[49m\u001b[38;5;241;43m.\u001b[39;49m\u001b[43mcolumns\u001b[49m\u001b[43m,\u001b[49m\u001b[43m \u001b[49m\u001b[43mhow\u001b[49m\u001b[38;5;241;43m=\u001b[39;49m\u001b[43mjoin\u001b[49m\u001b[43m,\u001b[49m\u001b[43m \u001b[49m\u001b[43mlevel\u001b[49m\u001b[38;5;241;43m=\u001b[39;49m\u001b[43mlevel\u001b[49m\u001b[43m,\u001b[49m\u001b[43m \u001b[49m\u001b[43mreturn_indexers\u001b[49m\u001b[38;5;241;43m=\u001b[39;49m\u001b[38;5;28;43;01mTrue\u001b[39;49;00m\n\u001b[1;32m   8918\u001b[0m \u001b[43m    \u001b[49m\u001b[43m)\u001b[49m\n\u001b[1;32m   8920\u001b[0m \u001b[38;5;28;01mif\u001b[39;00m is_series:\n\u001b[1;32m   8921\u001b[0m     reindexers \u001b[38;5;241m=\u001b[39m {\u001b[38;5;241m0\u001b[39m: [join_index, ilidx]}\n",
      "File \u001b[0;32m~/Desktop/BDS/RA/Seeding-Bandits/venv/lib/python3.8/site-packages/pandas/core/indexes/base.py:216\u001b[0m, in \u001b[0;36m_maybe_return_indexers.<locals>.join\u001b[0;34m(self, other, how, level, return_indexers, sort)\u001b[0m\n\u001b[1;32m    207\u001b[0m \u001b[38;5;129m@functools\u001b[39m\u001b[38;5;241m.\u001b[39mwraps(meth)\n\u001b[1;32m    208\u001b[0m \u001b[38;5;28;01mdef\u001b[39;00m \u001b[38;5;21mjoin\u001b[39m(\n\u001b[1;32m    209\u001b[0m     \u001b[38;5;28mself\u001b[39m,\n\u001b[0;32m   (...)\u001b[0m\n\u001b[1;32m    214\u001b[0m     sort: \u001b[38;5;28mbool\u001b[39m \u001b[38;5;241m=\u001b[39m \u001b[38;5;28;01mFalse\u001b[39;00m,\n\u001b[1;32m    215\u001b[0m ):\n\u001b[0;32m--> 216\u001b[0m     join_index, lidx, ridx \u001b[38;5;241m=\u001b[39m \u001b[43mmeth\u001b[49m\u001b[43m(\u001b[49m\u001b[38;5;28;43mself\u001b[39;49m\u001b[43m,\u001b[49m\u001b[43m \u001b[49m\u001b[43mother\u001b[49m\u001b[43m,\u001b[49m\u001b[43m \u001b[49m\u001b[43mhow\u001b[49m\u001b[38;5;241;43m=\u001b[39;49m\u001b[43mhow\u001b[49m\u001b[43m,\u001b[49m\u001b[43m \u001b[49m\u001b[43mlevel\u001b[49m\u001b[38;5;241;43m=\u001b[39;49m\u001b[43mlevel\u001b[49m\u001b[43m,\u001b[49m\u001b[43m \u001b[49m\u001b[43msort\u001b[49m\u001b[38;5;241;43m=\u001b[39;49m\u001b[43msort\u001b[49m\u001b[43m)\u001b[49m\n\u001b[1;32m    217\u001b[0m     \u001b[38;5;28;01mif\u001b[39;00m \u001b[38;5;129;01mnot\u001b[39;00m return_indexers:\n\u001b[1;32m    218\u001b[0m         \u001b[38;5;28;01mreturn\u001b[39;00m join_index\n",
      "File \u001b[0;32m~/Desktop/BDS/RA/Seeding-Bandits/venv/lib/python3.8/site-packages/pandas/core/indexes/base.py:4351\u001b[0m, in \u001b[0;36mIndex.join\u001b[0;34m(self, other, how, level, return_indexers, sort)\u001b[0m\n\u001b[1;32m   4347\u001b[0m         \u001b[38;5;28;01mraise\u001b[39;00m \u001b[38;5;167;01mTypeError\u001b[39;00m(\u001b[38;5;124m\"\u001b[39m\u001b[38;5;124mCannot join tz-naive with tz-aware DatetimeIndex\u001b[39m\u001b[38;5;124m\"\u001b[39m)\n\u001b[1;32m   4349\u001b[0m \u001b[38;5;28;01mif\u001b[39;00m \u001b[38;5;129;01mnot\u001b[39;00m \u001b[38;5;28mself\u001b[39m\u001b[38;5;241m.\u001b[39m_is_multi \u001b[38;5;129;01mand\u001b[39;00m \u001b[38;5;129;01mnot\u001b[39;00m other\u001b[38;5;241m.\u001b[39m_is_multi:\n\u001b[1;32m   4350\u001b[0m     \u001b[38;5;66;03m# We have specific handling for MultiIndex below\u001b[39;00m\n\u001b[0;32m-> 4351\u001b[0m     pself, pother \u001b[38;5;241m=\u001b[39m \u001b[38;5;28;43mself\u001b[39;49m\u001b[38;5;241;43m.\u001b[39;49m\u001b[43m_maybe_promote\u001b[49m\u001b[43m(\u001b[49m\u001b[43mother\u001b[49m\u001b[43m)\u001b[49m\n\u001b[1;32m   4352\u001b[0m     \u001b[38;5;28;01mif\u001b[39;00m pself \u001b[38;5;129;01mis\u001b[39;00m \u001b[38;5;129;01mnot\u001b[39;00m \u001b[38;5;28mself\u001b[39m \u001b[38;5;129;01mor\u001b[39;00m pother \u001b[38;5;129;01mis\u001b[39;00m \u001b[38;5;129;01mnot\u001b[39;00m other:\n\u001b[1;32m   4353\u001b[0m         \u001b[38;5;28;01mreturn\u001b[39;00m pself\u001b[38;5;241m.\u001b[39mjoin(\n\u001b[1;32m   4354\u001b[0m             pother, how\u001b[38;5;241m=\u001b[39mhow, level\u001b[38;5;241m=\u001b[39mlevel, return_indexers\u001b[38;5;241m=\u001b[39m\u001b[38;5;28;01mTrue\u001b[39;00m, sort\u001b[38;5;241m=\u001b[39msort\n\u001b[1;32m   4355\u001b[0m         )\n",
      "File \u001b[0;32m~/Desktop/BDS/RA/Seeding-Bandits/venv/lib/python3.8/site-packages/pandas/core/indexes/base.py:5942\u001b[0m, in \u001b[0;36mIndex._maybe_promote\u001b[0;34m(self, other)\u001b[0m\n\u001b[1;32m   5938\u001b[0m \u001b[38;5;28;01melif\u001b[39;00m \u001b[38;5;28mself\u001b[39m\u001b[38;5;241m.\u001b[39minferred_type \u001b[38;5;241m==\u001b[39m \u001b[38;5;124m\"\u001b[39m\u001b[38;5;124mtimedelta\u001b[39m\u001b[38;5;124m\"\u001b[39m \u001b[38;5;129;01mand\u001b[39;00m \u001b[38;5;28misinstance\u001b[39m(other, ABCTimedeltaIndex):\n\u001b[1;32m   5939\u001b[0m     \u001b[38;5;66;03m# TODO: we dont have tests that get here\u001b[39;00m\n\u001b[1;32m   5940\u001b[0m     \u001b[38;5;28;01mreturn\u001b[39;00m \u001b[38;5;28mtype\u001b[39m(other)(\u001b[38;5;28mself\u001b[39m), other\n\u001b[0;32m-> 5942\u001b[0m \u001b[38;5;28;01melif\u001b[39;00m \u001b[38;5;28;43mself\u001b[39;49m\u001b[38;5;241;43m.\u001b[39;49m\u001b[43mdtype\u001b[49m\u001b[38;5;241;43m.\u001b[39;49m\u001b[43mkind\u001b[49m \u001b[38;5;241m==\u001b[39m \u001b[38;5;124m\"\u001b[39m\u001b[38;5;124mu\u001b[39m\u001b[38;5;124m\"\u001b[39m \u001b[38;5;129;01mand\u001b[39;00m other\u001b[38;5;241m.\u001b[39mdtype\u001b[38;5;241m.\u001b[39mkind \u001b[38;5;241m==\u001b[39m \u001b[38;5;124m\"\u001b[39m\u001b[38;5;124mi\u001b[39m\u001b[38;5;124m\"\u001b[39m:\n\u001b[1;32m   5943\u001b[0m     \u001b[38;5;66;03m# GH#41873\u001b[39;00m\n\u001b[1;32m   5944\u001b[0m     \u001b[38;5;28;01mif\u001b[39;00m other\u001b[38;5;241m.\u001b[39mmin() \u001b[38;5;241m>\u001b[39m\u001b[38;5;241m=\u001b[39m \u001b[38;5;241m0\u001b[39m:\n\u001b[1;32m   5945\u001b[0m         \u001b[38;5;66;03m# lookup min as it may be cached\u001b[39;00m\n\u001b[1;32m   5946\u001b[0m         \u001b[38;5;66;03m# TODO: may need itemsize check if we have non-64-bit Indexes\u001b[39;00m\n\u001b[1;32m   5947\u001b[0m         \u001b[38;5;28;01mreturn\u001b[39;00m \u001b[38;5;28mself\u001b[39m, other\u001b[38;5;241m.\u001b[39mastype(\u001b[38;5;28mself\u001b[39m\u001b[38;5;241m.\u001b[39mdtype)\n",
      "\u001b[0;31mKeyboardInterrupt\u001b[0m: "
     ]
    }
   ],
   "source": [
    "dict_successful_df =  real_time(successful_df, data, 30)\n",
    "with open('/Users/caiorego/Desktop/BDS/RA/Seeding-Bandits/dict_sucessful_df.pkl', 'wb') as handle:\n",
    "    pickle.dump(dict_successful_df, handle, protocol=pickle.HIGHEST_PROTOCOL)"
   ]
  },
  {
   "cell_type": "code",
   "execution_count": null,
   "id": "98feae4a",
   "metadata": {},
   "outputs": [],
   "source": [
    "dict_unsuccessful_df =  real_time(unsuccessful_df, data, 30)\n",
    "with open('/Users/caiorego/Desktop/BDS/RA/Seeding-Bandits/dict_unsucessful_df.pkl', 'wb') as handle:\n",
    "    pickle.dump(dict_unsuccessful_df, handle, protocol=pickle.HIGHEST_PROTOCOL)"
   ]
  },
  {
   "cell_type": "code",
   "execution_count": null,
   "id": "2f96482b",
   "metadata": {},
   "outputs": [],
   "source": [
    "len(dict_successful_df.keys())"
   ]
  },
  {
   "cell_type": "code",
   "execution_count": null,
   "id": "9226fcf6",
   "metadata": {},
   "outputs": [],
   "source": [
    "len(dict_unsuccessful_df.keys())"
   ]
  },
  {
   "cell_type": "markdown",
   "id": "cfee8c5b",
   "metadata": {},
   "source": [
    "#to do: change code so each interaction updates a creator's Mab\n",
    "1. class mab? Dict?"
   ]
  },
  {
   "cell_type": "markdown",
   "id": "8999cc7e",
   "metadata": {},
   "source": [
    "# Report estimates with standard errors"
   ]
  },
  {
   "cell_type": "code",
   "execution_count": null,
   "id": "1fb7c5a8",
   "metadata": {},
   "outputs": [],
   "source": [
    "def div0( a, b, fill=np.inf ):\n",
    "    \"\"\" a / b, divide by 0 -> `fill`\n",
    "        div0( [-1, 0, 1], 0, fill=np.nan) -> [nan nan nan]\n",
    "        div0( 1, 0, fill=np.inf ) -> inf\n",
    "    \"\"\"\n",
    "    with np.errstate(divide='ignore', invalid='ignore'):\n",
    "        c = np.true_divide( a, b )\n",
    "    if np.isscalar( c ):\n",
    "        return c if np.isfinite( c ) \\\n",
    "            else fill\n",
    "    else:\n",
    "        c[ ~ np.isfinite( c )] = fill\n",
    "        return c"
   ]
  },
  {
   "cell_type": "code",
   "execution_count": null,
   "id": "e57bb7b0",
   "metadata": {},
   "outputs": [],
   "source": [
    "add median interactions, mean interactions, std mean interactions, unique users per user group"
   ]
  },
  {
   "cell_type": "code",
   "execution_count": null,
   "id": "7c19e769",
   "metadata": {},
   "outputs": [],
   "source": [
    "from collections import Counter\n",
    "def mean_std_estimates(dic):\n",
    "    dataset_last_mean = pd.DataFrame(index = range(len(dic)), columns = ['user_id', 'trials', '1', '2', '3', '4', '5', '6', '7', '8', '9', '10'])\n",
    "    dataset_last_std = pd.DataFrame(index = range(len(dic)), columns = ['user_id', 'trials', '1', '2', '3', '4', '5', '6', '7', '8', '9', '10'])\n",
    "    for i,key in enumerate(dic):\n",
    "        dataset_last_mean.iloc[i, 1:] = dic[key]['dataset_mean'].iloc[-1]\n",
    "        dataset_last_mean.iloc[i, 0] = key\n",
    "    \n",
    "        dataset_last_std.iloc[i, 1:] = dic[key]['dataset_std'].iloc[-1]\n",
    "        dataset_last_std.iloc[i, 0] = key\n",
    "        \n",
    "    dicts = [dic[key]['experiment'] for key in dic.keys()]    \n",
    "    countdic = {}\n",
    "    for i in dicts[0].keys():\n",
    "        c = Counter()\n",
    "        for d in dicts:\n",
    "            c.update(d[i])\n",
    "        countdic[i] = c\n",
    "    \n",
    "    prob_df = pd.DataFrame(index = range(10), columns = ['Decile', 'Trials', 'Rewards'])\n",
    "    \n",
    "    for key, value in countdic.items():\n",
    "        prob_df.iloc[int(key)-1]['Decile'] = key\n",
    "        prob_df.iloc[int(key)-1]['Trials'] = value['Sent']\n",
    "        prob_df.iloc[int(key)-1]['Rewards'] = value['Reward']\n",
    "        \n",
    "    prob_df.set_index('Decile', inplace = True)\n",
    "    \n",
    "    df_trial_info = pd.DataFrame(index = [\"{:d}\".format(x) for x in range(1,11)] , columns = ['Unique_creators', 'trials'])\n",
    "    for j in range(1,11):\n",
    "        df_trial_info.iloc[j-1]['trials'] = list()\n",
    "        df_trial_info.iloc[j-1]['Unique_creators'] = 0\n",
    "    for i in range(len(dicts)):\n",
    "        for j in range(1,11):\n",
    "            if dicts[i][str(j)]['Sent'] != 0:\n",
    "                df_trial_info.iloc[j-1]['Unique_creators'] = df_trial_info.iloc[j-1]['Unique_creators']+1\n",
    "            df_trial_info.iloc[j-1]['trials'].extend([dicts[i][str(j)]['Sent']])\n",
    "    df_trial_info['Median_trials'] = df_trial_info.trials.apply(lambda x: np.median(x))\n",
    "    df_trial_info['Mean_trials'] = df_trial_info.trials.apply(lambda x: np.mean(x))\n",
    "    df_trial_info['Std_trials'] = df_trial_info.trials.apply(lambda x: np.std(x))\n",
    "    \n",
    "    summary = pd.DataFrame(dataset_last_mean[['1', '2', '3', '4', '5', '6', '7', '8', '9', '10']\n",
    "    ].mean(), columns = ['Mean Estimate']).merge(\n",
    "    pd.DataFrame(dataset_last_std[['1', '2', '3', '4', '5', '6', '7', '8', '9', '10']\n",
    "    ].mean(), columns = ['Std Estimate']), left_index=True, right_index=True).merge(\n",
    "    prob_df, left_index=True, right_index=True).merge(df_trial_info[['Unique_creators', 'Median_trials', 'Mean_trials', 'Std_trials']\n",
    "    ],left_index=True, right_index=True)\n",
    "        \n",
    "    return dataset_last_mean, dataset_last_std, summary"
   ]
  },
  {
   "cell_type": "code",
   "execution_count": null,
   "id": "ccbc2cf0",
   "metadata": {},
   "outputs": [],
   "source": [
    "####################################################################################"
   ]
  },
  {
   "cell_type": "code",
   "execution_count": null,
   "id": "b1372fa1",
   "metadata": {},
   "outputs": [],
   "source": [
    "####################################################################################"
   ]
  },
  {
   "cell_type": "code",
   "execution_count": null,
   "id": "94ccd83c",
   "metadata": {},
   "outputs": [],
   "source": [
    "dic = dict_successful_df\n",
    "sucessful_df_mean, sucessful_df_std, summary_s = mean_std_estimates(dic)"
   ]
  },
  {
   "cell_type": "code",
   "execution_count": null,
   "id": "ef630128",
   "metadata": {},
   "outputs": [],
   "source": [
    "summary_s"
   ]
  },
  {
   "cell_type": "code",
   "execution_count": null,
   "id": "3398bad6",
   "metadata": {},
   "outputs": [],
   "source": [
    "dic = dict_unsuccessful_df\n",
    "unsucessful_df_mean, unsucessful_df_std, summary_u = mean_std_estimates(dic)"
   ]
  },
  {
   "cell_type": "code",
   "execution_count": null,
   "id": "22714e96",
   "metadata": {},
   "outputs": [],
   "source": [
    "summary_u.merge(df_trial_info[['Unique_creators', 'Median_trials', 'Mean_trials']\n",
    "    ],left_index=True, right_index=True)"
   ]
  },
  {
   "cell_type": "code",
   "execution_count": null,
   "id": "94a7da76",
   "metadata": {},
   "outputs": [],
   "source": [
    "summary_u.index"
   ]
  },
  {
   "cell_type": "code",
   "execution_count": null,
   "id": "c599856c",
   "metadata": {},
   "outputs": [],
   "source": [
    "df_trial_info.index"
   ]
  },
  {
   "cell_type": "code",
   "execution_count": null,
   "id": "85d7bbc9",
   "metadata": {},
   "outputs": [],
   "source": []
  },
  {
   "cell_type": "code",
   "execution_count": null,
   "id": "b08135e9",
   "metadata": {},
   "outputs": [],
   "source": [
    "import seaborn as sns"
   ]
  },
  {
   "cell_type": "code",
   "execution_count": null,
   "id": "10bf6bd6",
   "metadata": {},
   "outputs": [],
   "source": [
    "def plot_estimates_dist(dataset, num, sender):\n",
    "    \n",
    "    dataset.columns = ['user_id', 'trials', 'arm1', 'arm2', 'arm3', 'arm4', \n",
    "                                     'arm5', 'arm6', 'arm7', 'arm8', 'arm9', 'arm10']\n",
    "    \n",
    "    to_plot = pd.wide_to_long(dataset, stubnames='arm', i = ['user_id'], j='arm_num')\n",
    "    to_plot.reset_index(inplace = True)\n",
    "    to_plot['arm'] = to_plot['arm'].astype(float)\n",
    "\n",
    "    plt.figure(figsize=(10,7))\n",
    "    sns.boxplot(x = to_plot.arm_num, y = to_plot.arm).set(\n",
    "        title=\"Figure {}:Distribution of Expected rewards per arm. Sender: {}\".format(num, sender),\n",
    "        xlabel=\"Arm (decile)\", ylabel=\"Expected Reward\"\n",
    "    )\n",
    "    plt.annotate('''Note: each expected reward estimate is the mean of the beta distribution updated\n",
    "using arm pulls and observed rewards.'''\n",
    "             , (0,0), (0, -35), xycoords='axes fraction', textcoords='offset points', va='top', fontsize=14);"
   ]
  },
  {
   "cell_type": "code",
   "execution_count": null,
   "id": "8a0a51dd",
   "metadata": {
    "scrolled": true
   },
   "outputs": [],
   "source": [
    "plot_estimates_dist(sucessful_df_mean, '17' , 'Successful Creators', 'Creators')"
   ]
  },
  {
   "cell_type": "code",
   "execution_count": null,
   "id": "4ab5cc7f",
   "metadata": {},
   "outputs": [],
   "source": [
    "plot_estimates_dist(unsucessful_df_mean, '18' , 'Unsuccessful Creators')"
   ]
  },
  {
   "cell_type": "code",
   "execution_count": null,
   "id": "346af260",
   "metadata": {},
   "outputs": [],
   "source": [
    "np.sqrt(variance)"
   ]
  },
  {
   "cell_type": "code",
   "execution_count": null,
   "id": "1620992f",
   "metadata": {},
   "outputs": [],
   "source": [
    "mask = actions_sent_filtered_non_followers.high_low == 'low'\n",
    "actions_sent_filtered_non_followers[mask].reward.sum()"
   ]
  },
  {
   "cell_type": "markdown",
   "id": "0b29361a",
   "metadata": {},
   "source": [
    "# Creator behavior"
   ]
  },
  {
   "cell_type": "markdown",
   "id": "371f7805",
   "metadata": {},
   "source": [
    "Weekly share of actions directed to each membership"
   ]
  },
  {
   "cell_type": "code",
   "execution_count": null,
   "id": "f194b2cd",
   "metadata": {},
   "outputs": [],
   "source": [
    "def weekly_membership(df, outdegree_df, interval):\n",
    "\n",
    "    df_copy = df.copy()\n",
    "    df_copy['receiver_membership'] = 0\n",
    "    \n",
    "    date_l = min(df.date_sent)\n",
    "    old_outdegree = outdegree_df.iloc[:\n",
    "                  outdegree_df.index.values.searchsorted(np.datetime64(date_l))].groupby('sender_id', as_index = False).size()\n",
    "    old_outdegree = user_info_2.merge(old_outdegree, left_on = 'user_id', right_on = 'sender_id', how= 'left')\n",
    "    old_outdegree.loc[old_outdegree['size'].isnull(), 'size'] = 0 \n",
    "    old_outdegree = old_outdegree[['user_id', 'size']].set_index('user_id')\n",
    "    old_outdegree['decile'] = pd.qcut(old_outdegree['size'], 10, labels=False, duplicates='drop') + 1\n",
    "    old_outdegree['decile'] = old_outdegree[['decile']]  \n",
    "    \n",
    "    for i in tqdm(range(df.shape[0])):\n",
    "        \n",
    "        fan_id = df.iloc[i].fan_id\n",
    "        \n",
    "        if i%interval == 0:\n",
    "            date_h = df.iloc[i,:]['date_sent']\n",
    "            new_outdegree = outdegree_df.iloc[outdegree_df.index.values.searchsorted(np.datetime64(date_l)):\n",
    "                  outdegree_df.index.values.searchsorted(np.datetime64(date_h))].groupby('sender_id', as_index = False).size()\n",
    "        \n",
    "            old_outdegree = old_outdegree.add(new_outdegree.set_index('sender_id'), fill_value=0)\n",
    "            old_outdegree['decile'] = pd.qcut(old_outdegree['size'], 10, labels=False, duplicates='drop') + 1\n",
    "            old_outdegree['decile'] = old_outdegree[['decile']]  \n",
    "            date_l = date_h\n",
    "        \n",
    "        try:\n",
    "            df_copy.iloc[i,-1] = (int(old_outdegree.loc[fan_id]['decile']))\n",
    "        \n",
    "            print('.', end='')\n",
    "        \n",
    "        except:\n",
    "            print('x', end ='')\n",
    "        \n",
    "        \n",
    "    return df_copy"
   ]
  },
  {
   "cell_type": "code",
   "execution_count": null,
   "id": "c3653c3d",
   "metadata": {},
   "outputs": [],
   "source": [
    "successful_creators_receiver_memb = weekly_membership(successful_df, data, 5)"
   ]
  },
  {
   "cell_type": "code",
   "execution_count": null,
   "id": "64833a53",
   "metadata": {},
   "outputs": [],
   "source": [
    "unsuccessful_creators_receiver_memb = weekly_membership(unsuccessful_df, data, 5)"
   ]
  },
  {
   "cell_type": "code",
   "execution_count": null,
   "id": "6dc19da2",
   "metadata": {},
   "outputs": [],
   "source": [
    "user_id = 38170464\n",
    "unsuccessful_df.loc[unsuccessful_df['user_id'] == user_id,'date_sent']"
   ]
  },
  {
   "cell_type": "code",
   "execution_count": null,
   "id": "077b65a3",
   "metadata": {},
   "outputs": [],
   "source": [
    "dict_unsuccessful_df[38170464]['dataset_mean']"
   ]
  },
  {
   "cell_type": "code",
   "execution_count": null,
   "id": "59faa1fd",
   "metadata": {},
   "outputs": [],
   "source": []
  }
 ],
 "metadata": {
  "kernelspec": {
   "display_name": "Python 3 (ipykernel)",
   "language": "python",
   "name": "python3"
  },
  "language_info": {
   "codemirror_mode": {
    "name": "ipython",
    "version": 3
   },
   "file_extension": ".py",
   "mimetype": "text/x-python",
   "name": "python",
   "nbconvert_exporter": "python",
   "pygments_lexer": "ipython3",
   "version": "3.8.2"
  }
 },
 "nbformat": 4,
 "nbformat_minor": 5
}
