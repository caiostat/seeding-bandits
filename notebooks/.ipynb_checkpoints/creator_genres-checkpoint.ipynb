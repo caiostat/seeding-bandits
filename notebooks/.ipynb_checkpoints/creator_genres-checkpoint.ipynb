{
 "cells": [
  {
   "cell_type": "code",
   "execution_count": 1,
   "id": "c10aea12",
   "metadata": {},
   "outputs": [],
   "source": [
    "#General options\n",
    "path_dir = r\"/Users/../Volumes/Raw/\"\n",
    "music_before = 1500 # all creators kept, regardless of when they made content available\n",
    "low_success = 0.5 #below the median: unsuccessful\n",
    "high_success = 0.9 #top 10% creators with more followers are deemed successful\n",
    "rank_percentiles = False #dont use rank_percentiles"
   ]
  },
  {
   "cell_type": "markdown",
   "id": "44b6d579",
   "metadata": {},
   "source": [
    "Notebook goals:\n",
    "\n",
    "1) define content creator styles"
   ]
  },
  {
   "cell_type": "code",
   "execution_count": 2,
   "id": "b1a7b713",
   "metadata": {},
   "outputs": [],
   "source": [
    "#General options\n",
    "\n",
    "path_dir = r\"/Users/../Volumes/Raw/\"\n",
    "import sys  \n",
    "import pickle\n",
    "sys.path.insert(0, '/Users/caiorego/Desktop/BDS/RA/Seeding-Bandits/')\n",
    "import numpy as np\n",
    "import src.utils\n",
    "from collections import Counter\n",
    "from src.utils import import_dta, import_tracks_dta, successful_creators_followers,\\\n",
    "gen_active_relations, get_fan_interactions_per_week, calculate_avg_monthly_valence,\\\n",
    "gen_active_relations_prob, get_fan_interactions_per_week_prob, stripplot_prob,\\\n",
    "reaction_probability, follower_list, filter_quantile, sample_creators_music,\\\n",
    "gen_outbound_creators\n",
    "import numpy as np\n",
    "import datetime\n",
    "import pandas as pd\n",
    "from tqdm import tqdm\n",
    "import dask.dataframe as dd\n",
    "import matplotlib.pyplot as plt\n",
    "import seaborn as sns\n",
    "from sklearn.preprocessing import OneHotEncoder"
   ]
  },
  {
   "cell_type": "code",
   "execution_count": 3,
   "id": "6af6ff33",
   "metadata": {},
   "outputs": [],
   "source": [
    "def process_date(date):\n",
    "    year = date[0:4]\n",
    "    week = date[6:]\n",
    "    day = \"1\"\n",
    "    date = \"{}-{}-1\".format(year, week)\n",
    "    dt = datetime.datetime.strptime(date, \"%Y-%W-%w\")\n",
    "    return dt"
   ]
  },
  {
   "cell_type": "code",
   "execution_count": 4,
   "id": "e0777d7b",
   "metadata": {},
   "outputs": [],
   "source": [
    "def create_target(data_actions_sent, interval):\n",
    "    # Target Creation\n",
    "    delta = datetime.timedelta(days = interval)\n",
    "    mask = (data_actions_sent['follower_since'] <= (data_actions_sent['date_sent'] + delta).dt.floor('d'))\n",
    "\n",
    "    data_actions_sent.loc[mask, 'reward'] = 1\n",
    "    mask = data_actions_sent['reward'].isnull()\n",
    "    data_actions_sent.loc[mask, 'reward'] = 0\n",
    "    return data_actions_sent"
   ]
  },
  {
   "cell_type": "code",
   "execution_count": 5,
   "id": "de79e81d",
   "metadata": {},
   "outputs": [],
   "source": [
    "def gen_genre_mask(df, genre):\n",
    "    return df.genre.apply(lambda x: True if genre in x else False)"
   ]
  },
  {
   "cell_type": "code",
   "execution_count": 6,
   "id": "7c862007",
   "metadata": {},
   "outputs": [
    {
     "name": "stdout",
     "output_type": "stream",
     "text": [
      "%%%%%%%%%% 12sample_tracks.dta %%%%%%%%%%\n",
      "(56262, 7)\n",
      "%%%%%%%%%% 12sample_affiliations_sent.dta %%%%%%%%%%\n",
      "(800913, 3)\n",
      "%%%%%%%%%% 12sample_comments_made.dta %%%%%%%%%%\n",
      "(29258, 4)\n",
      "%%%%%%%%%% 12sample_reposts_made.dta %%%%%%%%%%\n",
      "(179329, 4)\n",
      "%%%%%%%%%% 12sample_favoritings_made.dta %%%%%%%%%%\n",
      "(527701, 4)\n",
      "%%%%%%%%%% 12sample_messages_sent.dta %%%%%%%%%%\n",
      "(11091, 3)\n",
      "%%%%%%%%%% 12sample_1st_deg_user_infos.dta %%%%%%%%%%\n",
      "(670746, 3)\n",
      "%%%%%%%%%% 12sample_user_infos.dta %%%%%%%%%%\n",
      "(35000, 3)\n",
      "%%%%%%%%%% 12sample_affiliations_received.dta %%%%%%%%%%\n",
      "(432503, 3)\n",
      "2018-02-03 00:00:00\n",
      "High influencer boundary: 66.0\n",
      "Low influencer boundary: 9.0\n"
     ]
    }
   ],
   "source": [
    "#we will skip comments for now\n",
    "\n",
    "#affiliations :follows\n",
    "#favoritings :likes\n",
    "\n",
    "#used in filtering:\n",
    "path_dir = r\"/Users/../Volumes/Raw/\"\n",
    "tracks = import_tracks_dta(path_dir, \"12sample_tracks.dta\");\n",
    "\n",
    "#used to compute creato_actions\n",
    "follows_sent = import_dta(path_dir, \"12sample_affiliations_sent.dta\");\n",
    "comments_sent = import_dta(path_dir, \"12sample_comments_made.dta\");\n",
    "shares_sent = import_dta(path_dir, \"12sample_reposts_made.dta\");\n",
    "likes_sent = import_dta(path_dir, \"12sample_favoritings_made.dta\");\n",
    "messages_sent = import_dta(path_dir, \"12sample_messages_sent.dta\");\n",
    "\n",
    "#Used to track information on the 1st degree connections\n",
    "user_info_1st = import_dta(path_dir, \"12sample_1st_deg_user_infos.dta\");\n",
    "user_info_1st.columns = ['user_id', 'type', 'entered_platform'];\n",
    "user_info = import_dta(path_dir, \"12sample_user_infos.dta\");\n",
    "\n",
    "#Used to compute creator's success measure\n",
    "follows_received = import_dta(path_dir, \"12sample_affiliations_received.dta\");\n",
    "\n",
    "#previously used to filter creators\n",
    "#tracks_first_month = sample_creators_music(tracks, music_before)# music_before changed so it \n",
    "#suffices to have made a track available\n",
    "#mask = tracks_first_month.track_available == 1\n",
    "#tracks_first_month = tracks_first_month[mask]\n",
    "\n",
    "#mask = follows_received.contact_id.isin(tracks_first_month.user_id)\n",
    "#follows_received_30 = follows_received[mask]\n",
    "#followers_per_creator_60_static = successful_creators_followers(follows_received_30, 60, \n",
    "#                                                        perc1 = low_success, perc2 = high_success)\n",
    "\n",
    "mask = user_info.type == 'creator'\n",
    "creator_ids = user_info[mask].user_id.unique()\n",
    "\n",
    "#mask = follows_received.contact_id.isin(creator_ids)\n",
    "#follows_received_creators = follows_received[mask]\n",
    "\n",
    "creators = user_info[user_info.type == 'creator']\n",
    "followers_per_creator_60_static = successful_creators_followers(follows_received, 60, \n",
    "                                                        perc1 = low_success, perc2 = high_success, subset_creators = creators )"
   ]
  },
  {
   "cell_type": "code",
   "execution_count": null,
   "id": "f7cb5996",
   "metadata": {},
   "outputs": [],
   "source": [
    "#tracks = pd.get_dummies(tracks, prefix=['genre'], columns = ['genre'], drop_first=False)\n",
    "genres = list(tracks.genre.unique())\n",
    "creator_genres = pd.DataFrame(tracks.groupby('user_id')['genre'].apply(set)).reset_index()"
   ]
  },
  {
   "cell_type": "code",
   "execution_count": null,
   "id": "bcc88140",
   "metadata": {},
   "outputs": [],
   "source": [
    "creator_genres = tracks.iloc[:, np.r_[0, 6:38]].groupby('user_id', as_index = False).sum()"
   ]
  },
  {
   "cell_type": "code",
   "execution_count": null,
   "id": "03c295c2",
   "metadata": {},
   "outputs": [],
   "source": [
    "for col in creator_genres.columns[1:]:\n",
    "    creator_genres[col] = creator_genres[col].apply(lambda x: 1 if x>0 else 0)\n",
    "creator_genres.to_csv('/Users/caiorego/Desktop/BDS/RA/Seeding-Bandits/creator_genres.csv')"
   ]
  },
  {
   "cell_type": "code",
   "execution_count": null,
   "id": "c2265abb",
   "metadata": {},
   "outputs": [],
   "source": [
    "#successful_user_ids\n",
    "mask = followers_per_creator_60_static.high_low == 'low'\n",
    "unsuccessful_ids = followers_per_creator_60_static.loc[mask].user_id.unique()\n",
    "\n",
    "mask = followers_per_creator_60_static.high_low == 'high'\n",
    "successful_ids = followers_per_creator_60_static.loc[mask].user_id.unique()"
   ]
  },
  {
   "cell_type": "code",
   "execution_count": 15,
   "id": "fd1bcc60",
   "metadata": {},
   "outputs": [],
   "source": [
    "#Generates a data sent with all messages sent by creators\n",
    "\n",
    "actions_sent = gen_outbound_creators(follows_sent, shares_sent, likes_sent, comments_sent, tracks,\n",
    "                                     messages_sent = messages_sent, filter_creators = True)\n",
    "\n",
    "mask = actions_sent.user_id.isin(user_info.loc[user_info.type == 'creator'].user_id.unique())\n",
    "actions_sent = actions_sent[mask]\n",
    "#mask = actions_sent.user_id.isin(tracks_first_month.user_id.unique())\n",
    "#actions_sent = actions_sent[mask]"
   ]
  },
  {
   "cell_type": "code",
   "execution_count": null,
   "id": "8e845a07",
   "metadata": {},
   "outputs": [],
   "source": [
    "#filter only outbound activities before the follow is received\n",
    "print('Obtaining fanbase...')\n",
    "follows_received.columns = ['fan_id', 'user_id', 'date_sent']\n",
    "followers = follower_list(follows_received)\n",
    "actions_sent = actions_sent.merge(followers, right_on = ['user_id', 'fan_id'],\n",
    "                                      left_on = ['user_id', 'fan_id'], how = 'left')\n",
    "mask = (actions_sent.date_sent < actions_sent.follower_since) | (actions_sent.follower_since.isnull())\n",
    "actions_sent_non_followers =  actions_sent[mask]\n",
    "actions_sent_non_followers['week_yr_date'] = actions_sent_non_followers.week_yr.apply(lambda x: process_date(x))"
   ]
  },
  {
   "cell_type": "code",
   "execution_count": null,
   "id": "5c12a035",
   "metadata": {},
   "outputs": [],
   "source": [
    "actions_sent_followers = actions_sent[~mask]\n",
    "actions_sent_followers['week_yr_date'] = actions_sent_followers.week_yr.apply(lambda x: process_date(x))"
   ]
  },
  {
   "cell_type": "code",
   "execution_count": null,
   "id": "da9d8083",
   "metadata": {},
   "outputs": [],
   "source": [
    "actions_sent_non_followers_genre = actions_sent_non_followers.merge(creator_genres, left_on = 'user_id', right_on = 'user_id')"
   ]
  },
  {
   "cell_type": "code",
   "execution_count": null,
   "id": "94d646e1",
   "metadata": {},
   "outputs": [],
   "source": [
    "actions_sent_non_followers_genre = create_target(actions_sent_non_followers_gender,1)"
   ]
  },
  {
   "cell_type": "code",
   "execution_count": null,
   "id": "3db05bf9",
   "metadata": {},
   "outputs": [],
   "source": [
    "a=actions_sent_non_followers_genre[gen_genre_mask(actions_sent_non_followers_genre, 'Unknown')].groupby('fan_id').reward.mean()"
   ]
  },
  {
   "cell_type": "code",
   "execution_count": null,
   "id": "5f685aa2",
   "metadata": {},
   "outputs": [],
   "source": [
    "a[a>0]"
   ]
  },
  {
   "cell_type": "code",
   "execution_count": null,
   "id": "6c44f8bd",
   "metadata": {},
   "outputs": [],
   "source": [
    "for genre in genres:\n",
    "    actions_sent_non_followers_genre['{}_tp'.format(genre)] = actions_sent_non_followers_genre[gen_genre_mask(actions_sent_non_followers_genre, genre)]\\\n",
    "    .groupby('fan_id').reward.mean()"
   ]
  },
  {
   "cell_type": "code",
   "execution_count": null,
   "id": "2b8e0528",
   "metadata": {},
   "outputs": [],
   "source": [
    "#descriptives"
   ]
  },
  {
   "cell_type": "code",
   "execution_count": null,
   "id": "fda9b0ad",
   "metadata": {},
   "outputs": [],
   "source": [
    "descriptive_nonfans = (actions_sent_non_followers.groupby('fan_id').size().value_counts(normalize = True)*100)[:10].to_frame()\n",
    "descriptive_nonfans = pd.DataFrame(descriptive_nonfans.reset_index())\n",
    "descriptive_nonfans.columns = ['Number of promotional activities', '% of nonFans that sent']\n",
    "round(descriptive_nonfans.set_index('Number of promotional activities'),2)"
   ]
  },
  {
   "cell_type": "code",
   "execution_count": null,
   "id": "2f36ca0f",
   "metadata": {},
   "outputs": [],
   "source": [
    "descriptive_fans = (actions_sent_followers.groupby('fan_id').size().value_counts(normalize = True)*100)[:10].to_frame()\n",
    "descriptive_fans = pd.DataFrame(descriptive_fans.reset_index())\n",
    "descriptive_fans.columns = ['Number of promotional activities', '% of non followers received ']\n",
    "round(descriptive_fans.set_index('Number of promotional activities'),2)"
   ]
  },
  {
   "cell_type": "markdown",
   "id": "6932ed87",
   "metadata": {},
   "source": [
    "1.What is the timeline of the promotional activies received – is it for the entire time in the data (how many years or months?)\n"
   ]
  },
  {
   "cell_type": "code",
   "execution_count": null,
   "id": "b9004a93",
   "metadata": {},
   "outputs": [],
   "source": [
    "max(actions_sent_non_followers.date_sent)-min(actions_sent_non_followers.date_sent)"
   ]
  },
  {
   "cell_type": "code",
   "execution_count": null,
   "id": "6793d518",
   "metadata": {},
   "outputs": [],
   "source": [
    "actions_sent_non_followers.groupby('week_yr_date').size().plot(title = 'Distribution of promotional activities received', xlabel = 'Date',ylabel = 'Promotional activities sent to non-followers',figsize = (8,6));"
   ]
  },
  {
   "cell_type": "markdown",
   "id": "211be656",
   "metadata": {},
   "source": [
    "Yes, it is for the entire time in the data, which makes 28 months of data"
   ]
  },
  {
   "cell_type": "markdown",
   "id": "5b5432b4",
   "metadata": {},
   "source": [
    "2.Can you send me the table below with another column: activites performed by fans. This will indicate how many actions fans took during the period (I think we have five types: follow-back, repost, etc). Split it between actions in general and actions before they enter the fanbase. Unprovoked and provoked."
   ]
  },
  {
   "cell_type": "code",
   "execution_count": 8,
   "id": "9efe0467",
   "metadata": {},
   "outputs": [
    {
     "name": "stdout",
     "output_type": "stream",
     "text": [
      "%%%%%%%%%% 12sample_comments_received.dta %%%%%%%%%%\n",
      "(21386, 4)\n",
      "%%%%%%%%%% 12sample_reposts_received.dta %%%%%%%%%%\n",
      "(83013, 4)\n",
      "%%%%%%%%%% 12sample_favoritings_received.dta %%%%%%%%%%\n",
      "(286903, 4)\n",
      "%%%%%%%%%% 12sample_messages_received.dta %%%%%%%%%%\n",
      "(17364, 3)\n"
     ]
    }
   ],
   "source": [
    "comments_received = import_dta(path_dir, \"12sample_comments_received.dta\");\n",
    "shares_received = import_dta(path_dir, \"12sample_reposts_received.dta\");\n",
    "likes_received = import_dta(path_dir, \"12sample_favoritings_received.dta\");\n",
    "messages_received = import_dta(path_dir, \"12sample_messages_received.dta\");"
   ]
  },
  {
   "cell_type": "code",
   "execution_count": 9,
   "id": "bf1b2ca1",
   "metadata": {},
   "outputs": [],
   "source": [
    "follows_received['inbound_activity'] = 'follow'\n",
    "follows_received.columns = ['fan_id', 'user_id', 'date_sent', 'inbound_activity']\n",
    "\n",
    "if 'song_id' in shares_received:\n",
    "        shares_received.drop(columns=[\"song_id\"])\n",
    "shares_received = shares_received[['reposter_id', \"owner_id\", 'created_at']]\n",
    "shares_received['inbound_activity'] = 'share'\n",
    "shares_received.columns = ['fan_id', 'user_id', 'date_sent', 'inbound_activity']\n",
    "\n",
    "if 'track_id' in likes_received:\n",
    "        likes_received = likes_received.drop(columns=[\"track_id\"])\n",
    "likes_received['inbound_activity'] = 'like'\n",
    "likes_received.columns = ['fan_id', 'user_id', 'date_sent', 'inbound_activity']\n",
    "\n",
    "if 'track_id' in comments_received:\n",
    "        comments_received = comments_received.drop(columns=[\"track_id\"])\n",
    "comments_received['inbound_activity'] = 'comment'\n",
    "comments_received.columns = ['fan_id', 'user_id', 'date_sent', 'inbound_activity']\n",
    "\n",
    "messages_received[\"outbound_activity\"] = 'message'\n",
    "messages_received.columns = ['user_id', 'fan_id', 'date_sent', 'inbound_activity']"
   ]
  },
  {
   "cell_type": "code",
   "execution_count": 10,
   "id": "36797896",
   "metadata": {},
   "outputs": [],
   "source": [
    "#filter = receivers are creators\n",
    "df_total_actions_by_fans_and_non_fans = pd.concat([follows_received, shares_received, likes_received, comments_received, messages_received])\n",
    "\n",
    "df_total_actions_by_fans_and_non_fans = df_total_actions_by_fans_and_non_fans[df_total_actions_by_fans_and_non_fans.user_id.isin(creator_ids)]"
   ]
  },
  {
   "cell_type": "code",
   "execution_count": null,
   "id": "ffad52cc",
   "metadata": {},
   "outputs": [],
   "source": [
    "df_total_actions_by_fans_and_non_fans = df_total_actions_by_fans_and_non_fans.merge(followers, right_on = ['user_id', 'fan_id'],\n",
    "                                      left_on = ['user_id', 'fan_id'], how = 'left')"
   ]
  },
  {
   "cell_type": "code",
   "execution_count": null,
   "id": "fd5d023d",
   "metadata": {},
   "outputs": [],
   "source": [
    "mask_fans = (df_total_actions_by_fans_and_non_fans.follower_since > df_total_actions_by_fans_and_non_fans.date_sent)"
   ]
  },
  {
   "cell_type": "code",
   "execution_count": null,
   "id": "e63c8acd",
   "metadata": {},
   "outputs": [],
   "source": [
    "df_total_actions_by_fans = df_total_actions_by_fans_and_non_fans[mask_fans]\n",
    "df_total_actions_by_nonfans = df_total_actions_by_fans_and_non_fans[~mask_fans]"
   ]
  },
  {
   "cell_type": "code",
   "execution_count": null,
   "id": "c23d62f9",
   "metadata": {},
   "outputs": [],
   "source": [
    "df_total_actions_by_fans.shape"
   ]
  },
  {
   "cell_type": "code",
   "execution_count": null,
   "id": "3a178f50",
   "metadata": {},
   "outputs": [],
   "source": [
    "df_total_actions_by_nonfans.shape"
   ]
  },
  {
   "cell_type": "code",
   "execution_count": null,
   "id": "1e9a061e",
   "metadata": {},
   "outputs": [],
   "source": [
    "descriptive_all = (df_total_actions_by_fans_and_non_fans.groupby('fan_id').size().value_counts(normalize = True)*100)[:10].to_frame()\n",
    "descriptive_all = pd.DataFrame(descriptive_all.reset_index())\n",
    "descriptive_all.columns = ['Number of promotional activities', '% of Fans that received']\n",
    "round(descriptive_all,2) "
   ]
  },
  {
   "cell_type": "code",
   "execution_count": null,
   "id": "7e2a2f85",
   "metadata": {},
   "outputs": [],
   "source": [
    "descriptive_all2 = (df_total_actions_by_fans_and_non_fans.groupby('fan_id').size().value_counts())[:10].to_frame()\n",
    "descriptive_all2 = pd.DataFrame(descriptive_all2.reset_index())\n",
    "descriptive_all2.columns = ['Number of promotional activities', 'Fans']\n",
    "descriptive_all2"
   ]
  },
  {
   "cell_type": "code",
   "execution_count": null,
   "id": "47e787de",
   "metadata": {},
   "outputs": [],
   "source": [
    "descriptive_actions_by_fans_nonfans = descriptive_all.merge(descriptive_all2, left_on = \"Number of promotional activities\",\n",
    "                                                           right_on = \"Number of promotional activities\")\n",
    "descriptive_actions_by_fans_nonfans.columns = ['A', \n",
    "                              '% of users that sent at maximum A actions to content creators',\n",
    "                              'Number of users that sent at maximum A actions to content creators']\n",
    "round(descriptive_actions_by_fans_nonfans.set_index('A'),2)"
   ]
  },
  {
   "cell_type": "code",
   "execution_count": null,
   "id": "4668e897",
   "metadata": {},
   "outputs": [],
   "source": [
    "descriptive_fans = (df_total_actions_by_fans.groupby('fan_id').size().value_counts(normalize = True)*100)[:10].to_frame()\n",
    "descriptive_fans = pd.DataFrame(descriptive_fans.reset_index())\n",
    "descriptive_fans.columns = ['Number of promotional activities', '% of Fans that received']\n",
    "round(descriptive_fans.set_index('Number of promotional activities'),2)\n"
   ]
  },
  {
   "cell_type": "code",
   "execution_count": null,
   "id": "02d1c2de",
   "metadata": {},
   "outputs": [],
   "source": [
    "descriptive_nonfans = (df_total_actions_by_nonfans.groupby('fan_id').size().value_counts(normalize = True)*100)[:10].to_frame()\n",
    "descriptive_nonfans = pd.DataFrame(descriptive_nonfans.reset_index())\n",
    "descriptive_nonfans.columns = ['Number of promotional activities', '% of nonFans that received']\n",
    "round(descriptive_nonfans.set_index('Number of promotional activities'),2)"
   ]
  },
  {
   "cell_type": "code",
   "execution_count": null,
   "id": "1c0c2192",
   "metadata": {},
   "outputs": [],
   "source": [
    "#percentage of users that received (performed)\n",
    "descriptive_concat = descriptive_fans.merge(\n",
    "    descriptive_2, right_on = 'Number of promotional activities', left_on = 'Number of promotional activities')\n",
    "\n",
    "descriptive_concat.columns = ['A', \n",
    "                              '% of users that received at maximum A actions from content creators',\n",
    "                              '% of users that sent at maximum A actions to content creators']\n",
    "round(descriptive_concat.set_index('A'),2)"
   ]
  },
  {
   "cell_type": "code",
   "execution_count": null,
   "id": "b63da954",
   "metadata": {},
   "outputs": [],
   "source": [
    "#percentage of users that received (performed)\n",
    "descriptive_concat = descriptive.merge(\n",
    "    descriptive_followers, right_on = 'Number of promotional activities', left_on = 'Number of promotional activities').merge(\n",
    "    descriptive_2, right_on = 'Number of promotional activities', left_on = 'Number of promotional activities')\n",
    "\n",
    "descriptive_concat.columns = ['Total Activities', \n",
    "                              '% of non-followers that received',\n",
    "                              '% of total followers that received', \n",
    "                              '% of users that performed']\n",
    "round(descriptive_concat.set_index('Total Activities'),2)"
   ]
  },
  {
   "cell_type": "code",
   "execution_count": null,
   "id": "ba53da85",
   "metadata": {},
   "outputs": [],
   "source": [
    "actions_sent_followers.fan_id.nunique()"
   ]
  },
  {
   "cell_type": "code",
   "execution_count": null,
   "id": "b06c2b21",
   "metadata": {},
   "outputs": [],
   "source": [
    "actions_sent_followers.shape[0]"
   ]
  },
  {
   "cell_type": "code",
   "execution_count": null,
   "id": "02c25e68",
   "metadata": {},
   "outputs": [],
   "source": [
    "actions_sent_non_followers.fan_id.nunique()"
   ]
  },
  {
   "cell_type": "code",
   "execution_count": null,
   "id": "d97416dc",
   "metadata": {},
   "outputs": [],
   "source": [
    "actions_sent_non_followers.shape[0]"
   ]
  },
  {
   "cell_type": "code",
   "execution_count": null,
   "id": "941d5006",
   "metadata": {},
   "outputs": [],
   "source": [
    "df_total_actions_by_fans.fan_id.nunique()"
   ]
  },
  {
   "cell_type": "code",
   "execution_count": null,
   "id": "c8340b90",
   "metadata": {},
   "outputs": [],
   "source": [
    "df_total_actions_by_fans.shape"
   ]
  },
  {
   "cell_type": "code",
   "execution_count": null,
   "id": "1cc62f53",
   "metadata": {},
   "outputs": [],
   "source": [
    "# check actions performed only by non-fans"
   ]
  },
  {
   "cell_type": "code",
   "execution_count": null,
   "id": "4c163f64",
   "metadata": {},
   "outputs": [],
   "source": [
    "actions_sent_non_followers.shape[0]/(actions_sent_followers.shape[0]+actions_sent_non_followers.shape[0])"
   ]
  },
  {
   "cell_type": "code",
   "execution_count": null,
   "id": "a79a4e0d",
   "metadata": {},
   "outputs": [],
   "source": [
    "# pplot #actions per week\n",
    "df_total_actions_by_fans['interaction_week'] = df_total_actions_by_fans.date_sent.apply(lambda x: x.week)\n",
    "df_total_actions_by_fans['interaction_year'] = df_total_actions_by_fans.date_sent.apply(lambda x: x.year)\n",
    "df_total_actions_by_fans['week_yr'] = df_total_actions_by_fans.date_sent.dt.strftime('%Y-w%U')\n",
    "df_total_actions_by_fans['week_yr_date'] = df_total_actions_by_fans.week_yr.apply(lambda x: process_date(x))"
   ]
  },
  {
   "cell_type": "code",
   "execution_count": null,
   "id": "e18eb8ce",
   "metadata": {},
   "outputs": [],
   "source": [
    "weekly_actions_by_fans = df_total_actions_by_fans.groupby('week_yr_date').size()"
   ]
  },
  {
   "cell_type": "code",
   "execution_count": null,
   "id": "a6be2165",
   "metadata": {},
   "outputs": [],
   "source": [
    "weekly_actions_by_fans.plot(ylabel = 'Actions performed by users', xlabel = 'Weeks',\n",
    "                            title = 'Distribution of actions performed by users (fans and non-fans)');\n",
    "#different users performing few actions."
   ]
  },
  {
   "cell_type": "code",
   "execution_count": null,
   "id": "21b708a2",
   "metadata": {},
   "outputs": [],
   "source": [
    "df_total_actions_by_fans[df_total_actions_by_fans.week_yr == '2013-01-07']"
   ]
  },
  {
   "cell_type": "code",
   "execution_count": null,
   "id": "bc352b72",
   "metadata": {},
   "outputs": [],
   "source": [
    "weekly_actions_by_fans"
   ]
  },
  {
   "cell_type": "code",
   "execution_count": null,
   "id": "b681408e",
   "metadata": {},
   "outputs": [],
   "source": [
    "actions_sent_non_followers.groupby('week_yr').size().plot()"
   ]
  },
  {
   "cell_type": "code",
   "execution_count": null,
   "id": "eb66afb7",
   "metadata": {},
   "outputs": [],
   "source": [
    "actions_sent_followers.groupby('week_yr').size().plot()"
   ]
  },
  {
   "cell_type": "code",
   "execution_count": null,
   "id": "76c52406",
   "metadata": {},
   "outputs": [],
   "source": [
    "df_total_actions_by_fans.user_id.nunique()"
   ]
  },
  {
   "cell_type": "code",
   "execution_count": null,
   "id": "36b08af7",
   "metadata": {},
   "outputs": [],
   "source": [
    "user_info.groupby('type').size()"
   ]
  },
  {
   "cell_type": "code",
   "execution_count": null,
   "id": "6e6be0d3",
   "metadata": {},
   "outputs": [],
   "source": [
    "#number of creators that received follows from fans.\n",
    "#should be below 4978\n",
    "follows_received.user_id.nunique()"
   ]
  },
  {
   "cell_type": "code",
   "execution_count": null,
   "id": "a9a47671",
   "metadata": {},
   "outputs": [],
   "source": [
    "#number of creators that received shares from fans.\n",
    "#should be below 4978\n",
    "shares_received.user_id.nunique()"
   ]
  },
  {
   "cell_type": "code",
   "execution_count": null,
   "id": "2c7b461b",
   "metadata": {},
   "outputs": [],
   "source": [
    "#number of creators that received likes from fans.\n",
    "#should be below 4978\n",
    "likes_received.user_id.nunique()"
   ]
  },
  {
   "cell_type": "code",
   "execution_count": null,
   "id": "bd684d74",
   "metadata": {},
   "outputs": [],
   "source": [
    "#number of creators that received comments from fans.\n",
    "#should be below 4978\n",
    "comments_received.user_id.nunique()"
   ]
  },
  {
   "cell_type": "code",
   "execution_count": null,
   "id": "73f900d8",
   "metadata": {},
   "outputs": [],
   "source": [
    "#number of creators that received messages from fans.\n",
    "#should be below 4978\n",
    "messages_received.user_id.nunique()"
   ]
  },
  {
   "cell_type": "code",
   "execution_count": null,
   "id": "b8dcc9d8",
   "metadata": {},
   "outputs": [],
   "source": [
    "user_info['type'] = user_info.type.apply(lambda x: 'fan' if x != 'creator' else x)\n",
    "user_info_1st['type'] = user_info_1st.type.apply(lambda x: 'fan' if x != 'creator' else x)"
   ]
  },
  {
   "cell_type": "code",
   "execution_count": null,
   "id": "d4aa5085",
   "metadata": {},
   "outputs": [],
   "source": [
    "creators_ids = tracks.user_id.unique()"
   ]
  },
  {
   "cell_type": "code",
   "execution_count": null,
   "id": "2ed5bfd2",
   "metadata": {},
   "outputs": [],
   "source": [
    "#who receives promotional activities to creators?\n",
    "df_total_actions_by_fans['receiver_type'] = df_total_actions_by_fans.user_id.apply(\n",
    "    lambda x: 'creator' if x in creator_ids else 'fan')\n",
    "\n",
    "df_total_actions_by_fans.receiver_type.value_counts(normalize = True)"
   ]
  },
  {
   "cell_type": "code",
   "execution_count": null,
   "id": "bfefd43c",
   "metadata": {},
   "outputs": [],
   "source": [
    "#who sends promotional activities to creators?\n",
    "#1 filter only creator receivers\n",
    "\n",
    "df_total_actions_by_fans['sender_type'] = df_total_actions_by_fans.fan_id.apply(\n",
    "    lambda x: 'creator' if x in creator_ids else 'fan')\n",
    "\n",
    "df_total_actions_by_fans.sender_type.value_counts()"
   ]
  },
  {
   "cell_type": "code",
   "execution_count": null,
   "id": "2dfaf56c",
   "metadata": {},
   "outputs": [],
   "source": [
    "df_total_actions_by_fans.groupby('sender_type').fan_id.nunique()"
   ]
  },
  {
   "cell_type": "code",
   "execution_count": null,
   "id": "1d00bebd",
   "metadata": {},
   "outputs": [],
   "source": [
    "1-(1676/(1676+379656))"
   ]
  },
  {
   "cell_type": "code",
   "execution_count": null,
   "id": "72fb14e8",
   "metadata": {},
   "outputs": [],
   "source": [
    "#who sends promotional activities to creators?\n",
    "df_total_actions_by_fans.merge(user_info_1st, left_on = 'fan_id', right_on = 'user_id', how = 'left').type.value_counts()"
   ]
  },
  {
   "cell_type": "code",
   "execution_count": null,
   "id": "49b78947",
   "metadata": {},
   "outputs": [],
   "source": [
    "user_info.type.value_counts()"
   ]
  },
  {
   "cell_type": "code",
   "execution_count": null,
   "id": "3455e637",
   "metadata": {},
   "outputs": [],
   "source": [
    "df_total_actions_by_fans.merge(user_info, left_on = 'user_id', right_on = 'user_id', how = 'left').type.value_counts()"
   ]
  },
  {
   "cell_type": "code",
   "execution_count": null,
   "id": "ab5140ef",
   "metadata": {},
   "outputs": [],
   "source": [
    "actions_sent.user_id.nunique()"
   ]
  },
  {
   "cell_type": "code",
   "execution_count": null,
   "id": "9f39804d",
   "metadata": {},
   "outputs": [],
   "source": [
    "#who are the users that received actions?\n",
    "\n",
    "df_total_actions_by_fans.merge(user_info, left_on = 'user_id', right_on = 'user_id', how = 'inner').type.value_counts()"
   ]
  },
  {
   "cell_type": "code",
   "execution_count": null,
   "id": "ceb880f3",
   "metadata": {},
   "outputs": [],
   "source": [
    "actions_sent.merge(user_info_1st, left_on = 'fan_id', right_on = 'user_id', how = 'left').type.value_counts()"
   ]
  },
  {
   "cell_type": "code",
   "execution_count": null,
   "id": "775ac52e",
   "metadata": {},
   "outputs": [],
   "source": [
    "actions_sent_non_followers.merge(user_info_1st, left_on = 'fan_id', right_on = 'user_id', how = 'left').type.value_counts()"
   ]
  },
  {
   "cell_type": "code",
   "execution_count": null,
   "id": "a7d6e1dc",
   "metadata": {},
   "outputs": [],
   "source": [
    "actions_sent_non_followers.merge(user_info_1st, left_on = 'fan_id', right_on = 'user_id', how = 'left').groupby('type').fan_id.nunique()"
   ]
  },
  {
   "cell_type": "code",
   "execution_count": null,
   "id": "0e3459f7",
   "metadata": {},
   "outputs": [],
   "source": [
    "43203/(101051+43203)"
   ]
  },
  {
   "cell_type": "code",
   "execution_count": null,
   "id": "f85e0fe2",
   "metadata": {},
   "outputs": [],
   "source": [
    "actions_sent_non_followers.merge(user_info_1st, left_on = 'fan_id', right_on = 'user_id', how = 'left').groupby('type').size()"
   ]
  },
  {
   "cell_type": "code",
   "execution_count": null,
   "id": "286c3090",
   "metadata": {},
   "outputs": [],
   "source": [
    "45600/(310636+45600)"
   ]
  },
  {
   "cell_type": "code",
   "execution_count": null,
   "id": "0a124585",
   "metadata": {},
   "outputs": [],
   "source": [
    "df_total_actions_by_fans_and_non_fans.fan_id.nunique()"
   ]
  },
  {
   "cell_type": "code",
   "execution_count": null,
   "id": "cd63eda3",
   "metadata": {},
   "outputs": [],
   "source": []
  },
  {
   "cell_type": "markdown",
   "id": "a7132b9e",
   "metadata": {},
   "source": [
    "# 35 k"
   ]
  },
  {
   "cell_type": "code",
   "execution_count": null,
   "id": "8638c78a",
   "metadata": {},
   "outputs": [],
   "source": [
    "actions_sent = gen_outbound_creators(follows_sent, shares_sent, likes_sent, comments_sent, tracks,\n",
    "                                     messages_sent = messages_sent, filter_creators = False)"
   ]
  },
  {
   "cell_type": "code",
   "execution_count": 21,
   "id": "13cc1850",
   "metadata": {},
   "outputs": [],
   "source": [
    "received_ids = df_total_actions_by_fans_and_non_fans.user_id.unique()"
   ]
  },
  {
   "cell_type": "code",
   "execution_count": 22,
   "id": "849530ef",
   "metadata": {},
   "outputs": [],
   "source": [
    "sent_ids = actions_sent.user_id.unique()"
   ]
  },
  {
   "cell_type": "code",
   "execution_count": 25,
   "id": "db95cf59",
   "metadata": {},
   "outputs": [],
   "source": [
    "ids = np.concatenate((sent_ids, received_ids))"
   ]
  },
  {
   "cell_type": "code",
   "execution_count": 27,
   "id": "22623ad0",
   "metadata": {},
   "outputs": [
    {
     "data": {
      "text/plain": [
       "34936"
      ]
     },
     "execution_count": 27,
     "metadata": {},
     "output_type": "execute_result"
    }
   ],
   "source": [
    "len(np.unique(ids))"
   ]
  },
  {
   "cell_type": "code",
   "execution_count": 34,
   "id": "229fd112",
   "metadata": {},
   "outputs": [],
   "source": [
    "fan_received_ids = df_total_actions_by_fans_and_non_fans.fan_id.unique()"
   ]
  },
  {
   "cell_type": "code",
   "execution_count": 35,
   "id": "9286f6f4",
   "metadata": {},
   "outputs": [],
   "source": [
    "fan_sent_ids = actions_sent.fan_id.unique()"
   ]
  },
  {
   "cell_type": "code",
   "execution_count": 36,
   "id": "06d9faa9",
   "metadata": {},
   "outputs": [],
   "source": [
    "fan_ids = np.concatenate((fan_sent_ids, fan_received_ids))"
   ]
  },
  {
   "cell_type": "code",
   "execution_count": 37,
   "id": "6ea97a36",
   "metadata": {},
   "outputs": [
    {
     "data": {
      "text/plain": [
       "968446"
      ]
     },
     "execution_count": 37,
     "metadata": {},
     "output_type": "execute_result"
    }
   ],
   "source": [
    "len(np.unique(fan_ids))"
   ]
  },
  {
   "cell_type": "code",
   "execution_count": 41,
   "id": "152fb25d",
   "metadata": {},
   "outputs": [
    {
     "data": {
      "text/plain": [
       "685241"
      ]
     },
     "execution_count": 41,
     "metadata": {},
     "output_type": "execute_result"
    }
   ],
   "source": [
    "follows_id = follows_sent.fan_id.unique()\n",
    "follows_received_id = follows_received.fan_id.unique()\n",
    "follows_ids = np.concatenate((follows_id, follows_received_id))\n",
    "len(np.unique(follows_ids))"
   ]
  },
  {
   "cell_type": "code",
   "execution_count": 39,
   "id": "464b10f0",
   "metadata": {},
   "outputs": [
    {
     "data": {
      "text/html": [
       "<div>\n",
       "<style scoped>\n",
       "    .dataframe tbody tr th:only-of-type {\n",
       "        vertical-align: middle;\n",
       "    }\n",
       "\n",
       "    .dataframe tbody tr th {\n",
       "        vertical-align: top;\n",
       "    }\n",
       "\n",
       "    .dataframe thead th {\n",
       "        text-align: right;\n",
       "    }\n",
       "</style>\n",
       "<table border=\"1\" class=\"dataframe\">\n",
       "  <thead>\n",
       "    <tr style=\"text-align: right;\">\n",
       "      <th></th>\n",
       "      <th>user_id</th>\n",
       "      <th>type</th>\n",
       "      <th>entered_platform</th>\n",
       "    </tr>\n",
       "  </thead>\n",
       "  <tbody>\n",
       "    <tr>\n",
       "      <th>0</th>\n",
       "      <td>706</td>\n",
       "      <td>creator</td>\n",
       "      <td>2007-11-20 19:23:00</td>\n",
       "    </tr>\n",
       "    <tr>\n",
       "      <th>1</th>\n",
       "      <td>845</td>\n",
       "      <td>creator</td>\n",
       "      <td>2007-12-03 17:39:37</td>\n",
       "    </tr>\n",
       "    <tr>\n",
       "      <th>2</th>\n",
       "      <td>1255</td>\n",
       "      <td>creator</td>\n",
       "      <td>2008-01-25 21:08:47</td>\n",
       "    </tr>\n",
       "    <tr>\n",
       "      <th>3</th>\n",
       "      <td>1506</td>\n",
       "      <td>creator</td>\n",
       "      <td>2008-02-21 18:04:11</td>\n",
       "    </tr>\n",
       "    <tr>\n",
       "      <th>4</th>\n",
       "      <td>2667</td>\n",
       "      <td>creator</td>\n",
       "      <td>2008-05-25 18:36:09</td>\n",
       "    </tr>\n",
       "    <tr>\n",
       "      <th>...</th>\n",
       "      <td>...</td>\n",
       "      <td>...</td>\n",
       "      <td>...</td>\n",
       "    </tr>\n",
       "    <tr>\n",
       "      <th>670741</th>\n",
       "      <td>160366917</td>\n",
       "      <td></td>\n",
       "      <td>2015-06-29 03:51:08</td>\n",
       "    </tr>\n",
       "    <tr>\n",
       "      <th>670742</th>\n",
       "      <td>160556475</td>\n",
       "      <td></td>\n",
       "      <td>2015-06-30 10:02:16</td>\n",
       "    </tr>\n",
       "    <tr>\n",
       "      <th>670743</th>\n",
       "      <td>160592014</td>\n",
       "      <td></td>\n",
       "      <td>2015-06-30 15:48:27</td>\n",
       "    </tr>\n",
       "    <tr>\n",
       "      <th>670744</th>\n",
       "      <td>160615335</td>\n",
       "      <td></td>\n",
       "      <td>2015-06-30 18:37:51</td>\n",
       "    </tr>\n",
       "    <tr>\n",
       "      <th>670745</th>\n",
       "      <td>160636803</td>\n",
       "      <td></td>\n",
       "      <td>2015-06-30 21:05:39</td>\n",
       "    </tr>\n",
       "  </tbody>\n",
       "</table>\n",
       "<p>670746 rows × 3 columns</p>\n",
       "</div>"
      ],
      "text/plain": [
       "          user_id     type    entered_platform\n",
       "0             706  creator 2007-11-20 19:23:00\n",
       "1             845  creator 2007-12-03 17:39:37\n",
       "2            1255  creator 2008-01-25 21:08:47\n",
       "3            1506  creator 2008-02-21 18:04:11\n",
       "4            2667  creator 2008-05-25 18:36:09\n",
       "...           ...      ...                 ...\n",
       "670741  160366917          2015-06-29 03:51:08\n",
       "670742  160556475          2015-06-30 10:02:16\n",
       "670743  160592014          2015-06-30 15:48:27\n",
       "670744  160615335          2015-06-30 18:37:51\n",
       "670745  160636803          2015-06-30 21:05:39\n",
       "\n",
       "[670746 rows x 3 columns]"
      ]
     },
     "execution_count": 39,
     "metadata": {},
     "output_type": "execute_result"
    }
   ],
   "source": [
    "user_info_1st"
   ]
  },
  {
   "cell_type": "code",
   "execution_count": 46,
   "id": "21293091",
   "metadata": {},
   "outputs": [
    {
     "data": {
      "text/plain": [
       "670746"
      ]
     },
     "execution_count": 46,
     "metadata": {},
     "output_type": "execute_result"
    }
   ],
   "source": [
    "sum(user_info_1st.user_id.isin(np.unique(follows_ids)))"
   ]
  },
  {
   "cell_type": "code",
   "execution_count": null,
   "id": "cf8e34bc",
   "metadata": {},
   "outputs": [],
   "source": []
  }
 ],
 "metadata": {
  "kernelspec": {
   "display_name": "Python 3 (ipykernel)",
   "language": "python",
   "name": "python3"
  },
  "language_info": {
   "codemirror_mode": {
    "name": "ipython",
    "version": 3
   },
   "file_extension": ".py",
   "mimetype": "text/x-python",
   "name": "python",
   "nbconvert_exporter": "python",
   "pygments_lexer": "ipython3",
   "version": "3.8.2"
  }
 },
 "nbformat": 4,
 "nbformat_minor": 5
}
