{
 "cells": [
  {
   "cell_type": "code",
   "execution_count": 1,
   "id": "f8654a52",
   "metadata": {},
   "outputs": [],
   "source": [
    "import sys  \n",
    "sys.path.insert(0, '/Users/caiorego/Desktop/BDS/RA/Seeding-Bandits/')\n",
    "import numpy as np\n",
    "path_dir = r\"/Users/../Volumes/Affiliations/\""
   ]
  },
  {
   "cell_type": "code",
   "execution_count": 2,
   "id": "d6b476f2",
   "metadata": {},
   "outputs": [],
   "source": [
    "import os\n",
    "from tqdm import tqdm"
   ]
  },
  {
   "cell_type": "code",
   "execution_count": 3,
   "id": "674ce717",
   "metadata": {},
   "outputs": [],
   "source": [
    "import pickle as pkl"
   ]
  },
  {
   "cell_type": "code",
   "execution_count": 4,
   "id": "37924411",
   "metadata": {},
   "outputs": [],
   "source": [
    "import sys  \n",
    "sys.path.insert(0, '/Users/caiorego/Desktop/BDS/RA/Seeding-Bandits/')\n",
    "import numpy as np\n",
    "import src.utils\n",
    "from src.utils import import_dta, import_tracks_dta, successful_creators_followers,\\\n",
    "gen_active_relations, get_fan_interactions_per_week, calculate_avg_monthly_valence,\\\n",
    "gen_active_relations_prob, get_fan_interactions_per_week_prob, stripplot_prob,\\\n",
    "reaction_probability, follower_list, filter_quantile, sample_creators_music,\\\n",
    "gen_outbound_creators\n",
    "import datetime\n",
    "from datetime import datetime\n",
    "import pandas as pd\n",
    "import seaborn as sns\n",
    "import matplotlib.pyplot as plt\n",
    "from scipy.stats import mstats\n",
    "pd.plotting.register_matplotlib_converters()\n",
    "\n",
    "import src.probability_utils\n",
    "from src.probability_utils import volume_analysis, valence_analysis\n",
    "import math\n",
    "import matplotlib.ticker as plticker\n",
    "from scipy.interpolate import make_interp_spline, BSpline\n",
    "import seaborn as sns\n",
    "from numpy import random\n",
    "from tabulate import tabulate\n",
    "from IPython.display import display"
   ]
  },
  {
   "cell_type": "code",
   "execution_count": 5,
   "id": "4d2649e8",
   "metadata": {},
   "outputs": [],
   "source": [
    "#follows_sent_users = import_dta(path_dir, \"12sample_1st_deg_affiliations_sent_00.dta\");"
   ]
  },
  {
   "cell_type": "code",
   "execution_count": 9,
   "id": "0c9f61ff",
   "metadata": {},
   "outputs": [],
   "source": [
    "def import_dta(path_dir, path_or_buffer):\n",
    "    \"\"\"Imports and parsers dta data, string timestamp is converted to datatime.datetime format\"\"\"\n",
    "    data = pd.read_stata(os.sep.join([path_dir, path_or_buffer]))\n",
    "    data[\"created_at\"] = pd.to_datetime(data[\"created_at\"])\n",
    "    print(\"%\" * 10, path_or_buffer, \"%\" * 10)\n",
    "    print(data.shape)\n",
    "    return data"
   ]
  },
  {
   "cell_type": "code",
   "execution_count": 7,
   "id": "14c29722",
   "metadata": {},
   "outputs": [],
   "source": [
    "reader=pd.read_stata(os.sep.join([r\"/Users/../Volumes/Affiliations/\", \"12sample_1st_deg_affiliations_sent_00.dta\"]),chunksize=1000000)"
   ]
  },
  {
   "cell_type": "code",
   "execution_count": 7,
   "id": "139e7cb6",
   "metadata": {},
   "outputs": [],
   "source": [
    "import warnings\n",
    "warnings.filterwarnings('ignore')"
   ]
  },
  {
   "cell_type": "code",
   "execution_count": 9,
   "id": "8d22a26a",
   "metadata": {},
   "outputs": [
    {
     "name": "stdout",
     "output_type": "stream",
     "text": [
      "1\n",
      "2\n",
      "3\n",
      "4\n",
      "5\n",
      "6\n",
      "7\n",
      "8\n",
      "9\n",
      "10\n",
      "11\n",
      "12\n",
      "13\n",
      "14\n",
      "15\n",
      "16\n",
      "17\n",
      "18\n",
      "19\n",
      "20\n",
      "21\n",
      "22\n",
      "23\n",
      "24\n",
      "25\n",
      "26\n",
      "27\n",
      "28\n",
      "29\n",
      "30\n",
      "31\n",
      "32\n",
      "33\n",
      "34\n",
      "35\n",
      "36\n",
      "37\n",
      "38\n",
      "39\n",
      "40\n",
      "41\n",
      "42\n",
      "43\n",
      "44\n",
      "45\n",
      "46\n",
      "47\n",
      "48\n",
      "49\n",
      "50\n",
      "51\n",
      "52\n",
      "53\n",
      "54\n",
      "55\n",
      "56\n",
      "57\n",
      "58\n",
      "59\n",
      "60\n",
      "61\n",
      "62\n",
      "63\n",
      "64\n",
      "65\n",
      "66\n",
      "67\n",
      "68\n",
      "69\n",
      "70\n",
      "71\n",
      "72\n",
      "73\n",
      "74\n",
      "75\n",
      "76\n",
      "77\n",
      "78\n",
      "79\n",
      "80\n",
      "81\n",
      "82\n",
      "83\n",
      "84\n",
      "85\n",
      "86\n",
      "87\n",
      "88\n",
      "89\n",
      "90\n",
      "91\n",
      "92\n",
      "93\n",
      "94\n",
      "95\n",
      "96\n",
      "97\n",
      "98\n",
      "99\n",
      "100\n",
      "101\n",
      "102\n",
      "103\n",
      "104\n",
      "105\n",
      "106\n",
      "107\n",
      "108\n",
      "109\n",
      "110\n",
      "111\n",
      "112\n",
      "113\n",
      "114\n",
      "115\n",
      "116\n",
      "117\n",
      "118\n",
      "119\n",
      "120\n",
      "121\n",
      "122\n",
      "123\n",
      "124\n",
      "125\n",
      "126\n",
      "127\n",
      "128\n",
      "129\n",
      "130\n",
      "131\n",
      "132\n",
      "133\n",
      "134\n",
      "135\n",
      "136\n",
      "137\n",
      "138\n",
      "139\n",
      "140\n",
      "141\n",
      "142\n",
      "143\n",
      "144\n",
      "145\n",
      "146\n",
      "147\n",
      "148\n",
      "149\n",
      "150\n",
      "151\n",
      "152\n",
      "153\n",
      "154\n",
      "155\n",
      "156\n",
      "157\n",
      "158\n",
      "159\n",
      "160\n"
     ]
    }
   ],
   "source": [
    "df_0_25 = pd.DataFrame()\n",
    "df_26_50 = pd.DataFrame()\n",
    "df_51_75 = pd.DataFrame()\n",
    "df_76_100 = pd.DataFrame()\n",
    "df_101_130 = pd.DataFrame()\n",
    "df_131_160 = pd.DataFrame()\n",
    "\n",
    "i=0\n",
    "for itm in reader:\n",
    "    i = i+1\n",
    "    print(i)\n",
    "    if i <26:\n",
    "        df_0_25 = df_0_25.append(itm)\n",
    "    elif i < 51:\n",
    "        df_26_50 = df_26_50.append(itm)\n",
    "    elif i < 76:\n",
    "        df_51_75 = df_51_75.append(itm)\n",
    "    elif i < 100:\n",
    "        df_76_100 = df_76_100.append(itm)\n",
    "    elif i < 130:\n",
    "        df_101_130 = df_101_130.append(itm)\n",
    "    else:\n",
    "        df_131_160 = df_131_160.append(itm)"
   ]
  },
  {
   "cell_type": "code",
   "execution_count": 10,
   "id": "82fdb8bc",
   "metadata": {},
   "outputs": [
    {
     "data": {
      "text/plain": [
       "(25000000, 3)"
      ]
     },
     "execution_count": 10,
     "metadata": {},
     "output_type": "execute_result"
    }
   ],
   "source": [
    "df_0_25.shape\n"
   ]
  },
  {
   "cell_type": "code",
   "execution_count": 11,
   "id": "58d73cea",
   "metadata": {},
   "outputs": [
    {
     "data": {
      "text/plain": [
       "(25000000, 3)"
      ]
     },
     "execution_count": 11,
     "metadata": {},
     "output_type": "execute_result"
    }
   ],
   "source": [
    "df_26_50.shape\n"
   ]
  },
  {
   "cell_type": "code",
   "execution_count": 12,
   "id": "9b5686b6",
   "metadata": {},
   "outputs": [
    {
     "data": {
      "text/plain": [
       "(25000000, 3)"
      ]
     },
     "execution_count": 12,
     "metadata": {},
     "output_type": "execute_result"
    }
   ],
   "source": [
    "df_51_75.shape\n"
   ]
  },
  {
   "cell_type": "code",
   "execution_count": 13,
   "id": "2c7af634",
   "metadata": {},
   "outputs": [
    {
     "data": {
      "text/plain": [
       "(24000000, 3)"
      ]
     },
     "execution_count": 13,
     "metadata": {},
     "output_type": "execute_result"
    }
   ],
   "source": [
    "df_76_100.shape\n"
   ]
  },
  {
   "cell_type": "code",
   "execution_count": 14,
   "id": "003a3b76",
   "metadata": {},
   "outputs": [
    {
     "data": {
      "text/plain": [
       "(30000000, 3)"
      ]
     },
     "execution_count": 14,
     "metadata": {},
     "output_type": "execute_result"
    }
   ],
   "source": [
    "df_101_130.shape\n"
   ]
  },
  {
   "cell_type": "code",
   "execution_count": 15,
   "id": "be0376a0",
   "metadata": {},
   "outputs": [
    {
     "data": {
      "text/plain": [
       "(30231072, 3)"
      ]
     },
     "execution_count": 15,
     "metadata": {},
     "output_type": "execute_result"
    }
   ],
   "source": [
    "df_131_160.shape"
   ]
  },
  {
   "cell_type": "code",
   "execution_count": 16,
   "id": "d21d5d54",
   "metadata": {},
   "outputs": [],
   "source": [
    "df_total = pd.concat([df_0_25,df_26_50,df_51_75,df_76_100,df_101_130,df_131_160])"
   ]
  },
  {
   "cell_type": "code",
   "execution_count": 17,
   "id": "d2521227",
   "metadata": {},
   "outputs": [
    {
     "data": {
      "text/html": [
       "<div>\n",
       "<style scoped>\n",
       "    .dataframe tbody tr th:only-of-type {\n",
       "        vertical-align: middle;\n",
       "    }\n",
       "\n",
       "    .dataframe tbody tr th {\n",
       "        vertical-align: top;\n",
       "    }\n",
       "\n",
       "    .dataframe thead th {\n",
       "        text-align: right;\n",
       "    }\n",
       "</style>\n",
       "<table border=\"1\" class=\"dataframe\">\n",
       "  <thead>\n",
       "    <tr style=\"text-align: right;\">\n",
       "      <th></th>\n",
       "      <th>sender_id</th>\n",
       "      <th>contact_id</th>\n",
       "      <th>created_at</th>\n",
       "    </tr>\n",
       "  </thead>\n",
       "  <tbody>\n",
       "    <tr>\n",
       "      <th>0</th>\n",
       "      <td>221</td>\n",
       "      <td>69</td>\n",
       "      <td>2007-09-26 04:55:19</td>\n",
       "    </tr>\n",
       "    <tr>\n",
       "      <th>1</th>\n",
       "      <td>221</td>\n",
       "      <td>272</td>\n",
       "      <td>2007-10-04 15:30:10</td>\n",
       "    </tr>\n",
       "    <tr>\n",
       "      <th>2</th>\n",
       "      <td>221</td>\n",
       "      <td>56</td>\n",
       "      <td>2007-10-04 15:31:16</td>\n",
       "    </tr>\n",
       "    <tr>\n",
       "      <th>3</th>\n",
       "      <td>221</td>\n",
       "      <td>254</td>\n",
       "      <td>2007-10-04 15:31:20</td>\n",
       "    </tr>\n",
       "    <tr>\n",
       "      <th>4</th>\n",
       "      <td>221</td>\n",
       "      <td>266</td>\n",
       "      <td>2007-10-04 15:31:23</td>\n",
       "    </tr>\n",
       "  </tbody>\n",
       "</table>\n",
       "</div>"
      ],
      "text/plain": [
       "   sender_id  contact_id           created_at\n",
       "0        221          69  2007-09-26 04:55:19\n",
       "1        221         272  2007-10-04 15:30:10\n",
       "2        221          56  2007-10-04 15:31:16\n",
       "3        221         254  2007-10-04 15:31:20\n",
       "4        221         266  2007-10-04 15:31:23"
      ]
     },
     "execution_count": 17,
     "metadata": {},
     "output_type": "execute_result"
    }
   ],
   "source": [
    "df_total.head()"
   ]
  },
  {
   "cell_type": "code",
   "execution_count": 18,
   "id": "89671a81",
   "metadata": {},
   "outputs": [],
   "source": [
    "outdegree = df_total.groupby('sender_id').agg(following=('contact_id', pd.Series.nunique))"
   ]
  },
  {
   "cell_type": "code",
   "execution_count": 19,
   "id": "f3cd8e55",
   "metadata": {},
   "outputs": [
    {
     "name": "stdout",
     "output_type": "stream",
     "text": [
      "%%%%%%%%%% 12sample_1st_deg_user_infos.dta %%%%%%%%%%\n",
      "(670746, 3)\n"
     ]
    }
   ],
   "source": [
    "path_dir = r\"/Users/../Volumes/Raw/\"\n",
    "user_info_2 = import_dta(path_dir, \"12sample_1st_deg_user_infos.dta\");"
   ]
  },
  {
   "cell_type": "code",
   "execution_count": 20,
   "id": "6b325454",
   "metadata": {},
   "outputs": [],
   "source": [
    "outdegree_info = user_info_2.merge(outdegree, left_on = 'user_id', right_on = 'sender_id', how= 'left')\n",
    "outdegree_info.loc[outdegree_info.following.isnull(), 'following'] = 0 "
   ]
  },
  {
   "cell_type": "code",
   "execution_count": 21,
   "id": "25c54364",
   "metadata": {},
   "outputs": [
    {
     "data": {
      "text/plain": [
       "sender_id\n",
       "1            False\n",
       "2            False\n",
       "6            False\n",
       "7            False\n",
       "8            False\n",
       "             ...  \n",
       "160652758    False\n",
       "160653305    False\n",
       "160655017    False\n",
       "160655465    False\n",
       "160655510    False\n",
       "Name: following, Length: 618175, dtype: bool"
      ]
     },
     "execution_count": 21,
     "metadata": {},
     "output_type": "execute_result"
    }
   ],
   "source": []
  },
  {
   "cell_type": "code",
   "execution_count": 22,
   "id": "d13594fa",
   "metadata": {},
   "outputs": [],
   "source": []
  },
  {
   "cell_type": "code",
   "execution_count": 23,
   "id": "9916787b",
   "metadata": {},
   "outputs": [
    {
     "data": {
      "image/png": "[encoded data removed]",
      "text/plain": [
       "<Figure size 864x576 with 1 Axes>"
      ]
     },
     "metadata": {
      "needs_background": "light"
     },
     "output_type": "display_data"
    }
   ],
   "source": [
    "plt.figure(figsize=(12, 8))\n",
    "sns.histplot(data=outdegree_info, x=\"following\", bins=100, stat = 'density')\\\n",
    ".set(title = 'Distribution of out-degree: density of the number of follows sent.', xlabel = 'Follows Sent');"
   ]
  },
  {
   "cell_type": "code",
   "execution_count": 24,
   "id": "da04402d",
   "metadata": {},
   "outputs": [],
   "source": [
    "#plt.figure(figsize=(12, 8))\n",
    "#sns.boxplot(data=outdegree_info, y=\"following\").set(title = Distribution)"
   ]
  },
  {
   "cell_type": "code",
   "execution_count": 25,
   "id": "49445535",
   "metadata": {},
   "outputs": [
    {
     "data": {
      "text/plain": [
       "count    670746.00\n",
       "mean        237.39\n",
       "std         461.62\n",
       "min           0.00\n",
       "10%           1.00\n",
       "20%          10.00\n",
       "30%          26.00\n",
       "40%          46.00\n",
       "50%          56.00\n",
       "60%          75.00\n",
       "70%         120.00\n",
       "80%         243.00\n",
       "90%         773.00\n",
       "max        3849.00\n",
       "Name: following, dtype: float64"
      ]
     },
     "execution_count": 25,
     "metadata": {},
     "output_type": "execute_result"
    }
   ],
   "source": [
    "round(outdegree_info.following.describe(percentiles = [.1, .2, .3, .4, .5, .6, .7, .8, .9]),2)"
   ]
  },
  {
   "cell_type": "code",
   "execution_count": 26,
   "id": "9046bdf8",
   "metadata": {},
   "outputs": [
    {
     "data": {
      "text/plain": [
       "0.0       52571\n",
       "50.0      26664\n",
       "1.0       18904\n",
       "62.0      11982\n",
       "2.0       11452\n",
       "          ...  \n",
       "2278.0        1\n",
       "2391.0        1\n",
       "2175.0        1\n",
       "2431.0        1\n",
       "2361.0        1\n",
       "Name: following, Length: 2284, dtype: int64"
      ]
     },
     "execution_count": 26,
     "metadata": {},
     "output_type": "execute_result"
    }
   ],
   "source": [
    "outdegree_info.following.value_counts()"
   ]
  },
  {
   "cell_type": "code",
   "execution_count": 27,
   "id": "eda02170",
   "metadata": {},
   "outputs": [
    {
     "data": {
      "text/plain": [
       "(618175, 1)"
      ]
     },
     "execution_count": 27,
     "metadata": {},
     "output_type": "execute_result"
    }
   ],
   "source": [
    "outdegree.shape"
   ]
  },
  {
   "cell_type": "code",
   "execution_count": 28,
   "id": "de408e6b",
   "metadata": {},
   "outputs": [],
   "source": [
    "df_list = [df_0_25,df_26_50,df_51_75,df_76_100,df_101_130,df_131_160]"
   ]
  },
  {
   "cell_type": "code",
   "execution_count": 41,
   "id": "58a0a550",
   "metadata": {},
   "outputs": [],
   "source": [
    "for i, df in enumerate(df_list):\n",
    "    df.to_pickle('/Users/caiorego/Desktop/BDS/RA/Seeding-Bandits/{}.pkl'.format(i))"
   ]
  },
  {
   "cell_type": "markdown",
   "id": "995730c3",
   "metadata": {},
   "source": [
    "# Indegree"
   ]
  },
  {
   "cell_type": "code",
   "execution_count": 19,
   "id": "b5d5c20b",
   "metadata": {},
   "outputs": [
    {
     "name": "stdout",
     "output_type": "stream",
     "text": [
      "\u001b[31m12sample_1st_deg_affiliations_received_00.dta\u001b[m\u001b[m\r\n",
      "\u001b[31m12sample_1st_deg_affiliations_received_01.dta\u001b[m\u001b[m\r\n",
      "\u001b[31m12sample_1st_deg_affiliations_received_02.dta\u001b[m\u001b[m\r\n",
      "\u001b[31m12sample_1st_deg_affiliations_received_03.dta\u001b[m\u001b[m\r\n",
      "\u001b[31m12sample_1st_deg_affiliations_received_04.dta\u001b[m\u001b[m\r\n",
      "\u001b[31m12sample_1st_deg_affiliations_received_05.dta\u001b[m\u001b[m\r\n",
      "\u001b[31m12sample_1st_deg_affiliations_received_06.dta\u001b[m\u001b[m\r\n",
      "\u001b[31m12sample_1st_deg_affiliations_received_07.dta\u001b[m\u001b[m\r\n",
      "\u001b[31m12sample_1st_deg_affiliations_received_08.dta\u001b[m\u001b[m\r\n",
      "\u001b[31m12sample_1st_deg_affiliations_received_09.dta\u001b[m\u001b[m\r\n"
     ]
    }
   ],
   "source": [
    "!ls /Users/../Volumes/Affilitations_received/"
   ]
  },
  {
   "cell_type": "code",
   "execution_count": null,
   "id": "7ea45092",
   "metadata": {},
   "outputs": [],
   "source": [
    "affiliations_r_00 = import_dta(r\"/Users/../Volumes/Affilitations_received/\", \"12sample_1st_deg_affiliations_received_00.dta\")"
   ]
  },
  {
   "cell_type": "code",
   "execution_count": null,
   "id": "4d6a6abb",
   "metadata": {},
   "outputs": [],
   "source": []
  }
 ],
 "metadata": {
  "kernelspec": {
   "display_name": "Python 3 (ipykernel)",
   "language": "python",
   "name": "python3"
  },
  "language_info": {
   "codemirror_mode": {
    "name": "ipython",
    "version": 3
   },
   "file_extension": ".py",
   "mimetype": "text/x-python",
   "name": "python",
   "nbconvert_exporter": "python",
   "pygments_lexer": "ipython3",
   "version": "3.8.2"
  }
 },
 "nbformat": 4,
 "nbformat_minor": 5
}
