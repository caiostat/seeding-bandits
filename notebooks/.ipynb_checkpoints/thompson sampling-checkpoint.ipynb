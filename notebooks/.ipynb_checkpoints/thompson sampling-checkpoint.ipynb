{
 "cells": [
  {
   "cell_type": "markdown",
   "id": "cd8d0da9",
   "metadata": {},
   "source": [
    "## Imports"
   ]
  },
  {
   "cell_type": "code",
   "execution_count": 1,
   "id": "58c71c3c",
   "metadata": {},
   "outputs": [
    {
     "name": "stdout",
     "output_type": "stream",
     "text": [
      "Requirement already satisfied: tabulate in /Users/caiorego/Desktop/BDS/RA/Seeding-Bandits/venv/lib/python3.8/site-packages (0.8.10)\n",
      "\u001b[33mWARNING: You are using pip version 21.3.1; however, version 22.2.2 is available.\n",
      "You should consider upgrading via the '/Users/caiorego/Desktop/BDS/RA/Seeding-Bandits/venv/bin/python -m pip install --upgrade pip' command.\u001b[0m\n"
     ]
    }
   ],
   "source": [
    "!pip install tabulate"
   ]
  },
  {
   "cell_type": "code",
   "execution_count": 2,
   "id": "5ba82338",
   "metadata": {},
   "outputs": [],
   "source": [
    "import random\n",
    "\n",
    "random.seed(10)"
   ]
  },
  {
   "cell_type": "code",
   "execution_count": 3,
   "id": "ec8233fa",
   "metadata": {},
   "outputs": [],
   "source": [
    "import sys  \n",
    "sys.path.insert(0, '/Users/caiorego/Desktop/BDS/RA/Seeding-Bandits/')\n",
    "import numpy as np\n",
    "import src.utils\n",
    "from src.utils import import_dta, import_tracks_dta, successful_creators_followers,\\\n",
    "gen_active_relations, get_fan_interactions_per_week, calculate_avg_monthly_valence,\\\n",
    "gen_active_relations_prob, get_fan_interactions_per_week_prob, stripplot_prob,\\\n",
    "reaction_probability, follower_list, filter_quantile, sample_creators_music,\\\n",
    "gen_outbound_creators\n",
    "import datetime\n",
    "from datetime import datetime\n",
    "import pandas as pd\n",
    "import seaborn as sns\n",
    "import matplotlib.pyplot as plt\n",
    "from scipy.stats import mstats\n",
    "pd.plotting.register_matplotlib_converters()\n",
    "\n",
    "import src.probability_utils\n",
    "from src.probability_utils import volume_analysis, valence_analysis\n",
    "import math\n",
    "import matplotlib.ticker as plticker\n",
    "from scipy.interpolate import make_interp_spline, BSpline\n",
    "import seaborn as sns\n",
    "from numpy import random\n",
    "from tabulate import tabulate\n",
    "from IPython.display import display"
   ]
  },
  {
   "cell_type": "markdown",
   "id": "b457393b",
   "metadata": {},
   "source": [
    "## Helper functions"
   ]
  },
  {
   "cell_type": "code",
   "execution_count": 4,
   "id": "ab1d0ff9",
   "metadata": {},
   "outputs": [],
   "source": [
    "def process_date(date):\n",
    "    year = date[0:4]\n",
    "    week = date[6:]\n",
    "    day = \"1\"\n",
    "    date = \"{}-{}-1\".format(year, week)\n",
    "    dt = datetime.strptime(date, \"%Y-%W-%w\")\n",
    "    return dt"
   ]
  },
  {
   "cell_type": "code",
   "execution_count": 5,
   "id": "4429b975",
   "metadata": {},
   "outputs": [],
   "source": [
    "def create_trials_rewards(df):\n",
    "    '''\n",
    "    Creates reward counts, trial counts and keys to be used in the thompson sampling function\n",
    "    '''\n",
    "    Sent = df.groupby('outbound_activity', as_index = True).size().to_frame(name='sent')\\\n",
    "    .reset_index()\n",
    "    Reward = df.groupby('outbound_activity', as_index = True)\\\n",
    "    .agg(b_Reward = ('reward', 'sum')).reset_index()\n",
    "\n",
    "\n",
    "    keys  = Sent.outbound_activity\n",
    "\n",
    "    return np.array(Sent.sent), np.array(Reward.b_Reward), keys"
   ]
  },
  {
   "cell_type": "code",
   "execution_count": 6,
   "id": "1b98b1b6",
   "metadata": {},
   "outputs": [],
   "source": [
    "def thompson_sampling(Sent, Reward, keys, N, creator = True):\n",
    "    msgs = len(Sent) \n",
    "\n",
    "    # simulation of Beta distributions (success+1, failures+1)\n",
    "    if creator:\n",
    "        B = random.beta(Reward + 1, (Sent-Reward)+1, size = (N,5))\n",
    "    else:\n",
    "        B = random.beta(Reward + 1, (Sent-Reward)+1, size = (N,2))\n",
    "\n",
    "    unique, counts = np.unique(np.argmax(B, axis = 1), return_counts=True)\n",
    "\n",
    "    P_sus = counts/B.shape[0]\n",
    "    print(keys[unique])\n",
    "    \n",
    "    return list(zip(keys,P_sus))"
   ]
  },
  {
   "cell_type": "code",
   "execution_count": 7,
   "id": "1dce82d2",
   "metadata": {},
   "outputs": [],
   "source": [
    "path_dir = r\"/Users/../Volumes/Raw/\""
   ]
  },
  {
   "cell_type": "code",
   "execution_count": 8,
   "id": "d046738e",
   "metadata": {},
   "outputs": [],
   "source": [
    "music_before = 30\n",
    "low_success = 0.25\n",
    "high_success = 0.75\n",
    "N = 1000"
   ]
  },
  {
   "cell_type": "markdown",
   "id": "d4682764",
   "metadata": {},
   "source": [
    "## Dataset Imports"
   ]
  },
  {
   "cell_type": "code",
   "execution_count": 9,
   "id": "8c38d407",
   "metadata": {},
   "outputs": [
    {
     "name": "stdout",
     "output_type": "stream",
     "text": [
      "%%%%%%%%%% 12sample_tracks.dta %%%%%%%%%%\n",
      "(56262, 7)\n",
      "%%%%%%%%%% 12sample_affiliations_sent.dta %%%%%%%%%%\n",
      "(800913, 3)\n",
      "%%%%%%%%%% 12sample_comments_made.dta %%%%%%%%%%\n",
      "(29258, 4)\n",
      "%%%%%%%%%% 12sample_reposts_made.dta %%%%%%%%%%\n",
      "(179329, 4)\n",
      "%%%%%%%%%% 12sample_favoritings_made.dta %%%%%%%%%%\n",
      "(527701, 4)\n",
      "%%%%%%%%%% 12sample_messages_sent.dta %%%%%%%%%%\n",
      "(11091, 3)\n",
      "%%%%%%%%%% 12sample_user_infos.dta %%%%%%%%%%\n",
      "(35000, 3)\n",
      "%%%%%%%%%% 12sample_1st_deg_user_infos.dta %%%%%%%%%%\n",
      "(670746, 3)\n",
      "%%%%%%%%%% 12sample_affiliations_received.dta %%%%%%%%%%\n",
      "(432503, 3)\n",
      "%%%%%%%%%% 12sample_comments_received.dta %%%%%%%%%%\n",
      "(21386, 4)\n",
      "%%%%%%%%%% 12sample_reposts_received.dta %%%%%%%%%%\n",
      "(83013, 4)\n",
      "%%%%%%%%%% 12sample_favoritings_received.dta %%%%%%%%%%\n",
      "(286903, 4)\n",
      "%%%%%%%%%% 12sample_messages_received.dta %%%%%%%%%%\n",
      "(17364, 3)\n",
      "%%%%%%%%%% 12sample_affiliations.dta %%%%%%%%%%\n",
      "(1233416, 3)\n",
      "%%%%%%%%%% 12sample_comments.dta %%%%%%%%%%\n",
      "(50644, 4)\n",
      "%%%%%%%%%% 12sample_reposts.dta %%%%%%%%%%\n",
      "(262342, 4)\n",
      "%%%%%%%%%% 12sample_favoritings.dta %%%%%%%%%%\n",
      "(814604, 4)\n",
      "%%%%%%%%%% 12sample_messages.dta %%%%%%%%%%\n",
      "(28455, 3)\n",
      "2018-02-03 00:00:00\n",
      "2018-02-03 00:00:00\n",
      "High influencer boundary: 21.0\n",
      "Low influencer boundary: 1.0\n"
     ]
    }
   ],
   "source": [
    "#we will skip comments for now\n",
    "\n",
    "#affiliations :follows\n",
    "#favoritings :likes\n",
    "\n",
    "tracks = import_tracks_dta(path_dir, \"12sample_tracks.dta\");\n",
    "follows_sent = import_dta(path_dir, \"12sample_affiliations_sent.dta\");\n",
    "comments_sent = import_dta(path_dir, \"12sample_comments_made.dta\");\n",
    "shares_sent = import_dta(path_dir, \"12sample_reposts_made.dta\");\n",
    "likes_sent = import_dta(path_dir, \"12sample_favoritings_made.dta\");\n",
    "messages_sent = import_dta(path_dir, \"12sample_messages_sent.dta\");\n",
    "\n",
    "user_info = import_dta(path_dir, \"12sample_user_infos.dta\");\n",
    "user_info_2 = import_dta(path_dir, \"12sample_1st_deg_user_infos.dta\");\n",
    "user_info = pd.concat([user_info, user_info_2]);\n",
    "user_info.drop_duplicates(subset='user_id', keep='first', inplace=True, ignore_index=False);\n",
    "\n",
    "\n",
    "########\n",
    "follows_received = import_dta(path_dir, \"12sample_affiliations_received.dta\");\n",
    "comments_received = import_dta(path_dir, \"12sample_comments_received.dta\");\n",
    "shares_received = import_dta(path_dir, \"12sample_reposts_received.dta\");\n",
    "likes_received = import_dta(path_dir, \"12sample_favoritings_received.dta\");\n",
    "messages_received = import_dta(path_dir, \"12sample_messages_received.dta\");\n",
    "\n",
    "########\n",
    "follows = import_dta(path_dir, \"12sample_affiliations.dta\");\n",
    "comments = import_dta(path_dir, \"12sample_comments.dta\");\n",
    "shares = import_dta(path_dir, \"12sample_reposts.dta\");\n",
    "likes = import_dta(path_dir, \"12sample_favoritings.dta\");\n",
    "messages = import_dta(path_dir, \"12sample_messages.dta\");\n",
    "\n",
    "tracks_first_month = sample_creators_music(tracks, music_before)\n",
    "mask = tracks_first_month.track_available == 1\n",
    "tracks_first_month = tracks_first_month[mask]\n",
    "\n",
    "mask = follows_received.contact_id.isin(tracks_first_month.user_id)\n",
    "follows_received_30 = follows_received[mask]\n",
    "followers_per_creator_60 = successful_creators_followers(follows_received_30, 60, tracks_first_month)\n",
    "followers_per_creator_60_static = successful_creators_followers(follows_received_30, 60, tracks_first_month, always_same_batches = True, \n",
    "                                                        perc1 = low_success, perc2 = high_success)"
   ]
  },
  {
   "cell_type": "markdown",
   "id": "bb602f09",
   "metadata": {},
   "source": [
    "## Data prep"
   ]
  },
  {
   "cell_type": "code",
   "execution_count": 10,
   "id": "2647c794",
   "metadata": {},
   "outputs": [],
   "source": [
    "actions_sent = gen_outbound_creators(follows_sent, shares_sent, likes_sent, comments_sent, tracks,\n",
    "                                     messages_sent = messages_sent, filter_creators = False)"
   ]
  },
  {
   "cell_type": "code",
   "execution_count": 11,
   "id": "fb810f7f",
   "metadata": {},
   "outputs": [],
   "source": [
    "mask = actions_sent.user_id.isin(tracks_first_month.user_id) \n",
    "actions_sent = actions_sent[mask]\n",
    "actions_sent_filtered = actions_sent.merge(followers_per_creator_60_static, left_on = 'user_id', right_on = 'user_id', how = \"inner\")"
   ]
  },
  {
   "cell_type": "code",
   "execution_count": 12,
   "id": "946d0c49",
   "metadata": {},
   "outputs": [
    {
     "name": "stdout",
     "output_type": "stream",
     "text": [
      "Obtaining fanbase...\n"
     ]
    },
    {
     "name": "stderr",
     "output_type": "stream",
     "text": [
      "/var/folders/f2/cgjzt69n5hlgmtsm36p1pztw0000gn/T/ipykernel_61036/1142436393.py:10: SettingWithCopyWarning: \n",
      "A value is trying to be set on a copy of a slice from a DataFrame.\n",
      "Try using .loc[row_indexer,col_indexer] = value instead\n",
      "\n",
      "See the caveats in the documentation: https://pandas.pydata.org/pandas-docs/stable/user_guide/indexing.html#returning-a-view-versus-a-copy\n",
      "  actions_sent_filtered_non_followers['week_yr_date'] = actions_sent_filtered_non_followers.week_yr.apply(lambda x: process_date(x))\n"
     ]
    }
   ],
   "source": [
    "#filter only outbound activities before the follow is received\n",
    "print('Obtaining fanbase...')\n",
    "follows_received.columns = ['fan_id', 'user_id', 'date_sent']\n",
    "followers = follower_list(follows_received)\n",
    "actions_sent_filtered = actions_sent_filtered.merge(followers, right_on = ['user_id', 'fan_id'],\n",
    "                                      left_on = ['user_id', 'fan_id'], how = 'left')\n",
    "\n",
    "mask = (actions_sent_filtered.date_sent < actions_sent_filtered.follower_since) | (actions_sent_filtered.follower_since.isnull())\n",
    "actions_sent_filtered_non_followers =  actions_sent_filtered[mask]\n",
    "actions_sent_filtered_non_followers['week_yr_date'] = actions_sent_filtered_non_followers.week_yr.apply(lambda x: process_date(x))"
   ]
  },
  {
   "cell_type": "code",
   "execution_count": 13,
   "id": "e5435037",
   "metadata": {},
   "outputs": [
    {
     "name": "stderr",
     "output_type": "stream",
     "text": [
      "/var/folders/f2/cgjzt69n5hlgmtsm36p1pztw0000gn/T/ipykernel_61036/2973940690.py:6: SettingWithCopyWarning: \n",
      "A value is trying to be set on a copy of a slice from a DataFrame.\n",
      "Try using .loc[row_indexer,col_indexer] = value instead\n",
      "\n",
      "See the caveats in the documentation: https://pandas.pydata.org/pandas-docs/stable/user_guide/indexing.html#returning-a-view-versus-a-copy\n",
      "  actions_sent_filtered_non_followers.loc[mask, 'reward'] = 1\n"
     ]
    }
   ],
   "source": [
    "import datetime\n",
    "# Target Creation\n",
    "delta = datetime.timedelta(days = 7)\n",
    "mask = (actions_sent_filtered_non_followers['follower_since'] <(actions_sent_filtered_non_followers['date_sent'] + delta))\n",
    "\n",
    "actions_sent_filtered_non_followers.loc[mask, 'reward'] = 1\n",
    "mask = actions_sent_filtered_non_followers['reward'].isnull()\n",
    "actions_sent_filtered_non_followers.loc[mask, 'reward'] = 0"
   ]
  },
  {
   "cell_type": "code",
   "execution_count": 14,
   "id": "ad8e9e54",
   "metadata": {},
   "outputs": [],
   "source": [
    "mask = actions_sent_filtered_non_followers.high_low == 'high'\n",
    "Sent_successful, Reward_successful, keys_successful = create_trials_rewards(actions_sent_filtered_non_followers[mask])\n",
    "\n",
    "mask = actions_sent_filtered_non_followers.high_low == 'low'\n",
    "Sent_unsuccessful, Reward_unsuccessful, keys_unsuccessful = create_trials_rewards(actions_sent_filtered_non_followers[mask])"
   ]
  },
  {
   "cell_type": "code",
   "execution_count": 15,
   "id": "03e0f5d2",
   "metadata": {},
   "outputs": [],
   "source": [
    "creators = user_info[user_info.type == 'creator'].user_id.unique()\n",
    "users = user_info[user_info.type != 'creator'].user_id.unique()\n",
    "\n",
    "mask = actions_sent_filtered_non_followers.high_low == 'high'\n",
    "successful_df = actions_sent_filtered_non_followers[mask]\n",
    "\n",
    "mask = actions_sent_filtered_non_followers.high_low == 'low'\n",
    "unsuccessful_df = actions_sent_filtered_non_followers[mask]\n",
    "\n",
    "sucessful_df_cre_cre = successful_df[successful_df.fan_id.isin(creators)]\n",
    "sucessful_df_cre_use = successful_df[~successful_df.fan_id.isin(creators)]\n",
    "\n",
    "unsucessful_df_cre_cre = unsuccessful_df[unsuccessful_df.fan_id.isin(creators)]\n",
    "unsucessful_df_cre_use = unsuccessful_df[~unsuccessful_df.fan_id.isin(creators)]"
   ]
  },
  {
   "cell_type": "markdown",
   "id": "13f955b6",
   "metadata": {},
   "source": [
    "## Thompson Sampling"
   ]
  },
  {
   "cell_type": "code",
   "execution_count": 16,
   "id": "bf6389fc",
   "metadata": {},
   "outputs": [
    {
     "name": "stdout",
     "output_type": "stream",
     "text": [
      "0    comment\n",
      "1     follow\n",
      "Name: outbound_activity, dtype: object\n"
     ]
    },
    {
     "data": {
      "text/plain": [
       "[('comment', 0.05722), ('follow', 0.94278)]"
      ]
     },
     "execution_count": 16,
     "metadata": {},
     "output_type": "execute_result"
    }
   ],
   "source": [
    "thompson_sampling(Sent_successful, Reward_successful, keys_successful, 50000)"
   ]
  },
  {
   "cell_type": "code",
   "execution_count": 17,
   "id": "c78f6a55",
   "metadata": {},
   "outputs": [
    {
     "name": "stdout",
     "output_type": "stream",
     "text": [
      "0    comment\n",
      "2       like\n",
      "3    message\n",
      "4      share\n",
      "Name: outbound_activity, dtype: object\n"
     ]
    },
    {
     "data": {
      "text/plain": [
       "[('comment', 0.08526),\n",
       " ('follow', 0.00174),\n",
       " ('like', 0.82636),\n",
       " ('message', 0.08664)]"
      ]
     },
     "execution_count": 17,
     "metadata": {},
     "output_type": "execute_result"
    }
   ],
   "source": [
    "thompson_sampling(Sent_unsuccessful, Reward_unsuccessful, keys_unsuccessful, 50000)"
   ]
  },
  {
   "cell_type": "markdown",
   "id": "94fec5e5",
   "metadata": {},
   "source": [
    "## Real time updating"
   ]
  },
  {
   "cell_type": "code",
   "execution_count": 18,
   "id": "a8f0e9eb",
   "metadata": {},
   "outputs": [
    {
     "name": "stderr",
     "output_type": "stream",
     "text": [
      "/var/folders/f2/cgjzt69n5hlgmtsm36p1pztw0000gn/T/ipykernel_61036/670285413.py:1: SettingWithCopyWarning: \n",
      "A value is trying to be set on a copy of a slice from a DataFrame\n",
      "\n",
      "See the caveats in the documentation: https://pandas.pydata.org/pandas-docs/stable/user_guide/indexing.html#returning-a-view-versus-a-copy\n",
      "  actions_sent_filtered_non_followers.sort_values(by = 'date_sent', inplace = True)\n"
     ]
    }
   ],
   "source": [
    "actions_sent_filtered_non_followers.sort_values(by = 'date_sent', inplace = True)"
   ]
  },
  {
   "cell_type": "code",
   "execution_count": 19,
   "id": "c58e408f",
   "metadata": {},
   "outputs": [],
   "source": [
    "def update_1_step(Sent, Reward, N, creator):\n",
    "\n",
    "    if creator:\n",
    "        B = random.beta(Reward + 1, (Sent-Reward)+1, size = (N,5))\n",
    "    else:\n",
    "        B = random.beta(Reward + 1, (Sent-Reward)+1, size = (N,2))\n",
    "\n",
    "    unique, counts = np.unique(np.argmax(B, axis = 1), return_counts=True)\n",
    "    P_sus = counts/B.shape[0]\n",
    "    \n",
    "    if creator:\n",
    "        proba = [P_sus[np.where(unique==i)][0] if i in unique.tolist() else 0 for i in range(5)]\n",
    "    else:\n",
    "        proba = [P_sus[np.where(unique==i)][0] if i in unique.tolist() else 0 for i in range(2)]\n",
    "    return proba"
   ]
  },
  {
   "cell_type": "code",
   "execution_count": 20,
   "id": "e8ec42fa",
   "metadata": {},
   "outputs": [],
   "source": [
    "def real_time(df, N, creator = True):\n",
    "    \n",
    "    if creator:\n",
    "        data = pd.DataFrame({'trials':range(1,df.shape[0]+1), \n",
    "              'comment': 0,\n",
    "              'follow': 0,\n",
    "              'like': 0,\n",
    "              'message': 0,\n",
    "              'share': 0})\n",
    "        \n",
    "        experiment = {'comment':{'Sent':0,'Reward':0}, \n",
    "             'follow':{'Sent':0,'Reward':0},\n",
    "             'like':{'Sent':0,'Reward':0},\n",
    "             'message':{'Sent':0,'Reward':0},\n",
    "             'share':{'Sent':0,'Reward':0}}\n",
    "        \n",
    "    else:\n",
    "        data = pd.DataFrame({'trials':range(1,df.shape[0]+1), \n",
    "              'follow': 0,\n",
    "              'message': 0})\n",
    "        \n",
    "        experiment = { 'follow':{'Sent':0,'Reward':0},\n",
    "             'message':{'Sent':0,'Reward':0}}\n",
    "        \n",
    "\n",
    "    for i in range(df.shape[0]):\n",
    "        experiment[df.iloc[i, 3]]['Sent'] += 1\n",
    "        experiment[df.iloc[i, 3]]['Reward'] += df.iloc[i, -1]\n",
    "        Sent = np.array([a[1]['Sent'] for a in experiment.items()])\n",
    "        Reward = np.array([a[1]['Reward'] for a in experiment.items()])\n",
    "        if creator:\n",
    "            data.loc[i, ['comment', 'follow', 'like', 'message', 'share']] = np.transpose(update_1_step(Sent, Reward, N, creator)) \n",
    "        else:\n",
    "            data.loc[i, ['follow', 'message']] = np.transpose(update_1_step(Sent, Reward, N, creator))\n",
    "            \n",
    "    return data"
   ]
  },
  {
   "cell_type": "markdown",
   "id": "c49de4cd",
   "metadata": {},
   "source": [
    "## One mab per creator"
   ]
  },
  {
   "cell_type": "code",
   "execution_count": 21,
   "id": "74694bb0",
   "metadata": {},
   "outputs": [],
   "source": [
    "def mab_user(df, creator = True):\n",
    "    data = pd.DataFrame()\n",
    "    for user_id in df.user_id.unique():\n",
    "        res = real_time(df[df.user_id == user_id], N, creator)\n",
    "        res['user_id'] = user_id\n",
    "        data = pd.concat([data, res])\n",
    "    return data\n",
    "        "
   ]
  },
  {
   "cell_type": "code",
   "execution_count": 22,
   "id": "d94db8c4",
   "metadata": {},
   "outputs": [],
   "source": [
    "data_sucessful_df_cre_cre = mab_user(sucessful_df_cre_cre)\n",
    "data_one_sucessful_df_cre_cre = data_sucessful_df_cre_cre.\\\n",
    "drop_duplicates(subset='user_id', keep='last', inplace=False, ignore_index=False)"
   ]
  },
  {
   "cell_type": "code",
   "execution_count": 23,
   "id": "4fef8884",
   "metadata": {},
   "outputs": [],
   "source": [
    "data_sucessful_df_cre_use = mab_user(sucessful_df_cre_use, creator = True)\n",
    "data_one_sucessful_df_cre_use = data_sucessful_df_cre_use.\\\n",
    "drop_duplicates(subset='user_id', keep='last', inplace=False, ignore_index=False)"
   ]
  },
  {
   "cell_type": "code",
   "execution_count": 24,
   "id": "9bc7fa11",
   "metadata": {},
   "outputs": [],
   "source": [
    "data_unsucessful_df_cre_cre = mab_user(unsucessful_df_cre_cre)\n",
    "data_one_unsucessful_df_cre_cre = data_unsucessful_df_cre_cre.\\\n",
    "drop_duplicates(subset='user_id', keep='last', inplace=False, ignore_index=False)"
   ]
  },
  {
   "cell_type": "code",
   "execution_count": 25,
   "id": "f39c3b73",
   "metadata": {},
   "outputs": [],
   "source": [
    "data_unsucessful_df_cre_use = mab_user(unsucessful_df_cre_use, creator = True)\n",
    "data_one_unsucessful_df_cre_use = data_unsucessful_df_cre_use.\\\n",
    "drop_duplicates(subset='user_id', keep='last', inplace=False, ignore_index=False)"
   ]
  },
  {
   "cell_type": "code",
   "execution_count": 26,
   "id": "d328e414",
   "metadata": {},
   "outputs": [
    {
     "data": {
      "text/plain": [
       "(76720, 12)"
      ]
     },
     "execution_count": 26,
     "metadata": {},
     "output_type": "execute_result"
    }
   ],
   "source": [
    "sucessful_df_cre_cre.shape"
   ]
  },
  {
   "cell_type": "code",
   "execution_count": 27,
   "id": "ff169bbd",
   "metadata": {},
   "outputs": [
    {
     "data": {
      "text/html": [
       "<div>\n",
       "<style scoped>\n",
       "    .dataframe tbody tr th:only-of-type {\n",
       "        vertical-align: middle;\n",
       "    }\n",
       "\n",
       "    .dataframe tbody tr th {\n",
       "        vertical-align: top;\n",
       "    }\n",
       "\n",
       "    .dataframe thead th {\n",
       "        text-align: right;\n",
       "    }\n",
       "</style>\n",
       "<table border=\"1\" class=\"dataframe\">\n",
       "  <thead>\n",
       "    <tr style=\"text-align: right;\">\n",
       "      <th>outbound_activity</th>\n",
       "      <th>comment</th>\n",
       "      <th>follow</th>\n",
       "      <th>like</th>\n",
       "      <th>message</th>\n",
       "      <th>share</th>\n",
       "    </tr>\n",
       "  </thead>\n",
       "  <tbody>\n",
       "    <tr>\n",
       "      <th>mean</th>\n",
       "      <td>4.051118</td>\n",
       "      <td>78.196486</td>\n",
       "      <td>26.977636</td>\n",
       "      <td>2.587859</td>\n",
       "      <td>10.742812</td>\n",
       "    </tr>\n",
       "    <tr>\n",
       "      <th>std</th>\n",
       "      <td>21.906871</td>\n",
       "      <td>190.185042</td>\n",
       "      <td>128.394964</td>\n",
       "      <td>26.400899</td>\n",
       "      <td>111.973280</td>\n",
       "    </tr>\n",
       "    <tr>\n",
       "      <th>50%</th>\n",
       "      <td>0.000000</td>\n",
       "      <td>27.500000</td>\n",
       "      <td>3.000000</td>\n",
       "      <td>0.000000</td>\n",
       "      <td>0.000000</td>\n",
       "    </tr>\n",
       "  </tbody>\n",
       "</table>\n",
       "</div>"
      ],
      "text/plain": [
       "outbound_activity    comment      follow        like    message       share\n",
       "mean                4.051118   78.196486   26.977636   2.587859   10.742812\n",
       "std                21.906871  190.185042  128.394964  26.400899  111.973280\n",
       "50%                 0.000000   27.500000    3.000000   0.000000    0.000000"
      ]
     },
     "execution_count": 27,
     "metadata": {},
     "output_type": "execute_result"
    }
   ],
   "source": [
    "dft = sucessful_df_cre_cre.groupby(['user_id', 'outbound_activity'], as_index = False)\\\n",
    ".size().pivot(index = 'user_id', columns = 'outbound_activity', values = 'size').fillna(0)\n",
    "\n",
    "dft.describe().loc[['mean', 'std', '50%'],:]"
   ]
  },
  {
   "cell_type": "code",
   "execution_count": 28,
   "id": "d5886815",
   "metadata": {},
   "outputs": [
    {
     "data": {
      "text/plain": [
       "(626, 7)"
      ]
     },
     "execution_count": 28,
     "metadata": {},
     "output_type": "execute_result"
    }
   ],
   "source": [
    "data_one_sucessful_df_cre_cre.shape"
   ]
  },
  {
   "cell_type": "code",
   "execution_count": 29,
   "id": "f9977ff8",
   "metadata": {},
   "outputs": [
    {
     "data": {
      "text/plain": [
       "comment    0.247885\n",
       "follow     0.035912\n",
       "like       0.122642\n",
       "message    0.361546\n",
       "share      0.232014\n",
       "dtype: float64"
      ]
     },
     "execution_count": 29,
     "metadata": {},
     "output_type": "execute_result"
    }
   ],
   "source": [
    "data_one_sucessful_df_cre_cre[['comment', 'follow', 'like', 'message','share']].mean()"
   ]
  },
  {
   "cell_type": "code",
   "execution_count": 30,
   "id": "20ff92ff",
   "metadata": {},
   "outputs": [
    {
     "data": {
      "text/html": [
       "<div>\n",
       "<style scoped>\n",
       "    .dataframe tbody tr th:only-of-type {\n",
       "        vertical-align: middle;\n",
       "    }\n",
       "\n",
       "    .dataframe tbody tr th {\n",
       "        vertical-align: top;\n",
       "    }\n",
       "\n",
       "    .dataframe thead th {\n",
       "        text-align: right;\n",
       "    }\n",
       "</style>\n",
       "<table border=\"1\" class=\"dataframe\">\n",
       "  <thead>\n",
       "    <tr style=\"text-align: right;\">\n",
       "      <th>outbound_activity</th>\n",
       "      <th>comment</th>\n",
       "      <th>follow</th>\n",
       "      <th>like</th>\n",
       "      <th>message</th>\n",
       "      <th>share</th>\n",
       "    </tr>\n",
       "  </thead>\n",
       "  <tbody>\n",
       "    <tr>\n",
       "      <th>mean</th>\n",
       "      <td>0.683761</td>\n",
       "      <td>25.652991</td>\n",
       "      <td>6.885470</td>\n",
       "      <td>0.917949</td>\n",
       "      <td>2.820513</td>\n",
       "    </tr>\n",
       "    <tr>\n",
       "      <th>std</th>\n",
       "      <td>2.713644</td>\n",
       "      <td>54.474899</td>\n",
       "      <td>30.460544</td>\n",
       "      <td>9.795343</td>\n",
       "      <td>24.012417</td>\n",
       "    </tr>\n",
       "    <tr>\n",
       "      <th>50%</th>\n",
       "      <td>0.000000</td>\n",
       "      <td>8.000000</td>\n",
       "      <td>1.000000</td>\n",
       "      <td>0.000000</td>\n",
       "      <td>0.000000</td>\n",
       "    </tr>\n",
       "  </tbody>\n",
       "</table>\n",
       "</div>"
      ],
      "text/plain": [
       "outbound_activity   comment     follow       like   message      share\n",
       "mean               0.683761  25.652991   6.885470  0.917949   2.820513\n",
       "std                2.713644  54.474899  30.460544  9.795343  24.012417\n",
       "50%                0.000000   8.000000   1.000000  0.000000   0.000000"
      ]
     },
     "execution_count": 30,
     "metadata": {},
     "output_type": "execute_result"
    }
   ],
   "source": [
    "dft = sucessful_df_cre_use.groupby(['user_id', 'outbound_activity'], as_index = False)\\\n",
    ".size().pivot(index = 'user_id', columns = 'outbound_activity', values = 'size').fillna(0)\n",
    "\n",
    "dft.describe().loc[['mean', 'std', '50%'],:]"
   ]
  },
  {
   "cell_type": "code",
   "execution_count": 31,
   "id": "b6eb7b30",
   "metadata": {},
   "outputs": [
    {
     "data": {
      "text/plain": [
       "(585, 7)"
      ]
     },
     "execution_count": 31,
     "metadata": {},
     "output_type": "execute_result"
    }
   ],
   "source": [
    "data_one_sucessful_df_cre_use.shape"
   ]
  },
  {
   "cell_type": "code",
   "execution_count": 32,
   "id": "9d1dc0d6",
   "metadata": {},
   "outputs": [
    {
     "data": {
      "text/plain": [
       "comment    0.258542\n",
       "follow     0.069354\n",
       "like       0.143670\n",
       "message    0.291843\n",
       "share      0.236591\n",
       "dtype: float64"
      ]
     },
     "execution_count": 32,
     "metadata": {},
     "output_type": "execute_result"
    }
   ],
   "source": [
    "data_one_sucessful_df_cre_use[['comment', 'follow', 'like', 'message','share']].mean()"
   ]
  },
  {
   "cell_type": "code",
   "execution_count": 33,
   "id": "a7b70970",
   "metadata": {},
   "outputs": [
    {
     "data": {
      "text/html": [
       "<div>\n",
       "<style scoped>\n",
       "    .dataframe tbody tr th:only-of-type {\n",
       "        vertical-align: middle;\n",
       "    }\n",
       "\n",
       "    .dataframe tbody tr th {\n",
       "        vertical-align: top;\n",
       "    }\n",
       "\n",
       "    .dataframe thead th {\n",
       "        text-align: right;\n",
       "    }\n",
       "</style>\n",
       "<table border=\"1\" class=\"dataframe\">\n",
       "  <thead>\n",
       "    <tr style=\"text-align: right;\">\n",
       "      <th>outbound_activity</th>\n",
       "      <th>comment</th>\n",
       "      <th>follow</th>\n",
       "      <th>like</th>\n",
       "      <th>message</th>\n",
       "      <th>share</th>\n",
       "    </tr>\n",
       "  </thead>\n",
       "  <tbody>\n",
       "    <tr>\n",
       "      <th>mean</th>\n",
       "      <td>0.134293</td>\n",
       "      <td>18.441247</td>\n",
       "      <td>0.932854</td>\n",
       "      <td>0.004796</td>\n",
       "      <td>0.235012</td>\n",
       "    </tr>\n",
       "    <tr>\n",
       "      <th>std</th>\n",
       "      <td>0.564323</td>\n",
       "      <td>27.920423</td>\n",
       "      <td>4.862069</td>\n",
       "      <td>0.069171</td>\n",
       "      <td>1.185823</td>\n",
       "    </tr>\n",
       "    <tr>\n",
       "      <th>50%</th>\n",
       "      <td>0.000000</td>\n",
       "      <td>8.000000</td>\n",
       "      <td>0.000000</td>\n",
       "      <td>0.000000</td>\n",
       "      <td>0.000000</td>\n",
       "    </tr>\n",
       "  </tbody>\n",
       "</table>\n",
       "</div>"
      ],
      "text/plain": [
       "outbound_activity   comment     follow      like   message     share\n",
       "mean               0.134293  18.441247  0.932854  0.004796  0.235012\n",
       "std                0.564323  27.920423  4.862069  0.069171  1.185823\n",
       "50%                0.000000   8.000000  0.000000  0.000000  0.000000"
      ]
     },
     "execution_count": 33,
     "metadata": {},
     "output_type": "execute_result"
    }
   ],
   "source": [
    "dft = unsucessful_df_cre_cre.groupby(['user_id', 'outbound_activity'], as_index = False)\\\n",
    ".size().pivot(index = 'user_id', columns = 'outbound_activity', values = 'size').fillna(0)\n",
    "\n",
    "dft.describe().loc[['mean', 'std', '50%'],:]"
   ]
  },
  {
   "cell_type": "code",
   "execution_count": 34,
   "id": "6d7d3e2e",
   "metadata": {},
   "outputs": [
    {
     "data": {
      "text/plain": [
       "(417, 7)"
      ]
     },
     "execution_count": 34,
     "metadata": {},
     "output_type": "execute_result"
    }
   ],
   "source": [
    "data_one_unsucessful_df_cre_cre.shape"
   ]
  },
  {
   "cell_type": "code",
   "execution_count": 35,
   "id": "1d222d83",
   "metadata": {},
   "outputs": [
    {
     "data": {
      "text/html": [
       "<div>\n",
       "<style scoped>\n",
       "    .dataframe tbody tr th:only-of-type {\n",
       "        vertical-align: middle;\n",
       "    }\n",
       "\n",
       "    .dataframe tbody tr th {\n",
       "        vertical-align: top;\n",
       "    }\n",
       "\n",
       "    .dataframe thead th {\n",
       "        text-align: right;\n",
       "    }\n",
       "</style>\n",
       "<table border=\"1\" class=\"dataframe\">\n",
       "  <thead>\n",
       "    <tr style=\"text-align: right;\">\n",
       "      <th>outbound_activity</th>\n",
       "      <th>comment</th>\n",
       "      <th>follow</th>\n",
       "      <th>like</th>\n",
       "      <th>message</th>\n",
       "      <th>share</th>\n",
       "    </tr>\n",
       "  </thead>\n",
       "  <tbody>\n",
       "    <tr>\n",
       "      <th>mean</th>\n",
       "      <td>0.120370</td>\n",
       "      <td>1.291667</td>\n",
       "      <td>0.851852</td>\n",
       "      <td>0.013889</td>\n",
       "      <td>0.305556</td>\n",
       "    </tr>\n",
       "    <tr>\n",
       "      <th>std</th>\n",
       "      <td>0.605672</td>\n",
       "      <td>1.344455</td>\n",
       "      <td>2.328049</td>\n",
       "      <td>0.151862</td>\n",
       "      <td>1.407345</td>\n",
       "    </tr>\n",
       "    <tr>\n",
       "      <th>50%</th>\n",
       "      <td>0.000000</td>\n",
       "      <td>1.000000</td>\n",
       "      <td>0.000000</td>\n",
       "      <td>0.000000</td>\n",
       "      <td>0.000000</td>\n",
       "    </tr>\n",
       "  </tbody>\n",
       "</table>\n",
       "</div>"
      ],
      "text/plain": [
       "outbound_activity   comment    follow      like   message     share\n",
       "mean               0.120370  1.291667  0.851852  0.013889  0.305556\n",
       "std                0.605672  1.344455  2.328049  0.151862  1.407345\n",
       "50%                0.000000  1.000000  0.000000  0.000000  0.000000"
      ]
     },
     "execution_count": 35,
     "metadata": {},
     "output_type": "execute_result"
    }
   ],
   "source": [
    "dft = unsucessful_df_cre_use.groupby(['user_id', 'outbound_activity'], as_index = False)\\\n",
    ".size().pivot(index = 'user_id', columns = 'outbound_activity', values = 'size').fillna(0)\n",
    "\n",
    "dft.describe().loc[['mean', 'std', '50%'],:]"
   ]
  },
  {
   "cell_type": "code",
   "execution_count": 36,
   "id": "7cfe7829",
   "metadata": {},
   "outputs": [
    {
     "data": {
      "text/plain": [
       "comment    0.249350\n",
       "follow     0.037657\n",
       "like       0.206420\n",
       "message    0.268029\n",
       "share      0.238544\n",
       "dtype: float64"
      ]
     },
     "execution_count": 36,
     "metadata": {},
     "output_type": "execute_result"
    }
   ],
   "source": [
    "data_one_unsucessful_df_cre_cre[['comment', 'follow', 'like', 'message','share']].mean()"
   ]
  },
  {
   "cell_type": "code",
   "execution_count": 37,
   "id": "a87c5ca0",
   "metadata": {},
   "outputs": [
    {
     "data": {
      "text/plain": [
       "(558, 12)"
      ]
     },
     "execution_count": 37,
     "metadata": {},
     "output_type": "execute_result"
    }
   ],
   "source": [
    "unsucessful_df_cre_use.shape"
   ]
  },
  {
   "cell_type": "code",
   "execution_count": 38,
   "id": "a04e257f",
   "metadata": {},
   "outputs": [
    {
     "data": {
      "text/plain": [
       "(216, 7)"
      ]
     },
     "execution_count": 38,
     "metadata": {},
     "output_type": "execute_result"
    }
   ],
   "source": [
    "data_one_unsucessful_df_cre_use.shape"
   ]
  },
  {
   "cell_type": "code",
   "execution_count": 39,
   "id": "c3a69651",
   "metadata": {},
   "outputs": [
    {
     "data": {
      "text/plain": [
       "comment    0.235912\n",
       "follow     0.104306\n",
       "like       0.184597\n",
       "message    0.250440\n",
       "share      0.224745\n",
       "dtype: float64"
      ]
     },
     "execution_count": 39,
     "metadata": {},
     "output_type": "execute_result"
    }
   ],
   "source": [
    "data_one_unsucessful_df_cre_use[['comment', 'follow', 'like', 'message','share']].mean()"
   ]
  },
  {
   "cell_type": "markdown",
   "id": "8cd6bc82",
   "metadata": {},
   "source": [
    "## Duplicate analaysis"
   ]
  },
  {
   "cell_type": "code",
   "execution_count": 40,
   "id": "ccbc0f3d",
   "metadata": {},
   "outputs": [
    {
     "data": {
      "text/plain": [
       "1     0.920968\n",
       "2     0.046102\n",
       "3     0.018073\n",
       "4     0.006892\n",
       "5     0.003982\n",
       "7     0.001225\n",
       "6     0.001225\n",
       "8     0.000306\n",
       "10    0.000306\n",
       "9     0.000306\n",
       "16    0.000153\n",
       "18    0.000153\n",
       "17    0.000153\n",
       "24    0.000153\n",
       "Name: size, dtype: float64"
      ]
     },
     "execution_count": 40,
     "metadata": {},
     "output_type": "execute_result"
    }
   ],
   "source": [
    "mask = actions_sent_filtered_non_followers.reward == 1\n",
    "dups = actions_sent_filtered_non_followers[mask].groupby(['user_id', 'fan_id'], as_index = False).size()\n",
    "dups['size'].value_counts(normalize = True)"
   ]
  },
  {
   "cell_type": "code",
   "execution_count": 41,
   "id": "65aeed4e",
   "metadata": {},
   "outputs": [],
   "source": [
    "def plot_learning(data, user_id, number, title, creator = True):\n",
    "    \n",
    "    if creator:\n",
    "        column_list = ['trials', 'comment', 'follow', 'like', 'message', 'share']\n",
    "        hue_order_l = ['follow', 'share', 'like', 'comment', 'message']\n",
    "    else:\n",
    "        column_list = ['trials', 'follow','message']\n",
    "        hue_order_l = ['follow', 'message']\n",
    "        \n",
    "    df_plot = pd.DataFrame(data.loc[data.user_id == user_id,\n",
    "    column_list].set_index('trials')\\\n",
    "             .stack().reset_index(name='Val').rename(columns={'level_1':'outbound_activity'}))\n",
    "\n",
    "    lim_sup = df_plot.iloc[-1,0]\n",
    "    sns.set(rc={'figure.figsize':(12,8)})\n",
    "    sns.set_style(\"white\")\n",
    "    sns.kdeplot(data=df_plot,\n",
    "            x=\"trials\",\n",
    "            hue=\"outbound_activity\",\n",
    "            hue_order= hue_order_l,\n",
    "            multiple=\"fill\",\n",
    "            weights=\"Val\",\n",
    "            bw_adjust = 1)\\\n",
    "    .set(xlim=(0, lim_sup),title='Figure {}: {} - Learned reward estimates.'.format(number, title), xlabel='Trial',\n",
    "     ylabel='Estimates');"
   ]
  },
  {
   "cell_type": "code",
   "execution_count": 42,
   "id": "5e142d2a",
   "metadata": {},
   "outputs": [
    {
     "data": {
      "text/html": [
       "<div>\n",
       "<style scoped>\n",
       "    .dataframe tbody tr th:only-of-type {\n",
       "        vertical-align: middle;\n",
       "    }\n",
       "\n",
       "    .dataframe tbody tr th {\n",
       "        vertical-align: top;\n",
       "    }\n",
       "\n",
       "    .dataframe thead th {\n",
       "        text-align: right;\n",
       "    }\n",
       "</style>\n",
       "<table border=\"1\" class=\"dataframe\">\n",
       "  <thead>\n",
       "    <tr style=\"text-align: right;\">\n",
       "      <th></th>\n",
       "      <th>trials</th>\n",
       "      <th>comment</th>\n",
       "      <th>follow</th>\n",
       "      <th>like</th>\n",
       "      <th>message</th>\n",
       "      <th>share</th>\n",
       "      <th>user_id</th>\n",
       "    </tr>\n",
       "  </thead>\n",
       "  <tbody>\n",
       "    <tr>\n",
       "      <th>0</th>\n",
       "      <td>1</td>\n",
       "      <td>0.159</td>\n",
       "      <td>0.359</td>\n",
       "      <td>0.170</td>\n",
       "      <td>0.152</td>\n",
       "      <td>0.160</td>\n",
       "      <td>37842660</td>\n",
       "    </tr>\n",
       "    <tr>\n",
       "      <th>1</th>\n",
       "      <td>2</td>\n",
       "      <td>0.210</td>\n",
       "      <td>0.145</td>\n",
       "      <td>0.251</td>\n",
       "      <td>0.194</td>\n",
       "      <td>0.200</td>\n",
       "      <td>37842660</td>\n",
       "    </tr>\n",
       "    <tr>\n",
       "      <th>2</th>\n",
       "      <td>3</td>\n",
       "      <td>0.230</td>\n",
       "      <td>0.061</td>\n",
       "      <td>0.236</td>\n",
       "      <td>0.227</td>\n",
       "      <td>0.246</td>\n",
       "      <td>37842660</td>\n",
       "    </tr>\n",
       "    <tr>\n",
       "      <th>3</th>\n",
       "      <td>4</td>\n",
       "      <td>0.206</td>\n",
       "      <td>0.111</td>\n",
       "      <td>0.229</td>\n",
       "      <td>0.207</td>\n",
       "      <td>0.247</td>\n",
       "      <td>37842660</td>\n",
       "    </tr>\n",
       "    <tr>\n",
       "      <th>4</th>\n",
       "      <td>5</td>\n",
       "      <td>0.226</td>\n",
       "      <td>0.063</td>\n",
       "      <td>0.230</td>\n",
       "      <td>0.228</td>\n",
       "      <td>0.253</td>\n",
       "      <td>37842660</td>\n",
       "    </tr>\n",
       "    <tr>\n",
       "      <th>...</th>\n",
       "      <td>...</td>\n",
       "      <td>...</td>\n",
       "      <td>...</td>\n",
       "      <td>...</td>\n",
       "      <td>...</td>\n",
       "      <td>...</td>\n",
       "      <td>...</td>\n",
       "    </tr>\n",
       "    <tr>\n",
       "      <th>21</th>\n",
       "      <td>22</td>\n",
       "      <td>0.267</td>\n",
       "      <td>0.000</td>\n",
       "      <td>0.244</td>\n",
       "      <td>0.230</td>\n",
       "      <td>0.259</td>\n",
       "      <td>37952643</td>\n",
       "    </tr>\n",
       "    <tr>\n",
       "      <th>22</th>\n",
       "      <td>23</td>\n",
       "      <td>0.240</td>\n",
       "      <td>0.000</td>\n",
       "      <td>0.253</td>\n",
       "      <td>0.265</td>\n",
       "      <td>0.242</td>\n",
       "      <td>37952643</td>\n",
       "    </tr>\n",
       "    <tr>\n",
       "      <th>0</th>\n",
       "      <td>1</td>\n",
       "      <td>0.254</td>\n",
       "      <td>0.062</td>\n",
       "      <td>0.218</td>\n",
       "      <td>0.236</td>\n",
       "      <td>0.230</td>\n",
       "      <td>38252653</td>\n",
       "    </tr>\n",
       "    <tr>\n",
       "      <th>0</th>\n",
       "      <td>1</td>\n",
       "      <td>0.190</td>\n",
       "      <td>0.311</td>\n",
       "      <td>0.161</td>\n",
       "      <td>0.154</td>\n",
       "      <td>0.184</td>\n",
       "      <td>37978609</td>\n",
       "    </tr>\n",
       "    <tr>\n",
       "      <th>0</th>\n",
       "      <td>1</td>\n",
       "      <td>0.068</td>\n",
       "      <td>0.224</td>\n",
       "      <td>0.244</td>\n",
       "      <td>0.236</td>\n",
       "      <td>0.228</td>\n",
       "      <td>38216626</td>\n",
       "    </tr>\n",
       "  </tbody>\n",
       "</table>\n",
       "<p>76720 rows × 7 columns</p>\n",
       "</div>"
      ],
      "text/plain": [
       "    trials  comment  follow   like  message  share   user_id\n",
       "0        1    0.159   0.359  0.170    0.152  0.160  37842660\n",
       "1        2    0.210   0.145  0.251    0.194  0.200  37842660\n",
       "2        3    0.230   0.061  0.236    0.227  0.246  37842660\n",
       "3        4    0.206   0.111  0.229    0.207  0.247  37842660\n",
       "4        5    0.226   0.063  0.230    0.228  0.253  37842660\n",
       "..     ...      ...     ...    ...      ...    ...       ...\n",
       "21      22    0.267   0.000  0.244    0.230  0.259  37952643\n",
       "22      23    0.240   0.000  0.253    0.265  0.242  37952643\n",
       "0        1    0.254   0.062  0.218    0.236  0.230  38252653\n",
       "0        1    0.190   0.311  0.161    0.154  0.184  37978609\n",
       "0        1    0.068   0.224  0.244    0.236  0.228  38216626\n",
       "\n",
       "[76720 rows x 7 columns]"
      ]
     },
     "execution_count": 42,
     "metadata": {},
     "output_type": "execute_result"
    }
   ],
   "source": [
    "data_sucessful_df_cre_cre"
   ]
  },
  {
   "cell_type": "code",
   "execution_count": 43,
   "id": "8d79bd18",
   "metadata": {},
   "outputs": [
    {
     "data": {
      "image/png": "[encoded data removed]",
      "text/plain": [
       "<Figure size 432x288 with 1 Axes>"
      ]
     },
     "metadata": {
      "needs_background": "light"
     },
     "output_type": "display_data"
    }
   ],
   "source": [
    "plot_learning(data_sucessful_df_cre_cre,37952643,15, 'Sender: Successful creators, receiver: creators')"
   ]
  },
  {
   "cell_type": "code",
   "execution_count": 44,
   "id": "60dc58cb",
   "metadata": {},
   "outputs": [
    {
     "data": {
      "text/html": [
       "<div>\n",
       "<style scoped>\n",
       "    .dataframe tbody tr th:only-of-type {\n",
       "        vertical-align: middle;\n",
       "    }\n",
       "\n",
       "    .dataframe tbody tr th {\n",
       "        vertical-align: top;\n",
       "    }\n",
       "\n",
       "    .dataframe thead th {\n",
       "        text-align: right;\n",
       "    }\n",
       "</style>\n",
       "<table border=\"1\" class=\"dataframe\">\n",
       "  <thead>\n",
       "    <tr style=\"text-align: right;\">\n",
       "      <th></th>\n",
       "      <th>trials</th>\n",
       "      <th>comment</th>\n",
       "      <th>follow</th>\n",
       "      <th>like</th>\n",
       "      <th>message</th>\n",
       "      <th>share</th>\n",
       "      <th>user_id</th>\n",
       "    </tr>\n",
       "  </thead>\n",
       "  <tbody>\n",
       "    <tr>\n",
       "      <th>0</th>\n",
       "      <td>1</td>\n",
       "      <td>0.217</td>\n",
       "      <td>0.240</td>\n",
       "      <td>0.244</td>\n",
       "      <td>0.237</td>\n",
       "      <td>0.062</td>\n",
       "      <td>37842660</td>\n",
       "    </tr>\n",
       "    <tr>\n",
       "      <th>1</th>\n",
       "      <td>2</td>\n",
       "      <td>0.243</td>\n",
       "      <td>0.262</td>\n",
       "      <td>0.256</td>\n",
       "      <td>0.223</td>\n",
       "      <td>0.016</td>\n",
       "      <td>37842660</td>\n",
       "    </tr>\n",
       "    <tr>\n",
       "      <th>2</th>\n",
       "      <td>3</td>\n",
       "      <td>0.252</td>\n",
       "      <td>0.261</td>\n",
       "      <td>0.219</td>\n",
       "      <td>0.255</td>\n",
       "      <td>0.013</td>\n",
       "      <td>37842660</td>\n",
       "    </tr>\n",
       "    <tr>\n",
       "      <th>3</th>\n",
       "      <td>4</td>\n",
       "      <td>0.303</td>\n",
       "      <td>0.289</td>\n",
       "      <td>0.107</td>\n",
       "      <td>0.287</td>\n",
       "      <td>0.014</td>\n",
       "      <td>37842660</td>\n",
       "    </tr>\n",
       "    <tr>\n",
       "      <th>4</th>\n",
       "      <td>5</td>\n",
       "      <td>0.316</td>\n",
       "      <td>0.304</td>\n",
       "      <td>0.049</td>\n",
       "      <td>0.308</td>\n",
       "      <td>0.023</td>\n",
       "      <td>37842660</td>\n",
       "    </tr>\n",
       "    <tr>\n",
       "      <th>...</th>\n",
       "      <td>...</td>\n",
       "      <td>...</td>\n",
       "      <td>...</td>\n",
       "      <td>...</td>\n",
       "      <td>...</td>\n",
       "      <td>...</td>\n",
       "      <td>...</td>\n",
       "    </tr>\n",
       "    <tr>\n",
       "      <th>0</th>\n",
       "      <td>1</td>\n",
       "      <td>0.245</td>\n",
       "      <td>0.244</td>\n",
       "      <td>0.064</td>\n",
       "      <td>0.210</td>\n",
       "      <td>0.237</td>\n",
       "      <td>38490649</td>\n",
       "    </tr>\n",
       "    <tr>\n",
       "      <th>0</th>\n",
       "      <td>1</td>\n",
       "      <td>0.073</td>\n",
       "      <td>0.201</td>\n",
       "      <td>0.247</td>\n",
       "      <td>0.238</td>\n",
       "      <td>0.241</td>\n",
       "      <td>38216626</td>\n",
       "    </tr>\n",
       "    <tr>\n",
       "      <th>0</th>\n",
       "      <td>1</td>\n",
       "      <td>0.235</td>\n",
       "      <td>0.232</td>\n",
       "      <td>0.245</td>\n",
       "      <td>0.061</td>\n",
       "      <td>0.227</td>\n",
       "      <td>38194335</td>\n",
       "    </tr>\n",
       "    <tr>\n",
       "      <th>1</th>\n",
       "      <td>2</td>\n",
       "      <td>0.240</td>\n",
       "      <td>0.257</td>\n",
       "      <td>0.251</td>\n",
       "      <td>0.026</td>\n",
       "      <td>0.226</td>\n",
       "      <td>38194335</td>\n",
       "    </tr>\n",
       "    <tr>\n",
       "      <th>2</th>\n",
       "      <td>3</td>\n",
       "      <td>0.251</td>\n",
       "      <td>0.217</td>\n",
       "      <td>0.257</td>\n",
       "      <td>0.021</td>\n",
       "      <td>0.254</td>\n",
       "      <td>38194335</td>\n",
       "    </tr>\n",
       "  </tbody>\n",
       "</table>\n",
       "<p>21622 rows × 7 columns</p>\n",
       "</div>"
      ],
      "text/plain": [
       "    trials  comment  follow   like  message  share   user_id\n",
       "0        1    0.217   0.240  0.244    0.237  0.062  37842660\n",
       "1        2    0.243   0.262  0.256    0.223  0.016  37842660\n",
       "2        3    0.252   0.261  0.219    0.255  0.013  37842660\n",
       "3        4    0.303   0.289  0.107    0.287  0.014  37842660\n",
       "4        5    0.316   0.304  0.049    0.308  0.023  37842660\n",
       "..     ...      ...     ...    ...      ...    ...       ...\n",
       "0        1    0.245   0.244  0.064    0.210  0.237  38490649\n",
       "0        1    0.073   0.201  0.247    0.238  0.241  38216626\n",
       "0        1    0.235   0.232  0.245    0.061  0.227  38194335\n",
       "1        2    0.240   0.257  0.251    0.026  0.226  38194335\n",
       "2        3    0.251   0.217  0.257    0.021  0.254  38194335\n",
       "\n",
       "[21622 rows x 7 columns]"
      ]
     },
     "execution_count": 44,
     "metadata": {},
     "output_type": "execute_result"
    }
   ],
   "source": [
    "data_sucessful_df_cre_use"
   ]
  },
  {
   "cell_type": "code",
   "execution_count": 45,
   "id": "4764ce29",
   "metadata": {},
   "outputs": [
    {
     "data": {
      "image/png": "[encoded data removed]",
      "text/plain": [
       "<Figure size 864x576 with 1 Axes>"
      ]
     },
     "metadata": {},
     "output_type": "display_data"
    }
   ],
   "source": [
    "plot_learning(data_sucessful_df_cre_use,37842660, 16, 'Sender: Successful creators, receiver: users', creator = True)"
   ]
  },
  {
   "cell_type": "code",
   "execution_count": 46,
   "id": "b3619cf7",
   "metadata": {},
   "outputs": [
    {
     "ename": "IndexError",
     "evalue": "index -1 is out of bounds for axis 0 with size 0",
     "output_type": "error",
     "traceback": [
      "\u001b[0;31m---------------------------------------------------------------------------\u001b[0m",
      "\u001b[0;31mIndexError\u001b[0m                                Traceback (most recent call last)",
      "Input \u001b[0;32mIn [46]\u001b[0m, in \u001b[0;36m<cell line: 1>\u001b[0;34m()\u001b[0m\n\u001b[0;32m----> 1\u001b[0m \u001b[43mplot_learning\u001b[49m\u001b[43m(\u001b[49m\u001b[43mdata_unsucessful_df_cre_cre\u001b[49m\u001b[43m,\u001b[49m\u001b[38;5;241;43m38271148\u001b[39;49m\u001b[43m,\u001b[49m\u001b[38;5;241;43m5\u001b[39;49m\u001b[43m,\u001b[49m\u001b[43m \u001b[49m\u001b[38;5;124;43m'\u001b[39;49m\u001b[38;5;124;43mtitulo\u001b[39;49m\u001b[38;5;124;43m'\u001b[39;49m\u001b[43m,\u001b[49m\u001b[43m \u001b[49m\u001b[43mcreator\u001b[49m\u001b[43m \u001b[49m\u001b[38;5;241;43m=\u001b[39;49m\u001b[43m \u001b[49m\u001b[38;5;28;43;01mTrue\u001b[39;49;00m\u001b[43m)\u001b[49m\n",
      "Input \u001b[0;32mIn [41]\u001b[0m, in \u001b[0;36mplot_learning\u001b[0;34m(data, user_id, number, title, creator)\u001b[0m\n\u001b[1;32m      8\u001b[0m     hue_order_l \u001b[38;5;241m=\u001b[39m [\u001b[38;5;124m'\u001b[39m\u001b[38;5;124mfollow\u001b[39m\u001b[38;5;124m'\u001b[39m, \u001b[38;5;124m'\u001b[39m\u001b[38;5;124mmessage\u001b[39m\u001b[38;5;124m'\u001b[39m]\n\u001b[1;32m     10\u001b[0m df_plot \u001b[38;5;241m=\u001b[39m pd\u001b[38;5;241m.\u001b[39mDataFrame(data\u001b[38;5;241m.\u001b[39mloc[data\u001b[38;5;241m.\u001b[39muser_id \u001b[38;5;241m==\u001b[39m user_id,\n\u001b[1;32m     11\u001b[0m column_list]\u001b[38;5;241m.\u001b[39mset_index(\u001b[38;5;124m'\u001b[39m\u001b[38;5;124mtrials\u001b[39m\u001b[38;5;124m'\u001b[39m)\\\n\u001b[1;32m     12\u001b[0m          \u001b[38;5;241m.\u001b[39mstack()\u001b[38;5;241m.\u001b[39mreset_index(name\u001b[38;5;241m=\u001b[39m\u001b[38;5;124m'\u001b[39m\u001b[38;5;124mVal\u001b[39m\u001b[38;5;124m'\u001b[39m)\u001b[38;5;241m.\u001b[39mrename(columns\u001b[38;5;241m=\u001b[39m{\u001b[38;5;124m'\u001b[39m\u001b[38;5;124mlevel_1\u001b[39m\u001b[38;5;124m'\u001b[39m:\u001b[38;5;124m'\u001b[39m\u001b[38;5;124moutbound_activity\u001b[39m\u001b[38;5;124m'\u001b[39m}))\n\u001b[0;32m---> 14\u001b[0m lim_sup \u001b[38;5;241m=\u001b[39m \u001b[43mdf_plot\u001b[49m\u001b[38;5;241;43m.\u001b[39;49m\u001b[43miloc\u001b[49m\u001b[43m[\u001b[49m\u001b[38;5;241;43m-\u001b[39;49m\u001b[38;5;241;43m1\u001b[39;49m\u001b[43m,\u001b[49m\u001b[38;5;241;43m0\u001b[39;49m\u001b[43m]\u001b[49m\n\u001b[1;32m     15\u001b[0m sns\u001b[38;5;241m.\u001b[39mset(rc\u001b[38;5;241m=\u001b[39m{\u001b[38;5;124m'\u001b[39m\u001b[38;5;124mfigure.figsize\u001b[39m\u001b[38;5;124m'\u001b[39m:(\u001b[38;5;241m12\u001b[39m,\u001b[38;5;241m8\u001b[39m)})\n\u001b[1;32m     16\u001b[0m sns\u001b[38;5;241m.\u001b[39mset_style(\u001b[38;5;124m\"\u001b[39m\u001b[38;5;124mwhite\u001b[39m\u001b[38;5;124m\"\u001b[39m)\n",
      "File \u001b[0;32m~/Desktop/BDS/RA/Seeding-Bandits/venv/lib/python3.8/site-packages/pandas/core/indexing.py:960\u001b[0m, in \u001b[0;36m_LocationIndexer.__getitem__\u001b[0;34m(self, key)\u001b[0m\n\u001b[1;32m    958\u001b[0m     key \u001b[38;5;241m=\u001b[39m \u001b[38;5;28mtuple\u001b[39m(com\u001b[38;5;241m.\u001b[39mapply_if_callable(x, \u001b[38;5;28mself\u001b[39m\u001b[38;5;241m.\u001b[39mobj) \u001b[38;5;28;01mfor\u001b[39;00m x \u001b[38;5;129;01min\u001b[39;00m key)\n\u001b[1;32m    959\u001b[0m     \u001b[38;5;28;01mif\u001b[39;00m \u001b[38;5;28mself\u001b[39m\u001b[38;5;241m.\u001b[39m_is_scalar_access(key):\n\u001b[0;32m--> 960\u001b[0m         \u001b[38;5;28;01mreturn\u001b[39;00m \u001b[38;5;28;43mself\u001b[39;49m\u001b[38;5;241;43m.\u001b[39;49m\u001b[43mobj\u001b[49m\u001b[38;5;241;43m.\u001b[39;49m\u001b[43m_get_value\u001b[49m\u001b[43m(\u001b[49m\u001b[38;5;241;43m*\u001b[39;49m\u001b[43mkey\u001b[49m\u001b[43m,\u001b[49m\u001b[43m \u001b[49m\u001b[43mtakeable\u001b[49m\u001b[38;5;241;43m=\u001b[39;49m\u001b[38;5;28;43mself\u001b[39;49m\u001b[38;5;241;43m.\u001b[39;49m\u001b[43m_takeable\u001b[49m\u001b[43m)\u001b[49m\n\u001b[1;32m    961\u001b[0m     \u001b[38;5;28;01mreturn\u001b[39;00m \u001b[38;5;28mself\u001b[39m\u001b[38;5;241m.\u001b[39m_getitem_tuple(key)\n\u001b[1;32m    962\u001b[0m \u001b[38;5;28;01melse\u001b[39;00m:\n\u001b[1;32m    963\u001b[0m     \u001b[38;5;66;03m# we by definition only have the 0th axis\u001b[39;00m\n",
      "File \u001b[0;32m~/Desktop/BDS/RA/Seeding-Bandits/venv/lib/python3.8/site-packages/pandas/core/frame.py:3613\u001b[0m, in \u001b[0;36mDataFrame._get_value\u001b[0;34m(self, index, col, takeable)\u001b[0m\n\u001b[1;32m   3611\u001b[0m \u001b[38;5;28;01mif\u001b[39;00m takeable:\n\u001b[1;32m   3612\u001b[0m     series \u001b[38;5;241m=\u001b[39m \u001b[38;5;28mself\u001b[39m\u001b[38;5;241m.\u001b[39m_ixs(col, axis\u001b[38;5;241m=\u001b[39m\u001b[38;5;241m1\u001b[39m)\n\u001b[0;32m-> 3613\u001b[0m     \u001b[38;5;28;01mreturn\u001b[39;00m \u001b[43mseries\u001b[49m\u001b[38;5;241;43m.\u001b[39;49m\u001b[43m_values\u001b[49m\u001b[43m[\u001b[49m\u001b[43mindex\u001b[49m\u001b[43m]\u001b[49m\n\u001b[1;32m   3615\u001b[0m series \u001b[38;5;241m=\u001b[39m \u001b[38;5;28mself\u001b[39m\u001b[38;5;241m.\u001b[39m_get_item_cache(col)\n\u001b[1;32m   3616\u001b[0m engine \u001b[38;5;241m=\u001b[39m \u001b[38;5;28mself\u001b[39m\u001b[38;5;241m.\u001b[39mindex\u001b[38;5;241m.\u001b[39m_engine\n",
      "\u001b[0;31mIndexError\u001b[0m: index -1 is out of bounds for axis 0 with size 0"
     ]
    }
   ],
   "source": [
    "plot_learning(data_unsucessful_df_cre_cre,38271148,5, 'titulo', creator = True)"
   ]
  },
  {
   "cell_type": "code",
   "execution_count": null,
   "id": "ee2f198e",
   "metadata": {},
   "outputs": [],
   "source": [
    "plot_learning(data_unsucessful_df_cre_use,38373120,5, 'titulo', creator = False)"
   ]
  },
  {
   "cell_type": "code",
   "execution_count": null,
   "id": "1d7f3585",
   "metadata": {},
   "outputs": [],
   "source": []
  },
  {
   "cell_type": "code",
   "execution_count": null,
   "id": "ca7e52e8",
   "metadata": {},
   "outputs": [],
   "source": []
  }
 ],
 "metadata": {
  "kernelspec": {
   "display_name": "Python 3 (ipykernel)",
   "language": "python",
   "name": "python3"
  },
  "language_info": {
   "codemirror_mode": {
    "name": "ipython",
    "version": 3
   },
   "file_extension": ".py",
   "mimetype": "text/x-python",
   "name": "python",
   "nbconvert_exporter": "python",
   "pygments_lexer": "ipython3",
   "version": "3.8.2"
  }
 },
 "nbformat": 4,
 "nbformat_minor": 5
}
