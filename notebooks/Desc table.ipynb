{
 "cells": [
  {
   "cell_type": "code",
   "execution_count": 1,
   "id": "fac2ab46",
   "metadata": {},
   "outputs": [],
   "source": [
    "import sys  \n",
    "sys.path.insert(0, '/Users/caiorego/Desktop/BDS/RA/Seeding-Bandits/')\n",
    "import numpy as np"
   ]
  },
  {
   "cell_type": "code",
   "execution_count": 2,
   "id": "4fa09494",
   "metadata": {},
   "outputs": [],
   "source": [
    "music_before = 30\n",
    "low_success = 0.25\n",
    "high_success = 0.75"
   ]
  },
  {
   "cell_type": "code",
   "execution_count": 3,
   "id": "4610eadd",
   "metadata": {},
   "outputs": [],
   "source": [
    "import src.utils\n",
    "from src.utils import import_dta, import_tracks_dta, successful_creators_followers,\\\n",
    "gen_active_relations, get_fan_interactions_per_week, calculate_avg_monthly_valence,\\\n",
    "gen_active_relations_prob, get_fan_interactions_per_week_prob, stripplot_prob,\\\n",
    "reaction_probability, follower_list, filter_quantile, sample_creators_music,\\\n",
    "gen_outbound_creators\n",
    "import datetime\n",
    "import pandas as pd\n",
    "import numpy as np\n",
    "import seaborn as sns\n",
    "import matplotlib.pyplot as plt\n",
    "from scipy.stats import mstats\n",
    "pd.plotting.register_matplotlib_converters()\n",
    "\n",
    "import src.probability_utils\n",
    "from src.probability_utils import volume_analysis, valence_analysis\n",
    "import math\n",
    "import matplotlib.ticker as plticker\n",
    "from scipy.interpolate import make_interp_spline, BSpline\n",
    "import seaborn as sns\n",
    "from datetime import datetime"
   ]
  },
  {
   "cell_type": "code",
   "execution_count": 4,
   "id": "af16a954",
   "metadata": {},
   "outputs": [],
   "source": [
    "path_dir = r\"/Users/../Volumes/Raw/\""
   ]
  },
  {
   "cell_type": "code",
   "execution_count": 5,
   "id": "04385e82",
   "metadata": {},
   "outputs": [
    {
     "name": "stdout",
     "output_type": "stream",
     "text": [
      "%%%%%%%%%% 12sample_tracks.dta %%%%%%%%%%\n",
      "(56262, 7)\n",
      "%%%%%%%%%% 12sample_affiliations_sent.dta %%%%%%%%%%\n",
      "(800913, 3)\n",
      "%%%%%%%%%% 12sample_comments_made.dta %%%%%%%%%%\n",
      "(29258, 4)\n",
      "%%%%%%%%%% 12sample_reposts_made.dta %%%%%%%%%%\n",
      "(179329, 4)\n",
      "%%%%%%%%%% 12sample_favoritings_made.dta %%%%%%%%%%\n",
      "(527701, 4)\n",
      "%%%%%%%%%% 12sample_messages_sent.dta %%%%%%%%%%\n",
      "(11091, 3)\n",
      "%%%%%%%%%% 12sample_user_infos.dta %%%%%%%%%%\n",
      "(35000, 3)\n",
      "%%%%%%%%%% 12sample_1st_deg_user_infos.dta %%%%%%%%%%\n",
      "(670746, 3)\n",
      "%%%%%%%%%% 12sample_affiliations_received.dta %%%%%%%%%%\n",
      "(432503, 3)\n",
      "%%%%%%%%%% 12sample_comments_received.dta %%%%%%%%%%\n",
      "(21386, 4)\n",
      "%%%%%%%%%% 12sample_reposts_received.dta %%%%%%%%%%\n",
      "(83013, 4)\n",
      "%%%%%%%%%% 12sample_favoritings_received.dta %%%%%%%%%%\n",
      "(286903, 4)\n",
      "%%%%%%%%%% 12sample_messages_received.dta %%%%%%%%%%\n",
      "(17364, 3)\n",
      "%%%%%%%%%% 12sample_affiliations.dta %%%%%%%%%%\n",
      "(1233416, 3)\n",
      "%%%%%%%%%% 12sample_comments.dta %%%%%%%%%%\n",
      "(50644, 4)\n",
      "%%%%%%%%%% 12sample_reposts.dta %%%%%%%%%%\n",
      "(262342, 4)\n",
      "%%%%%%%%%% 12sample_favoritings.dta %%%%%%%%%%\n",
      "(814604, 4)\n",
      "%%%%%%%%%% 12sample_messages.dta %%%%%%%%%%\n",
      "(28455, 3)\n",
      "2018-02-03 00:00:00\n",
      "2018-02-03 00:00:00\n",
      "High influencer boundary: 21.0\n",
      "Low influencer boundary: 1.0\n"
     ]
    }
   ],
   "source": [
    "#we will skip comments for now\n",
    "\n",
    "#affiliations :follows\n",
    "#favoritings :likes\n",
    "\n",
    "tracks = import_tracks_dta(path_dir, \"12sample_tracks.dta\");\n",
    "follows_sent = import_dta(path_dir, \"12sample_affiliations_sent.dta\");\n",
    "comments_sent = import_dta(path_dir, \"12sample_comments_made.dta\");\n",
    "shares_sent = import_dta(path_dir, \"12sample_reposts_made.dta\");\n",
    "likes_sent = import_dta(path_dir, \"12sample_favoritings_made.dta\");\n",
    "messages_sent = import_dta(path_dir, \"12sample_messages_sent.dta\");\n",
    "\n",
    "user_info = import_dta(path_dir, \"12sample_user_infos.dta\");\n",
    "user_info_2 = import_dta(path_dir, \"12sample_1st_deg_user_infos.dta\");\n",
    "user_info = pd.concat([user_info, user_info_2]);\n",
    "user_info.drop_duplicates(subset='user_id', keep='first', inplace=True, ignore_index=False);\n",
    "\n",
    "\n",
    "########\n",
    "follows_received = import_dta(path_dir, \"12sample_affiliations_received.dta\");\n",
    "comments_received = import_dta(path_dir, \"12sample_comments_received.dta\");\n",
    "shares_received = import_dta(path_dir, \"12sample_reposts_received.dta\");\n",
    "likes_received = import_dta(path_dir, \"12sample_favoritings_received.dta\");\n",
    "messages_received = import_dta(path_dir, \"12sample_messages_received.dta\");\n",
    "\n",
    "########\n",
    "follows = import_dta(path_dir, \"12sample_affiliations.dta\");\n",
    "comments = import_dta(path_dir, \"12sample_comments.dta\");\n",
    "shares = import_dta(path_dir, \"12sample_reposts.dta\");\n",
    "likes = import_dta(path_dir, \"12sample_favoritings.dta\");\n",
    "messages = import_dta(path_dir, \"12sample_messages.dta\");\n",
    "\n",
    "tracks_first_month = sample_creators_music(tracks, music_before)\n",
    "mask = tracks_first_month.track_available == 1\n",
    "tracks_first_month = tracks_first_month[mask]\n",
    "\n",
    "mask = follows_received.contact_id.isin(tracks_first_month.user_id)\n",
    "follows_received_30 = follows_received[mask]\n",
    "followers_per_creator_60 = successful_creators_followers(follows_received_30, 60, tracks_first_month)\n",
    "followers_per_creator_60_static = successful_creators_followers(follows_received_30, 60, tracks_first_month, always_same_batches = True, \n",
    "                                                        perc1 = low_success, perc2 = high_success)"
   ]
  },
  {
   "cell_type": "code",
   "execution_count": 6,
   "id": "c479c4ef",
   "metadata": {},
   "outputs": [
    {
     "data": {
      "text/plain": [
       "low     835\n",
       "high    679\n",
       "Name: high_low, dtype: int64"
      ]
     },
     "execution_count": 6,
     "metadata": {},
     "output_type": "execute_result"
    }
   ],
   "source": [
    "followers_per_creator_60_static.high_low.value_counts()"
   ]
  },
  {
   "cell_type": "code",
   "execution_count": 7,
   "id": "dfc4dae4",
   "metadata": {},
   "outputs": [
    {
     "data": {
      "text/html": [
       "<div>\n",
       "<style scoped>\n",
       "    .dataframe tbody tr th:only-of-type {\n",
       "        vertical-align: middle;\n",
       "    }\n",
       "\n",
       "    .dataframe tbody tr th {\n",
       "        vertical-align: top;\n",
       "    }\n",
       "\n",
       "    .dataframe thead th {\n",
       "        text-align: right;\n",
       "    }\n",
       "</style>\n",
       "<table border=\"1\" class=\"dataframe\">\n",
       "  <thead>\n",
       "    <tr style=\"text-align: right;\">\n",
       "      <th></th>\n",
       "      <th>avg_followers</th>\n",
       "    </tr>\n",
       "    <tr>\n",
       "      <th>high_low</th>\n",
       "      <th></th>\n",
       "    </tr>\n",
       "  </thead>\n",
       "  <tbody>\n",
       "    <tr>\n",
       "      <th>high</th>\n",
       "      <td>116.443299</td>\n",
       "    </tr>\n",
       "    <tr>\n",
       "      <th>low</th>\n",
       "      <td>0.279042</td>\n",
       "    </tr>\n",
       "  </tbody>\n",
       "</table>\n",
       "</div>"
      ],
      "text/plain": [
       "          avg_followers\n",
       "high_low               \n",
       "high         116.443299\n",
       "low            0.279042"
      ]
     },
     "execution_count": 7,
     "metadata": {},
     "output_type": "execute_result"
    }
   ],
   "source": [
    "followers_per_creator_60_static.groupby(\"high_low\").agg(avg_followers = ('followers', 'mean'))"
   ]
  },
  {
   "cell_type": "code",
   "execution_count": 8,
   "id": "95cafdbf",
   "metadata": {},
   "outputs": [
    {
     "data": {
      "text/html": [
       "<div>\n",
       "<style scoped>\n",
       "    .dataframe tbody tr th:only-of-type {\n",
       "        vertical-align: middle;\n",
       "    }\n",
       "\n",
       "    .dataframe tbody tr th {\n",
       "        vertical-align: top;\n",
       "    }\n",
       "\n",
       "    .dataframe thead th {\n",
       "        text-align: right;\n",
       "    }\n",
       "</style>\n",
       "<table border=\"1\" class=\"dataframe\">\n",
       "  <thead>\n",
       "    <tr style=\"text-align: right;\">\n",
       "      <th></th>\n",
       "      <th>avg_followers</th>\n",
       "    </tr>\n",
       "    <tr>\n",
       "      <th>high_low</th>\n",
       "      <th></th>\n",
       "    </tr>\n",
       "  </thead>\n",
       "  <tbody>\n",
       "    <tr>\n",
       "      <th>high</th>\n",
       "      <td>79065.0</td>\n",
       "    </tr>\n",
       "    <tr>\n",
       "      <th>low</th>\n",
       "      <td>233.0</td>\n",
       "    </tr>\n",
       "  </tbody>\n",
       "</table>\n",
       "</div>"
      ],
      "text/plain": [
       "          avg_followers\n",
       "high_low               \n",
       "high            79065.0\n",
       "low               233.0"
      ]
     },
     "execution_count": 8,
     "metadata": {},
     "output_type": "execute_result"
    }
   ],
   "source": [
    "followers_per_creator_60_static.groupby(\"high_low\").agg(avg_followers = ('followers', 'sum'))"
   ]
  },
  {
   "cell_type": "code",
   "execution_count": 9,
   "id": "5310beff",
   "metadata": {},
   "outputs": [
    {
     "data": {
      "text/html": [
       "<div>\n",
       "<style scoped>\n",
       "    .dataframe tbody tr th:only-of-type {\n",
       "        vertical-align: middle;\n",
       "    }\n",
       "\n",
       "    .dataframe tbody tr th {\n",
       "        vertical-align: top;\n",
       "    }\n",
       "\n",
       "    .dataframe thead th {\n",
       "        text-align: right;\n",
       "    }\n",
       "</style>\n",
       "<table border=\"1\" class=\"dataframe\">\n",
       "  <thead>\n",
       "    <tr style=\"text-align: right;\">\n",
       "      <th></th>\n",
       "      <th>followers</th>\n",
       "    </tr>\n",
       "  </thead>\n",
       "  <tbody>\n",
       "    <tr>\n",
       "      <th>avg_followers</th>\n",
       "      <td>33.238113</td>\n",
       "    </tr>\n",
       "  </tbody>\n",
       "</table>\n",
       "</div>"
      ],
      "text/plain": [
       "               followers\n",
       "avg_followers  33.238113"
      ]
     },
     "execution_count": 9,
     "metadata": {},
     "output_type": "execute_result"
    }
   ],
   "source": [
    "followers_per_creator_60.agg(avg_followers = ('followers', 'mean'))"
   ]
  },
  {
   "cell_type": "code",
   "execution_count": 10,
   "id": "bc6fa462",
   "metadata": {},
   "outputs": [
    {
     "data": {
      "text/html": [
       "<div>\n",
       "<style scoped>\n",
       "    .dataframe tbody tr th:only-of-type {\n",
       "        vertical-align: middle;\n",
       "    }\n",
       "\n",
       "    .dataframe tbody tr th {\n",
       "        vertical-align: top;\n",
       "    }\n",
       "\n",
       "    .dataframe thead th {\n",
       "        text-align: right;\n",
       "    }\n",
       "</style>\n",
       "<table border=\"1\" class=\"dataframe\">\n",
       "  <thead>\n",
       "    <tr style=\"text-align: right;\">\n",
       "      <th></th>\n",
       "      <th>followers</th>\n",
       "    </tr>\n",
       "  </thead>\n",
       "  <tbody>\n",
       "    <tr>\n",
       "      <th>avg_followers</th>\n",
       "      <td>88779.0</td>\n",
       "    </tr>\n",
       "  </tbody>\n",
       "</table>\n",
       "</div>"
      ],
      "text/plain": [
       "               followers\n",
       "avg_followers    88779.0"
      ]
     },
     "execution_count": 10,
     "metadata": {},
     "output_type": "execute_result"
    }
   ],
   "source": [
    "followers_per_creator_60.agg(avg_followers = ('followers', 'sum'))"
   ]
  },
  {
   "cell_type": "code",
   "execution_count": 11,
   "id": "430e0d7c",
   "metadata": {},
   "outputs": [
    {
     "ename": "NameError",
     "evalue": "name 'actions_sent' is not defined",
     "output_type": "error",
     "traceback": [
      "\u001b[0;31m---------------------------------------------------------------------------\u001b[0m",
      "\u001b[0;31mNameError\u001b[0m                                 Traceback (most recent call last)",
      "Input \u001b[0;32mIn [11]\u001b[0m, in \u001b[0;36m<cell line: 1>\u001b[0;34m()\u001b[0m\n\u001b[0;32m----> 1\u001b[0m actions_sent[\u001b[38;5;124m\"\u001b[39m\u001b[38;5;124mtype\u001b[39m\u001b[38;5;124m\"\u001b[39m] \u001b[38;5;241m=\u001b[39m \u001b[43mactions_sent\u001b[49m\u001b[38;5;241m.\u001b[39mtype\u001b[38;5;241m.\u001b[39mapply(\u001b[38;5;28;01mlambda\u001b[39;00m x: \u001b[38;5;124m\"\u001b[39m\u001b[38;5;124muser\u001b[39m\u001b[38;5;124m\"\u001b[39m \u001b[38;5;28;01mif\u001b[39;00m x \u001b[38;5;241m!=\u001b[39m \u001b[38;5;124m\"\u001b[39m\u001b[38;5;124mcreator\u001b[39m\u001b[38;5;124m\"\u001b[39m \u001b[38;5;28;01melse\u001b[39;00m x)\n",
      "\u001b[0;31mNameError\u001b[0m: name 'actions_sent' is not defined"
     ]
    }
   ],
   "source": [
    "actions_sent[\"type\"] = actions_sent.type.apply(lambda x: \"user\" if x != \"creator\" else x)"
   ]
  },
  {
   "cell_type": "code",
   "execution_count": null,
   "id": "6ce69aa8",
   "metadata": {},
   "outputs": [],
   "source": [
    "followers_per_creator_60_static.groupby(\"high_low\").user_id.nunique()"
   ]
  },
  {
   "cell_type": "code",
   "execution_count": null,
   "id": "26e3a6c8",
   "metadata": {},
   "outputs": [],
   "source": [
    "followers_per_creator_60_static.user_id.nunique()"
   ]
  },
  {
   "cell_type": "markdown",
   "id": "fc71b9dc",
   "metadata": {},
   "source": [
    "# All"
   ]
  },
  {
   "cell_type": "code",
   "execution_count": null,
   "id": "c9720f36",
   "metadata": {},
   "outputs": [],
   "source": [
    "actions_sent = gen_outbound_creators(follows_sent, shares_sent, likes_sent, comments_sent, tracks,\n",
    "                                     messages_sent = messages_sent, filter_creators = True)"
   ]
  },
  {
   "cell_type": "code",
   "execution_count": null,
   "id": "e5366b93",
   "metadata": {},
   "outputs": [],
   "source": [
    "mask = actions_sent.user_id.isin(tracks_first_month.user_id.unique())\n",
    "actions_sent = actions_sent[mask]"
   ]
  },
  {
   "cell_type": "code",
   "execution_count": null,
   "id": "284a71cf",
   "metadata": {},
   "outputs": [],
   "source": [
    "table_all = actions_sent.\\\n",
    "groupby([\"outbound_activity\"], as_index = False).agg(interactions = ('user_id','count'))\n",
    "\n",
    "\n",
    "table_all[\"unique_users\"] = 2671#actions_sent.user_id.nunique()\n",
    "\n",
    "table_all['avg_reaction'] = round(table_all.interactions/table_all.unique_users,2)"
   ]
  },
  {
   "cell_type": "code",
   "execution_count": null,
   "id": "dd27392d",
   "metadata": {},
   "outputs": [],
   "source": [
    "table_all"
   ]
  },
  {
   "cell_type": "code",
   "execution_count": null,
   "id": "c1113483",
   "metadata": {},
   "outputs": [],
   "source": [
    "actions_sent = actions_sent.merge(user_info, left_on = 'user_id', right_on = 'user_id')\n",
    "actions_sent = actions_sent.merge(user_info[['user_id', 'type']], left_on = 'fan_id', right_on = 'user_id', suffixes = [\"\", \"_fan\"], how = 'left')\n",
    "mask = actions_sent.type == 'creator'\n",
    "actions_sent =  actions_sent[mask]"
   ]
  },
  {
   "cell_type": "code",
   "execution_count": null,
   "id": "7ddf62dc",
   "metadata": {},
   "outputs": [],
   "source": [
    "table_all = actions_sent.\\\n",
    "groupby([\"high_low\",\"outbound_activity\"], as_index = False).agg(interactions = ('user_id','count'))\n",
    "\n",
    "tab = actions_sent.groupby('high_low', as_index = False).nunique()\n",
    "\n",
    "tab.loc[tab.type == 'user', 'user_id']\n",
    "\n",
    "table_all.loc[table_all.high_low == 'high','unique_users'] = 679#tab.loc[tab.high_low == 'high', 'user_id'][0]\n",
    "table_all.loc[table_all.high_low == 'low','unique_users'] = 835#tab.loc[tab.high_low == 'low', 'user_id'][1]\n",
    "\n",
    "\n",
    "table_all['avg_reaction'] = round(table_all.interactions/table_all.unique_users,2)"
   ]
  },
  {
   "cell_type": "code",
   "execution_count": null,
   "id": "a9c70293",
   "metadata": {},
   "outputs": [],
   "source": [
    "followers_per_creator_60_static.high_low.value_counts()"
   ]
  },
  {
   "cell_type": "code",
   "execution_count": null,
   "id": "9649ff0d",
   "metadata": {},
   "outputs": [],
   "source": [
    "table_all"
   ]
  },
  {
   "cell_type": "code",
   "execution_count": null,
   "id": "1ffa68bc",
   "metadata": {},
   "outputs": [],
   "source": [
    "table_all"
   ]
  },
  {
   "cell_type": "code",
   "execution_count": null,
   "id": "357d1654",
   "metadata": {},
   "outputs": [],
   "source": [
    "followers_per_creator_60_static.shape"
   ]
  },
  {
   "cell_type": "code",
   "execution_count": null,
   "id": "d01b0e06",
   "metadata": {},
   "outputs": [],
   "source": [
    "followers_per_creator_60.shape"
   ]
  },
  {
   "cell_type": "code",
   "execution_count": null,
   "id": "96910407",
   "metadata": {},
   "outputs": [],
   "source": [
    "tracks_first_month.user_id.nunique()"
   ]
  },
  {
   "cell_type": "code",
   "execution_count": null,
   "id": "3434df2e",
   "metadata": {},
   "outputs": [],
   "source": []
  },
  {
   "cell_type": "code",
   "execution_count": null,
   "id": "947a3875",
   "metadata": {},
   "outputs": [],
   "source": []
  }
 ],
 "metadata": {
  "kernelspec": {
   "display_name": "Python 3 (ipykernel)",
   "language": "python",
   "name": "python3"
  },
  "language_info": {
   "codemirror_mode": {
    "name": "ipython",
    "version": 3
   },
   "file_extension": ".py",
   "mimetype": "text/x-python",
   "name": "python",
   "nbconvert_exporter": "python",
   "pygments_lexer": "ipython3",
   "version": "3.8.2"
  }
 },
 "nbformat": 4,
 "nbformat_minor": 5
}
