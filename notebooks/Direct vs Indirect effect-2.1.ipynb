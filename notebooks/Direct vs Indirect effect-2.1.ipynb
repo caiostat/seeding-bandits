{
 "cells": [
  {
   "cell_type": "code",
   "execution_count": 1,
   "id": "8f459c63",
   "metadata": {},
   "outputs": [],
   "source": [
    "#Run parameters\n",
    "#used to control every run. Can be user to perfom sensitivity checks\n",
    "path_dir = r\"/Users/../Volumes/Raw/\"\n",
    "\n",
    "low_success = 0.5 #below the median: unsuccessful\n",
    "high_success = 0.9 #top 10% creators with more followers are deemed successful\n",
    "\n",
    "low_user_outdegree = 0.25 \n",
    "high_user_outdegree = 0.75\n",
    "low_user_activity = 0.25 \n",
    "high_user_activity = 0.75 \n",
    "\n",
    "activity_filter = 0\n",
    "days_delta = 7"
   ]
  },
  {
   "cell_type": "code",
   "execution_count": 2,
   "id": "37a758ab",
   "metadata": {},
   "outputs": [],
   "source": [
    "import sys  \n",
    "import pickle\n",
    "sys.path.insert(0, '/Users/caiorego/Desktop/BDS/RA/Seeding-Bandits/')\n",
    "import numpy as np\n",
    "import src.utils\n",
    "from collections import Counter\n",
    "from src.utils import import_dta, import_tracks_dta,\\\n",
    "gen_active_relations, get_fan_interactions_per_week, calculate_avg_monthly_valence,\\\n",
    "gen_active_relations_prob, get_fan_interactions_per_week_prob, stripplot_prob,\\\n",
    "reaction_probability, follower_list, filter_quantile, sample_creators_music,\\\n",
    "gen_outbound_creators\n",
    "import numpy as np\n",
    "import datetime\n",
    "import pandas as pd\n",
    "from tqdm import tqdm\n",
    "import dask.dataframe as dd\n",
    "import matplotlib.pyplot as plt\n",
    "import seaborn as sns\n",
    "import numpy\n",
    "import os\n",
    "from statsmodels.stats.proportion import proportions_ztest\n",
    "from datetime import datetime, timedelta\n"
   ]
  },
  {
   "cell_type": "code",
   "execution_count": 3,
   "id": "b2d1bd2b",
   "metadata": {},
   "outputs": [],
   "source": [
    "def process_date(date):\n",
    "    '''convert date format like '2013-w09' to '2013-03-04', i.e. the first day of that week'''\n",
    "    year = date[0:4]\n",
    "    week = date[6:]\n",
    "    day = \"1\"\n",
    "    date = \"{}-{}-1\".format(year, week)\n",
    "    dt = datetime.strptime(date, \"%Y-%W-%w\")\n",
    "    return dt"
   ]
  },
  {
   "cell_type": "markdown",
   "id": "d69f8fad",
   "metadata": {},
   "source": [
    "# Data Imports"
   ]
  },
  {
   "cell_type": "markdown",
   "id": "2605f798",
   "metadata": {},
   "source": [
    "We start by importing the raw data.  `follows_sent`, `comments_sent`, `shares_sent`, `likes_sent` and `messages_sent` contains data pn the promotional activities that the 35k users tracked in the dataset directed to other users. It includes the `user_id`, the `fan_id` and the `date_sent` which identifies the date when the prom. activity was sent. `users_info_1st` shows the type of user (creator or non-creator, which is identified by a blank) and the date the user entered the platform, for every user that sent or received prom. activities from any of the 35k users tracked in this dataset, while `users_info` contains the same information, but pertaining to the 35k users themselves.\n",
    "\n",
    "`follows_received` contains information on the follows received by the 35k users and will be used to generate the successful/unsuccessful groups of content creators."
   ]
  },
  {
   "cell_type": "code",
   "execution_count": 4,
   "id": "03f61585",
   "metadata": {},
   "outputs": [
    {
     "name": "stdout",
     "output_type": "stream",
     "text": [
      "%%%%%%%%%% 12sample_tracks.dta %%%%%%%%%%\n",
      "(56262, 7)\n",
      "%%%%%%%%%% 12sample_affiliations_sent.dta %%%%%%%%%%\n",
      "(800913, 3)\n",
      "%%%%%%%%%% 12sample_comments_made.dta %%%%%%%%%%\n",
      "(29258, 4)\n",
      "%%%%%%%%%% 12sample_reposts_made.dta %%%%%%%%%%\n",
      "(179329, 4)\n",
      "%%%%%%%%%% 12sample_favoritings_made.dta %%%%%%%%%%\n",
      "(527701, 4)\n",
      "%%%%%%%%%% 12sample_messages_sent.dta %%%%%%%%%%\n",
      "(11091, 3)\n",
      "%%%%%%%%%% 12sample_1st_deg_user_infos.dta %%%%%%%%%%\n",
      "(670746, 3)\n",
      "%%%%%%%%%% 12sample_user_infos.dta %%%%%%%%%%\n",
      "(35000, 3)\n",
      "%%%%%%%%%% 12sample_affiliations_received.dta %%%%%%%%%%\n",
      "(432503, 3)\n"
     ]
    }
   ],
   "source": [
    "#affiliations :follows\n",
    "#favoritings :likes\n",
    "\n",
    "#used in filtering:\n",
    "path_dir = r\"/Users/../Volumes/Raw/\"\n",
    "tracks = import_tracks_dta(path_dir, \"12sample_tracks.dta\");\n",
    "\n",
    "#these are the actions sent to \n",
    "follows_sent = import_dta(path_dir, \"12sample_affiliations_sent.dta\");\n",
    "comments_sent = import_dta(path_dir, \"12sample_comments_made.dta\");\n",
    "shares_sent = import_dta(path_dir, \"12sample_reposts_made.dta\");\n",
    "likes_sent = import_dta(path_dir, \"12sample_favoritings_made.dta\");\n",
    "messages_sent = import_dta(path_dir, \"12sample_messages_sent.dta\");\n",
    "\n",
    "#Used to track information on the 1st degree connections\n",
    "user_info_1st = import_dta(path_dir, \"12sample_1st_deg_user_infos.dta\");\n",
    "user_info_1st.columns = ['user_id', 'type', 'entered_platform'];\n",
    "user_info = import_dta(path_dir, \"12sample_user_infos.dta\");\n",
    "\n",
    "#Used to compute creator's success measure\n",
    "follows_received = import_dta(path_dir, \"12sample_affiliations_received.dta\");"
   ]
  },
  {
   "cell_type": "markdown",
   "id": "35300c65",
   "metadata": {},
   "source": [
    "Indegree and outdegree information.\n",
    "\n",
    "The function below import the outdegree dataset. Because the raw version of those dataset are too large to be processed in memory, we preprocessed them in a separate script."
   ]
  },
  {
   "cell_type": "code",
   "execution_count": 5,
   "id": "3cca037e",
   "metadata": {},
   "outputs": [],
   "source": [
    "# Aggregates preprocessed outdegree of 1st degree users\n",
    "def import_outdegree(path='/Users/caiorego/Desktop/BDS/RA/Seeding-Bandits/'):\n",
    "    d = {}\n",
    "    for i in range(6):\n",
    "       d[str(i)] = pd.read_pickle(os.path.join(path,'{}.pkl'.format(i))) \n",
    "       d[str(i)]['created_at'] =  pd.to_datetime(d[str(i)]['created_at'])\n",
    "       d[str(i)]['created_at'] = pd.to_datetime(d[str(i)]['created_at']).dt.floor('d')\n",
    "       d[str(i)] = d[str(i)].groupby(['sender_id', 'created_at'], as_index = False).size() \n",
    "    \n",
    "    data_outdegree = pd.concat([d['0'], d['1'], d['2'], d['3'], d['4'], d['5']])\n",
    "    #data_outdegree.set_index('created_at', inplace = True)\n",
    "    return data_outdegree"
   ]
  },
  {
   "cell_type": "code",
   "execution_count": null,
   "id": "2e03d6d0",
   "metadata": {},
   "outputs": [],
   "source": [
    "data_outdegree = import_outdegree()"
   ]
  },
  {
   "cell_type": "code",
   "execution_count": null,
   "id": "ed0a2e59",
   "metadata": {},
   "outputs": [],
   "source": [
    "#data_outdegree = data_outdegree.groupby(['sender_id','created_at'], as_index = False).size()"
   ]
  },
  {
   "cell_type": "markdown",
   "id": "eabb3d51",
   "metadata": {},
   "source": [
    "# Preprocessing"
   ]
  },
  {
   "cell_type": "markdown",
   "id": "a358956e",
   "metadata": {},
   "source": [
    "## Creator ids, successful and unsucessful creators"
   ]
  },
  {
   "cell_type": "markdown",
   "id": "fcb7bc74",
   "metadata": {},
   "source": [
    "Next, we define three lists of ids: one with the ids from the content creators, according to the `users_info` table, one with the ids of successful creators and the last one with the ids of the unsuccessful ones."
   ]
  },
  {
   "cell_type": "markdown",
   "id": "77715356",
   "metadata": {},
   "source": [
    "Let's start with a list of the id of creators. We also create a dataset with containing information on creators only."
   ]
  },
  {
   "cell_type": "code",
   "execution_count": null,
   "id": "dd634fc1",
   "metadata": {},
   "outputs": [],
   "source": [
    "mask = (tracks.track_available == 1) & (tracks.public == 't')\n",
    "creator_ids = tracks[mask].user_id.unique()\n",
    "\n",
    "creators = tracks[(tracks.track_available == 1) & (tracks.public == 't')]"
   ]
  },
  {
   "cell_type": "markdown",
   "id": "2b06476a",
   "metadata": {},
   "source": [
    "## Putting together a dataset with the promotional activities made by content creators."
   ]
  },
  {
   "cell_type": "markdown",
   "id": "9c9b8a09",
   "metadata": {},
   "source": [
    "The function `gen_actions_sent_df` creates a dataframe with all the promotional activities that content creators sent to users."
   ]
  },
  {
   "cell_type": "code",
   "execution_count": null,
   "id": "8fff0077",
   "metadata": {},
   "outputs": [],
   "source": [
    "def gen_actions_sent_df(follows_sent, shares_sent, likes_sent, comments_sent, messages_sent, creator_ids = creator_ids):\n",
    "    '''\n",
    "    Creates dataframe containing the actions that content creators send to users.\n",
    "        Attributes:\n",
    "                    follows_sent:  dataframe with the follows sent by the 35k users.\n",
    "                    shares_sent:   dataframe with the shares sent by the 35k users.\n",
    "                    likes_sent:    dataframe with the likes sent by the 35k users.\n",
    "                    comments_sent: dataframe with the comments sent by the 35k users.\n",
    "                    messages_sent: dataframe with the messages sent by the 35k users.\n",
    "                    creator_ids:   list with content creator ids. If not none, is used to\n",
    "                                   filter out activities from non creators.\n",
    "    '''\n",
    "    \n",
    "    follows_sent['outbound_activity'] = 'follow'\n",
    "    follows_sent.columns = ['user_id', 'fan_id', 'date_sent', 'outbound_activity']\n",
    "\n",
    "    if 'song_id' in shares_sent.columns:\n",
    "        shares_sent.drop(columns=[\"song_id\"])\n",
    "    shares_sent = shares_sent[['reposter_id', \"owner_id\", 'created_at']]\n",
    "    shares_sent['outbound_activity'] = 'share'\n",
    "    shares_sent.columns = ['user_id', 'fan_id', 'date_sent', 'outbound_activity']\n",
    "\n",
    "    if 'track_id' in likes_sent.columns:\n",
    "        likes_sent.drop(columns=[\"track_id\"], inplace=True)\n",
    "    likes_sent['outbound_activity'] = 'like'\n",
    "    likes_sent.columns = ['user_id', 'fan_id', 'date_sent', 'outbound_activity']\n",
    "\n",
    "    if 'track_id' in comments_sent.columns:\n",
    "        comments_sent.drop(columns=[\"track_id\"], inplace=True)\n",
    "    comments_sent['outbound_activity'] = 'comment'\n",
    "    comments_sent.columns = ['user_id', 'fan_id', 'date_sent', 'outbound_activity']\n",
    "\n",
    "    messages_sent[\"outbound_activity\"] = 'message'\n",
    "    messages_sent.columns = ['user_id', 'fan_id', 'date_sent', 'outbound_activity']\n",
    "    df = pd.concat([follows_sent, shares_sent, likes_sent, comments_sent, messages_sent])\n",
    "\n",
    "\n",
    "    if type(creator_ids) == numpy.ndarray:\n",
    "        df = df[df['user_id'].isin(creator_ids)]\n",
    "        \n",
    "    df['week_yr'] = df.date_sent.dt.strftime('%Y-w%U')\n",
    "    df = df.loc[df['user_id'] != df['fan_id'],:]\n",
    "\n",
    "    return df"
   ]
  },
  {
   "cell_type": "code",
   "execution_count": null,
   "id": "6c6b8f49",
   "metadata": {},
   "outputs": [],
   "source": [
    "actions_sent = gen_actions_sent_df(follows_sent, shares_sent, likes_sent, comments_sent,\n",
    "                                     messages_sent, creator_ids = None)\n",
    "actions_sent = actions_sent.loc[actions_sent.user_id.isin(creators.user_id.unique())]"
   ]
  },
  {
   "cell_type": "code",
   "execution_count": null,
   "id": "6462039a",
   "metadata": {},
   "outputs": [],
   "source": [
    "active_users_ids = actions_sent.groupby('user_id', as_index = False).size()\n",
    "mask = active_users_ids['size']>= activity_filter\n",
    "active_users_ids = active_users_ids[mask].user_id.unique()"
   ]
  },
  {
   "cell_type": "code",
   "execution_count": null,
   "id": "d58e13c0",
   "metadata": {},
   "outputs": [],
   "source": [
    "def successful_creators_followers(follows_received, base_date = datetime(2016, 5, 30, 0, 0), perc1 = None, perc2 = None, subset_creators = None):\n",
    "    '''Classifies content creators in successful or unsuccessfull\n",
    "        Arguments:\n",
    "                    follows_received: dataframe containing the follows received by content creators\n",
    "                    base date:        date, in datetime.datetime(YYYY, M, DD, H, M) format, in which the number \n",
    "                                      of followers per creator is calculated.\n",
    "                    perc1:            the threshold used to classify unsuccessful content creators. Creator having \n",
    "                                      total followers below the number dictated by this threshold, at the base date,\n",
    "                                      are classified as unsuccessful \n",
    "                    perc2:            the threshold used to classify successful content creators. Creator having \n",
    "                                      total followers above the number dictated by this threshold, at the base date,\n",
    "                                      are classified as successful\n",
    "                    subset_creators:  a pd.DataFrame containing the creators. If is it available, it will be used to \n",
    "                                      filter out non creators and to make sure creators with 0 followers are part of\n",
    "                                      the resulting dataset.\n",
    "        \n",
    "    '''\n",
    "    print(base_date)\n",
    "\n",
    "    if 'inbound_activity' not in follows_received.columns:\n",
    "        follows_received.columns = ['fan_id', 'user_id', 'date_sent']\n",
    "\n",
    "    mask = (follows_received['date_sent'] < base_date)\n",
    "\n",
    "    df = follows_received[mask].groupby('user_id', as_index=False).agg({'fan_id': pd.Series.nunique})\n",
    "    df.columns = ['user_id', 'followers']\n",
    "\n",
    "    \n",
    "    if type(subset_creators) == pd.DataFrame:\n",
    "        print('subsetting...')\n",
    "        df.set_index('user_id', inplace = True)\n",
    "        df = df.reindex(subset_creators.user_id.unique())\n",
    "        df.fillna(0, inplace = True)\n",
    "        df.reset_index(inplace = True)\n",
    "        df.columns = ['user_id', 'followers']\n",
    "        \n",
    "    mask = df.user_id.isin(active_users_ids)\n",
    "    df = df[mask]\n",
    "\n",
    "    low = np.quantile(df.followers, perc1)\n",
    "    high = np.quantile(df.followers, perc2)\n",
    "\n",
    "    print(\"High influencer boundary: {}\".format(high))\n",
    "    print(\"Low influencer boundary: {}\".format(low))\n",
    "\n",
    "    mask = (df[\"followers\"] <= low) | (df[\"followers\"] >= high)\n",
    "    \n",
    "    unsuccessful_creator_ids = df.loc[df[\"followers\"] <= low].user_id.unique()\n",
    "    successful_creator_ids = df.loc[df[\"followers\"] >= high].user_id.unique()\n",
    "\n",
    "    return unsuccessful_creator_ids, successful_creator_ids\n"
   ]
  },
  {
   "cell_type": "code",
   "execution_count": null,
   "id": "5ee655c2",
   "metadata": {},
   "outputs": [],
   "source": [
    "unsuccessful_ids, successful_ids = successful_creators_followers(follows_received, \n",
    "                                                        perc1 = low_success, perc2 = high_success, subset_creators = creators)\n"
   ]
  },
  {
   "cell_type": "code",
   "execution_count": null,
   "id": "bc85a0dc",
   "metadata": {},
   "outputs": [],
   "source": [
    "print(len(unsuccessful_ids))\n",
    "print(len(successful_ids))"
   ]
  },
  {
   "cell_type": "code",
   "execution_count": null,
   "id": "e8d8980c",
   "metadata": {},
   "outputs": [],
   "source": [
    "creators.user_id.nunique()"
   ]
  },
  {
   "cell_type": "markdown",
   "id": "0fe6f8c4",
   "metadata": {},
   "source": [
    "## Filter only actions that were sent to non-fans"
   ]
  },
  {
   "cell_type": "markdown",
   "id": "7a67b459",
   "metadata": {},
   "source": [
    "We merge the `actions_sent` dataset with a table containing the date each fan started following the creator."
   ]
  },
  {
   "cell_type": "code",
   "execution_count": null,
   "id": "b904f4bf",
   "metadata": {},
   "outputs": [],
   "source": [
    "follows_received.columns = ['fan_id', 'user_id', 'date_sent']\n",
    "followers = follows_received[[\"fan_id\", \"user_id\", \"date_sent\"]]\n",
    "followers.columns = [\"fan_id\", \"user_id\", \"follower_since\"]\n",
    "\n",
    "actions_sent = actions_sent.merge(followers, right_on = ['user_id', 'fan_id'],\n",
    "                                      left_on = ['user_id', 'fan_id'], how = 'left')"
   ]
  },
  {
   "cell_type": "markdown",
   "id": "973ebc19",
   "metadata": {},
   "source": [
    "Since we are interested in acquisition campaings, we need to produce a dataset that exclude actions targetting fans.\n",
    "We do that using filters based on the date of the action and the date that the user became a fan of the content creator. The resulting dataframe is named `actions_sent_non_fans`."
   ]
  },
  {
   "cell_type": "markdown",
   "id": "a0dbf162",
   "metadata": {},
   "source": [
    "We then filter only actions that happened before the user follows the content creator."
   ]
  },
  {
   "cell_type": "code",
   "execution_count": null,
   "id": "c957f00e",
   "metadata": {},
   "outputs": [],
   "source": [
    "mask = (actions_sent.date_sent < actions_sent.follower_since) | (actions_sent.follower_since.isnull())\n",
    "actions_sent_non_fans =  actions_sent[mask]\n",
    "actions_sent_non_fans['week_yr_date'] = actions_sent_non_fans.week_yr.apply(lambda x: process_date(x))"
   ]
  },
  {
   "cell_type": "code",
   "execution_count": null,
   "id": "bec0ad24",
   "metadata": {},
   "outputs": [],
   "source": [
    "path_dir_2 = r'/Users/../Volumes/Alter_outbound_activities/'\n",
    "\n",
    "comments_received_c = import_dta(path_dir_2, \"12sample_1st_deg_comments_made.dta\");\n",
    "shares_received_c = import_dta(path_dir_2, \"12sample_1st_deg_reposts_made.dta\");\n",
    "likes_received_c = import_dta(path_dir_2, \"12sample_1st_deg_favoritings_made.dta\");\n",
    "messages_received_c = import_dta(path_dir_2, \"12sample_1st_deg_messages_sent.dta\");"
   ]
  },
  {
   "cell_type": "code",
   "execution_count": null,
   "id": "1ec99f6a",
   "metadata": {},
   "outputs": [],
   "source": [
    "if 'song_id' in shares_received_c:\n",
    "        shares_received_c.drop(columns=[\"song_id\"])\n",
    "shares_received_c = shares_received_c[['reposter_id', \"owner_id\", 'created_at']]\n",
    "shares_received_c['inbound_activity'] = 'share'\n",
    "shares_received_c.columns = ['fan_id', 'user_id', 'date_sent', 'inbound_activity']\n",
    "\n",
    "if 'track_id' in likes_received_c:\n",
    "        likes_received_c = likes_received_c.drop(columns=[\"track_id\"])\n",
    "likes_received_c['inbound_activity'] = 'like'\n",
    "likes_received_c.columns = ['fan_id', 'user_id', 'date_sent', 'inbound_activity']\n",
    "\n",
    "if 'track_id' in comments_received_c:\n",
    "        comments_received_c = comments_received_c.drop(columns=[\"track_id\"])\n",
    "comments_received_c['inbound_activity'] = 'comment'\n",
    "comments_received_c.columns_c = ['fan_id', 'user_id', 'date_sent', 'inbound_activity']\n",
    "\n",
    "messages_received_c[\"outbound_activity\"] = 'message'\n",
    "messages_received_c.columns = ['user_id', 'fan_id', 'date_sent', 'inbound_activity']"
   ]
  },
  {
   "cell_type": "code",
   "execution_count": null,
   "id": "c28ce54c",
   "metadata": {},
   "outputs": [],
   "source": [
    "user_activity_data_c = pd.concat([shares_received_c, likes_received_c, comments_received_c, messages_received_c])"
   ]
  },
  {
   "cell_type": "markdown",
   "id": "cf24ca28",
   "metadata": {},
   "source": [
    "# Priori response probabilities"
   ]
  },
  {
   "cell_type": "code",
   "execution_count": null,
   "id": "1e27c70a",
   "metadata": {},
   "outputs": [],
   "source": [
    "table_data = pd.read_csv('user_types_ids.csv')\n",
    "\n",
    "hermit_ids = table_data.loc[table_data.Type =='Hermit'].user_id.unique()\n",
    "w_a_ids = table_data.loc[table_data.Type =='w_a'].user_id.unique()\n",
    "f_a_ids = table_data.loc[table_data.Type =='f_a'].user_id.unique()\n",
    "observer_ids = table_data.loc[table_data.Type =='Observer'].user_id.unique()"
   ]
  },
  {
   "cell_type": "code",
   "execution_count": null,
   "id": "e4b55f7b",
   "metadata": {},
   "outputs": [],
   "source": [
    "follow_follower_lists = pd.read_pickle('/Users/caiorego/Desktop/BDS/RA/Seeding-Bandits/Data/alter_follower_lists_3.pkl')\n",
    "\n",
    "def compute_indirect_return_v3(follower_lists, follows_received_df, indirect_return_df): \n",
    "    \n",
    "    follows_received_df['date_sent'] = follows_received_df['date_sent'].dt.normalize()\n",
    "    follows_received_df = follows_received_df.loc[(follows_received_df.user_id.isin(creator_ids))]\n",
    "    follows_received_df = follows_received_df.loc[follows_received_df.fan_id.isin(follower_lists.index.unique())]\n",
    "    \n",
    "    for user_id in tqdm(follows_received_df.user_id.unique()):\n",
    "        df_j = follows_received_df.loc[follows_received_df.user_id == user_id]\n",
    "        \n",
    "        for fan_id in follows_received_df.loc[follows_received_df.user_id == user_id].fan_id.unique():\n",
    "            \n",
    "            fan_followers = follower_lists.loc[follower_lists.index == fan_id].values[0]\n",
    "            \n",
    "            start_date = df_j.loc[(df_j.user_id == user_id)&\n",
    "                                              (df_j.fan_id == fan_id)].date_sent.iloc[0]\n",
    "            end_date = datetime(2015, 7, 30)\n",
    "    \n",
    "            creator_followers_from_t = df_j.loc[df_j.date_sent >= start_date]\\\n",
    "                                       .groupby('user_id', as_index = False)['fan_id'].apply(np.array)[0]\n",
    "                \n",
    "            indirect_return_df.loc[(indirect_return_df['user_id'] == user_id)\n",
    "                                   & (indirect_return_df['fan_id'] == fan_id), 'Follower_prop'] =\\\n",
    "            sum(np.in1d(creator_followers_from_t, fan_followers))/len(fan_followers)"
   ]
  },
  {
   "cell_type": "code",
   "execution_count": null,
   "id": "42f31ffd",
   "metadata": {
    "scrolled": false
   },
   "outputs": [],
   "source": [
    "indirect_return_df = follows_received.loc[(follows_received.user_id.isin(creator_ids))&\n",
    "                                          (follows_received.fan_id.isin(follow_follower_lists.index.unique()))\n",
    "                                          ,['user_id', 'fan_id']].drop_duplicates(subset=['user_id', 'fan_id'])\n",
    "\n",
    "teste = compute_indirect_return_v3(follow_follower_lists, follows_received, indirect_return_df)"
   ]
  },
  {
   "cell_type": "code",
   "execution_count": null,
   "id": "d7ee2b6c",
   "metadata": {},
   "outputs": [],
   "source": [
    "indirect_return_df\n",
    "\n",
    "indirect_return_df['user_type'] = indirect_return_df.fan_id.apply(lambda x: 'f_a' if x in f_a_ids else \n",
    "                          ('Hermit' if x in hermit_ids else\n",
    "                          ('Observer' if x in observer_ids else\n",
    "                          ('w_a' if x in w_a_ids else 'other'))))\n",
    "\n",
    "## classify content creators\n",
    "indirect_return_df['creator_type'] = indirect_return_df.user_id.apply(\n",
    "                               lambda x: 'successful' if x in successful_ids else \n",
    "                               ('unsuccessful' if x in unsuccessful_ids else 'other'))"
   ]
  },
  {
   "cell_type": "code",
   "execution_count": null,
   "id": "269baed5",
   "metadata": {},
   "outputs": [],
   "source": [
    "#indirect_return_df.to_csv('/Users/caiorego/Desktop/BDS/RA/Seeding-Bandits/Data/all_creators_follower_prop_indegree.csv')"
   ]
  },
  {
   "cell_type": "code",
   "execution_count": null,
   "id": "6d3bee6d",
   "metadata": {},
   "outputs": [],
   "source": [
    "indirect_return_df.groupby(['user_type'#, 'creator_type'\n",
    "                           ]).agg({'Follower_prop': ['mean', 'std']})"
   ]
  },
  {
   "cell_type": "code",
   "execution_count": null,
   "id": "3f79870f",
   "metadata": {},
   "outputs": [],
   "source": [
    "indirect_return_df.groupby('user_type').size()"
   ]
  },
  {
   "cell_type": "code",
   "execution_count": null,
   "id": "a894beb2",
   "metadata": {},
   "outputs": [],
   "source": [
    "comments_received_35k = import_dta(path_dir, \"12sample_comments_received.dta\");\n",
    "shares_received_35k = import_dta(path_dir, \"12sample_reposts_received.dta\");\n",
    "likes_received_35k = import_dta(path_dir, \"12sample_favoritings_received.dta\");\n",
    "messages_received_35k = import_dta(path_dir, \"12sample_messages_received.dta\");\n",
    "\n",
    "if 'song_id' in shares_received_35k:\n",
    "        shares_received_35k.drop(columns=[\"song_id\"])\n",
    "shares_received_35k = shares_received_35k[['reposter_id', \"owner_id\", 'created_at']]\n",
    "shares_received_35k['outbound_activity'] = 'share'\n",
    "shares_received_35k.columns = ['fan_id', 'user_id', 'date_sent', 'outbound_activity']\n",
    "\n",
    "if 'track_id' in likes_received_35k:\n",
    "        likes_received_35k = likes_received_35k.drop(columns=[\"track_id\"])\n",
    "likes_received_35k['outbound_activity'] = 'like'\n",
    "likes_received_35k.columns = ['fan_id', 'user_id', 'date_sent', 'outbound_activity']\n",
    "\n",
    "if 'track_id' in comments_received_35k:\n",
    "        comments_received_35k = comments_received_35k.drop(columns=[\"track_id\"])\n",
    "comments_received_35k['outbound_activity'] = 'comment'\n",
    "comments_received_35k.columns = ['fan_id', 'user_id', 'date_sent', 'outbound_activity']\n",
    "\n",
    "messages_received_35k[\"outbound_activity\"] = 'message'\n",
    "messages_received_35k.columns = ['user_id', 'fan_id', 'date_sent', 'outbound_activity']\n",
    "\n",
    "user_activity_data_35k = pd.concat([shares_received_35k, likes_received_35k, comments_received_35k, messages_received_35k])\n",
    "\n",
    "user_activity_data_35k['day_yr_date'] = user_activity_data_35k.date_sent.dt.normalize()"
   ]
  },
  {
   "cell_type": "code",
   "execution_count": null,
   "id": "6881d623",
   "metadata": {},
   "outputs": [],
   "source": [
    "shares = user_activity_data_35k.loc[user_activity_data_35k.outbound_activity == 'share']"
   ]
  },
  {
   "cell_type": "code",
   "execution_count": null,
   "id": "8e7d317c",
   "metadata": {},
   "outputs": [],
   "source": [
    "follows_received.columns = ['fan_id', 'user_id', 'follower_since']"
   ]
  },
  {
   "cell_type": "code",
   "execution_count": null,
   "id": "d8906591",
   "metadata": {},
   "outputs": [],
   "source": [
    "shares_df = shares.merge(follows_received, on = ['user_id', 'fan_id'], how = 'left')\n",
    "shares_df = shares_df.loc[shares_df.follower_since.isna() == False]\n",
    "\n",
    "shares_df.sort_values('date_sent', inplace = True)\n",
    "shares_df.drop_duplicates(subset=['user_id', 'fan_id'], keep='first', inplace = True)"
   ]
  },
  {
   "cell_type": "code",
   "execution_count": null,
   "id": "a6487ddc",
   "metadata": {},
   "outputs": [],
   "source": [
    "follow_follower_lists = pd.read_pickle('/Users/caiorego/Desktop/BDS/RA/Seeding-Bandits/Data/alter_follower_lists_3.pkl')\n",
    "\n",
    "def compute_indirect_return_v4(follower_lists, follows_received, shares_follow_df, indirect_return_df): \n",
    "    \n",
    "    shares_follow_df['date_sent'] = shares_follow_df['date_sent'].dt.normalize()\n",
    "    shares_follow_df = shares_follow_df.loc[shares_follow_df.user_id.isin(creator_ids)]\n",
    "    shares_follow_df = shares_follow_df.loc[shares_follow_df.fan_id.isin(follower_lists.index.unique())]\n",
    "\n",
    "    follows_received = follows_received.loc[follows_received.user_id.isin(creator_ids)]\n",
    "    follows_received = follows_received.loc[follows_received.fan_id.isin(follower_lists.index.unique())]\n",
    "    follows_received['follower_since'] = follows_received['follower_since'].dt.normalize()\n",
    "    \n",
    "    for user_id in tqdm(shares_follow_df.user_id.unique()):\n",
    "        df_j = shares_follow_df.loc[shares_follow_df.user_id == user_id]\n",
    "        \n",
    "        for fan_id in shares_follow_df.loc[shares_follow_df.user_id == user_id].fan_id.unique():\n",
    "            \n",
    "            fan_followers = follower_lists.loc[follower_lists.index == fan_id].values[0]\n",
    "            \n",
    "            start_date = df_j.loc[(df_j.user_id == user_id)&\n",
    "                                              (df_j.fan_id == fan_id)].date_sent.iloc[0]\n",
    "            end_date = datetime(2015, 7, 30)\n",
    "            \n",
    "            if follows_received.loc[(follows_received.user_id == user_id) &\\\n",
    "                (follows_received.follower_since >= start_date)].shape[0] == 0:\n",
    "                pass\n",
    "            else:\n",
    "                creator_followers_from_t = follows_received.loc[(follows_received.user_id == user_id) &\\\n",
    "                                     (follows_received.follower_since >= start_date)]\\\n",
    "                                       .groupby('user_id', as_index = False)['fan_id'].apply(np.array)[0]\n",
    "                \n",
    "                indirect_return_df.loc[(indirect_return_df['user_id'] == user_id)\\\n",
    "                                   & (indirect_return_df['fan_id'] == fan_id), 'Follower_prop'] =\\\n",
    "            sum(np.in1d(creator_followers_from_t, fan_followers))/len(fan_followers)\n",
    "                \n",
    "                #indirect_return_df.loc[(indirect_return_df['user_id'] == user_id)\n",
    "                 #                  & (indirect_return_df['fan_id'] == fan_id), 'Focal_follower_fb'] =\\\n",
    "                #len(fan_followers)"
   ]
  },
  {
   "cell_type": "code",
   "execution_count": null,
   "id": "39173118",
   "metadata": {},
   "outputs": [],
   "source": [
    "indirect_return_df2 = shares_df.loc[(shares_df.user_id.isin(creator_ids))&\n",
    "                                          (shares_df.fan_id.isin(follow_follower_lists.index.unique()))\n",
    "                                          ,['user_id', 'fan_id']].drop_duplicates(subset=['user_id', 'fan_id'])\n",
    "\n",
    "compute_indirect_return_v4(follow_follower_lists, follows_received, shares_df, indirect_return_df2)"
   ]
  },
  {
   "cell_type": "code",
   "execution_count": null,
   "id": "396a4ac5",
   "metadata": {},
   "outputs": [],
   "source": [
    "indirect_return_df2['user_type'] = indirect_return_df2.fan_id.apply(lambda x: 'f_a' if x in f_a_ids else \n",
    "                          ('Hermit' if x in hermit_ids else\n",
    "                          ('Observer' if x in observer_ids else\n",
    "                          ('w_a' if x in w_a_ids else 'other'))))\n",
    "\n",
    "## classify content creators\n",
    "indirect_return_df2['creator_type'] = indirect_return_df2.user_id.apply(\n",
    "                               lambda x: 'successful' if x in successful_ids else \n",
    "                               ('unsuccessful' if x in unsuccessful_ids else 'other'))"
   ]
  },
  {
   "cell_type": "code",
   "execution_count": null,
   "id": "eb442a9d",
   "metadata": {},
   "outputs": [],
   "source": [
    "#indirect_return_df2.to_csv('/Users/caiorego/Desktop/BDS/RA/Seeding-Bandits/Data/after_repost_follower_prop_all_creators_indegree.csv')\n"
   ]
  },
  {
   "cell_type": "code",
   "execution_count": null,
   "id": "3cfc79ba",
   "metadata": {},
   "outputs": [],
   "source": [
    "#p(follower of focal following creator given a repost by focal)\n",
    "analysis_data = pd.read_csv('indegree_level.csv', index_col = 0)\n",
    "analysis_data.columns = ['fan_id', 'followers', 'outdegree_level', 'activities_performed',\n",
    "       'activity_level', 'Type', 'contact_id', 'indegree', 'indegree_level']\n",
    "\n",
    "indirect_return_df2.groupby(['user_type'\n",
    "                             #, 'creator_type'\n",
    "                            ], as_index = False).agg({'Follower_prop': ['mean', 'median', 'std']})\n",
    "#it matches the excel"
   ]
  },
  {
   "cell_type": "markdown",
   "id": "3c965ad3",
   "metadata": {},
   "source": [
    "What is the difference between v3 and v4?\n",
    "v3 uses follows, v4 uses shares!"
   ]
  },
  {
   "cell_type": "code",
   "execution_count": null,
   "id": "ff34af9a",
   "metadata": {},
   "outputs": [],
   "source": [
    "analysis_data = pd.read_csv('indegree_level.csv', index_col = 0)\n",
    "analysis_data.columns = ['fan_id', 'followers', 'outdegree_level', 'activities_performed',\n",
    "       'activity_level', 'Type', 'contact_id', 'indegree', 'indegree_level']\n",
    "indirect_return_df2_indegree = indirect_return_df2.merge(analysis_data, on = 'fan_id', how = 'left')"
   ]
  },
  {
   "cell_type": "code",
   "execution_count": null,
   "id": "cc7a1f77",
   "metadata": {},
   "outputs": [],
   "source": [
    "indirect_return_indegree_df = indirect_return_df2_indegree.groupby(['user_type'\n",
    "                             #, 'indegree_level'\n",
    "                            ], as_index = False).agg({'Follower_prop': ['mean', 'median', 'std']})"
   ]
  },
  {
   "cell_type": "code",
   "execution_count": null,
   "id": "ea801df1",
   "metadata": {},
   "outputs": [],
   "source": [
    "df = indirect_return_indegree_df\n",
    "\n",
    "pivoted_df = round(df.pivot(index='user_type', columns= 'indegree_level', values=[( 'Follower_prop',   'mean')]),3)\n",
    "\n",
    "# Display the pivoted DataFrame\n",
    "pivoted_df.T"
   ]
  },
  {
   "cell_type": "code",
   "execution_count": null,
   "id": "ad750354",
   "metadata": {},
   "outputs": [],
   "source": [
    "indirect_return_df2_indegree = indirect_return_df2_indegree.groupby(['user_type'\n",
    "                             #, 'indegree_level'\n",
    "                            ], as_index = False).agg({'Follower_prop': ['mean']})"
   ]
  },
  {
   "cell_type": "code",
   "execution_count": null,
   "id": "ef3909b2",
   "metadata": {},
   "outputs": [],
   "source": [
    "df = indirect_return_df2_indegree\n",
    "\n",
    "pivoted_df = round(df.pivot(index='user_type', columns= 'indegree_level', values=[( 'Follower_prop',   'mean')]),3)\n",
    "\n",
    "# Display the pivoted DataFrame\n",
    "pivoted_df.T"
   ]
  },
  {
   "cell_type": "code",
   "execution_count": null,
   "id": "d7a9af97",
   "metadata": {},
   "outputs": [],
   "source": [
    "indirect_return_df2_indegree.loc[(indirect_return_df2_indegree.user_type == 'f_a') &(indirect_return_df2_indegree.indegree_level == 'high')]"
   ]
  },
  {
   "cell_type": "code",
   "execution_count": null,
   "id": "efe04d74",
   "metadata": {},
   "outputs": [],
   "source": []
  },
  {
   "cell_type": "code",
   "execution_count": null,
   "id": "5cb1d677",
   "metadata": {},
   "outputs": [],
   "source": []
  }
 ],
 "metadata": {
  "kernelspec": {
   "display_name": "Python 3 (ipykernel)",
   "language": "python",
   "name": "python3"
  },
  "language_info": {
   "codemirror_mode": {
    "name": "ipython",
    "version": 3
   },
   "file_extension": ".py",
   "mimetype": "text/x-python",
   "name": "python",
   "nbconvert_exporter": "python",
   "pygments_lexer": "ipython3",
   "version": "3.8.2"
  }
 },
 "nbformat": 4,
 "nbformat_minor": 5
}
