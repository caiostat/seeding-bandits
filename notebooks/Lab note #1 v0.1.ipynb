{
 "cells": [
  {
   "cell_type": "markdown",
   "id": "7de64a06",
   "metadata": {},
   "source": [
    "**This notebook is the executable version of lab note 1 (note: the overleaf file is momentarely outdated).\n",
    "It answers the following questions:**\n",
    "\n",
    "    1. Is there statistical difference on the activity level of hardcore and lazy users?\n",
    "    2. Is there statistical difference on the activity level of addicted and shallow users?\n",
    "    3. Descriptive statistics of the four groups.\n",
    "    4.a. Are hardcore and addicted users more connected to successful creators than lazy and shallow?\n",
    "    4.b. Are hardcore and addicted users more connected to successful creators than to unsuccessful creators?"
   ]
  },
  {
   "cell_type": "code",
   "execution_count": 1,
   "id": "8f459c63",
   "metadata": {},
   "outputs": [],
   "source": [
    "#Run parameters\n",
    "path_dir = r\"/Users/../Volumes/Raw/\"\n",
    "\n",
    "low_success = 0.5 #below the median: unsuccessful\n",
    "high_success = 0.9 #top 10% creators with more followers are deemed successful"
   ]
  },
  {
   "cell_type": "code",
   "execution_count": 2,
   "id": "37a758ab",
   "metadata": {},
   "outputs": [],
   "source": [
    "import sys  \n",
    "import pickle\n",
    "sys.path.insert(0, '/Users/caiorego/Desktop/BDS/RA/Seeding-Bandits/')\n",
    "import numpy as np\n",
    "import src.utils\n",
    "from collections import Counter\n",
    "from src.utils import import_dta, import_tracks_dta, successful_creators_followers,\\\n",
    "gen_active_relations, get_fan_interactions_per_week, calculate_avg_monthly_valence,\\\n",
    "gen_active_relations_prob, get_fan_interactions_per_week_prob, stripplot_prob,\\\n",
    "reaction_probability, follower_list, filter_quantile, sample_creators_music,\\\n",
    "gen_outbound_creators\n",
    "import numpy as np\n",
    "import datetime\n",
    "import pandas as pd\n",
    "from tqdm import tqdm\n",
    "import dask.dataframe as dd\n",
    "import matplotlib.pyplot as plt\n",
    "import seaborn as sns\n",
    "import numpy\n",
    "import os\n",
    "from statsmodels.stats.proportion import proportions_ztest"
   ]
  },
  {
   "cell_type": "code",
   "execution_count": 3,
   "id": "b2d1bd2b",
   "metadata": {},
   "outputs": [],
   "source": [
    "def process_date(date):\n",
    "    '''convert date format like '2013-w09' to '2013-03-04', i.e. the first day of that week'''\n",
    "    year = date[0:4]\n",
    "    week = date[6:]\n",
    "    day = \"1\"\n",
    "    date = \"{}-{}-1\".format(year, week)\n",
    "    dt = datetime.datetime.strptime(date, \"%Y-%W-%w\")\n",
    "    return dt"
   ]
  },
  {
   "cell_type": "markdown",
   "id": "d69f8fad",
   "metadata": {},
   "source": [
    "# Data Imports"
   ]
  },
  {
   "cell_type": "markdown",
   "id": "2605f798",
   "metadata": {},
   "source": [
    "We start by importing the raw data.  `follows_sent`, `comments_sent`, `shares_sent`, `likes_sent` and `messages_sent` contains data pn the promotional activities that the 35k users tracked in the dataset directed to other users. It includes the `user_id`, the `fan_id` and the `date_sent` which identifies the date when the prom. activity was sent. `users_info_1st` shows the type of user (creator or non-creator, which is identified by a blank) and the date the user entered the platform, for every user that sent or received prom. activities from any of the 35k users tracked in this dataset, while `users_info` contains the same information, but pertaining to the 35k users themselves.\n",
    "\n",
    "`follows_received` contains information on the follows received by the 35k users and will be used to generate the successful/unsuccessful groups of content creators."
   ]
  },
  {
   "cell_type": "code",
   "execution_count": 4,
   "id": "03f61585",
   "metadata": {},
   "outputs": [
    {
     "name": "stdout",
     "output_type": "stream",
     "text": [
      "%%%%%%%%%% 12sample_tracks.dta %%%%%%%%%%\n",
      "(56262, 7)\n",
      "%%%%%%%%%% 12sample_affiliations_sent.dta %%%%%%%%%%\n",
      "(800913, 3)\n",
      "%%%%%%%%%% 12sample_comments_made.dta %%%%%%%%%%\n",
      "(29258, 4)\n",
      "%%%%%%%%%% 12sample_reposts_made.dta %%%%%%%%%%\n",
      "(179329, 4)\n",
      "%%%%%%%%%% 12sample_favoritings_made.dta %%%%%%%%%%\n",
      "(527701, 4)\n",
      "%%%%%%%%%% 12sample_messages_sent.dta %%%%%%%%%%\n",
      "(11091, 3)\n",
      "%%%%%%%%%% 12sample_1st_deg_user_infos.dta %%%%%%%%%%\n",
      "(670746, 3)\n",
      "%%%%%%%%%% 12sample_user_infos.dta %%%%%%%%%%\n",
      "(35000, 3)\n",
      "%%%%%%%%%% 12sample_affiliations_received.dta %%%%%%%%%%\n",
      "(432503, 3)\n"
     ]
    }
   ],
   "source": [
    "#affiliations :follows\n",
    "#favoritings :likes\n",
    "\n",
    "#used in filtering:\n",
    "path_dir = r\"/Users/../Volumes/Raw/\"\n",
    "tracks = import_tracks_dta(path_dir, \"12sample_tracks.dta\");\n",
    "\n",
    "#these are the actions sent to \n",
    "follows_sent = import_dta(path_dir, \"12sample_affiliations_sent.dta\");\n",
    "comments_sent = import_dta(path_dir, \"12sample_comments_made.dta\");\n",
    "shares_sent = import_dta(path_dir, \"12sample_reposts_made.dta\");\n",
    "likes_sent = import_dta(path_dir, \"12sample_favoritings_made.dta\");\n",
    "messages_sent = import_dta(path_dir, \"12sample_messages_sent.dta\");\n",
    "\n",
    "#Used to track information on the 1st degree connections\n",
    "user_info_1st = import_dta(path_dir, \"12sample_1st_deg_user_infos.dta\");\n",
    "user_info_1st.columns = ['user_id', 'type', 'entered_platform'];\n",
    "user_info = import_dta(path_dir, \"12sample_user_infos.dta\");\n",
    "\n",
    "#Used to compute creator's success measure\n",
    "follows_received = import_dta(path_dir, \"12sample_affiliations_received.dta\");"
   ]
  },
  {
   "cell_type": "code",
   "execution_count": 5,
   "id": "4c00988f",
   "metadata": {},
   "outputs": [],
   "source": [
    "mask = user_info.type == 'creator'\n",
    "creator_ids = user_info[mask].user_id.unique()\n",
    "\n",
    "creators = user_info[user_info.type == 'creator']"
   ]
  },
  {
   "cell_type": "markdown",
   "id": "35300c65",
   "metadata": {},
   "source": [
    "Indegree and outdegree information.\n",
    "\n",
    "The function below import the outdegree dataset. Because the raw version of those dataset are too large to be processed in memory, we preprocessed them in a separate script."
   ]
  },
  {
   "cell_type": "code",
   "execution_count": 6,
   "id": "3cca037e",
   "metadata": {},
   "outputs": [],
   "source": [
    "# Aggregates preprocessed outdegree of 1st degree users\n",
    "def import_outdegree(path='/Users/caiorego/Desktop/BDS/RA/Seeding-Bandits/'):\n",
    "    d = {}\n",
    "    for i in range(6):\n",
    "       d[str(i)] = pd.read_pickle(os.path.join(path,'{}.pkl'.format(i))) \n",
    "       d[str(i)]['created_at'] =  pd.to_datetime(d[str(i)]['created_at'])\n",
    "       d[str(i)]['created_at'] = pd.to_datetime(d[str(i)]['created_at']).dt.floor('d')\n",
    "       d[str(i)] = d[str(i)].groupby(['sender_id', 'created_at'], as_index = False).size() \n",
    "    \n",
    "    data_outdegree = pd.concat([d['0'], d['1'], d['2'], d['3'], d['4'], d['5']])\n",
    "    #data_outdegree.set_index('created_at', inplace = True)\n",
    "    return data_outdegree"
   ]
  },
  {
   "cell_type": "code",
   "execution_count": 7,
   "id": "2e03d6d0",
   "metadata": {},
   "outputs": [],
   "source": [
    "data_outdegree = import_outdegree()"
   ]
  },
  {
   "cell_type": "code",
   "execution_count": 8,
   "id": "ed0a2e59",
   "metadata": {},
   "outputs": [],
   "source": [
    "#data_outdegree = data_outdegree.groupby(['sender_id','created_at'], as_index = False).size()"
   ]
  },
  {
   "cell_type": "markdown",
   "id": "eabb3d51",
   "metadata": {},
   "source": [
    "# Preprocessing"
   ]
  },
  {
   "cell_type": "markdown",
   "id": "a358956e",
   "metadata": {},
   "source": [
    "## Creator ids, successful and unsucessful creators"
   ]
  },
  {
   "cell_type": "markdown",
   "id": "fcb7bc74",
   "metadata": {},
   "source": [
    "Next, we define three lists of ids: one with the ids from the content creators, according to the `users_info` table, one with the ids of successful creators and the last one with the ids of the unsuccessful ones."
   ]
  },
  {
   "cell_type": "markdown",
   "id": "77715356",
   "metadata": {},
   "source": [
    "Let's start with a list of the id of creators. We also create a dataset with containing information on creators only."
   ]
  },
  {
   "cell_type": "code",
   "execution_count": 9,
   "id": "dd634fc1",
   "metadata": {},
   "outputs": [],
   "source": [
    "mask = user_info.type == 'creator'\n",
    "creator_ids = user_info[mask].user_id.unique()\n",
    "\n",
    "creators = user_info[user_info.type == 'creator']"
   ]
  },
  {
   "cell_type": "code",
   "execution_count": 10,
   "id": "c00d1304",
   "metadata": {},
   "outputs": [],
   "source": [
    "def successful_creators_followers(follows_received, base_date = datetime.datetime(2016, 5, 30, 0, 0), perc1 = None, perc2 = None, subset_creators = None):\n",
    "    '''Classifies content creators in successful or unsuccessfull\n",
    "        Arguments:\n",
    "                    follows_received: dataframe containing the follows received by content creators\n",
    "                    base date:        date, in datetime.datetime(YYYY, M, DD, H, M) format, in which the number \n",
    "                                      of followers per creator is calculated.\n",
    "                    perc1:            the threshold used to classify unsuccessful content creators. Creator having \n",
    "                                      total followers below the number dictated by this threshold, at the base date,\n",
    "                                      are classified as unsuccessful \n",
    "                    perc2:            the threshold used to classify successful content creators. Creator having \n",
    "                                      total followers above the number dictated by this threshold, at the base date,\n",
    "                                      are classified as successful\n",
    "                    subset_creators:  a pd.DataFrame containing the creators. If is it available, it will be used to \n",
    "                                      filter out non creators and to make sure creators with 0 followers are part of\n",
    "                                      the resulting dataset.\n",
    "        \n",
    "    '''\n",
    "    print(base_date)\n",
    "\n",
    "    if 'inbound_activity' not in follows_received.columns:\n",
    "        follows_received.columns = ['fan_id', 'user_id', 'date_sent']\n",
    "\n",
    "    mask = (follows_received['date_sent'] < base_date)\n",
    "\n",
    "    df = follows_received[mask].groupby('user_id', as_index=False).agg({'fan_id': pd.Series.nunique})\n",
    "    df.columns = ['user_id', 'followers']\n",
    "\n",
    "    if type(subset_creators) == pd.DataFrame:\n",
    "        subset_creators = pd.DataFrame(subset_creators.user_id.unique(), columns = ['user_id'])\n",
    "        df = subset_creators.merge(df, on = 'user_id', how = 'left')\n",
    "        df.fillna(0, inplace = True)\n",
    "\n",
    "    low = np.quantile(df.followers, perc1)\n",
    "    high = np.quantile(df.followers, perc2)\n",
    "\n",
    "    print(\"High influencer boundary: {}\".format(high))\n",
    "    print(\"Low influencer boundary: {}\".format(low))\n",
    "\n",
    "    mask = (df[\"followers\"] <= low) | (df[\"followers\"] >= high)\n",
    "    \n",
    "    unsuccessful_creator_ids = df.loc[df[\"followers\"] <= low].user_id.unique()\n",
    "    successful_creator_ids = df.loc[df[\"followers\"] >= high].user_id.unique()\n",
    "\n",
    "    return unsuccessful_creator_ids, successful_creator_ids"
   ]
  },
  {
   "cell_type": "code",
   "execution_count": 11,
   "id": "271db141",
   "metadata": {},
   "outputs": [
    {
     "name": "stdout",
     "output_type": "stream",
     "text": [
      "2016-05-30 00:00:00\n",
      "High influencer boundary: 66.0\n",
      "Low influencer boundary: 9.0\n"
     ]
    }
   ],
   "source": [
    "unsuccessful_ids, successful_ids = successful_creators_followers(follows_received, \n",
    "                                                        perc1 = low_success, perc2 = high_success, subset_creators = creators)\n"
   ]
  },
  {
   "cell_type": "markdown",
   "id": "2b06476a",
   "metadata": {},
   "source": [
    "## Putting together a dataset with the promotional activities made by content creators."
   ]
  },
  {
   "cell_type": "markdown",
   "id": "9c9b8a09",
   "metadata": {},
   "source": [
    "The function `gen_actions_sent_df` creates a dataframe with all the promotional activities that content creators sent to users."
   ]
  },
  {
   "cell_type": "code",
   "execution_count": 12,
   "id": "8fff0077",
   "metadata": {},
   "outputs": [],
   "source": [
    "def gen_actions_sent_df(follows_sent, shares_sent, likes_sent, comments_sent, messages_sent, creator_ids = creator_ids):\n",
    "    '''\n",
    "    Creates dataframe containing the actions that content creators send to users.\n",
    "        Attributes:\n",
    "                    follows_sent:  dataframe with the follows sent by the 35k users.\n",
    "                    shares_sent:   dataframe with the shares sent by the 35k users.\n",
    "                    likes_sent:    dataframe with the likes sent by the 35k users.\n",
    "                    comments_sent: dataframe with the comments sent by the 35k users.\n",
    "                    messages_sent: dataframe with the messages sent by the 35k users.\n",
    "                    creator_ids:   list with content creator ids. If not none, is used to\n",
    "                                   filter out activities from non creators.\n",
    "    '''\n",
    "    \n",
    "    follows_sent['outbound_activity'] = 'follow'\n",
    "    follows_sent.columns = ['user_id', 'fan_id', 'date_sent', 'outbound_activity']\n",
    "\n",
    "    if 'song_id' in shares_sent.columns:\n",
    "        shares_sent.drop(columns=[\"song_id\"])\n",
    "    shares_sent = shares_sent[['reposter_id', \"owner_id\", 'created_at']]\n",
    "    shares_sent['outbound_activity'] = 'share'\n",
    "    shares_sent.columns = ['user_id', 'fan_id', 'date_sent', 'outbound_activity']\n",
    "\n",
    "    if 'track_id' in likes_sent.columns:\n",
    "        likes_sent.drop(columns=[\"track_id\"], inplace=True)\n",
    "    likes_sent['outbound_activity'] = 'like'\n",
    "    likes_sent.columns = ['user_id', 'fan_id', 'date_sent', 'outbound_activity']\n",
    "\n",
    "    if 'track_id' in comments_sent.columns:\n",
    "        comments_sent.drop(columns=[\"track_id\"], inplace=True)\n",
    "    comments_sent['outbound_activity'] = 'comment'\n",
    "    comments_sent.columns = ['user_id', 'fan_id', 'date_sent', 'outbound_activity']\n",
    "\n",
    "    messages_sent[\"outbound_activity\"] = 'message'\n",
    "    messages_sent.columns = ['user_id', 'fan_id', 'date_sent', 'outbound_activity']\n",
    "    df = pd.concat([follows_sent, shares_sent, likes_sent, comments_sent, messages_sent])\n",
    "\n",
    "\n",
    "    if type(creator_ids) == numpy.ndarray:\n",
    "        df = df[df['user_id'].isin(creator_ids)]\n",
    "        \n",
    "    df['week_yr'] = df.date_sent.dt.strftime('%Y-w%U')\n",
    "    df = df.loc[df['user_id'] != df['fan_id'],:]\n",
    "\n",
    "    return df"
   ]
  },
  {
   "cell_type": "code",
   "execution_count": 13,
   "id": "6c6b8f49",
   "metadata": {},
   "outputs": [],
   "source": [
    "actions_sent = gen_actions_sent_df(follows_sent, shares_sent, likes_sent, comments_sent,\n",
    "                                     messages_sent, creator_ids = None)"
   ]
  },
  {
   "cell_type": "markdown",
   "id": "0fe6f8c4",
   "metadata": {},
   "source": [
    "## Filter only actions that were sent to non-fans"
   ]
  },
  {
   "cell_type": "code",
   "execution_count": 14,
   "id": "b904f4bf",
   "metadata": {},
   "outputs": [],
   "source": [
    "follows_received.columns = ['fan_id', 'user_id', 'date_sent']\n",
    "followers = follows_received[[\"fan_id\", \"user_id\", \"date_sent\"]]\n",
    "followers.columns = [\"fan_id\", \"user_id\", \"follower_since\"]\n",
    "\n",
    "actions_sent = actions_sent.merge(followers, right_on = ['user_id', 'fan_id'],\n",
    "                                      left_on = ['user_id', 'fan_id'], how = 'left')"
   ]
  },
  {
   "cell_type": "markdown",
   "id": "973ebc19",
   "metadata": {},
   "source": [
    "To obtain the followback responsiveness of users, we need to produce a dataset that exclude actions targetting fans.\n",
    "We do that using filters based on the date of the action and the date that the user became a fan of the content creator. The resulting dataframe is named `actions_sent_non_fans`."
   ]
  },
  {
   "cell_type": "markdown",
   "id": "a0dbf162",
   "metadata": {},
   "source": [
    "We then filter only actions that happened before the user follows the content creator."
   ]
  },
  {
   "cell_type": "code",
   "execution_count": 15,
   "id": "c957f00e",
   "metadata": {},
   "outputs": [
    {
     "name": "stderr",
     "output_type": "stream",
     "text": [
      "/var/folders/f2/cgjzt69n5hlgmtsm36p1pztw0000gn/T/ipykernel_16991/3855957735.py:3: SettingWithCopyWarning: \n",
      "A value is trying to be set on a copy of a slice from a DataFrame.\n",
      "Try using .loc[row_indexer,col_indexer] = value instead\n",
      "\n",
      "See the caveats in the documentation: https://pandas.pydata.org/pandas-docs/stable/user_guide/indexing.html#returning-a-view-versus-a-copy\n",
      "  actions_sent_non_fans['week_yr_date'] = actions_sent_non_fans.week_yr.apply(lambda x: process_date(x))\n"
     ]
    }
   ],
   "source": [
    "mask = (actions_sent.date_sent < actions_sent.follower_since) | (actions_sent.follower_since.isnull())\n",
    "actions_sent_non_fans =  actions_sent[mask]\n",
    "actions_sent_non_fans['week_yr_date'] = actions_sent_non_fans.week_yr.apply(lambda x: process_date(x))"
   ]
  },
  {
   "cell_type": "markdown",
   "id": "8a7c2b1a",
   "metadata": {},
   "source": [
    "## Compute rewards "
   ]
  },
  {
   "cell_type": "markdown",
   "id": "29d3647e",
   "metadata": {},
   "source": [
    "The last piece of information that is needed to compute the follow-back responsiveness is a column that indicates whether the a follow back occurrd or not. We must decide on a maximum interval between content creator action and follow-back to correctly attribute an follow to an action. Based on previous analysis, we define that interval to be 1 day. We name a follow that happened within that windowa `reward`. \n",
    "\n",
    "The function `create_reward` creates an indicator variable that takes the value 1 if a user followed a content creator in `interval` days from the date the content creator sent him a promotional action."
   ]
  },
  {
   "cell_type": "code",
   "execution_count": 16,
   "id": "cc188853",
   "metadata": {},
   "outputs": [],
   "source": [
    "def create_reward(data_actions_sent, interval):\n",
    "    # Target Creation\n",
    "    delta = datetime.timedelta(days = interval)\n",
    "    mask = (data_actions_sent['follower_since'] <= (data_actions_sent['date_sent'] + delta).dt.floor('d'))\n",
    "\n",
    "    data_actions_sent.loc[mask, 'reward'] = 1\n",
    "    mask = data_actions_sent['reward'].isnull()\n",
    "    data_actions_sent.loc[mask, 'reward'] = 0\n",
    "    return data_actions_sent"
   ]
  },
  {
   "cell_type": "code",
   "execution_count": 17,
   "id": "4022874e",
   "metadata": {},
   "outputs": [
    {
     "name": "stderr",
     "output_type": "stream",
     "text": [
      "/var/folders/f2/cgjzt69n5hlgmtsm36p1pztw0000gn/T/ipykernel_16991/4196489213.py:6: SettingWithCopyWarning: \n",
      "A value is trying to be set on a copy of a slice from a DataFrame.\n",
      "Try using .loc[row_indexer,col_indexer] = value instead\n",
      "\n",
      "See the caveats in the documentation: https://pandas.pydata.org/pandas-docs/stable/user_guide/indexing.html#returning-a-view-versus-a-copy\n",
      "  data_actions_sent.loc[mask, 'reward'] = 1\n"
     ]
    }
   ],
   "source": [
    "labeled_dataset = create_reward(actions_sent_non_fans,1)"
   ]
  },
  {
   "cell_type": "markdown",
   "id": "a16d9b9e",
   "metadata": {},
   "source": [
    "## Outdegree level"
   ]
  },
  {
   "cell_type": "markdown",
   "id": "2f0a61f1",
   "metadata": {},
   "source": [
    "The function below classifies users in low/high outdegree"
   ]
  },
  {
   "cell_type": "code",
   "execution_count": 18,
   "id": "3290386b",
   "metadata": {},
   "outputs": [],
   "source": [
    "def outdegree_level(data, date, user_info = user_info_1st, d_percentiles = 10):\n",
    "    \n",
    "    '''\n",
    "    This function returns the membership table at date equals `date`. Every user that interacted with the 35k tracked \n",
    "    users and entered the platform before `date` is present in the table, even if it has indegree 0.\n",
    "    arguments:\n",
    "              data:           the indegree dataset.\n",
    "              user_info:      the dataset containing all the users that interacted with the 35k users tracked.\n",
    "              d_percentiles:  the percentiles breaks e.g. d_percentiles = 25 means that user types are the quartiles\n",
    "                              of the indegree distribution.\n",
    "    '''\n",
    "    \n",
    "    data = data[data.created_at.dt.floor('d')<=date]\n",
    "    data = data.groupby('sender_id').agg({'size':'sum'}).compute()\n",
    "    steps = 100//d_percentiles\n",
    "    \n",
    "    #merge with user info to obtain users that are not followed by anyone at the current date\n",
    "    data = user_info_1st.merge(data, left_on = 'user_id', right_on = 'sender_id', how= 'outer')\n",
    "    data.loc[data['size'].isnull(), 'size'] = 0\n",
    "    data = data[['user_id', 'size', 'entered_platform']].set_index('user_id')\n",
    "    \n",
    "    #filter out users that didnt exist in the current date\n",
    "    mask = data['entered_platform'].dt.floor('d') <= date\n",
    "    data = data.loc[mask]\n",
    "    \n",
    "    mask = (data['size']>0)\n",
    "    data.loc[~mask, 'type'] = 0 \n",
    "    \n",
    "    #cutpoints ignore users with 0 followers as they will appear in their own category\n",
    "    cutpoints = np.percentile(data['size'], np.arange(0,100, steps)) \n",
    "\n",
    "    for i in range(len(cutpoints)):\n",
    "        low = cutpoints[i]\n",
    "        try:\n",
    "            high = cutpoints[i+1]\n",
    "        except:\n",
    "            high = 100000\n",
    "        \n",
    "        mask2 = (data[mask]['size']>=low) & (data[mask]['size'] <high) & (data['size']>0)\n",
    "        data.loc[mask2,'type'] = i + 1 \n",
    "    return data"
   ]
  },
  {
   "cell_type": "code",
   "execution_count": 19,
   "id": "63a49e96",
   "metadata": {},
   "outputs": [],
   "source": [
    "dask_outdegree = dd.from_pandas(data_outdegree, npartitions = 3)"
   ]
  },
  {
   "cell_type": "code",
   "execution_count": 20,
   "id": "21950961",
   "metadata": {},
   "outputs": [],
   "source": [
    "last_day =  max(actions_sent.date_sent.dt.floor('d').unique())\n",
    "outdegree_level = outdegree_level(dask_outdegree, last_day,user_info = user_info_1st, d_percentiles = 2)"
   ]
  },
  {
   "cell_type": "code",
   "execution_count": 21,
   "id": "2eec61a2",
   "metadata": {},
   "outputs": [],
   "source": [
    "outdegree_level['high_outdegree'] = outdegree_level.type.apply(lambda x: 1 if x > 1 else 0)"
   ]
  },
  {
   "cell_type": "markdown",
   "id": "cbc7f983",
   "metadata": {},
   "source": [
    "In the cell below, we create a list with unique ids from users that appear in the oudegree level table. This will later be uses to construct a flow-chart indicating how we lose data based on filters and operations."
   ]
  },
  {
   "cell_type": "code",
   "execution_count": 22,
   "id": "406e4e68",
   "metadata": {},
   "outputs": [],
   "source": [
    "receiver_ids = outdegree_level.index.unique()"
   ]
  },
  {
   "cell_type": "markdown",
   "id": "f67b80f2",
   "metadata": {},
   "source": [
    "## Responsiveness (follow-back)"
   ]
  },
  {
   "cell_type": "markdown",
   "id": "a9f1b31f",
   "metadata": {},
   "source": [
    "The follow-back responsiveness is calculated as the number rewards per non fan, devided by the number of actions received by them, from the content creators in out dataset."
   ]
  },
  {
   "cell_type": "code",
   "execution_count": 23,
   "id": "cf019cef",
   "metadata": {},
   "outputs": [],
   "source": [
    "responsiveness_level = labeled_dataset.groupby('fan_id', as_index = False).agg({'reward':'sum', 'user_id':'count'})\n",
    "responsiveness_level.columns = ['fan_id','total_rewards', 'total_actions_received']"
   ]
  },
  {
   "cell_type": "code",
   "execution_count": 24,
   "id": "1b0ce9e0",
   "metadata": {},
   "outputs": [],
   "source": [
    "responsiveness_level['responsiveness_level'] = responsiveness_level['total_rewards']/responsiveness_level['total_actions_received']"
   ]
  },
  {
   "cell_type": "markdown",
   "id": "ffee108f",
   "metadata": {},
   "source": [
    "Now we need to create a indicator variable that receives the value of 1 if the user is classified as high-reponsiveness and 0 if not. high-responsiveness individuals have `responsiveness_level > 0`. Only 6% of the users fall on that category."
   ]
  },
  {
   "cell_type": "code",
   "execution_count": 25,
   "id": "2a3aabb6",
   "metadata": {},
   "outputs": [
    {
     "data": {
      "text/plain": [
       "0.029490774559935904"
      ]
     },
     "execution_count": 25,
     "metadata": {},
     "output_type": "execute_result"
    }
   ],
   "source": [
    "sum(responsiveness_level.responsiveness_level > 0)/responsiveness_level.shape[0]\n",
    "#only 6% have responsiveness > 0"
   ]
  },
  {
   "cell_type": "code",
   "execution_count": 26,
   "id": "753c5f7c",
   "metadata": {},
   "outputs": [],
   "source": [
    "responsiveness_level['high_responsiveness'] = responsiveness_level.responsiveness_level.apply(lambda x: 1 if x > 0 else 0)"
   ]
  },
  {
   "cell_type": "markdown",
   "id": "4bd7de9d",
   "metadata": {},
   "source": [
    "Once more we create an object containing the unique ids of users in the resulting dataset. This will be used in a flow-chart, as explained."
   ]
  },
  {
   "cell_type": "code",
   "execution_count": 27,
   "id": "9bcf00c0",
   "metadata": {},
   "outputs": [
    {
     "data": {
      "text/plain": [
       "424370"
      ]
     },
     "execution_count": 27,
     "metadata": {},
     "output_type": "execute_result"
    }
   ],
   "source": [
    "received_actions_ids = responsiveness_level.fan_id.unique()\n",
    "len(received_actions_ids)"
   ]
  },
  {
   "cell_type": "code",
   "execution_count": 28,
   "id": "75657792",
   "metadata": {},
   "outputs": [
    {
     "data": {
      "text/plain": [
       "339947"
      ]
     },
     "execution_count": 28,
     "metadata": {},
     "output_type": "execute_result"
    }
   ],
   "source": [
    "len(set(received_actions_ids).intersection(set(receiver_ids)))\n",
    "#only 339937 from 424370 that follow at least one of the 35k, received at least one action"
   ]
  },
  {
   "cell_type": "markdown",
   "id": "b2e1faaf",
   "metadata": {},
   "source": [
    "## Activity level"
   ]
  },
  {
   "cell_type": "markdown",
   "id": "d4db5e11",
   "metadata": {},
   "source": [
    "The activity level is defined as the number of actions performed by users. It is important to notice that we only observe actions targeting the 35k users that joined in march 2012. We consider this measure a proxy for the real activity level.\n",
    "\n",
    "Let's begin by creating a dataset with all action received by those 35k users."
   ]
  },
  {
   "cell_type": "code",
   "execution_count": 29,
   "id": "bec0ad24",
   "metadata": {},
   "outputs": [
    {
     "name": "stdout",
     "output_type": "stream",
     "text": [
      "%%%%%%%%%% 12sample_comments_received.dta %%%%%%%%%%\n",
      "(21386, 4)\n",
      "%%%%%%%%%% 12sample_reposts_received.dta %%%%%%%%%%\n",
      "(83013, 4)\n",
      "%%%%%%%%%% 12sample_favoritings_received.dta %%%%%%%%%%\n",
      "(286903, 4)\n",
      "%%%%%%%%%% 12sample_messages_received.dta %%%%%%%%%%\n",
      "(17364, 3)\n"
     ]
    }
   ],
   "source": [
    "comments_received = import_dta(path_dir, \"12sample_comments_received.dta\");\n",
    "shares_received = import_dta(path_dir, \"12sample_reposts_received.dta\");\n",
    "likes_received = import_dta(path_dir, \"12sample_favoritings_received.dta\");\n",
    "messages_received = import_dta(path_dir, \"12sample_messages_received.dta\");"
   ]
  },
  {
   "cell_type": "code",
   "execution_count": 30,
   "id": "1ec99f6a",
   "metadata": {},
   "outputs": [],
   "source": [
    "if 'song_id' in shares_received:\n",
    "        shares_received.drop(columns=[\"song_id\"])\n",
    "shares_received = shares_received[['reposter_id', \"owner_id\", 'created_at']]\n",
    "shares_received['inbound_activity'] = 'share'\n",
    "shares_received.columns = ['fan_id', 'user_id', 'date_sent', 'inbound_activity']\n",
    "\n",
    "if 'track_id' in likes_received:\n",
    "        likes_received = likes_received.drop(columns=[\"track_id\"])\n",
    "likes_received['inbound_activity'] = 'like'\n",
    "likes_received.columns = ['fan_id', 'user_id', 'date_sent', 'inbound_activity']\n",
    "\n",
    "if 'track_id' in comments_received:\n",
    "        comments_received = comments_received.drop(columns=[\"track_id\"])\n",
    "comments_received['inbound_activity'] = 'comment'\n",
    "comments_received.columns = ['fan_id', 'user_id', 'date_sent', 'inbound_activity']\n",
    "\n",
    "messages_received[\"outbound_activity\"] = 'message'\n",
    "messages_received.columns = ['user_id', 'fan_id', 'date_sent', 'inbound_activity']"
   ]
  },
  {
   "cell_type": "code",
   "execution_count": 31,
   "id": "c28ce54c",
   "metadata": {},
   "outputs": [],
   "source": [
    "df_total_actions_by_fans_and_non_fans = pd.concat([shares_received, likes_received, comments_received, messages_received])"
   ]
  },
  {
   "cell_type": "code",
   "execution_count": 32,
   "id": "f24d78a6",
   "metadata": {},
   "outputs": [],
   "source": [
    "activity_level = df_total_actions_by_fans_and_non_fans.groupby('fan_id', as_index = True).size()"
   ]
  },
  {
   "cell_type": "code",
   "execution_count": 33,
   "id": "336daaae",
   "metadata": {},
   "outputs": [
    {
     "data": {
      "text/plain": [
       "240292"
      ]
     },
     "execution_count": 33,
     "metadata": {},
     "output_type": "execute_result"
    }
   ],
   "source": [
    "activity_level = activity_level.to_frame()\n",
    "activity_level.columns = ['activity']\n",
    "#number of users that performed at least one non-follow activity.\n",
    "sum(activity_level.activity > 0)"
   ]
  },
  {
   "cell_type": "markdown",
   "id": "3a392a41",
   "metadata": {},
   "source": [
    "Once more we create an object containing the unique ids of users in the resulting dataset. This will be used in a flow-chart, as explained."
   ]
  },
  {
   "cell_type": "code",
   "execution_count": 34,
   "id": "972bf9fa",
   "metadata": {},
   "outputs": [],
   "source": [
    "activity_ids = activity_level.index.unique()"
   ]
  },
  {
   "cell_type": "code",
   "execution_count": 35,
   "id": "1aec8b77",
   "metadata": {},
   "outputs": [
    {
     "data": {
      "text/plain": [
       "35493"
      ]
     },
     "execution_count": 35,
     "metadata": {},
     "output_type": "execute_result"
    }
   ],
   "source": [
    "len(set(activity_ids).intersection(set(receiver_ids)))\n",
    "#only 35493 from 240292 that follow at least one of the 35k, performed at least one non-follow action"
   ]
  },
  {
   "cell_type": "markdown",
   "id": "3871fbb2",
   "metadata": {},
   "source": [
    "The number of users that received at least on action from our 35k users surpasses by much the number of users that performed at least on action.\n",
    "\n",
    "In the cell bellow, we input information on users that performed 0 activities."
   ]
  },
  {
   "cell_type": "code",
   "execution_count": 36,
   "id": "b5573557",
   "metadata": {},
   "outputs": [],
   "source": [
    "activity_level = activity_level.reindex(receiver_ids)\n",
    "activity_level.loc[activity_level.activity.isna(), 'activity'] = 0"
   ]
  },
  {
   "cell_type": "code",
   "execution_count": 37,
   "id": "322f11f9",
   "metadata": {},
   "outputs": [
    {
     "data": {
      "text/plain": [
       "0.010386942300065897"
      ]
     },
     "execution_count": 37,
     "metadata": {},
     "output_type": "execute_result"
    }
   ],
   "source": [
    "sum(activity_level.activity >= 4)/activity_level.shape[0]\n",
    "#only 1% have activity >= 4"
   ]
  },
  {
   "cell_type": "code",
   "execution_count": 38,
   "id": "a28f563b",
   "metadata": {},
   "outputs": [],
   "source": [
    "activity_level['high_activity'] = activity_level.activity.apply(lambda x: 1 if x >= 4 else 0)"
   ]
  },
  {
   "cell_type": "markdown",
   "id": "b0e70261",
   "metadata": {},
   "source": [
    "# Analysis"
   ]
  },
  {
   "cell_type": "markdown",
   "id": "cac73794",
   "metadata": {},
   "source": [
    "Only users that followed at least one of the 35k, received at least one action fom the 35k and did at least one non-follow actions towards the 35k are eligible to be in the table.\n",
    "\n",
    "The reason behind it is that we dont observe outdegree of users that did not follow at least one of the 35k and we dont observe the follow-back responsiveness of users that never received actions from the 35k.\n",
    "\n",
    "Below, we get a list with the eligible user's ids"
   ]
  },
  {
   "cell_type": "code",
   "execution_count": 39,
   "id": "d0c9c2e4",
   "metadata": {},
   "outputs": [],
   "source": [
    "eligible_ids = set(received_actions_ids).intersection(set(receiver_ids))"
   ]
  },
  {
   "cell_type": "code",
   "execution_count": 40,
   "id": "9cbf0db3",
   "metadata": {},
   "outputs": [
    {
     "data": {
      "text/plain": [
       "339947"
      ]
     },
     "execution_count": 40,
     "metadata": {},
     "output_type": "execute_result"
    }
   ],
   "source": [
    "len(eligible_ids)"
   ]
  },
  {
   "cell_type": "markdown",
   "id": "2fc11bf9",
   "metadata": {},
   "source": [
    "Now we merge the datasets with the outdegree, follow-back responsiveness and activity information."
   ]
  },
  {
   "cell_type": "code",
   "execution_count": 41,
   "id": "04cd81bb",
   "metadata": {},
   "outputs": [],
   "source": [
    "table_data = outdegree_level.merge(responsiveness_level, left_index = True, right_on = 'fan_id', how = 'inner').merge(activity_level, left_on = 'fan_id', right_index = True, how = 'inner')"
   ]
  },
  {
   "cell_type": "code",
   "execution_count": 42,
   "id": "e8574a3e",
   "metadata": {},
   "outputs": [
    {
     "data": {
      "text/plain": [
       "high_outdegree  high_responsiveness  high_activity\n",
       "0               0                    0                192658\n",
       "                                     1                   419\n",
       "                1                    0                  2940\n",
       "                                     1                    63\n",
       "1               0                    0                133450\n",
       "                                     1                  1093\n",
       "                1                    0                  9035\n",
       "                                     1                   289\n",
       "dtype: int64"
      ]
     },
     "execution_count": 42,
     "metadata": {},
     "output_type": "execute_result"
    }
   ],
   "source": [
    "table_data.groupby(['high_outdegree', 'high_responsiveness', 'high_activity']).size()"
   ]
  },
  {
   "cell_type": "markdown",
   "id": "67db0c26",
   "metadata": {},
   "source": [
    "And, finally, we create the 4 user groups that we are interested in: *Hardcore*, *Lazy*, *Addicted* and *Shallow*. Everyone else is classified as *Other*."
   ]
  },
  {
   "cell_type": "code",
   "execution_count": 43,
   "id": "37a44734",
   "metadata": {},
   "outputs": [],
   "source": [
    "table_data['Type'] = table_data.apply(lambda x: \n",
    "    'hardcore' if (x.high_outdegree == 0) & (x.high_responsiveness == 1) & (x.high_activity == 1)\n",
    "     else ('lazy' if (x.high_outdegree == 0) & (x.high_responsiveness == 1) & (x.high_activity == 0)\n",
    "     else ('shallow' if (x.high_outdegree == 1) & (x.high_responsiveness == 0) & (x.high_activity == 0) \n",
    "     else ('addicted' if (x.high_outdegree == 1) & (x.high_responsiveness == 0) & (x.high_activity == 1)\n",
    "     else 'other'))), axis=1)"
   ]
  },
  {
   "cell_type": "markdown",
   "id": "61797db7",
   "metadata": {},
   "source": [
    "Finally, we answer 4 items:\n",
    "\n",
    "    1. Is there statistical difference on the activity level of hardcore and lazy users?\n",
    "    2. Is there statistical difference on the activity level of addicted and shallow users?\n",
    "    3. Descriptive statistics of the four groups.\n",
    "    4.a. Are hardcore and addicted users more connected to successful creators than lazy and shallow?\n",
    "    4.b. Are hardcore and addicted users more connected to successful creators than to unsuccessful creators?"
   ]
  },
  {
   "cell_type": "markdown",
   "id": "312b3cbd",
   "metadata": {},
   "source": [
    "## Desc. Statistics\n",
    "\n",
    "Let's start with 3, since if provide the figures we are going to use to answer to other items:\n",
    "\n",
    "### 3. Descriptive statistics of the four groups."
   ]
  },
  {
   "cell_type": "code",
   "execution_count": 44,
   "id": "afab1bd7",
   "metadata": {},
   "outputs": [
    {
     "data": {
      "text/html": [
       "<div>\n",
       "<style scoped>\n",
       "    .dataframe tbody tr th:only-of-type {\n",
       "        vertical-align: middle;\n",
       "    }\n",
       "\n",
       "    .dataframe tbody tr th {\n",
       "        vertical-align: top;\n",
       "    }\n",
       "\n",
       "    .dataframe thead th {\n",
       "        text-align: right;\n",
       "    }\n",
       "</style>\n",
       "<table border=\"1\" class=\"dataframe\">\n",
       "  <thead>\n",
       "    <tr style=\"text-align: right;\">\n",
       "      <th></th>\n",
       "      <th>0</th>\n",
       "      <th>1</th>\n",
       "      <th>2</th>\n",
       "      <th>3</th>\n",
       "      <th>4</th>\n",
       "    </tr>\n",
       "  </thead>\n",
       "  <tbody>\n",
       "    <tr>\n",
       "      <th>Type</th>\n",
       "      <td>addicted</td>\n",
       "      <td>hardcore</td>\n",
       "      <td>lazy</td>\n",
       "      <td>other</td>\n",
       "      <td>shallow</td>\n",
       "    </tr>\n",
       "    <tr>\n",
       "      <th>count</th>\n",
       "      <td>1093.0</td>\n",
       "      <td>63.0</td>\n",
       "      <td>2940.0</td>\n",
       "      <td>202401.0</td>\n",
       "      <td>133450.0</td>\n",
       "    </tr>\n",
       "    <tr>\n",
       "      <th>mean</th>\n",
       "      <td>15.246112</td>\n",
       "      <td>7.634921</td>\n",
       "      <td>0.160204</td>\n",
       "      <td>0.060751</td>\n",
       "      <td>0.052716</td>\n",
       "    </tr>\n",
       "    <tr>\n",
       "      <th>std</th>\n",
       "      <td>125.191943</td>\n",
       "      <td>5.261858</td>\n",
       "      <td>0.524183</td>\n",
       "      <td>1.698298</td>\n",
       "      <td>0.303226</td>\n",
       "    </tr>\n",
       "    <tr>\n",
       "      <th>min</th>\n",
       "      <td>4.0</td>\n",
       "      <td>4.0</td>\n",
       "      <td>0.0</td>\n",
       "      <td>0.0</td>\n",
       "      <td>0.0</td>\n",
       "    </tr>\n",
       "    <tr>\n",
       "      <th>25%</th>\n",
       "      <td>4.0</td>\n",
       "      <td>4.0</td>\n",
       "      <td>0.0</td>\n",
       "      <td>0.0</td>\n",
       "      <td>0.0</td>\n",
       "    </tr>\n",
       "    <tr>\n",
       "      <th>50%</th>\n",
       "      <td>6.0</td>\n",
       "      <td>6.0</td>\n",
       "      <td>0.0</td>\n",
       "      <td>0.0</td>\n",
       "      <td>0.0</td>\n",
       "    </tr>\n",
       "    <tr>\n",
       "      <th>75%</th>\n",
       "      <td>10.0</td>\n",
       "      <td>9.0</td>\n",
       "      <td>0.0</td>\n",
       "      <td>0.0</td>\n",
       "      <td>0.0</td>\n",
       "    </tr>\n",
       "    <tr>\n",
       "      <th>max</th>\n",
       "      <td>4025.0</td>\n",
       "      <td>30.0</td>\n",
       "      <td>3.0</td>\n",
       "      <td>623.0</td>\n",
       "      <td>3.0</td>\n",
       "    </tr>\n",
       "  </tbody>\n",
       "</table>\n",
       "</div>"
      ],
      "text/plain": [
       "                0         1         2         3         4\n",
       "Type     addicted  hardcore      lazy     other   shallow\n",
       "count      1093.0      63.0    2940.0  202401.0  133450.0\n",
       "mean    15.246112  7.634921  0.160204  0.060751  0.052716\n",
       "std    125.191943  5.261858  0.524183  1.698298  0.303226\n",
       "min           4.0       4.0       0.0       0.0       0.0\n",
       "25%           4.0       4.0       0.0       0.0       0.0\n",
       "50%           6.0       6.0       0.0       0.0       0.0\n",
       "75%          10.0       9.0       0.0       0.0       0.0\n",
       "max        4025.0      30.0       3.0     623.0       3.0"
      ]
     },
     "execution_count": 44,
     "metadata": {},
     "output_type": "execute_result"
    }
   ],
   "source": [
    "table_data.groupby('Type', as_index = False).activity.describe().unstack(1)"
   ]
  },
  {
   "cell_type": "markdown",
   "id": "bac2d1ee",
   "metadata": {},
   "source": [
    "### 1. Is there statistical difference on the activity level of hardcore and lazy users?"
   ]
  },
  {
   "cell_type": "code",
   "execution_count": 45,
   "id": "f77f0d5c",
   "metadata": {},
   "outputs": [],
   "source": [
    "import scipy"
   ]
  },
  {
   "cell_type": "code",
   "execution_count": 46,
   "id": "6d584a32",
   "metadata": {},
   "outputs": [
    {
     "data": {
      "text/plain": [
       "Ttest_indResult(statistic=11.274043837398452, pvalue=1.1771457291033545e-16)"
      ]
     },
     "execution_count": 46,
     "metadata": {},
     "output_type": "execute_result"
    }
   ],
   "source": [
    "group1 = table_data[table_data['Type'] == 'hardcore']\n",
    "group2 = table_data[table_data['Type'] == 'lazy']\n",
    "\n",
    "#t, p =\n",
    "scipy.stats.ttest_ind(group1.activity, group2.activity, equal_var = False)"
   ]
  },
  {
   "cell_type": "markdown",
   "id": "829ddd66",
   "metadata": {},
   "source": [
    "Yes, there is the activity level of hardcore and lazy users is statistically different."
   ]
  },
  {
   "cell_type": "markdown",
   "id": "0b568b04",
   "metadata": {},
   "source": [
    "### 2. Is there statistical difference on the activity level of addicted and shallow users?"
   ]
  },
  {
   "cell_type": "code",
   "execution_count": 47,
   "id": "9f75aee1",
   "metadata": {},
   "outputs": [
    {
     "data": {
      "text/plain": [
       "Ttest_indResult(statistic=4.012254982280351, pvalue=6.423952914982856e-05)"
      ]
     },
     "execution_count": 47,
     "metadata": {},
     "output_type": "execute_result"
    }
   ],
   "source": [
    "group1 = table_data[table_data['Type'] == 'addicted']\n",
    "group2 = table_data[table_data['Type'] == 'shallow']\n",
    "\n",
    "#t, p =\n",
    "scipy.stats.ttest_ind(group1.activity, group2.activity, equal_var = False)"
   ]
  },
  {
   "cell_type": "markdown",
   "id": "34398c07",
   "metadata": {},
   "source": [
    "Yes, there is the activity level of addicted and shallow users is statistically different."
   ]
  },
  {
   "cell_type": "markdown",
   "id": "19be9102",
   "metadata": {},
   "source": [
    "### 4.a. Are hardcore and addicted fans more connected to successful creators than lazy and shallow?"
   ]
  },
  {
   "cell_type": "markdown",
   "id": "0447a903",
   "metadata": {},
   "source": [
    "Let's add two columns to the `actions_sent_non_fans` dataset, the fan type, containing the user classification (*lazy, hardore, shallow, addicted*) and the content creator classification (*successful/unsuccesful*)."
   ]
  },
  {
   "cell_type": "code",
   "execution_count": 48,
   "id": "eb885f04",
   "metadata": {},
   "outputs": [
    {
     "name": "stderr",
     "output_type": "stream",
     "text": [
      "/var/folders/f2/cgjzt69n5hlgmtsm36p1pztw0000gn/T/ipykernel_16991/426541274.py:9: SettingWithCopyWarning: \n",
      "A value is trying to be set on a copy of a slice from a DataFrame.\n",
      "Try using .loc[row_indexer,col_indexer] = value instead\n",
      "\n",
      "See the caveats in the documentation: https://pandas.pydata.org/pandas-docs/stable/user_guide/indexing.html#returning-a-view-versus-a-copy\n",
      "  actions_sent_non_fans['user_type'] = actions_sent_non_fans.fan_id.apply(lambda x: 'hardcore' if x in hardcore_ids else\n",
      "/var/folders/f2/cgjzt69n5hlgmtsm36p1pztw0000gn/T/ipykernel_16991/426541274.py:15: SettingWithCopyWarning: \n",
      "A value is trying to be set on a copy of a slice from a DataFrame.\n",
      "Try using .loc[row_indexer,col_indexer] = value instead\n",
      "\n",
      "See the caveats in the documentation: https://pandas.pydata.org/pandas-docs/stable/user_guide/indexing.html#returning-a-view-versus-a-copy\n",
      "  actions_sent_non_fans['creator_type'] = actions_sent_non_fans.user_id.apply(\n"
     ]
    }
   ],
   "source": [
    "## classify users\n",
    "\n",
    "hardcore_ids = table_data.loc[table_data.Type =='hardcore'].fan_id.unique()\n",
    "lazy_ids = table_data.loc[table_data.Type =='lazy'].fan_id.unique()\n",
    "shallow_ids = table_data.loc[table_data.Type =='shallow'].fan_id.unique()\n",
    "addicted_ids = table_data.loc[table_data.Type =='addicted'].fan_id.unique()\n",
    "\n",
    "\n",
    "actions_sent_non_fans['user_type'] = actions_sent_non_fans.fan_id.apply(lambda x: 'hardcore' if x in hardcore_ids else \n",
    "                          ('lazy' if x in lazy_ids else\n",
    "                          ('shallow' if x in shallow_ids else\n",
    "                          ('addicted' if x in addicted_ids else 'other'))))\n",
    "\n",
    "## classify content creators\n",
    "actions_sent_non_fans['creator_type'] = actions_sent_non_fans.user_id.apply(\n",
    "                                            lambda x: 'successful' if x in successful_ids else \n",
    "                                            ('unsuccessful' if x in unsuccessful_ids else 'other'))"
   ]
  },
  {
   "cell_type": "markdown",
   "id": "52be8c78",
   "metadata": {},
   "source": [
    "We now calculate the number of unique users targeted by creators that fall within each user category:"
   ]
  },
  {
   "cell_type": "code",
   "execution_count": 49,
   "id": "19cb04e8",
   "metadata": {},
   "outputs": [],
   "source": [
    "mask = (actions_sent_non_fans.creator_type != 'other') #& (actions_sent_non_fans.user_type != 'other')\n",
    "distribution_target_user_type = actions_sent_non_fans.loc[mask].groupby(['creator_type', 'user_type']).fan_id.nunique()\n",
    "dist_target_user = distribution_target_user_type.to_frame().reset_index()"
   ]
  },
  {
   "cell_type": "markdown",
   "id": "523a687e",
   "metadata": {},
   "source": [
    "## Odds Ratio Analysis"
   ]
  },
  {
   "cell_type": "markdown",
   "id": "b5e5e930",
   "metadata": {},
   "source": [
    "### 4.a. Are hardcore and addicted users more connected to successful creators than lazy and shallow?"
   ]
  },
  {
   "cell_type": "markdown",
   "id": "db364552",
   "metadata": {},
   "source": [
    "We want to measure if successful creators are skilled in identifying *addicted* and *hardcore* users. Unfortunatelly,  we cannot use a probability measure to do the comparison, since it is sharply affected by group size variations. One measure that sidestep this issue is the odds ratio, a statistic that is better suited to compare groups of different sizes because it takes the number of events and non events in each group into account. "
   ]
  },
  {
   "cell_type": "markdown",
   "id": "e4c1145d",
   "metadata": {},
   "source": [
    "To calculate the odds ratio of for a given user type, say *hardcore*, we need the probability that a *hardcore* user is targeted by a successful creator. That is obtained by the following ratio: `p_hardcore_users` = `total unique users of type hardcore target by successful creators`/`total unique users of type hardcore`. \n",
    "\n",
    "We then use it to calculate: `odds_hardcore_user` = `p_hardcore_users`/(1-`p_hardcore_users`)\n",
    "\n",
    "Finally, let's say we want to compare `hardcore` and `lazy` users. We would then use the meetric `odds_ratio` = `odds_hardcore_user`/`odds_lazy_user`"
   ]
  },
  {
   "cell_type": "markdown",
   "id": "f292975d",
   "metadata": {},
   "source": [
    "### Hardcore vs Lazy"
   ]
  },
  {
   "cell_type": "code",
   "execution_count": 50,
   "id": "34bf7533",
   "metadata": {},
   "outputs": [],
   "source": [
    "from scipy.stats import chi2_contingency"
   ]
  },
  {
   "cell_type": "code",
   "execution_count": 51,
   "id": "75e9977f",
   "metadata": {},
   "outputs": [
    {
     "name": "stdout",
     "output_type": "stream",
     "text": [
      "Odds Ratio: 2.0394\n",
      "Chi-Square Statistic: 6.1643\n",
      "P-Value: 0.013\n"
     ]
    }
   ],
   "source": [
    "table = np.array([[20, 546], [len(hardcore_ids)-20, len(lazy_ids)-546]])\n",
    "\n",
    "# calculate the odds ratio by taking the ratio of the odds of the event occurring in the two groups\n",
    "odds_ratio = (20/(len(hardcore_ids)-20)/(546/(len(lazy_ids)-546)))\n",
    "print(\"Odds Ratio:\", round(odds_ratio,4))\n",
    "\n",
    "# perform a chi-square test to determine whether the observed odds ratio is statistically significant\n",
    "chi2, p_value, _, _ = chi2_contingency(table)\n",
    "print(\"Chi-Square Statistic:\", round(chi2,4))\n",
    "print(\"P-Value:\", round(p_value,4))"
   ]
  },
  {
   "cell_type": "markdown",
   "id": "9084aeb3",
   "metadata": {},
   "source": [
    "Successful creators show better odds of connecting to *hardcore* than to *lazy* users."
   ]
  },
  {
   "cell_type": "markdown",
   "id": "1427d411",
   "metadata": {},
   "source": [
    "### Addicted vs Shallow"
   ]
  },
  {
   "cell_type": "code",
   "execution_count": 52,
   "id": "b727a424",
   "metadata": {},
   "outputs": [
    {
     "name": "stdout",
     "output_type": "stream",
     "text": [
      "Odds Ratio: 3.786\n",
      "Chi-Square Statistic: 435.9268\n",
      "P-Value: 0.0\n"
     ]
    }
   ],
   "source": [
    "table = np.array([[798, 55614], [len(addicted_ids)-798, len(shallow_ids)-55614]])\n",
    "\n",
    "# calculate the odds ratio by taking the ratio of the odds of the event occurring in the two groups\n",
    "odds_ratio = (798/(len(addicted_ids)-798)/(55614/(len(shallow_ids)-55614)))\n",
    "print(\"Odds Ratio:\", round(odds_ratio,4))\n",
    "\n",
    "# perform a chi-square test to determine whether the observed odds ratio is statistically significant\n",
    "chi2, p_value, _, _ = chi2_contingency(table)\n",
    "print(\"Chi-Square Statistic:\", round(chi2,4))\n",
    "print(\"P-Value:\", round(p_value,4))"
   ]
  },
  {
   "cell_type": "markdown",
   "id": "a7e409a2",
   "metadata": {},
   "source": [
    "Successful creators show better odds of connecting to *addicted* than to *shallow* users."
   ]
  },
  {
   "cell_type": "markdown",
   "id": "95729393",
   "metadata": {},
   "source": [
    "### 4.b. Are hardcore and addicted users more connected to successful creators than to unsuccessful creators?"
   ]
  },
  {
   "cell_type": "markdown",
   "id": "47dba924",
   "metadata": {},
   "source": [
    "### Addicted Users"
   ]
  },
  {
   "cell_type": "code",
   "execution_count": 53,
   "id": "2c3cad3e",
   "metadata": {},
   "outputs": [
    {
     "name": "stdout",
     "output_type": "stream",
     "text": [
      "Odds Ratio: 58.8919\n",
      "Chi-Square Statistic: 1081.7792\n",
      "P-Value: 0.0\n"
     ]
    }
   ],
   "source": [
    "table = np.array([[798, 48], [len(addicted_ids)-798, len(addicted_ids)-48]])\n",
    "\n",
    "# calculate the odds ratio by taking the ratio of the odds of the event occurring in the two groups\n",
    "odds_ratio = (798/(len(addicted_ids)-798)/(48/(len(addicted_ids)-48)))\n",
    "print(\"Odds Ratio:\", round(odds_ratio,4))\n",
    "\n",
    "# perform a chi-square test to determine whether the observed odds ratio is statistically significant\n",
    "chi2, p_value, _, _ = chi2_contingency(table)\n",
    "print(\"Chi-Square Statistic:\", round(chi2,4))\n",
    "print(\"P-Value:\", round(p_value,4))"
   ]
  },
  {
   "cell_type": "markdown",
   "id": "ebc56fa8",
   "metadata": {},
   "source": [
    "*Harcore* users are more connected to successful creators than to unsuccessful creators."
   ]
  },
  {
   "cell_type": "markdown",
   "id": "1fec67e8",
   "metadata": {},
   "source": [
    "### Hardcore Users"
   ]
  },
  {
   "cell_type": "code",
   "execution_count": 54,
   "id": "aaa0f62e",
   "metadata": {},
   "outputs": [
    {
     "name": "stdout",
     "output_type": "stream",
     "text": [
      "Odds Ratio: 4.4186\n",
      "Chi-Square Statistic: 8.19\n",
      "P-Value: 0.0042\n"
     ]
    }
   ],
   "source": [
    "table = np.array([[20,6], [len(hardcore_ids)-20, len(hardcore_ids)-6]])\n",
    "\n",
    "# calculate the odds ratio by taking the ratio of the odds of the event occurring in the two groups\n",
    "odds_ratio = (20/(len(hardcore_ids)-20)/(6/(len(hardcore_ids)-6)))\n",
    "print(\"Odds Ratio:\", round(odds_ratio,4))\n",
    "\n",
    "# perform a chi-square test to determine whether the observed odds ratio is statistically significant\n",
    "chi2, p_value, _, _ = chi2_contingency(table)\n",
    "print(\"Chi-Square Statistic:\", round(chi2,4))\n",
    "print(\"P-Value:\", round(p_value,4))"
   ]
  },
  {
   "cell_type": "markdown",
   "id": "da884105",
   "metadata": {},
   "source": [
    "*Addicted* users are more connected to successful creators than to unsuccessful creators"
   ]
  },
  {
   "cell_type": "code",
   "execution_count": 55,
   "id": "180ef3cb",
   "metadata": {},
   "outputs": [],
   "source": [
    "test = outdegree_level.merge(responsiveness_level, left_index = True, right_on = 'fan_id', how = 'inner').merge(activity_level, left_on = 'fan_id', right_index = True, how = 'inner')"
   ]
  },
  {
   "cell_type": "code",
   "execution_count": 56,
   "id": "b157178a",
   "metadata": {},
   "outputs": [
    {
     "data": {
      "text/html": [
       "<div>\n",
       "<style scoped>\n",
       "    .dataframe tbody tr th:only-of-type {\n",
       "        vertical-align: middle;\n",
       "    }\n",
       "\n",
       "    .dataframe tbody tr th {\n",
       "        vertical-align: top;\n",
       "    }\n",
       "\n",
       "    .dataframe thead th {\n",
       "        text-align: right;\n",
       "    }\n",
       "</style>\n",
       "<table border=\"1\" class=\"dataframe\">\n",
       "  <thead>\n",
       "    <tr style=\"text-align: right;\">\n",
       "      <th></th>\n",
       "      <th>size</th>\n",
       "      <th>entered_platform</th>\n",
       "      <th>type</th>\n",
       "      <th>high_outdegree</th>\n",
       "      <th>fan_id</th>\n",
       "      <th>total_rewards</th>\n",
       "      <th>total_actions_received</th>\n",
       "      <th>responsiveness_level</th>\n",
       "      <th>high_responsiveness</th>\n",
       "      <th>activity</th>\n",
       "      <th>high_activity</th>\n",
       "      <th>Type</th>\n",
       "    </tr>\n",
       "  </thead>\n",
       "  <tbody>\n",
       "    <tr>\n",
       "      <th>36521</th>\n",
       "      <td>39.0</td>\n",
       "      <td>2010-07-30 05:55:49</td>\n",
       "      <td>1.0</td>\n",
       "      <td>0</td>\n",
       "      <td>1420383</td>\n",
       "      <td>1.0</td>\n",
       "      <td>1</td>\n",
       "      <td>1.000000</td>\n",
       "      <td>1</td>\n",
       "      <td>4.0</td>\n",
       "      <td>1</td>\n",
       "      <td>hardcore</td>\n",
       "    </tr>\n",
       "    <tr>\n",
       "      <th>73197</th>\n",
       "      <td>48.0</td>\n",
       "      <td>2011-04-17 08:46:39</td>\n",
       "      <td>1.0</td>\n",
       "      <td>0</td>\n",
       "      <td>4229778</td>\n",
       "      <td>1.0</td>\n",
       "      <td>1</td>\n",
       "      <td>1.000000</td>\n",
       "      <td>1</td>\n",
       "      <td>8.0</td>\n",
       "      <td>1</td>\n",
       "      <td>hardcore</td>\n",
       "    </tr>\n",
       "    <tr>\n",
       "      <th>91638</th>\n",
       "      <td>5.0</td>\n",
       "      <td>2011-07-12 09:07:09</td>\n",
       "      <td>1.0</td>\n",
       "      <td>0</td>\n",
       "      <td>5913127</td>\n",
       "      <td>1.0</td>\n",
       "      <td>1</td>\n",
       "      <td>1.000000</td>\n",
       "      <td>1</td>\n",
       "      <td>4.0</td>\n",
       "      <td>1</td>\n",
       "      <td>hardcore</td>\n",
       "    </tr>\n",
       "    <tr>\n",
       "      <th>92057</th>\n",
       "      <td>30.0</td>\n",
       "      <td>2011-07-14 00:23:37</td>\n",
       "      <td>1.0</td>\n",
       "      <td>0</td>\n",
       "      <td>5951590</td>\n",
       "      <td>1.0</td>\n",
       "      <td>1</td>\n",
       "      <td>1.000000</td>\n",
       "      <td>1</td>\n",
       "      <td>6.0</td>\n",
       "      <td>1</td>\n",
       "      <td>hardcore</td>\n",
       "    </tr>\n",
       "    <tr>\n",
       "      <th>94060</th>\n",
       "      <td>13.0</td>\n",
       "      <td>2011-07-22 15:27:09</td>\n",
       "      <td>1.0</td>\n",
       "      <td>0</td>\n",
       "      <td>6145359</td>\n",
       "      <td>2.0</td>\n",
       "      <td>2</td>\n",
       "      <td>1.000000</td>\n",
       "      <td>1</td>\n",
       "      <td>4.0</td>\n",
       "      <td>1</td>\n",
       "      <td>hardcore</td>\n",
       "    </tr>\n",
       "    <tr>\n",
       "      <th>...</th>\n",
       "      <td>...</td>\n",
       "      <td>...</td>\n",
       "      <td>...</td>\n",
       "      <td>...</td>\n",
       "      <td>...</td>\n",
       "      <td>...</td>\n",
       "      <td>...</td>\n",
       "      <td>...</td>\n",
       "      <td>...</td>\n",
       "      <td>...</td>\n",
       "      <td>...</td>\n",
       "      <td>...</td>\n",
       "    </tr>\n",
       "    <tr>\n",
       "      <th>417878</th>\n",
       "      <td>34.0</td>\n",
       "      <td>2014-11-08 07:21:35</td>\n",
       "      <td>1.0</td>\n",
       "      <td>0</td>\n",
       "      <td>121912221</td>\n",
       "      <td>1.0</td>\n",
       "      <td>3</td>\n",
       "      <td>0.333333</td>\n",
       "      <td>1</td>\n",
       "      <td>6.0</td>\n",
       "      <td>1</td>\n",
       "      <td>hardcore</td>\n",
       "    </tr>\n",
       "    <tr>\n",
       "      <th>419716</th>\n",
       "      <td>5.0</td>\n",
       "      <td>2014-12-19 19:01:15</td>\n",
       "      <td>1.0</td>\n",
       "      <td>0</td>\n",
       "      <td>128561534</td>\n",
       "      <td>1.0</td>\n",
       "      <td>1</td>\n",
       "      <td>1.000000</td>\n",
       "      <td>1</td>\n",
       "      <td>4.0</td>\n",
       "      <td>1</td>\n",
       "      <td>hardcore</td>\n",
       "    </tr>\n",
       "    <tr>\n",
       "      <th>420441</th>\n",
       "      <td>25.0</td>\n",
       "      <td>2015-01-07 23:08:08</td>\n",
       "      <td>1.0</td>\n",
       "      <td>0</td>\n",
       "      <td>131861993</td>\n",
       "      <td>1.0</td>\n",
       "      <td>1</td>\n",
       "      <td>1.000000</td>\n",
       "      <td>1</td>\n",
       "      <td>12.0</td>\n",
       "      <td>1</td>\n",
       "      <td>hardcore</td>\n",
       "    </tr>\n",
       "    <tr>\n",
       "      <th>422708</th>\n",
       "      <td>24.0</td>\n",
       "      <td>2015-03-19 15:20:30</td>\n",
       "      <td>1.0</td>\n",
       "      <td>0</td>\n",
       "      <td>144029054</td>\n",
       "      <td>2.0</td>\n",
       "      <td>2</td>\n",
       "      <td>1.000000</td>\n",
       "      <td>1</td>\n",
       "      <td>4.0</td>\n",
       "      <td>1</td>\n",
       "      <td>hardcore</td>\n",
       "    </tr>\n",
       "    <tr>\n",
       "      <th>422968</th>\n",
       "      <td>38.0</td>\n",
       "      <td>2015-03-29 18:45:51</td>\n",
       "      <td>1.0</td>\n",
       "      <td>0</td>\n",
       "      <td>145661940</td>\n",
       "      <td>1.0</td>\n",
       "      <td>1</td>\n",
       "      <td>1.000000</td>\n",
       "      <td>1</td>\n",
       "      <td>5.0</td>\n",
       "      <td>1</td>\n",
       "      <td>hardcore</td>\n",
       "    </tr>\n",
       "  </tbody>\n",
       "</table>\n",
       "<p>63 rows × 12 columns</p>\n",
       "</div>"
      ],
      "text/plain": [
       "        size    entered_platform  type  high_outdegree     fan_id  \\\n",
       "36521   39.0 2010-07-30 05:55:49   1.0               0    1420383   \n",
       "73197   48.0 2011-04-17 08:46:39   1.0               0    4229778   \n",
       "91638    5.0 2011-07-12 09:07:09   1.0               0    5913127   \n",
       "92057   30.0 2011-07-14 00:23:37   1.0               0    5951590   \n",
       "94060   13.0 2011-07-22 15:27:09   1.0               0    6145359   \n",
       "...      ...                 ...   ...             ...        ...   \n",
       "417878  34.0 2014-11-08 07:21:35   1.0               0  121912221   \n",
       "419716   5.0 2014-12-19 19:01:15   1.0               0  128561534   \n",
       "420441  25.0 2015-01-07 23:08:08   1.0               0  131861993   \n",
       "422708  24.0 2015-03-19 15:20:30   1.0               0  144029054   \n",
       "422968  38.0 2015-03-29 18:45:51   1.0               0  145661940   \n",
       "\n",
       "        total_rewards  total_actions_received  responsiveness_level  \\\n",
       "36521             1.0                       1              1.000000   \n",
       "73197             1.0                       1              1.000000   \n",
       "91638             1.0                       1              1.000000   \n",
       "92057             1.0                       1              1.000000   \n",
       "94060             2.0                       2              1.000000   \n",
       "...               ...                     ...                   ...   \n",
       "417878            1.0                       3              0.333333   \n",
       "419716            1.0                       1              1.000000   \n",
       "420441            1.0                       1              1.000000   \n",
       "422708            2.0                       2              1.000000   \n",
       "422968            1.0                       1              1.000000   \n",
       "\n",
       "        high_responsiveness  activity  high_activity      Type  \n",
       "36521                     1       4.0              1  hardcore  \n",
       "73197                     1       8.0              1  hardcore  \n",
       "91638                     1       4.0              1  hardcore  \n",
       "92057                     1       6.0              1  hardcore  \n",
       "94060                     1       4.0              1  hardcore  \n",
       "...                     ...       ...            ...       ...  \n",
       "417878                    1       6.0              1  hardcore  \n",
       "419716                    1       4.0              1  hardcore  \n",
       "420441                    1      12.0              1  hardcore  \n",
       "422708                    1       4.0              1  hardcore  \n",
       "422968                    1       5.0              1  hardcore  \n",
       "\n",
       "[63 rows x 12 columns]"
      ]
     },
     "execution_count": 56,
     "metadata": {},
     "output_type": "execute_result"
    }
   ],
   "source": [
    "table_data.loc[table_data.Type == 'hardcore'].sort_values('entered_platform')"
   ]
  },
  {
   "cell_type": "code",
   "execution_count": null,
   "id": "e00d5bbd",
   "metadata": {},
   "outputs": [],
   "source": []
  }
 ],
 "metadata": {
  "kernelspec": {
   "display_name": "Python 3 (ipykernel)",
   "language": "python",
   "name": "python3"
  },
  "language_info": {
   "codemirror_mode": {
    "name": "ipython",
    "version": 3
   },
   "file_extension": ".py",
   "mimetype": "text/x-python",
   "name": "python",
   "nbconvert_exporter": "python",
   "pygments_lexer": "ipython3",
   "version": "3.8.2"
  }
 },
 "nbformat": 4,
 "nbformat_minor": 5
}
