{
 "cells": [
  {
   "cell_type": "code",
   "execution_count": 1,
   "id": "db0df834",
   "metadata": {},
   "outputs": [],
   "source": [
    "import sys  \n",
    "sys.path.insert(0, '/Users/caiorego/Desktop/BDS/RA/Seeding-Bandits/')\n",
    "import numpy as np\n",
    "path_dir = r\"/Users/../Volumes/Affiliations/\""
   ]
  },
  {
   "cell_type": "code",
   "execution_count": 2,
   "id": "3e7aca64",
   "metadata": {},
   "outputs": [],
   "source": [
    "import sys  \n",
    "sys.path.insert(0, '/Users/caiorego/Desktop/BDS/RA/Seeding-Bandits/')\n",
    "import numpy as np\n",
    "import src.utils\n",
    "from src.utils import import_dta, import_tracks_dta, successful_creators_followers,\\\n",
    "gen_active_relations, get_fan_interactions_per_week, calculate_avg_monthly_valence,\\\n",
    "gen_active_relations_prob, get_fan_interactions_per_week_prob, stripplot_prob,\\\n",
    "reaction_probability, follower_list, filter_quantile, sample_creators_music,\\\n",
    "gen_outbound_creators\n",
    "import datetime\n",
    "from datetime import datetime\n",
    "import pandas as pd\n",
    "import seaborn as sns\n",
    "import matplotlib.pyplot as plt\n",
    "from scipy.stats import mstats\n",
    "pd.plotting.register_matplotlib_converters()\n",
    "import os\n",
    "\n",
    "import src.probability_utils\n",
    "from src.probability_utils import volume_analysis, valence_analysis\n",
    "import math\n",
    "import matplotlib.ticker as plticker\n",
    "from scipy.interpolate import make_interp_spline, BSpline\n",
    "import seaborn as sns\n",
    "from numpy import random\n",
    "from tabulate import tabulate\n",
    "from IPython.display import display\n",
    "from tqdm import tqdm"
   ]
  },
  {
   "cell_type": "code",
   "execution_count": 3,
   "id": "c74bbff6",
   "metadata": {},
   "outputs": [],
   "source": [
    "def process_date(date):\n",
    "    year = date[0:4]\n",
    "    week = date[6:]\n",
    "    day = \"1\"\n",
    "    date = \"{}-{}-1\".format(year, week)\n",
    "    dt = datetime.strptime(date, \"%Y-%W-%w\")\n",
    "    return dt"
   ]
  },
  {
   "cell_type": "code",
   "execution_count": 4,
   "id": "4fbc100a",
   "metadata": {},
   "outputs": [],
   "source": [
    "path_dir = r\"/Users/../Volumes/Raw/\"\n",
    "music_before = 30\n",
    "low_success = 0.25\n",
    "high_success = 0.75"
   ]
  },
  {
   "cell_type": "code",
   "execution_count": 5,
   "id": "f5cc9214",
   "metadata": {},
   "outputs": [
    {
     "name": "stdout",
     "output_type": "stream",
     "text": [
      "%%%%%%%%%% 12sample_tracks.dta %%%%%%%%%%\n",
      "(56262, 7)\n",
      "%%%%%%%%%% 12sample_affiliations_sent.dta %%%%%%%%%%\n",
      "(800913, 3)\n",
      "%%%%%%%%%% 12sample_comments_made.dta %%%%%%%%%%\n",
      "(29258, 4)\n",
      "%%%%%%%%%% 12sample_reposts_made.dta %%%%%%%%%%\n",
      "(179329, 4)\n",
      "%%%%%%%%%% 12sample_favoritings_made.dta %%%%%%%%%%\n",
      "(527701, 4)\n",
      "%%%%%%%%%% 12sample_messages_sent.dta %%%%%%%%%%\n",
      "(11091, 3)\n",
      "%%%%%%%%%% 12sample_user_infos.dta %%%%%%%%%%\n",
      "(35000, 3)\n",
      "%%%%%%%%%% 12sample_1st_deg_user_infos.dta %%%%%%%%%%\n",
      "(670746, 3)\n",
      "%%%%%%%%%% 12sample_affiliations_received.dta %%%%%%%%%%\n",
      "(432503, 3)\n",
      "%%%%%%%%%% 12sample_comments_received.dta %%%%%%%%%%\n",
      "(21386, 4)\n",
      "%%%%%%%%%% 12sample_reposts_received.dta %%%%%%%%%%\n",
      "(83013, 4)\n",
      "%%%%%%%%%% 12sample_favoritings_received.dta %%%%%%%%%%\n",
      "(286903, 4)\n",
      "%%%%%%%%%% 12sample_messages_received.dta %%%%%%%%%%\n",
      "(17364, 3)\n",
      "%%%%%%%%%% 12sample_affiliations.dta %%%%%%%%%%\n",
      "(1233416, 3)\n",
      "%%%%%%%%%% 12sample_comments.dta %%%%%%%%%%\n",
      "(50644, 4)\n",
      "%%%%%%%%%% 12sample_reposts.dta %%%%%%%%%%\n",
      "(262342, 4)\n",
      "%%%%%%%%%% 12sample_favoritings.dta %%%%%%%%%%\n",
      "(814604, 4)\n",
      "%%%%%%%%%% 12sample_messages.dta %%%%%%%%%%\n",
      "(28455, 3)\n",
      "2018-02-03 00:00:00\n",
      "2018-02-03 00:00:00\n",
      "High influencer boundary: 21.0\n",
      "Low influencer boundary: 1.0\n"
     ]
    }
   ],
   "source": [
    "#we will skip comments for now\n",
    "\n",
    "#affiliations :follows\n",
    "#favoritings :likes\n",
    "\n",
    "tracks = import_tracks_dta(path_dir, \"12sample_tracks.dta\");\n",
    "follows_sent = import_dta(path_dir, \"12sample_affiliations_sent.dta\");\n",
    "comments_sent = import_dta(path_dir, \"12sample_comments_made.dta\");\n",
    "shares_sent = import_dta(path_dir, \"12sample_reposts_made.dta\");\n",
    "likes_sent = import_dta(path_dir, \"12sample_favoritings_made.dta\");\n",
    "messages_sent = import_dta(path_dir, \"12sample_messages_sent.dta\");\n",
    "\n",
    "user_info = import_dta(path_dir, \"12sample_user_infos.dta\");\n",
    "user_info_2 = import_dta(path_dir, \"12sample_1st_deg_user_infos.dta\");\n",
    "user_info = pd.concat([user_info, user_info_2]);\n",
    "user_info.drop_duplicates(subset='user_id', keep='first', inplace=True, ignore_index=False);\n",
    "\n",
    "\n",
    "########\n",
    "follows_received = import_dta(path_dir, \"12sample_affiliations_received.dta\");\n",
    "comments_received = import_dta(path_dir, \"12sample_comments_received.dta\");\n",
    "shares_received = import_dta(path_dir, \"12sample_reposts_received.dta\");\n",
    "likes_received = import_dta(path_dir, \"12sample_favoritings_received.dta\");\n",
    "messages_received = import_dta(path_dir, \"12sample_messages_received.dta\");\n",
    "\n",
    "########\n",
    "follows = import_dta(path_dir, \"12sample_affiliations.dta\");\n",
    "comments = import_dta(path_dir, \"12sample_comments.dta\");\n",
    "shares = import_dta(path_dir, \"12sample_reposts.dta\");\n",
    "likes = import_dta(path_dir, \"12sample_favoritings.dta\");\n",
    "messages = import_dta(path_dir, \"12sample_messages.dta\");\n",
    "\n",
    "tracks_first_month = sample_creators_music(tracks, music_before)\n",
    "mask = tracks_first_month.track_available == 1\n",
    "tracks_first_month = tracks_first_month[mask]\n",
    "\n",
    "mask = follows_received.contact_id.isin(tracks_first_month.user_id)\n",
    "follows_received_30 = follows_received[mask]\n",
    "followers_per_creator_60 = successful_creators_followers(follows_received_30, 60, tracks_first_month)\n",
    "followers_per_creator_60_static = successful_creators_followers(follows_received_30, 60, tracks_first_month, always_same_batches = True, \n",
    "                                                        perc1 = low_success, perc2 = high_success)"
   ]
  },
  {
   "cell_type": "code",
   "execution_count": 6,
   "id": "cc9dbd9e",
   "metadata": {},
   "outputs": [],
   "source": [
    "d = {}\n",
    "for i in range(6):\n",
    "   d[str(i)] = pd.read_pickle('/Users/caiorego/Desktop/BDS/RA/Seeding-Bandits/{}.pkl'.format(i)) "
   ]
  },
  {
   "cell_type": "code",
   "execution_count": 7,
   "id": "94c37df0",
   "metadata": {},
   "outputs": [],
   "source": [
    "data = pd.concat([d['0'], d['1'], d['2'], d['3'], d['4'], d['5']])"
   ]
  },
  {
   "cell_type": "code",
   "execution_count": 8,
   "id": "c01fc278",
   "metadata": {},
   "outputs": [],
   "source": [
    "data['created_at'] = pd.to_datetime(data['created_at'])"
   ]
  },
  {
   "cell_type": "code",
   "execution_count": 9,
   "id": "18272915",
   "metadata": {},
   "outputs": [],
   "source": [
    "data.set_index('created_at', inplace = True)"
   ]
  },
  {
   "cell_type": "code",
   "execution_count": 10,
   "id": "b65d9c6a",
   "metadata": {},
   "outputs": [],
   "source": [
    "#outdegree = data.groupby('sender_id').agg(following=('contact_id', pd.Series.nunique))\n",
    "#outdegree_info = user_info_2.merge(outdegree, left_on = 'user_id', right_on = 'sender_id', how= 'left')\n",
    "#outdegree_info.loc[outdegree_info.following.isnull(), 'following'] = 0 "
   ]
  },
  {
   "cell_type": "code",
   "execution_count": 11,
   "id": "83130680",
   "metadata": {},
   "outputs": [],
   "source": [
    "#outdegree_info['decile'] = pd.qcut(outdegree_info['following'], 10, labels=False)"
   ]
  },
  {
   "cell_type": "code",
   "execution_count": 12,
   "id": "d1d03193",
   "metadata": {},
   "outputs": [],
   "source": [
    "#outdegree_info.head(10)"
   ]
  },
  {
   "cell_type": "code",
   "execution_count": 13,
   "id": "d542f9ad",
   "metadata": {},
   "outputs": [],
   "source": [
    "#outdegree_info['decile'].value_counts()"
   ]
  },
  {
   "cell_type": "code",
   "execution_count": 14,
   "id": "8a44878b",
   "metadata": {},
   "outputs": [],
   "source": [
    "actions_sent = gen_outbound_creators(follows_sent, shares_sent, likes_sent, comments_sent, tracks,\n",
    "                                     messages_sent = messages_sent, filter_creators = True)\n",
    "mask = actions_sent.user_id.isin(tracks_first_month.user_id.unique())\n",
    "actions_sent = actions_sent[mask]"
   ]
  },
  {
   "cell_type": "code",
   "execution_count": 15,
   "id": "1f505ab9",
   "metadata": {},
   "outputs": [
    {
     "name": "stdout",
     "output_type": "stream",
     "text": [
      "Obtaining fanbase...\n"
     ]
    }
   ],
   "source": [
    "#filter only outbound activities before the follow is received\n",
    "print('Obtaining fanbase...')\n",
    "follows_received.columns = ['fan_id', 'user_id', 'date_sent']\n",
    "followers = follower_list(follows_received)\n",
    "actions_sent = actions_sent.merge(followers, right_on = ['user_id', 'fan_id'],\n",
    "                                      left_on = ['user_id', 'fan_id'], how = 'left')"
   ]
  },
  {
   "cell_type": "code",
   "execution_count": 16,
   "id": "ee2fb051",
   "metadata": {},
   "outputs": [
    {
     "name": "stderr",
     "output_type": "stream",
     "text": [
      "/var/folders/f2/cgjzt69n5hlgmtsm36p1pztw0000gn/T/ipykernel_7713/3898105865.py:3: SettingWithCopyWarning: \n",
      "A value is trying to be set on a copy of a slice from a DataFrame.\n",
      "Try using .loc[row_indexer,col_indexer] = value instead\n",
      "\n",
      "See the caveats in the documentation: https://pandas.pydata.org/pandas-docs/stable/user_guide/indexing.html#returning-a-view-versus-a-copy\n",
      "  actions_sent_non_followers['week_yr_date'] = actions_sent_non_followers.week_yr.apply(lambda x: process_date(x))\n"
     ]
    }
   ],
   "source": [
    "mask = (actions_sent.date_sent < actions_sent.follower_since) | (actions_sent.follower_since.isnull())\n",
    "actions_sent_non_followers =  actions_sent[mask]\n",
    "actions_sent_non_followers['week_yr_date'] = actions_sent_non_followers.week_yr.apply(lambda x: process_date(x))"
   ]
  },
  {
   "cell_type": "code",
   "execution_count": 17,
   "id": "9476ca2c",
   "metadata": {},
   "outputs": [],
   "source": [
    "#actions_sent_non_followers = actions_sent_non_followers.merge(outdegree_info, left_on = 'fan_id', right_on = 'user_id', how = 'inner')"
   ]
  },
  {
   "cell_type": "code",
   "execution_count": 18,
   "id": "f303f8ab",
   "metadata": {},
   "outputs": [],
   "source": [
    "#actions_sent_non_followers.groupby('decile', as_index = False).size()"
   ]
  },
  {
   "cell_type": "code",
   "execution_count": 19,
   "id": "21a533a0",
   "metadata": {},
   "outputs": [],
   "source": [
    "#import datetime\n",
    "# Target Creation\n",
    "#delta = datetime.timedelta(days = 7)\n",
    "#mask = (actions_sent_non_followers['follower_since'] <(actions_sent_non_followers['date_sent'] + delta))\n",
    "\n",
    "#actions_sent_non_followers.loc[mask, 'reward'] = 1\n",
    "#mask = actions_sent_non_followers['reward'].isnull()\n",
    "#actions_sent_non_followers.loc[mask, 'reward'] = 0"
   ]
  },
  {
   "cell_type": "markdown",
   "id": "b7d0e485",
   "metadata": {},
   "source": [
    "# MAB"
   ]
  },
  {
   "cell_type": "code",
   "execution_count": 20,
   "id": "c39c8fa4",
   "metadata": {},
   "outputs": [],
   "source": [
    "def create_trials_rewards(df):\n",
    "    '''\n",
    "    Creates reward counts, trial counts and keys to be used in the thompson sampling function\n",
    "    '''\n",
    "    Sent = df.groupby('outbound_activity', as_index = True).size().to_frame(name='sent')\\\n",
    "    .reset_index()\n",
    "    Reward = df.groupby('outbound_activity', as_index = True)\\\n",
    "    .agg(b_Reward = ('reward', 'sum')).reset_index()\n",
    "\n",
    "\n",
    "    keys  = Sent.outbound_activity\n",
    "\n",
    "    return np.array(Sent.sent), np.array(Reward.b_Reward), keys"
   ]
  },
  {
   "cell_type": "code",
   "execution_count": 21,
   "id": "092b45f4",
   "metadata": {},
   "outputs": [],
   "source": [
    "def update_1_step(Sent, Reward, N, arms):\n",
    "\n",
    "    B = random.beta(Reward + 1, (Sent-Reward)+1, size = (N,arms))\n",
    "\n",
    "    unique, counts = np.unique(np.argmax(B, axis = 1), return_counts=True)\n",
    "    P_sus = counts/B.shape[0]\n",
    "    \n",
    "    proba = [P_sus[np.where(unique==i)][0] if i in unique.tolist() else 0 for i in range(arms)]\n",
    "\n",
    "    return proba"
   ]
  },
  {
   "cell_type": "code",
   "execution_count": 22,
   "id": "aebc3ad1",
   "metadata": {},
   "outputs": [],
   "source": [
    "def real_time(df, outdegree_df ,N, arms):\n",
    "    dataset = pd.DataFrame({'trials':range(1,df.shape[0]+1), \n",
    "              '1': 0,\n",
    "              '2': 0,\n",
    "              '3': 0,\n",
    "              '4': 0,\n",
    "              '5': 0,\n",
    "              '6': 0,\n",
    "              '7': 0,\n",
    "              '8': 0,\n",
    "              '9': 0,\n",
    "              '10': 0})\n",
    "        \n",
    "    experiment = {'1':{'Sent':0,'Reward':0}, \n",
    "             '2':{'Sent':0,'Reward':0},\n",
    "             '3':{'Sent':0,'Reward':0},\n",
    "             '4':{'Sent':0,'Reward':0},\n",
    "             '5':{'Sent':0,'Reward':0}, \n",
    "             '6':{'Sent':0,'Reward':0},\n",
    "             '7':{'Sent':0,'Reward':0},\n",
    "             '8':{'Sent':0,'Reward':0},\n",
    "             '9':{'Sent':0,'Reward':0},\n",
    "             '10':{'Sent':0,'Reward':0}}\n",
    "\n",
    "    date_l = min(df.date_sent)\n",
    "    old_outdegree = outdegree_df.iloc[:\n",
    "                  outdegree_df.index.values.searchsorted(np.datetime64(date_l))].groupby('sender_id', as_index = False).size()\n",
    "    old_outdegree = user_info_2.merge(old_outdegree, left_on = 'user_id', right_on = 'sender_id', how= 'left')\n",
    "    old_outdegree.loc[old_outdegree['size'].isnull(), 'size'] = 0 \n",
    "    old_outdegree = old_outdegree[['user_id', 'size']].set_index('user_id')\n",
    "    \n",
    "    for i in range(df.shape[0]):\n",
    "        date_h = df.iloc[i,:]['date_sent']\n",
    "        \n",
    "        new_outdegree = outdegree_df.iloc[outdegree_df.index.values.searchsorted(np.datetime64(date_l)):\n",
    "                  outdegree_df.index.values.searchsorted(np.datetime64(date_h))].groupby('sender_id', as_index = False).size()\n",
    "        \n",
    "        old_outdegree = old_outdegree.add(new_outdegree.set_index('sender_id'), fill_value=0)\n",
    "        old_outdegree['decile'] = pd.qcut(old_outdegree['size'], 10, labels=False, duplicates='drop') + 1\n",
    "        old_outdegree['decile'] = old_outdegree[['decile']]    \n",
    "        \n",
    "        experiment[str(int(old_outdegree.iloc[i]['decile']))]['Sent'] += 1\n",
    "        experiment[str(int(old_outdegree.iloc[i]['decile']))]['Reward'] += df.iloc[i, -1]\n",
    "        Sent = np.array([a[1]['Sent'] for a in experiment.items()])\n",
    "        Reward = np.array([a[1]['Reward'] for a in experiment.items()])\n",
    "\n",
    "        dataset.loc[i, ['1', '2', '3', '4', '5', '6', '7', '8', '9', '10']] = np.transpose(update_1_step(Sent, Reward, N, arms)) \n",
    "        date_h = date_l\n",
    "        print('.', end='')\n",
    "        \n",
    "        if i%10 == 0 :\n",
    "            print(old_outdegree.shape)\n",
    "        \n",
    "    return dataset"
   ]
  },
  {
   "cell_type": "code",
   "execution_count": 23,
   "id": "1f97bcdc",
   "metadata": {},
   "outputs": [],
   "source": [
    "def mab_user(df, outdegree_df, N, arms):\n",
    "    data = pd.DataFrame()\n",
    "    for user_id in tqdm(df.user_id.unique()):\n",
    "        res = real_time(df[df.user_id == user_id], outdegree_df, N, arms)\n",
    "        res['user_id'] = user_id\n",
    "        data = pd.concat([data, res])\n",
    "    return data\n",
    "        "
   ]
  },
  {
   "cell_type": "markdown",
   "id": "a64e88a9",
   "metadata": {},
   "source": [
    "# Real time updating"
   ]
  },
  {
   "cell_type": "code",
   "execution_count": 24,
   "id": "4b4d4f73",
   "metadata": {},
   "outputs": [],
   "source": [
    "actions_sent = gen_outbound_creators(follows_sent, shares_sent, likes_sent, comments_sent, tracks,\n",
    "                                     messages_sent = messages_sent, filter_creators = False)"
   ]
  },
  {
   "cell_type": "code",
   "execution_count": 25,
   "id": "efad77ae",
   "metadata": {},
   "outputs": [],
   "source": [
    "mask = actions_sent.user_id.isin(tracks_first_month.user_id) \n",
    "actions_sent = actions_sent[mask]\n",
    "actions_sent_filtered = actions_sent.merge(followers_per_creator_60_static, left_on = 'user_id', right_on = 'user_id', how = \"inner\")"
   ]
  },
  {
   "cell_type": "code",
   "execution_count": 26,
   "id": "3140132a",
   "metadata": {},
   "outputs": [
    {
     "name": "stdout",
     "output_type": "stream",
     "text": [
      "Obtaining fanbase...\n"
     ]
    },
    {
     "name": "stderr",
     "output_type": "stream",
     "text": [
      "/var/folders/f2/cgjzt69n5hlgmtsm36p1pztw0000gn/T/ipykernel_7713/1142436393.py:10: SettingWithCopyWarning: \n",
      "A value is trying to be set on a copy of a slice from a DataFrame.\n",
      "Try using .loc[row_indexer,col_indexer] = value instead\n",
      "\n",
      "See the caveats in the documentation: https://pandas.pydata.org/pandas-docs/stable/user_guide/indexing.html#returning-a-view-versus-a-copy\n",
      "  actions_sent_filtered_non_followers['week_yr_date'] = actions_sent_filtered_non_followers.week_yr.apply(lambda x: process_date(x))\n"
     ]
    }
   ],
   "source": [
    "#filter only outbound activities before the follow is received\n",
    "print('Obtaining fanbase...')\n",
    "follows_received.columns = ['fan_id', 'user_id', 'date_sent']\n",
    "followers = follower_list(follows_received)\n",
    "actions_sent_filtered = actions_sent_filtered.merge(followers, right_on = ['user_id', 'fan_id'],\n",
    "                                      left_on = ['user_id', 'fan_id'], how = 'left')\n",
    "\n",
    "mask = (actions_sent_filtered.date_sent < actions_sent_filtered.follower_since) | (actions_sent_filtered.follower_since.isnull())\n",
    "actions_sent_filtered_non_followers =  actions_sent_filtered[mask]\n",
    "actions_sent_filtered_non_followers['week_yr_date'] = actions_sent_filtered_non_followers.week_yr.apply(lambda x: process_date(x))"
   ]
  },
  {
   "cell_type": "code",
   "execution_count": 27,
   "id": "d32af400",
   "metadata": {},
   "outputs": [
    {
     "name": "stderr",
     "output_type": "stream",
     "text": [
      "/var/folders/f2/cgjzt69n5hlgmtsm36p1pztw0000gn/T/ipykernel_7713/2973940690.py:6: SettingWithCopyWarning: \n",
      "A value is trying to be set on a copy of a slice from a DataFrame.\n",
      "Try using .loc[row_indexer,col_indexer] = value instead\n",
      "\n",
      "See the caveats in the documentation: https://pandas.pydata.org/pandas-docs/stable/user_guide/indexing.html#returning-a-view-versus-a-copy\n",
      "  actions_sent_filtered_non_followers.loc[mask, 'reward'] = 1\n"
     ]
    }
   ],
   "source": [
    "import datetime\n",
    "# Target Creation\n",
    "delta = datetime.timedelta(days = 7)\n",
    "mask = (actions_sent_filtered_non_followers['follower_since'] <(actions_sent_filtered_non_followers['date_sent'] + delta))\n",
    "\n",
    "actions_sent_filtered_non_followers.loc[mask, 'reward'] = 1\n",
    "mask = actions_sent_filtered_non_followers['reward'].isnull()\n",
    "actions_sent_filtered_non_followers.loc[mask, 'reward'] = 0"
   ]
  },
  {
   "cell_type": "code",
   "execution_count": 28,
   "id": "d9008f70",
   "metadata": {},
   "outputs": [],
   "source": [
    "creators = user_info[user_info.type == 'creator'].user_id.unique()\n",
    "users = user_info[user_info.type != 'creator'].user_id.unique()\n",
    "\n",
    "mask = actions_sent_filtered_non_followers.high_low == 'high'\n",
    "successful_df = actions_sent_filtered_non_followers[mask]\n",
    "\n",
    "mask = actions_sent_filtered_non_followers.high_low == 'low'\n",
    "unsuccessful_df = actions_sent_filtered_non_followers[mask]\n",
    "\n",
    "sucessful_df_cre_cre = successful_df[successful_df.fan_id.isin(creators)]\n",
    "sucessful_df_cre_use = successful_df[~successful_df.fan_id.isin(creators)]\n",
    "\n",
    "unsucessful_df_cre_cre = unsuccessful_df[unsuccessful_df.fan_id.isin(creators)]\n",
    "unsucessful_df_cre_use = unsuccessful_df[~unsuccessful_df.fan_id.isin(creators)]"
   ]
  },
  {
   "cell_type": "code",
   "execution_count": 29,
   "id": "67b85401",
   "metadata": {},
   "outputs": [
    {
     "name": "stderr",
     "output_type": "stream",
     "text": [
      "/var/folders/f2/cgjzt69n5hlgmtsm36p1pztw0000gn/T/ipykernel_7713/670285413.py:1: SettingWithCopyWarning: \n",
      "A value is trying to be set on a copy of a slice from a DataFrame\n",
      "\n",
      "See the caveats in the documentation: https://pandas.pydata.org/pandas-docs/stable/user_guide/indexing.html#returning-a-view-versus-a-copy\n",
      "  actions_sent_filtered_non_followers.sort_values(by = 'date_sent', inplace = True)\n"
     ]
    }
   ],
   "source": [
    "actions_sent_filtered_non_followers.sort_values(by = 'date_sent', inplace = True)"
   ]
  },
  {
   "cell_type": "markdown",
   "id": "b8ee8aaa",
   "metadata": {},
   "source": [
    "#to do: change code so each interaction updates a creator's Mab\n",
    "1. class mab? Dict?"
   ]
  },
  {
   "cell_type": "code",
   "execution_count": 30,
   "id": "6268824c",
   "metadata": {},
   "outputs": [],
   "source": [
    "N = 1000\n",
    "arms = 10"
   ]
  },
  {
   "cell_type": "code",
   "execution_count": null,
   "id": "8b90fd81",
   "metadata": {},
   "outputs": [],
   "source": [
    "import pickle\n",
    "from joblib import Parallel, delayed\n",
    "import preprocessing\n",
    "import concurrent.futures\n",
    "from multiprocessing import Pool\n",
    "from itertools import repeat\n",
    "from magic_functions import mab_user_parallel, update_1_step, real_time\n",
    "\n",
    "df = unsucessful_df_cre_cre\n",
    "outdegree_df = data\n",
    "\n",
    "keys = df.user_id.unique()\n",
    "with Pool(processes=2) as pool:\n",
    "    M = pool.starmap(mab_user_parallel, zip(repeat(df), repeat(outdegree_df), keys, repeat(N), repeat(arms),\n",
    "                                            repeat(user_info_2)))"
   ]
  },
  {
   "cell_type": "code",
   "execution_count": null,
   "id": "53474c70",
   "metadata": {},
   "outputs": [],
   "source": [
    "data1 = pd.concat(M)"
   ]
  },
  {
   "cell_type": "code",
   "execution_count": null,
   "id": "44e2b52f",
   "metadata": {},
   "outputs": [],
   "source": []
  }
 ],
 "metadata": {
  "kernelspec": {
   "display_name": "Python 3 (ipykernel)",
   "language": "python",
   "name": "python3"
  },
  "language_info": {
   "codemirror_mode": {
    "name": "ipython",
    "version": 3
   },
   "file_extension": ".py",
   "mimetype": "text/x-python",
   "name": "python",
   "nbconvert_exporter": "python",
   "pygments_lexer": "ipython3",
   "version": "3.8.2"
  }
 },
 "nbformat": 4,
 "nbformat_minor": 5
}
