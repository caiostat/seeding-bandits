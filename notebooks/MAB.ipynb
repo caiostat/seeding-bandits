{
 "cells": [
  {
   "cell_type": "code",
   "execution_count": 1,
   "id": "0997b69c",
   "metadata": {},
   "outputs": [],
   "source": [
    "import sys  \n",
    "sys.path.insert(0, '/Users/caiorego/Desktop/BDS/RA/Seeding-Bandits/')\n",
    "import numpy as np\n",
    "path_dir = r\"/Users/../Volumes/Affiliations/\""
   ]
  },
  {
   "cell_type": "code",
   "execution_count": 23,
   "id": "5e203d8d",
   "metadata": {},
   "outputs": [],
   "source": [
    "import sys  \n",
    "import pickle\n",
    "sys.path.insert(0, '/Users/caiorego/Desktop/BDS/RA/Seeding-Bandits/')\n",
    "import numpy as np\n",
    "import src.utils\n",
    "from src.utils import import_dta, import_tracks_dta, successful_creators_followers,\\\n",
    "gen_active_relations, get_fan_interactions_per_week, calculate_avg_monthly_valence,\\\n",
    "gen_active_relations_prob, get_fan_interactions_per_week_prob, stripplot_prob,\\\n",
    "reaction_probability, follower_list, filter_quantile, sample_creators_music,\\\n",
    "gen_outbound_creators\n",
    "import datetime\n",
    "from datetime import datetime\n",
    "import pandas as pd\n",
    "import seaborn as sns\n",
    "import matplotlib.pyplot as plt\n",
    "from scipy.stats import mstats\n",
    "pd.plotting.register_matplotlib_converters()\n",
    "import os\n",
    "\n",
    "import src.probability_utils\n",
    "from src.probability_utils import volume_analysis, valence_analysis\n",
    "import math\n",
    "import matplotlib.ticker as plticker\n",
    "from scipy.interpolate import make_interp_spline, BSpline\n",
    "import seaborn as sns\n",
    "from numpy import random\n",
    "from tabulate import tabulate\n",
    "from IPython.display import display\n",
    "from tqdm import tqdm"
   ]
  },
  {
   "cell_type": "code",
   "execution_count": 3,
   "id": "18290cf0",
   "metadata": {},
   "outputs": [],
   "source": [
    "def process_date(date):\n",
    "    year = date[0:4]\n",
    "    week = date[6:]\n",
    "    day = \"1\"\n",
    "    date = \"{}-{}-1\".format(year, week)\n",
    "    dt = datetime.strptime(date, \"%Y-%W-%w\")\n",
    "    return dt"
   ]
  },
  {
   "cell_type": "code",
   "execution_count": 4,
   "id": "650f3724",
   "metadata": {},
   "outputs": [],
   "source": [
    "path_dir = r\"/Users/../Volumes/Raw/\"\n",
    "music_before = 30\n",
    "low_success = 0.25\n",
    "high_success = 0.75"
   ]
  },
  {
   "cell_type": "code",
   "execution_count": 5,
   "id": "85bb4272",
   "metadata": {},
   "outputs": [
    {
     "name": "stdout",
     "output_type": "stream",
     "text": [
      "%%%%%%%%%% 12sample_tracks.dta %%%%%%%%%%\n",
      "(56262, 7)\n",
      "%%%%%%%%%% 12sample_affiliations_sent.dta %%%%%%%%%%\n",
      "(800913, 3)\n",
      "%%%%%%%%%% 12sample_comments_made.dta %%%%%%%%%%\n",
      "(29258, 4)\n",
      "%%%%%%%%%% 12sample_reposts_made.dta %%%%%%%%%%\n",
      "(179329, 4)\n",
      "%%%%%%%%%% 12sample_favoritings_made.dta %%%%%%%%%%\n",
      "(527701, 4)\n",
      "%%%%%%%%%% 12sample_messages_sent.dta %%%%%%%%%%\n",
      "(11091, 3)\n",
      "%%%%%%%%%% 12sample_user_infos.dta %%%%%%%%%%\n",
      "(35000, 3)\n",
      "%%%%%%%%%% 12sample_1st_deg_user_infos.dta %%%%%%%%%%\n",
      "(670746, 3)\n",
      "%%%%%%%%%% 12sample_affiliations_received.dta %%%%%%%%%%\n",
      "(432503, 3)\n",
      "%%%%%%%%%% 12sample_comments_received.dta %%%%%%%%%%\n",
      "(21386, 4)\n",
      "%%%%%%%%%% 12sample_reposts_received.dta %%%%%%%%%%\n",
      "(83013, 4)\n",
      "%%%%%%%%%% 12sample_favoritings_received.dta %%%%%%%%%%\n",
      "(286903, 4)\n",
      "%%%%%%%%%% 12sample_messages_received.dta %%%%%%%%%%\n",
      "(17364, 3)\n",
      "%%%%%%%%%% 12sample_affiliations.dta %%%%%%%%%%\n",
      "(1233416, 3)\n",
      "%%%%%%%%%% 12sample_comments.dta %%%%%%%%%%\n",
      "(50644, 4)\n",
      "%%%%%%%%%% 12sample_reposts.dta %%%%%%%%%%\n",
      "(262342, 4)\n",
      "%%%%%%%%%% 12sample_favoritings.dta %%%%%%%%%%\n",
      "(814604, 4)\n",
      "%%%%%%%%%% 12sample_messages.dta %%%%%%%%%%\n",
      "(28455, 3)\n",
      "2018-02-03 00:00:00\n",
      "2018-02-03 00:00:00\n",
      "High influencer boundary: 21.0\n",
      "Low influencer boundary: 1.0\n"
     ]
    }
   ],
   "source": [
    "#we will skip comments for now\n",
    "\n",
    "#affiliations :follows\n",
    "#favoritings :likes\n",
    "\n",
    "tracks = import_tracks_dta(path_dir, \"12sample_tracks.dta\");\n",
    "follows_sent = import_dta(path_dir, \"12sample_affiliations_sent.dta\");\n",
    "comments_sent = import_dta(path_dir, \"12sample_comments_made.dta\");\n",
    "shares_sent = import_dta(path_dir, \"12sample_reposts_made.dta\");\n",
    "likes_sent = import_dta(path_dir, \"12sample_favoritings_made.dta\");\n",
    "messages_sent = import_dta(path_dir, \"12sample_messages_sent.dta\");\n",
    "\n",
    "user_info = import_dta(path_dir, \"12sample_user_infos.dta\");\n",
    "user_info_2 = import_dta(path_dir, \"12sample_1st_deg_user_infos.dta\");\n",
    "user_info = pd.concat([user_info, user_info_2]);\n",
    "user_info.drop_duplicates(subset='user_id', keep='first', inplace=True, ignore_index=False);\n",
    "\n",
    "\n",
    "########\n",
    "follows_received = import_dta(path_dir, \"12sample_affiliations_received.dta\");\n",
    "comments_received = import_dta(path_dir, \"12sample_comments_received.dta\");\n",
    "shares_received = import_dta(path_dir, \"12sample_reposts_received.dta\");\n",
    "likes_received = import_dta(path_dir, \"12sample_favoritings_received.dta\");\n",
    "messages_received = import_dta(path_dir, \"12sample_messages_received.dta\");\n",
    "\n",
    "########\n",
    "follows = import_dta(path_dir, \"12sample_affiliations.dta\");\n",
    "comments = import_dta(path_dir, \"12sample_comments.dta\");\n",
    "shares = import_dta(path_dir, \"12sample_reposts.dta\");\n",
    "likes = import_dta(path_dir, \"12sample_favoritings.dta\");\n",
    "messages = import_dta(path_dir, \"12sample_messages.dta\");\n",
    "\n",
    "tracks_first_month = sample_creators_music(tracks, music_before)\n",
    "mask = tracks_first_month.track_available == 1\n",
    "tracks_first_month = tracks_first_month[mask]\n",
    "\n",
    "mask = follows_received.contact_id.isin(tracks_first_month.user_id)\n",
    "follows_received_30 = follows_received[mask]\n",
    "followers_per_creator_60 = successful_creators_followers(follows_received_30, 60, tracks_first_month)\n",
    "followers_per_creator_60_static = successful_creators_followers(follows_received_30, 60, tracks_first_month, always_same_batches = True, \n",
    "                                                        perc1 = low_success, perc2 = high_success)"
   ]
  },
  {
   "cell_type": "code",
   "execution_count": 6,
   "id": "e01c04b2",
   "metadata": {},
   "outputs": [],
   "source": [
    "d = {}\n",
    "for i in range(6):\n",
    "   d[str(i)] = pd.read_pickle('/Users/caiorego/Desktop/BDS/RA/Seeding-Bandits/{}.pkl'.format(i)) "
   ]
  },
  {
   "cell_type": "code",
   "execution_count": 7,
   "id": "bd862057",
   "metadata": {},
   "outputs": [],
   "source": [
    "data = pd.concat([d['0'], d['1'], d['2'], d['3'], d['4'], d['5']])"
   ]
  },
  {
   "cell_type": "code",
   "execution_count": 8,
   "id": "01e86493",
   "metadata": {},
   "outputs": [],
   "source": [
    "data['created_at'] = pd.to_datetime(data['created_at'])"
   ]
  },
  {
   "cell_type": "code",
   "execution_count": 9,
   "id": "c73c7f9d",
   "metadata": {},
   "outputs": [],
   "source": [
    "data.set_index('created_at', inplace = True)"
   ]
  },
  {
   "cell_type": "code",
   "execution_count": 10,
   "id": "8e275676",
   "metadata": {},
   "outputs": [],
   "source": [
    "#outdegree = data.groupby('sender_id').agg(following=('contact_id', pd.Series.nunique))\n",
    "#outdegree_info = user_info_2.merge(outdegree, left_on = 'user_id', right_on = 'sender_id', how= 'left')\n",
    "#outdegree_info.loc[outdegree_info.following.isnull(), 'following'] = 0 "
   ]
  },
  {
   "cell_type": "code",
   "execution_count": 11,
   "id": "e9785e4a",
   "metadata": {},
   "outputs": [],
   "source": [
    "#outdegree_info['decile'] = pd.qcut(outdegree_info['following'], 10, labels=False)"
   ]
  },
  {
   "cell_type": "code",
   "execution_count": 12,
   "id": "b79d37ba",
   "metadata": {},
   "outputs": [],
   "source": [
    "#outdegree_info.head(10)"
   ]
  },
  {
   "cell_type": "code",
   "execution_count": 13,
   "id": "078276ca",
   "metadata": {},
   "outputs": [],
   "source": [
    "#outdegree_info['decile'].value_counts()"
   ]
  },
  {
   "cell_type": "code",
   "execution_count": 14,
   "id": "21a7b046",
   "metadata": {},
   "outputs": [],
   "source": [
    "actions_sent = gen_outbound_creators(follows_sent, shares_sent, likes_sent, comments_sent, tracks,\n",
    "                                     messages_sent = messages_sent, filter_creators = True)\n",
    "mask = actions_sent.user_id.isin(tracks_first_month.user_id.unique())\n",
    "actions_sent = actions_sent[mask]"
   ]
  },
  {
   "cell_type": "code",
   "execution_count": 15,
   "id": "d76dffaf",
   "metadata": {},
   "outputs": [
    {
     "name": "stdout",
     "output_type": "stream",
     "text": [
      "Obtaining fanbase...\n"
     ]
    }
   ],
   "source": [
    "#filter only outbound activities before the follow is received\n",
    "print('Obtaining fanbase...')\n",
    "follows_received.columns = ['fan_id', 'user_id', 'date_sent']\n",
    "followers = follower_list(follows_received)\n",
    "actions_sent = actions_sent.merge(followers, right_on = ['user_id', 'fan_id'],\n",
    "                                      left_on = ['user_id', 'fan_id'], how = 'left')"
   ]
  },
  {
   "cell_type": "code",
   "execution_count": 16,
   "id": "c23680b3",
   "metadata": {},
   "outputs": [
    {
     "name": "stderr",
     "output_type": "stream",
     "text": [
      "/var/folders/f2/cgjzt69n5hlgmtsm36p1pztw0000gn/T/ipykernel_7980/3898105865.py:3: SettingWithCopyWarning: \n",
      "A value is trying to be set on a copy of a slice from a DataFrame.\n",
      "Try using .loc[row_indexer,col_indexer] = value instead\n",
      "\n",
      "See the caveats in the documentation: https://pandas.pydata.org/pandas-docs/stable/user_guide/indexing.html#returning-a-view-versus-a-copy\n",
      "  actions_sent_non_followers['week_yr_date'] = actions_sent_non_followers.week_yr.apply(lambda x: process_date(x))\n"
     ]
    }
   ],
   "source": [
    "mask = (actions_sent.date_sent < actions_sent.follower_since) | (actions_sent.follower_since.isnull())\n",
    "actions_sent_non_followers =  actions_sent[mask]\n",
    "actions_sent_non_followers['week_yr_date'] = actions_sent_non_followers.week_yr.apply(lambda x: process_date(x))"
   ]
  },
  {
   "cell_type": "code",
   "execution_count": 17,
   "id": "e2259588",
   "metadata": {},
   "outputs": [
    {
     "ename": "NameError",
     "evalue": "name 'outdegree_info' is not defined",
     "output_type": "error",
     "traceback": [
      "\u001b[0;31m---------------------------------------------------------------------------\u001b[0m",
      "\u001b[0;31mNameError\u001b[0m                                 Traceback (most recent call last)",
      "Input \u001b[0;32mIn [17]\u001b[0m, in \u001b[0;36m<cell line: 1>\u001b[0;34m()\u001b[0m\n\u001b[0;32m----> 1\u001b[0m actions_sent_non_followers \u001b[38;5;241m=\u001b[39m actions_sent_non_followers\u001b[38;5;241m.\u001b[39mmerge(\u001b[43moutdegree_info\u001b[49m, left_on \u001b[38;5;241m=\u001b[39m \u001b[38;5;124m'\u001b[39m\u001b[38;5;124mfan_id\u001b[39m\u001b[38;5;124m'\u001b[39m, right_on \u001b[38;5;241m=\u001b[39m \u001b[38;5;124m'\u001b[39m\u001b[38;5;124muser_id\u001b[39m\u001b[38;5;124m'\u001b[39m, how \u001b[38;5;241m=\u001b[39m \u001b[38;5;124m'\u001b[39m\u001b[38;5;124minner\u001b[39m\u001b[38;5;124m'\u001b[39m)\n",
      "\u001b[0;31mNameError\u001b[0m: name 'outdegree_info' is not defined"
     ]
    }
   ],
   "source": [
    "actions_sent_non_followers = actions_sent_non_followers.merge(outdegree_info, left_on = 'fan_id', right_on = 'user_id', how = 'inner')"
   ]
  },
  {
   "cell_type": "code",
   "execution_count": null,
   "id": "0cef54b1",
   "metadata": {},
   "outputs": [],
   "source": [
    "actions_sent_non_followers.groupby('decile', as_index = False).size()"
   ]
  },
  {
   "cell_type": "code",
   "execution_count": null,
   "id": "6aacb5f6",
   "metadata": {},
   "outputs": [],
   "source": [
    "import datetime\n",
    "# Target Creation\n",
    "delta = datetime.timedelta(days = 7)\n",
    "mask = (actions_sent_non_followers['follower_since'] <(actions_sent_non_followers['date_sent'] + delta))\n",
    "\n",
    "actions_sent_non_followers.loc[mask, 'reward'] = 1\n",
    "mask = actions_sent_non_followers['reward'].isnull()\n",
    "actions_sent_non_followers.loc[mask, 'reward'] = 0"
   ]
  },
  {
   "cell_type": "markdown",
   "id": "286344f6",
   "metadata": {},
   "source": [
    "# MAB"
   ]
  },
  {
   "cell_type": "code",
   "execution_count": 18,
   "id": "6c3da8f0",
   "metadata": {},
   "outputs": [],
   "source": [
    "def create_trials_rewards(df):\n",
    "    '''\n",
    "    Creates reward counts, trial counts and keys to be used in the thompson sampling function\n",
    "    '''\n",
    "    Sent = df.groupby('outbound_activity', as_index = True).size().to_frame(name='sent')\\\n",
    "    .reset_index()\n",
    "    Reward = df.groupby('outbound_activity', as_index = True)\\\n",
    "    .agg(b_Reward = ('reward', 'sum')).reset_index()\n",
    "\n",
    "\n",
    "    keys  = Sent.outbound_activity\n",
    "\n",
    "    return np.array(Sent.sent), np.array(Reward.b_Reward), keys"
   ]
  },
  {
   "cell_type": "code",
   "execution_count": 19,
   "id": "b2a79908",
   "metadata": {},
   "outputs": [],
   "source": [
    "def update_1_step(Sent, Reward, N, arms):\n",
    "\n",
    "    B = random.beta(Reward + 1, (Sent-Reward)+1, size = (N,arms))\n",
    "\n",
    "    unique, counts = np.unique(np.argmax(B, axis = 1), return_counts=True)\n",
    "    P_sus = counts/B.shape[0]\n",
    "    \n",
    "    proba = [P_sus[np.where(unique==i)][0] if i in unique.tolist() else 0 for i in range(arms)]\n",
    "\n",
    "    return proba"
   ]
  },
  {
   "cell_type": "code",
   "execution_count": 22,
   "id": "c22e6bca",
   "metadata": {},
   "outputs": [],
   "source": [
    "def real_time(df, outdegree_df ,N, arms):\n",
    "    dataset = pd.DataFrame({'trials':range(1,df.shape[0]+1), \n",
    "              '1': 0,\n",
    "              '2': 0,\n",
    "              '3': 0,\n",
    "              '4': 0,\n",
    "              '5': 0,\n",
    "              '6': 0,\n",
    "              '7': 0,\n",
    "              '8': 0,\n",
    "              '9': 0,\n",
    "              '10': 0})\n",
    "        \n",
    "    experiment = {'1':{'Sent':0,'Reward':0}, \n",
    "             '2':{'Sent':0,'Reward':0},\n",
    "             '3':{'Sent':0,'Reward':0},\n",
    "             '4':{'Sent':0,'Reward':0},\n",
    "             '5':{'Sent':0,'Reward':0}, \n",
    "             '6':{'Sent':0,'Reward':0},\n",
    "             '7':{'Sent':0,'Reward':0},\n",
    "             '8':{'Sent':0,'Reward':0},\n",
    "             '9':{'Sent':0,'Reward':0},\n",
    "             '10':{'Sent':0,'Reward':0}}\n",
    "\n",
    "    date_l = min(df.date_sent)\n",
    "    old_outdegree = outdegree_df.iloc[:\n",
    "                  outdegree_df.index.values.searchsorted(np.datetime64(date_l))].groupby('sender_id', as_index = False).size()\n",
    "    old_outdegree = user_info_2.merge(old_outdegree, left_on = 'user_id', right_on = 'sender_id', how= 'left')\n",
    "    old_outdegree.loc[old_outdegree['size'].isnull(), 'size'] = 0 \n",
    "    old_outdegree = old_outdegree[['user_id', 'size']].set_index('user_id')\n",
    "    \n",
    "    for i in range(df.shape[0]):\n",
    "        date_h = df.iloc[i,:]['date_sent']\n",
    "        \n",
    "        new_outdegree = outdegree_df.iloc[outdegree_df.index.values.searchsorted(np.datetime64(date_l)):\n",
    "                  outdegree_df.index.values.searchsorted(np.datetime64(date_h))].groupby('sender_id', as_index = False).size()\n",
    "        \n",
    "        old_outdegree = old_outdegree.add(new_outdegree.set_index('sender_id'), fill_value=0)\n",
    "        old_outdegree['decile'] = pd.qcut(old_outdegree['size'], 10, labels=False, duplicates='drop') + 1\n",
    "        old_outdegree['decile'] = old_outdegree[['decile']]    \n",
    "        \n",
    "        experiment[str(int(old_outdegree.iloc[i]['decile']))]['Sent'] += 1\n",
    "        experiment[str(int(old_outdegree.iloc[i]['decile']))]['Reward'] += df.iloc[i, -1]\n",
    "        Sent = np.array([a[1]['Sent'] for a in experiment.items()])\n",
    "        Reward = np.array([a[1]['Reward'] for a in experiment.items()])\n",
    "\n",
    "        dataset.loc[i, ['1', '2', '3', '4', '5', '6', '7', '8', '9', '10']] = np.transpose(update_1_step(Sent, Reward, N, arms)) \n",
    "        date_h = date_l\n",
    "        print('.', end='')\n",
    "        \n",
    "    return dataset"
   ]
  },
  {
   "cell_type": "code",
   "execution_count": 24,
   "id": "a0fb88bd",
   "metadata": {},
   "outputs": [],
   "source": [
    "def mab_user(df, outdegree_df, N, arms):\n",
    "    data = pd.DataFrame()\n",
    "    for user_id in tqdm(df.user_id.unique()[:100]):\n",
    "        res = real_time(df[df.user_id == user_id], outdegree_df, N, arms)\n",
    "        res['user_id'] = user_id\n",
    "        data = pd.concat([data, res])\n",
    "    return data\n",
    "        "
   ]
  },
  {
   "cell_type": "markdown",
   "id": "6847f9e4",
   "metadata": {},
   "source": [
    "# Real time updating"
   ]
  },
  {
   "cell_type": "code",
   "execution_count": 25,
   "id": "c3542be0",
   "metadata": {},
   "outputs": [],
   "source": [
    "actions_sent = gen_outbound_creators(follows_sent, shares_sent, likes_sent, comments_sent, tracks,\n",
    "                                     messages_sent = messages_sent, filter_creators = False)"
   ]
  },
  {
   "cell_type": "code",
   "execution_count": 26,
   "id": "733ff52f",
   "metadata": {},
   "outputs": [],
   "source": [
    "mask = actions_sent.user_id.isin(tracks_first_month.user_id) \n",
    "actions_sent = actions_sent[mask]\n",
    "actions_sent_filtered = actions_sent.merge(followers_per_creator_60_static, left_on = 'user_id', right_on = 'user_id', how = \"inner\")"
   ]
  },
  {
   "cell_type": "code",
   "execution_count": 27,
   "id": "d9b1a096",
   "metadata": {},
   "outputs": [
    {
     "name": "stdout",
     "output_type": "stream",
     "text": [
      "Obtaining fanbase...\n"
     ]
    },
    {
     "name": "stderr",
     "output_type": "stream",
     "text": [
      "/var/folders/f2/cgjzt69n5hlgmtsm36p1pztw0000gn/T/ipykernel_7980/1142436393.py:10: SettingWithCopyWarning: \n",
      "A value is trying to be set on a copy of a slice from a DataFrame.\n",
      "Try using .loc[row_indexer,col_indexer] = value instead\n",
      "\n",
      "See the caveats in the documentation: https://pandas.pydata.org/pandas-docs/stable/user_guide/indexing.html#returning-a-view-versus-a-copy\n",
      "  actions_sent_filtered_non_followers['week_yr_date'] = actions_sent_filtered_non_followers.week_yr.apply(lambda x: process_date(x))\n"
     ]
    }
   ],
   "source": [
    "#filter only outbound activities before the follow is received\n",
    "print('Obtaining fanbase...')\n",
    "follows_received.columns = ['fan_id', 'user_id', 'date_sent']\n",
    "followers = follower_list(follows_received)\n",
    "actions_sent_filtered = actions_sent_filtered.merge(followers, right_on = ['user_id', 'fan_id'],\n",
    "                                      left_on = ['user_id', 'fan_id'], how = 'left')\n",
    "\n",
    "mask = (actions_sent_filtered.date_sent < actions_sent_filtered.follower_since) | (actions_sent_filtered.follower_since.isnull())\n",
    "actions_sent_filtered_non_followers =  actions_sent_filtered[mask]\n",
    "actions_sent_filtered_non_followers['week_yr_date'] = actions_sent_filtered_non_followers.week_yr.apply(lambda x: process_date(x))"
   ]
  },
  {
   "cell_type": "code",
   "execution_count": 28,
   "id": "7b318f70",
   "metadata": {},
   "outputs": [
    {
     "name": "stderr",
     "output_type": "stream",
     "text": [
      "/var/folders/f2/cgjzt69n5hlgmtsm36p1pztw0000gn/T/ipykernel_7980/2973940690.py:6: SettingWithCopyWarning: \n",
      "A value is trying to be set on a copy of a slice from a DataFrame.\n",
      "Try using .loc[row_indexer,col_indexer] = value instead\n",
      "\n",
      "See the caveats in the documentation: https://pandas.pydata.org/pandas-docs/stable/user_guide/indexing.html#returning-a-view-versus-a-copy\n",
      "  actions_sent_filtered_non_followers.loc[mask, 'reward'] = 1\n"
     ]
    }
   ],
   "source": [
    "import datetime\n",
    "# Target Creation\n",
    "delta = datetime.timedelta(days = 7)\n",
    "mask = (actions_sent_filtered_non_followers['follower_since'] <(actions_sent_filtered_non_followers['date_sent'] + delta))\n",
    "\n",
    "actions_sent_filtered_non_followers.loc[mask, 'reward'] = 1\n",
    "mask = actions_sent_filtered_non_followers['reward'].isnull()\n",
    "actions_sent_filtered_non_followers.loc[mask, 'reward'] = 0"
   ]
  },
  {
   "cell_type": "code",
   "execution_count": 29,
   "id": "d1e050b2",
   "metadata": {},
   "outputs": [],
   "source": [
    "creators = user_info[user_info.type == 'creator'].user_id.unique()\n",
    "users = user_info[user_info.type != 'creator'].user_id.unique()\n",
    "\n",
    "mask = actions_sent_filtered_non_followers.high_low == 'high'\n",
    "successful_df = actions_sent_filtered_non_followers[mask]\n",
    "\n",
    "mask = actions_sent_filtered_non_followers.high_low == 'low'\n",
    "unsuccessful_df = actions_sent_filtered_non_followers[mask]\n",
    "\n",
    "sucessful_df_cre_cre = successful_df[successful_df.fan_id.isin(creators)]\n",
    "sucessful_df_cre_use = successful_df[~successful_df.fan_id.isin(creators)]\n",
    "\n",
    "unsucessful_df_cre_cre = unsuccessful_df[unsuccessful_df.fan_id.isin(creators)]\n",
    "unsucessful_df_cre_use = unsuccessful_df[~unsuccessful_df.fan_id.isin(creators)]"
   ]
  },
  {
   "cell_type": "code",
   "execution_count": 30,
   "id": "865df07b",
   "metadata": {},
   "outputs": [
    {
     "name": "stderr",
     "output_type": "stream",
     "text": [
      "/var/folders/f2/cgjzt69n5hlgmtsm36p1pztw0000gn/T/ipykernel_7980/670285413.py:1: SettingWithCopyWarning: \n",
      "A value is trying to be set on a copy of a slice from a DataFrame\n",
      "\n",
      "See the caveats in the documentation: https://pandas.pydata.org/pandas-docs/stable/user_guide/indexing.html#returning-a-view-versus-a-copy\n",
      "  actions_sent_filtered_non_followers.sort_values(by = 'date_sent', inplace = True)\n"
     ]
    }
   ],
   "source": [
    "actions_sent_filtered_non_followers.sort_values(by = 'date_sent', inplace = True)"
   ]
  },
  {
   "cell_type": "code",
   "execution_count": 31,
   "id": "17ccf4cb",
   "metadata": {},
   "outputs": [],
   "source": [
    "N = 1000\n",
    "arms = 10"
   ]
  },
  {
   "cell_type": "code",
   "execution_count": 33,
   "id": "f849a0e7",
   "metadata": {},
   "outputs": [
    {
     "name": "stderr",
     "output_type": "stream",
     "text": [
      "\r",
      "  0%|                                                                                                                                               | 0/100 [00:00<?, ?it/s]"
     ]
    },
    {
     "name": "stdout",
     "output_type": "stream",
     "text": [
      ".(670746, 2)\n",
      "..........(670746, 2)\n",
      "..........(670746, 2)\n",
      "..........(670746, 2)\n",
      "..........(670746, 2)\n",
      "..........(670746, 2)\n",
      "..........(670746, 2)\n",
      "..........(670746, 2)\n",
      "..........(670746, 2)\n",
      "..........(670746, 2)\n",
      "."
     ]
    },
    {
     "name": "stderr",
     "output_type": "stream",
     "text": [
      "\r",
      "  1%|█▎                                                                                                                                   | 1/100 [00:37<1:02:24, 37.83s/it]"
     ]
    },
    {
     "name": "stdout",
     "output_type": "stream",
     "text": [
      "..(670746, 2)\n",
      "..........(670746, 2)\n",
      "......"
     ]
    },
    {
     "name": "stderr",
     "output_type": "stream",
     "text": [
      "\r",
      "  2%|██▋                                                                                                                                    | 2/100 [00:40<27:57, 17.11s/it]"
     ]
    },
    {
     "name": "stdout",
     "output_type": "stream",
     "text": [
      "..(670746, 2)\n",
      "..........(670746, 2)\n",
      "..........(670746, 2)\n",
      "...."
     ]
    },
    {
     "name": "stderr",
     "output_type": "stream",
     "text": [
      "\r",
      "  3%|████                                                                                                                                   | 3/100 [00:42<16:30, 10.21s/it]"
     ]
    },
    {
     "name": "stdout",
     "output_type": "stream",
     "text": [
      "...(670746, 2)\n",
      "..........(670746, 2)\n",
      "..........(670746, 2)\n",
      "..........(670746, 2)\n",
      "..........(670746, 2)\n",
      "..........(670746, 2)\n",
      "..........(670746, 2)\n",
      "..........(670746, 2)\n",
      "..........(670746, 2)\n",
      "..........(670746, 2)\n",
      "..........(670746, 2)\n",
      "..........(670746, 2)\n",
      "..........(670746, 2)\n",
      "..........(670746, 2)\n",
      "..........(670746, 2)\n",
      "..........(670746, 2)\n",
      "..........(670746, 2)\n",
      "..........(670746, 2)\n",
      "..........(670746, 2)\n",
      "..........(670746, 2)\n",
      "......."
     ]
    },
    {
     "name": "stderr",
     "output_type": "stream",
     "text": [
      "\r",
      "  4%|█████▎                                                                                                                               | 4/100 [02:23<1:13:27, 45.91s/it]"
     ]
    },
    {
     "name": "stdout",
     "output_type": "stream",
     "text": [
      "..(670746, 2)\n",
      "..........(670746, 2)\n",
      "..........(670746, 2)\n",
      "..........(670746, 2)\n",
      "..........(670746, 2)\n",
      "..........(670746, 2)\n",
      "......."
     ]
    },
    {
     "name": "stderr",
     "output_type": "stream",
     "text": [
      "\r",
      "  5%|██████▊                                                                                                                                | 5/100 [02:37<54:55, 34.69s/it]"
     ]
    },
    {
     "name": "stdout",
     "output_type": "stream",
     "text": [
      "..(670746, 2)\n",
      "..........(670746, 2)\n",
      "........"
     ]
    },
    {
     "name": "stderr",
     "output_type": "stream",
     "text": [
      "\r",
      "  6%|████████                                                                                                                               | 6/100 [03:11<53:52, 34.39s/it]"
     ]
    },
    {
     "name": "stdout",
     "output_type": "stream",
     "text": [
      "..(670746, 2)\n",
      "........."
     ]
    },
    {
     "name": "stderr",
     "output_type": "stream",
     "text": [
      "\r",
      "  7%|█████████▍                                                                                                                             | 7/100 [03:13<36:39, 23.65s/it]"
     ]
    },
    {
     "name": "stdout",
     "output_type": "stream",
     "text": [
      ".(670746, 2)\n",
      "....(670746, 2)\n",
      "..........(670746, 2)\n",
      "..........(670746, 2)\n",
      "..........(670746, 2)\n",
      "..........(670746, 2)\n",
      "..........(670746, 2)\n",
      "..........(670746, 2)\n",
      "..........(670746, 2)\n",
      "..........(670746, 2)\n",
      "..........(670746, 2)\n",
      "..........(670746, 2)\n",
      "..........(670746, 2)\n",
      "..........(670746, 2)\n",
      "..........(670746, 2)\n",
      "..........(670746, 2)\n",
      "..........(670746, 2)\n",
      "..........(670746, 2)\n",
      "..........(670746, 2)\n",
      "..........(670746, 2)\n",
      "...."
     ]
    },
    {
     "name": "stderr",
     "output_type": "stream",
     "text": [
      "\r",
      "  8%|██████████▊                                                                                                                            | 8/100 [03:22<29:14, 19.07s/it]"
     ]
    },
    {
     "name": "stdout",
     "output_type": "stream",
     "text": [
      "......(670746, 2)\n",
      "..........(670746, 2)\n",
      "..........(670746, 2)\n",
      "..........(670746, 2)\n",
      "..........(670746, 2)\n",
      "..........(670746, 2)\n",
      "..........(670746, 2)\n",
      "....."
     ]
    },
    {
     "name": "stderr",
     "output_type": "stream",
     "text": [
      "\r",
      "  9%|████████████▏                                                                                                                          | 9/100 [04:25<49:38, 32.73s/it]"
     ]
    },
    {
     "name": "stdout",
     "output_type": "stream",
     "text": [
      "..(670746, 2)\n",
      "....."
     ]
    },
    {
     "name": "stderr",
     "output_type": "stream",
     "text": [
      "\r",
      " 10%|█████████████▍                                                                                                                        | 10/100 [04:27<34:53, 23.26s/it]"
     ]
    },
    {
     "name": "stdout",
     "output_type": "stream",
     "text": [
      "...(670746, 2)\n",
      "......"
     ]
    },
    {
     "name": "stderr",
     "output_type": "stream",
     "text": [
      "\r",
      " 11%|██████████████▋                                                                                                                       | 11/100 [04:40<29:53, 20.15s/it]"
     ]
    },
    {
     "name": "stdout",
     "output_type": "stream",
     "text": [
      "..(670746, 2)\n",
      "..........(670746, 2)\n",
      "..........(670746, 2)\n",
      "..........(670746, 2)\n",
      "..........(670746, 2)\n",
      "..........(670746, 2)\n",
      "..........(670746, 2)\n",
      "..........(670746, 2)\n",
      "..........(670746, 2)\n",
      "..........(670746, 2)\n",
      "..........(670746, 2)\n",
      "..........(670746, 2)\n",
      "..........(670746, 2)\n",
      "..........(670746, 2)\n",
      "..........(670746, 2)\n",
      "..........(670746, 2)\n",
      "..........(670746, 2)\n"
     ]
    },
    {
     "name": "stderr",
     "output_type": "stream",
     "text": [
      "\r",
      " 12%|███████████████▊                                                                                                                    | 12/100 [06:41<1:14:38, 50.89s/it]"
     ]
    },
    {
     "name": "stdout",
     "output_type": "stream",
     "text": [
      "..(670746, 2)\n",
      "..........(670746, 2)\n",
      "..........(670746, 2)\n",
      "..........(670746, 2)\n",
      "..........(670746, 2)\n",
      "..........(670746, 2)\n",
      "..........(670746, 2)\n",
      "..........(670746, 2)\n",
      "..........(670746, 2)\n",
      "..........(670746, 2)\n",
      "..........(670746, 2)\n",
      "..........(670746, 2)\n",
      "..........(670746, 2)\n",
      "..........(670746, 2)\n",
      "..........(670746, 2)\n",
      "..........(670746, 2)\n",
      "..........(670746, 2)\n",
      "..........(670746, 2)\n",
      "..........(670746, 2)\n",
      "..........(670746, 2)\n",
      "..........(670746, 2)\n",
      "..........(670746, 2)\n",
      "..........(670746, 2)\n",
      "..........(670746, 2)\n",
      "..........(670746, 2)\n",
      "..........(670746, 2)\n",
      "..........(670746, 2)\n",
      "..........(670746, 2)\n",
      "..........(670746, 2)\n",
      "..........(670746, 2)\n",
      "..........(670746, 2)\n",
      "..........(670746, 2)\n",
      "..........(670746, 2)\n",
      "..........(670746, 2)\n",
      "..........(670746, 2)\n",
      "..........(670746, 2)\n",
      "..........(670746, 2)\n",
      "..........(670746, 2)\n",
      "..........(670746, 2)\n",
      "..........(670746, 2)\n",
      "..........(670746, 2)\n",
      "..........(670746, 2)\n",
      "..........(670746, 2)\n",
      "..........(670746, 2)\n",
      "..........(670746, 2)\n",
      "..........(670746, 2)\n",
      "..........(670746, 2)\n",
      "..........(670746, 2)\n",
      "..........(670746, 2)\n",
      "..........(670746, 2)\n",
      "..........(670746, 2)\n",
      "...."
     ]
    },
    {
     "name": "stderr",
     "output_type": "stream",
     "text": [
      "\r",
      " 13%|█████████████████                                                                                                                  | 13/100 [10:57<2:43:58, 113.08s/it]"
     ]
    },
    {
     "name": "stdout",
     "output_type": "stream",
     "text": [
      "..(670746, 2)\n",
      "...."
     ]
    },
    {
     "name": "stderr",
     "output_type": "stream",
     "text": [
      "\r",
      " 14%|██████████████████▍                                                                                                                 | 14/100 [10:59<1:53:39, 79.30s/it]"
     ]
    },
    {
     "name": "stdout",
     "output_type": "stream",
     "text": [
      "....(670746, 2)\n",
      "..........(670746, 2)\n",
      "..........(670746, 2)\n",
      "..........(670746, 2)\n",
      "..........(670746, 2)\n",
      "....."
     ]
    },
    {
     "name": "stderr",
     "output_type": "stream",
     "text": [
      "\r",
      " 15%|███████████████████▊                                                                                                                | 15/100 [11:19<1:27:22, 61.68s/it]"
     ]
    },
    {
     "name": "stdout",
     "output_type": "stream",
     "text": [
      "..(670746, 2)\n",
      "..........(670746, 2)\n",
      "..........(670746, 2)\n",
      "........"
     ]
    },
    {
     "name": "stderr",
     "output_type": "stream",
     "text": [
      "\r",
      " 16%|█████████████████████                                                                                                               | 16/100 [11:22<1:01:38, 44.03s/it]"
     ]
    },
    {
     "name": "stdout",
     "output_type": "stream",
     "text": [
      "..(670746, 2)\n",
      "..........(670746, 2)\n",
      "..........(670746, 2)\n",
      "..........(670746, 2)\n",
      "........"
     ]
    },
    {
     "name": "stderr",
     "output_type": "stream",
     "text": [
      "\r",
      " 17%|██████████████████████▊                                                                                                               | 17/100 [11:49<53:45, 38.86s/it]"
     ]
    },
    {
     "name": "stdout",
     "output_type": "stream",
     "text": [
      "..(670746, 2)\n",
      "..........(670746, 2)\n",
      "..........(670746, 2)\n",
      "..........(670746, 2)\n",
      "..........(670746, 2)\n",
      "..........(670746, 2)\n",
      "..........(670746, 2)\n",
      "..........(670746, 2)\n",
      "..........(670746, 2)\n",
      "."
     ]
    },
    {
     "name": "stderr",
     "output_type": "stream",
     "text": [
      "\r",
      " 18%|████████████████████████                                                                                                              | 18/100 [12:02<42:29, 31.10s/it]"
     ]
    },
    {
     "name": "stdout",
     "output_type": "stream",
     "text": [
      "..(670746, 2)\n",
      "..........(670746, 2)\n",
      "..........(670746, 2)\n",
      "..........(670746, 2)\n",
      "..........(670746, 2)\n",
      "..........(670746, 2)\n",
      "..........(670746, 2)\n",
      "..........(670746, 2)\n",
      "..........(670746, 2)\n",
      "..........(670746, 2)\n",
      "..........(670746, 2)\n",
      "..........(670746, 2)\n",
      "..........(670746, 2)\n",
      "..........(670746, 2)\n",
      "..........(670746, 2)\n",
      "..........(670746, 2)\n",
      "..........(670746, 2)\n",
      "..........(670746, 2)\n",
      "..........(670746, 2)\n",
      "..........(670746, 2)\n",
      "..........(670746, 2)\n",
      "..........(670746, 2)\n",
      "..........(670746, 2)\n",
      "..........(670746, 2)\n",
      "..........(670746, 2)\n",
      "..........(670746, 2)\n",
      "..........(670746, 2)\n",
      "..........(670746, 2)\n",
      "..........(670746, 2)\n",
      "..........(670746, 2)\n",
      "..........(670746, 2)\n",
      "..........(670746, 2)\n",
      "..........(670746, 2)\n",
      "..........(670746, 2)\n",
      "..........(670746, 2)\n",
      "..........(670746, 2)\n",
      "..........(670746, 2)\n",
      "..........(670746, 2)\n",
      "..........(670746, 2)\n",
      "..........(670746, 2)\n",
      "..........(670746, 2)\n",
      "..........(670746, 2)\n",
      "..........(670746, 2)\n",
      "..........(670746, 2)\n",
      "..........(670746, 2)\n",
      "..........(670746, 2)\n",
      "..........(670746, 2)\n",
      "..........(670746, 2)\n",
      "..........(670746, 2)\n",
      "..........(670746, 2)\n",
      "..........(670746, 2)\n",
      "..........(670746, 2)\n",
      "..........(670746, 2)\n",
      "..........(670746, 2)\n",
      "..........(670746, 2)\n",
      "..........(670746, 2)\n",
      "..........(670746, 2)\n",
      "..........(670746, 2)\n",
      "..........(670746, 2)\n",
      "..........(670746, 2)\n",
      "..........(670746, 2)\n",
      "..........(670746, 2)\n",
      "..........(670746, 2)\n",
      "..........(670746, 2)\n",
      "..........(670746, 2)\n",
      "..........(670746, 2)\n",
      "....."
     ]
    },
    {
     "name": "stderr",
     "output_type": "stream",
     "text": [
      "\r",
      " 19%|████████████████████████▏                                                                                                      | 19/100 [1:14:53<25:58:08, 1154.18s/it]"
     ]
    },
    {
     "name": "stdout",
     "output_type": "stream",
     "text": [
      "..(670746, 2)\n",
      "..........(670746, 2)\n",
      "..........(670746, 2)\n",
      "..........(670746, 2)\n",
      "..........(670746, 2)\n",
      "...."
     ]
    },
    {
     "name": "stderr",
     "output_type": "stream",
     "text": [
      "\r",
      " 20%|█████████████████████████▌                                                                                                      | 20/100 [1:16:03<18:25:10, 828.88s/it]"
     ]
    },
    {
     "name": "stdout",
     "output_type": "stream",
     "text": [
      "..(670746, 2)\n",
      "..........(670746, 2)\n",
      "..........(670746, 2)\n",
      "..........(670746, 2)\n",
      "..........(670746, 2)\n",
      "..........(670746, 2)\n",
      "..........(670746, 2)\n",
      "..........(670746, 2)\n",
      "..........(670746, 2)\n",
      "..........(670746, 2)\n",
      "..........(670746, 2)\n",
      "..........(670746, 2)\n",
      "..........(670746, 2)\n",
      "..........(670746, 2)\n",
      "..........(670746, 2)\n",
      "..........(670746, 2)\n",
      "..........(670746, 2)\n",
      "..........(670746, 2)\n",
      "..........(670746, 2)\n",
      "..........(670746, 2)\n",
      "..........(670746, 2)\n",
      "..........(670746, 2)\n",
      "..........(670746, 2)\n",
      "..........(670746, 2)\n",
      "..........(670746, 2)\n",
      "..........(670746, 2)\n",
      "..........(670746, 2)\n",
      "..........(670746, 2)\n",
      "..........(670746, 2)\n",
      "..........(670746, 2)\n",
      "..........(670746, 2)\n",
      "..........(670746, 2)\n",
      "..........(670746, 2)\n",
      "..........(670746, 2)\n",
      "..........(670746, 2)\n",
      "..........(670746, 2)\n",
      "..........(670746, 2)\n",
      "..........(670746, 2)\n",
      "..........(670746, 2)\n",
      "..........(670746, 2)\n",
      "..........(670746, 2)\n",
      "..........(670746, 2)\n",
      "..........(670746, 2)\n",
      "..........(670746, 2)\n",
      "..........(670746, 2)\n",
      "..........(670746, 2)\n",
      "..........(670746, 2)\n",
      "..........(670746, 2)\n",
      "..........(670746, 2)\n",
      "..........(670746, 2)\n",
      "..........(670746, 2)\n",
      "..........(670746, 2)\n",
      "..........(670746, 2)\n",
      "..........(670746, 2)\n",
      "..........(670746, 2)\n",
      "..........(670746, 2)\n",
      "..........(670746, 2)\n",
      "..........(670746, 2)\n",
      "..........(670746, 2)\n",
      "..........(670746, 2)\n",
      "..........(670746, 2)\n",
      "..........(670746, 2)\n",
      "..........(670746, 2)\n",
      "..........(670746, 2)\n",
      "..........(670746, 2)\n",
      "..........(670746, 2)\n",
      "..........(670746, 2)\n",
      "..........(670746, 2)\n",
      "..........(670746, 2)\n",
      "..........(670746, 2)\n",
      "..........(670746, 2)\n",
      "..........(670746, 2)\n",
      "..........(670746, 2)\n",
      "..........(670746, 2)\n",
      "..........(670746, 2)\n",
      "..........(670746, 2)\n",
      "..........(670746, 2)\n",
      "..........(670746, 2)\n",
      "..........(670746, 2)\n",
      "..........(670746, 2)\n",
      "..........(670746, 2)\n",
      "..........(670746, 2)\n",
      "..........(670746, 2)\n",
      "..........(670746, 2)\n",
      "..........(670746, 2)\n",
      "..........(670746, 2)\n",
      "..........(670746, 2)\n",
      "..........(670746, 2)\n",
      "..........(670746, 2)\n",
      "..........(670746, 2)\n",
      "..........(670746, 2)\n",
      "..........(670746, 2)\n",
      "..........(670746, 2)\n",
      "..........(670746, 2)\n",
      "..........(670746, 2)\n",
      "..........(670746, 2)\n",
      "..........(670746, 2)\n",
      "..........(670746, 2)\n",
      "..........(670746, 2)\n",
      "..........(670746, 2)\n",
      "..........(670746, 2)\n",
      "..........(670746, 2)\n",
      "..........(670746, 2)\n",
      "..........(670746, 2)\n",
      "..........(670746, 2)\n",
      "..........(670746, 2)\n",
      "..........(670746, 2)\n",
      "..........(670746, 2)\n",
      "..........(670746, 2)\n",
      "..........(670746, 2)\n",
      "..........(670746, 2)\n",
      "..........(670746, 2)\n",
      "..........(670746, 2)\n",
      "..........(670746, 2)\n",
      "..........(670746, 2)\n",
      "..........(670746, 2)\n",
      "..........(670746, 2)\n",
      "..........(670746, 2)\n",
      "..........(670746, 2)\n",
      "..........(670746, 2)\n",
      "..........(670746, 2)\n",
      "..........(670746, 2)\n",
      "..........(670746, 2)\n",
      "..........(670746, 2)\n",
      "..........(670746, 2)\n",
      "..........(670746, 2)\n",
      "..........(670746, 2)\n",
      "..........(670746, 2)\n",
      "..........(670746, 2)\n",
      "..........(670746, 2)\n",
      "..........(670746, 2)\n",
      "..........(670746, 2)\n",
      "..........(670746, 2)\n",
      "..........(670746, 2)\n",
      "..........(670746, 2)\n",
      "..........(670746, 2)\n",
      "..........(670746, 2)\n",
      "..........(670746, 2)\n",
      "..........(670746, 2)\n",
      "..........(670746, 2)\n",
      "..........(670746, 2)\n",
      "..........(670746, 2)\n",
      "..........(670746, 2)\n",
      "..........(670746, 2)\n",
      "..........(670746, 2)\n",
      "..........(670746, 2)\n",
      "..........(670746, 2)\n",
      "..........(670746, 2)\n",
      "..........(670746, 2)\n",
      "..........(670746, 2)\n",
      "..........(670746, 2)\n",
      "..........(670746, 2)\n",
      "..........(670746, 2)\n",
      "..........(670746, 2)\n",
      "..........(670746, 2)\n",
      "..........(670746, 2)\n",
      "..........(670746, 2)\n",
      "..........(670746, 2)\n",
      "..........(670746, 2)\n",
      "..."
     ]
    },
    {
     "name": "stderr",
     "output_type": "stream",
     "text": [
      "\r",
      " 21%|██████████████████████████▋                                                                                                    | 21/100 [2:09:04<33:40:56, 1534.89s/it]"
     ]
    },
    {
     "name": "stdout",
     "output_type": "stream",
     "text": [
      "..(670746, 2)\n",
      "..........(670746, 2)\n",
      "..........(670746, 2)\n",
      "..........(670746, 2)\n",
      "..........(670746, 2)\n",
      "..........(670746, 2)\n",
      "..........(670746, 2)\n",
      "..........(670746, 2)\n",
      "..........(670746, 2)\n",
      "..........(670746, 2)\n",
      "..........(670746, 2)\n",
      "..........(670746, 2)\n",
      "..........(670746, 2)\n",
      "..........(670746, 2)\n",
      "..........(670746, 2)\n",
      "..........(670746, 2)\n",
      "..........(670746, 2)\n",
      "..........(670746, 2)\n",
      "..........(670746, 2)\n",
      "..........(670746, 2)\n",
      "........."
     ]
    },
    {
     "name": "stderr",
     "output_type": "stream",
     "text": [
      "\r",
      " 22%|███████████████████████████▉                                                                                                   | 22/100 [2:09:45<23:32:13, 1086.33s/it]"
     ]
    },
    {
     "name": "stdout",
     "output_type": "stream",
     "text": [
      ".(670746, 2)\n",
      ".(670746, 2)\n",
      "..........(670746, 2)\n",
      "..........(670746, 2)\n",
      "........."
     ]
    },
    {
     "name": "stderr",
     "output_type": "stream",
     "text": [
      "\r",
      " 23%|█████████████████████████████▍                                                                                                  | 23/100 [2:09:49<16:17:16, 761.51s/it]"
     ]
    },
    {
     "name": "stdout",
     "output_type": "stream",
     "text": [
      ".(670746, 2)\n",
      ".(670746, 2)\n"
     ]
    },
    {
     "name": "stderr",
     "output_type": "stream",
     "text": [
      "\r",
      " 24%|██████████████████████████████▋                                                                                                 | 24/100 [2:09:50<11:15:36, 533.38s/it]"
     ]
    },
    {
     "name": "stdout",
     "output_type": "stream",
     "text": [
      "....(670746, 2)\n",
      "..........(670746, 2)\n",
      "........"
     ]
    },
    {
     "name": "stderr",
     "output_type": "stream",
     "text": [
      "\r",
      " 25%|████████████████████████████████▎                                                                                                | 25/100 [2:10:03<7:51:38, 377.32s/it]"
     ]
    },
    {
     "name": "stdout",
     "output_type": "stream",
     "text": [
      "..(670746, 2)\n",
      "..........(670746, 2)\n",
      "..........(670746, 2)\n",
      "..........(670746, 2)\n",
      "..........(670746, 2)\n",
      "..........(670746, 2)\n",
      "..........(670746, 2)\n",
      "..........(670746, 2)\n",
      "..........(670746, 2)\n",
      "..........(670746, 2)\n",
      "..........(670746, 2)\n",
      "..........(670746, 2)\n",
      "..........(670746, 2)\n",
      "........"
     ]
    },
    {
     "name": "stderr",
     "output_type": "stream",
     "text": [
      "\r",
      " 26%|█████████████████████████████████▌                                                                                               | 26/100 [2:10:29<5:35:18, 271.87s/it]"
     ]
    },
    {
     "name": "stdout",
     "output_type": "stream",
     "text": [
      "..(670746, 2)\n",
      ".(670746, 2)\n",
      "..........(670746, 2)\n",
      "..........(670746, 2)\n",
      "..........(670746, 2)\n",
      "..........(670746, 2)\n",
      "..........(670746, 2)\n",
      "..........(670746, 2)\n",
      "..........(670746, 2)\n"
     ]
    },
    {
     "name": "stderr",
     "output_type": "stream",
     "text": [
      "\r",
      " 27%|██████████████████████████████████▊                                                                                              | 27/100 [2:12:20<4:32:12, 223.73s/it]"
     ]
    },
    {
     "name": "stdout",
     "output_type": "stream",
     "text": [
      "....(670746, 2)\n",
      "......."
     ]
    },
    {
     "name": "stderr",
     "output_type": "stream",
     "text": [
      "\r",
      " 28%|████████████████████████████████████                                                                                             | 28/100 [2:12:23<3:08:50, 157.37s/it]"
     ]
    },
    {
     "name": "stdout",
     "output_type": "stream",
     "text": [
      "...(670746, 2)\n",
      "..........(670746, 2)\n",
      "..........(670746, 2)\n",
      "..........(670746, 2)\n",
      "..........(670746, 2)\n",
      "..........(670746, 2)\n",
      "..........(670746, 2)\n",
      "..........(670746, 2)\n",
      "..........(670746, 2)\n",
      "..........(670746, 2)\n",
      "..........(670746, 2)\n",
      "......."
     ]
    },
    {
     "name": "stderr",
     "output_type": "stream",
     "text": [
      "\r",
      " 29%|█████████████████████████████████████▍                                                                                           | 29/100 [2:14:03<2:45:58, 140.27s/it]"
     ]
    },
    {
     "name": "stdout",
     "output_type": "stream",
     "text": [
      "..(670746, 2)\n",
      "..........(670746, 2)\n",
      "..........(670746, 2)\n",
      "..........(670746, 2)\n",
      "..........(670746, 2)\n",
      "..........(670746, 2)\n",
      "........."
     ]
    },
    {
     "name": "stderr",
     "output_type": "stream",
     "text": [
      "\r",
      " 30%|██████████████████████████████████████▋                                                                                          | 30/100 [2:15:28<2:24:14, 123.64s/it]"
     ]
    },
    {
     "name": "stdout",
     "output_type": "stream",
     "text": [
      ".(670746, 2)\n",
      ".(670746, 2)\n",
      "........."
     ]
    },
    {
     "name": "stderr",
     "output_type": "stream",
     "text": [
      "\r",
      " 31%|████████████████████████████████████████▎                                                                                         | 31/100 [2:15:30<1:40:04, 87.02s/it]"
     ]
    },
    {
     "name": "stdout",
     "output_type": "stream",
     "text": [
      ".(670746, 2)\n",
      ".....(670746, 2)\n",
      "..........(670746, 2)\n",
      "..........(670746, 2)\n",
      "..........(670746, 2)\n",
      "..........(670746, 2)\n",
      "...."
     ]
    },
    {
     "name": "stderr",
     "output_type": "stream",
     "text": [
      "\r",
      " 32%|█████████████████████████████████████████▌                                                                                        | 32/100 [2:15:37<1:11:41, 63.25s/it]"
     ]
    },
    {
     "name": "stdout",
     "output_type": "stream",
     "text": [
      "....(670746, 2)\n",
      "..........(670746, 2)\n",
      "..........(670746, 2)\n",
      ".."
     ]
    },
    {
     "name": "stderr",
     "output_type": "stream",
     "text": [
      "\r",
      " 33%|███████████████████████████████████████████▌                                                                                        | 33/100 [2:15:48<52:59, 47.45s/it]"
     ]
    },
    {
     "name": "stdout",
     "output_type": "stream",
     "text": [
      "..(670746, 2)\n",
      "..........(670746, 2)\n",
      "..........(670746, 2)\n",
      "..........(670746, 2)\n",
      ".."
     ]
    },
    {
     "name": "stderr",
     "output_type": "stream",
     "text": [
      "\r",
      " 34%|████████████████████████████████████████████▉                                                                                       | 34/100 [2:15:58<39:58, 36.35s/it]"
     ]
    },
    {
     "name": "stdout",
     "output_type": "stream",
     "text": [
      "...(670746, 2)\n",
      "..........(670746, 2)\n",
      "..........(670746, 2)\n",
      ".."
     ]
    },
    {
     "name": "stderr",
     "output_type": "stream",
     "text": [
      "\r",
      " 35%|██████████████████████████████████████████████▏                                                                                     | 35/100 [2:16:34<39:09, 36.14s/it]"
     ]
    },
    {
     "name": "stdout",
     "output_type": "stream",
     "text": [
      "...(670746, 2)\n",
      "..........(670746, 2)\n",
      "..........(670746, 2)\n",
      ".."
     ]
    },
    {
     "name": "stderr",
     "output_type": "stream",
     "text": [
      "\r",
      " 36%|███████████████████████████████████████████████▌                                                                                    | 36/100 [2:16:51<32:18, 30.29s/it]"
     ]
    },
    {
     "name": "stdout",
     "output_type": "stream",
     "text": [
      "..(670746, 2)\n",
      "..........(670746, 2)\n",
      "..........(670746, 2)\n",
      "..........(670746, 2)\n",
      "..........(670746, 2)\n",
      "..........(670746, 2)\n",
      "........."
     ]
    },
    {
     "name": "stderr",
     "output_type": "stream",
     "text": [
      "\r",
      " 37%|████████████████████████████████████████████████▊                                                                                   | 37/100 [2:16:59<24:53, 23.71s/it]"
     ]
    },
    {
     "name": "stdout",
     "output_type": "stream",
     "text": [
      ".(670746, 2)\n",
      "..(670746, 2)\n",
      "........."
     ]
    },
    {
     "name": "stderr",
     "output_type": "stream",
     "text": [
      "\r",
      " 38%|██████████████████████████████████████████████████▏                                                                                 | 38/100 [2:17:04<18:47, 18.19s/it]"
     ]
    },
    {
     "name": "stdout",
     "output_type": "stream",
     "text": [
      ".(670746, 2)\n",
      ".(670746, 2)\n",
      "....."
     ]
    },
    {
     "name": "stderr",
     "output_type": "stream",
     "text": [
      "\r",
      " 39%|███████████████████████████████████████████████████▍                                                                                | 39/100 [2:17:06<13:20, 13.13s/it]"
     ]
    },
    {
     "name": "stdout",
     "output_type": "stream",
     "text": [
      "..(670746, 2)\n",
      "..........(670746, 2)\n",
      "..........(670746, 2)\n",
      "..."
     ]
    },
    {
     "name": "stderr",
     "output_type": "stream",
     "text": [
      "\r",
      " 40%|████████████████████████████████████████████████████▊                                                                               | 40/100 [2:17:23<14:24, 14.40s/it]"
     ]
    },
    {
     "name": "stdout",
     "output_type": "stream",
     "text": [
      "..(670746, 2)\n",
      "........."
     ]
    },
    {
     "name": "stderr",
     "output_type": "stream",
     "text": [
      "\r",
      " 41%|██████████████████████████████████████████████████████                                                                              | 41/100 [2:17:24<10:18, 10.48s/it]"
     ]
    },
    {
     "name": "stdout",
     "output_type": "stream",
     "text": [
      ".(670746, 2)\n",
      ".(670746, 2)\n",
      "..........(670746, 2)\n",
      "..........(670746, 2)\n",
      "........."
     ]
    },
    {
     "name": "stderr",
     "output_type": "stream",
     "text": [
      "\r",
      " 42%|███████████████████████████████████████████████████████▍                                                                            | 42/100 [2:17:27<07:53,  8.16s/it]"
     ]
    },
    {
     "name": "stdout",
     "output_type": "stream",
     "text": [
      ".(670746, 2)\n",
      "...(670746, 2)\n",
      "......."
     ]
    },
    {
     "name": "stderr",
     "output_type": "stream",
     "text": [
      "\r",
      " 43%|████████████████████████████████████████████████████████▊                                                                           | 43/100 [2:17:35<07:33,  7.96s/it]"
     ]
    },
    {
     "name": "stdout",
     "output_type": "stream",
     "text": [
      "..(670746, 2)\n",
      "..........(670746, 2)\n",
      "..........(670746, 2)\n",
      "..........(670746, 2)\n",
      "..........(670746, 2)\n",
      "..........(670746, 2)\n",
      "..........(670746, 2)\n",
      "..........(670746, 2)\n"
     ]
    },
    {
     "name": "stderr",
     "output_type": "stream",
     "text": [
      "\r",
      " 44%|█████████████████████████████████████████████████████████▏                                                                        | 44/100 [2:20:53<1:00:43, 65.06s/it]"
     ]
    },
    {
     "name": "stdout",
     "output_type": "stream",
     "text": [
      "..(670746, 2)\n",
      "..........(670746, 2)\n",
      "..........(670746, 2)\n",
      "..........(670746, 2)\n",
      "..........(670746, 2)\n",
      "..........(670746, 2)\n",
      "..........(670746, 2)\n",
      ".."
     ]
    },
    {
     "name": "stderr",
     "output_type": "stream",
     "text": [
      "\r",
      " 45%|███████████████████████████████████████████████████████████▍                                                                        | 45/100 [2:21:47<56:45, 61.91s/it]"
     ]
    },
    {
     "name": "stdout",
     "output_type": "stream",
     "text": [
      "..(670746, 2)\n",
      "..........(670746, 2)\n",
      "..........(670746, 2)\n",
      "..........(670746, 2)\n",
      "..........(670746, 2)\n",
      "..........(670746, 2)\n",
      "..........(670746, 2)\n",
      "..........(670746, 2)\n",
      "..........(670746, 2)\n",
      "..........(670746, 2)\n",
      "..........(670746, 2)\n",
      "..........(670746, 2)\n",
      "..........(670746, 2)\n",
      "..........(670746, 2)\n",
      "....."
     ]
    },
    {
     "name": "stderr",
     "output_type": "stream",
     "text": [
      "\r",
      " 46%|████████████████████████████████████████████████████████████▋                                                                       | 46/100 [2:22:28<49:54, 55.45s/it]"
     ]
    },
    {
     "name": "stdout",
     "output_type": "stream",
     "text": [
      "..(670746, 2)\n",
      "..."
     ]
    },
    {
     "name": "stderr",
     "output_type": "stream",
     "text": [
      "\r",
      " 47%|██████████████████████████████████████████████████████████████                                                                      | 47/100 [2:22:32<35:21, 40.03s/it]"
     ]
    },
    {
     "name": "stdout",
     "output_type": "stream",
     "text": [
      "..(670746, 2)\n",
      "..........(670746, 2)\n",
      "..........(670746, 2)\n",
      "..........(670746, 2)\n",
      "..........(670746, 2)\n",
      "..........(670746, 2)\n",
      "..........(670746, 2)\n",
      "..........(670746, 2)\n",
      "..........(670746, 2)\n",
      "..........(670746, 2)\n",
      "..........(670746, 2)\n",
      "..........(670746, 2)\n",
      "..........(670746, 2)\n",
      "..........(670746, 2)\n",
      "..........(670746, 2)\n",
      "..........(670746, 2)\n",
      "..........(670746, 2)\n",
      "..........(670746, 2)\n",
      "..........(670746, 2)\n",
      "..........(670746, 2)\n",
      "..........(670746, 2)\n",
      "..........(670746, 2)\n",
      "..........(670746, 2)\n",
      "..........(670746, 2)\n",
      "..........(670746, 2)\n",
      "..........(670746, 2)\n",
      "..........(670746, 2)\n",
      "..........(670746, 2)\n",
      "..........(670746, 2)\n",
      "..........(670746, 2)\n",
      "..........(670746, 2)\n",
      "..........(670746, 2)\n",
      "..........(670746, 2)\n",
      "..........(670746, 2)\n",
      "..........(670746, 2)\n",
      "..........(670746, 2)\n",
      "..........(670746, 2)\n",
      "..........(670746, 2)\n",
      "..........(670746, 2)\n",
      "..........(670746, 2)\n",
      "..........(670746, 2)\n",
      "........"
     ]
    },
    {
     "name": "stderr",
     "output_type": "stream",
     "text": [
      "\r",
      " 48%|█████████████████████████████████████████████████████████████▉                                                                   | 48/100 [2:35:09<3:41:01, 255.02s/it]"
     ]
    },
    {
     "name": "stdout",
     "output_type": "stream",
     "text": [
      "..(670746, 2)\n",
      ".."
     ]
    },
    {
     "name": "stderr",
     "output_type": "stream",
     "text": [
      "\r",
      " 49%|███████████████████████████████████████████████████████████████▏                                                                 | 49/100 [2:35:10<2:32:13, 179.09s/it]"
     ]
    },
    {
     "name": "stdout",
     "output_type": "stream",
     "text": [
      "..(670746, 2)\n",
      "..........(670746, 2)\n",
      "..........(670746, 2)\n",
      "..........(670746, 2)\n",
      "."
     ]
    },
    {
     "name": "stderr",
     "output_type": "stream",
     "text": [
      "\r",
      " 50%|████████████████████████████████████████████████████████████████▌                                                                | 50/100 [2:35:19<1:46:40, 128.02s/it]"
     ]
    },
    {
     "name": "stdout",
     "output_type": "stream",
     "text": [
      "..(670746, 2)\n",
      "..........(670746, 2)\n",
      "..........(670746, 2)\n",
      "..........(670746, 2)\n",
      "........."
     ]
    },
    {
     "name": "stderr",
     "output_type": "stream",
     "text": [
      "\r",
      " 51%|██████████████████████████████████████████████████████████████████▎                                                               | 51/100 [2:35:22<1:13:49, 90.40s/it]"
     ]
    },
    {
     "name": "stdout",
     "output_type": "stream",
     "text": [
      ".(670746, 2)\n",
      "...(670746, 2)\n",
      "..........(670746, 2)\n",
      "..........(670746, 2)\n",
      "..........(670746, 2)\n",
      "..........(670746, 2)\n",
      "..........(670746, 2)\n",
      "..........(670746, 2)\n",
      "..........(670746, 2)\n",
      "..........(670746, 2)\n",
      "..........(670746, 2)\n",
      "..........(670746, 2)\n",
      "........"
     ]
    },
    {
     "name": "stderr",
     "output_type": "stream",
     "text": [
      "\r",
      " 52%|████████████████████████████████████████████████████████████████████▋                                                               | 52/100 [2:35:38<54:33, 68.19s/it]"
     ]
    },
    {
     "name": "stdout",
     "output_type": "stream",
     "text": [
      "..(670746, 2)\n",
      "..........(670746, 2)\n",
      "..........(670746, 2)\n",
      "......"
     ]
    },
    {
     "name": "stderr",
     "output_type": "stream",
     "text": [
      "\r",
      " 53%|█████████████████████████████████████████████████████████████████████▉                                                              | 53/100 [2:35:54<40:58, 52.32s/it]"
     ]
    },
    {
     "name": "stdout",
     "output_type": "stream",
     "text": [
      "..(670746, 2)\n",
      "..........(670746, 2)\n",
      "..........(670746, 2)\n",
      "...."
     ]
    },
    {
     "name": "stderr",
     "output_type": "stream",
     "text": [
      "\r",
      " 54%|███████████████████████████████████████████████████████████████████████▎                                                            | 54/100 [2:35:58<29:08, 38.01s/it]"
     ]
    },
    {
     "name": "stdout",
     "output_type": "stream",
     "text": [
      "..(670746, 2)\n",
      "..........(670746, 2)\n",
      "..........(670746, 2)\n",
      "..........(670746, 2)\n",
      "..........(670746, 2)\n",
      "..........(670746, 2)\n",
      "..........(670746, 2)\n",
      "..........(670746, 2)\n",
      "..........(670746, 2)\n",
      "........."
     ]
    },
    {
     "name": "stderr",
     "output_type": "stream",
     "text": [
      "\r",
      " 55%|████████████████████████████████████████████████████████████████████████▌                                                           | 55/100 [2:36:10<22:34, 30.09s/it]"
     ]
    },
    {
     "name": "stdout",
     "output_type": "stream",
     "text": [
      ".(670746, 2)\n",
      ".(670746, 2)\n",
      "..........(670746, 2)\n",
      "..........(670746, 2)\n",
      "..........(670746, 2)\n",
      "..........(670746, 2)\n",
      "..........(670746, 2)\n",
      "..........(670746, 2)\n",
      "..........(670746, 2)\n",
      "..........(670746, 2)\n",
      "..........(670746, 2)\n",
      "...."
     ]
    },
    {
     "name": "stderr",
     "output_type": "stream",
     "text": [
      "\r",
      " 56%|█████████████████████████████████████████████████████████████████████████▉                                                          | 56/100 [2:36:39<21:49, 29.76s/it]"
     ]
    },
    {
     "name": "stdout",
     "output_type": "stream",
     "text": [
      "..(670746, 2)\n",
      "......"
     ]
    },
    {
     "name": "stderr",
     "output_type": "stream",
     "text": [
      "\r",
      " 57%|███████████████████████████████████████████████████████████████████████████▏                                                        | 57/100 [2:36:41<15:25, 21.53s/it]"
     ]
    },
    {
     "name": "stdout",
     "output_type": "stream",
     "text": [
      "..(670746, 2)\n",
      "..........(670746, 2)\n",
      "..........(670746, 2)\n",
      "..........(670746, 2)\n",
      "..........(670746, 2)\n",
      "..........(670746, 2)\n",
      "..........(670746, 2)\n",
      "..........(670746, 2)\n",
      "..........(670746, 2)\n",
      "..........(670746, 2)\n",
      "..........(670746, 2)\n",
      "..........(670746, 2)\n",
      "..........(670746, 2)\n",
      "..........(670746, 2)\n",
      "..........(670746, 2)\n",
      "..........(670746, 2)\n",
      "..........(670746, 2)\n",
      "..........(670746, 2)\n",
      "..........(670746, 2)\n",
      "..........(670746, 2)\n",
      "..........(670746, 2)\n",
      "..........(670746, 2)\n",
      "..........(670746, 2)\n",
      "..........(670746, 2)\n",
      "..........(670746, 2)\n",
      "..........(670746, 2)\n",
      "..........(670746, 2)\n",
      "..........(670746, 2)\n",
      "..........(670746, 2)\n",
      "..........(670746, 2)\n",
      "..........(670746, 2)\n",
      "..........(670746, 2)\n",
      "..........(670746, 2)\n",
      "..........(670746, 2)\n",
      "..........(670746, 2)\n",
      "..........(670746, 2)\n",
      "..........(670746, 2)\n",
      "......."
     ]
    },
    {
     "name": "stderr",
     "output_type": "stream",
     "text": [
      "\r",
      " 58%|████████████████████████████████████████████████████████████████████████████▌                                                       | 58/100 [2:37:56<26:19, 37.61s/it]"
     ]
    },
    {
     "name": "stdout",
     "output_type": "stream",
     "text": [
      "...(670746, 2)\n",
      "..........(670746, 2)\n",
      "..........(670746, 2)\n",
      "..........(670746, 2)\n",
      "..........(670746, 2)\n",
      "..........(670746, 2)\n"
     ]
    },
    {
     "name": "stderr",
     "output_type": "stream",
     "text": [
      "\r",
      " 59%|█████████████████████████████████████████████████████████████████████████████▉                                                      | 59/100 [2:38:14<21:32, 31.52s/it]"
     ]
    },
    {
     "name": "stdout",
     "output_type": "stream",
     "text": [
      "..(670746, 2)\n",
      "..."
     ]
    },
    {
     "name": "stderr",
     "output_type": "stream",
     "text": [
      "\r",
      " 60%|███████████████████████████████████████████████████████████████████████████████▏                                                    | 60/100 [2:38:18<15:33, 23.34s/it]"
     ]
    },
    {
     "name": "stdout",
     "output_type": "stream",
     "text": [
      "...(670746, 2)\n",
      "..........(670746, 2)\n",
      "..........(670746, 2)\n",
      "....."
     ]
    },
    {
     "name": "stderr",
     "output_type": "stream",
     "text": [
      "\r",
      " 61%|████████████████████████████████████████████████████████████████████████████████▌                                                   | 61/100 [2:38:30<13:04, 20.11s/it]"
     ]
    },
    {
     "name": "stdout",
     "output_type": "stream",
     "text": [
      "..(670746, 2)\n",
      "..........(670746, 2)\n",
      "..........(670746, 2)\n",
      "......."
     ]
    },
    {
     "name": "stderr",
     "output_type": "stream",
     "text": [
      "\r",
      " 62%|█████████████████████████████████████████████████████████████████████████████████▊                                                  | 62/100 [2:39:17<17:47, 28.10s/it]"
     ]
    },
    {
     "name": "stdout",
     "output_type": "stream",
     "text": [
      "."
     ]
    },
    {
     "name": "stderr",
     "output_type": "stream",
     "text": [
      "\r",
      " 63%|███████████████████████████████████████████████████████████████████████████████████▏                                                | 63/100 [2:39:18<12:16, 19.91s/it]"
     ]
    },
    {
     "name": "stdout",
     "output_type": "stream",
     "text": [
      ".(670746, 2)\n",
      ".(670746, 2)\n"
     ]
    },
    {
     "name": "stderr",
     "output_type": "stream",
     "text": [
      "\r",
      " 64%|████████████████████████████████████████████████████████████████████████████████████▍                                               | 64/100 [2:39:20<08:40, 14.47s/it]"
     ]
    },
    {
     "name": "stdout",
     "output_type": "stream",
     "text": [
      "..(670746, 2)\n",
      "..........(670746, 2)\n",
      "..........(670746, 2)\n",
      "........"
     ]
    },
    {
     "name": "stderr",
     "output_type": "stream",
     "text": [
      "\r",
      " 65%|█████████████████████████████████████████████████████████████████████████████████████▊                                              | 65/100 [2:39:26<07:02, 12.07s/it]"
     ]
    },
    {
     "name": "stdout",
     "output_type": "stream",
     "text": [
      "..(670746, 2)\n",
      "..........(670746, 2)\n",
      "..........(670746, 2)\n",
      "..........(670746, 2)\n",
      "..........(670746, 2)\n",
      "..........(670746, 2)\n",
      "..........(670746, 2)\n",
      "..........(670746, 2)\n",
      "...."
     ]
    },
    {
     "name": "stderr",
     "output_type": "stream",
     "text": [
      "\r",
      " 66%|███████████████████████████████████████████████████████████████████████████████████████                                             | 66/100 [2:39:34<06:03, 10.69s/it]"
     ]
    },
    {
     "name": "stdout",
     "output_type": "stream",
     "text": [
      "..(670746, 2)\n",
      "....."
     ]
    },
    {
     "name": "stderr",
     "output_type": "stream",
     "text": [
      "\r",
      " 67%|████████████████████████████████████████████████████████████████████████████████████████▍                                           | 67/100 [2:39:35<04:16,  7.78s/it]"
     ]
    },
    {
     "name": "stdout",
     "output_type": "stream",
     "text": [
      ".(670746, 2)\n",
      "..........(670746, 2)\n",
      "..........(670746, 2)\n",
      "..........(670746, 2)\n",
      "..........(670746, 2)\n",
      "..........(670746, 2)\n",
      "..........(670746, 2)\n",
      "..........(670746, 2)\n",
      "..........(670746, 2)\n",
      "..........(670746, 2)\n",
      "..........(670746, 2)\n",
      "..........(670746, 2)\n",
      "..........(670746, 2)\n",
      "..........(670746, 2)\n",
      "..........(670746, 2)\n",
      "..........(670746, 2)\n",
      "..........(670746, 2)\n",
      "..........(670746, 2)\n",
      "..........(670746, 2)\n",
      "..........(670746, 2)\n",
      "..........(670746, 2)\n",
      "..........(670746, 2)\n",
      "..........(670746, 2)\n",
      "..........(670746, 2)\n",
      "..........(670746, 2)\n",
      "..........(670746, 2)\n",
      "..........(670746, 2)\n",
      "..........(670746, 2)\n",
      "..........(670746, 2)\n",
      "..........(670746, 2)\n",
      "..........(670746, 2)\n",
      "....."
     ]
    },
    {
     "name": "stderr",
     "output_type": "stream",
     "text": [
      "\r",
      " 68%|█████████████████████████████████████████████████████████████████████████████████████████▊                                          | 68/100 [2:44:39<51:32, 96.65s/it]"
     ]
    },
    {
     "name": "stdout",
     "output_type": "stream",
     "text": [
      "..(670746, 2)\n",
      "..........(670746, 2)\n",
      "..........(670746, 2)\n",
      "..........(670746, 2)\n",
      "..........(670746, 2)\n",
      "..........(670746, 2)\n",
      "..........(670746, 2)\n",
      "..........(670746, 2)\n",
      "..........(670746, 2)\n",
      "..........(670746, 2)\n",
      "..........(670746, 2)\n",
      "."
     ]
    },
    {
     "name": "stderr",
     "output_type": "stream",
     "text": [
      "\r",
      " 69%|██████████████████████████████████████████████████████████████████████████████████████████▍                                        | 69/100 [2:46:33<52:44, 102.09s/it]"
     ]
    },
    {
     "name": "stdout",
     "output_type": "stream",
     "text": [
      "..(670746, 2)\n",
      "..........(670746, 2)\n",
      "..........(670746, 2)\n",
      "..........(670746, 2)\n",
      "..........(670746, 2)\n",
      "..........(670746, 2)\n",
      "..........(670746, 2)\n",
      "."
     ]
    },
    {
     "name": "stderr",
     "output_type": "stream",
     "text": [
      "\r",
      " 70%|████████████████████████████████████████████████████████████████████████████████████████████▍                                       | 70/100 [2:46:45<37:30, 75.02s/it]"
     ]
    },
    {
     "name": "stdout",
     "output_type": "stream",
     "text": [
      "..(670746, 2)\n",
      "..........(670746, 2)\n",
      "..........(670746, 2)\n",
      "...."
     ]
    },
    {
     "name": "stderr",
     "output_type": "stream",
     "text": [
      "\r",
      " 71%|█████████████████████████████████████████████████████████████████████████████████████████████▋                                      | 71/100 [2:46:48<25:48, 53.39s/it]"
     ]
    },
    {
     "name": "stdout",
     "output_type": "stream",
     "text": [
      "..(670746, 2)\n",
      "..........(670746, 2)\n",
      "..........(670746, 2)\n",
      "..........(670746, 2)\n",
      "..........(670746, 2)\n",
      "..........(670746, 2)\n",
      "..........(670746, 2)\n",
      "..."
     ]
    },
    {
     "name": "stderr",
     "output_type": "stream",
     "text": [
      "\r",
      " 72%|███████████████████████████████████████████████████████████████████████████████████████████████                                     | 72/100 [2:47:11<20:37, 44.21s/it]"
     ]
    },
    {
     "name": "stdout",
     "output_type": "stream",
     "text": [
      "...(670746, 2)\n",
      "..........(670746, 2)\n",
      "..........(670746, 2)\n",
      "..........(670746, 2)\n",
      "..........(670746, 2)\n",
      "..........(670746, 2)\n",
      "..........(670746, 2)\n",
      "..........(670746, 2)\n",
      "..........(670746, 2)\n",
      "..........(670746, 2)\n",
      "..........(670746, 2)\n",
      "..........(670746, 2)\n",
      "..........(670746, 2)\n",
      "..........(670746, 2)\n",
      "..........(670746, 2)\n",
      "..........(670746, 2)\n",
      "..........(670746, 2)\n",
      "..........(670746, 2)\n",
      "..........(670746, 2)\n",
      "..........(670746, 2)\n"
     ]
    },
    {
     "name": "stderr",
     "output_type": "stream",
     "text": [
      "\r",
      " 73%|████████████████████████████████████████████████████████████████████████████████████████████████▎                                   | 73/100 [2:47:25<15:50, 35.22s/it]"
     ]
    },
    {
     "name": "stdout",
     "output_type": "stream",
     "text": [
      "....(670746, 2)\n",
      "..........(670746, 2)\n",
      "..........(670746, 2)\n",
      "..........(670746, 2)\n",
      "..........(670746, 2)\n",
      "..........(670746, 2)\n",
      "..........(670746, 2)\n",
      "..........(670746, 2)\n",
      "..........(670746, 2)\n",
      "..........(670746, 2)\n",
      "..........(670746, 2)\n",
      "..........(670746, 2)\n",
      "..........(670746, 2)\n",
      "..........(670746, 2)\n",
      "..........(670746, 2)\n",
      "....."
     ]
    },
    {
     "name": "stderr",
     "output_type": "stream",
     "text": [
      "\r",
      " 74%|█████████████████████████████████████████████████████████████████████████████████████████████████▋                                  | 74/100 [2:48:01<15:19, 35.38s/it]"
     ]
    },
    {
     "name": "stdout",
     "output_type": "stream",
     "text": [
      "..(670746, 2)\n",
      "..........(670746, 2)\n",
      "..........(670746, 2)\n",
      "..........(670746, 2)\n",
      "..........(670746, 2)\n",
      "..........(670746, 2)\n",
      "..........(670746, 2)\n",
      "..........(670746, 2)\n",
      "."
     ]
    },
    {
     "name": "stderr",
     "output_type": "stream",
     "text": [
      "\r",
      " 75%|███████████████████████████████████████████████████████████████████████████████████████████████████                                 | 75/100 [2:48:29<13:48, 33.16s/it]"
     ]
    },
    {
     "name": "stdout",
     "output_type": "stream",
     "text": [
      "...(670746, 2)\n",
      "..........(670746, 2)\n",
      "..........(670746, 2)\n",
      "..........(670746, 2)\n",
      "..........(670746, 2)\n",
      "..........(670746, 2)\n",
      "..........(670746, 2)\n",
      "..........(670746, 2)\n",
      ".."
     ]
    },
    {
     "name": "stderr",
     "output_type": "stream",
     "text": [
      "\r",
      " 76%|████████████████████████████████████████████████████████████████████████████████████████████████████▎                               | 76/100 [2:49:00<12:57, 32.41s/it]"
     ]
    },
    {
     "name": "stdout",
     "output_type": "stream",
     "text": [
      "..(670746, 2)\n",
      "..........(670746, 2)\n",
      "..........(670746, 2)\n",
      "..........(670746, 2)\n",
      "..."
     ]
    },
    {
     "name": "stderr",
     "output_type": "stream",
     "text": [
      "\r",
      " 77%|█████████████████████████████████████████████████████████████████████████████████████████████████████▋                              | 77/100 [2:49:42<13:36, 35.50s/it]"
     ]
    },
    {
     "name": "stdout",
     "output_type": "stream",
     "text": [
      "...(670746, 2)\n",
      "..........(670746, 2)\n",
      "..........(670746, 2)\n",
      "..........(670746, 2)\n",
      "..........(670746, 2)\n",
      "..........(670746, 2)\n",
      "..........(670746, 2)\n",
      "..........(670746, 2)\n",
      "..........(670746, 2)\n",
      "..........(670746, 2)\n",
      "..........(670746, 2)\n",
      "...."
     ]
    },
    {
     "name": "stderr",
     "output_type": "stream",
     "text": [
      "\r",
      " 78%|██████████████████████████████████████████████████████████████████████████████████████████████████████▉                             | 78/100 [2:49:48<09:45, 26.60s/it]"
     ]
    },
    {
     "name": "stdout",
     "output_type": "stream",
     "text": [
      "......(670746, 2)\n",
      "..........(670746, 2)\n",
      "..........(670746, 2)\n",
      "..........(670746, 2)\n",
      "..........(670746, 2)\n",
      "..........(670746, 2)\n",
      "..........(670746, 2)\n",
      "..........(670746, 2)\n",
      "..........(670746, 2)\n",
      "..........(670746, 2)\n",
      "..........(670746, 2)\n"
     ]
    },
    {
     "name": "stderr",
     "output_type": "stream",
     "text": [
      "\r",
      " 79%|████████████████████████████████████████████████████████████████████████████████████████████████████████▎                           | 79/100 [2:50:51<13:08, 37.54s/it]"
     ]
    },
    {
     "name": "stdout",
     "output_type": "stream",
     "text": [
      "..(670746, 2)\n",
      ".."
     ]
    },
    {
     "name": "stderr",
     "output_type": "stream",
     "text": [
      "\r",
      " 80%|█████████████████████████████████████████████████████████████████████████████████████████████████████████▌                          | 80/100 [2:50:52<08:53, 26.65s/it]"
     ]
    },
    {
     "name": "stdout",
     "output_type": "stream",
     "text": [
      ".."
     ]
    },
    {
     "name": "stderr",
     "output_type": "stream",
     "text": [
      "\r",
      " 81%|██████████████████████████████████████████████████████████████████████████████████████████████████████████▉                         | 81/100 [2:50:53<05:59, 18.92s/it]"
     ]
    },
    {
     "name": "stdout",
     "output_type": "stream",
     "text": [
      ".(670746, 2)\n",
      ".(670746, 2)\n",
      "..........(670746, 2)\n",
      "...."
     ]
    },
    {
     "name": "stderr",
     "output_type": "stream",
     "text": [
      "\r",
      " 82%|████████████████████████████████████████████████████████████████████████████████████████████████████████████▏                       | 82/100 [2:51:08<05:15, 17.52s/it]"
     ]
    },
    {
     "name": "stdout",
     "output_type": "stream",
     "text": [
      "..(670746, 2)\n",
      "..........(670746, 2)\n",
      "..........(670746, 2)\n",
      "..........(670746, 2)\n",
      "...."
     ]
    },
    {
     "name": "stderr",
     "output_type": "stream",
     "text": [
      "\r",
      " 83%|█████████████████████████████████████████████████████████████████████████████████████████████████████████████▌                      | 83/100 [2:51:17<04:14, 14.98s/it]"
     ]
    },
    {
     "name": "stdout",
     "output_type": "stream",
     "text": [
      "..(670746, 2)\n",
      "..........(670746, 2)\n",
      "....."
     ]
    },
    {
     "name": "stderr",
     "output_type": "stream",
     "text": [
      "\r",
      " 84%|██████████████████████████████████████████████████████████████████████████████████████████████████████████████▉                     | 84/100 [2:51:24<03:22, 12.64s/it]"
     ]
    },
    {
     "name": "stdout",
     "output_type": "stream",
     "text": [
      "..(670746, 2)\n",
      "..........(670746, 2)\n",
      "..........(670746, 2)\n",
      "..........(670746, 2)\n",
      "..........(670746, 2)\n",
      "..........(670746, 2)\n",
      "..........(670746, 2)\n",
      "..........(670746, 2)\n",
      "..........(670746, 2)\n",
      "..........(670746, 2)\n",
      "........."
     ]
    },
    {
     "name": "stderr",
     "output_type": "stream",
     "text": [
      "\r",
      " 85%|████████████████████████████████████████████████████████████████████████████████████████████████████████████████▏                   | 85/100 [2:51:29<02:35, 10.40s/it]"
     ]
    },
    {
     "name": "stdout",
     "output_type": "stream",
     "text": [
      ".(670746, 2)\n",
      ".(670746, 2)\n",
      "..........(670746, 2)\n",
      "..........(670746, 2)\n",
      "..........(670746, 2)\n",
      "..........(670746, 2)\n",
      "..........(670746, 2)\n",
      "..........(670746, 2)\n",
      "..........(670746, 2)\n",
      "..........(670746, 2)\n",
      "..........(670746, 2)\n",
      "..........(670746, 2)\n",
      "..........(670746, 2)\n",
      "..........(670746, 2)\n",
      "..........(670746, 2)\n",
      "..........(670746, 2)\n",
      "..."
     ]
    },
    {
     "name": "stderr",
     "output_type": "stream",
     "text": [
      "\r",
      " 86%|█████████████████████████████████████████████████████████████████████████████████████████████████████████████████▌                  | 86/100 [2:51:56<03:36, 15.45s/it]"
     ]
    },
    {
     "name": "stdout",
     "output_type": "stream",
     "text": [
      "..(670746, 2)\n",
      "..........(670746, 2)\n",
      "..........(670746, 2)\n",
      "..........(670746, 2)\n",
      "..........(670746, 2)\n",
      "..........(670746, 2)\n",
      "..........(670746, 2)\n",
      ".."
     ]
    },
    {
     "name": "stderr",
     "output_type": "stream",
     "text": [
      "\r",
      " 87%|██████████████████████████████████████████████████████████████████████████████████████████████████████████████████▊                 | 87/100 [2:52:09<03:11, 14.72s/it]"
     ]
    },
    {
     "name": "stdout",
     "output_type": "stream",
     "text": [
      "..(670746, 2)\n",
      "..........(670746, 2)\n",
      "....."
     ]
    },
    {
     "name": "stderr",
     "output_type": "stream",
     "text": [
      "\r",
      " 88%|████████████████████████████████████████████████████████████████████████████████████████████████████████████████████▏               | 88/100 [2:52:16<02:26, 12.24s/it]"
     ]
    },
    {
     "name": "stdout",
     "output_type": "stream",
     "text": [
      "..(670746, 2)\n",
      "..........(670746, 2)\n",
      "..........(670746, 2)\n",
      "..........(670746, 2)\n",
      "..........(670746, 2)\n",
      "........."
     ]
    },
    {
     "name": "stderr",
     "output_type": "stream",
     "text": [
      "\r",
      " 89%|█████████████████████████████████████████████████████████████████████████████████████████████████████████████████████▍              | 89/100 [2:52:19<01:44,  9.52s/it]"
     ]
    },
    {
     "name": "stdout",
     "output_type": "stream",
     "text": [
      ".(670746, 2)\n",
      "....(670746, 2)\n",
      "......."
     ]
    },
    {
     "name": "stderr",
     "output_type": "stream",
     "text": [
      "\r",
      " 90%|██████████████████████████████████████████████████████████████████████████████████████████████████████████████████████▊             | 90/100 [2:52:23<01:17,  7.79s/it]"
     ]
    },
    {
     "name": "stdout",
     "output_type": "stream",
     "text": [
      "..(670746, 2)\n",
      "..........(670746, 2)\n",
      "..........(670746, 2)\n",
      "..........(670746, 2)\n",
      "..........(670746, 2)\n",
      "..........(670746, 2)\n",
      "..........(670746, 2)\n",
      "..........(670746, 2)\n",
      "..........(670746, 2)\n",
      "....."
     ]
    },
    {
     "name": "stderr",
     "output_type": "stream",
     "text": [
      "\r",
      " 91%|████████████████████████████████████████████████████████████████████████████████████████████████████████████████████████            | 91/100 [2:52:48<01:56, 12.97s/it]"
     ]
    },
    {
     "name": "stdout",
     "output_type": "stream",
     "text": [
      "..(670746, 2)\n",
      "..."
     ]
    },
    {
     "name": "stderr",
     "output_type": "stream",
     "text": [
      "\r",
      " 92%|█████████████████████████████████████████████████████████████████████████████████████████████████████████████████████████▍          | 92/100 [2:52:51<01:20, 10.03s/it]"
     ]
    },
    {
     "name": "stdout",
     "output_type": "stream",
     "text": [
      "..(670746, 2)\n",
      "..........(670746, 2)\n",
      "..........(670746, 2)\n",
      "..........(670746, 2)\n",
      "..........(670746, 2)\n",
      "..........(670746, 2)\n",
      "..........(670746, 2)\n",
      "..........(670746, 2)\n",
      "..........(670746, 2)\n",
      "....."
     ]
    },
    {
     "name": "stderr",
     "output_type": "stream",
     "text": [
      "\r",
      " 93%|███████████████████████████████████████████████████████████████████████████████████████████████████████████████████████▉         | 93/100 [3:33:13<1:25:34, 733.53s/it]"
     ]
    },
    {
     "name": "stdout",
     "output_type": "stream",
     "text": [
      "..(670746, 2)\n",
      "..........(670746, 2)\n",
      "....."
     ]
    },
    {
     "name": "stderr",
     "output_type": "stream",
     "text": [
      "\r",
      " 94%|███████████████████████████████████████████████████████████████████████████████████████████████████████████████████████████▏       | 94/100 [3:33:22<51:38, 516.36s/it]"
     ]
    },
    {
     "name": "stdout",
     "output_type": "stream",
     "text": [
      "..(670746, 2)\n",
      "..........(670746, 2)\n",
      "..........(670746, 2)\n",
      "..........(670746, 2)\n",
      "..........(670746, 2)\n",
      "..........(670746, 2)\n",
      "..........(670746, 2)\n",
      "..........(670746, 2)\n",
      "..........(670746, 2)\n",
      "..........(670746, 2)\n",
      "..........(670746, 2)\n",
      "...."
     ]
    },
    {
     "name": "stderr",
     "output_type": "stream",
     "text": [
      "\r",
      " 95%|████████████████████████████████████████████████████████████████████████████████████████████████████████████████████████████▍      | 95/100 [3:34:02<31:07, 373.51s/it]"
     ]
    },
    {
     "name": "stdout",
     "output_type": "stream",
     "text": [
      "..(670746, 2)\n",
      "..........(670746, 2)\n",
      "..........(670746, 2)\n",
      "..........(670746, 2)\n",
      "..........(670746, 2)\n",
      "..........(670746, 2)\n",
      "..........(670746, 2)\n",
      "..........(670746, 2)\n",
      "......"
     ]
    },
    {
     "name": "stderr",
     "output_type": "stream",
     "text": [
      "\r",
      " 96%|█████████████████████████████████████████████████████████████████████████████████████████████████████████████████████████████▊     | 96/100 [3:36:14<20:03, 300.96s/it]"
     ]
    },
    {
     "name": "stdout",
     "output_type": "stream",
     "text": [
      "..(670746, 2)\n",
      "..........(670746, 2)\n",
      "..........(670746, 2)\n",
      "..........(670746, 2)\n",
      "..........(670746, 2)\n",
      "......."
     ]
    },
    {
     "name": "stderr",
     "output_type": "stream",
     "text": [
      "\r",
      " 97%|███████████████████████████████████████████████████████████████████████████████████████████████████████████████████████████████    | 97/100 [3:37:15<11:27, 229.05s/it]"
     ]
    },
    {
     "name": "stdout",
     "output_type": "stream",
     "text": [
      "..(670746, 2)\n",
      "..........(670746, 2)\n",
      "..........(670746, 2)\n",
      "..........(670746, 2)\n",
      "..........(670746, 2)\n",
      "..........(670746, 2)\n",
      "..........(670746, 2)\n",
      "..........(670746, 2)\n"
     ]
    },
    {
     "name": "stderr",
     "output_type": "stream",
     "text": [
      "\r",
      " 98%|████████████████████████████████████████████████████████████████████████████████████████████████████████████████████████████████▍  | 98/100 [3:39:03<06:25, 192.69s/it]"
     ]
    },
    {
     "name": "stdout",
     "output_type": "stream",
     "text": [
      "..(670746, 2)\n",
      "..........(670746, 2)\n",
      "..........(670746, 2)\n",
      "...."
     ]
    },
    {
     "name": "stderr",
     "output_type": "stream",
     "text": [
      "\r",
      " 99%|█████████████████████████████████████████████████████████████████████████████████████████████████████████████████████████████████▋ | 99/100 [3:39:28<02:22, 142.29s/it]"
     ]
    },
    {
     "name": "stdout",
     "output_type": "stream",
     "text": [
      "..(670746, 2)\n",
      "..........(670746, 2)\n",
      "..........(670746, 2)\n",
      "..........(670746, 2)\n",
      "..........(670746, 2)\n",
      "..........(670746, 2)\n",
      "..........(670746, 2)\n",
      "..........(670746, 2)\n",
      "..........(670746, 2)\n",
      "..........(670746, 2)\n",
      "..........(670746, 2)\n",
      "..........(670746, 2)\n",
      "..........(670746, 2)\n",
      "....."
     ]
    },
    {
     "name": "stderr",
     "output_type": "stream",
     "text": [
      "100%|██████████████████████████████████████████████████████████████████████████████████████████████████████████████████████████████████| 100/100 [3:42:22<00:00, 133.42s/it]"
     ]
    },
    {
     "name": "stdout",
     "output_type": "stream",
     "text": [
      "."
     ]
    },
    {
     "name": "stderr",
     "output_type": "stream",
     "text": [
      "\n"
     ]
    }
   ],
   "source": [
    "data_sucessful_df_cre_cre = mab_user(sucessful_df_cre_cre, data, N, arms)\n",
    "data_one_sucessful_df_cre_cre = data_sucessful_df_cre_cre.\\\n",
    "drop_duplicates(subset='user_id', keep='last', inplace=False, ignore_index=False)\n",
    "data_sucessful_df_cre_cre.to_pickle('/Users/caiorego/Desktop/BDS/RA/Seeding-Bandits/data_sucessful_df_cre_cre.pkl')\n",
    "data_one_sucessful_df_cre_cre.to_pickle('/Users/caiorego/Desktop/BDS/RA/Seeding-Bandits/data_one_sucessful_df_cre_cre.pkl')"
   ]
  },
  {
   "cell_type": "code",
   "execution_count": 43,
   "id": "67db0403",
   "metadata": {},
   "outputs": [
    {
     "data": {
      "text/plain": [
       "trials    89.84000\n",
       "1          0.06479\n",
       "2          0.05932\n",
       "3          0.02717\n",
       "4          0.01889\n",
       "5          0.07674\n",
       "6          0.10803\n",
       "7          0.10072\n",
       "8          0.11955\n",
       "9          0.18858\n",
       "10         0.23621\n",
       "dtype: float64"
      ]
     },
     "execution_count": 43,
     "metadata": {},
     "output_type": "execute_result"
    }
   ],
   "source": [
    "data_one_sucessful_df_cre_cre[[\n",
    "'trials', '1', '2', '3', '4', '5', '6', '7', '8', '9', '10'    \n",
    "]].mean()"
   ]
  },
  {
   "cell_type": "code",
   "execution_count": 36,
   "id": "98feae4a",
   "metadata": {},
   "outputs": [
    {
     "name": "stderr",
     "output_type": "stream",
     "text": [
      "\r",
      "  0%|                                                                                                                                               | 0/100 [00:00<?, ?it/s]"
     ]
    },
    {
     "name": "stdout",
     "output_type": "stream",
     "text": [
      ".(670746, 2)\n",
      "......."
     ]
    },
    {
     "name": "stderr",
     "output_type": "stream",
     "text": [
      "\r",
      "  1%|█▎                                                                                                                                     | 1/100 [00:03<05:09,  3.12s/it]"
     ]
    },
    {
     "name": "stdout",
     "output_type": "stream",
     "text": [
      "..(670746, 2)\n",
      ".."
     ]
    },
    {
     "name": "stderr",
     "output_type": "stream",
     "text": [
      "\r",
      "  2%|██▋                                                                                                                                    | 2/100 [00:04<03:07,  1.92s/it]"
     ]
    },
    {
     "name": "stdout",
     "output_type": "stream",
     "text": [
      "...(670746, 2)\n",
      "..........(670746, 2)\n",
      "..........(670746, 2)\n",
      "..........(670746, 2)\n",
      "........."
     ]
    },
    {
     "name": "stderr",
     "output_type": "stream",
     "text": [
      "\r",
      "  3%|████                                                                                                                                   | 3/100 [00:06<03:36,  2.23s/it]"
     ]
    },
    {
     "name": "stdout",
     "output_type": "stream",
     "text": [
      ".(670746, 2)\n",
      "...(670746, 2)\n",
      "..........(670746, 2)\n",
      "..........(670746, 2)\n",
      "..........(670746, 2)\n",
      "......."
     ]
    },
    {
     "name": "stderr",
     "output_type": "stream",
     "text": [
      "\r",
      "  4%|█████▍                                                                                                                                 | 4/100 [00:32<18:14, 11.40s/it]"
     ]
    },
    {
     "name": "stdout",
     "output_type": "stream",
     "text": [
      "..(670746, 2)\n",
      ".."
     ]
    },
    {
     "name": "stderr",
     "output_type": "stream",
     "text": [
      "\r",
      "  5%|██████▊                                                                                                                                | 5/100 [00:34<13:01,  8.23s/it]"
     ]
    },
    {
     "name": "stdout",
     "output_type": "stream",
     "text": [
      "..(670746, 2)\n",
      "......."
     ]
    },
    {
     "name": "stderr",
     "output_type": "stream",
     "text": [
      "\r",
      "  6%|████████                                                                                                                               | 6/100 [00:44<13:23,  8.54s/it]"
     ]
    },
    {
     "name": "stdout",
     "output_type": "stream",
     "text": [
      "..(670746, 2)\n",
      ".."
     ]
    },
    {
     "name": "stderr",
     "output_type": "stream",
     "text": [
      "\r",
      "  7%|█████████▍                                                                                                                             | 7/100 [00:46<10:19,  6.66s/it]"
     ]
    },
    {
     "name": "stdout",
     "output_type": "stream",
     "text": [
      "..(670746, 2)\n",
      "...."
     ]
    },
    {
     "name": "stderr",
     "output_type": "stream",
     "text": [
      "\r",
      "  8%|██████████▊                                                                                                                            | 8/100 [00:47<07:30,  4.89s/it]"
     ]
    },
    {
     "name": "stdout",
     "output_type": "stream",
     "text": [
      "....(670746, 2)\n",
      "........."
     ]
    },
    {
     "name": "stderr",
     "output_type": "stream",
     "text": [
      "\r",
      "  9%|████████████▏                                                                                                                          | 9/100 [00:56<09:11,  6.06s/it]"
     ]
    },
    {
     "name": "stdout",
     "output_type": "stream",
     "text": [
      ".(670746, 2)\n",
      ".(670746, 2)\n",
      "...."
     ]
    },
    {
     "name": "stderr",
     "output_type": "stream",
     "text": [
      "\r",
      " 10%|█████████████▍                                                                                                                        | 10/100 [01:04<09:57,  6.64s/it]"
     ]
    },
    {
     "name": "stdout",
     "output_type": "stream",
     "text": [
      "..(670746, 2)\n",
      "..........(670746, 2)\n",
      "....."
     ]
    },
    {
     "name": "stderr",
     "output_type": "stream",
     "text": [
      "\r",
      " 11%|██████████████▋                                                                                                                       | 11/100 [01:28<17:47, 11.99s/it]"
     ]
    },
    {
     "name": "stdout",
     "output_type": "stream",
     "text": [
      "..(670746, 2)\n",
      "..........(670746, 2)\n",
      "..........(670746, 2)\n",
      "..........(670746, 2)\n",
      "..........(670746, 2)\n",
      "......."
     ]
    },
    {
     "name": "stderr",
     "output_type": "stream",
     "text": [
      "\r",
      " 12%|████████████████                                                                                                                      | 12/100 [02:08<30:10, 20.57s/it]"
     ]
    },
    {
     "name": "stdout",
     "output_type": "stream",
     "text": [
      "..(670746, 2)\n",
      "..........(670746, 2)\n",
      "..........(670746, 2)\n",
      "......"
     ]
    },
    {
     "name": "stderr",
     "output_type": "stream",
     "text": [
      "\r",
      " 13%|█████████████████▍                                                                                                                    | 13/100 [02:35<32:26, 22.37s/it]"
     ]
    },
    {
     "name": "stdout",
     "output_type": "stream",
     "text": [
      "..(670746, 2)\n",
      "..........(670746, 2)\n",
      "...."
     ]
    },
    {
     "name": "stderr",
     "output_type": "stream",
     "text": [
      "\r",
      " 14%|██████████████████▊                                                                                                                   | 14/100 [02:37<23:09, 16.16s/it]"
     ]
    },
    {
     "name": "stdout",
     "output_type": "stream",
     "text": [
      "."
     ]
    },
    {
     "name": "stderr",
     "output_type": "stream",
     "text": [
      "\r",
      " 15%|████████████████████                                                                                                                  | 15/100 [02:39<17:02, 12.03s/it]"
     ]
    },
    {
     "name": "stdout",
     "output_type": "stream",
     "text": [
      ".(670746, 2)\n",
      "..(670746, 2)\n"
     ]
    },
    {
     "name": "stderr",
     "output_type": "stream",
     "text": [
      "\r",
      " 16%|█████████████████████▍                                                                                                                | 16/100 [02:40<12:13,  8.73s/it]"
     ]
    },
    {
     "name": "stdout",
     "output_type": "stream",
     "text": [
      "..(670746, 2)\n",
      "..........(670746, 2)\n",
      "..........(670746, 2)\n",
      "..........(670746, 2)\n",
      "..........(670746, 2)\n",
      "..........(670746, 2)\n",
      "..........(670746, 2)\n",
      "..........(670746, 2)\n",
      "..........(670746, 2)\n",
      "..........(670746, 2)\n",
      "..........(670746, 2)\n",
      "..........(670746, 2)\n",
      "..........(670746, 2)\n",
      "..........(670746, 2)\n",
      "..........(670746, 2)\n",
      "..........(670746, 2)\n",
      "..........(670746, 2)\n",
      "..........(670746, 2)\n",
      "..........(670746, 2)\n",
      "..........(670746, 2)\n",
      "..........(670746, 2)\n",
      "..........(670746, 2)\n",
      "..........(670746, 2)\n",
      "..........(670746, 2)\n",
      "..........(670746, 2)\n",
      "..........(670746, 2)\n",
      "..........(670746, 2)\n",
      "..........(670746, 2)\n",
      ".."
     ]
    },
    {
     "name": "stderr",
     "output_type": "stream",
     "text": [
      "\r",
      " 17%|██████████████████████▎                                                                                                            | 17/100 [13:27<4:37:35, 200.66s/it]"
     ]
    },
    {
     "name": "stdout",
     "output_type": "stream",
     "text": [
      "..(670746, 2)\n",
      ".."
     ]
    },
    {
     "name": "stderr",
     "output_type": "stream",
     "text": [
      "\r",
      " 18%|███████████████████████▌                                                                                                           | 18/100 [13:33<3:14:23, 142.24s/it]"
     ]
    },
    {
     "name": "stdout",
     "output_type": "stream",
     "text": [
      "...(670746, 2)\n",
      "..........(670746, 2)\n",
      "..........(670746, 2)\n",
      "..........(670746, 2)\n",
      "..........(670746, 2)\n",
      "..........(670746, 2)\n",
      "..........(670746, 2)\n",
      "..........(670746, 2)\n",
      "..........(670746, 2)\n",
      "..........(670746, 2)\n",
      "..........(670746, 2)\n",
      "..........(670746, 2)\n",
      "..........(670746, 2)\n",
      "..........(670746, 2)\n",
      "..........(670746, 2)\n",
      "..........(670746, 2)\n",
      "..........(670746, 2)\n",
      "..........(670746, 2)\n",
      "..........(670746, 2)\n",
      "..........(670746, 2)\n",
      "..........(670746, 2)\n",
      "..........(670746, 2)\n",
      "..........(670746, 2)\n",
      "..........(670746, 2)\n",
      "..........(670746, 2)\n",
      "..........(670746, 2)\n",
      "..........(670746, 2)\n",
      "..........(670746, 2)\n",
      "..........(670746, 2)\n",
      "..........(670746, 2)\n",
      "..........(670746, 2)\n",
      "..........(670746, 2)\n",
      "..........(670746, 2)\n",
      "..........(670746, 2)\n",
      "..........(670746, 2)\n",
      "..........(670746, 2)\n",
      "..........(670746, 2)\n",
      "..........(670746, 2)\n",
      "..........(670746, 2)\n",
      "..........(670746, 2)\n",
      "..........(670746, 2)\n",
      "..........(670746, 2)\n",
      "..........(670746, 2)\n",
      "..........(670746, 2)\n",
      "..........(670746, 2)\n",
      "..........(670746, 2)\n",
      "..........(670746, 2)\n",
      "..........(670746, 2)\n",
      "..........(670746, 2)\n",
      "..........(670746, 2)\n",
      "..........(670746, 2)\n",
      "..........(670746, 2)\n",
      "..........(670746, 2)\n",
      "..........(670746, 2)\n",
      "..........(670746, 2)\n",
      "..........(670746, 2)\n",
      "..........(670746, 2)\n",
      "..........(670746, 2)\n",
      "..........(670746, 2)\n",
      "..........(670746, 2)\n",
      "..........(670746, 2)\n",
      "..........(670746, 2)\n",
      "..........(670746, 2)\n",
      "..........(670746, 2)\n",
      "..........(670746, 2)\n",
      "..........(670746, 2)\n",
      "..........(670746, 2)\n",
      "..........(670746, 2)\n",
      "..........(670746, 2)\n",
      "..........(670746, 2)\n",
      "..........(670746, 2)\n",
      "..........(670746, 2)\n",
      "..........(670746, 2)\n",
      "..........(670746, 2)\n",
      "..........(670746, 2)\n",
      "..........(670746, 2)\n",
      "..........(670746, 2)\n",
      "..........(670746, 2)\n",
      "..........(670746, 2)\n",
      "..........(670746, 2)\n",
      "..........(670746, 2)\n",
      "..........(670746, 2)\n",
      "..........(670746, 2)\n",
      "..........(670746, 2)\n",
      "..........(670746, 2)\n",
      "..........(670746, 2)\n",
      "..........(670746, 2)\n",
      "..........(670746, 2)\n",
      "..........(670746, 2)\n",
      "..........(670746, 2)\n",
      "..........(670746, 2)\n",
      "..........(670746, 2)\n",
      "..........(670746, 2)\n",
      "..........(670746, 2)\n",
      "..........(670746, 2)\n",
      "..........(670746, 2)\n",
      "..........(670746, 2)\n",
      "..........(670746, 2)\n",
      "..........(670746, 2)\n",
      "..........(670746, 2)\n",
      "..........(670746, 2)\n",
      "..........(670746, 2)\n",
      "..........(670746, 2)\n",
      "..."
     ]
    },
    {
     "name": "stderr",
     "output_type": "stream",
     "text": [
      "\r",
      " 19%|████████████████████████▋                                                                                                         | 19/100 [55:54<19:24:40, 862.72s/it]"
     ]
    },
    {
     "name": "stdout",
     "output_type": "stream",
     "text": [
      "..(670746, 2)\n",
      "..........(670746, 2)\n",
      "..........(670746, 2)\n",
      "..........(670746, 2)\n",
      "..........(670746, 2)\n",
      "........"
     ]
    },
    {
     "name": "stderr",
     "output_type": "stream",
     "text": [
      "\r",
      " 20%|██████████████████████████                                                                                                        | 20/100 [56:02<13:27:49, 605.87s/it]"
     ]
    },
    {
     "name": "stdout",
     "output_type": "stream",
     "text": [
      "..(670746, 2)\n",
      "..........(670746, 2)\n",
      "..........(670746, 2)\n",
      "..........(670746, 2)\n",
      "..........(670746, 2)\n",
      "..........(670746, 2)\n",
      "..........(670746, 2)\n",
      "......."
     ]
    },
    {
     "name": "stderr",
     "output_type": "stream",
     "text": [
      "\r",
      " 21%|███████████████████████████▌                                                                                                       | 21/100 [56:07<9:20:27, 425.67s/it]"
     ]
    },
    {
     "name": "stdout",
     "output_type": "stream",
     "text": [
      "."
     ]
    },
    {
     "name": "stderr",
     "output_type": "stream",
     "text": [
      "\r",
      " 22%|████████████████████████████▊                                                                                                      | 22/100 [56:13<6:29:21, 299.50s/it]"
     ]
    },
    {
     "name": "stdout",
     "output_type": "stream",
     "text": [
      ".(670746, 2)\n",
      "..(670746, 2)\n",
      "."
     ]
    },
    {
     "name": "stderr",
     "output_type": "stream",
     "text": [
      "\r",
      " 23%|██████████████████████████████▏                                                                                                    | 23/100 [56:16<4:30:09, 210.52s/it]"
     ]
    },
    {
     "name": "stdout",
     "output_type": "stream",
     "text": [
      "..(670746, 2)\n",
      "....."
     ]
    },
    {
     "name": "stderr",
     "output_type": "stream",
     "text": [
      "\r",
      " 24%|███████████████████████████████▍                                                                                                   | 24/100 [56:19<3:07:48, 148.27s/it]"
     ]
    },
    {
     "name": "stdout",
     "output_type": "stream",
     "text": [
      "..(670746, 2)\n",
      "..........(670746, 2)\n",
      "..........(670746, 2)\n",
      "........."
     ]
    },
    {
     "name": "stderr",
     "output_type": "stream",
     "text": [
      "\r",
      " 25%|████████████████████████████████▊                                                                                                  | 25/100 [56:42<2:18:42, 110.96s/it]"
     ]
    },
    {
     "name": "stdout",
     "output_type": "stream",
     "text": [
      ".(670746, 2)\n",
      ".(670746, 2)\n",
      "..."
     ]
    },
    {
     "name": "stderr",
     "output_type": "stream",
     "text": [
      "\r",
      " 26%|██████████████████████████████████▎                                                                                                 | 26/100 [56:44<1:36:25, 78.18s/it]"
     ]
    },
    {
     "name": "stdout",
     "output_type": "stream",
     "text": [
      "..(670746, 2)\n",
      "..........(670746, 2)\n",
      "..........(670746, 2)\n"
     ]
    },
    {
     "name": "stderr",
     "output_type": "stream",
     "text": [
      "\r",
      " 27%|███████████████████████████████████▋                                                                                                | 27/100 [57:03<1:13:17, 60.25s/it]"
     ]
    },
    {
     "name": "stdout",
     "output_type": "stream",
     "text": [
      "..(670746, 2)\n",
      "."
     ]
    },
    {
     "name": "stderr",
     "output_type": "stream",
     "text": [
      "\r",
      " 28%|█████████████████████████████████████▌                                                                                                | 28/100 [57:07<52:01, 43.36s/it]"
     ]
    },
    {
     "name": "stdout",
     "output_type": "stream",
     "text": [
      "..(670746, 2)\n",
      "..........(670746, 2)\n",
      "..........(670746, 2)\n",
      "..........(670746, 2)\n",
      "..........(670746, 2)\n",
      "..........(670746, 2)\n",
      "..........(670746, 2)\n",
      "..........(670746, 2)\n",
      "..........(670746, 2)\n",
      "...."
     ]
    },
    {
     "name": "stderr",
     "output_type": "stream",
     "text": [
      "\r",
      " 29%|██████████████████████████████████████▊                                                                                               | 29/100 [57:11<37:32, 31.72s/it]"
     ]
    },
    {
     "name": "stdout",
     "output_type": "stream",
     "text": [
      "..(670746, 2)\n",
      "..........(670746, 2)\n",
      "..........(670746, 2)\n",
      "..........(670746, 2)\n",
      "..........(670746, 2)\n",
      "..........(670746, 2)\n",
      "..........(670746, 2)\n",
      "..........(670746, 2)\n",
      "........."
     ]
    },
    {
     "name": "stderr",
     "output_type": "stream",
     "text": [
      "\r",
      " 30%|████████████████████████████████████████▏                                                                                             | 30/100 [57:26<31:16, 26.80s/it]"
     ]
    },
    {
     "name": "stdout",
     "output_type": "stream",
     "text": [
      ".(670746, 2)\n",
      ".(670746, 2)\n",
      "."
     ]
    },
    {
     "name": "stderr",
     "output_type": "stream",
     "text": [
      "\r",
      " 31%|█████████████████████████████████████████▌                                                                                            | 31/100 [57:28<22:07, 19.24s/it]"
     ]
    },
    {
     "name": "stdout",
     "output_type": "stream",
     "text": [
      "."
     ]
    },
    {
     "name": "stderr",
     "output_type": "stream",
     "text": [
      "\r",
      " 32%|██████████████████████████████████████████▉                                                                                           | 32/100 [57:29<15:36, 13.77s/it]"
     ]
    },
    {
     "name": "stdout",
     "output_type": "stream",
     "text": [
      ".(670746, 2)\n",
      "..(670746, 2)\n"
     ]
    },
    {
     "name": "stderr",
     "output_type": "stream",
     "text": [
      "\r",
      " 33%|████████████████████████████████████████████▏                                                                                         | 33/100 [57:31<11:16, 10.09s/it]"
     ]
    },
    {
     "name": "stdout",
     "output_type": "stream",
     "text": [
      "."
     ]
    },
    {
     "name": "stderr",
     "output_type": "stream",
     "text": [
      "\r",
      " 34%|█████████████████████████████████████████████▌                                                                                        | 34/100 [57:33<08:41,  7.91s/it]"
     ]
    },
    {
     "name": "stdout",
     "output_type": "stream",
     "text": [
      ".(670746, 2)\n"
     ]
    },
    {
     "name": "stderr",
     "output_type": "stream",
     "text": [
      "\r",
      " 35%|██████████████████████████████████████████████▉                                                                                       | 35/100 [57:34<06:20,  5.85s/it]"
     ]
    },
    {
     "name": "stdout",
     "output_type": "stream",
     "text": [
      ".(670746, 2)\n",
      "....(670746, 2)\n",
      "....."
     ]
    },
    {
     "name": "stderr",
     "output_type": "stream",
     "text": [
      "\r",
      " 36%|████████████████████████████████████████████████▏                                                                                     | 36/100 [57:38<05:35,  5.24s/it]"
     ]
    },
    {
     "name": "stdout",
     "output_type": "stream",
     "text": [
      "..(670746, 2)\n"
     ]
    },
    {
     "name": "stderr",
     "output_type": "stream",
     "text": [
      "\r",
      " 37%|█████████████████████████████████████████████████▌                                                                                    | 37/100 [57:41<04:45,  4.53s/it]"
     ]
    },
    {
     "name": "stdout",
     "output_type": "stream",
     "text": [
      ".."
     ]
    },
    {
     "name": "stderr",
     "output_type": "stream",
     "text": [
      "\r",
      " 38%|██████████████████████████████████████████████████▉                                                                                   | 38/100 [57:42<03:34,  3.46s/it]"
     ]
    },
    {
     "name": "stdout",
     "output_type": "stream",
     "text": [
      ".(670746, 2)\n",
      ".....(670746, 2)\n",
      "...."
     ]
    },
    {
     "name": "stderr",
     "output_type": "stream",
     "text": [
      "\r",
      " 39%|████████████████████████████████████████████████████▎                                                                                 | 39/100 [57:43<02:49,  2.77s/it]"
     ]
    },
    {
     "name": "stdout",
     "output_type": "stream",
     "text": [
      "..(670746, 2)\n",
      "..........(670746, 2)\n",
      "..........(670746, 2)\n",
      "..........(670746, 2)\n",
      "..........(670746, 2)\n",
      "..........(670746, 2)\n",
      "..........(670746, 2)\n",
      "..........(670746, 2)\n",
      "..........(670746, 2)\n",
      "..........(670746, 2)\n",
      "..........(670746, 2)\n",
      "..........(670746, 2)\n",
      "..........(670746, 2)\n",
      "..........(670746, 2)\n",
      "..........(670746, 2)\n",
      "..........(670746, 2)\n",
      "..........(670746, 2)\n",
      "..........(670746, 2)\n",
      "..........(670746, 2)\n",
      "..........(670746, 2)\n",
      "..........(670746, 2)\n",
      "..........(670746, 2)\n",
      "..........(670746, 2)\n",
      "..........(670746, 2)\n",
      "..........(670746, 2)\n",
      "..........(670746, 2)\n",
      "..........(670746, 2)\n",
      "..........(670746, 2)\n",
      "..........(670746, 2)\n",
      "..........(670746, 2)\n",
      "..........(670746, 2)\n",
      "..........(670746, 2)\n",
      "..........(670746, 2)\n",
      "..........(670746, 2)\n",
      "..........(670746, 2)\n",
      "..........(670746, 2)\n",
      "..........(670746, 2)\n",
      "..........(670746, 2)\n",
      "..........(670746, 2)\n",
      "..........(670746, 2)\n",
      "..........(670746, 2)\n",
      "..........(670746, 2)\n",
      "..........(670746, 2)\n",
      "..........(670746, 2)\n",
      "..........(670746, 2)\n",
      "..........(670746, 2)\n",
      "..........(670746, 2)\n",
      "..........(670746, 2)\n",
      "..........(670746, 2)\n",
      "........."
     ]
    },
    {
     "name": "stderr",
     "output_type": "stream",
     "text": [
      "\r",
      " 40%|███████████████████████████████████████████████████▌                                                                             | 40/100 [1:22:23<7:25:44, 445.74s/it]"
     ]
    },
    {
     "name": "stdout",
     "output_type": "stream",
     "text": [
      ".(670746, 2)\n",
      ".(670746, 2)\n",
      "..........(670746, 2)\n",
      "..........(670746, 2)\n",
      "..........(670746, 2)\n",
      "..........(670746, 2)\n",
      "....."
     ]
    },
    {
     "name": "stderr",
     "output_type": "stream",
     "text": [
      "\r",
      " 41%|████████████████████████████████████████████████████▉                                                                            | 41/100 [1:23:14<5:22:01, 327.48s/it]"
     ]
    },
    {
     "name": "stdout",
     "output_type": "stream",
     "text": [
      "..(670746, 2)\n",
      "..........(670746, 2)\n",
      "......"
     ]
    },
    {
     "name": "stderr",
     "output_type": "stream",
     "text": [
      "\r",
      " 42%|██████████████████████████████████████████████████████▏                                                                          | 42/100 [1:23:26<3:45:02, 232.79s/it]"
     ]
    },
    {
     "name": "stdout",
     "output_type": "stream",
     "text": [
      "..(670746, 2)\n",
      "...."
     ]
    },
    {
     "name": "stderr",
     "output_type": "stream",
     "text": [
      "\r",
      " 43%|███████████████████████████████████████████████████████▍                                                                         | 43/100 [1:23:30<2:36:00, 164.22s/it]"
     ]
    },
    {
     "name": "stdout",
     "output_type": "stream",
     "text": [
      "...(670746, 2)\n",
      "..........(670746, 2)\n",
      "..........(670746, 2)\n",
      "......."
     ]
    },
    {
     "name": "stderr",
     "output_type": "stream",
     "text": [
      "\r",
      " 44%|████████████████████████████████████████████████████████▊                                                                        | 44/100 [1:24:20<2:01:20, 130.00s/it]"
     ]
    },
    {
     "name": "stdout",
     "output_type": "stream",
     "text": [
      "."
     ]
    },
    {
     "name": "stderr",
     "output_type": "stream",
     "text": [
      "\r",
      " 45%|██████████████████████████████████████████████████████████▌                                                                       | 45/100 [1:24:22<1:23:48, 91.43s/it]"
     ]
    },
    {
     "name": "stdout",
     "output_type": "stream",
     "text": [
      ".(670746, 2)\n",
      "...(670746, 2)\n",
      "..........(670746, 2)\n",
      "...."
     ]
    },
    {
     "name": "stderr",
     "output_type": "stream",
     "text": [
      "\r",
      " 46%|████████████████████████████████████████████████████████████▋                                                                       | 46/100 [1:24:26<58:37, 65.14s/it]"
     ]
    },
    {
     "name": "stdout",
     "output_type": "stream",
     "text": [
      "...(670746, 2)\n",
      "..........(670746, 2)\n",
      "..........(670746, 2)\n",
      "..........(670746, 2)\n",
      "...."
     ]
    },
    {
     "name": "stderr",
     "output_type": "stream",
     "text": [
      "\r",
      " 47%|██████████████████████████████████████████████████████████████                                                                      | 47/100 [1:24:28<40:54, 46.31s/it]"
     ]
    },
    {
     "name": "stdout",
     "output_type": "stream",
     "text": [
      "...(670746, 2)\n",
      "..........(670746, 2)\n",
      "...."
     ]
    },
    {
     "name": "stderr",
     "output_type": "stream",
     "text": [
      "\r",
      " 48%|███████████████████████████████████████████████████████████████▎                                                                    | 48/100 [1:24:30<28:31, 32.90s/it]"
     ]
    },
    {
     "name": "stdout",
     "output_type": "stream",
     "text": [
      "...(670746, 2)\n",
      "..........(670746, 2)\n",
      "..........(670746, 2)\n",
      "..........(670746, 2)\n",
      "........"
     ]
    },
    {
     "name": "stderr",
     "output_type": "stream",
     "text": [
      "\r",
      " 49%|████████████████████████████████████████████████████████████████▋                                                                   | 49/100 [1:25:11<30:13, 35.55s/it]"
     ]
    },
    {
     "name": "stdout",
     "output_type": "stream",
     "text": [
      "..(670746, 2)\n",
      "..........(670746, 2)\n",
      "...."
     ]
    },
    {
     "name": "stderr",
     "output_type": "stream",
     "text": [
      "\r",
      " 50%|██████████████████████████████████████████████████████████████████                                                                  | 50/100 [1:25:13<21:07, 25.36s/it]"
     ]
    },
    {
     "name": "stdout",
     "output_type": "stream",
     "text": [
      "....(670746, 2)\n",
      "......"
     ]
    },
    {
     "name": "stderr",
     "output_type": "stream",
     "text": [
      "\r",
      " 51%|███████████████████████████████████████████████████████████████████▎                                                                | 51/100 [1:25:26<17:37, 21.58s/it]"
     ]
    },
    {
     "name": "stdout",
     "output_type": "stream",
     "text": [
      "..(670746, 2)\n",
      "..........(670746, 2)\n",
      "......."
     ]
    },
    {
     "name": "stderr",
     "output_type": "stream",
     "text": [
      "\r",
      " 52%|████████████████████████████████████████████████████████████████████▋                                                               | 52/100 [1:25:38<15:03, 18.82s/it]"
     ]
    },
    {
     "name": "stdout",
     "output_type": "stream",
     "text": [
      "..(670746, 2)\n",
      "..........(670746, 2)\n",
      "..........(670746, 2)\n",
      "..........(670746, 2)\n",
      "..........(670746, 2)\n",
      "......"
     ]
    },
    {
     "name": "stderr",
     "output_type": "stream",
     "text": [
      "\r",
      " 53%|█████████████████████████████████████████████████████████████████████▉                                                              | 53/100 [1:25:42<11:18, 14.44s/it]"
     ]
    },
    {
     "name": "stdout",
     "output_type": "stream",
     "text": [
      "..(670746, 2)\n",
      "..........(670746, 2)\n",
      "..........(670746, 2)\n",
      "..........(670746, 2)\n",
      "..........(670746, 2)\n",
      "..........(670746, 2)\n",
      "..........(670746, 2)\n",
      "..........(670746, 2)\n",
      "..........(670746, 2)\n",
      "..........(670746, 2)\n",
      "..........(670746, 2)\n",
      "...."
     ]
    },
    {
     "name": "stderr",
     "output_type": "stream",
     "text": [
      "\r",
      " 54%|███████████████████████████████████████████████████████████████████████▎                                                            | 54/100 [1:25:54<10:22, 13.54s/it]"
     ]
    },
    {
     "name": "stdout",
     "output_type": "stream",
     "text": [
      "..(670746, 2)\n",
      "......."
     ]
    },
    {
     "name": "stderr",
     "output_type": "stream",
     "text": [
      "\r",
      " 55%|████████████████████████████████████████████████████████████████████████▌                                                           | 55/100 [1:25:55<07:25,  9.89s/it]"
     ]
    },
    {
     "name": "stdout",
     "output_type": "stream",
     "text": [
      "...(670746, 2)\n"
     ]
    },
    {
     "name": "stderr",
     "output_type": "stream",
     "text": [
      "\r",
      " 56%|█████████████████████████████████████████████████████████████████████████▉                                                          | 56/100 [1:25:56<05:22,  7.33s/it]"
     ]
    },
    {
     "name": "stdout",
     "output_type": "stream",
     "text": [
      "...(670746, 2)\n",
      "..........(670746, 2)\n",
      "..........(670746, 2)\n",
      "........"
     ]
    },
    {
     "name": "stderr",
     "output_type": "stream",
     "text": [
      "\r",
      " 57%|███████████████████████████████████████████████████████████████████████████▏                                                        | 57/100 [1:26:25<09:52, 13.79s/it]"
     ]
    },
    {
     "name": "stdout",
     "output_type": "stream",
     "text": [
      "..(670746, 2)\n",
      "..........(670746, 2)\n",
      "..........(670746, 2)\n",
      "."
     ]
    },
    {
     "name": "stderr",
     "output_type": "stream",
     "text": [
      "\r",
      " 58%|████████████████████████████████████████████████████████████████████████████▌                                                       | 58/100 [1:27:02<14:22, 20.53s/it]"
     ]
    },
    {
     "name": "stdout",
     "output_type": "stream",
     "text": [
      "..(670746, 2)\n",
      "....."
     ]
    },
    {
     "name": "stderr",
     "output_type": "stream",
     "text": [
      "\r",
      " 59%|█████████████████████████████████████████████████████████████████████████████▉                                                      | 59/100 [1:27:03<10:10, 14.90s/it]"
     ]
    },
    {
     "name": "stdout",
     "output_type": "stream",
     "text": [
      "..(670746, 2)\n",
      "."
     ]
    },
    {
     "name": "stderr",
     "output_type": "stream",
     "text": [
      "\r",
      " 60%|███████████████████████████████████████████████████████████████████████████████▏                                                    | 60/100 [1:27:05<07:12, 10.82s/it]"
     ]
    },
    {
     "name": "stdout",
     "output_type": "stream",
     "text": [
      "..(670746, 2)\n",
      "..........(670746, 2)\n",
      "..........(670746, 2)\n",
      "..........(670746, 2)\n",
      "..........(670746, 2)\n",
      "..."
     ]
    },
    {
     "name": "stderr",
     "output_type": "stream",
     "text": [
      "\r",
      " 61%|████████████████████████████████████████████████████████████████████████████████▌                                                   | 61/100 [1:27:07<05:28,  8.43s/it]"
     ]
    },
    {
     "name": "stdout",
     "output_type": "stream",
     "text": [
      "...(670746, 2)\n",
      "...."
     ]
    },
    {
     "name": "stderr",
     "output_type": "stream",
     "text": [
      "\r",
      " 62%|█████████████████████████████████████████████████████████████████████████████████▊                                                  | 62/100 [1:27:09<03:57,  6.24s/it]"
     ]
    },
    {
     "name": "stdout",
     "output_type": "stream",
     "text": [
      "....(670746, 2)\n",
      "..........(670746, 2)\n",
      "..........(670746, 2)\n",
      "..........(670746, 2)\n",
      "..........(670746, 2)\n",
      "..........(670746, 2)\n",
      "..........(670746, 2)\n",
      "..........(670746, 2)\n",
      "..........(670746, 2)\n",
      "..........(670746, 2)\n",
      "....."
     ]
    },
    {
     "name": "stderr",
     "output_type": "stream",
     "text": [
      "\r",
      " 63%|███████████████████████████████████████████████████████████████████████████████████▏                                                | 63/100 [1:30:39<41:35, 67.44s/it]"
     ]
    },
    {
     "name": "stdout",
     "output_type": "stream",
     "text": [
      "..(670746, 2)\n",
      "..........(670746, 2)\n",
      "......"
     ]
    },
    {
     "name": "stderr",
     "output_type": "stream",
     "text": [
      "\r",
      " 64%|████████████████████████████████████████████████████████████████████████████████████▍                                               | 64/100 [1:30:56<31:20, 52.24s/it]"
     ]
    },
    {
     "name": "stdout",
     "output_type": "stream",
     "text": [
      "..(670746, 2)\n",
      "....."
     ]
    },
    {
     "name": "stderr",
     "output_type": "stream",
     "text": [
      "\r",
      " 65%|█████████████████████████████████████████████████████████████████████████████████████▊                                              | 65/100 [1:30:58<21:42, 37.23s/it]"
     ]
    },
    {
     "name": "stdout",
     "output_type": "stream",
     "text": [
      "..(670746, 2)\n"
     ]
    },
    {
     "name": "stderr",
     "output_type": "stream",
     "text": [
      "\r",
      " 66%|███████████████████████████████████████████████████████████████████████████████████████                                             | 66/100 [1:31:00<15:05, 26.64s/it]"
     ]
    },
    {
     "name": "stdout",
     "output_type": "stream",
     "text": [
      "..(670746, 2)\n",
      "..........(670746, 2)\n",
      "..........(670746, 2)\n",
      "..........(670746, 2)\n",
      "..........(670746, 2)\n",
      "..........(670746, 2)\n",
      "....."
     ]
    },
    {
     "name": "stderr",
     "output_type": "stream",
     "text": [
      "\r",
      " 67%|████████████████████████████████████████████████████████████████████████████████████████▍                                           | 67/100 [1:31:30<15:13, 27.67s/it]"
     ]
    },
    {
     "name": "stdout",
     "output_type": "stream",
     "text": [
      "..(670746, 2)\n",
      "...."
     ]
    },
    {
     "name": "stderr",
     "output_type": "stream",
     "text": [
      "\r",
      " 68%|█████████████████████████████████████████████████████████████████████████████████████████▊                                          | 68/100 [1:31:32<10:40, 20.01s/it]"
     ]
    },
    {
     "name": "stdout",
     "output_type": "stream",
     "text": [
      "..(670746, 2)\n",
      "..........(670746, 2)\n",
      "..........(670746, 2)\n",
      "..........(670746, 2)\n",
      "..........(670746, 2)\n",
      "..........(670746, 2)\n",
      "..........(670746, 2)\n",
      "..........(670746, 2)\n"
     ]
    },
    {
     "name": "stderr",
     "output_type": "stream",
     "text": [
      "\r",
      " 69%|███████████████████████████████████████████████████████████████████████████████████████████                                         | 69/100 [1:31:45<09:20, 18.07s/it]"
     ]
    },
    {
     "name": "stdout",
     "output_type": "stream",
     "text": [
      "..(670746, 2)\n",
      "......"
     ]
    },
    {
     "name": "stderr",
     "output_type": "stream",
     "text": [
      "\r",
      " 70%|████████████████████████████████████████████████████████████████████████████████████████████▍                                       | 70/100 [1:31:50<07:01, 14.04s/it]"
     ]
    },
    {
     "name": "stdout",
     "output_type": "stream",
     "text": [
      "..(670746, 2)\n",
      "..........(670746, 2)\n",
      "..........(670746, 2)\n",
      "..........(670746, 2)\n",
      "..........(670746, 2)\n",
      "."
     ]
    },
    {
     "name": "stderr",
     "output_type": "stream",
     "text": [
      "\r",
      " 71%|█████████████████████████████████████████████████████████████████████████████████████████████▋                                      | 71/100 [1:31:59<06:06, 12.62s/it]"
     ]
    },
    {
     "name": "stdout",
     "output_type": "stream",
     "text": [
      "..(670746, 2)\n",
      "..........(670746, 2)\n",
      "...."
     ]
    },
    {
     "name": "stderr",
     "output_type": "stream",
     "text": [
      "\r",
      " 72%|███████████████████████████████████████████████████████████████████████████████████████████████                                     | 72/100 [1:32:10<05:33, 11.92s/it]"
     ]
    },
    {
     "name": "stdout",
     "output_type": "stream",
     "text": [
      "..(670746, 2)\n",
      "..........(670746, 2)\n",
      "..........(670746, 2)\n",
      "........."
     ]
    },
    {
     "name": "stderr",
     "output_type": "stream",
     "text": [
      "\r",
      " 73%|████████████████████████████████████████████████████████████████████████████████████████████████▎                                   | 73/100 [1:32:12<04:03,  9.02s/it]"
     ]
    },
    {
     "name": "stdout",
     "output_type": "stream",
     "text": [
      ".(670746, 2)\n",
      ".....(670746, 2)\n",
      "..........(670746, 2)\n",
      "..........(670746, 2)\n",
      "..........(670746, 2)\n",
      "........"
     ]
    },
    {
     "name": "stderr",
     "output_type": "stream",
     "text": [
      "\r",
      " 74%|█████████████████████████████████████████████████████████████████████████████████████████████████▋                                  | 74/100 [1:32:21<03:58,  9.17s/it]"
     ]
    },
    {
     "name": "stdout",
     "output_type": "stream",
     "text": [
      "."
     ]
    },
    {
     "name": "stderr",
     "output_type": "stream",
     "text": [
      "\r",
      " 75%|███████████████████████████████████████████████████████████████████████████████████████████████████                                 | 75/100 [1:32:22<02:47,  6.69s/it]"
     ]
    },
    {
     "name": "stdout",
     "output_type": "stream",
     "text": [
      ".(670746, 2)\n",
      "..(670746, 2)\n",
      "..........(670746, 2)\n",
      ".."
     ]
    },
    {
     "name": "stderr",
     "output_type": "stream",
     "text": [
      "\r",
      " 76%|████████████████████████████████████████████████████████████████████████████████████████████████████▎                               | 76/100 [1:32:34<03:12,  8.03s/it]"
     ]
    },
    {
     "name": "stdout",
     "output_type": "stream",
     "text": [
      "..(670746, 2)\n",
      "..........(670746, 2)\n",
      "..........(670746, 2)\n",
      "..........(670746, 2)\n",
      "..........(670746, 2)\n",
      "......"
     ]
    },
    {
     "name": "stderr",
     "output_type": "stream",
     "text": [
      "\r",
      " 77%|█████████████████████████████████████████████████████████████████████████████████████████████████████▋                              | 77/100 [1:32:40<02:51,  7.46s/it]"
     ]
    },
    {
     "name": "stdout",
     "output_type": "stream",
     "text": [
      "."
     ]
    },
    {
     "name": "stderr",
     "output_type": "stream",
     "text": [
      "\r",
      " 78%|██████████████████████████████████████████████████████████████████████████████████████████████████████▉                             | 78/100 [1:32:41<02:04,  5.66s/it]"
     ]
    },
    {
     "name": "stdout",
     "output_type": "stream",
     "text": [
      ".(670746, 2)\n",
      ".(670746, 2)\n",
      "..........(670746, 2)\n",
      "..........(670746, 2)\n",
      "..........(670746, 2)\n",
      "..........(670746, 2)\n",
      "..........(670746, 2)\n",
      "........."
     ]
    },
    {
     "name": "stderr",
     "output_type": "stream",
     "text": [
      "\r",
      " 79%|████████████████████████████████████████████████████████████████████████████████████████████████████████▎                           | 79/100 [1:32:45<01:44,  4.99s/it]"
     ]
    },
    {
     "name": "stdout",
     "output_type": "stream",
     "text": [
      ".(670746, 2)\n",
      "..(670746, 2)\n",
      "..........(670746, 2)\n",
      "..........(670746, 2)\n",
      "..........(670746, 2)\n",
      "..........(670746, 2)\n",
      "..........(670746, 2)\n",
      "..........(670746, 2)\n",
      "..........(670746, 2)\n",
      "..........(670746, 2)\n",
      "........"
     ]
    },
    {
     "name": "stderr",
     "output_type": "stream",
     "text": [
      "\r",
      " 80%|█████████████████████████████████████████████████████████████████████████████████████████████████████████▌                          | 80/100 [1:33:08<03:30, 10.53s/it]"
     ]
    },
    {
     "name": "stdout",
     "output_type": "stream",
     "text": [
      "..(670746, 2)\n",
      ".(670746, 2)\n",
      "..........(670746, 2)\n",
      "..........(670746, 2)\n",
      "..........(670746, 2)\n",
      "....."
     ]
    },
    {
     "name": "stderr",
     "output_type": "stream",
     "text": [
      "\r",
      " 81%|██████████████████████████████████████████████████████████████████████████████████████████████████████████▉                         | 81/100 [1:33:14<02:52,  9.06s/it]"
     ]
    },
    {
     "name": "stdout",
     "output_type": "stream",
     "text": [
      "..(670746, 2)\n",
      "..........(670746, 2)\n",
      "..........(670746, 2)\n",
      "...."
     ]
    },
    {
     "name": "stderr",
     "output_type": "stream",
     "text": [
      "\r",
      " 82%|████████████████████████████████████████████████████████████████████████████████████████████████████████████▏                       | 82/100 [1:33:16<02:04,  6.94s/it]"
     ]
    },
    {
     "name": "stdout",
     "output_type": "stream",
     "text": [
      "...."
     ]
    },
    {
     "name": "stderr",
     "output_type": "stream",
     "text": [
      "\r",
      " 83%|█████████████████████████████████████████████████████████████████████████████████████████████████████████████▌                      | 83/100 [1:33:17<01:30,  5.30s/it]"
     ]
    },
    {
     "name": "stdout",
     "output_type": "stream",
     "text": [
      ".(670746, 2)\n",
      ".(670746, 2)\n",
      "........"
     ]
    },
    {
     "name": "stderr",
     "output_type": "stream",
     "text": [
      "\r",
      " 84%|██████████████████████████████████████████████████████████████████████████████████████████████████████████████▉                     | 84/100 [1:33:20<01:15,  4.72s/it]"
     ]
    },
    {
     "name": "stdout",
     "output_type": "stream",
     "text": [
      "..(670746, 2)\n",
      "..........(670746, 2)\n",
      "..........(670746, 2)\n",
      "....."
     ]
    },
    {
     "name": "stderr",
     "output_type": "stream",
     "text": [
      "\r",
      " 85%|████████████████████████████████████████████████████████████████████████████████████████████████████████████████▏                   | 85/100 [1:33:32<01:41,  6.76s/it]"
     ]
    },
    {
     "name": "stdout",
     "output_type": "stream",
     "text": [
      "..(670746, 2)\n",
      "..........(670746, 2)\n"
     ]
    },
    {
     "name": "stderr",
     "output_type": "stream",
     "text": [
      "\r",
      " 86%|█████████████████████████████████████████████████████████████████████████████████████████████████████████████████▌                  | 86/100 [1:33:36<01:23,  5.97s/it]"
     ]
    },
    {
     "name": "stdout",
     "output_type": "stream",
     "text": [
      "."
     ]
    },
    {
     "name": "stderr",
     "output_type": "stream",
     "text": [
      "\r",
      " 87%|██████████████████████████████████████████████████████████████████████████████████████████████████████████████████▊                 | 87/100 [1:33:37<00:57,  4.43s/it]"
     ]
    },
    {
     "name": "stdout",
     "output_type": "stream",
     "text": [
      ".(670746, 2)\n",
      "..(670746, 2)\n",
      "........."
     ]
    },
    {
     "name": "stderr",
     "output_type": "stream",
     "text": [
      "\r",
      " 88%|████████████████████████████████████████████████████████████████████████████████████████████████████████████████████▏               | 88/100 [1:33:43<01:00,  5.04s/it]"
     ]
    },
    {
     "name": "stdout",
     "output_type": "stream",
     "text": [
      ".(670746, 2)\n",
      ".(670746, 2)\n",
      "......"
     ]
    },
    {
     "name": "stderr",
     "output_type": "stream",
     "text": [
      "\r",
      " 89%|█████████████████████████████████████████████████████████████████████████████████████████████████████████████████████▍              | 89/100 [1:33:58<01:27,  7.97s/it]"
     ]
    },
    {
     "name": "stdout",
     "output_type": "stream",
     "text": [
      "..(670746, 2)\n",
      "..........(670746, 2)\n",
      "...."
     ]
    },
    {
     "name": "stderr",
     "output_type": "stream",
     "text": [
      "\r",
      " 90%|██████████████████████████████████████████████████████████████████████████████████████████████████████████████████████▊             | 90/100 [1:34:04<01:14,  7.41s/it]"
     ]
    },
    {
     "name": "stdout",
     "output_type": "stream",
     "text": [
      "..(670746, 2)\n",
      "........"
     ]
    },
    {
     "name": "stderr",
     "output_type": "stream",
     "text": [
      "\r",
      " 91%|████████████████████████████████████████████████████████████████████████████████████████████████████████████████████████            | 91/100 [1:34:14<01:13,  8.19s/it]"
     ]
    },
    {
     "name": "stdout",
     "output_type": "stream",
     "text": [
      "..(670746, 2)\n",
      "......."
     ]
    },
    {
     "name": "stderr",
     "output_type": "stream",
     "text": [
      "\r",
      " 92%|█████████████████████████████████████████████████████████████████████████████████████████████████████████████████████████▍          | 92/100 [1:34:22<01:05,  8.13s/it]"
     ]
    },
    {
     "name": "stdout",
     "output_type": "stream",
     "text": [
      "..(670746, 2)\n",
      "......."
     ]
    },
    {
     "name": "stderr",
     "output_type": "stream",
     "text": [
      "\r",
      " 93%|██████████████████████████████████████████████████████████████████████████████████████████████████████████████████████████▊         | 93/100 [1:34:34<01:03,  9.09s/it]"
     ]
    },
    {
     "name": "stdout",
     "output_type": "stream",
     "text": [
      "..(670746, 2)\n",
      "......"
     ]
    },
    {
     "name": "stderr",
     "output_type": "stream",
     "text": [
      "\r",
      " 94%|████████████████████████████████████████████████████████████████████████████████████████████████████████████████████████████        | 94/100 [1:34:49<01:05, 10.88s/it]"
     ]
    },
    {
     "name": "stdout",
     "output_type": "stream",
     "text": [
      "..(670746, 2)\n",
      "........"
     ]
    },
    {
     "name": "stderr",
     "output_type": "stream",
     "text": [
      "\r",
      " 95%|█████████████████████████████████████████████████████████████████████████████████████████████████████████████████████████████▍      | 95/100 [1:34:51<00:41,  8.27s/it]"
     ]
    },
    {
     "name": "stdout",
     "output_type": "stream",
     "text": [
      "..(670746, 2)\n",
      "..........(670746, 2)\n",
      "..........(670746, 2)\n",
      "....."
     ]
    },
    {
     "name": "stderr",
     "output_type": "stream",
     "text": [
      "\r",
      " 96%|██████████████████████████████████████████████████████████████████████████████████████████████████████████████████████████████▋     | 96/100 [1:35:28<01:07, 16.80s/it]"
     ]
    },
    {
     "name": "stdout",
     "output_type": "stream",
     "text": [
      "..(670746, 2)\n",
      "..........(670746, 2)\n",
      "..........(670746, 2)\n",
      "..........(670746, 2)\n",
      "..........(670746, 2)\n",
      "..........(670746, 2)\n",
      "..........(670746, 2)\n",
      "......"
     ]
    },
    {
     "name": "stderr",
     "output_type": "stream",
     "text": [
      "\r",
      " 97%|████████████████████████████████████████████████████████████████████████████████████████████████████████████████████████████████    | 97/100 [1:36:40<01:40, 33.47s/it]"
     ]
    },
    {
     "name": "stdout",
     "output_type": "stream",
     "text": [
      "..(670746, 2)\n",
      "..."
     ]
    },
    {
     "name": "stderr",
     "output_type": "stream",
     "text": [
      "\r",
      " 98%|█████████████████████████████████████████████████████████████████████████████████████████████████████████████████████████████████▎  | 98/100 [1:36:48<00:51, 25.76s/it]"
     ]
    },
    {
     "name": "stdout",
     "output_type": "stream",
     "text": [
      "..(670746, 2)\n",
      "....."
     ]
    },
    {
     "name": "stderr",
     "output_type": "stream",
     "text": [
      "\r",
      " 99%|██████████████████████████████████████████████████████████████████████████████████████████████████████████████████████████████████▋ | 99/100 [1:36:55<00:20, 20.24s/it]"
     ]
    },
    {
     "name": "stdout",
     "output_type": "stream",
     "text": [
      "..(670746, 2)\n",
      "..........(670746, 2)\n",
      "..........(670746, 2)\n",
      "..........(670746, 2)\n",
      "..........(670746, 2)\n"
     ]
    },
    {
     "name": "stderr",
     "output_type": "stream",
     "text": [
      "100%|███████████████████████████████████████████████████████████████████████████████████████████████████████████████████████████████████| 100/100 [1:37:19<00:00, 58.40s/it]"
     ]
    },
    {
     "name": "stdout",
     "output_type": "stream",
     "text": [
      "."
     ]
    },
    {
     "name": "stderr",
     "output_type": "stream",
     "text": [
      "\n"
     ]
    }
   ],
   "source": [
    "data_sucessful_df_cre_use = mab_user(sucessful_df_cre_use, data, N, arms)\n",
    "data_one_sucessful_df_cre_use = data_sucessful_df_cre_use.\\\n",
    "drop_duplicates(subset='user_id', keep='last', inplace=False, ignore_index=False)\n",
    "data_sucessful_df_cre_use.to_pickle('/Users/caiorego/Desktop/BDS/RA/Seeding-Bandits/data_sucessful_df_cre_use.pkl')\n",
    "data_one_sucessful_df_cre_use.to_pickle('/Users/caiorego/Desktop/BDS/RA/Seeding-Bandits/data_one_sucessful_df_cre_use.pkl')"
   ]
  },
  {
   "cell_type": "code",
   "execution_count": 44,
   "id": "4fc84ad7",
   "metadata": {},
   "outputs": [
    {
     "data": {
      "text/plain": [
       "trials    39.50000\n",
       "1          0.10772\n",
       "2          0.07937\n",
       "3          0.03353\n",
       "4          0.03461\n",
       "5          0.08015\n",
       "6          0.10297\n",
       "7          0.11189\n",
       "8          0.12065\n",
       "9          0.14782\n",
       "10         0.18129\n",
       "dtype: float64"
      ]
     },
     "execution_count": 44,
     "metadata": {},
     "output_type": "execute_result"
    }
   ],
   "source": [
    "data_one_sucessful_df_cre_use[[\n",
    "'trials', '1', '2', '3', '4', '5', '6', '7', '8', '9', '10'    \n",
    "]].mean()"
   ]
  },
  {
   "cell_type": "code",
   "execution_count": 34,
   "id": "50524ff7",
   "metadata": {},
   "outputs": [
    {
     "name": "stderr",
     "output_type": "stream",
     "text": [
      "  1%|█▎                                                                                                                                     | 1/100 [00:00<01:36,  1.03it/s]"
     ]
    },
    {
     "name": "stdout",
     "output_type": "stream",
     "text": [
      ".(670746, 2)\n",
      ".(670746, 2)\n",
      ".."
     ]
    },
    {
     "name": "stderr",
     "output_type": "stream",
     "text": [
      "\r",
      "  2%|██▋                                                                                                                                    | 2/100 [00:02<01:43,  1.06s/it]"
     ]
    },
    {
     "name": "stdout",
     "output_type": "stream",
     "text": [
      "...(670746, 2)\n",
      "........."
     ]
    },
    {
     "name": "stderr",
     "output_type": "stream",
     "text": [
      "\r",
      "  3%|████                                                                                                                                   | 3/100 [00:03<01:53,  1.17s/it]"
     ]
    },
    {
     "name": "stdout",
     "output_type": "stream",
     "text": [
      ".(670746, 2)\n",
      "...(670746, 2)\n",
      "..........(670746, 2)\n",
      "..........(670746, 2)\n",
      "..........(670746, 2)\n",
      "..........(670746, 2)\n",
      "..........(670746, 2)\n",
      "..........(670746, 2)\n",
      "..........(670746, 2)\n",
      "........."
     ]
    },
    {
     "name": "stderr",
     "output_type": "stream",
     "text": [
      "\r",
      "  4%|█████▍                                                                                                                                 | 4/100 [00:07<03:54,  2.44s/it]"
     ]
    },
    {
     "name": "stdout",
     "output_type": "stream",
     "text": [
      ".(670746, 2)\n",
      "....(670746, 2)\n",
      "..........(670746, 2)\n"
     ]
    },
    {
     "name": "stderr",
     "output_type": "stream",
     "text": [
      "\r",
      "  5%|██████▊                                                                                                                                | 5/100 [00:16<07:28,  4.73s/it]"
     ]
    },
    {
     "name": "stdout",
     "output_type": "stream",
     "text": [
      "..(670746, 2)\n",
      "..........(670746, 2)\n",
      "..........(670746, 2)\n",
      "..........(670746, 2)\n",
      "......"
     ]
    },
    {
     "name": "stderr",
     "output_type": "stream",
     "text": [
      "\r",
      "  6%|████████                                                                                                                               | 6/100 [01:19<38:20, 24.48s/it]"
     ]
    },
    {
     "name": "stdout",
     "output_type": "stream",
     "text": [
      "..(670746, 2)\n",
      "..........(670746, 2)\n",
      "...."
     ]
    },
    {
     "name": "stderr",
     "output_type": "stream",
     "text": [
      "\r",
      "  7%|█████████▍                                                                                                                             | 7/100 [01:20<26:20, 16.99s/it]"
     ]
    },
    {
     "name": "stdout",
     "output_type": "stream",
     "text": [
      "..(670746, 2)\n",
      "...."
     ]
    },
    {
     "name": "stderr",
     "output_type": "stream",
     "text": [
      "\r",
      "  8%|██████████▊                                                                                                                            | 8/100 [01:21<18:14, 11.89s/it]"
     ]
    },
    {
     "name": "stdout",
     "output_type": "stream",
     "text": [
      "..(670746, 2)\n",
      "...."
     ]
    },
    {
     "name": "stderr",
     "output_type": "stream",
     "text": [
      "\r",
      "  9%|████████████▏                                                                                                                          | 9/100 [01:23<12:54,  8.51s/it]"
     ]
    },
    {
     "name": "stdout",
     "output_type": "stream",
     "text": [
      "....(670746, 2)\n",
      "...."
     ]
    },
    {
     "name": "stderr",
     "output_type": "stream",
     "text": [
      "\r",
      " 10%|█████████████▍                                                                                                                        | 10/100 [01:24<09:19,  6.21s/it]"
     ]
    },
    {
     "name": "stdout",
     "output_type": "stream",
     "text": [
      "....(670746, 2)\n",
      "..........(670746, 2)\n",
      "..........(670746, 2)\n",
      "..........(670746, 2)\n",
      "..........(670746, 2)\n",
      "..........(670746, 2)\n",
      "..........(670746, 2)\n",
      "..........(670746, 2)\n",
      "..........(670746, 2)\n",
      "..........(670746, 2)\n",
      "..........(670746, 2)\n",
      "...."
     ]
    },
    {
     "name": "stderr",
     "output_type": "stream",
     "text": [
      "\r",
      " 11%|██████████████▋                                                                                                                       | 11/100 [01:31<09:46,  6.59s/it]"
     ]
    },
    {
     "name": "stdout",
     "output_type": "stream",
     "text": [
      "...(670746, 2)\n",
      "..........(670746, 2)\n",
      "..........(670746, 2)\n",
      "..."
     ]
    },
    {
     "name": "stderr",
     "output_type": "stream",
     "text": [
      "\r",
      " 12%|████████████████                                                                                                                      | 12/100 [01:33<07:44,  5.28s/it]"
     ]
    },
    {
     "name": "stdout",
     "output_type": "stream",
     "text": [
      "."
     ]
    },
    {
     "name": "stderr",
     "output_type": "stream",
     "text": [
      "\r",
      " 13%|█████████████████▍                                                                                                                    | 13/100 [01:34<05:40,  3.91s/it]"
     ]
    },
    {
     "name": "stdout",
     "output_type": "stream",
     "text": [
      ".(670746, 2)\n",
      ".(670746, 2)\n",
      "..........(670746, 2)\n",
      "..........(670746, 2)\n",
      "..........(670746, 2)\n",
      "..........(670746, 2)\n",
      "..........(670746, 2)\n",
      "..........(670746, 2)\n",
      "..........(670746, 2)\n",
      "..........(670746, 2)\n",
      "..........(670746, 2)\n",
      "..........(670746, 2)\n",
      "..........(670746, 2)\n",
      "........."
     ]
    },
    {
     "name": "stderr",
     "output_type": "stream",
     "text": [
      "\r",
      " 14%|██████████████████▊                                                                                                                   | 14/100 [01:40<06:34,  4.58s/it]"
     ]
    },
    {
     "name": "stdout",
     "output_type": "stream",
     "text": [
      ".(670746, 2)\n",
      "....(670746, 2)\n",
      "...."
     ]
    },
    {
     "name": "stderr",
     "output_type": "stream",
     "text": [
      "\r",
      " 15%|████████████████████                                                                                                                  | 15/100 [01:41<04:59,  3.52s/it]"
     ]
    },
    {
     "name": "stdout",
     "output_type": "stream",
     "text": [
      "....(670746, 2)\n",
      "..........(670746, 2)\n",
      "..........(670746, 2)\n",
      "..........(670746, 2)\n",
      "..........(670746, 2)\n",
      "...."
     ]
    },
    {
     "name": "stderr",
     "output_type": "stream",
     "text": [
      "\r",
      " 16%|█████████████████████▍                                                                                                                | 16/100 [01:44<04:36,  3.29s/it]"
     ]
    },
    {
     "name": "stdout",
     "output_type": "stream",
     "text": [
      "...(670746, 2)\n",
      "..........(670746, 2)\n",
      "..........(670746, 2)\n",
      "..........(670746, 2)\n",
      "..........(670746, 2)\n",
      "..........(670746, 2)\n",
      "..........(670746, 2)\n",
      "..........(670746, 2)\n",
      "..........(670746, 2)\n",
      "..........(670746, 2)\n",
      "..........(670746, 2)\n",
      "..........(670746, 2)\n",
      "...."
     ]
    },
    {
     "name": "stderr",
     "output_type": "stream",
     "text": [
      "\r",
      " 17%|██████████████████████▊                                                                                                               | 17/100 [01:50<05:36,  4.05s/it]"
     ]
    },
    {
     "name": "stdout",
     "output_type": "stream",
     "text": [
      "...(670746, 2)\n",
      "........"
     ]
    },
    {
     "name": "stderr",
     "output_type": "stream",
     "text": [
      "\r",
      " 18%|████████████████████████                                                                                                              | 18/100 [01:57<06:53,  5.04s/it]"
     ]
    },
    {
     "name": "stdout",
     "output_type": "stream",
     "text": [
      "."
     ]
    },
    {
     "name": "stderr",
     "output_type": "stream",
     "text": [
      "\r",
      " 19%|█████████████████████████▍                                                                                                            | 19/100 [01:58<05:04,  3.76s/it]"
     ]
    },
    {
     "name": "stdout",
     "output_type": "stream",
     "text": [
      ".(670746, 2)\n",
      ".(670746, 2)\n",
      "..........(670746, 2)\n",
      "..........(670746, 2)\n",
      "..........(670746, 2)\n",
      "..........(670746, 2)\n",
      "..........(670746, 2)\n",
      "..........(670746, 2)\n",
      "..........(670746, 2)\n",
      "..........(670746, 2)\n",
      "..........(670746, 2)\n",
      "..........(670746, 2)\n",
      "...."
     ]
    },
    {
     "name": "stderr",
     "output_type": "stream",
     "text": [
      "\r",
      " 20%|██████████████████████████▊                                                                                                           | 20/100 [02:03<05:39,  4.25s/it]"
     ]
    },
    {
     "name": "stdout",
     "output_type": "stream",
     "text": [
      "..."
     ]
    },
    {
     "name": "stderr",
     "output_type": "stream",
     "text": [
      "\r",
      " 21%|████████████████████████████▏                                                                                                         | 21/100 [02:04<04:17,  3.26s/it]"
     ]
    },
    {
     "name": "stdout",
     "output_type": "stream",
     "text": [
      ".(670746, 2)\n",
      "...(670746, 2)\n",
      "..........(670746, 2)\n",
      "..........(670746, 2)\n",
      "...."
     ]
    },
    {
     "name": "stderr",
     "output_type": "stream",
     "text": [
      "\r",
      " 22%|█████████████████████████████▍                                                                                                        | 22/100 [02:06<03:45,  2.89s/it]"
     ]
    },
    {
     "name": "stdout",
     "output_type": "stream",
     "text": [
      "......(670746, 2)\n",
      "..........(670746, 2)\n",
      "..........(670746, 2)\n",
      "..........(670746, 2)\n",
      "..........(670746, 2)\n",
      "..........(670746, 2)\n",
      "..........(670746, 2)\n",
      "..........(670746, 2)\n",
      "..........(670746, 2)\n",
      "..........(670746, 2)\n",
      "..........(670746, 2)\n",
      "..........(670746, 2)\n",
      "..........(670746, 2)\n",
      "..........(670746, 2)\n",
      "..........(670746, 2)\n",
      "..........(670746, 2)\n",
      "..........(670746, 2)\n",
      "..........(670746, 2)\n",
      "..........(670746, 2)\n",
      "..........(670746, 2)\n",
      "..........(670746, 2)\n",
      "....."
     ]
    },
    {
     "name": "stderr",
     "output_type": "stream",
     "text": [
      "\r",
      " 23%|██████████████████████████████▊                                                                                                       | 23/100 [02:17<06:39,  5.19s/it]"
     ]
    },
    {
     "name": "stdout",
     "output_type": "stream",
     "text": [
      ".....(670746, 2)\n",
      "..........(670746, 2)\n",
      "..........(670746, 2)\n",
      "..........(670746, 2)\n",
      "..........(670746, 2)\n",
      "...."
     ]
    },
    {
     "name": "stderr",
     "output_type": "stream",
     "text": [
      "\r",
      " 24%|████████████████████████████████▏                                                                                                     | 24/100 [02:20<05:41,  4.49s/it]"
     ]
    },
    {
     "name": "stdout",
     "output_type": "stream",
     "text": [
      "....(670746, 2)\n",
      "..........(670746, 2)\n",
      "....."
     ]
    },
    {
     "name": "stderr",
     "output_type": "stream",
     "text": [
      "\r",
      " 25%|█████████████████████████████████▌                                                                                                    | 25/100 [02:22<04:37,  3.70s/it]"
     ]
    },
    {
     "name": "stdout",
     "output_type": "stream",
     "text": [
      ".."
     ]
    },
    {
     "name": "stderr",
     "output_type": "stream",
     "text": [
      "\r",
      " 26%|██████████████████████████████████▊                                                                                                   | 26/100 [02:22<03:30,  2.84s/it]"
     ]
    },
    {
     "name": "stdout",
     "output_type": "stream",
     "text": [
      ".(670746, 2)\n",
      ".(670746, 2)\n",
      "..........(670746, 2)\n",
      "...."
     ]
    },
    {
     "name": "stderr",
     "output_type": "stream",
     "text": [
      "\r",
      " 27%|████████████████████████████████████▏                                                                                                 | 27/100 [02:24<03:00,  2.48s/it]"
     ]
    },
    {
     "name": "stdout",
     "output_type": "stream",
     "text": [
      "....(670746, 2)\n",
      "..."
     ]
    },
    {
     "name": "stderr",
     "output_type": "stream",
     "text": [
      "\r",
      " 28%|█████████████████████████████████████▌                                                                                                | 28/100 [02:28<03:25,  2.86s/it]"
     ]
    },
    {
     "name": "stdout",
     "output_type": "stream",
     "text": [
      "..(670746, 2)\n",
      "..........(670746, 2)\n",
      "..........(670746, 2)\n",
      "..........(670746, 2)\n",
      "..........(670746, 2)\n",
      "..........(670746, 2)\n",
      "..........(670746, 2)\n",
      "...."
     ]
    },
    {
     "name": "stderr",
     "output_type": "stream",
     "text": [
      "\r",
      " 29%|██████████████████████████████████████▊                                                                                               | 29/100 [02:32<03:43,  3.14s/it]"
     ]
    },
    {
     "name": "stdout",
     "output_type": "stream",
     "text": [
      "......(670746, 2)\n",
      "...."
     ]
    },
    {
     "name": "stderr",
     "output_type": "stream",
     "text": [
      "\r",
      " 30%|████████████████████████████████████████▏                                                                                             | 30/100 [02:33<02:57,  2.53s/it]"
     ]
    },
    {
     "name": "stdout",
     "output_type": "stream",
     "text": [
      "....(670746, 2)\n",
      "...."
     ]
    },
    {
     "name": "stderr",
     "output_type": "stream",
     "text": [
      "\r",
      " 31%|█████████████████████████████████████████▌                                                                                            | 31/100 [02:34<02:23,  2.08s/it]"
     ]
    },
    {
     "name": "stdout",
     "output_type": "stream",
     "text": [
      "...(670746, 2)\n",
      ".."
     ]
    },
    {
     "name": "stderr",
     "output_type": "stream",
     "text": [
      "\r",
      " 32%|██████████████████████████████████████████▉                                                                                           | 32/100 [02:35<01:59,  1.76s/it]"
     ]
    },
    {
     "name": "stdout",
     "output_type": "stream",
     "text": [
      "..(670746, 2)\n",
      "..........(670746, 2)\n",
      "...."
     ]
    },
    {
     "name": "stderr",
     "output_type": "stream",
     "text": [
      "\r",
      " 33%|████████████████████████████████████████████▏                                                                                         | 33/100 [02:36<01:51,  1.66s/it]"
     ]
    },
    {
     "name": "stdout",
     "output_type": "stream",
     "text": [
      "..(670746, 2)\n",
      "........."
     ]
    },
    {
     "name": "stderr",
     "output_type": "stream",
     "text": [
      "\r",
      " 34%|█████████████████████████████████████████████▌                                                                                        | 34/100 [02:38<01:47,  1.63s/it]"
     ]
    },
    {
     "name": "stdout",
     "output_type": "stream",
     "text": [
      ".(670746, 2)\n",
      ".(670746, 2)\n",
      "..........(670746, 2)\n",
      "..........(670746, 2)\n",
      "..........(670746, 2)\n",
      "..........(670746, 2)\n",
      "..........(670746, 2)\n",
      "..........(670746, 2)\n",
      ".."
     ]
    },
    {
     "name": "stderr",
     "output_type": "stream",
     "text": [
      "\r",
      " 35%|██████████████████████████████████████████████▉                                                                                       | 35/100 [02:41<02:22,  2.19s/it]"
     ]
    },
    {
     "name": "stdout",
     "output_type": "stream",
     "text": [
      "..(670746, 2)\n",
      "..........(670746, 2)\n",
      "..........(670746, 2)\n",
      "..........(670746, 2)\n",
      "..........(670746, 2)\n",
      "..........(670746, 2)\n",
      "...."
     ]
    },
    {
     "name": "stderr",
     "output_type": "stream",
     "text": [
      "\r",
      " 36%|████████████████████████████████████████████████▏                                                                                     | 36/100 [02:45<02:41,  2.52s/it]"
     ]
    },
    {
     "name": "stdout",
     "output_type": "stream",
     "text": [
      "..(670746, 2)\n",
      "...."
     ]
    },
    {
     "name": "stderr",
     "output_type": "stream",
     "text": [
      "\r",
      " 37%|█████████████████████████████████████████████████▌                                                                                    | 37/100 [02:46<02:11,  2.09s/it]"
     ]
    },
    {
     "name": "stdout",
     "output_type": "stream",
     "text": [
      "....(670746, 2)\n"
     ]
    },
    {
     "name": "stderr",
     "output_type": "stream",
     "text": [
      "\r",
      " 38%|██████████████████████████████████████████████████▉                                                                                   | 38/100 [02:48<02:10,  2.10s/it]"
     ]
    },
    {
     "name": "stdout",
     "output_type": "stream",
     "text": [
      "..(670746, 2)\n",
      "..........(670746, 2)\n",
      "..........(670746, 2)\n",
      "..........(670746, 2)\n",
      "..........(670746, 2)\n",
      "..........(670746, 2)\n",
      "......."
     ]
    },
    {
     "name": "stderr",
     "output_type": "stream",
     "text": [
      "\r",
      " 39%|████████████████████████████████████████████████████▎                                                                                 | 39/100 [02:53<03:00,  2.95s/it]"
     ]
    },
    {
     "name": "stdout",
     "output_type": "stream",
     "text": [
      "..(670746, 2)\n",
      "..."
     ]
    },
    {
     "name": "stderr",
     "output_type": "stream",
     "text": [
      "\r",
      " 40%|█████████████████████████████████████████████████████▌                                                                                | 40/100 [02:54<02:26,  2.44s/it]"
     ]
    },
    {
     "name": "stdout",
     "output_type": "stream",
     "text": [
      "...(670746, 2)\n",
      ".."
     ]
    },
    {
     "name": "stderr",
     "output_type": "stream",
     "text": [
      "\r",
      " 41%|██████████████████████████████████████████████████████▉                                                                               | 41/100 [02:55<01:58,  2.01s/it]"
     ]
    },
    {
     "name": "stdout",
     "output_type": "stream",
     "text": [
      "..(670746, 2)\n",
      "....."
     ]
    },
    {
     "name": "stderr",
     "output_type": "stream",
     "text": [
      "\r",
      " 42%|████████████████████████████████████████████████████████▎                                                                             | 42/100 [02:56<01:39,  1.72s/it]"
     ]
    },
    {
     "name": "stdout",
     "output_type": "stream",
     "text": [
      "...(670746, 2)\n",
      "...."
     ]
    },
    {
     "name": "stderr",
     "output_type": "stream",
     "text": [
      "\r",
      " 43%|█████████████████████████████████████████████████████████▌                                                                            | 43/100 [02:57<01:26,  1.51s/it]"
     ]
    },
    {
     "name": "stdout",
     "output_type": "stream",
     "text": [
      "...(670746, 2)\n",
      "....."
     ]
    },
    {
     "name": "stderr",
     "output_type": "stream",
     "text": [
      "\r",
      " 44%|██████████████████████████████████████████████████████████▉                                                                           | 44/100 [02:58<01:17,  1.38s/it]"
     ]
    },
    {
     "name": "stdout",
     "output_type": "stream",
     "text": [
      "...(670746, 2)\n",
      "...."
     ]
    },
    {
     "name": "stderr",
     "output_type": "stream",
     "text": [
      "\r",
      " 45%|████████████████████████████████████████████████████████████▎                                                                         | 45/100 [02:59<01:10,  1.28s/it]"
     ]
    },
    {
     "name": "stdout",
     "output_type": "stream",
     "text": [
      "....(670746, 2)\n",
      "..........(670746, 2)\n",
      "..........(670746, 2)\n",
      "..........(670746, 2)\n",
      "..........(670746, 2)\n",
      "......"
     ]
    },
    {
     "name": "stderr",
     "output_type": "stream",
     "text": [
      "\r",
      " 46%|█████████████████████████████████████████████████████████████▋                                                                        | 46/100 [03:02<01:33,  1.73s/it]"
     ]
    },
    {
     "name": "stdout",
     "output_type": "stream",
     "text": [
      ".(670746, 2)\n"
     ]
    },
    {
     "name": "stderr",
     "output_type": "stream",
     "text": [
      "\r",
      " 47%|██████████████████████████████████████████████████████████████▉                                                                       | 47/100 [03:04<01:42,  1.93s/it]"
     ]
    },
    {
     "name": "stdout",
     "output_type": "stream",
     "text": [
      "...(670746, 2)\n",
      "..........(670746, 2)\n",
      "..........(670746, 2)\n",
      "..........(670746, 2)\n",
      "..........(670746, 2)\n",
      "...."
     ]
    },
    {
     "name": "stderr",
     "output_type": "stream",
     "text": [
      "\r",
      " 48%|████████████████████████████████████████████████████████████████▎                                                                     | 48/100 [03:07<01:53,  2.18s/it]"
     ]
    },
    {
     "name": "stdout",
     "output_type": "stream",
     "text": [
      ".."
     ]
    },
    {
     "name": "stderr",
     "output_type": "stream",
     "text": [
      "\r",
      " 49%|█████████████████████████████████████████████████████████████████▋                                                                    | 49/100 [03:08<01:30,  1.77s/it]"
     ]
    },
    {
     "name": "stdout",
     "output_type": "stream",
     "text": [
      ".(670746, 2)\n",
      "..(670746, 2)\n",
      "..........(670746, 2)\n",
      "..........(670746, 2)\n",
      "."
     ]
    },
    {
     "name": "stderr",
     "output_type": "stream",
     "text": [
      "\r",
      " 50%|███████████████████████████████████████████████████████████████████                                                                   | 50/100 [03:10<01:29,  1.79s/it]"
     ]
    },
    {
     "name": "stdout",
     "output_type": "stream",
     "text": [
      "....(670746, 2)\n"
     ]
    },
    {
     "name": "stderr",
     "output_type": "stream",
     "text": [
      "\r",
      " 51%|████████████████████████████████████████████████████████████████████▎                                                                 | 51/100 [03:11<01:20,  1.65s/it]"
     ]
    },
    {
     "name": "stdout",
     "output_type": "stream",
     "text": [
      "."
     ]
    },
    {
     "name": "stderr",
     "output_type": "stream",
     "text": [
      "\r",
      " 52%|█████████████████████████████████████████████████████████████████████▋                                                                | 52/100 [03:12<01:06,  1.39s/it]"
     ]
    },
    {
     "name": "stdout",
     "output_type": "stream",
     "text": [
      ".(670746, 2)\n",
      ".(670746, 2)\n",
      "..........(670746, 2)\n",
      "..........(670746, 2)\n",
      "..."
     ]
    },
    {
     "name": "stderr",
     "output_type": "stream",
     "text": [
      "\r",
      " 53%|███████████████████████████████████████████████████████████████████████                                                               | 53/100 [03:14<01:13,  1.56s/it]"
     ]
    },
    {
     "name": "stdout",
     "output_type": "stream",
     "text": [
      "...(670746, 2)\n",
      "..........(670746, 2)\n",
      "...."
     ]
    },
    {
     "name": "stderr",
     "output_type": "stream",
     "text": [
      "\r",
      " 54%|████████████████████████████████████████████████████████████████████████▎                                                             | 54/100 [03:15<01:10,  1.52s/it]"
     ]
    },
    {
     "name": "stdout",
     "output_type": "stream",
     "text": [
      "..(670746, 2)\n",
      "......"
     ]
    },
    {
     "name": "stderr",
     "output_type": "stream",
     "text": [
      "\r",
      " 55%|█████████████████████████████████████████████████████████████████████████▋                                                            | 55/100 [03:16<01:04,  1.44s/it]"
     ]
    },
    {
     "name": "stdout",
     "output_type": "stream",
     "text": [
      "..(670746, 2)\n",
      "...."
     ]
    },
    {
     "name": "stderr",
     "output_type": "stream",
     "text": [
      "\r",
      " 56%|███████████████████████████████████████████████████████████████████████████                                                           | 56/100 [03:18<00:58,  1.32s/it]"
     ]
    },
    {
     "name": "stdout",
     "output_type": "stream",
     "text": [
      "....(670746, 2)\n",
      "......."
     ]
    },
    {
     "name": "stderr",
     "output_type": "stream",
     "text": [
      "\r",
      " 57%|████████████████████████████████████████████████████████████████████████████▍                                                         | 57/100 [03:19<01:00,  1.41s/it]"
     ]
    },
    {
     "name": "stdout",
     "output_type": "stream",
     "text": [
      "..(670746, 2)\n",
      "..........(670746, 2)\n",
      "..........(670746, 2)\n",
      "........."
     ]
    },
    {
     "name": "stderr",
     "output_type": "stream",
     "text": [
      "\r",
      " 58%|█████████████████████████████████████████████████████████████████████████████▋                                                        | 58/100 [03:21<01:07,  1.61s/it]"
     ]
    },
    {
     "name": "stdout",
     "output_type": "stream",
     "text": [
      ".(670746, 2)\n",
      ".(670746, 2)\n",
      "..........(670746, 2)\n",
      "......."
     ]
    },
    {
     "name": "stderr",
     "output_type": "stream",
     "text": [
      "\r",
      " 59%|███████████████████████████████████████████████████████████████████████████████                                                       | 59/100 [03:23<01:06,  1.61s/it]"
     ]
    },
    {
     "name": "stdout",
     "output_type": "stream",
     "text": [
      "..(670746, 2)\n",
      "....."
     ]
    },
    {
     "name": "stderr",
     "output_type": "stream",
     "text": [
      "\r",
      " 60%|████████████████████████████████████████████████████████████████████████████████▍                                                     | 60/100 [03:24<00:57,  1.44s/it]"
     ]
    },
    {
     "name": "stdout",
     "output_type": "stream",
     "text": [
      ".."
     ]
    },
    {
     "name": "stderr",
     "output_type": "stream",
     "text": [
      "\r",
      " 61%|█████████████████████████████████████████████████████████████████████████████████▋                                                    | 61/100 [03:25<00:48,  1.24s/it]"
     ]
    },
    {
     "name": "stdout",
     "output_type": "stream",
     "text": [
      ".(670746, 2)\n",
      "."
     ]
    },
    {
     "name": "stderr",
     "output_type": "stream",
     "text": [
      "\r",
      " 62%|███████████████████████████████████████████████████████████████████████████████████                                                   | 62/100 [03:25<00:42,  1.11s/it]"
     ]
    },
    {
     "name": "stdout",
     "output_type": "stream",
     "text": [
      ".(670746, 2)\n",
      "..(670746, 2)\n",
      "........."
     ]
    },
    {
     "name": "stderr",
     "output_type": "stream",
     "text": [
      "\r",
      " 63%|████████████████████████████████████████████████████████████████████████████████████▍                                                 | 63/100 [03:27<00:46,  1.25s/it]"
     ]
    },
    {
     "name": "stdout",
     "output_type": "stream",
     "text": [
      ".(670746, 2)\n",
      ".(670746, 2)\n",
      "......."
     ]
    },
    {
     "name": "stderr",
     "output_type": "stream",
     "text": [
      "\r",
      " 64%|█████████████████████████████████████████████████████████████████████████████████████▊                                                | 64/100 [03:29<00:50,  1.40s/it]"
     ]
    },
    {
     "name": "stdout",
     "output_type": "stream",
     "text": [
      "..(670746, 2)\n",
      "...."
     ]
    },
    {
     "name": "stderr",
     "output_type": "stream",
     "text": [
      "\r",
      " 65%|███████████████████████████████████████████████████████████████████████████████████████                                               | 65/100 [03:30<00:45,  1.29s/it]"
     ]
    },
    {
     "name": "stdout",
     "output_type": "stream",
     "text": [
      "...(670746, 2)\n",
      "..........(670746, 2)\n",
      "...."
     ]
    },
    {
     "name": "stderr",
     "output_type": "stream",
     "text": [
      "\r",
      " 66%|████████████████████████████████████████████████████████████████████████████████████████▍                                             | 66/100 [03:31<00:45,  1.34s/it]"
     ]
    },
    {
     "name": "stdout",
     "output_type": "stream",
     "text": [
      "..(670746, 2)\n",
      "....."
     ]
    },
    {
     "name": "stderr",
     "output_type": "stream",
     "text": [
      "\r",
      " 67%|█████████████████████████████████████████████████████████████████████████████████████████▊                                            | 67/100 [03:32<00:41,  1.26s/it]"
     ]
    },
    {
     "name": "stdout",
     "output_type": "stream",
     "text": [
      "...(670746, 2)\n",
      "...."
     ]
    },
    {
     "name": "stderr",
     "output_type": "stream",
     "text": [
      "\r",
      " 68%|███████████████████████████████████████████████████████████████████████████████████████████                                           | 68/100 [03:33<00:38,  1.21s/it]"
     ]
    },
    {
     "name": "stdout",
     "output_type": "stream",
     "text": [
      ".....(670746, 2)\n",
      "..........(670746, 2)\n",
      "........."
     ]
    },
    {
     "name": "stderr",
     "output_type": "stream",
     "text": [
      "\r",
      " 69%|████████████████████████████████████████████████████████████████████████████████████████████▍                                         | 69/100 [03:35<00:42,  1.37s/it]"
     ]
    },
    {
     "name": "stdout",
     "output_type": "stream",
     "text": [
      ".(670746, 2)\n",
      "...(670746, 2)\n",
      "..........(670746, 2)\n",
      "..........(670746, 2)\n",
      "."
     ]
    },
    {
     "name": "stderr",
     "output_type": "stream",
     "text": [
      "\r",
      " 70%|█████████████████████████████████████████████████████████████████████████████████████████████▊                                        | 70/100 [03:39<01:05,  2.17s/it]"
     ]
    },
    {
     "name": "stdout",
     "output_type": "stream",
     "text": [
      "."
     ]
    },
    {
     "name": "stderr",
     "output_type": "stream",
     "text": [
      "\r",
      " 71%|███████████████████████████████████████████████████████████████████████████████████████████████▏                                      | 71/100 [03:40<00:51,  1.77s/it]"
     ]
    },
    {
     "name": "stdout",
     "output_type": "stream",
     "text": [
      ".(670746, 2)\n",
      "..(670746, 2)\n",
      "..........(670746, 2)\n",
      "..........(670746, 2)\n",
      "..........(670746, 2)\n",
      "..........(670746, 2)\n",
      "..........(670746, 2)\n",
      "."
     ]
    },
    {
     "name": "stderr",
     "output_type": "stream",
     "text": [
      "\r",
      " 72%|████████████████████████████████████████████████████████████████████████████████████████████████▍                                     | 72/100 [03:46<01:24,  3.03s/it]"
     ]
    },
    {
     "name": "stdout",
     "output_type": "stream",
     "text": [
      "..(670746, 2)\n",
      "..........(670746, 2)\n",
      "..........(670746, 2)\n",
      "..........(670746, 2)\n",
      "."
     ]
    },
    {
     "name": "stderr",
     "output_type": "stream",
     "text": [
      "\r",
      " 73%|█████████████████████████████████████████████████████████████████████████████████████████████████▊                                    | 73/100 [03:48<01:16,  2.83s/it]"
     ]
    },
    {
     "name": "stdout",
     "output_type": "stream",
     "text": [
      "....."
     ]
    },
    {
     "name": "stderr",
     "output_type": "stream",
     "text": [
      "\r",
      " 74%|███████████████████████████████████████████████████████████████████████████████████████████████████▏                                  | 74/100 [03:49<00:57,  2.21s/it]"
     ]
    },
    {
     "name": "stdout",
     "output_type": "stream",
     "text": [
      ".(670746, 2)\n",
      ".(670746, 2)\n",
      "....."
     ]
    },
    {
     "name": "stderr",
     "output_type": "stream",
     "text": [
      "\r",
      " 75%|████████████████████████████████████████████████████████████████████████████████████████████████████▌                                 | 75/100 [03:50<00:46,  1.86s/it]"
     ]
    },
    {
     "name": "stdout",
     "output_type": "stream",
     "text": [
      "..(670746, 2)\n",
      "..........(670746, 2)\n",
      "..........(670746, 2)\n",
      "..........(670746, 2)\n",
      "..........(670746, 2)\n",
      "..........(670746, 2)\n",
      "..........(670746, 2)\n",
      "........."
     ]
    },
    {
     "name": "stderr",
     "output_type": "stream",
     "text": [
      "\r",
      " 76%|█████████████████████████████████████████████████████████████████████████████████████████████████████▊                                | 76/100 [03:54<00:59,  2.49s/it]"
     ]
    },
    {
     "name": "stdout",
     "output_type": "stream",
     "text": [
      ".(670746, 2)\n",
      "....(670746, 2)\n",
      "..........(670746, 2)\n",
      "...."
     ]
    },
    {
     "name": "stderr",
     "output_type": "stream",
     "text": [
      "\r",
      " 77%|███████████████████████████████████████████████████████████████████████████████████████████████████████▏                              | 77/100 [03:56<00:49,  2.16s/it]"
     ]
    },
    {
     "name": "stdout",
     "output_type": "stream",
     "text": [
      "..(670746, 2)\n",
      "..........(670746, 2)\n",
      "..........(670746, 2)\n",
      "..........(670746, 2)\n",
      "..........(670746, 2)\n",
      "..........(670746, 2)\n",
      "..........(670746, 2)\n",
      "..........(670746, 2)\n",
      "..........(670746, 2)\n",
      "..........(670746, 2)\n",
      ".."
     ]
    },
    {
     "name": "stderr",
     "output_type": "stream",
     "text": [
      " 79%|█████████████████████████████████████████████████████████████████████████████████████████████████████████▊                            | 79/100 [04:01<00:48,  2.30s/it]"
     ]
    },
    {
     "name": "stdout",
     "output_type": "stream",
     "text": [
      ".(670746, 2)\n",
      "..(670746, 2)\n",
      "..........(670746, 2)\n",
      "...."
     ]
    },
    {
     "name": "stderr",
     "output_type": "stream",
     "text": [
      "\r",
      " 80%|███████████████████████████████████████████████████████████████████████████████████████████████████████████▏                          | 80/100 [04:03<00:40,  2.04s/it]"
     ]
    },
    {
     "name": "stdout",
     "output_type": "stream",
     "text": [
      "..(670746, 2)\n",
      "....."
     ]
    },
    {
     "name": "stderr",
     "output_type": "stream",
     "text": [
      "\r",
      " 81%|████████████████████████████████████████████████████████████████████████████████████████████████████████████▌                         | 81/100 [04:04<00:33,  1.76s/it]"
     ]
    },
    {
     "name": "stdout",
     "output_type": "stream",
     "text": [
      "...(670746, 2)\n",
      "..........(670746, 2)\n",
      "..........(670746, 2)\n",
      "..........(670746, 2)\n",
      "."
     ]
    },
    {
     "name": "stderr",
     "output_type": "stream",
     "text": [
      "\r",
      " 82%|█████████████████████████████████████████████████████████████████████████████████████████████████████████████▉                        | 82/100 [04:06<00:34,  1.93s/it]"
     ]
    },
    {
     "name": "stdout",
     "output_type": "stream",
     "text": [
      "......(670746, 2)\n",
      "....."
     ]
    },
    {
     "name": "stderr",
     "output_type": "stream",
     "text": [
      "\r",
      " 83%|███████████████████████████████████████████████████████████████████████████████████████████████████████████████▏                      | 83/100 [04:07<00:28,  1.67s/it]"
     ]
    },
    {
     "name": "stdout",
     "output_type": "stream",
     "text": [
      "...(670746, 2)\n",
      "..........(670746, 2)\n",
      "..........(670746, 2)\n",
      "..........(670746, 2)\n",
      "..........(670746, 2)\n",
      "..........(670746, 2)\n",
      "..........(670746, 2)\n",
      "..........(670746, 2)\n",
      "..........(670746, 2)\n",
      "."
     ]
    },
    {
     "name": "stderr",
     "output_type": "stream",
     "text": [
      "\r",
      " 84%|████████████████████████████████████████████████████████████████████████████████████████████████████████████████▌                     | 84/100 [04:37<02:41, 10.08s/it]"
     ]
    },
    {
     "name": "stdout",
     "output_type": "stream",
     "text": [
      "..(670746, 2)\n",
      "..........(670746, 2)\n",
      "..........(670746, 2)\n",
      "..........(670746, 2)\n",
      "..........(670746, 2)\n",
      "...."
     ]
    },
    {
     "name": "stderr",
     "output_type": "stream",
     "text": [
      "\r",
      " 85%|█████████████████████████████████████████████████████████████████████████████████████████████████████████████████▉                    | 85/100 [04:40<01:58,  7.92s/it]"
     ]
    },
    {
     "name": "stdout",
     "output_type": "stream",
     "text": [
      "....(670746, 2)\n",
      "...."
     ]
    },
    {
     "name": "stderr",
     "output_type": "stream",
     "text": [
      "\r",
      " 86%|███████████████████████████████████████████████████████████████████████████████████████████████████████████████████▏                  | 86/100 [04:41<01:22,  5.87s/it]"
     ]
    },
    {
     "name": "stdout",
     "output_type": "stream",
     "text": [
      "....(670746, 2)\n",
      "..........(670746, 2)\n",
      "..........(670746, 2)\n",
      "..........(670746, 2)\n",
      "..........(670746, 2)\n",
      "...."
     ]
    },
    {
     "name": "stderr",
     "output_type": "stream",
     "text": [
      "\r",
      " 87%|████████████████████████████████████████████████████████████████████████████████████████████████████████████████████▌                 | 87/100 [04:44<01:04,  4.95s/it]"
     ]
    },
    {
     "name": "stdout",
     "output_type": "stream",
     "text": [
      "...(670746, 2)\n",
      "..........(670746, 2)\n",
      "........."
     ]
    },
    {
     "name": "stderr",
     "output_type": "stream",
     "text": [
      "\r",
      " 88%|█████████████████████████████████████████████████████████████████████████████████████████████████████████████████████▉                | 88/100 [04:45<00:47,  3.97s/it]"
     ]
    },
    {
     "name": "stdout",
     "output_type": "stream",
     "text": [
      ".(670746, 2)\n"
     ]
    },
    {
     "name": "stderr",
     "output_type": "stream",
     "text": [
      "\r",
      " 89%|███████████████████████████████████████████████████████████████████████████████████████████████████████████████████████▎              | 89/100 [04:46<00:33,  3.02s/it]"
     ]
    },
    {
     "name": "stdout",
     "output_type": "stream",
     "text": [
      ".(670746, 2)\n",
      "..(670746, 2)\n",
      "..........(670746, 2)\n",
      "........."
     ]
    },
    {
     "name": "stderr",
     "output_type": "stream",
     "text": [
      "\r",
      " 90%|████████████████████████████████████████████████████████████████████████████████████████████████████████████████████████▌             | 90/100 [04:48<00:26,  2.63s/it]"
     ]
    },
    {
     "name": "stdout",
     "output_type": "stream",
     "text": [
      ".(670746, 2)\n",
      "...(670746, 2)\n",
      "..........(670746, 2)\n",
      "..."
     ]
    },
    {
     "name": "stderr",
     "output_type": "stream",
     "text": [
      "\r",
      " 91%|█████████████████████████████████████████████████████████████████████████████████████████████████████████████████████████▉            | 91/100 [04:49<00:20,  2.30s/it]"
     ]
    },
    {
     "name": "stdout",
     "output_type": "stream",
     "text": [
      "...(670746, 2)\n",
      "."
     ]
    },
    {
     "name": "stderr",
     "output_type": "stream",
     "text": [
      "\r",
      " 92%|███████████████████████████████████████████████████████████████████████████████████████████████████████████████████████████▎          | 92/100 [04:54<00:23,  2.95s/it]"
     ]
    },
    {
     "name": "stdout",
     "output_type": "stream",
     "text": [
      "...(670746, 2)\n",
      "..........(670746, 2)\n",
      "..........(670746, 2)\n",
      "..........(670746, 2)\n",
      "..."
     ]
    },
    {
     "name": "stderr",
     "output_type": "stream",
     "text": [
      "\r",
      " 93%|████████████████████████████████████████████████████████████████████████████████████████████████████████████████████████████▌         | 93/100 [04:56<00:19,  2.76s/it]"
     ]
    },
    {
     "name": "stdout",
     "output_type": "stream",
     "text": [
      "....(670746, 2)\n",
      "..........(670746, 2)\n",
      "..........(670746, 2)\n",
      "........"
     ]
    },
    {
     "name": "stderr",
     "output_type": "stream",
     "text": [
      "\r",
      " 94%|█████████████████████████████████████████████████████████████████████████████████████████████████████████████████████████████▉        | 94/100 [04:58<00:15,  2.62s/it]"
     ]
    },
    {
     "name": "stdout",
     "output_type": "stream",
     "text": [
      "..(670746, 2)\n",
      "...."
     ]
    },
    {
     "name": "stderr",
     "output_type": "stream",
     "text": [
      "\r",
      " 95%|███████████████████████████████████████████████████████████████████████████████████████████████████████████████████████████████▎      | 95/100 [04:59<00:10,  2.15s/it]"
     ]
    },
    {
     "name": "stdout",
     "output_type": "stream",
     "text": [
      "....(670746, 2)\n",
      "...."
     ]
    },
    {
     "name": "stderr",
     "output_type": "stream",
     "text": [
      "\r",
      " 96%|████████████████████████████████████████████████████████████████████████████████████████████████████████████████████████████████▋     | 96/100 [05:00<00:07,  1.83s/it]"
     ]
    },
    {
     "name": "stdout",
     "output_type": "stream",
     "text": [
      "..."
     ]
    },
    {
     "name": "stderr",
     "output_type": "stream",
     "text": [
      "\r",
      " 97%|█████████████████████████████████████████████████████████████████████████████████████████████████████████████████████████████████▉    | 97/100 [05:01<00:04,  1.55s/it]"
     ]
    },
    {
     "name": "stdout",
     "output_type": "stream",
     "text": [
      ".(670746, 2)\n",
      "....(670746, 2)\n",
      "...."
     ]
    },
    {
     "name": "stderr",
     "output_type": "stream",
     "text": [
      "\r",
      " 98%|███████████████████████████████████████████████████████████████████████████████████████████████████████████████████████████████████▎  | 98/100 [05:02<00:02,  1.41s/it]"
     ]
    },
    {
     "name": "stdout",
     "output_type": "stream",
     "text": [
      "....(670746, 2)\n",
      "....."
     ]
    },
    {
     "name": "stderr",
     "output_type": "stream",
     "text": [
      "\r",
      " 99%|████████████████████████████████████████████████████████████████████████████████████████████████████████████████████████████████████▋ | 99/100 [05:04<00:01,  1.31s/it]"
     ]
    },
    {
     "name": "stdout",
     "output_type": "stream",
     "text": [
      "...(670746, 2)\n",
      "...."
     ]
    },
    {
     "name": "stderr",
     "output_type": "stream",
     "text": [
      "100%|█████████████████████████████████████████████████████████████████████████████████████████████████████████████████████████████████████| 100/100 [05:04<00:00,  3.05s/it]"
     ]
    },
    {
     "name": "stdout",
     "output_type": "stream",
     "text": [
      "."
     ]
    },
    {
     "name": "stderr",
     "output_type": "stream",
     "text": [
      "\n"
     ]
    }
   ],
   "source": [
    "data_unsucessful_df_cre_cre = mab_user(unsucessful_df_cre_cre, data, N, arms)\n",
    "data_one_unsucessful_df_cre_cre = data_unsucessful_df_cre_cre.\\\n",
    "drop_duplicates(subset='user_id', keep='last', inplace=False, ignore_index=False)\n",
    "data_unsucessful_df_cre_cre.to_pickle('/Users/caiorego/Desktop/BDS/RA/Seeding-Bandits/data_unsucessful_df_cre_cre.pkl')\n",
    "data_one_unsucessful_df_cre_cre.to_pickle('/Users/caiorego/Desktop/BDS/RA/Seeding-Bandits/data_one_unsucessful_df_cre_cre.pkl')"
   ]
  },
  {
   "cell_type": "code",
   "execution_count": 45,
   "id": "df60d8af",
   "metadata": {},
   "outputs": [
    {
     "data": {
      "text/plain": [
       "trials    24.95000\n",
       "1          0.08831\n",
       "2          0.04854\n",
       "3          0.01703\n",
       "4          0.00568\n",
       "5          0.12850\n",
       "6          0.13800\n",
       "7          0.13718\n",
       "8          0.14639\n",
       "9          0.14401\n",
       "10         0.14636\n",
       "dtype: float64"
      ]
     },
     "execution_count": 45,
     "metadata": {},
     "output_type": "execute_result"
    }
   ],
   "source": [
    "data_one_unsucessful_df_cre_cre[[\n",
    "'trials', '1', '2', '3', '4', '5', '6', '7', '8', '9', '10'    \n",
    "]].mean()"
   ]
  },
  {
   "cell_type": "code",
   "execution_count": 35,
   "id": "84f5101b",
   "metadata": {},
   "outputs": [
    {
     "name": "stderr",
     "output_type": "stream",
     "text": [
      "  1%|█▎                                                                                                                                     | 1/100 [00:00<01:28,  1.11it/s]"
     ]
    },
    {
     "name": "stdout",
     "output_type": "stream",
     "text": [
      ".(670746, 2)\n",
      ".."
     ]
    },
    {
     "name": "stderr",
     "output_type": "stream",
     "text": [
      "\r",
      "  2%|██▋                                                                                                                                    | 2/100 [00:01<01:22,  1.18it/s]"
     ]
    },
    {
     "name": "stdout",
     "output_type": "stream",
     "text": [
      ".(670746, 2)\n",
      "."
     ]
    },
    {
     "name": "stderr",
     "output_type": "stream",
     "text": [
      "\r",
      "  3%|████                                                                                                                                   | 3/100 [00:04<02:57,  1.83s/it]"
     ]
    },
    {
     "name": "stdout",
     "output_type": "stream",
     "text": [
      ".(670746, 2)\n",
      "."
     ]
    },
    {
     "name": "stderr",
     "output_type": "stream",
     "text": [
      "\r",
      "  4%|█████▍                                                                                                                                 | 4/100 [00:05<02:16,  1.42s/it]"
     ]
    },
    {
     "name": "stdout",
     "output_type": "stream",
     "text": [
      ".(670746, 2)\n"
     ]
    },
    {
     "name": "stderr",
     "output_type": "stream",
     "text": [
      "\r",
      "  5%|██████▊                                                                                                                                | 5/100 [00:06<01:53,  1.20s/it]"
     ]
    },
    {
     "name": "stdout",
     "output_type": "stream",
     "text": [
      ".(670746, 2)\n",
      "."
     ]
    },
    {
     "name": "stderr",
     "output_type": "stream",
     "text": [
      "\r",
      "  6%|████████                                                                                                                               | 6/100 [00:07<01:42,  1.09s/it]"
     ]
    },
    {
     "name": "stdout",
     "output_type": "stream",
     "text": [
      ".(670746, 2)\n",
      "."
     ]
    },
    {
     "name": "stderr",
     "output_type": "stream",
     "text": [
      "\r",
      "  7%|█████████▍                                                                                                                             | 7/100 [00:08<01:36,  1.04s/it]"
     ]
    },
    {
     "name": "stdout",
     "output_type": "stream",
     "text": [
      ".(670746, 2)\n",
      ".."
     ]
    },
    {
     "name": "stderr",
     "output_type": "stream",
     "text": [
      "\r",
      "  8%|██████████▊                                                                                                                            | 8/100 [00:08<01:28,  1.05it/s]"
     ]
    },
    {
     "name": "stdout",
     "output_type": "stream",
     "text": [
      ".(670746, 2)\n",
      ".(670746, 2)\n",
      "...."
     ]
    },
    {
     "name": "stderr",
     "output_type": "stream",
     "text": [
      "\r",
      "  9%|████████████▏                                                                                                                          | 9/100 [00:11<02:01,  1.33s/it]"
     ]
    },
    {
     "name": "stdout",
     "output_type": "stream",
     "text": [
      "."
     ]
    },
    {
     "name": "stderr",
     "output_type": "stream",
     "text": [
      "\r",
      " 10%|█████████████▍                                                                                                                        | 10/100 [00:11<01:45,  1.17s/it]"
     ]
    },
    {
     "name": "stdout",
     "output_type": "stream",
     "text": [
      ".(670746, 2)\n",
      "."
     ]
    },
    {
     "name": "stderr",
     "output_type": "stream",
     "text": [
      "\r",
      " 11%|██████████████▋                                                                                                                       | 11/100 [00:12<01:34,  1.06s/it]"
     ]
    },
    {
     "name": "stdout",
     "output_type": "stream",
     "text": [
      ".(670746, 2)\n",
      "."
     ]
    },
    {
     "name": "stderr",
     "output_type": "stream",
     "text": [
      "\r",
      " 12%|████████████████                                                                                                                      | 12/100 [00:13<01:28,  1.00s/it]"
     ]
    },
    {
     "name": "stdout",
     "output_type": "stream",
     "text": [
      ".(670746, 2)\n",
      ".."
     ]
    },
    {
     "name": "stderr",
     "output_type": "stream",
     "text": [
      "\r",
      " 13%|█████████████████▍                                                                                                                    | 13/100 [00:14<01:25,  1.01it/s]"
     ]
    },
    {
     "name": "stdout",
     "output_type": "stream",
     "text": [
      ".(670746, 2)\n",
      ".."
     ]
    },
    {
     "name": "stderr",
     "output_type": "stream",
     "text": [
      "\r",
      " 14%|██████████████████▊                                                                                                                   | 14/100 [00:15<01:20,  1.07it/s]"
     ]
    },
    {
     "name": "stdout",
     "output_type": "stream",
     "text": [
      ".(670746, 2)\n",
      "."
     ]
    },
    {
     "name": "stderr",
     "output_type": "stream",
     "text": [
      "\r",
      " 15%|████████████████████                                                                                                                  | 15/100 [00:16<01:15,  1.13it/s]"
     ]
    },
    {
     "name": "stdout",
     "output_type": "stream",
     "text": [
      ".(670746, 2)\n"
     ]
    },
    {
     "name": "stderr",
     "output_type": "stream",
     "text": [
      "\r",
      " 16%|█████████████████████▍                                                                                                                | 16/100 [00:16<01:12,  1.16it/s]"
     ]
    },
    {
     "name": "stdout",
     "output_type": "stream",
     "text": [
      ".(670746, 2)\n",
      "."
     ]
    },
    {
     "name": "stderr",
     "output_type": "stream",
     "text": [
      "\r",
      " 17%|██████████████████████▊                                                                                                               | 17/100 [00:17<01:10,  1.18it/s]"
     ]
    },
    {
     "name": "stdout",
     "output_type": "stream",
     "text": [
      ".(670746, 2)\n"
     ]
    },
    {
     "name": "stderr",
     "output_type": "stream",
     "text": [
      "\r",
      " 18%|████████████████████████                                                                                                              | 18/100 [00:18<01:09,  1.18it/s]"
     ]
    },
    {
     "name": "stdout",
     "output_type": "stream",
     "text": [
      ".(670746, 2)\n",
      "."
     ]
    },
    {
     "name": "stderr",
     "output_type": "stream",
     "text": [
      "\r",
      " 19%|█████████████████████████▍                                                                                                            | 19/100 [00:19<01:09,  1.17it/s]"
     ]
    },
    {
     "name": "stdout",
     "output_type": "stream",
     "text": [
      ".(670746, 2)\n",
      ".."
     ]
    },
    {
     "name": "stderr",
     "output_type": "stream",
     "text": [
      "\r",
      " 20%|██████████████████████████▊                                                                                                           | 20/100 [00:20<01:06,  1.21it/s]"
     ]
    },
    {
     "name": "stdout",
     "output_type": "stream",
     "text": [
      ".(670746, 2)\n"
     ]
    },
    {
     "name": "stderr",
     "output_type": "stream",
     "text": [
      "\r",
      " 21%|████████████████████████████▏                                                                                                         | 21/100 [00:20<01:04,  1.23it/s]"
     ]
    },
    {
     "name": "stdout",
     "output_type": "stream",
     "text": [
      ".(670746, 2)\n",
      ".(670746, 2)\n",
      "...."
     ]
    },
    {
     "name": "stderr",
     "output_type": "stream",
     "text": [
      "\r",
      " 22%|█████████████████████████████▍                                                                                                        | 22/100 [00:21<01:07,  1.15it/s]"
     ]
    },
    {
     "name": "stdout",
     "output_type": "stream",
     "text": [
      "..(670746, 2)\n",
      ".."
     ]
    },
    {
     "name": "stderr",
     "output_type": "stream",
     "text": [
      "\r",
      " 23%|██████████████████████████████▊                                                                                                       | 23/100 [00:25<01:59,  1.55s/it]"
     ]
    },
    {
     "name": "stdout",
     "output_type": "stream",
     "text": [
      "."
     ]
    },
    {
     "name": "stderr",
     "output_type": "stream",
     "text": [
      "\r",
      " 24%|████████████████████████████████▏                                                                                                     | 24/100 [00:25<01:40,  1.32s/it]"
     ]
    },
    {
     "name": "stdout",
     "output_type": "stream",
     "text": [
      ".(670746, 2)\n"
     ]
    },
    {
     "name": "stderr",
     "output_type": "stream",
     "text": [
      "\r",
      " 25%|█████████████████████████████████▌                                                                                                    | 25/100 [00:26<01:29,  1.19s/it]"
     ]
    },
    {
     "name": "stdout",
     "output_type": "stream",
     "text": [
      ".(670746, 2)\n"
     ]
    },
    {
     "name": "stderr",
     "output_type": "stream",
     "text": [
      "\r",
      " 26%|██████████████████████████████████▊                                                                                                   | 26/100 [00:27<01:18,  1.06s/it]"
     ]
    },
    {
     "name": "stdout",
     "output_type": "stream",
     "text": [
      ".(670746, 2)\n"
     ]
    },
    {
     "name": "stderr",
     "output_type": "stream",
     "text": [
      "\r",
      " 27%|████████████████████████████████████▏                                                                                                 | 27/100 [00:28<01:11,  1.03it/s]"
     ]
    },
    {
     "name": "stdout",
     "output_type": "stream",
     "text": [
      ".(670746, 2)\n",
      ".(670746, 2)\n",
      "........."
     ]
    },
    {
     "name": "stderr",
     "output_type": "stream",
     "text": [
      "\r",
      " 28%|█████████████████████████████████████▌                                                                                                | 28/100 [00:29<01:18,  1.09s/it]"
     ]
    },
    {
     "name": "stdout",
     "output_type": "stream",
     "text": [
      ".(670746, 2)\n",
      "."
     ]
    },
    {
     "name": "stderr",
     "output_type": "stream",
     "text": [
      "\r",
      " 29%|██████████████████████████████████████▊                                                                                               | 29/100 [00:30<01:18,  1.11s/it]"
     ]
    },
    {
     "name": "stdout",
     "output_type": "stream",
     "text": [
      ".(670746, 2)\n",
      "...(670746, 2)\n",
      "..........(670746, 2)\n",
      "........."
     ]
    },
    {
     "name": "stderr",
     "output_type": "stream",
     "text": [
      "\r",
      " 30%|████████████████████████████████████████▏                                                                                             | 30/100 [00:32<01:33,  1.33s/it]"
     ]
    },
    {
     "name": "stdout",
     "output_type": "stream",
     "text": [
      ".(670746, 2)\n",
      "."
     ]
    },
    {
     "name": "stderr",
     "output_type": "stream",
     "text": [
      "\r",
      " 31%|█████████████████████████████████████████▌                                                                                            | 31/100 [00:33<01:23,  1.21s/it]"
     ]
    },
    {
     "name": "stdout",
     "output_type": "stream",
     "text": [
      ".(670746, 2)\n",
      "...."
     ]
    },
    {
     "name": "stderr",
     "output_type": "stream",
     "text": [
      "\r",
      " 32%|██████████████████████████████████████████▉                                                                                           | 32/100 [00:34<01:14,  1.09s/it]"
     ]
    },
    {
     "name": "stdout",
     "output_type": "stream",
     "text": [
      ".(670746, 2)\n"
     ]
    },
    {
     "name": "stderr",
     "output_type": "stream",
     "text": [
      "\r",
      " 33%|████████████████████████████████████████████▏                                                                                         | 33/100 [00:35<01:07,  1.01s/it]"
     ]
    },
    {
     "name": "stdout",
     "output_type": "stream",
     "text": [
      ".(670746, 2)\n",
      "."
     ]
    },
    {
     "name": "stderr",
     "output_type": "stream",
     "text": [
      "\r",
      " 34%|█████████████████████████████████████████████▌                                                                                        | 34/100 [00:36<01:01,  1.07it/s]"
     ]
    },
    {
     "name": "stdout",
     "output_type": "stream",
     "text": [
      ".(670746, 2)\n"
     ]
    },
    {
     "name": "stderr",
     "output_type": "stream",
     "text": [
      "\r",
      " 35%|██████████████████████████████████████████████▉                                                                                       | 35/100 [00:37<01:17,  1.20s/it]"
     ]
    },
    {
     "name": "stdout",
     "output_type": "stream",
     "text": [
      ".(670746, 2)\n"
     ]
    },
    {
     "name": "stderr",
     "output_type": "stream",
     "text": [
      "\r",
      " 36%|████████████████████████████████████████████████▏                                                                                     | 36/100 [00:38<01:08,  1.07s/it]"
     ]
    },
    {
     "name": "stdout",
     "output_type": "stream",
     "text": [
      ".(670746, 2)\n",
      ".(670746, 2)\n",
      ".."
     ]
    },
    {
     "name": "stderr",
     "output_type": "stream",
     "text": [
      "\r",
      " 37%|█████████████████████████████████████████████████▌                                                                                    | 37/100 [00:43<02:11,  2.08s/it]"
     ]
    },
    {
     "name": "stdout",
     "output_type": "stream",
     "text": [
      "."
     ]
    },
    {
     "name": "stderr",
     "output_type": "stream",
     "text": [
      "\r",
      " 38%|██████████████████████████████████████████████████▉                                                                                   | 38/100 [00:43<01:45,  1.70s/it]"
     ]
    },
    {
     "name": "stdout",
     "output_type": "stream",
     "text": [
      ".(670746, 2)\n",
      "."
     ]
    },
    {
     "name": "stderr",
     "output_type": "stream",
     "text": [
      "\r",
      " 39%|████████████████████████████████████████████████████▎                                                                                 | 39/100 [00:44<01:26,  1.42s/it]"
     ]
    },
    {
     "name": "stdout",
     "output_type": "stream",
     "text": [
      ".(670746, 2)\n"
     ]
    },
    {
     "name": "stderr",
     "output_type": "stream",
     "text": [
      "\r",
      " 40%|█████████████████████████████████████████████████████▌                                                                                | 40/100 [00:45<01:16,  1.28s/it]"
     ]
    },
    {
     "name": "stdout",
     "output_type": "stream",
     "text": [
      ".(670746, 2)\n",
      "...."
     ]
    },
    {
     "name": "stderr",
     "output_type": "stream",
     "text": [
      "\r",
      " 41%|██████████████████████████████████████████████████████▉                                                                               | 41/100 [00:46<01:06,  1.13s/it]"
     ]
    },
    {
     "name": "stdout",
     "output_type": "stream",
     "text": [
      ".(670746, 2)\n",
      "."
     ]
    },
    {
     "name": "stderr",
     "output_type": "stream",
     "text": [
      "\r",
      " 42%|████████████████████████████████████████████████████████▎                                                                             | 42/100 [00:47<00:59,  1.03s/it]"
     ]
    },
    {
     "name": "stdout",
     "output_type": "stream",
     "text": [
      ".(670746, 2)\n",
      "."
     ]
    },
    {
     "name": "stderr",
     "output_type": "stream",
     "text": [
      "\r",
      " 43%|█████████████████████████████████████████████████████████▌                                                                            | 43/100 [00:47<00:54,  1.05it/s]"
     ]
    },
    {
     "name": "stdout",
     "output_type": "stream",
     "text": [
      ".(670746, 2)\n"
     ]
    },
    {
     "name": "stderr",
     "output_type": "stream",
     "text": [
      "\r",
      " 44%|██████████████████████████████████████████████████████████▉                                                                           | 44/100 [00:48<00:50,  1.10it/s]"
     ]
    },
    {
     "name": "stdout",
     "output_type": "stream",
     "text": [
      ".(670746, 2)\n",
      "."
     ]
    },
    {
     "name": "stderr",
     "output_type": "stream",
     "text": [
      "\r",
      " 45%|████████████████████████████████████████████████████████████▎                                                                         | 45/100 [00:49<00:47,  1.15it/s]"
     ]
    },
    {
     "name": "stdout",
     "output_type": "stream",
     "text": [
      ".(670746, 2)\n"
     ]
    },
    {
     "name": "stderr",
     "output_type": "stream",
     "text": [
      "\r",
      " 46%|█████████████████████████████████████████████████████████████▋                                                                        | 46/100 [00:50<00:46,  1.16it/s]"
     ]
    },
    {
     "name": "stdout",
     "output_type": "stream",
     "text": [
      ".(670746, 2)\n",
      "."
     ]
    },
    {
     "name": "stderr",
     "output_type": "stream",
     "text": [
      "\r",
      " 47%|██████████████████████████████████████████████████████████████▉                                                                       | 47/100 [00:52<01:05,  1.23s/it]"
     ]
    },
    {
     "name": "stdout",
     "output_type": "stream",
     "text": [
      ".(670746, 2)\n"
     ]
    },
    {
     "name": "stderr",
     "output_type": "stream",
     "text": [
      "\r",
      " 48%|████████████████████████████████████████████████████████████████▎                                                                     | 48/100 [00:53<00:57,  1.11s/it]"
     ]
    },
    {
     "name": "stdout",
     "output_type": "stream",
     "text": [
      ".(670746, 2)\n",
      "."
     ]
    },
    {
     "name": "stderr",
     "output_type": "stream",
     "text": [
      "\r",
      " 49%|█████████████████████████████████████████████████████████████████▋                                                                    | 49/100 [00:54<00:52,  1.02s/it]"
     ]
    },
    {
     "name": "stdout",
     "output_type": "stream",
     "text": [
      ".(670746, 2)\n",
      "."
     ]
    },
    {
     "name": "stderr",
     "output_type": "stream",
     "text": [
      "\r",
      " 50%|███████████████████████████████████████████████████████████████████                                                                   | 50/100 [00:55<00:51,  1.04s/it]"
     ]
    },
    {
     "name": "stdout",
     "output_type": "stream",
     "text": [
      ".(670746, 2)\n"
     ]
    },
    {
     "name": "stderr",
     "output_type": "stream",
     "text": [
      "\r",
      " 51%|████████████████████████████████████████████████████████████████████▎                                                                 | 51/100 [00:55<00:47,  1.03it/s]"
     ]
    },
    {
     "name": "stdout",
     "output_type": "stream",
     "text": [
      ".(670746, 2)\n",
      "."
     ]
    },
    {
     "name": "stderr",
     "output_type": "stream",
     "text": [
      "\r",
      " 52%|█████████████████████████████████████████████████████████████████████▋                                                                | 52/100 [00:56<00:43,  1.10it/s]"
     ]
    },
    {
     "name": "stdout",
     "output_type": "stream",
     "text": [
      ".(670746, 2)\n"
     ]
    },
    {
     "name": "stderr",
     "output_type": "stream",
     "text": [
      "\r",
      " 53%|███████████████████████████████████████████████████████████████████████                                                               | 53/100 [00:57<00:40,  1.15it/s]"
     ]
    },
    {
     "name": "stdout",
     "output_type": "stream",
     "text": [
      ".(670746, 2)\n"
     ]
    },
    {
     "name": "stderr",
     "output_type": "stream",
     "text": [
      "\r",
      " 54%|████████████████████████████████████████████████████████████████████████▎                                                             | 54/100 [00:58<00:38,  1.20it/s]"
     ]
    },
    {
     "name": "stdout",
     "output_type": "stream",
     "text": [
      ".(670746, 2)\n"
     ]
    },
    {
     "name": "stderr",
     "output_type": "stream",
     "text": [
      "\r",
      " 55%|█████████████████████████████████████████████████████████████████████████▋                                                            | 55/100 [00:59<00:36,  1.23it/s]"
     ]
    },
    {
     "name": "stdout",
     "output_type": "stream",
     "text": [
      ".(670746, 2)\n"
     ]
    },
    {
     "name": "stderr",
     "output_type": "stream",
     "text": [
      "\r",
      " 56%|███████████████████████████████████████████████████████████████████████████                                                           | 56/100 [01:04<01:37,  2.21s/it]"
     ]
    },
    {
     "name": "stdout",
     "output_type": "stream",
     "text": [
      ".(670746, 2)\n",
      "..(670746, 2)\n",
      "...."
     ]
    },
    {
     "name": "stderr",
     "output_type": "stream",
     "text": [
      "\r",
      " 57%|████████████████████████████████████████████████████████████████████████████▍                                                         | 57/100 [01:06<01:35,  2.21s/it]"
     ]
    },
    {
     "name": "stdout",
     "output_type": "stream",
     "text": [
      "."
     ]
    },
    {
     "name": "stderr",
     "output_type": "stream",
     "text": [
      "\r",
      " 58%|█████████████████████████████████████████████████████████████████████████████▋                                                        | 58/100 [01:07<01:14,  1.78s/it]"
     ]
    },
    {
     "name": "stdout",
     "output_type": "stream",
     "text": [
      ".(670746, 2)\n"
     ]
    },
    {
     "name": "stderr",
     "output_type": "stream",
     "text": [
      "\r",
      " 59%|███████████████████████████████████████████████████████████████████████████████                                                       | 59/100 [01:08<01:00,  1.47s/it]"
     ]
    },
    {
     "name": "stdout",
     "output_type": "stream",
     "text": [
      ".(670746, 2)\n"
     ]
    },
    {
     "name": "stderr",
     "output_type": "stream",
     "text": [
      "\r",
      " 60%|████████████████████████████████████████████████████████████████████████████████▍                                                     | 60/100 [01:08<00:50,  1.26s/it]"
     ]
    },
    {
     "name": "stdout",
     "output_type": "stream",
     "text": [
      ".(670746, 2)\n"
     ]
    },
    {
     "name": "stderr",
     "output_type": "stream",
     "text": [
      "\r",
      " 61%|█████████████████████████████████████████████████████████████████████████████████▋                                                    | 61/100 [01:09<00:43,  1.13s/it]"
     ]
    },
    {
     "name": "stdout",
     "output_type": "stream",
     "text": [
      ".(670746, 2)\n",
      "."
     ]
    },
    {
     "name": "stderr",
     "output_type": "stream",
     "text": [
      "\r",
      " 62%|███████████████████████████████████████████████████████████████████████████████████                                                   | 62/100 [01:10<00:39,  1.05s/it]"
     ]
    },
    {
     "name": "stdout",
     "output_type": "stream",
     "text": [
      ".(670746, 2)\n",
      "...(670746, 2)\n"
     ]
    },
    {
     "name": "stderr",
     "output_type": "stream",
     "text": [
      "\r",
      " 63%|████████████████████████████████████████████████████████████████████████████████████▍                                                 | 63/100 [01:11<00:38,  1.03s/it]"
     ]
    },
    {
     "name": "stdout",
     "output_type": "stream",
     "text": [
      "."
     ]
    },
    {
     "name": "stderr",
     "output_type": "stream",
     "text": [
      "\r",
      " 64%|█████████████████████████████████████████████████████████████████████████████████████▊                                                | 64/100 [01:12<00:34,  1.04it/s]"
     ]
    },
    {
     "name": "stdout",
     "output_type": "stream",
     "text": [
      ".(670746, 2)\n",
      "..(670746, 2)\n",
      "...."
     ]
    },
    {
     "name": "stderr",
     "output_type": "stream",
     "text": [
      "\r",
      " 65%|███████████████████████████████████████████████████████████████████████████████████████                                               | 65/100 [01:13<00:36,  1.05s/it]"
     ]
    },
    {
     "name": "stdout",
     "output_type": "stream",
     "text": [
      "....."
     ]
    },
    {
     "name": "stderr",
     "output_type": "stream",
     "text": [
      "\r",
      " 66%|████████████████████████████████████████████████████████████████████████████████████████▍                                             | 66/100 [01:14<00:35,  1.05s/it]"
     ]
    },
    {
     "name": "stdout",
     "output_type": "stream",
     "text": [
      ".(670746, 2)\n",
      "."
     ]
    },
    {
     "name": "stderr",
     "output_type": "stream",
     "text": [
      "\r",
      " 67%|█████████████████████████████████████████████████████████████████████████████████████████▊                                            | 67/100 [01:15<00:34,  1.04s/it]"
     ]
    },
    {
     "name": "stdout",
     "output_type": "stream",
     "text": [
      ".(670746, 2)\n",
      "."
     ]
    },
    {
     "name": "stderr",
     "output_type": "stream",
     "text": [
      "\r",
      " 68%|███████████████████████████████████████████████████████████████████████████████████████████                                           | 68/100 [01:16<00:31,  1.00it/s]"
     ]
    },
    {
     "name": "stdout",
     "output_type": "stream",
     "text": [
      ".(670746, 2)\n",
      ".."
     ]
    },
    {
     "name": "stderr",
     "output_type": "stream",
     "text": [
      "\r",
      " 69%|████████████████████████████████████████████████████████████████████████████████████████████▍                                         | 69/100 [01:17<00:30,  1.03it/s]"
     ]
    },
    {
     "name": "stdout",
     "output_type": "stream",
     "text": [
      ".(670746, 2)\n",
      ".(670746, 2)\n",
      "."
     ]
    },
    {
     "name": "stderr",
     "output_type": "stream",
     "text": [
      "\r",
      " 70%|█████████████████████████████████████████████████████████████████████████████████████████████▊                                        | 70/100 [01:21<00:51,  1.72s/it]"
     ]
    },
    {
     "name": "stdout",
     "output_type": "stream",
     "text": [
      "."
     ]
    },
    {
     "name": "stderr",
     "output_type": "stream",
     "text": [
      "\r",
      " 71%|███████████████████████████████████████████████████████████████████████████████████████████████▏                                      | 71/100 [01:21<00:42,  1.48s/it]"
     ]
    },
    {
     "name": "stdout",
     "output_type": "stream",
     "text": [
      ".(670746, 2)\n"
     ]
    },
    {
     "name": "stderr",
     "output_type": "stream",
     "text": [
      "\r",
      " 72%|████████████████████████████████████████████████████████████████████████████████████████████████▍                                     | 72/100 [01:22<00:36,  1.32s/it]"
     ]
    },
    {
     "name": "stdout",
     "output_type": "stream",
     "text": [
      ".(670746, 2)\n"
     ]
    },
    {
     "name": "stderr",
     "output_type": "stream",
     "text": [
      "\r",
      " 73%|█████████████████████████████████████████████████████████████████████████████████████████████████▊                                    | 73/100 [01:23<00:32,  1.19s/it]"
     ]
    },
    {
     "name": "stdout",
     "output_type": "stream",
     "text": [
      ".(670746, 2)\n",
      "."
     ]
    },
    {
     "name": "stderr",
     "output_type": "stream",
     "text": [
      "\r",
      " 74%|███████████████████████████████████████████████████████████████████████████████████████████████████▏                                  | 74/100 [01:24<00:28,  1.10s/it]"
     ]
    },
    {
     "name": "stdout",
     "output_type": "stream",
     "text": [
      ".(670746, 2)\n"
     ]
    },
    {
     "name": "stderr",
     "output_type": "stream",
     "text": [
      "\r",
      " 75%|████████████████████████████████████████████████████████████████████████████████████████████████████▌                                 | 75/100 [01:25<00:25,  1.00s/it]"
     ]
    },
    {
     "name": "stdout",
     "output_type": "stream",
     "text": [
      ".(670746, 2)\n"
     ]
    },
    {
     "name": "stderr",
     "output_type": "stream",
     "text": [
      "\r",
      " 76%|█████████████████████████████████████████████████████████████████████████████████████████████████████▊                                | 76/100 [01:26<00:22,  1.07it/s]"
     ]
    },
    {
     "name": "stdout",
     "output_type": "stream",
     "text": [
      ".(670746, 2)\n"
     ]
    },
    {
     "name": "stderr",
     "output_type": "stream",
     "text": [
      "\r",
      " 77%|███████████████████████████████████████████████████████████████████████████████████████████████████████▏                              | 77/100 [01:27<00:21,  1.08it/s]"
     ]
    },
    {
     "name": "stdout",
     "output_type": "stream",
     "text": [
      ".(670746, 2)\n",
      "..."
     ]
    },
    {
     "name": "stderr",
     "output_type": "stream",
     "text": [
      "\r",
      " 78%|████████████████████████████████████████████████████████████████████████████████████████████████████████▌                             | 78/100 [01:28<00:20,  1.09it/s]"
     ]
    },
    {
     "name": "stdout",
     "output_type": "stream",
     "text": [
      ".(670746, 2)\n"
     ]
    },
    {
     "name": "stderr",
     "output_type": "stream",
     "text": [
      "\r",
      " 79%|█████████████████████████████████████████████████████████████████████████████████████████████████████████▊                            | 79/100 [01:28<00:19,  1.10it/s]"
     ]
    },
    {
     "name": "stdout",
     "output_type": "stream",
     "text": [
      ".(670746, 2)\n",
      "..(670746, 2)\n"
     ]
    },
    {
     "name": "stderr",
     "output_type": "stream",
     "text": [
      "\r",
      " 80%|███████████████████████████████████████████████████████████████████████████████████████████████████████████▏                          | 80/100 [01:32<00:31,  1.58s/it]"
     ]
    },
    {
     "name": "stdout",
     "output_type": "stream",
     "text": [
      "...."
     ]
    },
    {
     "name": "stderr",
     "output_type": "stream",
     "text": [
      "\r",
      " 81%|████████████████████████████████████████████████████████████████████████████████████████████████████████████▌                         | 81/100 [01:32<00:25,  1.33s/it]"
     ]
    },
    {
     "name": "stdout",
     "output_type": "stream",
     "text": [
      ".(670746, 2)\n"
     ]
    },
    {
     "name": "stderr",
     "output_type": "stream",
     "text": [
      "\r",
      " 82%|█████████████████████████████████████████████████████████████████████████████████████████████████████████████▉                        | 82/100 [01:33<00:20,  1.16s/it]"
     ]
    },
    {
     "name": "stdout",
     "output_type": "stream",
     "text": [
      ".(670746, 2)\n"
     ]
    },
    {
     "name": "stderr",
     "output_type": "stream",
     "text": [
      "\r",
      " 83%|███████████████████████████████████████████████████████████████████████████████████████████████████████████████▏                      | 83/100 [01:34<00:18,  1.06s/it]"
     ]
    },
    {
     "name": "stdout",
     "output_type": "stream",
     "text": [
      ".(670746, 2)\n",
      "."
     ]
    },
    {
     "name": "stderr",
     "output_type": "stream",
     "text": [
      "\r",
      " 84%|████████████████████████████████████████████████████████████████████████████████████████████████████████████████▌                     | 84/100 [01:35<00:16,  1.02s/it]"
     ]
    },
    {
     "name": "stdout",
     "output_type": "stream",
     "text": [
      ".(670746, 2)\n",
      ".."
     ]
    },
    {
     "name": "stderr",
     "output_type": "stream",
     "text": [
      "\r",
      " 85%|█████████████████████████████████████████████████████████████████████████████████████████████████████████████████▉                    | 85/100 [01:36<00:14,  1.02it/s]"
     ]
    },
    {
     "name": "stdout",
     "output_type": "stream",
     "text": [
      ".(670746, 2)\n",
      "..."
     ]
    },
    {
     "name": "stderr",
     "output_type": "stream",
     "text": [
      "\r",
      " 86%|███████████████████████████████████████████████████████████████████████████████████████████████████████████████████▏                  | 86/100 [01:37<00:12,  1.09it/s]"
     ]
    },
    {
     "name": "stdout",
     "output_type": "stream",
     "text": [
      ".(670746, 2)\n"
     ]
    },
    {
     "name": "stderr",
     "output_type": "stream",
     "text": [
      "\r",
      " 87%|████████████████████████████████████████████████████████████████████████████████████████████████████████████████████▌                 | 87/100 [01:37<00:11,  1.13it/s]"
     ]
    },
    {
     "name": "stdout",
     "output_type": "stream",
     "text": [
      ".(670746, 2)\n",
      "."
     ]
    },
    {
     "name": "stderr",
     "output_type": "stream",
     "text": [
      "\r",
      " 88%|█████████████████████████████████████████████████████████████████████████████████████████████████████████████████████▉                | 88/100 [01:38<00:10,  1.18it/s]"
     ]
    },
    {
     "name": "stdout",
     "output_type": "stream",
     "text": [
      ".(670746, 2)\n"
     ]
    },
    {
     "name": "stderr",
     "output_type": "stream",
     "text": [
      "\r",
      " 89%|███████████████████████████████████████████████████████████████████████████████████████████████████████████████████████▎              | 89/100 [01:39<00:09,  1.22it/s]"
     ]
    },
    {
     "name": "stdout",
     "output_type": "stream",
     "text": [
      ".(670746, 2)\n"
     ]
    },
    {
     "name": "stderr",
     "output_type": "stream",
     "text": [
      "\r",
      " 90%|████████████████████████████████████████████████████████████████████████████████████████████████████████████████████████▌             | 90/100 [01:40<00:08,  1.24it/s]"
     ]
    },
    {
     "name": "stdout",
     "output_type": "stream",
     "text": [
      ".(670746, 2)\n"
     ]
    },
    {
     "name": "stderr",
     "output_type": "stream",
     "text": [
      "\r",
      " 91%|█████████████████████████████████████████████████████████████████████████████████████████████████████████████████████████▉            | 91/100 [01:41<00:07,  1.16it/s]"
     ]
    },
    {
     "name": "stdout",
     "output_type": "stream",
     "text": [
      ".(670746, 2)\n",
      "..(670746, 2)\n",
      ".."
     ]
    },
    {
     "name": "stderr",
     "output_type": "stream",
     "text": [
      "\r",
      " 92%|███████████████████████████████████████████████████████████████████████████████████████████████████████████████████████████▎          | 92/100 [01:42<00:07,  1.11it/s]"
     ]
    },
    {
     "name": "stdout",
     "output_type": "stream",
     "text": [
      "."
     ]
    },
    {
     "name": "stderr",
     "output_type": "stream",
     "text": [
      "\r",
      " 93%|████████████████████████████████████████████████████████████████████████████████████████████████████████████████████████████▌         | 93/100 [01:42<00:06,  1.17it/s]"
     ]
    },
    {
     "name": "stdout",
     "output_type": "stream",
     "text": [
      ".(670746, 2)\n"
     ]
    },
    {
     "name": "stderr",
     "output_type": "stream",
     "text": [
      "\r",
      " 94%|█████████████████████████████████████████████████████████████████████████████████████████████████████████████████████████████▉        | 94/100 [01:43<00:04,  1.21it/s]"
     ]
    },
    {
     "name": "stdout",
     "output_type": "stream",
     "text": [
      ".(670746, 2)\n",
      ".(670746, 2)\n",
      "..........(670746, 2)\n",
      "....."
     ]
    },
    {
     "name": "stderr",
     "output_type": "stream",
     "text": [
      "\r",
      " 95%|███████████████████████████████████████████████████████████████████████████████████████████████████████████████████████████████▎      | 95/100 [01:47<00:09,  1.80s/it]"
     ]
    },
    {
     "name": "stdout",
     "output_type": "stream",
     "text": [
      ".."
     ]
    },
    {
     "name": "stderr",
     "output_type": "stream",
     "text": [
      "\r",
      " 96%|████████████████████████████████████████████████████████████████████████████████████████████████████████████████████████████████▋     | 96/100 [01:48<00:05,  1.49s/it]"
     ]
    },
    {
     "name": "stdout",
     "output_type": "stream",
     "text": [
      ".(670746, 2)\n"
     ]
    },
    {
     "name": "stderr",
     "output_type": "stream",
     "text": [
      "\r",
      " 97%|█████████████████████████████████████████████████████████████████████████████████████████████████████████████████████████████████▉    | 97/100 [01:49<00:03,  1.27s/it]"
     ]
    },
    {
     "name": "stdout",
     "output_type": "stream",
     "text": [
      ".(670746, 2)\n",
      ".(670746, 2)\n",
      "..."
     ]
    },
    {
     "name": "stderr",
     "output_type": "stream",
     "text": [
      "\r",
      " 98%|███████████████████████████████████████████████████████████████████████████████████████████████████████████████████████████████████▎  | 98/100 [01:53<00:04,  2.06s/it]"
     ]
    },
    {
     "name": "stdout",
     "output_type": "stream",
     "text": [
      ".....(670746, 2)\n"
     ]
    },
    {
     "name": "stderr",
     "output_type": "stream",
     "text": [
      "\r",
      " 99%|████████████████████████████████████████████████████████████████████████████████████████████████████████████████████████████████████▋ | 99/100 [01:54<00:01,  1.89s/it]"
     ]
    },
    {
     "name": "stdout",
     "output_type": "stream",
     "text": [
      "."
     ]
    },
    {
     "name": "stderr",
     "output_type": "stream",
     "text": [
      "100%|█████████████████████████████████████████████████████████████████████████████████████████████████████████████████████████████████████| 100/100 [01:55<00:00,  1.16s/it]"
     ]
    },
    {
     "name": "stdout",
     "output_type": "stream",
     "text": [
      ".(670746, 2)\n"
     ]
    },
    {
     "name": "stderr",
     "output_type": "stream",
     "text": [
      "\n"
     ]
    }
   ],
   "source": [
    "data_unsucessful_df_cre_use = mab_user(unsucessful_df_cre_use, data, N, arms)\n",
    "data_one_unsucessful_df_cre_use = data_unsucessful_df_cre_use.\\\n",
    "drop_duplicates(subset='user_id', keep='last', inplace=False, ignore_index=False)\n",
    "data_unsucessful_df_cre_use.to_pickle('/Users/caiorego/Desktop/BDS/RA/Seeding-Bandits/data_unsucessful_df_cre_use.pkl')\n",
    "data_one_unsucessful_df_cre_use.to_pickle('/Users/caiorego/Desktop/BDS/RA/Seeding-Bandits/data_one_unsucessful_df_cre_use.pkl')"
   ]
  },
  {
   "cell_type": "code",
   "execution_count": 46,
   "id": "2b15b189",
   "metadata": {},
   "outputs": [
    {
     "data": {
      "text/plain": [
       "trials    2.57000\n",
       "1         0.11682\n",
       "2         0.10776\n",
       "3         0.07031\n",
       "4         0.02318\n",
       "5         0.10763\n",
       "6         0.11191\n",
       "7         0.11643\n",
       "8         0.11389\n",
       "9         0.11648\n",
       "10        0.11559\n",
       "dtype: float64"
      ]
     },
     "execution_count": 46,
     "metadata": {},
     "output_type": "execute_result"
    }
   ],
   "source": [
    "data_one_unsucessful_df_cre_use[[\n",
    "'trials', '1', '2', '3', '4', '5', '6', '7', '8', '9', '10'    \n",
    "]].mean()"
   ]
  },
  {
   "cell_type": "markdown",
   "id": "cfee8c5b",
   "metadata": {},
   "source": [
    "#to do: change code so each interaction updates a creator's Mab\n",
    "1. class mab? Dict?"
   ]
  },
  {
   "cell_type": "code",
   "execution_count": null,
   "id": "1838f082",
   "metadata": {},
   "outputs": [],
   "source": [
    "actions_sent_non_followers"
   ]
  },
  {
   "cell_type": "code",
   "execution_count": null,
   "id": "b2edf22a",
   "metadata": {},
   "outputs": [],
   "source": []
  }
 ],
 "metadata": {
  "kernelspec": {
   "display_name": "Python 3 (ipykernel)",
   "language": "python",
   "name": "python3"
  },
  "language_info": {
   "codemirror_mode": {
    "name": "ipython",
    "version": 3
   },
   "file_extension": ".py",
   "mimetype": "text/x-python",
   "name": "python",
   "nbconvert_exporter": "python",
   "pygments_lexer": "ipython3",
   "version": "3.8.2"
  }
 },
 "nbformat": 4,
 "nbformat_minor": 5
}
