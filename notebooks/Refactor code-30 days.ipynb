{
 "cells": [
  {
   "cell_type": "code",
   "execution_count": 1,
   "id": "37a758ab",
   "metadata": {},
   "outputs": [],
   "source": [
    "import sys  \n",
    "import pickle\n",
    "sys.path.insert(0, '/Users/caiorego/Desktop/BDS/RA/Seeding-Bandits/')\n",
    "import numpy as np\n",
    "import src.utils\n",
    "from collections import Counter\n",
    "from src.utils import import_dta, import_tracks_dta, successful_creators_followers,\\\n",
    "gen_active_relations, get_fan_interactions_per_week, calculate_avg_monthly_valence,\\\n",
    "gen_active_relations_prob, get_fan_interactions_per_week_prob, stripplot_prob,\\\n",
    "reaction_probability, follower_list, filter_quantile, sample_creators_music,\\\n",
    "gen_outbound_creators\n",
    "import numpy as np\n",
    "import datetime\n",
    "import pandas as pd\n",
    "from tqdm import tqdm\n",
    "import dask.dataframe as dd\n",
    "import matplotlib.pyplot as plt\n",
    "import seaborn as sns"
   ]
  },
  {
   "cell_type": "code",
   "execution_count": 2,
   "id": "6d3be5f3",
   "metadata": {},
   "outputs": [],
   "source": [
    "#General options\n",
    "\n",
    "path_dir = r\"/Users/../Volumes/Raw/\"\n",
    "music_before = 30\n",
    "low_success = 0.5\n",
    "high_success = 0.9\n",
    "rank_percentiles = False"
   ]
  },
  {
   "cell_type": "code",
   "execution_count": 3,
   "id": "974d653d",
   "metadata": {},
   "outputs": [],
   "source": [
    "def import_indegree_dask(path='/Users/caiorego/Desktop/BDS/RA/Seeding-Bandits/indegree/'):\n",
    "    df = pd.read_pickle('{}df0.pkl'.format(path))\n",
    "    df1 = pd.read_pickle('{}df1.pkl'.format(path))\n",
    "    df2 = pd.read_pickle('{}df2.pkl'.format(path))\n",
    "    df3 = pd.read_pickle('{}df3.pkl'.format(path))\n",
    "    df4 = pd.read_pickle('{}df4.pkl'.format(path))\n",
    "    df5 = pd.read_pickle('{}df5.pkl'.format(path))\n",
    "    df6 = pd.read_pickle('{}df6.pkl'.format(path))\n",
    "    df7 = pd.read_pickle('{}df7.pkl'.format(path))\n",
    "    df8 = pd.read_pickle('{}df8.pkl'.format(path))\n",
    "    df9 = pd.read_pickle('{}df9.pkl'.format(path))\n",
    "    \n",
    "    ddf = dd.from_pandas(df, npartitions = 3)\n",
    "    ddf1 = dd.from_pandas(df1, npartitions = 3)\n",
    "    ddf2 = dd.from_pandas(df2, npartitions = 3)\n",
    "    ddf3 = dd.from_pandas(df3, npartitions = 3)\n",
    "    ddf4 = dd.from_pandas(df4, npartitions = 3)\n",
    "    ddf5 = dd.from_pandas(df5, npartitions = 3)\n",
    "    ddf6 = dd.from_pandas(df6, npartitions = 3)\n",
    "    ddf7 = dd.from_pandas(df7, npartitions = 3)\n",
    "    ddf8 = dd.from_pandas(df8, npartitions = 3)\n",
    "    ddf9 = dd.from_pandas(df9, npartitions = 3)\n",
    "    \n",
    "    concatdf = dd.multi.concat([ddf,ddf1,ddf2,ddf3,ddf4,ddf5,ddf6,ddf7,ddf8,ddf9])\n",
    "    \n",
    "    return concatdf"
   ]
  },
  {
   "cell_type": "code",
   "execution_count": 4,
   "id": "b2d1bd2b",
   "metadata": {},
   "outputs": [],
   "source": [
    "def process_date(date):\n",
    "    year = date[0:4]\n",
    "    week = date[6:]\n",
    "    day = \"1\"\n",
    "    date = \"{}-{}-1\".format(year, week)\n",
    "    dt = datetime.datetime.strptime(date, \"%Y-%W-%w\")\n",
    "    return dt"
   ]
  },
  {
   "cell_type": "code",
   "execution_count": 5,
   "id": "4d0beb3f",
   "metadata": {},
   "outputs": [],
   "source": [
    "#Creator's Actions data"
   ]
  },
  {
   "cell_type": "code",
   "execution_count": 6,
   "id": "75dc11fe",
   "metadata": {},
   "outputs": [
    {
     "name": "stdout",
     "output_type": "stream",
     "text": [
      "\u001b[31m12sample_plays_made.dta\u001b[m\u001b[m\r\n"
     ]
    }
   ],
   "source": [
    "!ls /Users/../Volumes/Track_plays"
   ]
  },
  {
   "cell_type": "code",
   "execution_count": 7,
   "id": "03f61585",
   "metadata": {},
   "outputs": [
    {
     "name": "stdout",
     "output_type": "stream",
     "text": [
      "%%%%%%%%%% 12sample_tracks.dta %%%%%%%%%%\n",
      "(56262, 7)\n",
      "%%%%%%%%%% 12sample_affiliations_sent.dta %%%%%%%%%%\n",
      "(800913, 3)\n",
      "%%%%%%%%%% 12sample_comments_made.dta %%%%%%%%%%\n",
      "(29258, 4)\n",
      "%%%%%%%%%% 12sample_reposts_made.dta %%%%%%%%%%\n",
      "(179329, 4)\n",
      "%%%%%%%%%% 12sample_favoritings_made.dta %%%%%%%%%%\n",
      "(527701, 4)\n",
      "%%%%%%%%%% 12sample_messages_sent.dta %%%%%%%%%%\n",
      "(11091, 3)\n",
      "%%%%%%%%%% 12sample_1st_deg_user_infos.dta %%%%%%%%%%\n",
      "(670746, 3)\n",
      "%%%%%%%%%% 12sample_user_infos.dta %%%%%%%%%%\n",
      "(35000, 3)\n",
      "%%%%%%%%%% 12sample_affiliations_received.dta %%%%%%%%%%\n",
      "(432503, 3)\n",
      "2018-02-03 00:00:00\n",
      "High influencer boundary: 66.0\n",
      "Low influencer boundary: 11.0\n",
      "2018-02-03 00:00:00\n",
      "High influencer boundary: 53.0\n",
      "Low influencer boundary: 6.0\n"
     ]
    }
   ],
   "source": [
    "#we will skip comments for now\n",
    "\n",
    "#affiliations :follows\n",
    "#favoritings :likes\n",
    "\n",
    "#used in filtering:\n",
    "path_dir = r\"/Users/../Volumes/Raw/\"\n",
    "tracks = import_tracks_dta(path_dir, \"12sample_tracks.dta\");\n",
    "\n",
    "#used to compute creato_actions\n",
    "follows_sent = import_dta(path_dir, \"12sample_affiliations_sent.dta\");\n",
    "comments_sent = import_dta(path_dir, \"12sample_comments_made.dta\");\n",
    "shares_sent = import_dta(path_dir, \"12sample_reposts_made.dta\");\n",
    "likes_sent = import_dta(path_dir, \"12sample_favoritings_made.dta\");\n",
    "messages_sent = import_dta(path_dir, \"12sample_messages_sent.dta\");\n",
    "\n",
    "#Used to track information on the 1st degree connections\n",
    "user_info_1st = import_dta(path_dir, \"12sample_1st_deg_user_infos.dta\");\n",
    "user_info_1st.columns = ['user_id', 'type', 'entered_platform'];\n",
    "user_info = import_dta(path_dir, \"12sample_user_infos.dta\");\n",
    "\n",
    "#Used to compute creator's success measure\n",
    "follows_received = import_dta(path_dir, \"12sample_affiliations_received.dta\");\n",
    "\n",
    "#previously used to filter creators\n",
    "tracks_first_month = sample_creators_music(tracks, music_before)# music_before changed so it \n",
    "#suffices to have made a track available\n",
    "mask = tracks_first_month.track_available == 1\n",
    "tracks_first_month = tracks_first_month[mask]\n",
    "\n",
    "mask = follows_received.contact_id.isin(tracks_first_month.user_id)\n",
    "follows_received_30 = follows_received[mask]\n",
    "followers_per_creator_60_static = successful_creators_followers(follows_received_30, 60, \n",
    "                                                        perc1 = low_success, perc2 = high_success)\n",
    "\n",
    "mask = user_info.type == 'creator'\n",
    "creator_ids = user_info[mask].user_id.unique()\n",
    "\n",
    "mask = follows_received.contact_id.isin(creator_ids)\n",
    "follows_received_creators = follows_received[mask]\n",
    "\n",
    "followers_per_creator_60_static = successful_creators_followers(follows_received_creators, 60, \n",
    "                                                        perc1 = low_success, perc2 = high_success, subset_creators = tracks_first_month)"
   ]
  },
  {
   "cell_type": "code",
   "execution_count": 9,
   "id": "a03db499",
   "metadata": {},
   "outputs": [
    {
     "data": {
      "text/plain": [
       "True"
      ]
     },
     "execution_count": 9,
     "metadata": {},
     "output_type": "execute_result"
    }
   ],
   "source": [
    "type(tracks_first_month)== pd.DataFrame"
   ]
  },
  {
   "cell_type": "code",
   "execution_count": 10,
   "id": "c75277a3",
   "metadata": {},
   "outputs": [],
   "source": [
    "#successful_user_ids\n",
    "mask = followers_per_creator_60_static.high_low == 'low'\n",
    "unsuccessful_ids = followers_per_creator_60_static.loc[mask].user_id.unique()\n",
    "\n",
    "mask = followers_per_creator_60_static.high_low == 'high'\n",
    "successful_ids = followers_per_creator_60_static.loc[mask].user_id.unique()"
   ]
  },
  {
   "cell_type": "code",
   "execution_count": 11,
   "id": "7424212c",
   "metadata": {},
   "outputs": [],
   "source": [
    "# Aggregates preprocessed outdegree of 1st degree users\n",
    "\n",
    "d = {}\n",
    "for i in range(6):\n",
    "   d[str(i)] = pd.read_pickle('/Users/caiorego/Desktop/BDS/RA/Seeding-Bandits/{}.pkl'.format(i)) \n",
    "   d[str(i)]['created_at'] =  pd.to_datetime(d[str(i)]['created_at'])\n",
    "    \n",
    "data_out = pd.concat([d['0'], d['1'], d['2'], d['3'], d['4'], d['5']])\n",
    "data_out.set_index('created_at', inplace = True)"
   ]
  },
  {
   "cell_type": "code",
   "execution_count": 12,
   "id": "cf1b535d",
   "metadata": {},
   "outputs": [],
   "source": [
    "data_in = import_indegree_dask()"
   ]
  },
  {
   "cell_type": "code",
   "execution_count": 13,
   "id": "6c6b8f49",
   "metadata": {},
   "outputs": [],
   "source": [
    "#Generates a data sent with all messages sent by creators\n",
    "\n",
    "actions_sent = gen_outbound_creators(follows_sent, shares_sent, likes_sent, comments_sent, tracks,\n",
    "                                     messages_sent = messages_sent, filter_creators = True)\n",
    "#mask = actions_sent.user_id.isin(tracks_first_month.user_id.unique())\n",
    "#actions_sent = actions_sent[mask]"
   ]
  },
  {
   "cell_type": "code",
   "execution_count": 14,
   "id": "b904f4bf",
   "metadata": {},
   "outputs": [
    {
     "name": "stdout",
     "output_type": "stream",
     "text": [
      "Obtaining fanbase...\n"
     ]
    },
    {
     "name": "stderr",
     "output_type": "stream",
     "text": [
      "/var/folders/f2/cgjzt69n5hlgmtsm36p1pztw0000gn/T/ipykernel_84193/2662936126.py:9: SettingWithCopyWarning: \n",
      "A value is trying to be set on a copy of a slice from a DataFrame.\n",
      "Try using .loc[row_indexer,col_indexer] = value instead\n",
      "\n",
      "See the caveats in the documentation: https://pandas.pydata.org/pandas-docs/stable/user_guide/indexing.html#returning-a-view-versus-a-copy\n",
      "  actions_sent_non_followers['week_yr_date'] = actions_sent_non_followers.week_yr.apply(lambda x: process_date(x))\n"
     ]
    }
   ],
   "source": [
    "#filter only outbound activities before the follow is received\n",
    "print('Obtaining fanbase...')\n",
    "follows_received.columns = ['fan_id', 'user_id', 'date_sent']\n",
    "followers = follower_list(follows_received)\n",
    "actions_sent = actions_sent.merge(followers, right_on = ['user_id', 'fan_id'],\n",
    "                                      left_on = ['user_id', 'fan_id'], how = 'left')\n",
    "mask = (actions_sent.date_sent < actions_sent.follower_since) | (actions_sent.follower_since.isnull())\n",
    "actions_sent_non_followers =  actions_sent[mask]\n",
    "actions_sent_non_followers['week_yr_date'] = actions_sent_non_followers.week_yr.apply(lambda x: process_date(x))"
   ]
  },
  {
   "cell_type": "code",
   "execution_count": 15,
   "id": "574bfc99",
   "metadata": {},
   "outputs": [],
   "source": [
    "mask = actions_sent_non_followers.user_id.isin(user_info.loc[user_info.type == 'creator'].user_id.unique())\n",
    "actions_sent_non_followers = actions_sent_non_followers[mask]"
   ]
  },
  {
   "cell_type": "code",
   "execution_count": 16,
   "id": "154858ad",
   "metadata": {},
   "outputs": [],
   "source": [
    "class MultiArmedBandits:\n",
    "    \n",
    "    def __init__(self, arm_names, user_id):\n",
    "        self.user_id = user_id\n",
    "        self.arm_names = arm_names\n",
    "        self.arms = {k:{'Sent':0,'Reward':0} for k in arm_names}\n",
    "        self.increment = {k:{'Sent':0,'Reward':0} for k in arm_names}\n",
    "        self.means = np.array(len(arm_names))\n",
    "        self.variances = np.array(len(arm_names))\n",
    "        self.last_arm_pulled = None\n",
    "        self.arm_switches = 0\n",
    "        self.total_trials = 0 \n",
    "        self.trials_at_day = 0\n",
    "        self.rewards = 0\n",
    "    \n",
    "    def initialize_priors(self):\n",
    "        pass\n",
    "    \n",
    "    def update_increment(self, target, outcome):\n",
    "        self.increment[target]['Sent'] += 1\n",
    "        self.increment[target]['Reward'] += outcome\n",
    "        self.arm_switches += self.arm_switches + (self.last_arm_pulled != str(target))\n",
    "        self.last_arm_pulled = str(target)\n",
    "        self.total_trials += 1\n",
    "        self.trials_at_day += 1\n",
    "        self.rewards += outcome\n",
    "    \n",
    "    def update_arms(self):\n",
    "        for k in self.increment.keys():\n",
    "            for j in self.increment[k]:\n",
    "                self.arms[k][j] += self.increment[k][j]\n",
    "        self.increment = {k:{'Sent':0,'Reward':0} for k in self.arm_names}\n",
    "        self.trials_at_day = 0\n",
    "                \n",
    "    def estimate_moments(self):\n",
    "        \n",
    "        Sent = np.array([a[1]['Sent'] for a in self.arms.items()])\n",
    "        Reward = np.array([a[1]['Reward'] for a in self.arms.items()])\n",
    "        \n",
    "        alpha = Reward + 1 \n",
    "        beta = (Sent-Reward)+1\n",
    "\n",
    "        mean = alpha/(alpha+beta)\n",
    "        variance = (alpha*beta)/((alpha+beta+1)*((alpha+beta)**2))\n",
    "        \n",
    "        self.means = np.transpose(np.around(mean,3))\n",
    "        self.variances = np.transpose(np.around(np.sqrt(variance),3))"
   ]
  },
  {
   "cell_type": "markdown",
   "id": "708f6731",
   "metadata": {},
   "source": [
    "To do:\n",
    "- Label data -done\n",
    "- Mock classification rule (keep previous)-done\n",
    "- Function to count outdegree/indegree using increments/ Obs: not necessary since we are using daily batches."
   ]
  },
  {
   "cell_type": "code",
   "execution_count": 17,
   "id": "7fac22bc",
   "metadata": {},
   "outputs": [],
   "source": [
    "def create_target(data_actions_sent, interval):\n",
    "    # Target Creation\n",
    "    delta = datetime.timedelta(days = interval)\n",
    "    mask = (data_actions_sent['follower_since'] <= (data_actions_sent['date_sent'] + delta).dt.floor('d'))\n",
    "\n",
    "    data_actions_sent.loc[mask, 'reward'] = 1\n",
    "    mask = data_actions_sent['reward'].isnull()\n",
    "    data_actions_sent.loc[mask, 'reward'] = 0\n",
    "    return data_actions_sent"
   ]
  },
  {
   "cell_type": "code",
   "execution_count": 18,
   "id": "ef1a956e",
   "metadata": {},
   "outputs": [],
   "source": [
    "def update_membership_table(data, upper_limit, d_percentiles = 10):\n",
    "    \n",
    "    data = data[data.created_at<upper_limit]\n",
    "    data = data.groupby('contact_id').agg({'size':'sum'})\n",
    "    steps = 100//d_percentiles\n",
    "    \n",
    "    #merge with user info to obtain users that are not followed by anyone at the current date\n",
    "    data = user_info_1st.merge(data, left_on = 'user_id', right_on = 'contact_id', how= 'outer')\n",
    "    data.loc[data['size'].isnull(), 'size'] = 0\n",
    "    data = data[['user_id', 'size', 'entered_platform']].set_index('user_id')\n",
    "    \n",
    "    #filter out users that didnt exist in the current date\n",
    "    mask = data['entered_platform'] <= upper_limit\n",
    "    data = data.loc[mask]\n",
    "    \n",
    "    mask = (data['size']>0)\n",
    "    data.loc[~mask, 'type'] = 0 \n",
    "    \n",
    "    cutpoints = np.percentile(data[mask]['size'], np.arange(0,100, steps)) \n",
    "    \n",
    "    for i in range(len(cutpoints)):\n",
    "        low = cutpoints[i]\n",
    "        try:\n",
    "            high = cutpoints[i+1]\n",
    "        except:\n",
    "            high = 100000\n",
    "        \n",
    "        mask2 = (data[mask]['size']>=low) & (data[mask]['size'] <high) & (data['size']>0)\n",
    "        data.loc[mask2,'type'] = i + 1 \n",
    "    return data"
   ]
  },
  {
   "cell_type": "code",
   "execution_count": 19,
   "id": "3290386b",
   "metadata": {},
   "outputs": [],
   "source": [
    "def update_membership_table_dask(data, upper_limit, user_info = user_info_1st, d_percentiles = 10):\n",
    "    \n",
    "    data = data[data.created_at.dt.floor('d')<=upper_limit]\n",
    "    data = data.groupby('contact_id').agg({'size':'sum'}).compute()\n",
    "    steps = 100//d_percentiles\n",
    "    \n",
    "    #merge with user info to obtain users that are not followed by anyone at the current date\n",
    "    data = user_info_1st.merge(data, left_on = 'user_id', right_on = 'contact_id', how= 'outer')\n",
    "    data.loc[data['size'].isnull(), 'size'] = 0\n",
    "    data = data[['user_id', 'size', 'entered_platform']].set_index('user_id')\n",
    "    \n",
    "    #filter out users that didnt exist in the current date\n",
    "    mask = data['entered_platform'].dt.floor('d') <= upper_limit\n",
    "    data = data.loc[mask]\n",
    "    \n",
    "    mask = (data['size']>0)\n",
    "    data.loc[~mask, 'type'] = 0 \n",
    "    \n",
    "    #cutpoints ignore users with 0 followers as they will appear in their own category\n",
    "    #cutpoints = np.percentile(data[mask]['size'], np.arange(1,100, steps)) \n",
    "    cutpoints = np.percentile(data['size'], np.arange(0,100, steps)) \n",
    "\n",
    "    for i in range(len(cutpoints)):\n",
    "        low = cutpoints[i]\n",
    "        try:\n",
    "            high = cutpoints[i+1]\n",
    "        except:\n",
    "            high = 100000\n",
    "        \n",
    "        mask2 = (data[mask]['size']>=low) & (data[mask]['size'] <high) & (data['size']>0)\n",
    "        data.loc[mask2,'type'] = i + 1 \n",
    "    return data"
   ]
  },
  {
   "cell_type": "code",
   "execution_count": 20,
   "id": "6110ce73",
   "metadata": {},
   "outputs": [
    {
     "name": "stderr",
     "output_type": "stream",
     "text": [
      "100%|███████████████████████████████████████████████████████████████████████████████████████████████████████████████████████████████████| 864/864 [2:08:00<00:00,  8.89s/it]\n"
     ]
    }
   ],
   "source": [
    "arm_names = [i for i in range(0,11)]\n",
    "labeled_dateset = create_target(actions_sent_non_followers,1)\n",
    "mask = (actions_sent_non_followers.user_id.isin(successful_ids) | actions_sent_non_followers.user_id.isin(unsuccessful_ids))\n",
    "df = actions_sent_non_followers[mask]\n",
    "d = {}\n",
    "e = {}\n",
    "first_day = min(actions_sent_non_followers.date_sent.dt.floor('d').unique())\n",
    "last_day =  max(actions_sent_non_followers.date_sent.dt.floor('d'))\n",
    "membership = update_membership_table_dask(data_in, first_day, d_percentiles = 10)\n",
    "fan_not_found = []\n",
    "user_ids = df.user_id.unique()\n",
    "\n",
    "#initialize arms\n",
    "for user_id in df.user_id.unique():\n",
    "    d[user_id] = MultiArmedBandits(arm_names, user_id)\n",
    "\n",
    "    dataset_mean = pd.DataFrame({**{'date':pd.date_range(start = first_day, end=last_day)},\n",
    "                                 **{str(k):0 for k in range(0,11)}}) \n",
    "    dataset_std = pd.DataFrame({**{'date':pd.date_range(start = first_day, end=last_day)},\n",
    "                                 **{str(k):0 for k in range(0,11)}}) \n",
    "    trials = pd.DataFrame({**{'date':pd.date_range(start = first_day, end=last_day)},\n",
    "                                 **{'trials_at_date':np.nan}}) \n",
    "    \n",
    "    e[user_id] = {'dataset_std': dataset_std, 'dataset_mean': dataset_mean, 'trials' : trials}\n",
    "\n",
    "#update arms\n",
    "for day in tqdm(actions_sent_non_followers.date_sent.dt.floor('d').unique()):\n",
    "    for user_id in df.loc[df['date_sent'].dt.floor('d') == day].user_id.unique():\n",
    "        df_subset = df.loc[(df['date_sent'].dt.floor('d') == day)&(df['user_id'] == user_id)]\n",
    "        for action in range(len(df_subset)):\n",
    "            fan_id = df_subset.iloc[action].fan_id\n",
    "            try:\n",
    "                user_type = membership.loc[membership.index == fan_id].type.values[0]\n",
    "                d[user_id].update_increment(user_type, df_subset.iloc[action].reward)\n",
    "            except KeyError:\n",
    "                fan_not_found.append([fan_id, day, df_subset.iloc[action].outbound_activity])\n",
    "            except IndexError:\n",
    "                fan_not_found.append([fan_id, day, df_subset.iloc[action].outbound_activity])\n",
    "  #REWRITE THIS AS A LOOP OVER ALL USER_IDS          \n",
    "    for user_id in user_ids:\n",
    "        e[user_id]['trials'].loc[e[user_id]['trials'].date == day, 'trials_at_date'] = d[user_id].trials_at_day\n",
    "        d[user_id].update_arms()\n",
    "        d[user_id].estimate_moments()\n",
    "        e[user_id]['dataset_mean'].loc[e[user_id]['dataset_mean'].date == day, '0':] = np.transpose(d[user_id].means)\n",
    "        e[user_id]['dataset_std'].loc[e[user_id]['dataset_mean'].date == day, '0':] = np.transpose(d[user_id].variances)\n",
    "        \n",
    "    membership = update_membership_table_dask(data_in, day, d_percentiles = 10)\n",
    "    \n",
    "for user_id in df.user_id.unique():\n",
    "    e[user_id]['total_trials'] = d[user_id].total_trials"
   ]
  },
  {
   "cell_type": "code",
   "execution_count": 21,
   "id": "8e2d7239",
   "metadata": {},
   "outputs": [],
   "source": [
    "def weekly_membership(df, data_in):\n",
    "\n",
    "    df_copy = df.copy()\n",
    "    df_copy['type'] = 0\n",
    "    \n",
    "    first_date = min(df_copy.date_sent)\n",
    "    membership = update_membership_table_dask(data_in, first_day, d_percentiles = 10)\n",
    "    \n",
    "    for day in tqdm(df_copy.date_sent.dt.floor('d').unique()):\n",
    "        mask = (df_copy['date_sent'].dt.floor('d') == day)\n",
    "        df_subset = df_copy[mask]\n",
    "        for i in range(df_copy[mask].shape[0]):\n",
    "            fan_id = df_subset.iloc[i].fan_id\n",
    "            try:\n",
    "                df_subset.iloc[i,-1] = (int(membership.loc[membership.index == fan_id]['type']))\n",
    "                print('.', end='')\n",
    "        \n",
    "            except:\n",
    "                \n",
    "                df_subset.iloc[i,-1] = 'Fan not found'\n",
    "                print('x', end ='')\n",
    "                \n",
    "        df_copy[mask] = df_subset\n",
    "        membership = update_membership_table_dask(data_in, day, d_percentiles = 10)\n",
    "\n",
    "    return df_copy"
   ]
  },
  {
   "cell_type": "code",
   "execution_count": 22,
   "id": "e23c4d6a",
   "metadata": {},
   "outputs": [
    {
     "ename": "NameError",
     "evalue": "name 'dynamics' is not defined",
     "output_type": "error",
     "traceback": [
      "\u001b[0;31m---------------------------------------------------------------------------\u001b[0m",
      "\u001b[0;31mNameError\u001b[0m                                 Traceback (most recent call last)",
      "Input \u001b[0;32mIn [22]\u001b[0m, in \u001b[0;36m<cell line: 1>\u001b[0;34m()\u001b[0m\n\u001b[0;32m----> 1\u001b[0m \u001b[43mdynamics\u001b[49m\n",
      "\u001b[0;31mNameError\u001b[0m: name 'dynamics' is not defined"
     ]
    }
   ],
   "source": [
    "dynamics"
   ]
  },
  {
   "cell_type": "code",
   "execution_count": null,
   "id": "448192f1",
   "metadata": {},
   "outputs": [],
   "source": [
    "def plot_learning(data, number, title):\n",
    "    \n",
    "    \n",
    "    data_grouped = data.groupby('week_yr_date', as_index = False).size()\n",
    "    data.columns = ['user_id', 'fan_id', 'date_sent', 'outbound_activity',\n",
    "       'interaction_week', 'interaction_year', 'week_yr',\n",
    "       'follower_since', 'week_yr_date', 'reward',\n",
    "       'Receiver Type']\n",
    "    \n",
    "    lim_inf = min(data.date_sent)\n",
    "    lim_sup = max(data.date_sent)\n",
    "    \n",
    "    fig, ax = plt.subplots(figsize=(15, 9))\n",
    "\n",
    "    hue_order_l = ['0', '1', '2', '3', '4', '5', '6', '7', '8', '9', '10']\n",
    "\n",
    "    sns.set(rc={'figure.figsize':(12,8)})\n",
    "    sns.set_style(\"white\")\n",
    "    sns.kdeplot(data=data,\n",
    "            x=\"week_yr_date\",\n",
    "            hue='Receiver Type',\n",
    "            hue_order= hue_order_l,\n",
    "            multiple=\"fill\",\n",
    "            #weights=\"Val\",\n",
    "            bw_adjust = 1)\\\n",
    "    .set(xlim=(lim_inf, lim_sup), title='Figure {}: {} - Share of trials per receiver type.'.format(number, title), xlabel='Week',\n",
    "     ylabel='Share')\n",
    "    \n",
    "    ax2 = plt.twinx()\n",
    "    sns.lineplot(data=data_grouped,\n",
    "                 x = \"week_yr_date\", \n",
    "                 y = \"size\", \n",
    "                 color=\"black\", \n",
    "                 ax=ax2, \n",
    "                 legend = 'auto',\n",
    "                 linewidth = 2)\\\n",
    "    .set(ylabel='Total Promotional Actions', yscale=\"log\")\n",
    "    plt.annotate('''Note: each color corresponds to a receiver type. The black line is the total number of actions per week.'''\n",
    "             , (0,0), (0, -35), xycoords='axes fraction', textcoords='offset points', va='top', fontsize=14);\n",
    "\n",
    "    #ax.legend(title='Receiver type', loc='best', labels = ['10', '9', '8', '7', '6', '5', '4', '3', '2', '1', '0']);"
   ]
  },
  {
   "cell_type": "code",
   "execution_count": null,
   "id": "30d93c8b",
   "metadata": {},
   "outputs": [],
   "source": [
    "mask = (actions_sent_non_followers.user_id.isin(successful_ids) | actions_sent_non_followers.user_id.isin(unsuccessful_ids))\n",
    "df = actions_sent_non_followers[mask]\n",
    "#dynamics = weekly_membership(df, data_in)"
   ]
  },
  {
   "cell_type": "code",
   "execution_count": null,
   "id": "89b43467",
   "metadata": {},
   "outputs": [],
   "source": [
    "mask = (dynamics.user_id.isin(successful_ids)) & (dynamics['Receiver Type'] != 'Fan not found')\n",
    "success_dynamics = dynamics[mask]\n",
    "plot_learning(success_dynamics, 21, 'Successful')"
   ]
  },
  {
   "cell_type": "code",
   "execution_count": null,
   "id": "a83a9b9e",
   "metadata": {},
   "outputs": [],
   "source": [
    "mask = (dynamics.user_id.isin(unsuccessful_ids)) & (dynamics['Receiver Type'] != 'Fan not found')\n",
    "unsuccess_dynamics = dynamics[mask]\n",
    "plot_learning(unsuccess_dynamics, 22, 'Unsuccessful')"
   ]
  },
  {
   "cell_type": "markdown",
   "id": "53c8caea",
   "metadata": {},
   "source": [
    "Draft of function to calculate estimates:"
   ]
  },
  {
   "cell_type": "markdown",
   "id": "b510cd42",
   "metadata": {},
   "source": [
    "-estimates: take estimates at last day\n",
    "-trials: total, median, mean and std|get from arms\n",
    "-rewards: get from arms"
   ]
  },
  {
   "cell_type": "code",
   "execution_count": null,
   "id": "810b9e0a",
   "metadata": {},
   "outputs": [],
   "source": [
    "#one for successful and one for unsuccessful?\n",
    "mask = (actions_sent_non_followers.user_id.isin(successful_ids) | actions_sent_non_followers.user_id.isin(unsuccessful_ids))\n",
    "df = actions_sent_non_followers[mask]\n",
    "\n",
    "dataset_last_mean = pd.DataFrame(index = df.user_id.unique(), columns = [str(i) for i in range(0,11)])\n",
    "dataset_last_std = pd.DataFrame(index = df.user_id.unique(), columns = [str(i) for i in range(0,11)])\n",
    "df_trial_info = pd.DataFrame(index = df.user_id.unique(), columns = ['total_trials'])\n",
    "df_summary_rewards = pd.DataFrame(index = df.user_id.unique(), columns = ['Rewards'])\n",
    "arm_names = [str(i) for i in range(0,11)]\n",
    "\n",
    "for user_id in actions_sent_non_followers.user_id.unique():\n",
    "    try:\n",
    "        dataset_last_mean.loc[user_id, :] = e[user_id]['dataset_mean'].iloc[-1]\n",
    "        dataset_last_std.loc[user_id, :] = e[user_id]['dataset_std'].iloc[-1]\n",
    "        df_trial_info.loc[user_id, :] = d[user_id].total_trials\n",
    "        df_summary_rewards.loc[user_id, :] = d[user_id].rewards\n",
    "    except:\n",
    "        pass\n",
    "    \n",
    "\n",
    "init = 0\n",
    "\n",
    "df_trial_info = pd.DataFrame(index = [\"{:d}\".format(x) for x in range(init,11)] , columns = ['Unique_creators', 'trials'])\n",
    "for j in range(init,11):\n",
    "    df_trial_info.iloc[j-init]['trials'] = list()\n",
    "    df_trial_info.iloc[j-init]['Unique_creators'] = 0\n",
    "for key in d.keys():\n",
    "    for j in range(init,11):\n",
    "        if d[key].arms[j]['Sent'] != 0:\n",
    "            df_trial_info.iloc[j-init]['Unique_creators'] = df_trial_info.iloc[j-init]['Unique_creators']+1\n",
    "        df_trial_info.iloc[j-init]['trials'].extend([d[key].arms[j]['Sent']])\n",
    "df_trial_info['Median_trials'] = df_trial_info.trials.apply(lambda x: np.median(x))\n",
    "df_trial_info['Mean_trials'] = df_trial_info.trials.apply(lambda x: np.mean(x))\n",
    "df_trial_info['Std_trials'] = df_trial_info.trials.apply(lambda x: np.std(x))\n",
    "\n",
    "summary = pd.DataFrame(dataset_last_mean[arm_names].mean(), columns = ['Mean Estimate']).merge(\n",
    "        pd.DataFrame(dataset_last_std[arm_names].mean(), columns = ['Std Estimate']), left_index=True, right_index=True).merge(\n",
    "    df_trial_info[['Median_trials', 'Mean_trials', 'Std_trials']\n",
    "        ],left_index=True, right_index=True).reindex(arm_names)\n",
    "    "
   ]
  },
  {
   "cell_type": "code",
   "execution_count": null,
   "id": "9b693748",
   "metadata": {},
   "outputs": [],
   "source": [
    "def gen_estimates(df, arm_names):\n",
    "\n",
    "    dataset_last_mean = pd.DataFrame(index = df.user_id.unique(), columns = arm_names)\n",
    "    dataset_last_std = pd.DataFrame(index = df.user_id.unique(), columns = arm_names)\n",
    "    df_trial_info = pd.DataFrame(index = df.user_id.unique(), columns = ['total_trials'])\n",
    "    df_summary_rewards = pd.DataFrame(index = df.user_id.unique(), columns = ['Rewards'])\n",
    "    arm_names = [i for i in range(0,11)]\n",
    "\n",
    "    for user_id in df.user_id.unique():\n",
    "        try:\n",
    "            dataset_last_mean.loc[user_id, :] = list(e[user_id]['dataset_mean'].iloc[-1,1:])\n",
    "            dataset_last_std.loc[user_id, :] = list(e[user_id]['dataset_std'].iloc[-1,1:])\n",
    "            df_trial_info.loc[user_id, :] = d[user_id].total_trials\n",
    "            df_summary_rewards.loc[user_id, :] = d[user_id].rewards\n",
    "        except:\n",
    "            pass\n",
    "\n",
    "    init = 0\n",
    "      \n",
    "    df_trial_info = pd.DataFrame(index = arm_names , columns = ['Rewards', 'Unique_creators', 'trials'])\n",
    "    for j in range(len(arm_names)):\n",
    "        df_trial_info.iloc[j-init]['trials'] = list()\n",
    "        df_trial_info.iloc[j-init]['Unique_creators'] = 0\n",
    "        df_trial_info.iloc[j-init]['Rewards'] = 0\n",
    "    for key in df.user_id.unique():\n",
    "        for j in range(len(arm_names)):\n",
    "            df_trial_info.iloc[j-init]['Rewards'] += d[key].arms[j]['Reward']\n",
    "            if d[key].arms[j]['Sent'] != 0:\n",
    "                df_trial_info.iloc[j-init]['Unique_creators'] = df_trial_info.iloc[j-init]['Unique_creators']+1\n",
    "            df_trial_info.iloc[j-init]['trials'].extend([d[key].arms[j]['Sent']])\n",
    "    df_trial_info['Total_trials'] = df_trial_info.trials.apply(lambda x: np.sum(x))\n",
    "    df_trial_info['Median_trials'] = df_trial_info.trials.apply(lambda x: np.median(x))\n",
    "    df_trial_info['Mean_trials'] = df_trial_info.trials.apply(lambda x: np.mean(x))\n",
    "    df_trial_info['Std_trials'] = df_trial_info.trials.apply(lambda x: np.std(x))\n",
    "\n",
    "    summary = pd.DataFrame(dataset_last_mean[arm_names].mean(), columns = ['Mean Estimate']).merge(\n",
    "            pd.DataFrame(dataset_last_std[arm_names].mean(), columns = ['Std Estimate']), left_index=True, right_index=True).merge(\n",
    "        df_trial_info[['Rewards','Unique_creators','Total_trials','Median_trials', 'Mean_trials', 'Std_trials']\n",
    "            ],left_index=True, right_index=True).reindex(arm_names)\n",
    "    \n",
    "    return summary"
   ]
  },
  {
   "cell_type": "code",
   "execution_count": null,
   "id": "d3e3da51",
   "metadata": {},
   "outputs": [],
   "source": [
    "mask = (actions_sent_non_followers.user_id.isin(successful_ids))\n",
    "df = actions_sent_non_followers[mask]\n",
    "print('Unique successful creators:', df.user_id.nunique())\n",
    "successful_summary = gen_estimates(df, arm_names)"
   ]
  },
  {
   "cell_type": "code",
   "execution_count": null,
   "id": "44438cbc",
   "metadata": {},
   "outputs": [],
   "source": [
    "successful_summary"
   ]
  },
  {
   "cell_type": "code",
   "execution_count": null,
   "id": "dd3a4e8a",
   "metadata": {},
   "outputs": [],
   "source": [
    "successful_summary.to_excel('tables/sucessful.xlsx')"
   ]
  },
  {
   "cell_type": "code",
   "execution_count": null,
   "id": "25f8d009",
   "metadata": {},
   "outputs": [],
   "source": [
    "mask = (actions_sent_non_followers.user_id.isin(unsuccessful_ids))\n",
    "df = actions_sent_non_followers[mask]\n",
    "print('Unique unsuccessful creators:', df.user_id.nunique())\n",
    "unsuccessful_summary = gen_estimates(df, arm_names)"
   ]
  },
  {
   "cell_type": "code",
   "execution_count": null,
   "id": "e1eefbee",
   "metadata": {},
   "outputs": [],
   "source": [
    "!ls"
   ]
  },
  {
   "cell_type": "code",
   "execution_count": null,
   "id": "e21c09f1",
   "metadata": {},
   "outputs": [],
   "source": [
    "unsuccessful_summary.to_excel('tables/unsucessful.xlsx')"
   ]
  },
  {
   "cell_type": "code",
   "execution_count": null,
   "id": "e5436ec6",
   "metadata": {},
   "outputs": [],
   "source": [
    "tracks_first_month_star = sample_creators_music(tracks, 60)# music_before changed so it \n",
    "#suffices to have made a track available\n",
    "mask = tracks_first_month_star.track_available == 1\n",
    "tracks_first_month_star = tracks_first_month_star[mask]"
   ]
  },
  {
   "cell_type": "code",
   "execution_count": null,
   "id": "df393570",
   "metadata": {},
   "outputs": [],
   "source": [
    "tracks_first_month_star.user_id.nunique()"
   ]
  },
  {
   "cell_type": "code",
   "execution_count": null,
   "id": "0c0a881b",
   "metadata": {},
   "outputs": [],
   "source": [
    "tracks_first_month.user_id.nunique()"
   ]
  },
  {
   "cell_type": "code",
   "execution_count": null,
   "id": "964de304",
   "metadata": {},
   "outputs": [],
   "source": [
    "tracks_first_month_star.user_id.nunique()/4604"
   ]
  },
  {
   "cell_type": "code",
   "execution_count": null,
   "id": "2bd96c95",
   "metadata": {},
   "outputs": [],
   "source": []
  }
 ],
 "metadata": {
  "kernelspec": {
   "display_name": "Python 3 (ipykernel)",
   "language": "python",
   "name": "python3"
  },
  "language_info": {
   "codemirror_mode": {
    "name": "ipython",
    "version": 3
   },
   "file_extension": ".py",
   "mimetype": "text/x-python",
   "name": "python",
   "nbconvert_exporter": "python",
   "pygments_lexer": "ipython3",
   "version": "3.8.2"
  }
 },
 "nbformat": 4,
 "nbformat_minor": 5
}
