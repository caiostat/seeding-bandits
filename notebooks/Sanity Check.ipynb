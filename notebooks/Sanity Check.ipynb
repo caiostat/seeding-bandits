{
 "cells": [
  {
   "cell_type": "code",
   "execution_count": 1,
   "id": "d64feaac",
   "metadata": {},
   "outputs": [],
   "source": [
    "import sys  \n",
    "sys.path.insert(0, '/Users/caiorego/Desktop/BDS/RA/Seeding-Bandits/')"
   ]
  },
  {
   "cell_type": "code",
   "execution_count": 2,
   "id": "93e591ce",
   "metadata": {},
   "outputs": [],
   "source": [
    "import src.utils\n",
    "from src.utils import import_dta, import_tracks_dta, successful_creators_followers,\\\n",
    "gen_active_relations, get_fan_interactions_per_week, calculate_avg_monthly_valence,\\\n",
    "gen_active_relations_prob, get_fan_interactions_per_week_prob\n",
    "import datetime\n",
    "import pandas as pd"
   ]
  },
  {
   "cell_type": "code",
   "execution_count": 3,
   "id": "d82e5aad",
   "metadata": {},
   "outputs": [],
   "source": [
    "path_dir = r\"/Users/../Volumes/Raw/\""
   ]
  },
  {
   "cell_type": "code",
   "execution_count": 18,
   "id": "428c7e2a",
   "metadata": {},
   "outputs": [
    {
     "name": "stdout",
     "output_type": "stream",
     "text": [
      "%%%%%%%%%% 12sample_affiliations_sent.dta %%%%%%%%%%\n",
      "     fan_id  contact_id          created_at\n",
      "0  37825116       61046 2013-03-01 00:14:58\n",
      "1  37825116       80377 2013-03-01 00:14:58\n",
      "2  37825116      122596 2013-03-01 00:14:58\n",
      "3  37825116      133935 2013-03-01 00:14:58\n",
      "4  37825116      165779 2013-03-01 00:14:58\n",
      "(800913, 3)\n",
      "Index(['fan_id', 'contact_id', 'created_at'], dtype='object')\n",
      "%%%%%%%%%% 12sample_comments_made.dta %%%%%%%%%%\n",
      "    user_id  track_id  owner_id          created_at\n",
      "0  38303468    400184    170967 2014-02-28 05:38:50\n",
      "1  38303468    400184    170967 2014-02-28 05:29:57\n",
      "2  38469256    667083    142644 2013-07-11 22:39:39\n",
      "3  38386425    667083    142644 2013-03-06 18:26:29\n",
      "4  38274244   1110211      6289 2013-04-24 16:36:28\n",
      "(29258, 4)\n",
      "Index(['user_id', 'track_id', 'owner_id', 'created_at'], dtype='object')\n",
      "%%%%%%%%%% 12sample_reposts_made.dta %%%%%%%%%%\n",
      "   reposter_id          created_at  song_id  owner_id\n",
      "0     38343678 2014-06-06 20:44:06   354983    152008\n",
      "1     38388503 2013-04-19 00:25:15   451048    190936\n",
      "2     38485041 2014-08-19 19:41:39   775904    234822\n",
      "3     38329449 2013-12-08 21:50:27   830132    263441\n",
      "4     37824449 2013-11-26 23:31:40  1168366    455537\n",
      "(179329, 4)\n",
      "Index(['reposter_id', 'created_at', 'song_id', 'owner_id'], dtype='object')\n",
      "%%%%%%%%%% 12sample_favoritings_made.dta %%%%%%%%%%\n",
      "    user_id  track_id  owner_id          created_at\n",
      "0  37846374      9098      5123 2013-03-02 04:15:52\n",
      "1  37906531     10521      5828 2013-08-18 19:09:16\n",
      "2  37936317     15855      9042 2013-03-12 01:11:53\n",
      "3  38328936    224498     98989 2015-01-15 09:31:12\n",
      "4  38207317    333404    143279 2014-04-02 10:46:34\n",
      "(527701, 4)\n",
      "Index(['user_id', 'track_id', 'owner_id', 'created_at'], dtype='object')\n",
      "%%%%%%%%%% 12sample_user_infos.dta %%%%%%%%%%\n",
      "    user_id type          created_at\n",
      "0  37824403      2013-03-01 00:03:31\n",
      "1  37824937      2013-03-01 00:10:19\n",
      "2  37825123      2013-03-01 00:12:50\n",
      "3  37826492      2013-03-01 00:28:03\n",
      "4  37826978      2013-03-01 00:33:12\n",
      "(35000, 3)\n",
      "Index(['user_id', 'type', 'created_at'], dtype='object')\n",
      "%%%%%%%%%% 12sample_tracks.dta %%%%%%%%%%\n",
      "    user_id  track_id created_date       genre public  track_available  \\\n",
      "0  37854667  81326112   2013-03-01     Unknown      t                0   \n",
      "1  37965633  81470347   2013-03-02     Unknown      f                0   \n",
      "2  38105406  81737885   2013-03-04     Unknown      t                0   \n",
      "3  38194649  81931145   2013-03-05   classical      t                0   \n",
      "4  38322344  81981309   2013-03-06  electronic      t                0   \n",
      "\n",
      "   track_private  \n",
      "0              0  \n",
      "1              0  \n",
      "2              0  \n",
      "3              0  \n",
      "4              0  \n",
      "(56262, 7)\n",
      "Index(['user_id', 'track_id', 'created_date', 'genre', 'public',\n",
      "       'track_available', 'track_private'],\n",
      "      dtype='object')\n",
      "%%%%%%%%%% 12sample_affiliations_received.dta %%%%%%%%%%\n",
      "     fan_id  contact_id          created_at\n",
      "0   2763368    37873923 2013-03-01 16:46:05\n",
      "1  32678887    37876767 2013-03-01 16:48:22\n",
      "2  37776943    37892700 2013-03-01 18:00:13\n",
      "3   2880445    37866904 2013-03-01 19:45:43\n",
      "4   3007254    37873923 2013-03-01 20:30:44\n",
      "(432503, 3)\n",
      "Index(['fan_id', 'contact_id', 'created_at'], dtype='object')\n",
      "%%%%%%%%%% 12sample_comments_received.dta %%%%%%%%%%\n",
      "    user_id  track_id  owner_id          created_at\n",
      "0  37878427  81352809  37878427 2013-03-01 15:12:10\n",
      "1   6676718  81347599  37865791 2013-03-03 12:28:18\n",
      "2  38215687  82154260  38345216 2013-03-07 05:27:16\n",
      "3  38215687  82154260  38345216 2013-03-07 05:42:07\n",
      "4  38215687  82154260  38345216 2013-03-07 06:10:08\n",
      "(21386, 4)\n",
      "Index(['user_id', 'track_id', 'owner_id', 'created_at'], dtype='object')\n",
      "%%%%%%%%%% 12sample_reposts_received.dta %%%%%%%%%%\n",
      "   reposter_id          created_at   song_id  owner_id\n",
      "0     33635491 2013-03-05 05:50:34  81704043  38135744\n",
      "1     38321910 2013-03-05 23:11:40  81662402  38123852\n",
      "2     38263941 2013-03-06 17:43:46  81891814  38263941\n",
      "3     38470533 2013-03-09 13:10:51  82222212  38470533\n",
      "4      6746343 2013-03-11 06:32:23  82702273  38145276\n",
      "(83013, 4)\n",
      "Index(['reposter_id', 'created_at', 'song_id', 'owner_id'], dtype='object')\n",
      "%%%%%%%%%% 12sample_favoritings_received.dta %%%%%%%%%%\n",
      "    user_id  track_id  owner_id          created_at\n",
      "0  37901181  81381375  37892422 2013-03-01 19:19:39\n",
      "1   2305010  81392165  37886585 2013-03-01 21:00:25\n",
      "2  37901218  81409721  37838842 2013-03-02 03:08:19\n",
      "3  21407637  81439544  37935341 2013-03-02 04:01:31\n",
      "4  37962008  81465363  37962008 2013-03-02 12:24:14\n",
      "(286903, 4)\n",
      "Index(['user_id', 'track_id', 'owner_id', 'created_at'], dtype='object')\n"
     ]
    }
   ],
   "source": [
    "#we will skip comments for now\n",
    "import datetime\n",
    "#affiliations :follows\n",
    "#favoritings :likes\n",
    "\n",
    "follows_sent = import_dta(path_dir, \"12sample_affiliations_sent.dta\")\n",
    "comments_sent = import_dta(path_dir, \"12sample_comments_made.dta\")\n",
    "shares_sent = import_dta(path_dir, \"12sample_reposts_made.dta\")\n",
    "likes_sent = import_dta(path_dir, \"12sample_favoritings_made.dta\")\n",
    "\n",
    "user_info = import_dta(path_dir, \"12sample_user_infos.dta\")\n",
    "df13 = import_tracks_dta(path_dir, \"12sample_tracks.dta\")\n",
    "\n",
    "\n",
    "########\n",
    "follows_received = import_dta(path_dir, \"12sample_affiliations_received.dta\")\n",
    "comments_received = import_dta(path_dir, \"12sample_comments_received.dta\")\n",
    "shares_received = import_dta(path_dir, \"12sample_reposts_received.dta\")\n",
    "likes_received = import_dta(path_dir, \"12sample_favoritings_received.dta\")"
   ]
  },
  {
   "cell_type": "code",
   "execution_count": 19,
   "id": "8c4886a0",
   "metadata": {},
   "outputs": [],
   "source": [
    "follows_received['inbound_activity'] = 'follow'\n",
    "follows_received.columns = ['fan_id', 'user_id', 'date_sent', 'inbound_activity']\n",
    "\n",
    "if 'song_id' in shares_received:\n",
    "    shares_received.drop(columns=[\"song_id\"])\n",
    "shares_received = shares_received[['reposter_id', \"owner_id\", 'created_at']]\n",
    "shares_received['inbound_activity'] = 'share'\n",
    "shares_received.columns = ['fan_id', 'user_id', 'date_sent', 'inbound_activity']\n",
    "\n",
    "if 'track_id' in likes_received:\n",
    "    likes_received = likes_received.drop(columns=[\"track_id\"])\n",
    "likes_received['inbound_activity'] = 'like'\n",
    "likes_received.columns = ['fan_id', 'user_id', 'date_sent', 'inbound_activity']\n",
    "\n",
    "if 'track_id' in comments_received:\n",
    "    comments_received = comments_received.drop(columns=[\"track_id\"])\n",
    "comments_received['inbound_activity'] = 'comment'\n",
    "comments_received.columns = ['fan_id', 'user_id', 'date_sent', 'inbound_activity']\n",
    "\n",
    "\n",
    "df = pd.concat([follows_received, shares_received, likes_received, comments_received])\n",
    "df = df.merge(user_info, left_on='user_id', right_on='user_id')\n",
    "# df = df.loc[df['type'] != 'creator', :]\n",
    "df['interaction_week'] = df.date_sent.apply(lambda x: x.week)\n",
    "df = df.loc[df.fan_id != df.user_id, :]"
   ]
  },
  {
   "cell_type": "code",
   "execution_count": 30,
   "id": "ba9ed8cd",
   "metadata": {},
   "outputs": [],
   "source": [
    "month = 12\n",
    "delta_M = datetime.timedelta(days=month * 30)\n",
    "delta = datetime.timedelta(days=30)\n",
    "date = datetime.datetime(2013, 3, 1, 0, 0, 0) + delta_M\n",
    "\n",
    "mask1 = (df['date_sent'] >= (date)) & (df['date_sent'] <= (date + delta))\n",
    "\n",
    "df_f = df[mask1]"
   ]
  },
  {
   "cell_type": "code",
   "execution_count": 24,
   "id": "22e73f69",
   "metadata": {},
   "outputs": [
    {
     "data": {
      "text/plain": [
       "Timestamp('2013-06-29 00:01:15')"
      ]
     },
     "execution_count": 24,
     "metadata": {},
     "output_type": "execute_result"
    }
   ],
   "source": [
    "min(df_f.date_sent)\n",
    "max(df_f.date_sent)"
   ]
  },
  {
   "cell_type": "code",
   "execution_count": null,
   "id": "0a17cc73",
   "metadata": {},
   "outputs": [],
   "source": []
  }
 ],
 "metadata": {
  "kernelspec": {
   "display_name": "Python 3 (ipykernel)",
   "language": "python",
   "name": "python3"
  },
  "language_info": {
   "codemirror_mode": {
    "name": "ipython",
    "version": 3
   },
   "file_extension": ".py",
   "mimetype": "text/x-python",
   "name": "python",
   "nbconvert_exporter": "python",
   "pygments_lexer": "ipython3",
   "version": "3.8.2"
  }
 },
 "nbformat": 4,
 "nbformat_minor": 5
}
