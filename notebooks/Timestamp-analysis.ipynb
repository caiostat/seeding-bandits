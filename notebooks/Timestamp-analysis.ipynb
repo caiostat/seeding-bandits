{
 "cells": [
  {
   "cell_type": "code",
   "execution_count": 1,
   "id": "0997b69c",
   "metadata": {},
   "outputs": [],
   "source": [
    "import sys  \n",
    "sys.path.insert(0, '/Users/caiorego/Desktop/BDS/RA/Seeding-Bandits/')\n",
    "import numpy as np\n",
    "path_dir = r\"/Users/../Volumes/Affiliations/\""
   ]
  },
  {
   "cell_type": "code",
   "execution_count": 2,
   "id": "5e203d8d",
   "metadata": {},
   "outputs": [],
   "source": [
    "import sys  \n",
    "import pickle\n",
    "sys.path.insert(0, '/Users/caiorego/Desktop/BDS/RA/Seeding-Bandits/')\n",
    "import numpy as np\n",
    "import src.utils\n",
    "from src.utils import import_dta, import_tracks_dta, successful_creators_followers,\\\n",
    "gen_active_relations, get_fan_interactions_per_week, calculate_avg_monthly_valence,\\\n",
    "gen_active_relations_prob, get_fan_interactions_per_week_prob, stripplot_prob,\\\n",
    "reaction_probability, follower_list, filter_quantile, sample_creators_music,\\\n",
    "gen_outbound_creators\n",
    "import datetime\n",
    "from datetime import datetime\n",
    "import pandas as pd\n",
    "import seaborn as sns\n",
    "import matplotlib.pyplot as plt\n",
    "from scipy.stats import mstats\n",
    "pd.plotting.register_matplotlib_converters()\n",
    "import os\n",
    "\n",
    "import src.probability_utils\n",
    "from src.probability_utils import volume_analysis, valence_analysis\n",
    "import math\n",
    "import matplotlib.ticker as plticker\n",
    "from scipy.interpolate import make_interp_spline, BSpline\n",
    "import seaborn as sns\n",
    "from numpy import random\n",
    "from tabulate import tabulate\n",
    "from IPython.display import display\n",
    "from tqdm import tqdm"
   ]
  },
  {
   "cell_type": "code",
   "execution_count": 3,
   "id": "18290cf0",
   "metadata": {},
   "outputs": [],
   "source": [
    "def process_date(date):\n",
    "    year = date[0:4]\n",
    "    week = date[6:]\n",
    "    day = \"1\"\n",
    "    date = \"{}-{}-1\".format(year, week)\n",
    "    dt = datetime.strptime(date, \"%Y-%W-%w\")\n",
    "    return dt"
   ]
  },
  {
   "cell_type": "code",
   "execution_count": 4,
   "id": "650f3724",
   "metadata": {},
   "outputs": [],
   "source": [
    "path_dir = r\"/Users/../Volumes/Raw/\"\n",
    "music_before = 14\n",
    "low_success = 0.50\n",
    "high_success = 0.9\n",
    "rank_percentiles = False"
   ]
  },
  {
   "cell_type": "code",
   "execution_count": 5,
   "id": "85bb4272",
   "metadata": {},
   "outputs": [
    {
     "name": "stdout",
     "output_type": "stream",
     "text": [
      "%%%%%%%%%% 12sample_tracks.dta %%%%%%%%%%\n",
      "(56262, 7)\n",
      "%%%%%%%%%% 12sample_affiliations_sent.dta %%%%%%%%%%\n",
      "(800913, 3)\n",
      "%%%%%%%%%% 12sample_comments_made.dta %%%%%%%%%%\n",
      "(29258, 4)\n",
      "%%%%%%%%%% 12sample_reposts_made.dta %%%%%%%%%%\n",
      "(179329, 4)\n",
      "%%%%%%%%%% 12sample_favoritings_made.dta %%%%%%%%%%\n",
      "(527701, 4)\n",
      "%%%%%%%%%% 12sample_messages_sent.dta %%%%%%%%%%\n",
      "(11091, 3)\n",
      "%%%%%%%%%% 12sample_user_infos.dta %%%%%%%%%%\n",
      "(35000, 3)\n",
      "%%%%%%%%%% 12sample_1st_deg_user_infos.dta %%%%%%%%%%\n",
      "(670746, 3)\n",
      "%%%%%%%%%% 12sample_affiliations_received.dta %%%%%%%%%%\n",
      "(432503, 3)\n",
      "%%%%%%%%%% 12sample_comments_received.dta %%%%%%%%%%\n",
      "(21386, 4)\n",
      "%%%%%%%%%% 12sample_reposts_received.dta %%%%%%%%%%\n",
      "(83013, 4)\n",
      "%%%%%%%%%% 12sample_favoritings_received.dta %%%%%%%%%%\n",
      "(286903, 4)\n",
      "%%%%%%%%%% 12sample_messages_received.dta %%%%%%%%%%\n",
      "(17364, 3)\n",
      "%%%%%%%%%% 12sample_affiliations.dta %%%%%%%%%%\n",
      "(1233416, 3)\n",
      "%%%%%%%%%% 12sample_comments.dta %%%%%%%%%%\n",
      "(50644, 4)\n",
      "%%%%%%%%%% 12sample_reposts.dta %%%%%%%%%%\n",
      "(262342, 4)\n",
      "%%%%%%%%%% 12sample_favoritings.dta %%%%%%%%%%\n",
      "(814604, 4)\n",
      "%%%%%%%%%% 12sample_messages.dta %%%%%%%%%%\n",
      "(28455, 3)\n",
      "2018-02-03 00:00:00\n",
      "2018-02-03 00:00:00\n",
      "High influencer boundary: 50.0\n",
      "Low influencer boundary: 6.0\n"
     ]
    }
   ],
   "source": [
    "#we will skip comments for now\n",
    "\n",
    "#affiliations :follows\n",
    "#favoritings :likes\n",
    "\n",
    "tracks = import_tracks_dta(path_dir, \"12sample_tracks.dta\");\n",
    "follows_sent = import_dta(path_dir, \"12sample_affiliations_sent.dta\");\n",
    "comments_sent = import_dta(path_dir, \"12sample_comments_made.dta\");\n",
    "shares_sent = import_dta(path_dir, \"12sample_reposts_made.dta\");\n",
    "likes_sent = import_dta(path_dir, \"12sample_favoritings_made.dta\");\n",
    "messages_sent = import_dta(path_dir, \"12sample_messages_sent.dta\");\n",
    "\n",
    "user_info = import_dta(path_dir, \"12sample_user_infos.dta\");\n",
    "user_info.columns = ['user_id', 'type', 'entered_platform']\n",
    "user_info_2 = import_dta(path_dir, \"12sample_1st_deg_user_infos.dta\");\n",
    "user_info_2.columns = ['user_id', 'type', 'entered_platform']\n",
    "user_info = pd.concat([user_info, user_info_2]);\n",
    "user_info.drop_duplicates(subset='user_id', keep='first', inplace=True, ignore_index=False);\n",
    "\n",
    "\n",
    "########\n",
    "follows_received = import_dta(path_dir, \"12sample_affiliations_received.dta\");\n",
    "comments_received = import_dta(path_dir, \"12sample_comments_received.dta\");\n",
    "shares_received = import_dta(path_dir, \"12sample_reposts_received.dta\");\n",
    "likes_received = import_dta(path_dir, \"12sample_favoritings_received.dta\");\n",
    "messages_received = import_dta(path_dir, \"12sample_messages_received.dta\");\n",
    "\n",
    "########\n",
    "follows = import_dta(path_dir, \"12sample_affiliations.dta\");\n",
    "comments = import_dta(path_dir, \"12sample_comments.dta\");\n",
    "shares = import_dta(path_dir, \"12sample_reposts.dta\");\n",
    "likes = import_dta(path_dir, \"12sample_favoritings.dta\");\n",
    "messages = import_dta(path_dir, \"12sample_messages.dta\");\n",
    "\n",
    "tracks_first_month = sample_creators_music(tracks, music_before)\n",
    "mask = tracks_first_month.track_available == 1\n",
    "tracks_first_month = tracks_first_month[mask]\n",
    "\n",
    "mask = follows_received.contact_id.isin(tracks_first_month.user_id)\n",
    "follows_received_30 = follows_received[mask]\n",
    "followers_per_creator_60 = successful_creators_followers(follows_received_30, 60, tracks_first_month)\n",
    "followers_per_creator_60_static = successful_creators_followers(follows_received_30, 60, tracks_first_month, always_same_batches = True, \n",
    "                                                        perc1 = low_success, perc2 = high_success)"
   ]
  },
  {
   "cell_type": "code",
   "execution_count": 6,
   "id": "abedbebf",
   "metadata": {},
   "outputs": [],
   "source": [
    "path_dir = r\"/Users/../Volumes/Track_plays/\""
   ]
  },
  {
   "cell_type": "code",
   "execution_count": 7,
   "id": "4296cb22",
   "metadata": {},
   "outputs": [
    {
     "name": "stdout",
     "output_type": "stream",
     "text": [
      "%%%%%%%%%% 12sample_plays_made.dta %%%%%%%%%%\n",
      "(22229007, 6)\n"
     ]
    }
   ],
   "source": [
    "track_plays = import_dta(path_dir, \"12sample_plays_made.dta\");"
   ]
  },
  {
   "cell_type": "code",
   "execution_count": 8,
   "id": "21a7b046",
   "metadata": {},
   "outputs": [],
   "source": [
    "#database 1\n",
    "actions_sent = gen_outbound_creators(follows_sent, shares_sent, likes_sent, comments_sent, tracks,\n",
    "                                     messages_sent = messages_sent, filter_creators = True)\n",
    "mask = actions_sent.user_id.isin(tracks_first_month.user_id.unique())\n",
    "actions_sent = actions_sent[mask]"
   ]
  },
  {
   "cell_type": "code",
   "execution_count": 9,
   "id": "c53bed69",
   "metadata": {},
   "outputs": [
    {
     "data": {
      "text/html": [
       "<div>\n",
       "<style scoped>\n",
       "    .dataframe tbody tr th:only-of-type {\n",
       "        vertical-align: middle;\n",
       "    }\n",
       "\n",
       "    .dataframe tbody tr th {\n",
       "        vertical-align: top;\n",
       "    }\n",
       "\n",
       "    .dataframe thead th {\n",
       "        text-align: right;\n",
       "    }\n",
       "</style>\n",
       "<table border=\"1\" class=\"dataframe\">\n",
       "  <thead>\n",
       "    <tr style=\"text-align: right;\">\n",
       "      <th></th>\n",
       "      <th>reposter_id</th>\n",
       "      <th>created_at</th>\n",
       "      <th>song_id</th>\n",
       "      <th>owner_id</th>\n",
       "    </tr>\n",
       "  </thead>\n",
       "  <tbody>\n",
       "    <tr>\n",
       "      <th>0</th>\n",
       "      <td>33635491</td>\n",
       "      <td>2013-03-05 05:50:34</td>\n",
       "      <td>81704043</td>\n",
       "      <td>38135744</td>\n",
       "    </tr>\n",
       "    <tr>\n",
       "      <th>1</th>\n",
       "      <td>38321910</td>\n",
       "      <td>2013-03-05 23:11:40</td>\n",
       "      <td>81662402</td>\n",
       "      <td>38123852</td>\n",
       "    </tr>\n",
       "    <tr>\n",
       "      <th>2</th>\n",
       "      <td>38263941</td>\n",
       "      <td>2013-03-06 17:43:46</td>\n",
       "      <td>81891814</td>\n",
       "      <td>38263941</td>\n",
       "    </tr>\n",
       "    <tr>\n",
       "      <th>3</th>\n",
       "      <td>38470533</td>\n",
       "      <td>2013-03-09 13:10:51</td>\n",
       "      <td>82222212</td>\n",
       "      <td>38470533</td>\n",
       "    </tr>\n",
       "    <tr>\n",
       "      <th>4</th>\n",
       "      <td>6746343</td>\n",
       "      <td>2013-03-11 06:32:23</td>\n",
       "      <td>82702273</td>\n",
       "      <td>38145276</td>\n",
       "    </tr>\n",
       "  </tbody>\n",
       "</table>\n",
       "</div>"
      ],
      "text/plain": [
       "   reposter_id          created_at   song_id  owner_id\n",
       "0     33635491 2013-03-05 05:50:34  81704043  38135744\n",
       "1     38321910 2013-03-05 23:11:40  81662402  38123852\n",
       "2     38263941 2013-03-06 17:43:46  81891814  38263941\n",
       "3     38470533 2013-03-09 13:10:51  82222212  38470533\n",
       "4      6746343 2013-03-11 06:32:23  82702273  38145276"
      ]
     },
     "execution_count": 9,
     "metadata": {},
     "output_type": "execute_result"
    }
   ],
   "source": [
    "shares_received.head()"
   ]
  },
  {
   "cell_type": "code",
   "execution_count": 10,
   "id": "f88c885e",
   "metadata": {},
   "outputs": [],
   "source": [
    "def gen_inbound_creators(follows_received, shares_received, likes_received, comments_received, messages_received):\n",
    "    follows_received['outbound_activity'] = 'follow'\n",
    "    follows_received.columns = ['fan_id', 'user_id', 'date_sent', 'inbound_activity']\n",
    "\n",
    "    if 'song_id' in shares_received.columns:\n",
    "        shares_received.drop(columns=[\"song_id\"])\n",
    "    shares_received = shares_received[['reposter_id', \"owner_id\", 'created_at']]\n",
    "    shares_received['inbound_activity'] = 'share'\n",
    "    shares_received.columns = ['fan_id', 'user_id', 'date_sent', 'inbound_activity']\n",
    "\n",
    "    if 'track_id' in likes_received.columns:\n",
    "        likes_received.drop(columns=[\"track_id\"], inplace=True)\n",
    "    likes_received['inbound_activity'] = 'like'\n",
    "    likes_received.columns = ['fan_id', 'user_id', 'date_sent', 'inbound_activity']\n",
    "\n",
    "    if 'track_id' in comments_received.columns:\n",
    "        comments_received.drop(columns=[\"track_id\"], inplace=True)\n",
    "    comments_received['inbound_activity'] = 'comment'\n",
    "    comments_received.columns = ['fan_id', 'user_id', 'date_sent', 'inbound_activity']\n",
    "\n",
    "    messages_received[\"inbound_activity\"] = 'message'\n",
    "    messages_received.columns = ['fan_id', 'user_id', 'date_sent', 'inbound_activity']\n",
    "    df = pd.concat([follows_received, shares_received, likes_received, comments_received, messages_received])\n",
    "\n",
    "\n",
    "    df['interaction_week'] = df.date_sent.apply(lambda x: x.week)\n",
    "    df['interaction_year'] = df.date_sent.apply(lambda x: x.year)\n",
    "    df['week_yr'] = df.date_sent.dt.strftime('%Y-w%U')\n",
    "    df = df.loc[df['user_id'] != df['fan_id'],:]\n",
    "\n",
    "    return df"
   ]
  },
  {
   "cell_type": "code",
   "execution_count": 11,
   "id": "41235906",
   "metadata": {},
   "outputs": [],
   "source": [
    "#database 2\n",
    "inbound_activities = gen_inbound_creators(follows_received, shares_received, likes_received, comments_received, messages_received)"
   ]
  },
  {
   "cell_type": "code",
   "execution_count": 12,
   "id": "9eb8a0d4",
   "metadata": {},
   "outputs": [],
   "source": [
    "#database 3\n",
    "track_plays\n",
    "mask = track_plays.listener_id.isin(tracks_first_month.user_id.unique())\n",
    "creator_log_ins = track_plays[mask]"
   ]
  },
  {
   "cell_type": "code",
   "execution_count": 13,
   "id": "4849f0d4",
   "metadata": {},
   "outputs": [],
   "source": [
    "activities_log_ins = actions_sent[['user_id', 'date_sent', 'outbound_activity']]\n",
    "activities_log_ins.columns = ['user_id', 'log_in', 'activity']"
   ]
  },
  {
   "cell_type": "code",
   "execution_count": 14,
   "id": "0dc44263",
   "metadata": {},
   "outputs": [
    {
     "name": "stderr",
     "output_type": "stream",
     "text": [
      "/var/folders/f2/cgjzt69n5hlgmtsm36p1pztw0000gn/T/ipykernel_83744/586695460.py:1: SettingWithCopyWarning: \n",
      "A value is trying to be set on a copy of a slice from a DataFrame.\n",
      "Try using .loc[row_indexer,col_indexer] = value instead\n",
      "\n",
      "See the caveats in the documentation: https://pandas.pydata.org/pandas-docs/stable/user_guide/indexing.html#returning-a-view-versus-a-copy\n",
      "  creator_log_ins['activity'] = 'track_play'\n"
     ]
    }
   ],
   "source": [
    "creator_log_ins['activity'] = 'track_play'\n",
    "creator_log_ins = creator_log_ins[['listener_id', 'created_at','activity']]\n",
    "creator_log_ins.columns = ['user_id', 'log_in','activity']"
   ]
  },
  {
   "cell_type": "code",
   "execution_count": 15,
   "id": "ad633ea3",
   "metadata": {},
   "outputs": [],
   "source": [
    "log_ins = pd.concat([activities_log_ins,creator_log_ins])"
   ]
  },
  {
   "cell_type": "code",
   "execution_count": 16,
   "id": "462c6070",
   "metadata": {},
   "outputs": [],
   "source": [
    "# merges"
   ]
  },
  {
   "cell_type": "code",
   "execution_count": 17,
   "id": "c0f58bda",
   "metadata": {},
   "outputs": [],
   "source": [
    "actions_sent.sort_values('date_sent', inplace = True)\n",
    "inbound_activities.sort_values('date_sent', inplace = True)\n",
    "inbound_activities['reaction_date'] = inbound_activities['date_sent']"
   ]
  },
  {
   "cell_type": "code",
   "execution_count": 18,
   "id": "7e125617",
   "metadata": {},
   "outputs": [],
   "source": [
    "actions_and_reactions = pd.merge_asof(actions_sent, inbound_activities[['user_id', 'fan_id', 'inbound_activity', 'date_sent', 'reaction_date']]\n",
    "                     , left_by= ['user_id', 'fan_id'], right_by= ['user_id', 'fan_id'],\n",
    "             on = 'date_sent', direction = 'forward', tolerance=pd.Timedelta('10days'))"
   ]
  },
  {
   "cell_type": "code",
   "execution_count": 19,
   "id": "77b0edf6",
   "metadata": {},
   "outputs": [
    {
     "data": {
      "text/plain": [
       "126108"
      ]
     },
     "execution_count": 19,
     "metadata": {},
     "output_type": "execute_result"
    }
   ],
   "source": [
    "sum(actions_and_reactions.inbound_activity.isnull())"
   ]
  },
  {
   "cell_type": "code",
   "execution_count": 20,
   "id": "fe038f5f",
   "metadata": {},
   "outputs": [],
   "source": [
    "mask = actions_and_reactions.inbound_activity.isnull() == False\n",
    "actions_and_reactions = actions_and_reactions[mask]"
   ]
  },
  {
   "cell_type": "code",
   "execution_count": 21,
   "id": "111ccbb8",
   "metadata": {},
   "outputs": [],
   "source": [
    "user_id = 38393304\n",
    "fan_id = 123155586"
   ]
  },
  {
   "cell_type": "code",
   "execution_count": 22,
   "id": "a490c417",
   "metadata": {},
   "outputs": [
    {
     "data": {
      "text/html": [
       "<div>\n",
       "<style scoped>\n",
       "    .dataframe tbody tr th:only-of-type {\n",
       "        vertical-align: middle;\n",
       "    }\n",
       "\n",
       "    .dataframe tbody tr th {\n",
       "        vertical-align: top;\n",
       "    }\n",
       "\n",
       "    .dataframe thead th {\n",
       "        text-align: right;\n",
       "    }\n",
       "</style>\n",
       "<table border=\"1\" class=\"dataframe\">\n",
       "  <thead>\n",
       "    <tr style=\"text-align: right;\">\n",
       "      <th></th>\n",
       "      <th>fan_id</th>\n",
       "      <th>user_id</th>\n",
       "      <th>date_sent</th>\n",
       "      <th>inbound_activity</th>\n",
       "      <th>interaction_week</th>\n",
       "      <th>interaction_year</th>\n",
       "      <th>week_yr</th>\n",
       "      <th>reaction_date</th>\n",
       "    </tr>\n",
       "  </thead>\n",
       "  <tbody>\n",
       "    <tr>\n",
       "      <th>320040</th>\n",
       "      <td>123155586</td>\n",
       "      <td>38393304</td>\n",
       "      <td>2014-11-16 00:30:07</td>\n",
       "      <td>follow</td>\n",
       "      <td>46</td>\n",
       "      <td>2014</td>\n",
       "      <td>2014-w46</td>\n",
       "      <td>2014-11-16 00:30:07</td>\n",
       "    </tr>\n",
       "    <tr>\n",
       "      <th>247473</th>\n",
       "      <td>123155586</td>\n",
       "      <td>38393304</td>\n",
       "      <td>2015-05-19 17:23:52</td>\n",
       "      <td>like</td>\n",
       "      <td>21</td>\n",
       "      <td>2015</td>\n",
       "      <td>2015-w20</td>\n",
       "      <td>2015-05-19 17:23:52</td>\n",
       "    </tr>\n",
       "    <tr>\n",
       "      <th>256530</th>\n",
       "      <td>123155586</td>\n",
       "      <td>38393304</td>\n",
       "      <td>2015-07-12 18:28:58</td>\n",
       "      <td>like</td>\n",
       "      <td>28</td>\n",
       "      <td>2015</td>\n",
       "      <td>2015-w28</td>\n",
       "      <td>2015-07-12 18:28:58</td>\n",
       "    </tr>\n",
       "    <tr>\n",
       "      <th>6125</th>\n",
       "      <td>123155586</td>\n",
       "      <td>38393304</td>\n",
       "      <td>2015-07-15 00:34:09</td>\n",
       "      <td>comment</td>\n",
       "      <td>29</td>\n",
       "      <td>2015</td>\n",
       "      <td>2015-w28</td>\n",
       "      <td>2015-07-15 00:34:09</td>\n",
       "    </tr>\n",
       "  </tbody>\n",
       "</table>\n",
       "</div>"
      ],
      "text/plain": [
       "           fan_id   user_id           date_sent inbound_activity  \\\n",
       "320040  123155586  38393304 2014-11-16 00:30:07           follow   \n",
       "247473  123155586  38393304 2015-05-19 17:23:52             like   \n",
       "256530  123155586  38393304 2015-07-12 18:28:58             like   \n",
       "6125    123155586  38393304 2015-07-15 00:34:09          comment   \n",
       "\n",
       "        interaction_week  interaction_year   week_yr       reaction_date  \n",
       "320040                46              2014  2014-w46 2014-11-16 00:30:07  \n",
       "247473                21              2015  2015-w20 2015-05-19 17:23:52  \n",
       "256530                28              2015  2015-w28 2015-07-12 18:28:58  \n",
       "6125                  29              2015  2015-w28 2015-07-15 00:34:09  "
      ]
     },
     "execution_count": 22,
     "metadata": {},
     "output_type": "execute_result"
    }
   ],
   "source": [
    "inbound_activities.loc[(inbound_activities['user_id'] == user_id) & (inbound_activities['fan_id'] == fan_id)]"
   ]
  },
  {
   "cell_type": "code",
   "execution_count": 23,
   "id": "e899697e",
   "metadata": {},
   "outputs": [
    {
     "data": {
      "text/html": [
       "<div>\n",
       "<style scoped>\n",
       "    .dataframe tbody tr th:only-of-type {\n",
       "        vertical-align: middle;\n",
       "    }\n",
       "\n",
       "    .dataframe tbody tr th {\n",
       "        vertical-align: top;\n",
       "    }\n",
       "\n",
       "    .dataframe thead th {\n",
       "        text-align: right;\n",
       "    }\n",
       "</style>\n",
       "<table border=\"1\" class=\"dataframe\">\n",
       "  <thead>\n",
       "    <tr style=\"text-align: right;\">\n",
       "      <th></th>\n",
       "      <th>user_id</th>\n",
       "      <th>fan_id</th>\n",
       "      <th>date_sent</th>\n",
       "      <th>outbound_activity</th>\n",
       "      <th>interaction_week</th>\n",
       "      <th>interaction_year</th>\n",
       "      <th>week_yr</th>\n",
       "    </tr>\n",
       "  </thead>\n",
       "  <tbody>\n",
       "    <tr>\n",
       "      <th>179230</th>\n",
       "      <td>38393304</td>\n",
       "      <td>123155586</td>\n",
       "      <td>2015-03-31 02:13:16</td>\n",
       "      <td>share</td>\n",
       "      <td>14</td>\n",
       "      <td>2015</td>\n",
       "      <td>2015-w13</td>\n",
       "    </tr>\n",
       "    <tr>\n",
       "      <th>500111</th>\n",
       "      <td>38393304</td>\n",
       "      <td>123155586</td>\n",
       "      <td>2015-03-31 02:13:20</td>\n",
       "      <td>like</td>\n",
       "      <td>14</td>\n",
       "      <td>2015</td>\n",
       "      <td>2015-w13</td>\n",
       "    </tr>\n",
       "    <tr>\n",
       "      <th>173285</th>\n",
       "      <td>38393304</td>\n",
       "      <td>123155586</td>\n",
       "      <td>2015-04-06 15:32:40</td>\n",
       "      <td>share</td>\n",
       "      <td>15</td>\n",
       "      <td>2015</td>\n",
       "      <td>2015-w14</td>\n",
       "    </tr>\n",
       "    <tr>\n",
       "      <th>518726</th>\n",
       "      <td>38393304</td>\n",
       "      <td>123155586</td>\n",
       "      <td>2015-04-06 15:32:45</td>\n",
       "      <td>like</td>\n",
       "      <td>15</td>\n",
       "      <td>2015</td>\n",
       "      <td>2015-w14</td>\n",
       "    </tr>\n",
       "    <tr>\n",
       "      <th>162894</th>\n",
       "      <td>38393304</td>\n",
       "      <td>123155586</td>\n",
       "      <td>2015-04-13 12:53:26</td>\n",
       "      <td>share</td>\n",
       "      <td>16</td>\n",
       "      <td>2015</td>\n",
       "      <td>2015-w15</td>\n",
       "    </tr>\n",
       "    <tr>\n",
       "      <th>772070</th>\n",
       "      <td>38393304</td>\n",
       "      <td>123155586</td>\n",
       "      <td>2015-04-20 16:56:12</td>\n",
       "      <td>follow</td>\n",
       "      <td>17</td>\n",
       "      <td>2015</td>\n",
       "      <td>2015-w16</td>\n",
       "    </tr>\n",
       "    <tr>\n",
       "      <th>175380</th>\n",
       "      <td>38393304</td>\n",
       "      <td>123155586</td>\n",
       "      <td>2015-04-21 23:12:53</td>\n",
       "      <td>share</td>\n",
       "      <td>17</td>\n",
       "      <td>2015</td>\n",
       "      <td>2015-w16</td>\n",
       "    </tr>\n",
       "    <tr>\n",
       "      <th>502669</th>\n",
       "      <td>38393304</td>\n",
       "      <td>123155586</td>\n",
       "      <td>2015-04-27 16:53:51</td>\n",
       "      <td>like</td>\n",
       "      <td>18</td>\n",
       "      <td>2015</td>\n",
       "      <td>2015-w17</td>\n",
       "    </tr>\n",
       "    <tr>\n",
       "      <th>165957</th>\n",
       "      <td>38393304</td>\n",
       "      <td>123155586</td>\n",
       "      <td>2015-04-29 02:30:24</td>\n",
       "      <td>share</td>\n",
       "      <td>18</td>\n",
       "      <td>2015</td>\n",
       "      <td>2015-w17</td>\n",
       "    </tr>\n",
       "    <tr>\n",
       "      <th>175055</th>\n",
       "      <td>38393304</td>\n",
       "      <td>123155586</td>\n",
       "      <td>2015-05-05 00:54:31</td>\n",
       "      <td>share</td>\n",
       "      <td>19</td>\n",
       "      <td>2015</td>\n",
       "      <td>2015-w18</td>\n",
       "    </tr>\n",
       "    <tr>\n",
       "      <th>522146</th>\n",
       "      <td>38393304</td>\n",
       "      <td>123155586</td>\n",
       "      <td>2015-05-05 00:54:36</td>\n",
       "      <td>like</td>\n",
       "      <td>19</td>\n",
       "      <td>2015</td>\n",
       "      <td>2015-w18</td>\n",
       "    </tr>\n",
       "    <tr>\n",
       "      <th>525449</th>\n",
       "      <td>38393304</td>\n",
       "      <td>123155586</td>\n",
       "      <td>2015-05-06 21:06:15</td>\n",
       "      <td>like</td>\n",
       "      <td>19</td>\n",
       "      <td>2015</td>\n",
       "      <td>2015-w18</td>\n",
       "    </tr>\n",
       "    <tr>\n",
       "      <th>526698</th>\n",
       "      <td>38393304</td>\n",
       "      <td>123155586</td>\n",
       "      <td>2015-05-06 21:06:24</td>\n",
       "      <td>like</td>\n",
       "      <td>19</td>\n",
       "      <td>2015</td>\n",
       "      <td>2015-w18</td>\n",
       "    </tr>\n",
       "    <tr>\n",
       "      <th>433424</th>\n",
       "      <td>38393304</td>\n",
       "      <td>123155586</td>\n",
       "      <td>2015-05-06 21:06:24</td>\n",
       "      <td>like</td>\n",
       "      <td>19</td>\n",
       "      <td>2015</td>\n",
       "      <td>2015-w18</td>\n",
       "    </tr>\n",
       "    <tr>\n",
       "      <th>166771</th>\n",
       "      <td>38393304</td>\n",
       "      <td>123155586</td>\n",
       "      <td>2015-05-07 20:29:12</td>\n",
       "      <td>share</td>\n",
       "      <td>19</td>\n",
       "      <td>2015</td>\n",
       "      <td>2015-w18</td>\n",
       "    </tr>\n",
       "    <tr>\n",
       "      <th>172199</th>\n",
       "      <td>38393304</td>\n",
       "      <td>123155586</td>\n",
       "      <td>2015-05-12 15:25:45</td>\n",
       "      <td>share</td>\n",
       "      <td>20</td>\n",
       "      <td>2015</td>\n",
       "      <td>2015-w19</td>\n",
       "    </tr>\n",
       "    <tr>\n",
       "      <th>493419</th>\n",
       "      <td>38393304</td>\n",
       "      <td>123155586</td>\n",
       "      <td>2015-05-12 15:25:51</td>\n",
       "      <td>like</td>\n",
       "      <td>20</td>\n",
       "      <td>2015</td>\n",
       "      <td>2015-w19</td>\n",
       "    </tr>\n",
       "    <tr>\n",
       "      <th>170431</th>\n",
       "      <td>38393304</td>\n",
       "      <td>123155586</td>\n",
       "      <td>2015-05-18 12:19:32</td>\n",
       "      <td>share</td>\n",
       "      <td>21</td>\n",
       "      <td>2015</td>\n",
       "      <td>2015-w20</td>\n",
       "    </tr>\n",
       "    <tr>\n",
       "      <th>523917</th>\n",
       "      <td>38393304</td>\n",
       "      <td>123155586</td>\n",
       "      <td>2015-06-01 23:45:21</td>\n",
       "      <td>like</td>\n",
       "      <td>23</td>\n",
       "      <td>2015</td>\n",
       "      <td>2015-w22</td>\n",
       "    </tr>\n",
       "    <tr>\n",
       "      <th>175915</th>\n",
       "      <td>38393304</td>\n",
       "      <td>123155586</td>\n",
       "      <td>2015-06-01 23:45:23</td>\n",
       "      <td>share</td>\n",
       "      <td>23</td>\n",
       "      <td>2015</td>\n",
       "      <td>2015-w22</td>\n",
       "    </tr>\n",
       "    <tr>\n",
       "      <th>155137</th>\n",
       "      <td>38393304</td>\n",
       "      <td>123155586</td>\n",
       "      <td>2015-06-08 14:49:54</td>\n",
       "      <td>share</td>\n",
       "      <td>24</td>\n",
       "      <td>2015</td>\n",
       "      <td>2015-w23</td>\n",
       "    </tr>\n",
       "    <tr>\n",
       "      <th>176729</th>\n",
       "      <td>38393304</td>\n",
       "      <td>123155586</td>\n",
       "      <td>2015-06-12 01:25:25</td>\n",
       "      <td>share</td>\n",
       "      <td>24</td>\n",
       "      <td>2015</td>\n",
       "      <td>2015-w23</td>\n",
       "    </tr>\n",
       "    <tr>\n",
       "      <th>169522</th>\n",
       "      <td>38393304</td>\n",
       "      <td>123155586</td>\n",
       "      <td>2015-06-15 20:17:33</td>\n",
       "      <td>share</td>\n",
       "      <td>25</td>\n",
       "      <td>2015</td>\n",
       "      <td>2015-w24</td>\n",
       "    </tr>\n",
       "    <tr>\n",
       "      <th>516139</th>\n",
       "      <td>38393304</td>\n",
       "      <td>123155586</td>\n",
       "      <td>2015-06-22 15:53:10</td>\n",
       "      <td>like</td>\n",
       "      <td>26</td>\n",
       "      <td>2015</td>\n",
       "      <td>2015-w25</td>\n",
       "    </tr>\n",
       "    <tr>\n",
       "      <th>147879</th>\n",
       "      <td>38393304</td>\n",
       "      <td>123155586</td>\n",
       "      <td>2015-06-22 15:53:11</td>\n",
       "      <td>share</td>\n",
       "      <td>26</td>\n",
       "      <td>2015</td>\n",
       "      <td>2015-w25</td>\n",
       "    </tr>\n",
       "    <tr>\n",
       "      <th>155064</th>\n",
       "      <td>38393304</td>\n",
       "      <td>123155586</td>\n",
       "      <td>2015-06-29 15:17:37</td>\n",
       "      <td>share</td>\n",
       "      <td>27</td>\n",
       "      <td>2015</td>\n",
       "      <td>2015-w26</td>\n",
       "    </tr>\n",
       "    <tr>\n",
       "      <th>527695</th>\n",
       "      <td>38393304</td>\n",
       "      <td>123155586</td>\n",
       "      <td>2015-07-10 23:25:36</td>\n",
       "      <td>like</td>\n",
       "      <td>28</td>\n",
       "      <td>2015</td>\n",
       "      <td>2015-w27</td>\n",
       "    </tr>\n",
       "  </tbody>\n",
       "</table>\n",
       "</div>"
      ],
      "text/plain": [
       "         user_id     fan_id           date_sent outbound_activity  \\\n",
       "179230  38393304  123155586 2015-03-31 02:13:16             share   \n",
       "500111  38393304  123155586 2015-03-31 02:13:20              like   \n",
       "173285  38393304  123155586 2015-04-06 15:32:40             share   \n",
       "518726  38393304  123155586 2015-04-06 15:32:45              like   \n",
       "162894  38393304  123155586 2015-04-13 12:53:26             share   \n",
       "772070  38393304  123155586 2015-04-20 16:56:12            follow   \n",
       "175380  38393304  123155586 2015-04-21 23:12:53             share   \n",
       "502669  38393304  123155586 2015-04-27 16:53:51              like   \n",
       "165957  38393304  123155586 2015-04-29 02:30:24             share   \n",
       "175055  38393304  123155586 2015-05-05 00:54:31             share   \n",
       "522146  38393304  123155586 2015-05-05 00:54:36              like   \n",
       "525449  38393304  123155586 2015-05-06 21:06:15              like   \n",
       "526698  38393304  123155586 2015-05-06 21:06:24              like   \n",
       "433424  38393304  123155586 2015-05-06 21:06:24              like   \n",
       "166771  38393304  123155586 2015-05-07 20:29:12             share   \n",
       "172199  38393304  123155586 2015-05-12 15:25:45             share   \n",
       "493419  38393304  123155586 2015-05-12 15:25:51              like   \n",
       "170431  38393304  123155586 2015-05-18 12:19:32             share   \n",
       "523917  38393304  123155586 2015-06-01 23:45:21              like   \n",
       "175915  38393304  123155586 2015-06-01 23:45:23             share   \n",
       "155137  38393304  123155586 2015-06-08 14:49:54             share   \n",
       "176729  38393304  123155586 2015-06-12 01:25:25             share   \n",
       "169522  38393304  123155586 2015-06-15 20:17:33             share   \n",
       "516139  38393304  123155586 2015-06-22 15:53:10              like   \n",
       "147879  38393304  123155586 2015-06-22 15:53:11             share   \n",
       "155064  38393304  123155586 2015-06-29 15:17:37             share   \n",
       "527695  38393304  123155586 2015-07-10 23:25:36              like   \n",
       "\n",
       "        interaction_week  interaction_year   week_yr  \n",
       "179230                14              2015  2015-w13  \n",
       "500111                14              2015  2015-w13  \n",
       "173285                15              2015  2015-w14  \n",
       "518726                15              2015  2015-w14  \n",
       "162894                16              2015  2015-w15  \n",
       "772070                17              2015  2015-w16  \n",
       "175380                17              2015  2015-w16  \n",
       "502669                18              2015  2015-w17  \n",
       "165957                18              2015  2015-w17  \n",
       "175055                19              2015  2015-w18  \n",
       "522146                19              2015  2015-w18  \n",
       "525449                19              2015  2015-w18  \n",
       "526698                19              2015  2015-w18  \n",
       "433424                19              2015  2015-w18  \n",
       "166771                19              2015  2015-w18  \n",
       "172199                20              2015  2015-w19  \n",
       "493419                20              2015  2015-w19  \n",
       "170431                21              2015  2015-w20  \n",
       "523917                23              2015  2015-w22  \n",
       "175915                23              2015  2015-w22  \n",
       "155137                24              2015  2015-w23  \n",
       "176729                24              2015  2015-w23  \n",
       "169522                25              2015  2015-w24  \n",
       "516139                26              2015  2015-w25  \n",
       "147879                26              2015  2015-w25  \n",
       "155064                27              2015  2015-w26  \n",
       "527695                28              2015  2015-w27  "
      ]
     },
     "execution_count": 23,
     "metadata": {},
     "output_type": "execute_result"
    }
   ],
   "source": [
    "actions_sent.loc[(actions_sent['user_id'] == user_id) & (actions_sent['fan_id'] == fan_id)]"
   ]
  },
  {
   "cell_type": "code",
   "execution_count": 24,
   "id": "08d09fe5",
   "metadata": {},
   "outputs": [
    {
     "data": {
      "text/html": [
       "<div>\n",
       "<style scoped>\n",
       "    .dataframe tbody tr th:only-of-type {\n",
       "        vertical-align: middle;\n",
       "    }\n",
       "\n",
       "    .dataframe tbody tr th {\n",
       "        vertical-align: top;\n",
       "    }\n",
       "\n",
       "    .dataframe thead th {\n",
       "        text-align: right;\n",
       "    }\n",
       "</style>\n",
       "<table border=\"1\" class=\"dataframe\">\n",
       "  <thead>\n",
       "    <tr style=\"text-align: right;\">\n",
       "      <th></th>\n",
       "      <th>user_id</th>\n",
       "      <th>fan_id</th>\n",
       "      <th>date_sent</th>\n",
       "      <th>outbound_activity</th>\n",
       "      <th>interaction_week</th>\n",
       "      <th>interaction_year</th>\n",
       "      <th>week_yr</th>\n",
       "      <th>inbound_activity</th>\n",
       "      <th>reaction_date</th>\n",
       "    </tr>\n",
       "  </thead>\n",
       "  <tbody>\n",
       "    <tr>\n",
       "      <th>135846</th>\n",
       "      <td>38393304</td>\n",
       "      <td>123155586</td>\n",
       "      <td>2015-05-12 15:25:45</td>\n",
       "      <td>share</td>\n",
       "      <td>20</td>\n",
       "      <td>2015</td>\n",
       "      <td>2015-w19</td>\n",
       "      <td>like</td>\n",
       "      <td>2015-05-19 17:23:52</td>\n",
       "    </tr>\n",
       "    <tr>\n",
       "      <th>135847</th>\n",
       "      <td>38393304</td>\n",
       "      <td>123155586</td>\n",
       "      <td>2015-05-12 15:25:51</td>\n",
       "      <td>like</td>\n",
       "      <td>20</td>\n",
       "      <td>2015</td>\n",
       "      <td>2015-w19</td>\n",
       "      <td>like</td>\n",
       "      <td>2015-05-19 17:23:52</td>\n",
       "    </tr>\n",
       "    <tr>\n",
       "      <th>136307</th>\n",
       "      <td>38393304</td>\n",
       "      <td>123155586</td>\n",
       "      <td>2015-05-18 12:19:32</td>\n",
       "      <td>share</td>\n",
       "      <td>21</td>\n",
       "      <td>2015</td>\n",
       "      <td>2015-w20</td>\n",
       "      <td>like</td>\n",
       "      <td>2015-05-19 17:23:52</td>\n",
       "    </tr>\n",
       "    <tr>\n",
       "      <th>139861</th>\n",
       "      <td>38393304</td>\n",
       "      <td>123155586</td>\n",
       "      <td>2015-07-10 23:25:36</td>\n",
       "      <td>like</td>\n",
       "      <td>28</td>\n",
       "      <td>2015</td>\n",
       "      <td>2015-w27</td>\n",
       "      <td>like</td>\n",
       "      <td>2015-07-12 18:28:58</td>\n",
       "    </tr>\n",
       "  </tbody>\n",
       "</table>\n",
       "</div>"
      ],
      "text/plain": [
       "         user_id     fan_id           date_sent outbound_activity  \\\n",
       "135846  38393304  123155586 2015-05-12 15:25:45             share   \n",
       "135847  38393304  123155586 2015-05-12 15:25:51              like   \n",
       "136307  38393304  123155586 2015-05-18 12:19:32             share   \n",
       "139861  38393304  123155586 2015-07-10 23:25:36              like   \n",
       "\n",
       "        interaction_week  interaction_year   week_yr inbound_activity  \\\n",
       "135846                20              2015  2015-w19             like   \n",
       "135847                20              2015  2015-w19             like   \n",
       "136307                21              2015  2015-w20             like   \n",
       "139861                28              2015  2015-w27             like   \n",
       "\n",
       "             reaction_date  \n",
       "135846 2015-05-19 17:23:52  \n",
       "135847 2015-05-19 17:23:52  \n",
       "136307 2015-05-19 17:23:52  \n",
       "139861 2015-07-12 18:28:58  "
      ]
     },
     "execution_count": 24,
     "metadata": {},
     "output_type": "execute_result"
    }
   ],
   "source": [
    "actions_and_reactions.loc[(actions_and_reactions['user_id'] == user_id) & (actions_and_reactions['fan_id'] == fan_id)]"
   ]
  },
  {
   "cell_type": "code",
   "execution_count": 25,
   "id": "4d2d877d",
   "metadata": {},
   "outputs": [],
   "source": [
    "#log-ins "
   ]
  },
  {
   "cell_type": "code",
   "execution_count": 26,
   "id": "b9eab60f",
   "metadata": {},
   "outputs": [
    {
     "data": {
      "text/html": [
       "<div>\n",
       "<style scoped>\n",
       "    .dataframe tbody tr th:only-of-type {\n",
       "        vertical-align: middle;\n",
       "    }\n",
       "\n",
       "    .dataframe tbody tr th {\n",
       "        vertical-align: top;\n",
       "    }\n",
       "\n",
       "    .dataframe thead th {\n",
       "        text-align: right;\n",
       "    }\n",
       "</style>\n",
       "<table border=\"1\" class=\"dataframe\">\n",
       "  <thead>\n",
       "    <tr style=\"text-align: right;\">\n",
       "      <th></th>\n",
       "      <th>user_id</th>\n",
       "      <th>log_in</th>\n",
       "      <th>activity</th>\n",
       "    </tr>\n",
       "  </thead>\n",
       "  <tbody>\n",
       "    <tr>\n",
       "      <th>923</th>\n",
       "      <td>37936033</td>\n",
       "      <td>2013-03-02 02:56:11</td>\n",
       "      <td>follow</td>\n",
       "    </tr>\n",
       "    <tr>\n",
       "      <th>1138</th>\n",
       "      <td>37865131</td>\n",
       "      <td>2013-03-02 08:39:29</td>\n",
       "      <td>follow</td>\n",
       "    </tr>\n",
       "    <tr>\n",
       "      <th>1242</th>\n",
       "      <td>37979645</td>\n",
       "      <td>2013-03-02 14:21:10</td>\n",
       "      <td>follow</td>\n",
       "    </tr>\n",
       "    <tr>\n",
       "      <th>1370</th>\n",
       "      <td>38028761</td>\n",
       "      <td>2013-03-03 00:00:55</td>\n",
       "      <td>follow</td>\n",
       "    </tr>\n",
       "    <tr>\n",
       "      <th>1371</th>\n",
       "      <td>38028761</td>\n",
       "      <td>2013-03-03 00:00:55</td>\n",
       "      <td>follow</td>\n",
       "    </tr>\n",
       "    <tr>\n",
       "      <th>...</th>\n",
       "      <td>...</td>\n",
       "      <td>...</td>\n",
       "      <td>...</td>\n",
       "    </tr>\n",
       "    <tr>\n",
       "      <th>968508</th>\n",
       "      <td>38150682</td>\n",
       "      <td>2013-03-14 21:42:29</td>\n",
       "      <td>track_play</td>\n",
       "    </tr>\n",
       "    <tr>\n",
       "      <th>968513</th>\n",
       "      <td>38057916</td>\n",
       "      <td>2013-03-14 21:56:36</td>\n",
       "      <td>track_play</td>\n",
       "    </tr>\n",
       "    <tr>\n",
       "      <th>968520</th>\n",
       "      <td>37961134</td>\n",
       "      <td>2013-03-14 22:03:32</td>\n",
       "      <td>track_play</td>\n",
       "    </tr>\n",
       "    <tr>\n",
       "      <th>968521</th>\n",
       "      <td>38324468</td>\n",
       "      <td>2013-03-14 22:13:36</td>\n",
       "      <td>track_play</td>\n",
       "    </tr>\n",
       "    <tr>\n",
       "      <th>968528</th>\n",
       "      <td>38027041</td>\n",
       "      <td>2013-03-14 22:44:48</td>\n",
       "      <td>track_play</td>\n",
       "    </tr>\n",
       "  </tbody>\n",
       "</table>\n",
       "<p>124108 rows × 3 columns</p>\n",
       "</div>"
      ],
      "text/plain": [
       "         user_id              log_in    activity\n",
       "923     37936033 2013-03-02 02:56:11      follow\n",
       "1138    37865131 2013-03-02 08:39:29      follow\n",
       "1242    37979645 2013-03-02 14:21:10      follow\n",
       "1370    38028761 2013-03-03 00:00:55      follow\n",
       "1371    38028761 2013-03-03 00:00:55      follow\n",
       "...          ...                 ...         ...\n",
       "968508  38150682 2013-03-14 21:42:29  track_play\n",
       "968513  38057916 2013-03-14 21:56:36  track_play\n",
       "968520  37961134 2013-03-14 22:03:32  track_play\n",
       "968521  38324468 2013-03-14 22:13:36  track_play\n",
       "968528  38027041 2013-03-14 22:44:48  track_play\n",
       "\n",
       "[124108 rows x 3 columns]"
      ]
     },
     "execution_count": 26,
     "metadata": {},
     "output_type": "execute_result"
    }
   ],
   "source": [
    "mask = log_ins.log_in < (min(actions_and_reactions.date_sent) + pd.Timedelta('14days'))\n",
    "\n",
    "log_ins = log_ins[mask]\n",
    "log_ins"
   ]
  },
  {
   "cell_type": "code",
   "execution_count": 27,
   "id": "801c5aa8",
   "metadata": {},
   "outputs": [],
   "source": [
    "#restrict to 2 weeks"
   ]
  },
  {
   "cell_type": "code",
   "execution_count": 28,
   "id": "27ea0636",
   "metadata": {},
   "outputs": [],
   "source": [
    "mask = actions_and_reactions.date_sent < (min(actions_and_reactions.date_sent) + pd.Timedelta('14days'))\n",
    "\n",
    "actions_and_reactions = actions_and_reactions[mask]"
   ]
  },
  {
   "cell_type": "code",
   "execution_count": 29,
   "id": "d1d77cf8",
   "metadata": {},
   "outputs": [],
   "source": [
    "actions_and_reactions.sort_values('reaction_date', inplace = True)\n",
    "log_ins.sort_values('log_in', inplace = True)"
   ]
  },
  {
   "cell_type": "code",
   "execution_count": 30,
   "id": "e2a290c4",
   "metadata": {},
   "outputs": [],
   "source": [
    "analysis_df = pd.merge_asof(actions_and_reactions, log_ins\n",
    "                     , left_by= ['user_id'], right_by= ['user_id'],\n",
    "             left_on = 'reaction_date', right_on = 'log_in', direction = 'forward',\n",
    "             tolerance=pd.Timedelta('10days'))"
   ]
  },
  {
   "cell_type": "code",
   "execution_count": 31,
   "id": "c05be597",
   "metadata": {},
   "outputs": [
    {
     "data": {
      "text/plain": [
       "570"
      ]
     },
     "execution_count": 31,
     "metadata": {},
     "output_type": "execute_result"
    }
   ],
   "source": [
    "sum(analysis_df.log_in.isnull())"
   ]
  },
  {
   "cell_type": "code",
   "execution_count": 32,
   "id": "d3d17e6c",
   "metadata": {},
   "outputs": [],
   "source": [
    "analysis_df['time_to_reaction'] = analysis_df['reaction_date'] - analysis_df['date_sent']\n",
    "analysis_df['time_to_log_in'] = analysis_df['log_in'] - analysis_df['reaction_date']"
   ]
  },
  {
   "cell_type": "code",
   "execution_count": 33,
   "id": "bfd2d048",
   "metadata": {},
   "outputs": [],
   "source": [
    "mask = analysis_df.date_sent < (max(analysis_df.date_sent) - pd.Timedelta('10days'))\n",
    "analysis_df = analysis_df[mask]"
   ]
  },
  {
   "cell_type": "code",
   "execution_count": 34,
   "id": "1f7237a6",
   "metadata": {},
   "outputs": [
    {
     "data": {
      "text/plain": [
       "count                         1258\n",
       "mean     1 days 15:34:14.064387917\n",
       "std      2 days 09:32:17.921465229\n",
       "min                0 days 00:00:01\n",
       "25%         0 days 01:03:01.750000\n",
       "50%                0 days 11:42:02\n",
       "75%         2 days 03:04:16.750000\n",
       "max                9 days 23:59:10\n",
       "Name: time_to_reaction, dtype: object"
      ]
     },
     "execution_count": 34,
     "metadata": {},
     "output_type": "execute_result"
    }
   ],
   "source": [
    "analysis_df.time_to_reaction.describe()"
   ]
  },
  {
   "cell_type": "code",
   "execution_count": 35,
   "id": "a8d8332e",
   "metadata": {},
   "outputs": [
    {
     "data": {
      "text/plain": [
       "count                         1115\n",
       "mean     0 days 16:01:25.091479820\n",
       "std      1 days 06:29:27.603344384\n",
       "min                0 days 00:00:00\n",
       "25%         0 days 00:09:32.500000\n",
       "50%                0 days 02:17:39\n",
       "75%                0 days 15:19:15\n",
       "max                8 days 13:51:21\n",
       "Name: time_to_log_in, dtype: object"
      ]
     },
     "execution_count": 35,
     "metadata": {},
     "output_type": "execute_result"
    }
   ],
   "source": [
    "analysis_df.time_to_log_in.describe()"
   ]
  },
  {
   "cell_type": "code",
   "execution_count": 259,
   "id": "60ac554b",
   "metadata": {},
   "outputs": [],
   "source": [
    "analysis_df = analysis_df.merge(followers_per_creator_60_static, left_on = 'user_id', right_on = 'user_id', how = 'inner')"
   ]
  },
  {
   "cell_type": "code",
   "execution_count": 357,
   "id": "a72d8373",
   "metadata": {},
   "outputs": [],
   "source": [
    "analysis_df['Creator_type'] = analysis_df['high_low'].apply(lambda x : 'Successful' if x == 'high' else 'Unsuccessful')"
   ]
  },
  {
   "cell_type": "code",
   "execution_count": 358,
   "id": "86e5d648",
   "metadata": {},
   "outputs": [
    {
     "data": {
      "image/png": "[encoded data removed]",
      "text/plain": [
       "<Figure size 960x640 with 1 Axes>"
      ]
     },
     "metadata": {
      "needs_background": "light"
     },
     "output_type": "display_data"
    }
   ],
   "source": [
    "analysis_df['time_to_reaction_d'] = analysis_df.time_to_reaction.astype('timedelta64[D]')\n",
    "\n",
    "plot_f(analysis_df, 'time_to_reaction_d', 9,\n",
    "       \"Figure 21: Distribution of intervals between creator action and user reaction\", \n",
    "       'Days between creator action to user reaction', hue = 'Creator_type', common_norm = False)"
   ]
  },
  {
   "cell_type": "code",
   "execution_count": 359,
   "id": "2b419b67",
   "metadata": {},
   "outputs": [
    {
     "data": {
      "image/png": "[encoded data removed]",
      "text/plain": [
       "<Figure size 960x640 with 1 Axes>"
      ]
     },
     "metadata": {
      "needs_background": "light"
     },
     "output_type": "display_data"
    }
   ],
   "source": [
    "mask = analysis_df.time_to_reaction.astype('timedelta64[D]') < 1\n",
    "analysis_df['time_to_reaction_30m'] = analysis_df.time_to_reaction.astype('timedelta64[30m]')\n",
    "\n",
    "plot_f(analysis_df[mask], 'time_to_reaction_30m', 47,\n",
    "       \"Figure 21b: Zoom in the first day. Distribution of intervals between creator action and user reaction\", \n",
    "       '30 minutes intervals between creator action to user reaction', hue = 'Creator_type', common_norm = False)"
   ]
  },
  {
   "cell_type": "code",
   "execution_count": 360,
   "id": "ab47c125",
   "metadata": {},
   "outputs": [
    {
     "data": {
      "image/png": "[encoded data removed]",
      "text/plain": [
       "<Figure size 960x640 with 1 Axes>"
      ]
     },
     "metadata": {
      "needs_background": "light"
     },
     "output_type": "display_data"
    }
   ],
   "source": [
    "analysis_df['time_to_log_in_d'] = analysis_df.time_to_log_in.astype('timedelta64[D]')\n",
    "\n",
    "plot_f(analysis_df, 'time_to_log_in_d', 9,\n",
    "       \"Figure 22: Distribution of intervals between user reaction and subsequent creator log-in\", \n",
    "       'Days between between user reaction and first subsequent creator log-in',\n",
    "       hue = 'Creator_type', common_norm = False)"
   ]
  },
  {
   "cell_type": "code",
   "execution_count": 361,
   "id": "18514e7e",
   "metadata": {},
   "outputs": [
    {
     "data": {
      "image/png": "[encoded data removed]",
      "text/plain": [
       "<Figure size 960x640 with 1 Axes>"
      ]
     },
     "metadata": {
      "needs_background": "light"
     },
     "output_type": "display_data"
    }
   ],
   "source": [
    "mask = analysis_df.time_to_log_in.astype('timedelta64[D]') < 1\n",
    "analysis_df['time_to_log_in_30m'] = analysis_df.time_to_log_in.astype('timedelta64[30m]')\n",
    "\n",
    "plot_f(analysis_df[mask], 'time_to_log_in_30m', 47,\n",
    "       \"Figure 22b: Zoom in first day. Distribution of intervals between user reaction and subsequent creator log-in\", \n",
    "       '30 minutes intervals between creator reaction and first subsequent creator log-in',\n",
    "       hue = 'Creator_type', common_norm = False)"
   ]
  },
  {
   "cell_type": "code",
   "execution_count": 40,
   "id": "3f9d8c04",
   "metadata": {},
   "outputs": [
    {
     "data": {
      "text/html": [
       "<div>\n",
       "<style scoped>\n",
       "    .dataframe tbody tr th:only-of-type {\n",
       "        vertical-align: middle;\n",
       "    }\n",
       "\n",
       "    .dataframe tbody tr th {\n",
       "        vertical-align: top;\n",
       "    }\n",
       "\n",
       "    .dataframe thead th {\n",
       "        text-align: right;\n",
       "    }\n",
       "</style>\n",
       "<table border=\"1\" class=\"dataframe\">\n",
       "  <thead>\n",
       "    <tr style=\"text-align: right;\">\n",
       "      <th></th>\n",
       "      <th>user_id</th>\n",
       "      <th>fan_id</th>\n",
       "      <th>date_sent</th>\n",
       "      <th>outbound_activity</th>\n",
       "      <th>interaction_week</th>\n",
       "      <th>interaction_year</th>\n",
       "      <th>week_yr</th>\n",
       "      <th>inbound_activity</th>\n",
       "      <th>reaction_date</th>\n",
       "    </tr>\n",
       "  </thead>\n",
       "  <tbody>\n",
       "    <tr>\n",
       "      <th>94</th>\n",
       "      <td>37824681</td>\n",
       "      <td>20492763</td>\n",
       "      <td>2013-03-01 00:38:33</td>\n",
       "      <td>follow</td>\n",
       "      <td>9</td>\n",
       "      <td>2013</td>\n",
       "      <td>2013-w08</td>\n",
       "      <td>follow</td>\n",
       "      <td>2013-03-01 00:39:06</td>\n",
       "    </tr>\n",
       "    <tr>\n",
       "      <th>252</th>\n",
       "      <td>37827529</td>\n",
       "      <td>11488907</td>\n",
       "      <td>2013-03-01 00:52:24</td>\n",
       "      <td>message</td>\n",
       "      <td>9</td>\n",
       "      <td>2013</td>\n",
       "      <td>2013-w08</td>\n",
       "      <td>comment</td>\n",
       "      <td>2013-03-01 01:02:09</td>\n",
       "    </tr>\n",
       "    <tr>\n",
       "      <th>262</th>\n",
       "      <td>37827529</td>\n",
       "      <td>11488907</td>\n",
       "      <td>2013-03-01 01:04:22</td>\n",
       "      <td>follow</td>\n",
       "      <td>9</td>\n",
       "      <td>2013</td>\n",
       "      <td>2013-w08</td>\n",
       "      <td>comment</td>\n",
       "      <td>2013-03-01 01:04:56</td>\n",
       "    </tr>\n",
       "    <tr>\n",
       "      <th>269</th>\n",
       "      <td>37824681</td>\n",
       "      <td>28451863</td>\n",
       "      <td>2013-03-01 01:47:17</td>\n",
       "      <td>follow</td>\n",
       "      <td>9</td>\n",
       "      <td>2013</td>\n",
       "      <td>2013-w08</td>\n",
       "      <td>follow</td>\n",
       "      <td>2013-03-01 01:47:20</td>\n",
       "    </tr>\n",
       "    <tr>\n",
       "      <th>367</th>\n",
       "      <td>37824681</td>\n",
       "      <td>5582390</td>\n",
       "      <td>2013-03-01 02:00:55</td>\n",
       "      <td>like</td>\n",
       "      <td>9</td>\n",
       "      <td>2013</td>\n",
       "      <td>2013-w08</td>\n",
       "      <td>follow</td>\n",
       "      <td>2013-03-01 02:01:42</td>\n",
       "    </tr>\n",
       "    <tr>\n",
       "      <th>...</th>\n",
       "      <td>...</td>\n",
       "      <td>...</td>\n",
       "      <td>...</td>\n",
       "      <td>...</td>\n",
       "      <td>...</td>\n",
       "      <td>...</td>\n",
       "      <td>...</td>\n",
       "      <td>...</td>\n",
       "      <td>...</td>\n",
       "    </tr>\n",
       "    <tr>\n",
       "      <th>49714</th>\n",
       "      <td>38290748</td>\n",
       "      <td>26594592</td>\n",
       "      <td>2013-03-14 12:41:58</td>\n",
       "      <td>follow</td>\n",
       "      <td>11</td>\n",
       "      <td>2013</td>\n",
       "      <td>2013-w10</td>\n",
       "      <td>follow</td>\n",
       "      <td>2013-03-22 00:13:13</td>\n",
       "    </tr>\n",
       "    <tr>\n",
       "      <th>48090</th>\n",
       "      <td>37846167</td>\n",
       "      <td>31126894</td>\n",
       "      <td>2013-03-12 09:27:40</td>\n",
       "      <td>follow</td>\n",
       "      <td>11</td>\n",
       "      <td>2013</td>\n",
       "      <td>2013-w10</td>\n",
       "      <td>follow</td>\n",
       "      <td>2013-03-22 04:35:21</td>\n",
       "    </tr>\n",
       "    <tr>\n",
       "      <th>48974</th>\n",
       "      <td>38489844</td>\n",
       "      <td>30896102</td>\n",
       "      <td>2013-03-13 20:32:16</td>\n",
       "      <td>follow</td>\n",
       "      <td>11</td>\n",
       "      <td>2013</td>\n",
       "      <td>2013-w10</td>\n",
       "      <td>like</td>\n",
       "      <td>2013-03-22 10:22:24</td>\n",
       "    </tr>\n",
       "    <tr>\n",
       "      <th>49872</th>\n",
       "      <td>38183207</td>\n",
       "      <td>721701</td>\n",
       "      <td>2013-03-14 21:20:07</td>\n",
       "      <td>follow</td>\n",
       "      <td>11</td>\n",
       "      <td>2013</td>\n",
       "      <td>2013-w10</td>\n",
       "      <td>follow</td>\n",
       "      <td>2013-03-23 17:45:56</td>\n",
       "    </tr>\n",
       "    <tr>\n",
       "      <th>49262</th>\n",
       "      <td>38324468</td>\n",
       "      <td>38245908</td>\n",
       "      <td>2013-03-14 01:49:53</td>\n",
       "      <td>follow</td>\n",
       "      <td>11</td>\n",
       "      <td>2013</td>\n",
       "      <td>2013-w10</td>\n",
       "      <td>follow</td>\n",
       "      <td>2013-03-23 18:52:57</td>\n",
       "    </tr>\n",
       "  </tbody>\n",
       "</table>\n",
       "<p>3063 rows × 9 columns</p>\n",
       "</div>"
      ],
      "text/plain": [
       "        user_id    fan_id           date_sent outbound_activity  \\\n",
       "94     37824681  20492763 2013-03-01 00:38:33            follow   \n",
       "252    37827529  11488907 2013-03-01 00:52:24           message   \n",
       "262    37827529  11488907 2013-03-01 01:04:22            follow   \n",
       "269    37824681  28451863 2013-03-01 01:47:17            follow   \n",
       "367    37824681   5582390 2013-03-01 02:00:55              like   \n",
       "...         ...       ...                 ...               ...   \n",
       "49714  38290748  26594592 2013-03-14 12:41:58            follow   \n",
       "48090  37846167  31126894 2013-03-12 09:27:40            follow   \n",
       "48974  38489844  30896102 2013-03-13 20:32:16            follow   \n",
       "49872  38183207    721701 2013-03-14 21:20:07            follow   \n",
       "49262  38324468  38245908 2013-03-14 01:49:53            follow   \n",
       "\n",
       "       interaction_week  interaction_year   week_yr inbound_activity  \\\n",
       "94                    9              2013  2013-w08           follow   \n",
       "252                   9              2013  2013-w08          comment   \n",
       "262                   9              2013  2013-w08          comment   \n",
       "269                   9              2013  2013-w08           follow   \n",
       "367                   9              2013  2013-w08           follow   \n",
       "...                 ...               ...       ...              ...   \n",
       "49714                11              2013  2013-w10           follow   \n",
       "48090                11              2013  2013-w10           follow   \n",
       "48974                11              2013  2013-w10             like   \n",
       "49872                11              2013  2013-w10           follow   \n",
       "49262                11              2013  2013-w10           follow   \n",
       "\n",
       "            reaction_date  \n",
       "94    2013-03-01 00:39:06  \n",
       "252   2013-03-01 01:02:09  \n",
       "262   2013-03-01 01:04:56  \n",
       "269   2013-03-01 01:47:20  \n",
       "367   2013-03-01 02:01:42  \n",
       "...                   ...  \n",
       "49714 2013-03-22 00:13:13  \n",
       "48090 2013-03-22 04:35:21  \n",
       "48974 2013-03-22 10:22:24  \n",
       "49872 2013-03-23 17:45:56  \n",
       "49262 2013-03-23 18:52:57  \n",
       "\n",
       "[3063 rows x 9 columns]"
      ]
     },
     "execution_count": 40,
     "metadata": {},
     "output_type": "execute_result"
    }
   ],
   "source": [
    "actions_and_reactions"
   ]
  },
  {
   "cell_type": "markdown",
   "id": "aaf8c155",
   "metadata": {},
   "source": [
    "# Session analysis"
   ]
  },
  {
   "cell_type": "code",
   "execution_count": 42,
   "id": "2d4fa64e",
   "metadata": {},
   "outputs": [
    {
     "data": {
      "text/html": [
       "<div>\n",
       "<style scoped>\n",
       "    .dataframe tbody tr th:only-of-type {\n",
       "        vertical-align: middle;\n",
       "    }\n",
       "\n",
       "    .dataframe tbody tr th {\n",
       "        vertical-align: top;\n",
       "    }\n",
       "\n",
       "    .dataframe thead th {\n",
       "        text-align: right;\n",
       "    }\n",
       "</style>\n",
       "<table border=\"1\" class=\"dataframe\">\n",
       "  <thead>\n",
       "    <tr style=\"text-align: right;\">\n",
       "      <th></th>\n",
       "      <th>user_id</th>\n",
       "      <th>log_in</th>\n",
       "      <th>activity</th>\n",
       "    </tr>\n",
       "  </thead>\n",
       "  <tbody>\n",
       "    <tr>\n",
       "      <th>111745</th>\n",
       "      <td>37824072</td>\n",
       "      <td>2013-03-01 00:00:38</td>\n",
       "      <td>follow</td>\n",
       "    </tr>\n",
       "    <tr>\n",
       "      <th>111744</th>\n",
       "      <td>37824072</td>\n",
       "      <td>2013-03-01 00:00:38</td>\n",
       "      <td>follow</td>\n",
       "    </tr>\n",
       "    <tr>\n",
       "      <th>111746</th>\n",
       "      <td>37824072</td>\n",
       "      <td>2013-03-01 00:00:38</td>\n",
       "      <td>follow</td>\n",
       "    </tr>\n",
       "    <tr>\n",
       "      <th>111747</th>\n",
       "      <td>37824072</td>\n",
       "      <td>2013-03-01 00:00:38</td>\n",
       "      <td>follow</td>\n",
       "    </tr>\n",
       "    <tr>\n",
       "      <th>111763</th>\n",
       "      <td>37824072</td>\n",
       "      <td>2013-03-01 00:00:38</td>\n",
       "      <td>follow</td>\n",
       "    </tr>\n",
       "    <tr>\n",
       "      <th>...</th>\n",
       "      <td>...</td>\n",
       "      <td>...</td>\n",
       "      <td>...</td>\n",
       "    </tr>\n",
       "    <tr>\n",
       "      <th>959667</th>\n",
       "      <td>38037998</td>\n",
       "      <td>2013-03-15 00:20:55</td>\n",
       "      <td>track_play</td>\n",
       "    </tr>\n",
       "    <tr>\n",
       "      <th>603396</th>\n",
       "      <td>38026587</td>\n",
       "      <td>2013-03-15 00:21:47</td>\n",
       "      <td>track_play</td>\n",
       "    </tr>\n",
       "    <tr>\n",
       "      <th>938155</th>\n",
       "      <td>37888260</td>\n",
       "      <td>2013-03-15 00:21:57</td>\n",
       "      <td>track_play</td>\n",
       "    </tr>\n",
       "    <tr>\n",
       "      <th>596561</th>\n",
       "      <td>37888260</td>\n",
       "      <td>2013-03-15 00:22:04</td>\n",
       "      <td>track_play</td>\n",
       "    </tr>\n",
       "    <tr>\n",
       "      <th>429857</th>\n",
       "      <td>37888260</td>\n",
       "      <td>2013-03-15 00:22:12</td>\n",
       "      <td>track_play</td>\n",
       "    </tr>\n",
       "  </tbody>\n",
       "</table>\n",
       "<p>124108 rows × 3 columns</p>\n",
       "</div>"
      ],
      "text/plain": [
       "         user_id              log_in    activity\n",
       "111745  37824072 2013-03-01 00:00:38      follow\n",
       "111744  37824072 2013-03-01 00:00:38      follow\n",
       "111746  37824072 2013-03-01 00:00:38      follow\n",
       "111747  37824072 2013-03-01 00:00:38      follow\n",
       "111763  37824072 2013-03-01 00:00:38      follow\n",
       "...          ...                 ...         ...\n",
       "959667  38037998 2013-03-15 00:20:55  track_play\n",
       "603396  38026587 2013-03-15 00:21:47  track_play\n",
       "938155  37888260 2013-03-15 00:21:57  track_play\n",
       "596561  37888260 2013-03-15 00:22:04  track_play\n",
       "429857  37888260 2013-03-15 00:22:12  track_play\n",
       "\n",
       "[124108 rows x 3 columns]"
      ]
     },
     "execution_count": 42,
     "metadata": {},
     "output_type": "execute_result"
    }
   ],
   "source": [
    "log_ins"
   ]
  },
  {
   "cell_type": "code",
   "execution_count": 43,
   "id": "0316bbb2",
   "metadata": {},
   "outputs": [],
   "source": [
    "def attribute_sessions(df):\n",
    "    df.sort_values(by = ['user_id', 'log_in'], inplace = True)\n",
    "    df['session'] = np.nan\n",
    "    interval = pd.Timedelta('30minutes')\n",
    "    j = 0\n",
    "    for user in df.user_id.unique():\n",
    "        session = 1\n",
    "        for i in range(df.loc[df.user_id == user,:].shape[0]):\n",
    "            df.iloc[j, -1] = session\n",
    "            try:\n",
    "                if (df.iloc[j+1, 1] - df.iloc[j, 1]) > interval:\n",
    "                    session += 1\n",
    "            except IndexError as e:\n",
    "                if j+1 == df.shape[0]:\n",
    "                    print('Reached End of File.')\n",
    "            j += 1\n",
    "    return df"
   ]
  },
  {
   "cell_type": "code",
   "execution_count": 176,
   "id": "fecb650e",
   "metadata": {},
   "outputs": [
    {
     "name": "stdout",
     "output_type": "stream",
     "text": [
      "Reached End of File.\n"
     ]
    }
   ],
   "source": [
    "log_ins_t = attribute_sessions(log_ins)"
   ]
  },
  {
   "cell_type": "code",
   "execution_count": 177,
   "id": "78300feb",
   "metadata": {},
   "outputs": [],
   "source": [
    "creator_sessions = log_ins_t.groupby(['user_id', 'session'], as_index = False).agg(session_end=('log_in', max), session_start=('log_in', 'min'))\n",
    "creator_sessions = creator_sessions.merge(user_info[['user_id','entered_platform']], left_on = 'user_id', right_on = 'user_id')"
   ]
  },
  {
   "cell_type": "code",
   "execution_count": 178,
   "id": "fd5c1935",
   "metadata": {},
   "outputs": [
    {
     "name": "stderr",
     "output_type": "stream",
     "text": [
      "100%|███████████████████████████████████████████████████████████████████████████████████████████████████████████████████████████████| 13366/13366 [00:01<00:00, 9540.68it/s]"
     ]
    },
    {
     "name": "stdout",
     "output_type": "stream",
     "text": [
      "end of file.\n"
     ]
    },
    {
     "name": "stderr",
     "output_type": "stream",
     "text": [
      "\n"
     ]
    }
   ],
   "source": [
    "delta_M = dt.timedelta(days=14)\n",
    "date = dt.datetime(2013, 3, 1, 0, 0, 0) + delta_M\n",
    "creator_sessions['interval_bt_sessions'] = np.nan \n",
    "previous_user = 99999999\n",
    "for i in tqdm(range(creator_sessions.shape[0])):\n",
    "    user = creator_sessions.iloc[i, 0] \n",
    "    try:\n",
    "        next_user = creator_sessions.iloc[i+1, 0]\n",
    "        if user != next_user:\n",
    "            creator_sessions.loc[i, 'interval_bt_sessions'] = max(date - (creator_sessions.loc[i, 'session_end']), pd.Timedelta('0'))\n",
    "        elif user == previous_user:\n",
    "            creator_sessions.loc[i, 'interval_bt_sessions'] = creator_sessions.loc[i,'session_start'] - creator_sessions.loc[i-1,'session_end'] \n",
    "        else:\n",
    "            creator_sessions.loc[i, 'interval_bt_sessions'] = creator_sessions.loc[i,'session_start'] - creator_sessions.loc[i,'entered_platform'] \n",
    "        previous_user = user\n",
    "    except:\n",
    "        creator_sessions.loc[i, 'interval_bt_sessions'] = date - (creator_sessions.loc[i, 'session_end'])\n",
    "        print('end of file.')                                 "
   ]
  },
  {
   "cell_type": "code",
   "execution_count": 180,
   "id": "5d390644",
   "metadata": {},
   "outputs": [],
   "source": [
    "creator_sessions['interval_bt_sessions'] = creator_sessions.interval_bt_sessions.map(lambda x: pd.to_timedelta(x))\n",
    "creator_sessions['interval_bt_sessions_hours'] = creator_sessions.interval_bt_sessions.map(lambda x: x.seconds//(60*60))\n",
    "creator_sessions['interval_bt_sessions_days'] = creator_sessions.interval_bt_sessions.map(lambda x: x.days)"
   ]
  },
  {
   "cell_type": "code",
   "execution_count": 127,
   "id": "76da92b7",
   "metadata": {},
   "outputs": [],
   "source": [
    "mask = (creator_sessions.interval_bt_sessions.isnull() == False)"
   ]
  },
  {
   "cell_type": "code",
   "execution_count": 323,
   "id": "c389944a",
   "metadata": {},
   "outputs": [],
   "source": [
    "creator_sessions_ = creator_sessions.merge(followers_per_creator_60_static, left_on = 'user_id', right_on = 'user_id', how = 'inner')"
   ]
  },
  {
   "cell_type": "code",
   "execution_count": 325,
   "id": "ce7c4aa4",
   "metadata": {},
   "outputs": [],
   "source": [
    "creator_sessions_['Creator_type'] = creator_sessions_['high_low'].apply(lambda x : 'Successful' if x == 'high' else 'Unsuccessful')"
   ]
  },
  {
   "cell_type": "code",
   "execution_count": 333,
   "id": "9e5715f2",
   "metadata": {},
   "outputs": [],
   "source": [
    "def plot_f(data, x , bins, title,x_label, hue = None, common_norm = True):\n",
    "    \n",
    "    order = [1,2,0]\n",
    "    figure(figsize=(12, 8), dpi=80)\n",
    "\n",
    "    g = sns.histplot(data = data, x = x, stat = 'percent', bins = bins, hue = hue, common_norm = common_norm).\\\n",
    "    set(title = title, \n",
    "        xlabel = x_label); "
   ]
  },
  {
   "cell_type": "code",
   "execution_count": 334,
   "id": "7538c865",
   "metadata": {},
   "outputs": [
    {
     "data": {
      "image/png": "[encoded data removed]",
      "text/plain": [
       "<Figure size 960x640 with 1 Axes>"
      ]
     },
     "metadata": {
      "needs_background": "light"
     },
     "output_type": "display_data"
    }
   ],
   "source": [
    "creator_sessions['interval_bt_sessions_days_truncated'] = creator_sessions.interval_bt_sessions.astype('timedelta64[D]').\\\n",
    "apply(lambda x: 30 if x > 30 else x)\n",
    "\n",
    "plot_f(creator_sessions, 'interval_bt_sessions_days_truncated',13,\n",
    "       \"Figure 23: Interval between sessions in days.\", \n",
    "       'Interval between sessions in days', hue = None, common_norm = True)"
   ]
  },
  {
   "cell_type": "code",
   "execution_count": 335,
   "id": "4f8f4218",
   "metadata": {},
   "outputs": [
    {
     "data": {
      "image/png": "[encoded data removed]",
      "text/plain": [
       "<Figure size 960x640 with 1 Axes>"
      ]
     },
     "metadata": {
      "needs_background": "light"
     },
     "output_type": "display_data"
    }
   ],
   "source": [
    "creator_sessions_['interval_bt_sessions_days_truncated'] = creator_sessions_.interval_bt_sessions.astype('timedelta64[D]').\\\n",
    "apply(lambda x: 30 if x > 30 else x)\n",
    "\n",
    "plot_f(creator_sessions_, 'interval_bt_sessions_days_truncated',13,\n",
    "       \"Figure 23: Interval between sessions in days.\", \n",
    "       'Interval between sessions in days', hue = 'Creator_type', common_norm = False)"
   ]
  },
  {
   "cell_type": "code",
   "execution_count": 336,
   "id": "c93ab990",
   "metadata": {},
   "outputs": [
    {
     "data": {
      "image/png": "[encoded data removed]",
      "text/plain": [
       "<Figure size 960x640 with 1 Axes>"
      ]
     },
     "metadata": {
      "needs_background": "light"
     },
     "output_type": "display_data"
    }
   ],
   "source": [
    "import datetime as dt\n",
    "figure(figsize=(12, 8), dpi=80)\n",
    "mask = creator_sessions.interval_bt_sessions.astype('timedelta64[D]') < 1\n",
    "\n",
    "sns.histplot(creator_sessions[mask].interval_bt_sessions.astype('timedelta64[30m]'), stat = 'percent', bins = 47).\\\n",
    "set(title = \"Figure 23b: Zoom in the first day. Interval between sessions in 30 minute intervals\", \n",
    "    xlabel = 'Interval between sessions in 30 minute intervals');"
   ]
  },
  {
   "cell_type": "code",
   "execution_count": 362,
   "id": "11ee480b",
   "metadata": {},
   "outputs": [
    {
     "data": {
      "image/png": "[encoded data removed]",
      "text/plain": [
       "<Figure size 960x640 with 1 Axes>"
      ]
     },
     "metadata": {
      "needs_background": "light"
     },
     "output_type": "display_data"
    }
   ],
   "source": [
    "mask = creator_sessions_.interval_bt_sessions.astype('timedelta64[D]') < 1\n",
    "creator_sessions_['interval_bt_sessions_30'] = creator_sessions_.interval_bt_sessions.astype('timedelta64[30m]')\n",
    "\n",
    "plot_f(creator_sessions_[mask], 'interval_bt_sessions_30',47,\n",
    "       \"Figure 23b: Zoom in the first day. Interval between sessions in 30 minute intervals\", \n",
    "       'Interval between sessions in 30 minute intervals', hue = 'Creator_type', common_norm = False)"
   ]
  },
  {
   "cell_type": "code",
   "execution_count": 338,
   "id": "02e91446",
   "metadata": {},
   "outputs": [],
   "source": [
    "users_len = creator_sessions_.groupby('user_id').size()\n",
    "users_len_1 = users_len[ users_len == 1].index"
   ]
  },
  {
   "cell_type": "code",
   "execution_count": 339,
   "id": "022217d4",
   "metadata": {},
   "outputs": [],
   "source": [
    "delta_M = dt.timedelta(days=14)\n",
    "date = dt.datetime(2013, 3, 1, 0, 0, 0) + delta_M\n",
    "creator_sessions['total_possible_time'] = date - creator_sessions.entered_platform"
   ]
  },
  {
   "cell_type": "code",
   "execution_count": 340,
   "id": "d12aebfb",
   "metadata": {},
   "outputs": [],
   "source": [
    "creator_sessions['interval_bt_sessions_na_0'] = creator_sessions['interval_bt_sessions']\n",
    "mask = creator_sessions.user_id.isin(users_len_1)\n",
    "creator_sessions.loc[mask, 'interval_bt_sessions_na_0'] = creator_sessions.loc[mask, 'total_possible_time']\n",
    "intervals = creator_sessions.groupby('user_id', as_index = False).agg(time_not_logged_in = ('interval_bt_sessions_na_0', np.nansum), \n",
    "                                                                     total_possible_time = ('total_possible_time', np.mean))"
   ]
  },
  {
   "cell_type": "code",
   "execution_count": 341,
   "id": "72495541",
   "metadata": {},
   "outputs": [],
   "source": [
    "pct_logged_in = intervals\n",
    "pct_logged_in['Ratio'] = (intervals.total_possible_time - intervals.time_not_logged_in)/intervals.total_possible_time\n"
   ]
  },
  {
   "cell_type": "code",
   "execution_count": 342,
   "id": "110f1112",
   "metadata": {},
   "outputs": [],
   "source": [
    "pct_logged_in_ = pct_logged_in\n",
    "pct_logged_in_ = pct_logged_in_.merge(followers_per_creator_60_static, left_on = 'user_id', right_on = 'user_id', how = 'inner')"
   ]
  },
  {
   "cell_type": "code",
   "execution_count": 364,
   "id": "a83fb1c5",
   "metadata": {},
   "outputs": [
    {
     "data": {
      "image/png": "[encoded data removed]",
      "text/plain": [
       "<Figure size 960x640 with 1 Axes>"
      ]
     },
     "metadata": {
      "needs_background": "light"
     },
     "output_type": "display_data"
    }
   ],
   "source": [
    "import datetime as dt\n",
    "figure(figsize=(12, 8), dpi=80)\n",
    "pct_logged_in_['Creator_type'] = pct_logged_in_['high_low'].apply(lambda x : 'Successful' if x == 'high' else 'Unsuccessful')\n",
    "\n",
    "sns.histplot(data = pct_logged_in_, x = 'Ratio', stat = 'percent', bins = 20,\n",
    "            hue = 'Creator_type', common_norm = False).\\\n",
    "set(title = \"Figure 24: Probability of being logged in.\", \n",
    "    xlabel = 'Ratio of time logged-in');"
   ]
  },
  {
   "cell_type": "code",
   "execution_count": 349,
   "id": "67564680",
   "metadata": {},
   "outputs": [
    {
     "data": {
      "image/png": "[encoded data removed]",
      "text/plain": [
       "<Figure size 960x640 with 1 Axes>"
      ]
     },
     "metadata": {
      "needs_background": "light"
     },
     "output_type": "display_data"
    }
   ],
   "source": [
    "import datetime as dt\n",
    "figure(figsize=(12, 8), dpi=80)\n",
    "mask = creator_sessions.interval_bt_sessions.astype('timedelta64[D]') < 1\n",
    "\n",
    "sns.histplot(data = pct_logged_in_, x = 'Ratio', stat = 'percent', bins = 20).\\\n",
    "set(title = \"Figure 24: Probability of being logged in.\", \n",
    "    xlabel = 'Ratio of time logged-in');"
   ]
  },
  {
   "cell_type": "code",
   "execution_count": 344,
   "id": "53d5301b",
   "metadata": {},
   "outputs": [
    {
     "data": {
      "text/html": [
       "<div>\n",
       "<style scoped>\n",
       "    .dataframe tbody tr th:only-of-type {\n",
       "        vertical-align: middle;\n",
       "    }\n",
       "\n",
       "    .dataframe tbody tr th {\n",
       "        vertical-align: top;\n",
       "    }\n",
       "\n",
       "    .dataframe thead th {\n",
       "        text-align: right;\n",
       "    }\n",
       "</style>\n",
       "<table border=\"1\" class=\"dataframe\">\n",
       "  <thead>\n",
       "    <tr style=\"text-align: right;\">\n",
       "      <th></th>\n",
       "      <th>user_id</th>\n",
       "      <th>session</th>\n",
       "      <th>session_end</th>\n",
       "      <th>session_start</th>\n",
       "      <th>entered_platform</th>\n",
       "      <th>interval_bt_sessions</th>\n",
       "      <th>interval_bt_sessions_hours</th>\n",
       "      <th>interval_bt_sessions_days</th>\n",
       "      <th>interval_bt_sessions_days_truncated</th>\n",
       "      <th>interval_bt_sessions_30</th>\n",
       "      <th>total_possible_time</th>\n",
       "      <th>interval_bt_sessions_na_0</th>\n",
       "    </tr>\n",
       "  </thead>\n",
       "  <tbody>\n",
       "    <tr>\n",
       "      <th>20</th>\n",
       "      <td>37824662</td>\n",
       "      <td>1.0</td>\n",
       "      <td>2013-03-01 00:11:57</td>\n",
       "      <td>2013-03-01 00:11:57</td>\n",
       "      <td>2013-03-01 00:06:47</td>\n",
       "      <td>0 days 00:05:10</td>\n",
       "      <td>0</td>\n",
       "      <td>0</td>\n",
       "      <td>0.0</td>\n",
       "      <td>0.0</td>\n",
       "      <td>13 days 23:53:13</td>\n",
       "      <td>0 days 00:05:10</td>\n",
       "    </tr>\n",
       "    <tr>\n",
       "      <th>21</th>\n",
       "      <td>37824662</td>\n",
       "      <td>2.0</td>\n",
       "      <td>2013-03-01 02:41:42</td>\n",
       "      <td>2013-03-01 02:38:21</td>\n",
       "      <td>2013-03-01 00:06:47</td>\n",
       "      <td>13 days 21:18:18</td>\n",
       "      <td>21</td>\n",
       "      <td>13</td>\n",
       "      <td>13.0</td>\n",
       "      <td>666.0</td>\n",
       "      <td>13 days 23:53:13</td>\n",
       "      <td>13 days 21:18:18</td>\n",
       "    </tr>\n",
       "  </tbody>\n",
       "</table>\n",
       "</div>"
      ],
      "text/plain": [
       "     user_id  session         session_end       session_start  \\\n",
       "20  37824662      1.0 2013-03-01 00:11:57 2013-03-01 00:11:57   \n",
       "21  37824662      2.0 2013-03-01 02:41:42 2013-03-01 02:38:21   \n",
       "\n",
       "      entered_platform interval_bt_sessions  interval_bt_sessions_hours  \\\n",
       "20 2013-03-01 00:06:47      0 days 00:05:10                           0   \n",
       "21 2013-03-01 00:06:47     13 days 21:18:18                          21   \n",
       "\n",
       "    interval_bt_sessions_days  interval_bt_sessions_days_truncated  \\\n",
       "20                          0                                  0.0   \n",
       "21                         13                                 13.0   \n",
       "\n",
       "    interval_bt_sessions_30 total_possible_time interval_bt_sessions_na_0  \n",
       "20                      0.0    13 days 23:53:13           0 days 00:05:10  \n",
       "21                    666.0    13 days 23:53:13          13 days 21:18:18  "
      ]
     },
     "execution_count": 344,
     "metadata": {},
     "output_type": "execute_result"
    }
   ],
   "source": [
    "creator_sessions.loc[creator_sessions.user_id == 37824662]"
   ]
  },
  {
   "cell_type": "code",
   "execution_count": null,
   "id": "44feacd5",
   "metadata": {},
   "outputs": [],
   "source": [
    "#correct calculation so time to first and time to first and time to last are also considered time not logged it, \n",
    "#maybe check date they entered the platform "
   ]
  },
  {
   "cell_type": "code",
   "execution_count": null,
   "id": "32423d3d",
   "metadata": {},
   "outputs": [],
   "source": []
  }
 ],
 "metadata": {
  "kernelspec": {
   "display_name": "Python 3 (ipykernel)",
   "language": "python",
   "name": "python3"
  },
  "language_info": {
   "codemirror_mode": {
    "name": "ipython",
    "version": 3
   },
   "file_extension": ".py",
   "mimetype": "text/x-python",
   "name": "python",
   "nbconvert_exporter": "python",
   "pygments_lexer": "ipython3",
   "version": "3.8.2"
  }
 },
 "nbformat": 4,
 "nbformat_minor": 5
}
