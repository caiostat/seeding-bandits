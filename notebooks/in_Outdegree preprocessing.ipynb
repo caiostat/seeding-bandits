{
 "cells": [
  {
   "cell_type": "code",
   "execution_count": 9,
   "id": "f8654a52",
   "metadata": {},
   "outputs": [],
   "source": [
    "import sys  \n",
    "sys.path.insert(0, '/Users/caiorego/Desktop/BDS/RA/Seeding-Bandits/')\n",
    "import numpy as np\n",
    "path_dir = r\"/Users/../Volumes/Affiliations/\""
   ]
  },
  {
   "cell_type": "code",
   "execution_count": 10,
   "id": "674ce717",
   "metadata": {},
   "outputs": [],
   "source": [
    "import pickle as pkl\n",
    "import dask\n",
    "import dask.dataframe as dd"
   ]
  },
  {
   "cell_type": "code",
   "execution_count": 11,
   "id": "37924411",
   "metadata": {},
   "outputs": [],
   "source": [
    "import sys  \n",
    "sys.path.insert(0, '/Users/caiorego/Desktop/BDS/RA/Seeding-Bandits/')\n",
    "import numpy as np\n",
    "import src.utils\n",
    "from src.utils import import_dta, import_tracks_dta, successful_creators_followers,\\\n",
    "gen_active_relations, get_fan_interactions_per_week, calculate_avg_monthly_valence,\\\n",
    "gen_active_relations_prob, get_fan_interactions_per_week_prob, stripplot_prob,\\\n",
    "reaction_probability, follower_list, filter_quantile, sample_creators_music,\\\n",
    "gen_outbound_creators\n",
    "import datetime\n",
    "from datetime import datetime\n",
    "import pandas as pd\n",
    "import seaborn as sns\n",
    "import matplotlib.pyplot as plt\n",
    "from scipy.stats import mstats\n",
    "pd.plotting.register_matplotlib_converters()\n",
    "\n",
    "import src.probability_utils\n",
    "from src.probability_utils import volume_analysis, valence_analysis\n",
    "import math\n",
    "import matplotlib.ticker as plticker\n",
    "from scipy.interpolate import make_interp_spline, BSpline\n",
    "import seaborn as sns\n",
    "from numpy import random\n",
    "from tabulate import tabulate\n",
    "from IPython.display import display\n",
    "from tqdm import tqdm\n",
    "import os"
   ]
  },
  {
   "cell_type": "code",
   "execution_count": 12,
   "id": "0c9f61ff",
   "metadata": {},
   "outputs": [],
   "source": [
    "def import_dta(path_dir, path_or_buffer):\n",
    "    \"\"\"Imports and parsers dta data, string timestamp is converted to datatime.datetime format\"\"\"\n",
    "    data = pd.read_stata(os.sep.join([path_dir, path_or_buffer]))\n",
    "    data[\"created_at\"] = pd.to_datetime(data[\"created_at\"])\n",
    "    print(\"%\" * 10, path_or_buffer, \"%\" * 10)\n",
    "    print(data.shape)\n",
    "    return data\n",
    "\n",
    "def break_big_file(path, file, index_col = None, columns = None):\n",
    "    reader = pd.read_stata(os.sep.join([path, file]), chunksize=20000000, index_col=index_col, columns=columns)\n",
    "    return reader"
   ]
  },
  {
   "cell_type": "code",
   "execution_count": 13,
   "id": "14c29722",
   "metadata": {},
   "outputs": [],
   "source": [
    "reader=pd.read_stata(os.sep.join([r\"/Users/../Volumes/Affiliations/\", \"12sample_1st_deg_affiliations_sent_00.dta\"]),chunksize=1000000)"
   ]
  },
  {
   "cell_type": "code",
   "execution_count": 14,
   "id": "139e7cb6",
   "metadata": {},
   "outputs": [],
   "source": [
    "import warnings\n",
    "warnings.filterwarnings('ignore')"
   ]
  },
  {
   "cell_type": "code",
   "execution_count": null,
   "id": "8d22a26a",
   "metadata": {},
   "outputs": [],
   "source": [
    "df_0_25 = pd.DataFrame()\n",
    "df_26_50 = pd.DataFrame()\n",
    "df_51_75 = pd.DataFrame()\n",
    "df_76_100 = pd.DataFrame()\n",
    "df_101_130 = pd.DataFrame()\n",
    "df_131_160 = pd.DataFrame()\n",
    "\n",
    "i=0\n",
    "for itm in reader:\n",
    "    i = i+1\n",
    "    print(i)\n",
    "    if i <26:\n",
    "        df_0_25 = df_0_25.append(itm)\n",
    "    elif i < 51:\n",
    "        df_26_50 = df_26_50.append(itm)\n",
    "    elif i < 76:\n",
    "        df_51_75 = df_51_75.append(itm)\n",
    "    elif i < 100:\n",
    "        df_76_100 = df_76_100.append(itm)\n",
    "    elif i < 130:\n",
    "        df_101_130 = df_101_130.append(itm)\n",
    "    else:\n",
    "        df_131_160 = df_131_160.append(itm)"
   ]
  },
  {
   "cell_type": "code",
   "execution_count": null,
   "id": "d21d5d54",
   "metadata": {},
   "outputs": [],
   "source": [
    "df_total = pd.concat([df_0_25,df_26_50,df_51_75,df_76_100,df_101_130,df_131_160])"
   ]
  },
  {
   "cell_type": "code",
   "execution_count": null,
   "id": "89671a81",
   "metadata": {},
   "outputs": [],
   "source": [
    "outdegree = df_total.groupby('sender_id').agg(following=('contact_id', pd.Series.nunique))"
   ]
  },
  {
   "cell_type": "code",
   "execution_count": null,
   "id": "f3cd8e55",
   "metadata": {},
   "outputs": [],
   "source": [
    "path_dir = r\"/Users/../Volumes/Raw/\"\n",
    "user_info_2 = import_dta(path_dir, \"12sample_1st_deg_user_infos.dta\");\n",
    "user_info = import_dta(path_dir, \"12sample_user_infos.dta\");"
   ]
  },
  {
   "cell_type": "code",
   "execution_count": null,
   "id": "6b325454",
   "metadata": {},
   "outputs": [],
   "source": [
    "outdegree_info = user_info_2.merge(outdegree, left_on = 'user_id', right_on = 'sender_id', how= 'left')\n",
    "outdegree_info.loc[outdegree_info.following.isnull(), 'following'] = 0 "
   ]
  },
  {
   "cell_type": "code",
   "execution_count": null,
   "id": "9916787b",
   "metadata": {},
   "outputs": [],
   "source": [
    "plt.figure(figsize=(12, 8))\n",
    "sns.histplot(data=outdegree_info, x=\"following\", bins=100, stat = 'density')\\\n",
    ".set(title = 'Distribution of out-degree: density of the number of follows sent.', xlabel = 'Follows Sent');"
   ]
  },
  {
   "cell_type": "code",
   "execution_count": null,
   "id": "da04402d",
   "metadata": {},
   "outputs": [],
   "source": [
    "#plt.figure(figsize=(12, 8))\n",
    "#sns.boxplot(data=outdegree_info, y=\"following\").set(title = Distribution)"
   ]
  },
  {
   "cell_type": "code",
   "execution_count": null,
   "id": "49445535",
   "metadata": {},
   "outputs": [],
   "source": [
    "round(outdegree_info.following.describe(percentiles = [.1, .2, .3, .4, .5, .6, .7, .8, .9]),2)"
   ]
  },
  {
   "cell_type": "code",
   "execution_count": null,
   "id": "9046bdf8",
   "metadata": {},
   "outputs": [],
   "source": [
    "outdegree_info.following.value_counts()"
   ]
  },
  {
   "cell_type": "code",
   "execution_count": null,
   "id": "eda02170",
   "metadata": {},
   "outputs": [],
   "source": [
    "outdegree.shape"
   ]
  },
  {
   "cell_type": "code",
   "execution_count": null,
   "id": "de408e6b",
   "metadata": {},
   "outputs": [],
   "source": [
    "df_list = [df_0_25,df_26_50,df_51_75,df_76_100,df_101_130,df_131_160]"
   ]
  },
  {
   "cell_type": "code",
   "execution_count": null,
   "id": "58a0a550",
   "metadata": {},
   "outputs": [],
   "source": [
    "for i, df in enumerate(df_list):\n",
    "    df.to_pickle('/Users/caiorego/Desktop/BDS/RA/Seeding-Bandits/{}.pkl'.format(i))"
   ]
  },
  {
   "cell_type": "markdown",
   "id": "995730c3",
   "metadata": {},
   "source": [
    "# Indegree"
   ]
  },
  {
   "cell_type": "code",
   "execution_count": 15,
   "id": "98c4082a",
   "metadata": {},
   "outputs": [],
   "source": [
    "def gen_agg_data(reader, j):\n",
    "    i=0\n",
    "    d = {}\n",
    "    for itm in tqdm(reader):\n",
    "        i = i+1\n",
    "        d[str(i)] = itm.reset_index()\n",
    "        d[str(i)]['created_at'] = pd.to_datetime(d[str(i)]['created_at']).dt.floor('d')\n",
    "\n",
    "    print('file ended')\n",
    "    df = pd.concat(d.values(), ignore_index=True)\n",
    "    df = df.groupby([df.contact_id, 'created_at'], as_index = False).size()\n",
    "    #df = dd.from_pandas(df)\n",
    "    df.to_pickle('/Users/caiorego/Desktop/BDS/RA/Seeding-Bandits/indegree/df{}.pkl'.format(j))"
   ]
  },
  {
   "cell_type": "code",
   "execution_count": 18,
   "id": "4f856cba",
   "metadata": {},
   "outputs": [
    {
     "name": "stdout",
     "output_type": "stream",
     "text": [
      "0\n"
     ]
    },
    {
     "name": "stderr",
     "output_type": "stream",
     "text": [
      "10it [03:34, 21.44s/it]\n"
     ]
    },
    {
     "name": "stdout",
     "output_type": "stream",
     "text": [
      "file ended\n",
      "1\n"
     ]
    },
    {
     "name": "stderr",
     "output_type": "stream",
     "text": [
      "10it [03:32, 21.29s/it]\n"
     ]
    },
    {
     "name": "stdout",
     "output_type": "stream",
     "text": [
      "file ended\n",
      "2\n"
     ]
    },
    {
     "name": "stderr",
     "output_type": "stream",
     "text": [
      "10it [03:09, 18.99s/it]\n"
     ]
    },
    {
     "name": "stdout",
     "output_type": "stream",
     "text": [
      "file ended\n",
      "3\n"
     ]
    },
    {
     "name": "stderr",
     "output_type": "stream",
     "text": [
      "10it [03:21, 20.16s/it]\n"
     ]
    },
    {
     "name": "stdout",
     "output_type": "stream",
     "text": [
      "file ended\n",
      "4\n"
     ]
    },
    {
     "name": "stderr",
     "output_type": "stream",
     "text": [
      "10it [03:10, 19.07s/it]\n"
     ]
    },
    {
     "name": "stdout",
     "output_type": "stream",
     "text": [
      "file ended\n",
      "5\n"
     ]
    },
    {
     "name": "stderr",
     "output_type": "stream",
     "text": [
      "10it [03:43, 22.32s/it]\n"
     ]
    },
    {
     "name": "stdout",
     "output_type": "stream",
     "text": [
      "file ended\n",
      "6\n"
     ]
    },
    {
     "name": "stderr",
     "output_type": "stream",
     "text": [
      "9it [04:15, 28.43s/it]\n"
     ]
    },
    {
     "name": "stdout",
     "output_type": "stream",
     "text": [
      "file ended\n",
      "7\n"
     ]
    },
    {
     "name": "stderr",
     "output_type": "stream",
     "text": [
      "9it [04:17, 28.57s/it]\n"
     ]
    },
    {
     "name": "stdout",
     "output_type": "stream",
     "text": [
      "file ended\n",
      "8\n"
     ]
    },
    {
     "name": "stderr",
     "output_type": "stream",
     "text": [
      "9it [04:29, 29.98s/it]\n"
     ]
    },
    {
     "name": "stdout",
     "output_type": "stream",
     "text": [
      "file ended\n",
      "9\n"
     ]
    },
    {
     "name": "stderr",
     "output_type": "stream",
     "text": [
      "1it [00:02,  2.63s/it]\n"
     ]
    },
    {
     "name": "stdout",
     "output_type": "stream",
     "text": [
      "file ended\n"
     ]
    }
   ],
   "source": [
    "path = r\"/Users/../Volumes/Affilitations_received/\"\n",
    "\n",
    "for j in range(0, 10):\n",
    "    print(j)\n",
    "    file = \"12sample_1st_deg_affiliations_received_0{}.dta\".format(j)\n",
    "    gen_agg_data(break_big_file(path, file, 'contact_id', ['contact_id', 'created_at']),j)"
   ]
  },
  {
   "cell_type": "code",
   "execution_count": null,
   "id": "1e6b9572",
   "metadata": {},
   "outputs": [],
   "source": [
    "#preprocess to get rid of all infor before 2013-..."
   ]
  },
  {
   "cell_type": "code",
   "execution_count": null,
   "id": "26eddcba",
   "metadata": {},
   "outputs": [],
   "source": [
    "def import_indegree_dask():\n",
    "    df = pd.read_pickle('/Users/caiorego/Desktop/BDS/RA/Seeding-Bandits/indegree/df0.pkl')\n",
    "    df1 = pd.read_pickle('/Users/caiorego/Desktop/BDS/RA/Seeding-Bandits/indegree/df1.pkl')\n",
    "    df2 = pd.read_pickle('/Users/caiorego/Desktop/BDS/RA/Seeding-Bandits/indegree/df2.pkl')\n",
    "    df3 = pd.read_pickle('/Users/caiorego/Desktop/BDS/RA/Seeding-Bandits/indegree/df3.pkl')\n",
    "    df4 = pd.read_pickle('/Users/caiorego/Desktop/BDS/RA/Seeding-Bandits/indegree/df4.pkl')\n",
    "    df5 = pd.read_pickle('/Users/caiorego/Desktop/BDS/RA/Seeding-Bandits/indegree/df5.pkl')\n",
    "    df6 = pd.read_pickle('/Users/caiorego/Desktop/BDS/RA/Seeding-Bandits/indegree/df6.pkl')\n",
    "    df7 = pd.read_pickle('/Users/caiorego/Desktop/BDS/RA/Seeding-Bandits/indegree/df7.pkl')\n",
    "    df8 = pd.read_pickle('/Users/caiorego/Desktop/BDS/RA/Seeding-Bandits/indegree/df8.pkl')\n",
    "    df9 = pd.read_pickle('/Users/caiorego/Desktop/BDS/RA/Seeding-Bandits/indegree/df9.pkl')\n",
    "    \n",
    "    ddf = dd.from_pandas(df, npartitions = 3)\n",
    "    ddf1 = dd.from_pandas(df1, npartitions = 3)\n",
    "    ddf2 = dd.from_pandas(df2, npartitions = 3)\n",
    "    ddf3 = dd.from_pandas(df3, npartitions = 3)\n",
    "    ddf4 = dd.from_pandas(df4, npartitions = 3)\n",
    "    ddf5 = dd.from_pandas(df5, npartitions = 3)\n",
    "    ddf6 = dd.from_pandas(df6, npartitions = 3)\n",
    "    ddf7 = dd.from_pandas(df7, npartitions = 3)\n",
    "    ddf8 = dd.from_pandas(df8, npartitions = 3)\n",
    "    ddf9 = dd.from_pandas(df9, npartitions = 3)\n",
    "    concatdf = dd.multi.concat([ddf,ddf1,ddf2,ddf3,ddf4,ddf5,ddf6,ddf7,ddf8,ddf9])\n",
    "    concatdf = concatdf.compute()\n",
    "    return concatdf"
   ]
  },
  {
   "cell_type": "code",
   "execution_count": null,
   "id": "a5508f29",
   "metadata": {},
   "outputs": [],
   "source": [
    "len(concatdf)"
   ]
  },
  {
   "cell_type": "code",
   "execution_count": null,
   "id": "d790a3b6",
   "metadata": {},
   "outputs": [],
   "source": [
    "path_dir = r\"/Users/../Volumes/Raw/\"\n",
    "tracks = import_tracks_dta(path_dir, \"12sample_tracks.dta\");"
   ]
  },
  {
   "cell_type": "code",
   "execution_count": null,
   "id": "46003e5d",
   "metadata": {},
   "outputs": [],
   "source": [
    "mask = (tracks.track_available == 1) & (tracks.public == 't')\n",
    "creator_ids = tracks[mask].user_id.unique()\n",
    "\n",
    "creators = tracks[(tracks.track_available == 1) & (tracks.public == 't')]"
   ]
  },
  {
   "cell_type": "code",
   "execution_count": null,
   "id": "a78021e8",
   "metadata": {},
   "outputs": [],
   "source": [
    "path_dir = r\"/Users/../Volumes/Raw/\"\n",
    "\n",
    "shares_received = import_dta(path_dir, \"12sample_reposts_received.dta\");\n",
    "follows_received = import_dta(path_dir, \"12sample_affiliations_received.dta\");"
   ]
  },
  {
   "cell_type": "code",
   "execution_count": null,
   "id": "d6922153",
   "metadata": {},
   "outputs": [],
   "source": [
    "# List of users that share the content of at least one creators\n",
    "alters_shared_id = shares_received.loc[shares_received.owner_id.isin(creators.user_id.unique())].reposter_id.unique()"
   ]
  },
  {
   "cell_type": "code",
   "execution_count": null,
   "id": "0cd34dae",
   "metadata": {},
   "outputs": [],
   "source": [
    "comments_received_35k = import_dta(path_dir, \"12sample_comments_received.dta\");\n",
    "shares_received_35k = import_dta(path_dir, \"12sample_reposts_received.dta\");\n",
    "likes_received_35k = import_dta(path_dir, \"12sample_favoritings_received.dta\");\n",
    "messages_received_35k = import_dta(path_dir, \"12sample_messages_received.dta\");\n",
    "\n",
    "if 'song_id' in shares_received_35k:\n",
    "        shares_received_35k.drop(columns=[\"song_id\"])\n",
    "shares_received_35k = shares_received_35k[['reposter_id', \"owner_id\", 'created_at']]\n",
    "shares_received_35k['outbound_activity'] = 'share'\n",
    "shares_received_35k.columns = ['fan_id', 'user_id', 'date_sent', 'outbound_activity']\n",
    "\n",
    "if 'track_id' in likes_received_35k:\n",
    "        likes_received_35k = likes_received_35k.drop(columns=[\"track_id\"])\n",
    "likes_received_35k['outbound_activity'] = 'like'\n",
    "likes_received_35k.columns = ['fan_id', 'user_id', 'date_sent', 'outbound_activity']\n",
    "\n",
    "if 'track_id' in comments_received_35k:\n",
    "        comments_received_35k = comments_received_35k.drop(columns=[\"track_id\"])\n",
    "comments_received_35k['outbound_activity'] = 'comment'\n",
    "comments_received_35k.columns = ['fan_id', 'user_id', 'date_sent', 'outbound_activity']\n",
    "\n",
    "messages_received_35k[\"outbound_activity\"] = 'message'\n",
    "messages_received_35k.columns = ['user_id', 'fan_id', 'date_sent', 'outbound_activity']\n",
    "\n",
    "user_activity_data_35k = pd.concat([shares_received_35k, likes_received_35k, comments_received_35k, messages_received_35k])"
   ]
  },
  {
   "cell_type": "code",
   "execution_count": null,
   "id": "58de52fc",
   "metadata": {},
   "outputs": [],
   "source": [
    "# List of users that sent at least one action to creators\n",
    "alters_acted_id = user_activity_data_35k.loc[user_activity_data_35k.user_id.isin(creators.user_id.unique())].fan_id.unique()\n",
    "\n",
    "\n",
    "# List of users that sent at least one follow to creators\n",
    "alters_follow_id = follows_received.loc[follows_received.contact_id.isin(creators.user_id.unique())].fan_id.unique()"
   ]
  },
  {
   "cell_type": "code",
   "execution_count": null,
   "id": "139a7cf8",
   "metadata": {},
   "outputs": [],
   "source": [
    "def gen_agg_data_2(reader, j, filter_list, save_path):\n",
    "    i=0\n",
    "    d = {}\n",
    "    for itm in tqdm(reader):\n",
    "        i = i+1\n",
    "        d[str(i)] = itm.reset_index()\n",
    "        d[str(i)] =  d[str(i)].loc[d[str(i)].contact_id.isin(filter_list)]\n",
    "        d[str(i)]['created_at'] = pd.to_datetime(d[str(i)]['created_at']).dt.floor('d')\n",
    "\n",
    "    print('file ended')\n",
    "    df = pd.concat(d.values(), ignore_index=True)\n",
    "    print('concatenation done')\n",
    "    #df.sort_values('created_at', inplace=True)\n",
    "    #print('sorting done')\n",
    "    df = df.groupby(['contact_id'])['fan_id'].apply(np.array)\n",
    "    print('list done')\n",
    "    print(sys.getsizeof(df))\n",
    "    df.to_pickle('{}/df{}.pkl'.format(save_path, j))"
   ]
  },
  {
   "cell_type": "code",
   "execution_count": null,
   "id": "35a95afe",
   "metadata": {},
   "outputs": [],
   "source": [
    "!mkdir /Users/caiorego/Desktop/BDS/RA/Seeding-Bandits/indegree/follower_list/user_followers/follows"
   ]
  },
  {
   "cell_type": "code",
   "execution_count": null,
   "id": "158e458a",
   "metadata": {},
   "outputs": [],
   "source": [
    "path = r\"/Users/../Volumes/Affilitations_received/\"\n",
    "save_path = '/Users/caiorego/Desktop/BDS/RA/Seeding-Bandits/indegree/follower_list'\n",
    "f = gen_agg_data_2\n",
    "#f = gen_agg_data_dask\n",
    "\n",
    "for j in tqdm(range(0, 10)):\n",
    "    file = \"12sample_1st_deg_affiliations_received_0{}.dta\".format(j)\n",
    "    f(break_big_file(path, file, 'contact_id', ['contact_id', 'fan_id', 'created_at']),j, alters_shared_id, save_path)"
   ]
  },
  {
   "cell_type": "code",
   "execution_count": null,
   "id": "f3680d35",
   "metadata": {},
   "outputs": [],
   "source": [
    "path = r\"/Users/../Volumes/Affilitations_received/\"\n",
    "save_path = '/Users/caiorego/Desktop/BDS/RA/Seeding-Bandits/indegree/follower_list/user_followers/actions'\n",
    "f = gen_agg_data_2\n",
    "#f = gen_agg_data_dask\n",
    "\n",
    "for j in tqdm(range(0, 10)):\n",
    "    file = \"12sample_1st_deg_affiliations_received_0{}.dta\".format(j)\n",
    "    f(break_big_file(path, file, 'contact_id', ['contact_id', 'fan_id', 'created_at']),j, alters_acted_id, save_path)"
   ]
  },
  {
   "cell_type": "code",
   "execution_count": null,
   "id": "a5bee377",
   "metadata": {},
   "outputs": [],
   "source": [
    "path = r\"/Users/../Volumes/Affilitations_received/\"\n",
    "save_path = '/Users/caiorego/Desktop/BDS/RA/Seeding-Bandits/indegree/follower_list/user_followers/follows'\n",
    "f = gen_agg_data_2\n",
    "#f = gen_agg_data_dask\n",
    "\n",
    "for j in tqdm(range(0, 10)):\n",
    "    file = \"12sample_1st_deg_affiliations_received_0{}.dta\".format(j)\n",
    "    f(break_big_file(path, file, 'contact_id', ['contact_id', 'fan_id', 'created_at']),j, alters_follow_id, save_path)"
   ]
  },
  {
   "cell_type": "code",
   "execution_count": null,
   "id": "bec1ea84",
   "metadata": {},
   "outputs": [],
   "source": [
    "def import_indegree_dask_list():\n",
    "    df = pd.read_pickle('/Users/caiorego/Desktop/BDS/RA/Seeding-Bandits/indegree/follower_list/df0.pkl')\n",
    "    print('df done')\n",
    "    \n",
    "    df1 = pd.read_pickle('/Users/caiorego/Desktop/BDS/RA/Seeding-Bandits/indegree/follower_list/df1.pkl')\n",
    "    \n",
    "    print('df1 done')\n",
    "    df2 = pd.read_pickle('/Users/caiorego/Desktop/BDS/RA/Seeding-Bandits/indegree/follower_list/df2.pkl')\n",
    "    print('df2 done')\n",
    "    \n",
    "    df3 = pd.read_pickle('/Users/caiorego/Desktop/BDS/RA/Seeding-Bandits/indegree/follower_list/df3.pkl')\n",
    "    print('df3 done')\n",
    "    \n",
    "    df4 = pd.read_pickle('/Users/caiorego/Desktop/BDS/RA/Seeding-Bandits/indegree/follower_list/df4.pkl')\n",
    "    print('df4 done')\n",
    "    \n",
    "    df5 = pd.read_pickle('/Users/caiorego/Desktop/BDS/RA/Seeding-Bandits/indegree/follower_list/df5.pkl')\n",
    "    print('df5 done')\n",
    "    \n",
    "    df6 = pd.read_pickle('/Users/caiorego/Desktop/BDS/RA/Seeding-Bandits/indegree/follower_list/df6.pkl')\n",
    "    print('df6 done')\n",
    "    \n",
    "    df7 = pd.read_pickle('/Users/caiorego/Desktop/BDS/RA/Seeding-Bandits/indegree/follower_list/df7.pkl')\n",
    "    print('df7 done')\n",
    "    \n",
    "    df8 = pd.read_pickle('/Users/caiorego/Desktop/BDS/RA/Seeding-Bandits/indegree/follower_list/df8.pkl')\n",
    "    print('df8 done')\n",
    "    \n",
    "    df9 = pd.read_pickle('/Users/caiorego/Desktop/BDS/RA/Seeding-Bandits/indegree/follower_list/df9.pkl')\n",
    "    print('Imports done')\n",
    "    \n",
    "    \n",
    "    print('Dask done')\n",
    "    concatdf = pd.concat([df,df1,df2,df3,df4,df5,df6,df7,df8,df9])\n",
    "    return concatdf"
   ]
  },
  {
   "cell_type": "code",
   "execution_count": null,
   "id": "55890f3e",
   "metadata": {},
   "outputs": [],
   "source": [
    "df = import_indegree_dask_list()\n",
    "df = df.groupby(df.index).apply(np.array)\n",
    "data = df.apply(lambda x: np.concatenate(x))"
   ]
  },
  {
   "cell_type": "code",
   "execution_count": null,
   "id": "2e0eccaa",
   "metadata": {},
   "outputs": [],
   "source": [
    "data.to_pickle('/Users/caiorego/Desktop/BDS/RA/Seeding-Bandits/Data/alter_follower_lists.pkl')"
   ]
  },
  {
   "cell_type": "code",
   "execution_count": null,
   "id": "366416cc",
   "metadata": {},
   "outputs": [],
   "source": [
    "data"
   ]
  },
  {
   "cell_type": "code",
   "execution_count": null,
   "id": "c9363255",
   "metadata": {},
   "outputs": [],
   "source": [
    "indegree = indegree.compute()"
   ]
  },
  {
   "cell_type": "code",
   "execution_count": null,
   "id": "9b4da572",
   "metadata": {},
   "outputs": [],
   "source": [
    "fan_id_list = indegree.fan_id.unique()"
   ]
  },
  {
   "cell_type": "code",
   "execution_count": null,
   "id": "882a475b",
   "metadata": {},
   "outputs": [],
   "source": [
    "sum(shares_received.loc[shares_received.owner_id.isin(creators.user_id.unique())].reposter_id.isin(fan_id_list))"
   ]
  },
  {
   "cell_type": "code",
   "execution_count": null,
   "id": "56872705",
   "metadata": {},
   "outputs": [],
   "source": [
    "shares_received.loc[shares_received.owner_id.isin(creators.user_id.unique())].shape"
   ]
  },
  {
   "cell_type": "code",
   "execution_count": null,
   "id": "f9129be8",
   "metadata": {},
   "outputs": [],
   "source": [
    "df.index.nunique()"
   ]
  },
  {
   "cell_type": "code",
   "execution_count": null,
   "id": "d1f805a4",
   "metadata": {},
   "outputs": [],
   "source": [
    "data = import_indegree_dask()"
   ]
  },
  {
   "cell_type": "code",
   "execution_count": null,
   "id": "35d6e9bf",
   "metadata": {},
   "outputs": [],
   "source": [
    "data"
   ]
  },
  {
   "cell_type": "code",
   "execution_count": null,
   "id": "225c28be",
   "metadata": {},
   "outputs": [],
   "source": [
    "sum(shares_received.loc[shares_received.owner_id.isin(creators.user_id.unique())].reposter_id.isin(data.contact_id.unique()))"
   ]
  },
  {
   "cell_type": "code",
   "execution_count": null,
   "id": "8670377b",
   "metadata": {},
   "outputs": [],
   "source": [
    "shares_received.loc[shares_received.owner_id.isin(creators.user_id.unique())].reposter_id.nunique()"
   ]
  },
  {
   "cell_type": "code",
   "execution_count": null,
   "id": "f95115fc",
   "metadata": {},
   "outputs": [],
   "source": [
    "sum(shares_received.loc[shares_received.owner_id.isin(creators.user_id.unique())].reposter_id.isin(user_info.user_id.unique()))"
   ]
  },
  {
   "cell_type": "code",
   "execution_count": null,
   "id": "ac93f85a",
   "metadata": {},
   "outputs": [],
   "source": [
    "def import_indegree_dask_list_2(path = '/Users/caiorego/Desktop/BDS/RA/Seeding-Bandits/indegree/follower_list/user_followers/follows/'):\n",
    "    df = pd.read_pickle('{}df0.pkl'.format(path))\n",
    "    print('df done')\n",
    "    \n",
    "    df1 = pd.read_pickle('{}df1.pkl'.format(path))\n",
    "    \n",
    "    print('df1 done')\n",
    "    \n",
    "    df2 = pd.read_pickle('{}df2.pkl'.format(path))\n",
    "    print('df2 done')\n",
    "    \n",
    "    df3 = pd.read_pickle('{}df3.pkl'.format(path))\n",
    "    print('df3 done')\n",
    "    \n",
    "    df4 = pd.read_pickle('{}df4.pkl'.format(path))\n",
    "    print('df4 done')\n",
    "    \n",
    "    df5 = pd.read_pickle('{}df5.pkl'.format(path))\n",
    "    print('df5 done')\n",
    "    \n",
    "    df6 = pd.read_pickle('{}df6.pkl'.format(path))\n",
    "    print('df6 done')\n",
    "    \n",
    "    df7 = pd.read_pickle('{}df7.pkl'.format(path))\n",
    "    print('df7 done')\n",
    "    \n",
    "    df8 = pd.read_pickle('{}df8.pkl'.format(path))\n",
    "    print('df8 done')\n",
    "    \n",
    "    df9 = pd.read_pickle('{}df9.pkl'.format(path))\n",
    "    print('Imports done')\n",
    "    \n",
    "    \n",
    "    print('Dask done')\n",
    "    concatdf = pd.concat([df,df1,df2,df3,df4,df5,df6,df7,df8,df9])\n",
    "    return concatdf"
   ]
  },
  {
   "cell_type": "code",
   "execution_count": null,
   "id": "383a6b90",
   "metadata": {},
   "outputs": [],
   "source": [
    "df = import_indegree_dask_list_2()\n",
    "df = df.groupby(df.index).apply(np.array)\n",
    "data = df.apply(lambda x: np.concatenate(x))\n",
    "\n",
    "data.to_pickle('/Users/caiorego/Desktop/BDS/RA/Seeding-Bandits/Data/alter_follower_lists_3.pkl')"
   ]
  },
  {
   "cell_type": "code",
   "execution_count": null,
   "id": "750de19e",
   "metadata": {},
   "outputs": [],
   "source": []
  },
  {
   "cell_type": "markdown",
   "id": "bfd102b9",
   "metadata": {},
   "source": [
    "# Follows received from alters of successful creator"
   ]
  },
  {
   "cell_type": "code",
   "execution_count": null,
   "id": "483ca647",
   "metadata": {},
   "outputs": [],
   "source": [
    "with open(\"/Users/caiorego/Desktop/BDS/RA/Seeding-Bandits/Data/followed_successful_list\", \"rb\") as fp:   # Unpickling\n",
    "     successful_list = pkl.load(fp)"
   ]
  },
  {
   "cell_type": "code",
   "execution_count": null,
   "id": "cf4d4ca5",
   "metadata": {},
   "outputs": [],
   "source": [
    "def gen_agg_data_3(reader, j, filter_list, save_path):\n",
    "    i=0\n",
    "    d = {}\n",
    "    for itm in tqdm(reader):\n",
    "        i = i+1\n",
    "        d[str(i)] = itm.reset_index()\n",
    "        d[str(i)] =  d[str(i)].loc[d[str(i)].contact_id.isin(filter_list)]\n",
    "        d[str(i)]['created_at'] = pd.to_datetime(d[str(i)]['created_at']).dt.floor('d')\n",
    "\n",
    "    print('file ended')\n",
    "    df = pd.concat(d.values(), ignore_index=True)\n",
    "    print('concatenation done')\n",
    "    #df.sort_values('created_at', inplace=True)\n",
    "    #print('sorting done')\n",
    "    print('list done')\n",
    "    print(sys.getsizeof(df))\n",
    "    df.to_pickle('{}/df{}.pkl'.format(save_path, j))"
   ]
  },
  {
   "cell_type": "code",
   "execution_count": null,
   "id": "9dd3a452",
   "metadata": {},
   "outputs": [],
   "source": [
    "path = r\"/Users/../Volumes/Affilitations_received/\"\n",
    "save_path = '/Users/caiorego/Desktop/BDS/RA/Seeding-Bandits/indegree/follower_df'\n",
    "f = gen_agg_data_3\n",
    "#f = gen_agg_data_dask\n",
    "\n",
    "for j in tqdm(range(0, 10)):\n",
    "    file = \"12sample_1st_deg_affiliations_received_0{}.dta\".format(j)\n",
    "    f(break_big_file(path, file, 'contact_id', ['contact_id', 'fan_id', 'created_at']),j, successful_list, save_path)"
   ]
  },
  {
   "cell_type": "code",
   "execution_count": null,
   "id": "6629dc3c",
   "metadata": {},
   "outputs": [],
   "source": [
    "df = import_indegree_dask_list_2(path = '/Users/caiorego/Desktop/BDS/RA/Seeding-Bandits/indegree/follower_df/')\n",
    "\n",
    "df.to_pickle('/Users/caiorego/Desktop/BDS/RA/Seeding-Bandits/Data/follows_received_by_alters_of_successful_creators.pkl')"
   ]
  },
  {
   "cell_type": "code",
   "execution_count": null,
   "id": "4a122361",
   "metadata": {},
   "outputs": [],
   "source": [
    "df.shape"
   ]
  },
  {
   "cell_type": "markdown",
   "id": "7bb6b454",
   "metadata": {},
   "source": [
    "# Recipe:"
   ]
  },
  {
   "cell_type": "markdown",
   "id": "07295ae1",
   "metadata": {},
   "source": [
    "#1 Loop over partitions:\n",
    "\n",
    "- 1.1 (Filter out users that did not received actions from successful creators)\n",
    "\n",
    "- 1.2 Aggregate all followers before march 2013\n",
    "\n",
    "- 1.3 Merge aggregated data with the non-aggregated data (post march 2012)\n"
   ]
  },
  {
   "cell_type": "code",
   "execution_count": 5,
   "id": "791cda53",
   "metadata": {},
   "outputs": [],
   "source": [
    "with open('/Users/caiorego/Desktop/BDS/RA/Seeding-Bandits/Data/users_received_actions_from_successful.pkl', \"rb\") as fp:   # Unpickling\n",
    "     mab_successful_list = pkl.load(fp)"
   ]
  },
  {
   "cell_type": "code",
   "execution_count": null,
   "id": "4f7e7223",
   "metadata": {},
   "outputs": [],
   "source": [
    "path = r\"/Users/../Volumes/Affilitations_received/\"\n",
    "save_path = r\"/Users/caiorego/Desktop/BDS/RA/Seeding-Bandits/indegree/follower_list/user_followers/MAB_pre_aggregations/\"\n",
    "filter_list = mab_successful_list\n",
    "\n",
    "for j in range(0, 10):\n",
    "    file = \"12sample_1st_deg_affiliations_received_0{}.dta\".format(j)\n",
    "    gen_agg_data_mab(break_big_file(path, file, 'contact_id', ['contact_id', 'fan_id', 'created_at']),j, filter_list, save_path)"
   ]
  },
  {
   "cell_type": "code",
   "execution_count": null,
   "id": "db943653",
   "metadata": {},
   "outputs": [],
   "source": [
    "df = pd.read_pickle('/Users/caiorego/Desktop/BDS/RA/Seeding-Bandits/indegree/follower_list/user_followers/MAB_pre_aggregations/df0.pkl'.format(path))"
   ]
  },
  {
   "cell_type": "code",
   "execution_count": null,
   "id": "9d8ab53b",
   "metadata": {},
   "outputs": [],
   "source": [
    "!ls /Users/../Volumes/Affilitations_received/"
   ]
  },
  {
   "cell_type": "markdown",
   "id": "3b06bd7c",
   "metadata": {},
   "source": [
    "######################################################################################################################"
   ]
  },
  {
   "cell_type": "markdown",
   "id": "d2c6d5b5",
   "metadata": {},
   "source": [
    "order mab_successful:\n",
    "split mab_successful_list in 50 lists:\n",
    "For every partition (10 in folder):\n",
    "-create/update 50 dataframes with data pra the users in that list"
   ]
  },
  {
   "cell_type": "code",
   "execution_count": 6,
   "id": "34cfa8e1",
   "metadata": {},
   "outputs": [],
   "source": [
    "my_list = mab_successful_list\n",
    "my_list.sort()\n",
    "\n",
    "chunk_size = len(my_list) // 50  # Determine the size of each smaller chunk\n",
    "chunk_sizes = [int(chunk_size/4)] * 10 + [int(chunk_size/3)] * 10 + [chunk_size] * 10 + [int(chunk_size*5/3)] * 10 + [int(chunk_size*7/4)] * 9 + [int(chunk_size*7/4)+39]\n",
    "\n",
    "smaller_lists = []\n",
    "\n",
    "# Create smaller lists except the last one\n",
    "start_index = 0\n",
    "for size in chunk_sizes:\n",
    "    end_index = start_index + int(size)\n",
    "    sublist = my_list[start_index:end_index]\n",
    "    sublist_name = f\"{my_list[start_index]}_{my_list[end_index-1]}\"\n",
    "    smaller_lists.append((sublist, sublist_name))\n",
    "    start_index = end_index"
   ]
  },
  {
   "cell_type": "code",
   "execution_count": 7,
   "id": "e239595e",
   "metadata": {},
   "outputs": [],
   "source": [
    "# def gen_agg_data_mab(reader, j, filter_list, smaller_lists, save_path, e):\n",
    "#     i=0\n",
    "#     d = {}\n",
    "#     for itm in tqdm(reader):\n",
    "#         i = i+1\n",
    "#         d[str(i)] = itm.reset_index()\n",
    "#         d[str(i)] = d[str(i)].loc[d[str(i)].contact_id.isin(filter_list)]\n",
    "#         d[str(i)]['created_at'] = pd.to_datetime(d[str(i)]['created_at']).dt.normalize()\n",
    "\n",
    "#     print('file ended')\n",
    "    \n",
    "#     df = pd.concat(d.values(), ignore_index=True)\n",
    "#     df.sort_values(['contact_id','created_at'], inplace=True)\n",
    "    \n",
    "#     for sublist in smaller_lists:\n",
    "#         e[str(sublist[1])] = pd.concat([e[str(sublist[1])],\n",
    "#                                    df.loc[(df.contact_id>=int(sublist[1][:sublist[1].find('_')]))&\n",
    "#                                   (df.contact_id<=int(sublist[1][sublist[1].find('_')+1:]))]])\n",
    "#         e[str(sublist[1])].to_pickle('{}/{}.pkl'.format(save_path,str(sublist[1])))\n",
    "    "
   ]
  },
  {
   "cell_type": "code",
   "execution_count": 7,
   "id": "123ff447",
   "metadata": {},
   "outputs": [],
   "source": [
    "def gen_agg_data_mab(reader, j, filter_list, smaller_lists, save_path, dict_e):\n",
    "    i=0\n",
    "    d = {}\n",
    "    for itm in tqdm(reader):\n",
    "        i = i+1\n",
    "        d[str(i)] = itm.reset_index()\n",
    "        d[str(i)] = d[str(i)].loc[d[str(i)].contact_id.isin(filter_list)]\n",
    "        d[str(i)]['created_at'] = pd.to_datetime(d[str(i)]['created_at']).dt.normalize()\n",
    "\n",
    "    print('file ended')\n",
    "    \n",
    "    df = pd.concat(d.values(), ignore_index=True)\n",
    "    df.sort_values(['contact_id','created_at'], inplace=True)\n",
    "    \n",
    "    for sublist in smaller_lists:\n",
    "        if j >0:\n",
    "            e = dict_e\n",
    "            e[str(sublist[1])] = pd.read_pickle('{}/{}.pkl'.format(save_path,str(sublist[1]))) \n",
    "        else:\n",
    "            e = dict_e\n",
    "        e[str(sublist[1])] = pd.concat([e[str(sublist[1])],\n",
    "                                   df.loc[(df.contact_id>=int(sublist[1][:sublist[1].find('_')]))&\n",
    "                                  (df.contact_id<=int(sublist[1][sublist[1].find('_')+1:]))]])\n",
    "        e[str(sublist[1])].to_pickle('{}/{}.pkl'.format(save_path,str(sublist[1])))\n",
    "        del e[str(sublist[1])]"
   ]
  },
  {
   "cell_type": "code",
   "execution_count": 8,
   "id": "f9724dcb",
   "metadata": {},
   "outputs": [
    {
     "name": "stderr",
     "output_type": "stream",
     "text": [
      "9it [03:54, 26.05s/it]\n"
     ]
    },
    {
     "name": "stdout",
     "output_type": "stream",
     "text": [
      "file ended\n",
      "6-th file processed.\n"
     ]
    },
    {
     "name": "stderr",
     "output_type": "stream",
     "text": [
      "9it [04:09, 27.77s/it]\n"
     ]
    },
    {
     "name": "stdout",
     "output_type": "stream",
     "text": [
      "file ended\n",
      "7-th file processed.\n"
     ]
    },
    {
     "name": "stderr",
     "output_type": "stream",
     "text": [
      "9it [03:46, 25.12s/it]\n"
     ]
    },
    {
     "name": "stdout",
     "output_type": "stream",
     "text": [
      "file ended\n",
      "8-th file processed.\n"
     ]
    },
    {
     "name": "stderr",
     "output_type": "stream",
     "text": [
      "1it [00:02,  2.45s/it]\n"
     ]
    },
    {
     "name": "stdout",
     "output_type": "stream",
     "text": [
      "file ended\n",
      "9-th file processed.\n"
     ]
    }
   ],
   "source": [
    "path = r\"/Users/../Volumes/Affilitations_received/\"\n",
    "save_path = r\"/Users/caiorego/Desktop/BDS/RA/Seeding-Bandits/indegree/follower_list/user_followers/MAB_pre_aggregations/\"\n",
    "\n",
    "e={}\n",
    "for sublist in smaller_lists:\n",
    "    e[str(sublist[1])] = None\n",
    "\n",
    "for j in range(6, 10):\n",
    "    file = \"12sample_1st_deg_affiliations_received_0{}.dta\".format(j)\n",
    "    gen_agg_data_mab(break_big_file(path, file, 'contact_id', ['contact_id', 'fan_id', 'created_at']),j, mab_successful_list,smaller_lists, save_path, e)\n",
    "    print('{}-th file processed.'.format(j))"
   ]
  },
  {
   "cell_type": "code",
   "execution_count": null,
   "id": "77b0015f",
   "metadata": {},
   "outputs": [],
   "source": []
  }
 ],
 "metadata": {
  "kernelspec": {
   "display_name": "Python 3 (ipykernel)",
   "language": "python",
   "name": "python3"
  },
  "language_info": {
   "codemirror_mode": {
    "name": "ipython",
    "version": 3
   },
   "file_extension": ".py",
   "mimetype": "text/x-python",
   "name": "python",
   "nbconvert_exporter": "python",
   "pygments_lexer": "ipython3",
   "version": "3.8.2"
  }
 },
 "nbformat": 4,
 "nbformat_minor": 5
}
